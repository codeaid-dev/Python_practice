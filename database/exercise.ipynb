{
 "cells": [
  {
   "attachments": {},
   "cell_type": "markdown",
   "metadata": {},
   "source": [
    "# SQLite"
   ]
  },
  {
   "cell_type": "code",
   "execution_count": null,
   "metadata": {},
   "outputs": [],
   "source": [
    "import sqlite3\n",
    "\n",
    "try:\n",
    "    conn = sqlite3.connect('sample.db')\n",
    "    cur = conn.cursor()\n",
    "except sqlite3.Error as e:\n",
    "    print(e)\n",
    "else:\n",
    "    conn.close()"
   ]
  },
  {
   "cell_type": "code",
   "execution_count": null,
   "metadata": {},
   "outputs": [],
   "source": [
    "import sqlite3\n",
    "from contextlib import closing\n",
    "\n",
    "try:\n",
    "    with closing(sqlite3.connect('sample.db')) as conn:\n",
    "        cur = conn.cursor()\n",
    "except sqlite3.Error as e:\n",
    "    print(e)"
   ]
  },
  {
   "cell_type": "code",
   "execution_count": null,
   "metadata": {},
   "outputs": [],
   "source": [
    "import sqlite3\n",
    "\n",
    "try:\n",
    "    conn = sqlite3.connect('sample.db')\n",
    "    cur = conn.cursor()\n",
    "    cur.execute('''\n",
    "                CREATE TABLE users (\n",
    "                    id INTEGER PRIMARY KEY AUTOINCREMENT,\n",
    "                    name TEXT NOT NULL,\n",
    "                    mail TEXT NOT NULL,\n",
    "                    created DATETIME DEFAULT(datetime(CURRENT_TIMESTAMP,'localtime'))\n",
    "                    )''')\n",
    "except sqlite3.Error as e:\n",
    "    print(e)\n",
    "finally:\n",
    "    if conn:\n",
    "        conn.close()"
   ]
  },
  {
   "cell_type": "code",
   "execution_count": null,
   "metadata": {},
   "outputs": [],
   "source": [
    "import sqlite3\n",
    "from contextlib import closing\n",
    "\n",
    "try:\n",
    "    with closing(sqlite3.connect('sample.db')) as conn:\n",
    "        cur = conn.cursor()\n",
    "        cur.execute('''CREATE TABLE users (\n",
    "                    id INTEGER PRIMARY KEY AUTOINCREMENT,\n",
    "                    name TEXT NOT NULL,\n",
    "                    mail TEXT NOT NULL,\n",
    "                    created DATETIME DEFAULT(datetime(CURRENT_TIMESTAMP,'localtime'))\n",
    "                    )''')\n",
    "except sqlite3.Error as e:\n",
    "    print(e)\n"
   ]
  },
  {
   "cell_type": "code",
   "execution_count": null,
   "metadata": {},
   "outputs": [],
   "source": [
    "import sqlite3\n",
    "from contextlib import closing\n",
    "try:\n",
    "    with closing(sqlite3.connect('sample.db')) as conn:\n",
    "        cur = conn.cursor()\n",
    "        cur.execute('INSERT INTO users (id,name,mail) VALUES (1, \"foo\", \"foo@sample.com\")')\n",
    "        conn.commit()\n",
    "except sqlite3.Error as e:\n",
    "    print(e)"
   ]
  },
  {
   "cell_type": "code",
   "execution_count": null,
   "metadata": {},
   "outputs": [],
   "source": [
    "import sqlite3\n",
    "from contextlib import closing\n",
    "try:\n",
    "    with closing(sqlite3.connect('sample.db')) as conn:\n",
    "        cur = conn.cursor()\n",
    "        cur.execute('INSERT INTO users (id,name,mail) VALUES (:id, :name, :mail)',\n",
    "                    {\n",
    "                        'id':2,\n",
    "                        'name':\"hoge\",\n",
    "                        'mail':\"hoge@sample.com\"\n",
    "                    })\n",
    "        conn.commit()\n",
    "except sqlite3.Error as e:\n",
    "    print(e)"
   ]
  },
  {
   "cell_type": "code",
   "execution_count": null,
   "metadata": {},
   "outputs": [],
   "source": [
    "import sqlite3\n",
    "from contextlib import closing\n",
    "try:\n",
    "    with closing(sqlite3.connect('sample.db')) as conn:\n",
    "        cur = conn.cursor()\n",
    "        cur.execute('INSERT INTO users (name,mail) VALUES (:name, :mail)',\n",
    "                    {\n",
    "                        'name':\"bar\",\n",
    "                        'mail':\"bar@sample.com\"\n",
    "                    })\n",
    "        conn.commit()\n",
    "except sqlite3.Error as e:\n",
    "    print(e)"
   ]
  },
  {
   "cell_type": "code",
   "execution_count": null,
   "metadata": {},
   "outputs": [],
   "source": [
    "import sqlite3\n",
    "from contextlib import closing\n",
    "try:\n",
    "    with closing(sqlite3.connect('sample.db')) as conn:\n",
    "        cur = conn.cursor()\n",
    "        cur.execute('SELECT * FROM users')\n",
    "        result = cur.fetchall()\n",
    "        print(result)\n",
    "except sqlite3.Error as e:\n",
    "    print(e)"
   ]
  },
  {
   "cell_type": "code",
   "execution_count": null,
   "metadata": {},
   "outputs": [],
   "source": [
    "import sqlite3\n",
    "from contextlib import closing\n",
    "try:\n",
    "    with closing(sqlite3.connect('sample.db')) as conn:\n",
    "        cur = conn.cursor()\n",
    "        cur.execute('SELECT * FROM users WHERE name=?', (\"bar\",))\n",
    "        result = cur.fetchall()\n",
    "        print(result)\n",
    "except sqlite3.Error as e:\n",
    "    print(e)"
   ]
  },
  {
   "cell_type": "code",
   "execution_count": null,
   "metadata": {},
   "outputs": [],
   "source": [
    "import sqlite3\n",
    "from contextlib import closing\n",
    "\n",
    "def dict_factory(cursor, row):\n",
    "    fields = [column[0] for column in cursor.description]\n",
    "    return {key: value for key, value in zip(fields, row)}\n",
    "\n",
    "try:\n",
    "    with closing(sqlite3.connect('sample.db')) as conn:\n",
    "        conn.row_factory = dict_factory\n",
    "        cur = conn.cursor()\n",
    "        cur.execute('SELECT * FROM users')\n",
    "        result = cur.fetchall()\n",
    "        print(result)\n",
    "except sqlite3.Error as e:\n",
    "    print(e)"
   ]
  },
  {
   "cell_type": "code",
   "execution_count": null,
   "metadata": {},
   "outputs": [],
   "source": [
    "import sqlite3\n",
    "from contextlib import closing\n",
    "try:\n",
    "    with closing(sqlite3.connect('sample.db')) as conn:\n",
    "        cur = conn.cursor()\n",
    "        cur.execute('DELETE FROM users')\n",
    "        data = [('hoge','hoge@sample.com'),('foo','foo@sample.com'),('bar','bar@sample.com')]\n",
    "        cur.executemany('INSERT INTO users (name,mail) VALUES (?, ?)',data)\n",
    "        conn.commit()\n",
    "except sqlite3.Error as e:\n",
    "    print(e)"
   ]
  },
  {
   "cell_type": "code",
   "execution_count": null,
   "metadata": {},
   "outputs": [],
   "source": [
    "import sqlite3\n",
    "from contextlib import closing\n",
    "try:\n",
    "    with closing(sqlite3.connect('sample.db')) as conn:\n",
    "        cur = conn.cursor()\n",
    "        cur.execute('DROP TABLE users')\n",
    "except sqlite3.Error as e:\n",
    "    print(e)"
   ]
  },
  {
   "attachments": {},
   "cell_type": "markdown",
   "metadata": {},
   "source": [
    "# MySQL"
   ]
  },
  {
   "cell_type": "code",
   "execution_count": null,
   "metadata": {},
   "outputs": [],
   "source": [
    "import mysql.connector\n",
    "from mysql.connector import errorcode\n",
    "try:\n",
    "    cnx = mysql.connector.connect(user='root', password='password',\n",
    "                                host='localhost', database='sampledb')\n",
    "    cur = cnx.cursor()\n",
    "except mysql.connector.Error as err:\n",
    "    if err.errno == errorcode.ER_ACCESS_DENIED_ERROR:\n",
    "        print(\"ユーザー名かパスワードが間違っています\")\n",
    "    elif err.errno == errorcode.ER_BAD_DB_ERROR:\n",
    "        print(\"データーベースがありません\")\n",
    "    else:\n",
    "        print(err)\n",
    "else:\n",
    "    cnx.close()\n"
   ]
  },
  {
   "cell_type": "code",
   "execution_count": null,
   "metadata": {},
   "outputs": [],
   "source": [
    "import mysql.connector\n",
    "from mysql.connector import errorcode\n",
    "from contextlib import closing\n",
    "try:\n",
    "    with closing(mysql.connector.connect(user='root', password='password',\n",
    "                                        host='localhost', database='sampledb')) as cnx:\n",
    "        cur = cnx.cursor()\n",
    "except mysql.connector.Error as err:\n",
    "    if err.errno == errorcode.ER_ACCESS_DENIED_ERROR:\n",
    "        print(\"ユーザー名かパスワードが間違っています\")\n",
    "    elif err.errno == errorcode.ER_BAD_DB_ERROR:\n",
    "        print(\"データーベースがありません\")\n",
    "    else:\n",
    "        print(err)\n"
   ]
  },
  {
   "cell_type": "code",
   "execution_count": null,
   "metadata": {},
   "outputs": [],
   "source": [
    "import mysql.connector\n",
    "from contextlib import closing\n",
    "try:\n",
    "    with closing(mysql.connector.connect(user='root', password='password',\n",
    "                                        host='localhost', database='sampledb')) as cnx:\n",
    "        cur = cnx.cursor()\n",
    "        cur.execute('''CREATE TABLE users (\n",
    "                    id INTEGER PRIMARY KEY AUTO_INCREMENT,\n",
    "                    name TEXT NOT NULL,\n",
    "                    mail TEXT NOT NULL,\n",
    "                    created DATETIME DEFAULT CURRENT_TIMESTAMP\n",
    "                    )''')\n",
    "except mysql.connector.Error as err:\n",
    "    print(err)"
   ]
  },
  {
   "cell_type": "code",
   "execution_count": null,
   "metadata": {},
   "outputs": [],
   "source": [
    "import mysql.connector\n",
    "from contextlib import closing\n",
    "try:\n",
    "    with closing(mysql.connector.connect(user='root', password='password',\n",
    "                                        host='localhost', database='sampledb')) as cnx:\n",
    "        cur = cnx.cursor()\n",
    "        cur.execute('INSERT INTO users (id,name,mail) VALUES (1, \"foo\", \"foo@sample.com\")')\n",
    "        cnx.commit()\n",
    "except mysql.connector.Error as err:\n",
    "    print(err)"
   ]
  },
  {
   "cell_type": "code",
   "execution_count": null,
   "metadata": {},
   "outputs": [],
   "source": [
    "import mysql.connector\n",
    "from contextlib import closing\n",
    "try:\n",
    "    with closing(mysql.connector.connect(user='root', password='password',\n",
    "                                        host='localhost', database='sampledb')) as cnx:\n",
    "        cur = cnx.cursor()\n",
    "        cur.execute('INSERT INTO users (id,name,mail) VALUES (%(id)s, %(name)s, %(mail)s)',\n",
    "                    {'id':2, 'name':'hoge', 'mail':'hoge@sample.com'})\n",
    "        cnx.commit()\n",
    "except mysql.connector.Error as err:\n",
    "    print(err)"
   ]
  },
  {
   "cell_type": "code",
   "execution_count": null,
   "metadata": {},
   "outputs": [],
   "source": [
    "import mysql.connector\n",
    "from contextlib import closing\n",
    "try:\n",
    "    with closing(mysql.connector.connect(user='root', password='password',\n",
    "                                        host='localhost', database='sampledb')) as cnx:\n",
    "        cur = cnx.cursor(prepared=True)\n",
    "        cur.execute('INSERT INTO users (name,mail) VALUES (?, ?)',\n",
    "                    ('bar','bar@sample.com'))\n",
    "        cnx.commit()\n",
    "except mysql.connector.Error as err:\n",
    "    print(err)"
   ]
  },
  {
   "cell_type": "code",
   "execution_count": null,
   "metadata": {},
   "outputs": [],
   "source": [
    "import mysql.connector\n",
    "from contextlib import closing\n",
    "try:\n",
    "    with closing(mysql.connector.connect(user='root', password='password',\n",
    "                                        host='localhost', database='sampledb')) as cnx:\n",
    "        cur = cnx.cursor(prepared=True)\n",
    "        data = [('hoge','hoge@sample.com'),('foo','foo@sample.com'),('bar','bar@sample.com')]\n",
    "        cur.executemany('INSERT INTO users (name,mail) VALUES (?, ?)', data)\n",
    "        cnx.commit()\n",
    "except mysql.connector.Error as err:\n",
    "    print(err)"
   ]
  },
  {
   "cell_type": "code",
   "execution_count": null,
   "metadata": {},
   "outputs": [],
   "source": [
    "import mysql.connector\n",
    "from contextlib import closing\n",
    "try:\n",
    "    with closing(mysql.connector.connect(user='root', password='password',\n",
    "                                        host='localhost', database='sampledb')) as cnx:\n",
    "        cur = cnx.cursor()\n",
    "        cur.execute('SELECT * FROM users')\n",
    "        result = cur.fetchall()\n",
    "        print(result)\n",
    "except mysql.connector.Error as err:\n",
    "    print(err)"
   ]
  },
  {
   "cell_type": "code",
   "execution_count": null,
   "metadata": {},
   "outputs": [],
   "source": [
    "import mysql.connector\n",
    "from contextlib import closing\n",
    "try:\n",
    "    with closing(mysql.connector.connect(user='root', password='password',\n",
    "                                        host='localhost', database='sampledb')) as cnx:\n",
    "        cur = cnx.cursor()\n",
    "        cur.execute('SELECT * FROM users')\n",
    "        result = cur.fetchall()\n",
    "        for value in result:\n",
    "            print(value[0],value[1],value[2],value[3])\n",
    "except mysql.connector.Error as err:\n",
    "    print(err)"
   ]
  },
  {
   "cell_type": "code",
   "execution_count": null,
   "metadata": {},
   "outputs": [],
   "source": [
    "import mysql.connector\n",
    "from contextlib import closing\n",
    "try:\n",
    "    with closing(mysql.connector.connect(user='root', password='password',\n",
    "                                        host='localhost', database='sampledb')) as cnx:\n",
    "        cur = cnx.cursor(dictionary=True)\n",
    "        cur.execute('SELECT * FROM users')\n",
    "        result = cur.fetchall()\n",
    "        print(result)\n",
    "except mysql.connector.Error as err:\n",
    "    print(err)"
   ]
  },
  {
   "cell_type": "code",
   "execution_count": null,
   "metadata": {},
   "outputs": [],
   "source": [
    "import mysql.connector\n",
    "from contextlib import closing\n",
    "try:\n",
    "    with closing(mysql.connector.connect(user='root', password='password',\n",
    "                                        host='localhost', database='sampledb')) as cnx:\n",
    "        cur = cnx.cursor()\n",
    "        cur.execute('DROP TABLE users')\n",
    "except mysql.connector.Error as err:\n",
    "    print(err)"
   ]
  }
 ],
 "metadata": {
  "interpreter": {
   "hash": "ab64589ac9d6bd956e857448da5e411ff91b136249a71239f0da316d67e65b64"
  },
  "kernelspec": {
   "display_name": "Python 3.10.3 64-bit ('3.10.3')",
   "language": "python",
   "name": "python3"
  },
  "language_info": {
   "codemirror_mode": {
    "name": "ipython",
    "version": 3
   },
   "file_extension": ".py",
   "mimetype": "text/x-python",
   "name": "python",
   "nbconvert_exporter": "python",
   "pygments_lexer": "ipython3",
   "version": "3.10.3"
  },
  "orig_nbformat": 4
 },
 "nbformat": 4,
 "nbformat_minor": 2
}
