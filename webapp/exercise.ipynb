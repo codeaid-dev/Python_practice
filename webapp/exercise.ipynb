{
 "cells": [
  {
   "cell_type": "code",
   "execution_count": null,
   "source": [
    "import urllib.request as ur\n",
    "url = 'https://raw.githubusercontent.com/koki0702/introducing-python/master/dummy_api/fortune_cookie_random1.txt'\n",
    "conn = ur.urlopen(url)\n",
    "print(conn)\n",
    "\n",
    "data = conn.read()\n",
    "print(data)\n",
    "\n",
    "print(conn.status)\n",
    "\n",
    "print(conn.getheader('Content-Type'))\n",
    "\n",
    "for key, value in conn.getheaders():\n",
    "    print(key, value)"
   ],
   "outputs": [],
   "metadata": {}
  },
  {
   "cell_type": "code",
   "execution_count": null,
   "source": [
    "import requests\n",
    "url = 'https://raw.githubusercontent.com/koki0702/introducing-python/master/dummy_api/fortune_cookie_random2.txt'\n",
    "resp = requests.get(url)\n",
    "resp\n",
    "print(resp.text)"
   ],
   "outputs": [],
   "metadata": {}
  }
 ],
 "metadata": {
  "orig_nbformat": 4,
  "language_info": {
   "name": "python",
   "version": "3.9.2",
   "mimetype": "text/x-python",
   "codemirror_mode": {
    "name": "ipython",
    "version": 3
   },
   "pygments_lexer": "ipython3",
   "nbconvert_exporter": "python",
   "file_extension": ".py"
  },
  "kernelspec": {
   "name": "python3",
   "display_name": "Python 3.9.2 64-bit ('3.9.2': pyenv)"
  },
  "interpreter": {
   "hash": "e175e2d1a69ec44a53513b33867561d513a585d5b2228589977b3e28bb8f7a45"
  }
 },
 "nbformat": 4,
 "nbformat_minor": 2
}