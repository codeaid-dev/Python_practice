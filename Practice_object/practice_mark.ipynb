{
 "cells": [
  {
   "cell_type": "code",
   "execution_count": null,
   "metadata": {},
   "outputs": [],
   "source": [
    "#Q2\n",
    "class Stationery:\n",
    "    def __init__(self, pen, note):\n",
    "        self.note = note\n",
    "        self.pen = pen\n",
    "\n",
    "stuff = Stationery('ゼブラ', 'コクヨ')\n",
    "print(stuff.note, stuff.pen)"
   ]
  },
  {
   "cell_type": "code",
   "execution_count": null,
   "metadata": {},
   "outputs": [],
   "source": [
    "#Q3\n",
    "class Car:\n",
    "    def drive(self):\n",
    "        print('車は走行中')\n",
    "\n",
    "class Truck(Car):\n",
    "    def carry(self):\n",
    "        print('トラックは配送中')\n",
    "\n",
    "move = Truck()\n",
    "move.drive()"
   ]
  },
  {
   "cell_type": "code",
   "execution_count": null,
   "metadata": {},
   "outputs": [],
   "source": [
    "#Q4\n",
    "class Practice:\n",
    "    data = []\n",
    "\n",
    "    def add_data(self, data):\n",
    "        self.data.append(data)\n",
    "\n",
    "practice1 = Practice()\n",
    "practice1.add_data('data 1')\n",
    "\n",
    "practice2 = Practice()\n",
    "practice2.add_data('data 2')\n",
    "\n",
    "print(practice1.data)\n",
    "for data in practice1.data:\n",
    "    print(data, end=' ')"
   ]
  },
  {
   "cell_type": "code",
   "execution_count": null,
   "metadata": {},
   "outputs": [],
   "source": [
    "#Q5\n",
    "class Practice:\n",
    "\n",
    "    def add_data(self, data):\n",
    "        self.data = data\n",
    "\n",
    "practice1 = Practice()\n",
    "practice1.add_data('data 1')\n",
    "\n",
    "practice2 = Practice()\n",
    "practice2.add_data('data 2')\n",
    "\n",
    "print(practice1.data)"
   ]
  },
  {
   "cell_type": "code",
   "execution_count": null,
   "metadata": {},
   "outputs": [],
   "source": [
    "#Q6\n",
    "class Practice:\n",
    "\n",
    "    def __init__(self, one, two):\n",
    "        self.one = one\n",
    "        self.two = two\n",
    "\n",
    "d = {'two':22, 'one':11}\n",
    "t = (10,20)\n",
    "p1 = Practice(*t)\n",
    "p2 = Practice(**d)\n",
    "print(p1.one, p1.two, p2.one, p2.two)"
   ]
  },
  {
   "cell_type": "code",
   "execution_count": 3,
   "metadata": {},
   "outputs": [
    {
     "name": "stdout",
     "output_type": "stream",
     "text": [
      "in parent\n",
      "in child\n"
     ]
    }
   ],
   "source": [
    "#Q7\n",
    "class Parent:\n",
    "    def __init__(self):\n",
    "        print('in parent')\n",
    "\n",
    "class Child(Parent):\n",
    "    def __init__(self):\n",
    "        super().__init__()\n",
    "        print('in child')\n",
    "\n",
    "c = Child()"
   ]
  },
  {
   "cell_type": "code",
   "execution_count": null,
   "metadata": {},
   "outputs": [],
   "source": [
    "#Q8\n",
    "class Parent:\n",
    "    def __init__(self, name):\n",
    "        self.name = name\n",
    "    def get_name(self):\n",
    "        return 'parent: '+self.name\n",
    "\n",
    "class Child(Parent):\n",
    "    def get_name(self):\n",
    "        return 'child: '+self.name\n",
    "\n",
    "c = Child('Taro')\n",
    "print(c.get_name())"
   ]
  },
  {
   "cell_type": "code",
   "execution_count": null,
   "metadata": {},
   "outputs": [],
   "source": [
    "#Q9\n",
    "class User:\n",
    "    def __init__(self, email):\n",
    "        self.__email = email\n",
    "    @property\n",
    "    def email(self):\n",
    "        return self.__email\n",
    "    @email.setter\n",
    "    def email(self, email):\n",
    "        self.__email = email\n",
    "\n",
    "u = User('hoge@example.com')\n",
    "print(u.email)\n",
    "u.email = 'foobar@example.com'\n",
    "print(u.email)"
   ]
  },
  {
   "cell_type": "code",
   "execution_count": 4,
   "metadata": {},
   "outputs": [
    {
     "name": "stdout",
     "output_type": "stream",
     "text": [
      "全部で2枚です\n"
     ]
    }
   ],
   "source": [
    "#Q10\n",
    "class Card:\n",
    "    count = 0\n",
    "    def __init__(self):\n",
    "        Card.count += 1\n",
    "    @classmethod\n",
    "    def sheets(cls):\n",
    "        print(f'全部で{cls.count}枚です')\n",
    "\n",
    "a = Card()\n",
    "b = Card()\n",
    "Card.sheets()"
   ]
  }
 ],
 "metadata": {
  "interpreter": {
   "hash": "e175e2d1a69ec44a53513b33867561d513a585d5b2228589977b3e28bb8f7a45"
  },
  "kernelspec": {
   "display_name": "Python 3.9.2 64-bit ('3.9.2': pyenv)",
   "name": "python3"
  },
  "language_info": {
   "codemirror_mode": {
    "name": "ipython",
    "version": 3
   },
   "file_extension": ".py",
   "mimetype": "text/x-python",
   "name": "python",
   "nbconvert_exporter": "python",
   "pygments_lexer": "ipython3",
   "version": "3.9.2"
  },
  "orig_nbformat": 4
 },
 "nbformat": 4,
 "nbformat_minor": 2
}