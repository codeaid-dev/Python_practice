{
 "cells": [
  {
   "cell_type": "code",
   "execution_count": null,
   "metadata": {},
   "outputs": [],
   "source": [
    "#Q1\n",
    "class Dog:\n",
    "    def __init__(self, name):\n",
    "        self.name = name\n",
    "\n",
    "    def show(self):\n",
    "        print(self.name)\n",
    "\n",
    "dog = Dog('ポチ')\n",
    "dog.show()"
   ]
  },
  {
   "cell_type": "code",
   "execution_count": null,
   "metadata": {},
   "outputs": [],
   "source": [
    "#Q2\n",
    "class Dog:\n",
    "    def __init__(self, name):\n",
    "        self.name = name\n",
    "        self.weight = 0\n",
    "\n",
    "    def show(self):\n",
    "        print(f'名前：{self.name} 体重：{self.weight}kg')\n",
    "\n",
    "dog = Dog('ポチ')\n",
    "dog.weight = 4.5\n",
    "dog.show()"
   ]
  },
  {
   "cell_type": "code",
   "execution_count": 1,
   "metadata": {},
   "outputs": [
    {
     "name": "stdout",
     "output_type": "stream",
     "text": [
      "macOS\n"
     ]
    }
   ],
   "source": [
    "#Q3\n",
    "class PC:\n",
    "    def __init__(self, os, cpu, memory):\n",
    "        self.os = os\n",
    "        self.cpu = cpu\n",
    "        self.memory = memory\n",
    "\n",
    "d = {'os':'macOS', 'cpu':'M1 MAX', 'memory':'32GB'}\n",
    "pc = PC(**d)\n",
    "#pc = PC(d['os'],d['cpu'],d['memory'])\n",
    "print(pc.os)"
   ]
  },
  {
   "cell_type": "code",
   "execution_count": null,
   "metadata": {},
   "outputs": [],
   "source": [
    "#Q4\n",
    "class PC:\n",
    "    def __init__(self, os, cpu, memory):\n",
    "        self.__os = os\n",
    "        self.cpu = cpu\n",
    "        self.memory = memory\n",
    "    @property\n",
    "    def os(self):\n",
    "        return self.__os\n",
    "\n",
    "d = {'os':'macOS', 'cpu':'M1 MAX', 'memory':'32GB'}\n",
    "pc = PC(**d)\n",
    "print(pc.os)"
   ]
  },
  {
   "cell_type": "code",
   "execution_count": null,
   "metadata": {},
   "outputs": [],
   "source": [
    "#Q5\n",
    "class PC:\n",
    "    def __init__(self, os, cpu, memory):\n",
    "        self.__os = os\n",
    "        self.cpu = cpu\n",
    "        self.memory = memory\n",
    "    @property\n",
    "    def os(self):\n",
    "        return self.__os\n",
    "    @os.setter\n",
    "    def os(self, input_os):\n",
    "        if self.__os in input_os:\n",
    "            self.__os = input_os\n",
    "\n",
    "d = {'os':'macOS', 'cpu':'M1 MAX', 'memory':'32GB'}\n",
    "pc = PC(**d)\n",
    "pc.os = 'macOS Monterey'\n",
    "#pc.os = 'Windows'\n",
    "print(pc.os)"
   ]
  },
  {
   "cell_type": "code",
   "execution_count": null,
   "metadata": {},
   "outputs": [],
   "source": [
    "#Q6\n",
    "class Shape:\n",
    "    def __init__(self, width, height):\n",
    "        self.width = width\n",
    "        self.height = height\n",
    "    def area(self):\n",
    "        return self.width * self.height\n",
    "\n",
    "rect = Shape(3, 4)\n",
    "print(rect.area())"
   ]
  },
  {
   "cell_type": "code",
   "execution_count": null,
   "metadata": {},
   "outputs": [],
   "source": [
    "#Q7\n",
    "class Shape:\n",
    "    def __init__(self, width, height):\n",
    "        self.width = width\n",
    "        self.height = height\n",
    "    def area(self):\n",
    "        return self.width * self.height\n",
    "\n",
    "class Trapezoid(Shape):\n",
    "    def __init__(self, width, width2, height):\n",
    "        super().__init__(width, height)\n",
    "        self.width2 = width2\n",
    "    def area(self):\n",
    "        return (self.width + self.width2) * self.height / 2\n",
    "\n",
    "trap = Trapezoid(3, 2, 4)\n",
    "print(trap.area())\n"
   ]
  },
  {
   "cell_type": "code",
   "execution_count": null,
   "metadata": {},
   "outputs": [],
   "source": [
    "#Q8\n",
    "class Shape:\n",
    "    def __init__(self, width, height):\n",
    "        self.width = width\n",
    "        self.height = height\n",
    "    def area(self):\n",
    "        return self.width * self.height\n",
    "\n",
    "class Trapezoid(Shape):\n",
    "    def __init__(self, width, width2, height):\n",
    "        super().__init__(width, height)\n",
    "        self.width2 = width2\n",
    "    def area(self):\n",
    "        return (self.width + self.width2) * self.height / 2\n",
    "\n",
    "class Circle(Shape):\n",
    "    PI = 3.14\n",
    "    def area(self):\n",
    "        return self.width**2*Circle.PI\n",
    "\n",
    "en = Circle(3, 0)\n",
    "print(en.area())"
   ]
  },
  {
   "cell_type": "code",
   "execution_count": null,
   "metadata": {},
   "outputs": [],
   "source": [
    "#Q9\n",
    "class Cat:\n",
    "    count = 0\n",
    "    def __init__(self):\n",
    "        Cat.count += 1\n",
    "\n",
    "tama = Cat()\n",
    "nene = Cat()\n",
    "mike = Cat()\n",
    "print(Cat.count)"
   ]
  },
  {
   "cell_type": "code",
   "execution_count": null,
   "metadata": {},
   "outputs": [],
   "source": [
    "#Q10\n",
    "class Cat:\n",
    "    count = 0\n",
    "    def __init__(self):\n",
    "        Cat.count += 1\n",
    "    @classmethod\n",
    "    def kind(cls):\n",
    "        print(f'飼っている猫は{Cat.count}匹です')\n",
    "\n",
    "tama = Cat()\n",
    "nene = Cat()\n",
    "mike = Cat()\n",
    "Cat.kind()"
   ]
  }
 ],
 "metadata": {
  "interpreter": {
   "hash": "aecfffebf68cef656bd08491b6a8d7a85c42907f9cff241c489b68f751e382bc"
  },
  "kernelspec": {
   "display_name": "Python 3.9.7 64-bit ('3.9.7')",
   "language": "python",
   "name": "python3"
  },
  "language_info": {
   "codemirror_mode": {
    "name": "ipython",
    "version": 3
   },
   "file_extension": ".py",
   "mimetype": "text/x-python",
   "name": "python",
   "nbconvert_exporter": "python",
   "pygments_lexer": "ipython3",
   "version": "3.9.7"
  },
  "orig_nbformat": 4
 },
 "nbformat": 4,
 "nbformat_minor": 2
}
