{
 "cells": [
  {
   "cell_type": "code",
   "execution_count": 1,
   "metadata": {},
   "outputs": [
    {
     "name": "stdout",
     "output_type": "stream",
     "text": [
      "コクヨ ゼブラ\n"
     ]
    }
   ],
   "source": [
    "class Stationery:\n",
    "    def __init__(self, pen, note):\n",
    "        self.note = note\n",
    "        self.pen = pen\n",
    "\n",
    "stuff = Stationery('ゼブラ', 'コクヨ')\n",
    "print(stuff.note, stuff.pen)"
   ]
  },
  {
   "cell_type": "code",
   "execution_count": 2,
   "metadata": {},
   "outputs": [
    {
     "name": "stdout",
     "output_type": "stream",
     "text": [
      "車は走行中\n"
     ]
    }
   ],
   "source": [
    "class Car:\n",
    "    def drive(self):\n",
    "        print('車は走行中')\n",
    "\n",
    "class Truck(Car):\n",
    "    def carry(self):\n",
    "        print('トラックは配送中')\n",
    "\n",
    "move = Truck()\n",
    "move.drive()"
   ]
  },
  {
   "cell_type": "code",
   "execution_count": 4,
   "metadata": {},
   "outputs": [
    {
     "name": "stdout",
     "output_type": "stream",
     "text": [
      "data 1 data 2 "
     ]
    }
   ],
   "source": [
    "class Practice:\n",
    "    data = []\n",
    "\n",
    "    def add_data(self, data):\n",
    "        self.data.append(data)\n",
    "\n",
    "practice1 = Practice()\n",
    "practice1.add_data('data 1')\n",
    "\n",
    "practice2 = Practice()\n",
    "practice2.add_data('data 2')\n",
    "\n",
    "for data in practice1.data:\n",
    "    print(data, end=' ')"
   ]
  }
 ],
 "metadata": {
  "interpreter": {
   "hash": "e175e2d1a69ec44a53513b33867561d513a585d5b2228589977b3e28bb8f7a45"
  },
  "kernelspec": {
   "display_name": "Python 3.9.2 64-bit ('3.9.2': pyenv)",
   "name": "python3"
  },
  "language_info": {
   "codemirror_mode": {
    "name": "ipython",
    "version": 3
   },
   "file_extension": ".py",
   "mimetype": "text/x-python",
   "name": "python",
   "nbconvert_exporter": "python",
   "pygments_lexer": "ipython3",
   "version": "3.9.2"
  },
  "orig_nbformat": 4
 },
 "nbformat": 4,
 "nbformat_minor": 2
}