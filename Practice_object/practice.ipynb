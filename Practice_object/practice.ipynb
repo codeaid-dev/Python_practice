{
 "cells": [
  {
   "cell_type": "code",
   "execution_count": null,
   "metadata": {},
   "outputs": [],
   "source": [
    "#Q1\n",
    "class Dog:\n",
    "    def __init__(self, name):\n",
    "        self.name = name\n",
    "    \n",
    "    def show(self):\n",
    "        print(self.name)\n",
    "\n",
    "dog = Dog('ポチ')\n",
    "dog.show()"
   ]
  }
 ],
 "metadata": {
  "interpreter": {
   "hash": "aecfffebf68cef656bd08491b6a8d7a85c42907f9cff241c489b68f751e382bc"
  },
  "kernelspec": {
   "display_name": "Python 3.9.7 64-bit ('3.9.7')",
   "language": "python",
   "name": "python3"
  },
  "language_info": {
   "name": "python",
   "version": "3.9.7"
  },
  "orig_nbformat": 4
 },
 "nbformat": 4,
 "nbformat_minor": 2
}
