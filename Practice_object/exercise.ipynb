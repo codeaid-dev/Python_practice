{
 "cells": [
  {
   "cell_type": "code",
   "execution_count": null,
   "metadata": {},
   "outputs": [],
   "source": [
    "#exercise1-1\n",
    "class Score:\n",
    "    def __init__(self):\n",
    "        self.math = 0\n",
    "        self.english = 0\n",
    "        self.physics = 0\n",
    "\n",
    "student = Score()\n",
    "student.math = 65\n",
    "student.english = 70\n",
    "student.physics = 80\n",
    "print(f'math={student.math},english={student.english},physics={student.physics}')"
   ]
  },
  {
   "cell_type": "code",
   "execution_count": null,
   "metadata": {},
   "outputs": [],
   "source": [
    "#exercise1-2\n",
    "class Score:\n",
    "    def __init__(self):\n",
    "        self.math = 0\n",
    "        self.english = 0\n",
    "        self.physics = 0\n",
    "    def get_average(self):\n",
    "        return (self.math+self.english+self.physics)/3\n",
    "student = Score()\n",
    "student.math = 65\n",
    "student.english = 70\n",
    "student.physics = 80\n",
    "print(f'平均点は{int(student.get_average())}')"
   ]
  },
  {
   "cell_type": "code",
   "execution_count": null,
   "metadata": {},
   "outputs": [],
   "source": [
    "#exercise1-3\n",
    "class Score:\n",
    "    def __init__(self, math, english, physics):\n",
    "        self.math = math\n",
    "        self.english = english\n",
    "        self.physics = physics\n",
    "    def get_average(self):\n",
    "        return (self.math+self.english+self.physics)/3\n",
    "student = Score(65, 70, 80)\n",
    "print(f'平均点は{int(student.get_average())}')"
   ]
  },
  {
   "cell_type": "code",
   "execution_count": null,
   "metadata": {},
   "outputs": [],
   "source": [
    "#exercise1-4\n",
    "class Score:\n",
    "    def __init__(self, math, english, physics):\n",
    "        self.math = math\n",
    "        self.english = english\n",
    "        self.physics = physics\n",
    "    def get_average(self):\n",
    "        return (self.math+self.english+self.physics)/3\n",
    "\n",
    "dic = {'math':50, 'english':80, 'physics':60}\n",
    "student = Score(**dic)\n",
    "print(f'平均点は{int(student.get_average())}')"
   ]
  },
  {
   "cell_type": "code",
   "execution_count": null,
   "metadata": {},
   "outputs": [],
   "source": [
    "#exercise2-1\n",
    "class User():\n",
    "    def __init__(self, first_name, last_name, username, email, location):\n",
    "        self.first_name = first_name.title()\n",
    "        self.last_name = last_name.title()\n",
    "        self.username = username\n",
    "        self.email = email\n",
    "        self.location = location.title()\n",
    "\n",
    "    def describe_user(self):\n",
    "        print(f\"{self.first_name} {self.last_name}\")\n",
    "        print(f\"  ユーザー名: {self.username}\")\n",
    "        print(f\"  メールアドレス: {self.email}\")\n",
    "        print(f\"  場所: {self.location}\")\n",
    "\n",
    "taro = User('taro', 'yamada', 'yama', 'yama@example.com', 'osaka')\n",
    "jiro = User('次郎', '田中', 'taji', 'taji@example.com', '東京')\n",
    "taro.describe_user()\n",
    "jiro.describe_user()"
   ]
  },
  {
   "cell_type": "code",
   "execution_count": null,
   "metadata": {},
   "outputs": [],
   "source": [
    "#exercise2-2\n",
    "class Admin(User):\n",
    "    def __init__(self, first_name, last_name, username, email, location):\n",
    "        super().__init__(first_name, last_name, username, email, location)\n",
    "        self.privileges = []\n",
    "\n",
    "    def show_privileges(self):\n",
    "        print(\"権限の一覧\")\n",
    "        for privilege in self.privileges:\n",
    "            print(f\"- {privilege}\")\n",
    "\n",
    "jiro = Admin('次郎', '田中', 'taji', 'taji@example.com', '東京')\n",
    "jiro.describe_user()\n",
    "jiro.privileges = [\"投稿を追加する\",\"投稿を削除する\",\"ユーザーを利用禁止にする\"]\n",
    "jiro.show_privileges()"
   ]
  },
  {
   "cell_type": "code",
   "execution_count": null,
   "metadata": {},
   "outputs": [],
   "source": [
    "#exercise2-3\n",
    "class Admin(User):\n",
    "    def __init__(self, first_name, last_name, username, email, location):\n",
    "        super().__init__(first_name, last_name, username, email, location)\n",
    "        self.privileges = []\n",
    "\n",
    "    def show_privileges(self):\n",
    "        print(\"権限の一覧\")\n",
    "        for privilege in self.privileges:\n",
    "            print(f\"- {privilege}\")\n",
    "\n",
    "    def describe_user(self):\n",
    "        super().describe_user()\n",
    "        print(f\"  ＜管理者＞\")\n",
    "\n",
    "jiro = Admin('次郎', '田中', 'taji', 'taji@example.com', '東京')\n",
    "jiro.describe_user()"
   ]
  },
  {
   "cell_type": "code",
   "execution_count": null,
   "metadata": {},
   "outputs": [],
   "source": [
    "#exercise2-4\n",
    "class User():\n",
    "    def __init__(self, first_name, last_name, username, email, location):\n",
    "        self.first_name = first_name.title()\n",
    "        self.last_name = last_name.title()\n",
    "        self.username = username\n",
    "        self.email = email\n",
    "        self.location = location.title()\n",
    "\n",
    "    def describe_user(self):\n",
    "        print(f\"{self.first_name} {self.last_name}\")\n",
    "        print(f\"  ユーザー名: {self.username}\")\n",
    "        print(f\"  メールアドレス: {self.email}\")\n",
    "        print(f\"  場所: {self.location}\")\n",
    "\n",
    "    def get_email(self):\n",
    "        print('メールアドレスを参照しました')\n",
    "        return self.email\n",
    "\n",
    "    def set_email(self, email):\n",
    "        print(f'メールアドレスを設定しました\\n{email}')\n",
    "        self.email = email\n",
    "    emailaddr = property(get_email, set_email)\n",
    "\n",
    "hanako = User('花子', '佐藤', 'hana', 'hana@example.com', '福岡')\n",
    "print(hanako.emailaddr)\n",
    "hanako.emailaddr = 'hanachan@example.com'"
   ]
  },
  {
   "cell_type": "code",
   "execution_count": null,
   "metadata": {},
   "outputs": [],
   "source": [
    "#exercise2-5\n",
    "class User():\n",
    "    def __init__(self, first_name, last_name, username, email, location):\n",
    "        self.first_name = first_name.title()\n",
    "        self.last_name = last_name.title()\n",
    "        self.username = username\n",
    "        self.__email = email\n",
    "        self.location = location.title()\n",
    "\n",
    "    def describe_user(self):\n",
    "        print(f\"{self.first_name} {self.last_name}\")\n",
    "        print(f\"  ユーザー名: {self.username}\")\n",
    "        print(f\"  メールアドレス: {self.__email}\")\n",
    "        print(f\"  場所: {self.location}\")\n",
    "\n",
    "    @property\n",
    "    def emailaddr(self):\n",
    "        print('メールアドレスを参照しました')\n",
    "        return self.__email\n",
    "\n",
    "    @emailaddr.setter\n",
    "    def emailaddr(self, email):\n",
    "        print(f'メールアドレスを設定しました\\n{email}')\n",
    "        self.__email = email\n",
    "\n",
    "hanako = User('花子', '佐藤', 'hana', 'hana@example.com', '福岡')\n",
    "print(hanako.emailaddr)\n",
    "hanako.emailaddr = 'hanachan@example.com'\n",
    "#print(hanako.__email)\n",
    "hanako.__email = 'hoge@example.com'"
   ]
  },
  {
   "cell_type": "code",
   "execution_count": 25,
   "metadata": {},
   "outputs": [
    {
     "name": "stdout",
     "output_type": "stream",
     "text": [
      "駒の数は4あります\n"
     ]
    }
   ],
   "source": [
    "#exercise3-1\n",
    "class Piece:\n",
    "    count = 0\n",
    "    def __init__(self):\n",
    "        Piece.count += 1\n",
    "    @classmethod\n",
    "    def number(cls):\n",
    "        print(f'駒の数は{cls.count}あります')\n",
    "\n",
    "king = Piece()\n",
    "queen = Piece()\n",
    "bishop = Piece()\n",
    "knight = Piece()\n",
    "Piece.number()"
   ]
  },
  {
   "cell_type": "code",
   "execution_count": 26,
   "metadata": {},
   "outputs": [
    {
     "name": "stdout",
     "output_type": "stream",
     "text": [
      "このPieceクラスは何種類かのゲームの駒として使えます\n"
     ]
    }
   ],
   "source": [
    "#exercise3-2\n",
    "class Piece:\n",
    "    count = 0\n",
    "    def __init__(self):\n",
    "        Piece.count += 1\n",
    "    @classmethod\n",
    "    def number(cls):\n",
    "        print(f'駒の数は{cls.count}あります')\n",
    "    @staticmethod\n",
    "    def description():\n",
    "        print('このPieceクラスは何種類かのゲームの駒として使えます')\n",
    "\n",
    "Piece.description()"
   ]
  },
  {
   "cell_type": "code",
   "execution_count": 28,
   "metadata": {},
   "outputs": [
    {
     "name": "stdout",
     "output_type": "stream",
     "text": [
      "ポチはワンワンと吠えた\n",
      "タマはニャーと鳴いた\n"
     ]
    }
   ],
   "source": [
    "#exercise4-1\n",
    "class Pet:\n",
    "    def __init__(self, name):\n",
    "        self.name = name\n",
    "    def barks(self):\n",
    "        pass\n",
    "\n",
    "class Dog(Pet):\n",
    "    def barks(self):\n",
    "        return f'{self.name}はワンワンと吠えた'\n",
    "\n",
    "class Cat(Pet):\n",
    "    def barks(self):\n",
    "        return f'{self.name}はニャーと鳴いた'\n",
    "\n",
    "pochi = Dog('ポチ')\n",
    "print(pochi.barks())\n",
    "tama = Cat('タマ')\n",
    "print(tama.barks())"
   ]
  },
  {
   "cell_type": "code",
   "execution_count": 2,
   "metadata": {},
   "outputs": [
    {
     "name": "stdout",
     "output_type": "stream",
     "text": [
      "True\n",
      "cat\n"
     ]
    }
   ],
   "source": [
    "#exercise4-2\n",
    "class Pet:\n",
    "    def __init__(self, name):\n",
    "        self.name = name\n",
    "    def barks(self):\n",
    "        pass\n",
    "\n",
    "class Dog(Pet):\n",
    "    def __init__(self, name):\n",
    "        super().__init__(name)\n",
    "        self.type = 'dog'\n",
    "    def __eq__(self, type2):\n",
    "        return self.type.lower() == type2.type.lower()\n",
    "    def __str__(self):\n",
    "        return self.text\n",
    "    def barks(self):\n",
    "        return f'{self.name}はワンワンと吠えた'\n",
    "\n",
    "class Cat(Pet):\n",
    "    def __init__(self, name):\n",
    "        super().__init__(name)\n",
    "        self.type = 'cat'\n",
    "    def __eq__(self, pet2):\n",
    "        return self.type.lower() == pet2.type.lower()\n",
    "    def __str__(self):\n",
    "        return self.type\n",
    "    def barks(self):\n",
    "        return f'{self.name}はニャーと鳴いた'\n",
    "\n",
    "pochi = Dog('ポチ')\n",
    "kuro = Dog('クロ')\n",
    "print(pochi == kuro)\n",
    "tama = Cat('タマ')\n",
    "print(tama)"
   ]
  },
  {
   "cell_type": "code",
   "execution_count": 118,
   "metadata": {},
   "outputs": [
    {
     "name": "stdout",
     "output_type": "stream",
     "text": [
      "6面サイコロを10回転がした結果\n",
      "[5, 5, 3, 2, 3, 6, 2, 4, 2, 3]\n",
      "3のでる確率は30.0%でした\n"
     ]
    }
   ],
   "source": [
    "import random\n",
    "class Dice():\n",
    "    def __init__(self, sides=6):\n",
    "        self.sides = sides\n",
    "\n",
    "    def roll_dice(self):\n",
    "        return random.randint(1, self.sides)\n",
    "\n",
    "d = Dice()\n",
    "results = []\n",
    "for num in range(10):\n",
    "    result = d.roll_dice()\n",
    "    results.append(result)\n",
    "print(f\"{d.sides}面サイコロを10回転がした結果\")\n",
    "print(results)\n",
    "rate = results.count(3) / len(results) * 100\n",
    "print(f'3のでる確率は{rate}%でした')"
   ]
  }
 ],
 "metadata": {
  "interpreter": {
   "hash": "e175e2d1a69ec44a53513b33867561d513a585d5b2228589977b3e28bb8f7a45"
  },
  "kernelspec": {
   "display_name": "Python 3.9.2 64-bit ('3.9.2': pyenv)",
   "name": "python3"
  },
  "language_info": {
   "codemirror_mode": {
    "name": "ipython",
    "version": 3
   },
   "file_extension": ".py",
   "mimetype": "text/x-python",
   "name": "python",
   "nbconvert_exporter": "python",
   "pygments_lexer": "ipython3",
   "version": "3.9.2"
  },
  "orig_nbformat": 4
 },
 "nbformat": 4,
 "nbformat_minor": 2
}