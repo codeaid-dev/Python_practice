{
 "cells": [
  {
   "cell_type": "code",
   "execution_count": 1,
   "metadata": {},
   "outputs": [
    {
     "name": "stdout",
     "output_type": "stream",
     "text": [
      "math=65,english=70,physics=80\n"
     ]
    }
   ],
   "source": [
    "#exercise1\n",
    "class Score:\n",
    "    def __init__(self):\n",
    "        self.math = 0\n",
    "        self.english = 0\n",
    "        self.physics = 0\n",
    "\n",
    "student = Score()\n",
    "student.math = 65\n",
    "student.english = 70\n",
    "student.physics = 80\n",
    "print(f'math={student.math},english={student.english},physics={student.physics}')"
   ]
  },
  {
   "cell_type": "code",
   "execution_count": 3,
   "metadata": {},
   "outputs": [
    {
     "name": "stdout",
     "output_type": "stream",
     "text": [
      "平均点は71\n"
     ]
    }
   ],
   "source": [
    "#exercise2\n",
    "class Score:\n",
    "    def __init__(self):\n",
    "        self.math = 0\n",
    "        self.english = 0\n",
    "        self.physics = 0\n",
    "    def get_average(self):\n",
    "        return (self.math+self.english+self.physics)/3\n",
    "student = Score()\n",
    "student.math = 65\n",
    "student.english = 70\n",
    "student.physics = 80\n",
    "print(f'平均点は{int(student.get_average())}')"
   ]
  },
  {
   "cell_type": "code",
   "execution_count": 4,
   "metadata": {},
   "outputs": [
    {
     "name": "stdout",
     "output_type": "stream",
     "text": [
      "平均点は71\n"
     ]
    }
   ],
   "source": [
    "#exercise3\n",
    "class Score:\n",
    "    def __init__(self, math, english, physics):\n",
    "        self.math = math\n",
    "        self.english = english\n",
    "        self.physics = physics\n",
    "    def get_average(self):\n",
    "        return (self.math+self.english+self.physics)/3\n",
    "student = Score(65, 70, 80)\n",
    "print(f'平均点は{int(student.get_average())}')"
   ]
  },
  {
   "cell_type": "code",
   "execution_count": 5,
   "metadata": {},
   "outputs": [
    {
     "name": "stdout",
     "output_type": "stream",
     "text": [
      "平均点は63\n"
     ]
    }
   ],
   "source": [
    "#exercise4\n",
    "class Score:\n",
    "    def __init__(self, math, english, physics):\n",
    "        self.math = math\n",
    "        self.english = english\n",
    "        self.physics = physics\n",
    "    def get_average(self):\n",
    "        return (self.math+self.english+self.physics)/3\n",
    "\n",
    "dic = {'math':50, 'english':80, 'physics':60}\n",
    "student = Score(**dic)\n",
    "print(f'平均点は{int(student.get_average())}')"
   ]
  }
 ],
 "metadata": {
  "interpreter": {
   "hash": "e175e2d1a69ec44a53513b33867561d513a585d5b2228589977b3e28bb8f7a45"
  },
  "kernelspec": {
   "display_name": "Python 3.9.2 64-bit ('3.9.2': pyenv)",
   "name": "python3"
  },
  "language_info": {
   "codemirror_mode": {
    "name": "ipython",
    "version": 3
   },
   "file_extension": ".py",
   "mimetype": "text/x-python",
   "name": "python",
   "nbconvert_exporter": "python",
   "pygments_lexer": "ipython3",
   "version": "3.9.2"
  },
  "orig_nbformat": 4
 },
 "nbformat": 4,
 "nbformat_minor": 2
}