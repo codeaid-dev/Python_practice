{
 "cells": [
  {
   "cell_type": "code",
   "execution_count": null,
   "metadata": {},
   "outputs": [],
   "source": [
    "#exercise1-1\n",
    "class Score:\n",
    "    def __init__(self):\n",
    "        self.math = 0\n",
    "        self.english = 0\n",
    "        self.physics = 0\n",
    "\n",
    "student = Score()\n",
    "student.math = 65\n",
    "student.english = 70\n",
    "student.physics = 80\n",
    "print(f'math={student.math},english={student.english},physics={student.physics}')"
   ]
  },
  {
   "cell_type": "code",
   "execution_count": null,
   "metadata": {},
   "outputs": [],
   "source": [
    "#exercise1-2\n",
    "class Score:\n",
    "    def __init__(self):\n",
    "        self.math = 0\n",
    "        self.english = 0\n",
    "        self.physics = 0\n",
    "    def get_average(self):\n",
    "        return (self.math+self.english+self.physics)/3\n",
    "student = Score()\n",
    "student.math = 65\n",
    "student.english = 70\n",
    "student.physics = 80\n",
    "print(f'平均点は{int(student.get_average())}')"
   ]
  },
  {
   "cell_type": "code",
   "execution_count": null,
   "metadata": {},
   "outputs": [],
   "source": [
    "#exercise1-3\n",
    "class Score:\n",
    "    def __init__(self, math, english, physics):\n",
    "        self.math = math\n",
    "        self.english = english\n",
    "        self.physics = physics\n",
    "    def get_average(self):\n",
    "        return (self.math+self.english+self.physics)/3\n",
    "student = Score(65, 70, 80)\n",
    "print(f'平均点は{int(student.get_average())}')"
   ]
  },
  {
   "cell_type": "code",
   "execution_count": null,
   "metadata": {},
   "outputs": [],
   "source": [
    "#exercise1-4\n",
    "class Score:\n",
    "    def __init__(self, math, english, physics):\n",
    "        self.math = math\n",
    "        self.english = english\n",
    "        self.physics = physics\n",
    "    def get_average(self):\n",
    "        return (self.math+self.english+self.physics)/3\n",
    "\n",
    "dic = {'math':50, 'english':80, 'physics':60}\n",
    "student = Score(**dic)\n",
    "print(f'平均点は{int(student.get_average())}')"
   ]
  },
  {
   "cell_type": "code",
   "execution_count": null,
   "metadata": {},
   "outputs": [],
   "source": [
    "#exercise2-1\n",
    "class User():\n",
    "    def __init__(self, first_name, last_name, username, email, location):\n",
    "        self.first_name = first_name.title()\n",
    "        self.last_name = last_name.title()\n",
    "        self.username = username\n",
    "        self.email = email\n",
    "        self.location = location.title()\n",
    "\n",
    "    def describe_user(self):\n",
    "        print(f\"{self.first_name} {self.last_name}\")\n",
    "        print(f\"  ユーザー名: {self.username}\")\n",
    "        print(f\"  メールアドレス: {self.email}\")\n",
    "        print(f\"  場所: {self.location}\")\n",
    "\n",
    "taro = User('taro', 'yamada', 'yama', 'yama@example.com', 'osaka')\n",
    "jiro = User('次郎', '田中', 'taji', 'taji@example.com', '東京')\n",
    "taro.describe_user()\n",
    "jiro.describe_user()"
   ]
  },
  {
   "cell_type": "code",
   "execution_count": null,
   "metadata": {},
   "outputs": [],
   "source": [
    "#exercise2-2\n",
    "class Admin(User):\n",
    "    def __init__(self, first_name, last_name, username, email, location):\n",
    "        super().__init__(first_name, last_name, username, email, location)\n",
    "        self.privileges = []\n",
    "\n",
    "    def show_privileges(self):\n",
    "        print(\"権限の一覧\")\n",
    "        for privilege in self.privileges:\n",
    "            print(f\"- {privilege}\")\n",
    "\n",
    "jiro = Admin('次郎', '田中', 'taji', 'taji@example.com', '東京')\n",
    "jiro.describe_user()\n",
    "jiro.privileges = [\"投稿を追加する\",\"投稿を削除する\",\"ユーザーを利用禁止にする\"]\n",
    "jiro.show_privileges()"
   ]
  },
  {
   "cell_type": "code",
   "execution_count": 6,
   "metadata": {},
   "outputs": [
    {
     "name": "stdout",
     "output_type": "stream",
     "text": [
      "次郎 田中\n",
      "  ユーザー名: taji\n",
      "  メールアドレス: taji@example.com\n",
      "  場所: 東京\n",
      "  ＜管理者＞\n"
     ]
    }
   ],
   "source": [
    "class Admin(User):\n",
    "    def __init__(self, first_name, last_name, username, email, location):\n",
    "        super().__init__(first_name, last_name, username, email, location)\n",
    "        self.privileges = []\n",
    "\n",
    "    def show_privileges(self):\n",
    "        print(\"権限の一覧\")\n",
    "        for privilege in self.privileges:\n",
    "            print(f\"- {privilege}\")\n",
    "\n",
    "    def describe_user(self):\n",
    "        super().describe_user()\n",
    "        print(f\"  ＜管理者＞\")\n",
    "\n",
    "jiro = Admin('次郎', '田中', 'taji', 'taji@example.com', '東京')\n",
    "jiro.describe_user()"
   ]
  },
  {
   "cell_type": "code",
   "execution_count": null,
   "metadata": {},
   "outputs": [],
   "source": []
  }
 ],
 "metadata": {
  "interpreter": {
   "hash": "e175e2d1a69ec44a53513b33867561d513a585d5b2228589977b3e28bb8f7a45"
  },
  "kernelspec": {
   "display_name": "Python 3.9.2 64-bit ('3.9.2': pyenv)",
   "name": "python3"
  },
  "language_info": {
   "codemirror_mode": {
    "name": "ipython",
    "version": 3
   },
   "file_extension": ".py",
   "mimetype": "text/x-python",
   "name": "python",
   "nbconvert_exporter": "python",
   "pygments_lexer": "ipython3",
   "version": "3.9.2"
  },
  "orig_nbformat": 4
 },
 "nbformat": 4,
 "nbformat_minor": 2
}