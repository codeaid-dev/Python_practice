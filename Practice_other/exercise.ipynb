{
    "cells": [
        {
            "cell_type": "code",
            "execution_count": null,
            "source": [
                "#Exercise1\n",
                "import matplotlib.pyplot as plt\n",
                "\n",
                "squares = [1, 4, 9, 16, 25]\n",
                "fig, ax = plt.subplots()\n",
                "ax.plot(squares)\n",
                "plt.show()\n"
            ],
            "outputs": [],
            "metadata": {}
        },
        {
            "cell_type": "code",
            "execution_count": null,
            "source": [
                "#Exercise2\n",
                "import matplotlib.pyplot as plt\n",
                "\n",
                "squares = [1, 4, 9, 16, 25]\n",
                "fig, ax = plt.subplots()\n",
                "ax.plot(squares, linewidth=3)\n",
                "\n",
                "# グラフのタイトルと軸ラベルを設定する\n",
                "#ax.set_title(\"Square Numbers\", fontsize=24)\n",
                "plt.title(\"Square Numbers\", fontsize=24)\n",
                "#ax.set_xlabel(\"Value\", fontsize=14)\n",
                "plt.xlabel(\"Value\", fontsize=14)\n",
                "#ax.set_ylabel(\"Square of Value\", fontsize=14)\n",
                "plt.ylabel(\"Square of Value\", fontsize=14)\n",
                "\n",
                "# 目盛りラベルのサイズを設定する\n",
                "ax.tick_params(labelsize=14)\n",
                "# グリッドをプロットより後ろに表示\n",
                "ax.set_axisbelow(True)\n",
                "# グリッドを表示\n",
                "plt.grid()\n",
                "plt.show()"
            ],
            "outputs": [],
            "metadata": {}
        },
        {
            "cell_type": "code",
            "execution_count": null,
            "source": [
                "#Exercise3\n",
                "import matplotlib.pyplot as plt\n",
                "\n",
                "x_values = [n for n in range(20,51)]\n",
                "y_values = [n**2 for n in range(20,51)]\n",
                "\n",
                "fig, ax = plt.subplots()\n",
                "ax.plot(x_values, y_values)\n",
                "\n",
                "plt.title(\"Square Numbers\", fontsize=24)\n",
                "plt.xlabel(\"Value\", fontsize=14)\n",
                "plt.ylabel(\"Square of Value\", fontsize=14)\n",
                "\n",
                "ax.tick_params(labelsize=14)\n",
                "ax.set_axisbelow(True)\n",
                "plt.grid()\n",
                "plt.show()"
            ],
            "outputs": [],
            "metadata": {}
        },
        {
            "cell_type": "code",
            "execution_count": null,
            "source": [
                "import numpy as np\n",
                "a1 = np.array([1,2,3])\n",
                "print(a1)\n",
                "a2 = np.array([[0,0,0],[0,0,0],[0,0,0]])\n",
                "print(a2)\n",
                "b = np.random.rand(10) #一様分布\n",
                "print(b)\n",
                "c = np.random.randn(10) #標準正規分布\n",
                "print(c)\n",
                "d = np.random.randint(10) #整数の乱数0以上10未満（一様分布）\n",
                "print(d)\n",
                "e = np.random.randint(1, 5, (2,2)) #1以上5未満の整数乱数の2x2配列\n",
                "print(e)"
            ],
            "outputs": [],
            "metadata": {}
        },
        {
            "cell_type": "code",
            "execution_count": null,
            "source": [
                "#Exercise4\n",
                "import matplotlib.pyplot as plt\n",
                "import numpy as np\n",
                "\n",
                "x_values = np.random.rand(100) * 10\n",
                "y_values = np.random.rand(100) * 10\n",
                "\n",
                "fig, ax = plt.subplots()\n",
                "ax.scatter(x_values, y_values, s=50)\n",
                "\n",
                "plt.title(\"Random Numbers\", fontsize=24)\n",
                "plt.xlabel(\"Random\", fontsize=14)\n",
                "plt.ylabel(\"Random\", fontsize=14)\n",
                "\n",
                "ax.tick_params(labelsize=14)\n",
                "plt.show()"
            ],
            "outputs": [],
            "metadata": {}
        },
        {
            "cell_type": "code",
            "execution_count": null,
            "source": [
                "#Exercise5\n",
                "import matplotlib.pyplot as plt\n",
                "import numpy as np\n",
                "\n",
                "x_values = np.random.randn(500)\n",
                "y_values = np.random.randn(500)\n",
                "\n",
                "fig, ax = plt.subplots()\n",
                "ax.scatter(x_values, y_values, s=50, alpha=0.3)\n",
                "plt.title(\"Random Numbers\", fontsize=24)\n",
                "plt.xlabel(\"Random\", fontsize=14)\n",
                "plt.ylabel(\"Random\", fontsize=14)\n",
                "\n",
                "ax.tick_params(labelsize=14)\n",
                "plt.show()"
            ],
            "outputs": [],
            "metadata": {}
        },
        {
            "cell_type": "code",
            "execution_count": null,
            "source": [
                "#Exercise6\n",
                "import matplotlib.pyplot as plt\n",
                "import numpy as np\n",
                "\n",
                "x = range(1,11)\n",
                "y = [np.random.randint(100) for n in range(10)]\n",
                "\n",
                "fig, ax = plt.subplots()\n",
                "ax.bar(x, y, tick_label=x)\n",
                "plt.title(\"Random Numbers\", fontsize=24)\n",
                "plt.xlabel(\"10rows\", fontsize=14)\n",
                "plt.ylabel(\"Random\", fontsize=14)\n",
                "\n",
                "ax.tick_params(labelsize=14)\n",
                "ax.set_axisbelow(True)\n",
                "plt.grid()\n",
                "plt.show()"
            ],
            "outputs": [],
            "metadata": {}
        },
        {
            "cell_type": "code",
            "execution_count": null,
            "source": [
                "#Exercise7\n",
                "import matplotlib.pyplot as plt\n",
                "\n",
                "labels = ['C/C++', 'PHP', 'Java', 'JavaScript', 'Python']\n",
                "sizes = [10, 20, 30, 40, 50]\n",
                "explode = [0, 0, 0, 0, 0.1]\n",
                "fig, ax = plt.subplots()\n",
                "ax.pie(sizes, explode=explode, labels=labels, autopct='%1.1f%%', startangle=90)\n",
                "plt.show()"
            ],
            "outputs": [],
            "metadata": {}
        },
        {
            "cell_type": "code",
            "execution_count": 1,
            "source": [
                "import csv\n",
                "import matplotlib.pyplot as plt\n",
                "\n",
                "filename = 'weather.csv'\n",
                "with open(filename) as f:\n",
                "    reader = csv.reader(f)\n",
                "    header_row = next(reader)\n",
                "print(header_row)"
            ],
            "outputs": [
                {
                    "output_type": "stream",
                    "name": "stdout",
                    "text": [
                        "['年月日', '平均気温(℃)', '最高気温(℃)', '最低気温(℃)']\n"
                    ]
                }
            ],
            "metadata": {}
        },
        {
            "cell_type": "code",
            "execution_count": 2,
            "source": [
                "import csv\n",
                "import matplotlib.pyplot as plt\n",
                "\n",
                "filename = 'weather.csv'\n",
                "with open(filename) as f:\n",
                "    reader = csv.reader(f)\n",
                "    header_row = next(reader)\n",
                "\n",
                "    averages = []\n",
                "    for row in reader:\n",
                "        average = float(row[1])\n",
                "        averages.append(average)\n",
                "print(averages)"
            ],
            "outputs": [
                {
                    "output_type": "stream",
                    "name": "stdout",
                    "text": [
                        "[23.9, 25.9, 27.8, 29.0, 30.0, 28.8, 27.3, 26.3, 24.9, 24.8, 26.6, 28.0, 28.5, 27.8, 28.2, 28.9, 29.2, 29.0, 29.6, 29.8, 29.5, 29.8, 30.2, 30.9, 32.0, 31.5, 31.2, 31.1, 31.6, 32.3, 32.8, 32.4, 31.5, 31.1, 32.0, 31.8, 29.8, 30.0, 30.6, 30.6, 30.9, 28.7, 29.3, 30.4, 30.7, 31.1, 29.9, 29.5, 30.2, 28.4, 29.2, 27.7, 28.4, 29.0, 25.2, 25.3, 26.9, 29.0, 26.6, 24.1, 24.8, 25.7, 27.9, 27.6, 25.0, 23.5, 23.6, 22.9, 25.4, 25.1, 21.6, 23.0, 22.4, 21.7, 22.3, 22.3, 21.9, 22.6, 23.6, 24.1, 22.5, 19.5, 19.4, 16.0, 18.4, 20.7, 22.3, 22.7, 22.1, 20.8, 19.2, 18.8, 13.1, 15.2, 15.1, 17.2, 18.7, 19.6, 17.9, 16.5, 15.1, 16.1, 16.5, 16.9, 16.8, 14.6, 14.5, 16.8, 16.4, 15.3, 12.8, 13.0, 15.6, 16.7, 17.6, 13.7, 12.5, 11.0, 12.9, 14.8, 14.3, 15.3, 17.0, 17.1, 18.7, 20.5, 19.9, 14.3, 14.5, 14.4, 12.4, 12.1, 13.3, 14.8, 11.6, 10.6, 10.7, 10.7, 10.9, 11.2, 10.5, 10.1, 10.4, 11.3, 11.8, 10.2, 10.7, 12.3, 12.6, 11.0, 9.2, 5.6, 4.6, 4.7, 7.1, 6.5, 5.5, 6.3, 7.4, 8.2, 7.2, 8.3, 7.4, 7.6, 9.0, 8.9, 7.4, 3.7, 4.6, 5.6, 6.1, 6.1, 6.1, 6.8, 3.3, 0.2, 0.9, 2.5, 3.4, 3.2, 5.5, 7.5, 9.3, 8.6, 6.8, 4.6, 4.1, 4.7, 7.2, 8.5, 8.6, 8.3, 10.1, 12.1, 11.6, 8.6, 3.8, 4.8, 7.7, 7.9, 9.5, 5.7, 6.7, 7.3, 10.8, 9.6, 6.8, 4.7, 7.8, 9.8, 10.1, 13.7, 14.5, 13.1, 8.4, 3.9, 2.6, 5.1, 10.0, 13.6, 14.7, 10.5, 6.3, 7.5, 7.6, 6.7, 9.5, 14.3, 10.3, 6.8, 11.0, 12.0, 11.7, 8.5, 8.5, 9.2, 11.1, 10.2, 11.9, 11.5, 10.8, 11.8, 13.8, 12.1, 11.4, 13.3, 15.4, 14.4, 10.1, 10.3, 13.5, 14.0, 13.4, 14.0, 15.8, 16.6, 16.5, 15.3, 16.3, 18.8, 18.0, 17.0, 12.4, 11.5, 14.2, 14.9, 11.9, 11.1, 13.7, 16.7, 17.9, 14.7, 13.3, 16.2, 13.8, 12.2, 13.5, 17.0, 19.3, 19.4, 18.1, 18.0, 16.8, 13.5, 15.5, 16.8, 15.3, 18.0, 18.3, 14.1, 15.7, 18.5, 17.3, 19.2, 17.6, 18.7, 20.5, 19.1, 18.9, 17.7, 21.1, 22.9, 22.8, 21.0, 23.0, 22.2, 21.2, 20.3, 21.3, 19.4, 21.9, 20.0, 21.1, 20.5, 16.8, 20.6, 22.8, 21.8, 22.2, 23.2, 23.4, 22.9, 20.3, 20.7, 22.7, 25.0, 26.0, 25.9, 25.2, 24.3, 24.6, 23.6, 24.5, 25.3, 21.9, 24.5, 23.5, 21.0, 23.2, 24.5, 24.1, 24.8, 24.7, 25.5, 24.1, 23.7, 24.9, 24.6, 25.1, 23.1, 24.8, 27.1, 27.5, 28.3, 28.4, 25.4, 25.5, 26.7, 27.8, 28.3, 26.9, 27.3, 26.2, 25.9, 26.7, 28.6]\n"
                    ]
                }
            ],
            "metadata": {}
        }
    ],
    "metadata": {
        "orig_nbformat": 4,
        "language_info": {
            "name": "python"
        }
    },
    "nbformat": 4,
    "nbformat_minor": 2
}