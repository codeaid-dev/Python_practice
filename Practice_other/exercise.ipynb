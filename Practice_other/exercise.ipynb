{
    "cells": [
        {
            "cell_type": "code",
            "execution_count": null,
            "source": [
                "import matplotlib.pyplot as plt\n",
                "\n",
                "squares = [1, 4, 9, 16, 25]\n",
                "fig, ax = plt.subplots()\n",
                "ax.plot(squares, linewidth=3)\n",
                "\n",
                "# グラフのタイトルと軸ラベルを設定する\n",
                "ax.set_title(\"Square Numbers\", fontsize=24)\n",
                "ax.set_xlabel(\"Value\", fontsize=14)\n",
                "ax.set_ylabel(\"Square of Value\", fontsize=14)\n",
                "\n",
                "# 目盛りラベルのサイズを設定する\n",
                "ax.tick_params(axis='both', labelsize=14)\n",
                "plt.show()"
            ],
            "outputs": [],
            "metadata": {}
        },
        {
            "cell_type": "code",
            "execution_count": null,
            "source": [
                "import matplotlib.pyplot as plt\n",
                "\n",
                "x_values = [1,2,3,4,5]\n",
                "y_values = [1,4,9,16,25]\n",
                "\n",
                "plt.style.use('seaborn')\n",
                "fig, ax = plt.subplots()\n",
                "ax.scatter(x_values, y_values, s=100)\n",
                "\n",
                "# グラフのタイトルと軸ラベルを設定する\n",
                "ax.set_title(\"Square Numbers\", fontsize=24)\n",
                "ax.set_xlabel(\"Value\", fontsize=14)\n",
                "ax.set_ylabel(\"Square of Value\", fontsize=14)\n",
                "\n",
                "# 目盛りラベルのサイズを設定する\n",
                "ax.tick_params(axis='both', which='major', labelsize=14)\n",
                "plt.show()"
            ],
            "outputs": [],
            "metadata": {}
        },
        {
            "cell_type": "code",
            "execution_count": null,
            "source": [
                "import matplotlib.pyplot as plt\n",
                "\n",
                "x_values = range(1, 1001)\n",
                "y_values = [x**2 for x in x_values]\n",
                "\n",
                "plt.style.use('seaborn')\n",
                "fig, ax = plt.subplots()\n",
                "ax.scatter(x_values, y_values, c=y_values, cmap=plt.cm.Blues, s=10)\n",
                "\n",
                "# グラフのタイトルと軸ラベルを設定する\n",
                "ax.set_title(\"Square Numbers\", fontsize=24)\n",
                "ax.set_xlabel(\"Value\", fontsize=14)\n",
                "ax.set_ylabel(\"Square of Value\", fontsize=14)\n",
                "\n",
                "# 目盛りラベルのサイズを設定する\n",
                "ax.tick_params(axis='both', which='major', labelsize=14)\n",
                "\n",
                "# 各軸の範囲を設定する\n",
                "ax.axis([0, 1100, 0, 1100000])\n",
                "plt.show()"
            ],
            "outputs": [],
            "metadata": {}
        }
    ],
    "metadata": {
        "orig_nbformat": 4,
        "language_info": {
            "name": "python"
        }
    },
    "nbformat": 4,
    "nbformat_minor": 2
}