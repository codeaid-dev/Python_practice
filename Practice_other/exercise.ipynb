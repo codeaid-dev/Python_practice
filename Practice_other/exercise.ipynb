{
    "cells": [
        {
            "cell_type": "code",
            "execution_count": null,
            "source": [
                "#Exercise1\n",
                "import matplotlib.pyplot as plt\n",
                "\n",
                "squares = [1, 4, 9, 16, 25]\n",
                "fig, ax = plt.subplots()\n",
                "ax.plot(squares)\n",
                "plt.show()\n"
            ],
            "outputs": [],
            "metadata": {}
        },
        {
            "cell_type": "code",
            "execution_count": null,
            "source": [
                "#Exercise2\n",
                "import matplotlib.pyplot as plt\n",
                "\n",
                "squares = [1, 4, 9, 16, 25]\n",
                "fig, ax = plt.subplots()\n",
                "ax.plot(squares, linewidth=3)\n",
                "\n",
                "# グラフのタイトルと軸ラベルを設定する\n",
                "#ax.set_title(\"Square Numbers\", fontsize=24)\n",
                "plt.title(\"Square Numbers\", fontsize=24)\n",
                "#ax.set_xlabel(\"Value\", fontsize=14)\n",
                "plt.xlabel(\"Value\", fontsize=14)\n",
                "#ax.set_ylabel(\"Square of Value\", fontsize=14)\n",
                "plt.ylabel(\"Square of Value\", fontsize=14)\n",
                "\n",
                "# 目盛りラベルのサイズを設定する\n",
                "ax.tick_params(labelsize=14)\n",
                "# グリッドをプロットより後ろに表示\n",
                "ax.set_axisbelow(True)\n",
                "# グリッドを表示\n",
                "plt.grid()\n",
                "plt.show()"
            ],
            "outputs": [],
            "metadata": {}
        },
        {
            "cell_type": "code",
            "execution_count": null,
            "source": [
                "#Exercise3\n",
                "import matplotlib.pyplot as plt\n",
                "\n",
                "x_values = [n for n in range(20,51)]\n",
                "y_values = [n**2 for n in range(20,51)]\n",
                "\n",
                "fig, ax = plt.subplots()\n",
                "ax.plot(x_values, y_values)\n",
                "\n",
                "plt.title(\"Square Numbers\", fontsize=24)\n",
                "plt.xlabel(\"Value\", fontsize=14)\n",
                "plt.ylabel(\"Square of Value\", fontsize=14)\n",
                "\n",
                "ax.tick_params(labelsize=14)\n",
                "ax.set_axisbelow(True)\n",
                "plt.grid()\n",
                "plt.show()"
            ],
            "outputs": [],
            "metadata": {}
        },
        {
            "cell_type": "code",
            "execution_count": null,
            "source": [
                "import numpy as np\n",
                "a1 = np.array([1,2,3])\n",
                "print(a1)\n",
                "a2 = np.array([[0,0,0],[0,0,0],[0,0,0]])\n",
                "print(a2)\n",
                "b = np.random.rand(10) #一様分布\n",
                "print(b)\n",
                "c = np.random.randn(10) #標準正規分布\n",
                "print(c)\n",
                "d = np.random.randint(10) #整数の乱数0以上10未満（一様分布）\n",
                "print(d)\n",
                "e = np.random.randint(1, 5, (2,2)) #1以上5未満の整数乱数の2x2配列\n",
                "print(e)"
            ],
            "outputs": [],
            "metadata": {}
        },
        {
            "cell_type": "code",
            "execution_count": null,
            "source": [
                "#Exercise4\n",
                "import matplotlib.pyplot as plt\n",
                "import numpy as np\n",
                "\n",
                "x_values = np.random.rand(100) * 10\n",
                "y_values = np.random.rand(100) * 10\n",
                "\n",
                "fig, ax = plt.subplots()\n",
                "ax.scatter(x_values, y_values, s=50)\n",
                "\n",
                "plt.title(\"Random Numbers\", fontsize=24)\n",
                "plt.xlabel(\"Random\", fontsize=14)\n",
                "plt.ylabel(\"Random\", fontsize=14)\n",
                "\n",
                "ax.tick_params(labelsize=14)\n",
                "plt.show()"
            ],
            "outputs": [],
            "metadata": {}
        },
        {
            "cell_type": "code",
            "execution_count": null,
            "source": [
                "#Exercise5\n",
                "import matplotlib.pyplot as plt\n",
                "import numpy as np\n",
                "\n",
                "x_values = np.random.randn(500)\n",
                "y_values = np.random.randn(500)\n",
                "\n",
                "fig, ax = plt.subplots()\n",
                "ax.scatter(x_values, y_values, s=50, alpha=0.3)\n",
                "plt.title(\"Random Numbers\", fontsize=24)\n",
                "plt.xlabel(\"Random\", fontsize=14)\n",
                "plt.ylabel(\"Random\", fontsize=14)\n",
                "\n",
                "ax.tick_params(labelsize=14)\n",
                "plt.show()"
            ],
            "outputs": [],
            "metadata": {}
        },
        {
            "cell_type": "code",
            "execution_count": null,
            "source": [
                "#Exercise6\n",
                "import matplotlib.pyplot as plt\n",
                "import numpy as np\n",
                "\n",
                "x = range(1,11)\n",
                "y = [np.random.randint(100) for n in range(10)]\n",
                "\n",
                "fig, ax = plt.subplots()\n",
                "ax.bar(x, y, tick_label=x)\n",
                "plt.title(\"Random Numbers\", fontsize=24)\n",
                "plt.xlabel(\"10rows\", fontsize=14)\n",
                "plt.ylabel(\"Random\", fontsize=14)\n",
                "\n",
                "ax.tick_params(labelsize=14)\n",
                "ax.set_axisbelow(True)\n",
                "plt.grid()\n",
                "plt.show()"
            ],
            "outputs": [],
            "metadata": {}
        },
        {
            "cell_type": "code",
            "execution_count": null,
            "source": [
                "#Exercise7\n",
                "import matplotlib.pyplot as plt\n",
                "\n",
                "labels = ['C/C++', 'PHP', 'Java', 'JavaScript', 'Python']\n",
                "sizes = [10, 20, 30, 40, 50]\n",
                "explode = [0, 0, 0, 0, 0.1]\n",
                "fig, ax = plt.subplots()\n",
                "ax.pie(sizes, explode=explode, labels=labels, autopct='%1.1f%%', startangle=90)\n",
                "plt.show()"
            ],
            "outputs": [],
            "metadata": {}
        },
        {
            "cell_type": "code",
            "execution_count": null,
            "source": [
                "#ExerciseD1\n",
                "import csv\n",
                "\n",
                "filename = 'weather.csv'\n",
                "with open(filename) as f:\n",
                "    reader = csv.reader(f)\n",
                "    header_row = next(reader)\n",
                "print(header_row)"
            ],
            "outputs": [],
            "metadata": {}
        },
        {
            "cell_type": "code",
            "execution_count": null,
            "source": [
                "#ExerciseD2\n",
                "import csv\n",
                "\n",
                "filename = 'weather.csv'\n",
                "with open(filename) as f:\n",
                "    reader = csv.reader(f)\n",
                "    header_row = next(reader)\n",
                "\n",
                "    averages = []\n",
                "    for row in reader:\n",
                "        average = float(row[1])\n",
                "        averages.append(average)\n",
                "print(averages)"
            ],
            "outputs": [],
            "metadata": {}
        },
        {
            "cell_type": "code",
            "execution_count": null,
            "source": [
                "from datetime import datetime\n",
                "date = datetime.strptime('2020/7/1', '%Y/%m/%d')\n",
                "print(date)"
            ],
            "outputs": [],
            "metadata": {}
        },
        {
            "cell_type": "code",
            "execution_count": null,
            "source": [
                "import csv\n",
                "import matplotlib.pyplot as plt\n",
                "\n",
                "filename = 'tiobe_ranking_4years.csv'\n",
                "with open(filename) as f:\n",
                "    reader = csv.reader(f)\n",
                "    header_row = next(reader)\n",
                "\n",
                "    rank2021,rank2016 = [],[]\n",
                "    for row in reader:\n",
                "        language = row[0]\n",
                "        try:\n",
                "            r1 = int(row[1])\n",
                "            r2 = int(row[2])\n",
                "        except ValueError:\n",
                "            print(f'データが欠けています{row[0]}')\n",
                "        else:\n",
                "            rank2021.append(r1)\n",
                "            rank2016.append(r2)\n",
                "\n",
                "print(rank2021)\n",
                "print(rank2016)\n"
            ],
            "outputs": [],
            "metadata": {}
        },
        {
            "cell_type": "code",
            "execution_count": 31,
            "source": [
                "import json\n",
                "\n",
                "filename = 'osaka.json'\n",
                "with open(filename) as f:\n",
                "    data = json.load(f)\n",
                "\n",
                "with open(filename, 'w') as f:\n",
                "    json.dump(data, f, ensure_ascii=False, indent=2)\n"
            ],
            "outputs": [],
            "metadata": {}
        }
    ],
    "metadata": {
        "orig_nbformat": 4,
        "language_info": {
            "name": "python",
            "version": "3.8.5",
            "mimetype": "text/x-python",
            "codemirror_mode": {
                "name": "ipython",
                "version": 3
            },
            "pygments_lexer": "ipython3",
            "nbconvert_exporter": "python",
            "file_extension": ".py"
        },
        "kernelspec": {
            "name": "python3",
            "display_name": "Python 3.8.5 64-bit ('anaconda3-2020.11': pyenv)"
        },
        "interpreter": {
            "hash": "852551a099bcd4103935b167f0506d01d7ded54002d00169929d9de4d04cfb6a"
        }
    },
    "nbformat": 4,
    "nbformat_minor": 2
}