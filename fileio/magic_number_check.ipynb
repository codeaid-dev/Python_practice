{
 "cells": [
  {
   "cell_type": "code",
   "execution_count": null,
   "metadata": {},
   "outputs": [],
   "source": [
    "fname = input('File Name >>')\n",
    "JPEG = b'\\xFF\\xD8'\n",
    "PNG = b'\\x89\\x50\\x4E\\x47'\n",
    "PDF = b'\\x25\\x50\\x44\\x46'\n",
    "GIF = b'\\x47\\x49\\x46'\n",
    "BMP = b'\\x42\\x4D'\n",
    "TIFF_L = b'\\x49\\x49\\x2A\\x00'\n",
    "TIFF_B = b'\\x4D\\x4D\\x00\\x2A'\n",
    "WEBP_F = b'\\x52\\x49\\x46\\x46'\n",
    "WEBP_E = b'\\x57\\x45\\x42\\x50'\n",
    "ftype = None\n",
    "with open(fname, 'rb') as fin:\n",
    "    byte = fin.read(12)\n",
    "    if byte[:2] == JPEG:\n",
    "        ftype = 'JPEG'\n",
    "    elif byte[:4] == PNG:\n",
    "        ftype = 'PNG'\n",
    "    elif byte[:4] == PDF:\n",
    "        ftype = 'PDF'\n",
    "    elif byte[:3] == GIF:\n",
    "        ftype = 'GIF'\n",
    "    elif byte[:2] == BMP:\n",
    "        ftype = 'BMP'\n",
    "    elif byte[:4] == TIFF_L or byte[:4] == TIFF_B:\n",
    "        ftype = 'TIFF'\n",
    "    elif byte[:4] == WEBP_F and byte[8:12] == WEBP_E:\n",
    "        ftype = 'WEBP'\n",
    "if ftype is None:\n",
    "    print('Not Image file or can not read it')\n",
    "else:\n",
    "    print(f'File Type is {ftype}')"
   ]
  },
  {
   "cell_type": "code",
   "execution_count": null,
   "metadata": {},
   "outputs": [],
   "source": [
    "import imghdr\n",
    "\n",
    "fname = input('File Name >>')\n",
    "ftype = imghdr.what(fname)\n",
    "if ftype is None:\n",
    "    print('Not Image file or can not read it')\n",
    "else:\n",
    "    print(f'File Type is {ftype}')"
   ]
  }
 ],
 "metadata": {
  "interpreter": {
   "hash": "ab64589ac9d6bd956e857448da5e411ff91b136249a71239f0da316d67e65b64"
  },
  "kernelspec": {
   "display_name": "Python 3.10.3 64-bit ('3.10.3')",
   "language": "python",
   "name": "python3"
  },
  "language_info": {
   "name": "python",
   "version": "3.10.3"
  },
  "orig_nbformat": 4
 },
 "nbformat": 4,
 "nbformat_minor": 2
}
