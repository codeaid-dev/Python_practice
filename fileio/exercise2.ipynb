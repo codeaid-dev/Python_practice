{
 "cells": [
  {
   "cell_type": "code",
   "execution_count": null,
   "metadata": {},
   "outputs": [],
   "source": [
    "#Exercise1\n",
    "import os\n",
    "\n",
    "if not os.path.exists('example'):\n",
    "    os.mkdir('example')\n",
    "text = input('>> ')\n",
    "with open('example/sample.txt', 'w') as fout:\n",
    "    fout.write(text+'\\n')\n",
    "    #print(text, file=fout)\n",
    "\n",
    "os.path.exists('example/sample.txt')\n"
   ]
  },
  {
   "cell_type": "code",
   "execution_count": null,
   "metadata": {},
   "outputs": [],
   "source": [
    "#Exercise2\n",
    "import os\n",
    "from datetime import datetime\n",
    "\n",
    "dstr = datetime.now().strftime('%Y%m%d%H%M%S')\n",
    "if not os.path.exists('example'):\n",
    "    os.mkdir('example')\n",
    "text = input('>> ')\n",
    "fname = 'example/sample' + dstr + '.txt'\n",
    "with open(fname, 'w') as fout:\n",
    "    fout.write(text+'\\n')\n",
    "    #print(text, file=fout)\n",
    "\n",
    "os.path.exists(fname)"
   ]
  },
  {
   "cell_type": "code",
   "execution_count": null,
   "metadata": {},
   "outputs": [],
   "source": [
    "#Exercise3\n",
    "import os\n",
    "\n",
    "flist = os.listdir('example')\n",
    "print(flist)\n",
    "full = [os.path.abspath(name) for name in flist]\n",
    "print(full)"
   ]
  },
  {
   "cell_type": "code",
   "execution_count": null,
   "metadata": {},
   "outputs": [],
   "source": [
    "#Exercise4\n",
    "import os\n",
    "\n",
    "names = input('削除ファイル >>').split(',')\n",
    "for f in names:\n",
    "    os.remove('example/'+f)\n",
    "print(f'{names}を削除しました。')"
   ]
  },
  {
   "cell_type": "code",
   "execution_count": null,
   "metadata": {},
   "outputs": [],
   "source": [
    "#Exercise5\n",
    "import os\n",
    "from datetime import datetime\n",
    "\n",
    "fname = input('ファイル名 >>')\n",
    "dstr = 'example/' + datetime.now().strftime('%Y%m%d')\n",
    "if not os.path.exists(dstr):\n",
    "    os.mkdir(dstr)\n",
    "with open(dstr+'/'+fname, 'wt') as fout:\n",
    "    fout.write('Hello World !!\\n')\n"
   ]
  },
  {
   "cell_type": "code",
   "execution_count": 36,
   "metadata": {},
   "outputs": [],
   "source": [
    "#Exercise6\n",
    "import os\n",
    "\n",
    "def delete(path):\n",
    "    for name in os.listdir(path):\n",
    "        rm = path + name\n",
    "        if os.path.isfile(rm):\n",
    "            os.remove(rm)\n",
    "        if os.path.isdir(rm):\n",
    "            delete(rm+'/')\n",
    "            os.rmdir(rm)\n",
    "\n",
    "delete('example/')\n"
   ]
  },
  {
   "cell_type": "code",
   "execution_count": null,
   "metadata": {},
   "outputs": [],
   "source": [
    "#Exercise7\n",
    "import os\n",
    "\n",
    "path = input('>> ')\n",
    "dirs = []\n",
    "files = []\n",
    "for name in os.listdir(path):\n",
    "    w = os.path.join(path, name)\n",
    "    if os.path.isdir(w):\n",
    "        dirs.append(name)\n",
    "    elif os.path.isfile(w):\n",
    "        files.append(name)\n",
    "\n",
    "print('ディレクトリ一覧:')\n",
    "print(dirs)\n",
    "#print([ name for name in os.listdir(path) if os.path.isdir(os.path.join(path, name)) ])\n",
    "print('ファイル一覧:')\n",
    "print(files)\n",
    "#print([ name for name in os.listdir(path) if os.path.isfile(os.path.join(path, name)) ])\n"
   ]
  },
  {
   "cell_type": "code",
   "execution_count": null,
   "metadata": {},
   "outputs": [],
   "source": [
    "#Exercise8\n",
    "import os\n",
    "\n",
    "path = input('>> ')\n",
    "with os.scandir(path) as it:\n",
    "    dirs = [entry.name for entry in it if entry.is_dir()]\n",
    "with os.scandir(path) as it:\n",
    "    files = [entry.name for entry in it if entry.is_file()]\n",
    "\n",
    "print('ディレクトリ一覧:')\n",
    "print(dirs)\n",
    "print('ファイル一覧:')\n",
    "print(files)"
   ]
  },
  {
   "cell_type": "code",
   "execution_count": null,
   "metadata": {},
   "outputs": [],
   "source": [
    "#Exercise9\n",
    "import pathlib\n",
    "\n",
    "path = input('>> ')\n",
    "dirs, files = [],[]\n",
    "file_dir = pathlib.Path(path)\n",
    "for p in file_dir.iterdir():\n",
    "    if p.is_dir():\n",
    "        dirs.append(p.name)\n",
    "    elif p.is_file():\n",
    "        files.append(p.name)\n",
    "\n",
    "print('ディレクトリ一覧:')\n",
    "print(dirs)\n",
    "#print([p.name for p in pathlib.Path(path).iterdir() if p.is_dir()])\n",
    "print('ファイル一覧:')\n",
    "print(files)\n",
    "#print([p.name for p in pathlib.Path(path).iterdir() if p.is_file()])\n"
   ]
  },
  {
   "cell_type": "code",
   "execution_count": null,
   "metadata": {},
   "outputs": [],
   "source": [
    "#Exercise10\n",
    "import os\n",
    "import glob\n",
    "\n",
    "path = input('>> ')\n",
    "print(glob.glob(os.path.join(path, '*.py')))\n"
   ]
  },
  {
   "cell_type": "code",
   "execution_count": null,
   "metadata": {},
   "outputs": [],
   "source": [
    "#Exercise11\n",
    "import pathlib\n",
    "\n",
    "path = input('>> ')\n",
    "files = []\n",
    "path = pathlib.Path(path)\n",
    "for p in path.iterdir():\n",
    "    if p.match('*.py'):\n",
    "        files.append(p.name)\n",
    "\n",
    "print('Pythonプログラム一覧:')\n",
    "print(files)\n",
    "#print([p.name for p in pathlib.Path(path).iterdir() if p.match('*.py')])"
   ]
  }
 ],
 "metadata": {
  "kernelspec": {
   "display_name": "Python 3",
   "language": "python",
   "name": "python3"
  },
  "language_info": {
   "codemirror_mode": {
    "name": "ipython",
    "version": 3
   },
   "file_extension": ".py",
   "mimetype": "text/x-python",
   "name": "python",
   "nbconvert_exporter": "python",
   "pygments_lexer": "ipython3",
   "version": "3.9.7"
  }
 },
 "nbformat": 4,
 "nbformat_minor": 4
}
