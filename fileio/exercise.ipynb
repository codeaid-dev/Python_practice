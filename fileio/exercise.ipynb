{
 "cells": [
  {
   "cell_type": "code",
   "execution_count": null,
   "metadata": {},
   "outputs": [],
   "source": [
    "#Exercise1\n",
    "text = input('書き込む >>')\n",
    "fout = open('sample.txt', 'a')\n",
    "fout.write(text + '\\n')\n",
    "fout.close()"
   ]
  },
  {
   "cell_type": "code",
   "execution_count": null,
   "metadata": {},
   "outputs": [],
   "source": [
    "#Exercise2\n",
    "with open('sample.txt', 'r') as fin:\n",
    "    cnt = 0\n",
    "    for line in fin:\n",
    "        cnt += 1\n",
    "        print(f'{cnt}:{line}',end='')\n",
    "\n",
    "#    while True:\n",
    "#        line = fin.readline()\n",
    "#        if not line:\n",
    "#            break\n",
    "#        cnt += 1\n",
    "#        print(f'{cnt}:{line}',end='')\n"
   ]
  },
  {
   "cell_type": "code",
   "execution_count": null,
   "metadata": {},
   "outputs": [],
   "source": [
    "#Exercise3\n",
    "num = int(input('行番号 >>'))\n",
    "#lines = []\n",
    "with open('sample.txt', 'r') as fin:\n",
    "    lines = fin.readlines()\n",
    "#   for line in fin:\n",
    "#        lines.append(line)\n",
    "if num > len(lines):\n",
    "    print('出力できる行はありません')\n",
    "else:\n",
    "    print(f'{num}:{lines[num-1]}', end='')"
   ]
  },
  {
   "cell_type": "code",
   "execution_count": null,
   "metadata": {},
   "outputs": [],
   "source": [
    "#コード形式について\n",
    "with open('test-win2.txt', 'r', encoding='shift-jis') as f:\n",
    "    text = f.read()\n",
    "    print(text)"
   ]
  },
  {
   "cell_type": "code",
   "execution_count": null,
   "metadata": {},
   "outputs": [],
   "source": [
    "#Exercise4\n",
    "with open('sample.txt', 'r') as fin:\n",
    "    for i, l in enumerate(fin):\n",
    "        pass\n",
    "print(f'ファイル行数：{i+1}')"
   ]
  },
  {
   "cell_type": "code",
   "execution_count": null,
   "metadata": {},
   "outputs": [],
   "source": [
    "#Exercise4-2\n",
    "with open('sample.txt', 'r') as fin:\n",
    "    text = fin.read()\n",
    "NL = '\\n'\n",
    "print(f\"ファイル行数：{text.count(NL)}\")"
   ]
  },
  {
   "cell_type": "code",
   "execution_count": null,
   "metadata": {},
   "outputs": [],
   "source": [
    "#Exercise5\n",
    "with open('sample.txt', 'r') as fin:\n",
    "    lines = fin.readlines()\n",
    "    new_list = [s.rstrip('\\n') for s in lines]\n",
    "print(new_list)"
   ]
  },
  {
   "cell_type": "code",
   "execution_count": null,
   "metadata": {},
   "outputs": [],
   "source": [
    "#Exercise6\n",
    "color = ['Red', 'Green', 'White', 'Black', 'Pink', 'Yellow']\n",
    "with open('color.txt', 'w') as fout:\n",
    "    for c in color:\n",
    "        fout.write(f\"{c}\\n\")"
   ]
  },
  {
   "cell_type": "code",
   "execution_count": null,
   "metadata": {},
   "outputs": [],
   "source": [
    "#Exercise7\n",
    "import string\n",
    "num = int(input('文字数 >>'))\n",
    "with open('words.txt', 'w') as fout:\n",
    "    alphabet = string.ascii_uppercase\n",
    "    for i in range(0, len(alphabet), num):\n",
    "        fout.write(alphabet[i:i+num]+'\\n')\n",
    "#    letters = [alphabet[i:i+num]+'\\n' for i in range(0, len(alphabet), num)]\n",
    "#    fout.writelines(letters)\n"
   ]
  },
  {
   "cell_type": "code",
   "execution_count": null,
   "metadata": {},
   "outputs": [],
   "source": [
    "#Exercise8\n",
    "import csv\n",
    "with open('departments.csv', 'r', newline='') as csvfile:\n",
    "    data = csv.reader(csvfile)\n",
    "    oders = [row for row in data]\n",
    "for s in oders:\n",
    "    print(s)\n"
   ]
  },
  {
   "cell_type": "code",
   "execution_count": null,
   "metadata": {},
   "outputs": [],
   "source": [
    "#Exercise9\n",
    "import csv\n",
    "with open('departments.csv', 'r', newline='') as csvfile:\n",
    "    data = csv.reader(csvfile)\n",
    "    oders = [row for row in data]\n",
    "for s in oders:\n",
    "    if '製品開発部' in s:\n",
    "        print(f'製品開発部ID:{s[0]}')"
   ]
  },
  {
   "cell_type": "code",
   "execution_count": null,
   "metadata": {},
   "outputs": [],
   "source": [
    "#Exercise10\n",
    "import csv\n",
    "with open('departments.csv', 'r', newline='') as csvfile:\n",
    "    data = csv.DictReader(csvfile)\n",
    "    oders = [row for row in data]\n",
    "for s in oders:\n",
    "    if s['部門名'] == '製品開発部':\n",
    "        w = s['部門ID']\n",
    "        print(f'製品開発部ID:{w}')"
   ]
  },
  {
   "cell_type": "code",
   "execution_count": null,
   "metadata": {},
   "outputs": [],
   "source": [
    "#Exercise11\n",
    "import csv\n",
    "with open('countries.csv', 'r', newline='') as csvfile:\n",
    "    data = csv.reader(csvfile, delimiter='|')\n",
    "    for row in data:\n",
    "        print(','.join(row))"
   ]
  },
  {
   "cell_type": "code",
   "execution_count": null,
   "metadata": {},
   "outputs": [],
   "source": [
    "#Exercise12\n",
    "import csv\n",
    "with open('countries2.csv', 'r', newline='') as csvfile:\n",
    "    data = csv.reader(csvfile, delimiter='|', skipinitialspace=True, quoting=csv.QUOTE_ALL)\n",
    "    for row in data:\n",
    "        print(','.join(row))"
   ]
  },
  {
   "cell_type": "code",
   "execution_count": null,
   "metadata": {},
   "outputs": [],
   "source": [
    "#Exercise13\n",
    "import csv\n",
    "oder = [\n",
    "    ['id','name','price'],\n",
    "    ['101','Wireless Mouse',3500],\n",
    "    ['102','4K Display',55000],\n",
    "    ['103','Intel Core i9 PC',120000]\n",
    "]\n",
    "with open('oder.csv', 'w', newline='') as csvfile:\n",
    "    csvout = csv.writer(csvfile)\n",
    "    csvout.writerows(oder)"
   ]
  },
  {
   "cell_type": "code",
   "execution_count": null,
   "metadata": {},
   "outputs": [],
   "source": [
    "#Exercise14\n",
    "import csv\n",
    "with open('oder.csv', 'r', newline='') as csvfile:\n",
    "    data = csv.DictReader(csvfile)\n",
    "    oders = [row for row in data]\n",
    "for item in oders:\n",
    "    if item['id'] == '103':\n",
    "        print(f\"Price{item['id']}: {item['price']}yen\")\n"
   ]
  },
  {
   "cell_type": "code",
   "execution_count": null,
   "metadata": {},
   "outputs": [],
   "source": [
    "#Exercise15-1\n",
    "import json\n",
    "\n",
    "dic = {'japanese': '日本語', 'english': '英語'}\n",
    "text = json.dumps(dic, sort_keys=True, ensure_ascii=False, indent=2)\n",
    "#text = json.dumps(dic)\n",
    "with open('sample.json', 'w', encoding='utf-8') as fh:\n",
    "    fh.write(text)"
   ]
  },
  {
   "cell_type": "code",
   "execution_count": null,
   "metadata": {},
   "outputs": [],
   "source": [
    "#Exercise15-2\n",
    "import json\n",
    "\n",
    "dic = {'japanese': '日本語', 'english': '英語'}\n",
    "with open('sample.json', 'w', encoding='utf-8') as fh:\n",
    "    json.dump(dic, fh, sort_keys=True, ensure_ascii=False, indent=2)"
   ]
  },
  {
   "cell_type": "code",
   "execution_count": null,
   "metadata": {},
   "outputs": [],
   "source": [
    "#Exercise16\n",
    "import json\n",
    "\n",
    "with open('sample.json', 'r', encoding='utf-8') as fh:\n",
    "#    js = json.load(fh)\n",
    "    js = json.loads(fh.read())\n",
    "    print(js)\n",
    "    print(js['japanese'])"
   ]
  },
  {
   "cell_type": "code",
   "execution_count": null,
   "metadata": {},
   "outputs": [],
   "source": [
    "#Exercise17\n",
    "import json\n",
    "\n",
    "books = {'book1':{'title':'Python3入門', '年':2020, 'page':567},\n",
    " 'book2':{'title':'Python Developers', '年':2021, 'page':650},\n",
    " 'book3':{'title':'Pythonゲーム入門', '年':2019, 'page':344},\n",
    " 'book4':{'title':'Pythonデータ分析', '年':2018, 'page':478},\n",
    " 'book5':{'title':'Python自動処理', '年':2020, 'page':352}}\n",
    "\n",
    "text = json.dumps(books, sort_keys=True, ensure_ascii=False, indent=2)\n",
    "with open('sample.json', 'w', encoding='utf-8') as fh:\n",
    "    fh.write(text)\n",
    "\n",
    "#with open('sample.json', 'w', encoding='utf-8') as fh:\n",
    "#    json.dump(books, fh, sort_keys=True, ensure_ascii=False, indent=2)"
   ]
  },
  {
   "cell_type": "code",
   "execution_count": null,
   "metadata": {},
   "outputs": [],
   "source": [
    "#Exercise18\n",
    "import json\n",
    "\n",
    "with open('sample.json', 'r', encoding='utf-8') as f:\n",
    "    json_dict = json.loads(f.read())\n",
    "#    json_dict = json.load(f)\n",
    "print(type(json_dict))\n",
    "print(f'book1のタイトル：{json_dict[\"book1\"][\"title\"]}')\n",
    "print(f'book3のページ数:{json_dict[\"book3\"][\"page\"]}')"
   ]
  },
  {
   "cell_type": "code",
   "execution_count": null,
   "metadata": {},
   "outputs": [],
   "source": [
    "#Exercise19\n",
    "import json\n",
    "\n",
    "developer = \"\"\"{\n",
    "    \"name\": \"Taro Yamada\",\n",
    "    \"skills\": [\n",
    "        \"Machine Learning\",\n",
    "        \"Web Development\"\n",
    "    ],\n",
    "    \"email\": \"yamada@example.com\",\n",
    "    \"projects\": [\n",
    "        \"Python Data Mining\",\n",
    "        \"Python Data Science\"\n",
    "    ]\n",
    "}\"\"\"\n",
    "dev_dict = json.loads(developer)\n",
    "print(f\"Name: {dev_dict['name']}\")\n",
    "print(f\"Skills: {dev_dict['skills']}\")\n",
    "print(f\"Email: {dev_dict['email']}\")\n",
    "print(f\"Projects: {dev_dict['projects']}\")\n"
   ]
  },
  {
   "cell_type": "code",
   "execution_count": null,
   "metadata": {},
   "outputs": [],
   "source": [
    "import json\n",
    "\n",
    "class Device:\n",
    "    def __init__(self, name, type, size):\n",
    "        self.name = name\n",
    "        self.type = type\n",
    "        self.size = size\n",
    "\n",
    "class Encoder(json.JSONEncoder):\n",
    "    def default(self, obj):\n",
    "        return obj.__dict__\n",
    "\n",
    "device = Device('iPhone13', 'Mobile Phone', '6.1inchi')\n",
    "dev_json = json.dumps(device.__dict__)\n",
    "print(dev_json)\n",
    "\n",
    "devices = []\n",
    "devices.append(Device('iPhone13', 'Mobile Phone', '6.1inchi').__dict__)\n",
    "devices.append(Device('Google Pixel6', 'Mobile Phone', '6.4inchi').__dict__)\n",
    "devices.append(Device('iPad', 'Tablet', '10.2inchi').__dict__)\n",
    "dev_json = json.dumps(devices)\n",
    "print(dev_json)\n",
    "\n",
    "devices = []\n",
    "devices.append(Device('iPhone13', 'Mobile Phone', '6.1inchi'))\n",
    "devices.append(Device('Google Pixel6', 'Mobile Phone', '6.4inchi'))\n",
    "devices.append(Device('iPad', 'Tablet', '10.2inchi'))\n",
    "dev_json = json.dumps(devices, cls=Encoder)\n",
    "print(dev_json)"
   ]
  },
  {
   "cell_type": "code",
   "execution_count": null,
   "metadata": {},
   "outputs": [],
   "source": [
    "import json\n",
    "\n",
    "class Person:\n",
    "    def __init__(self, name, age, city):\n",
    "        self.name = name\n",
    "        self.age = age\n",
    "        self.city = city\n",
    "\n",
    "person_obj = Person(name=\"John\", age=30, city=\"New York\")\n",
    "json_data = json.dumps(person_obj.__dict__)\n",
    "print(json_data)\n",
    "\n",
    "persons = []\n",
    "persons.append(Person('Yamada',25,'Tokyo').__dict__)\n",
    "persons.append(Person('Tanaka',40,'Osaka').__dict__)\n",
    "json_data = json.dumps(persons)\n",
    "print(json_data)\n",
    "\n",
    "class Encoder(json.JSONEncoder):\n",
    "    def default(self, obj):\n",
    "        return obj.__dict__\n",
    "persons2 = []\n",
    "persons2.append(Person('Suzuki',32,'Nagoya'))\n",
    "persons2.append(Person('Takahashi',55,'Sapporo'))\n",
    "json_data = json.dumps(persons2, cls=Encoder)\n",
    "print(json_data)"
   ]
  }
 ],
 "metadata": {
  "kernelspec": {
   "display_name": "Python 3.10.8 64-bit (microsoft store)",
   "language": "python",
   "name": "python3"
  },
  "language_info": {
   "codemirror_mode": {
    "name": "ipython",
    "version": 3
   },
   "file_extension": ".py",
   "mimetype": "text/x-python",
   "name": "python",
   "nbconvert_exporter": "python",
   "pygments_lexer": "ipython3",
   "version": "3.10.3"
  },
  "vscode": {
   "interpreter": {
    "hash": "ac9030d872d49cc075c887b459e9e48d0199f1606562953146e2b09dbd8bcdf9"
   }
  }
 },
 "nbformat": 4,
 "nbformat_minor": 4
}
