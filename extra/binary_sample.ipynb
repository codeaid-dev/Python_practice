{
 "cells": [
  {
   "cell_type": "code",
   "execution_count": null,
   "metadata": {},
   "outputs": [],
   "source": [
    "A = [1,1,0,0,1,0,1,0,1]\n",
    "B = [0,1,1,0,0,1,1,1,0]\n",
    "C = 0b110010101\n",
    "D = 0b011001110\n",
    "print(f'{C&D:b}')\n",
    "print(f'{C&D:>09b}')\n",
    "print(f'{bin(C&D)}')\n",
    "print(f'{(1 & 1):>09b}')\n",
    "print(bin(C | D))\n",
    "print(C ^ D)\n",
    "binary = bytearray(''.join(map(str, A)), 'utf-8')\n",
    "print(binary)"
   ]
  }
 ],
 "metadata": {
  "language_info": {
   "name": "python"
  },
  "orig_nbformat": 4
 },
 "nbformat": 4,
 "nbformat_minor": 2
}
