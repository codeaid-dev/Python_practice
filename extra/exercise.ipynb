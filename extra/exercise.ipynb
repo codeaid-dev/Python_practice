{
 "cells": [
  {
   "cell_type": "code",
   "execution_count": null,
   "metadata": {},
   "outputs": [],
   "source": [
    "#顔文字を描く\n",
    "result = ''\n",
    "for row in range(6):\n",
    "    for col in range(15):\n",
    "        if row in (0,6) and col in (2,12):\n",
    "            result += '*'\n",
    "        elif row == 1 and col in (1,13):\n",
    "            result += '*'\n",
    "        elif row == 2 and col in (0,3,4,5,9,10,11,14):\n",
    "            result += '*'\n",
    "        elif row == 3 and col in (0,14):\n",
    "            result += '*'\n",
    "        elif row == 4 and col in (1,5,6,7,8,9,13):\n",
    "            result += '*'\n",
    "        elif row == 5 and col in (2,12):\n",
    "            result += '*'\n",
    "        else:\n",
    "            result += ' '\n",
    "    result += '\\n'\n",
    "print(result)"
   ]
  },
  {
   "cell_type": "code",
   "execution_count": null,
   "metadata": {},
   "outputs": [],
   "source": [
    "# デジタルの最大数を表示\n",
    "N = int(input('入力 >>'))\n",
    "keta = N//2\n",
    "if N%2 == 1:\n",
    "    print('7'+'1'*(keta-1))\n",
    "else:\n",
    "    print('1'*keta)"
   ]
  },
  {
   "cell_type": "code",
   "execution_count": null,
   "metadata": {},
   "outputs": [],
   "source": [
    "# デジタルの最小数を表示\n",
    "N = int(input('入力 >>'))\n",
    "keta = N//6\n",
    "amari = N%6\n",
    "if amari == 1:\n",
    "    print('0'*(keta-1)+'8')\n",
    "elif amari == 2:\n",
    "    print('0'*(keta)+'1')\n",
    "elif amari == 3:\n",
    "    print('0'*(keta)+'7')\n",
    "elif amari == 4:\n",
    "    print('0'*(keta)+'4')\n",
    "elif amari == 5:\n",
    "    print('0'*(keta)+'2')\n",
    "else:\n",
    "    print('0'*(keta))"
   ]
  },
  {
   "cell_type": "code",
   "execution_count": null,
   "metadata": {},
   "outputs": [],
   "source": [
    "#10進数を8桁の2進数に変換（256未満）\n",
    "binary = [0] * 8\n",
    "n = int(input('10進数 >>'))\n",
    "for k in range(7,-1,-1):\n",
    "    binary[k] = n % 2\n",
    "    n = n // 2\n",
    "print(''.join(str(i) for i in binary))"
   ]
  },
  {
   "cell_type": "code",
   "execution_count": null,
   "metadata": {},
   "outputs": [],
   "source": [
    "#10進数を2進数に変換\n",
    "def to_binary(num):\n",
    "    digit = []\n",
    "    while num > 0:\n",
    "        digit.append(str(num % 2))\n",
    "        num = num // 2\n",
    "    digit.reverse()\n",
    "    return ''.join(digit)\n",
    "\n",
    "n = int(input('10進数 >>'))\n",
    "print(to_binary(n))"
   ]
  },
  {
   "cell_type": "code",
   "execution_count": null,
   "metadata": {},
   "outputs": [],
   "source": [
    "#自己紹介関数\n",
    "def introduction(name, *args, **kwargs):\n",
    "    print(\"【\"+str(name)+\"さんのプロフィール】\")\n",
    "    for arg in args:\n",
    "        print(arg)\n",
    "    for kw in kwargs:\n",
    "        print(kw, \":\", kwargs[kw])\n",
    "\n",
    "introduction(\"佐藤\",\n",
    "    \"佐藤なんですが、甘いものは嫌いです。\",\n",
    "    \"大好物はもんじゃ焼きです。\",\n",
    "    hobby=\"映画鑑賞\",\n",
    "    country=\"日本、大阪\",\n",
    "    years=\"24歳\")"
   ]
  },
  {
   "cell_type": "code",
   "execution_count": null,
   "metadata": {},
   "outputs": [],
   "source": [
    "#パスカルの三角形\n",
    "def pascal_triangle(n):\n",
    "    row = [1]\n",
    "    col = [0]\n",
    "    for i in range(n):\n",
    "        print(row)\n",
    "        row=[l+r for l,r in zip(row+col, col+row)]\n",
    "    return\n",
    "\n",
    "pascal_triangle(6) "
   ]
  },
  {
   "cell_type": "code",
   "execution_count": 3,
   "metadata": {},
   "outputs": [
    {
     "name": "stdout",
     "output_type": "stream",
     "text": [
      "リンゴが2個、オレンジが3個入る箱が6個必要です\n",
      "Apple:2, Orange:3, need 6boxes\n"
     ]
    }
   ],
   "source": [
    "#最大公約数\n",
    "def gcd(x, y):\n",
    "    if y == 0:\n",
    "        return x\n",
    "    else:\n",
    "        return gcd(y, x%y)\n",
    "\n",
    "apple = int(input('リンゴ >>'))\n",
    "orange = int(input('オレンジ >>'))\n",
    "box = gcd(apple, orange)\n",
    "print(f'リンゴが{int(apple/box)}個、オレンジが{int(orange/box)}個入る箱が{box}個必要です')\n",
    "\n",
    "#別解(関数使わない)\n",
    "x = apple\n",
    "y = orange\n",
    "while y != 0:\n",
    "    temp = y\n",
    "    y = x % y\n",
    "    x = temp\n",
    "print(f'Apple:{int(apple/x)}, Orange:{int(orange/x)}, need {x}boxes')"
   ]
  },
  {
   "cell_type": "code",
   "execution_count": null,
   "metadata": {},
   "outputs": [],
   "source": [
    "#all()関数サンプル\n",
    "n = [1,2,10]\n",
    "print(all(x in range(1,11) for x in n))"
   ]
  },
  {
   "cell_type": "code",
   "execution_count": null,
   "metadata": {},
   "outputs": [],
   "source": [
    "#数字ピラミッド\n",
    "n = ''\n",
    "while not n.isdigit():\n",
    "    n = input('入力 >>')\n",
    "num = int(n)\n",
    "if num<=20:\n",
    "    for i in range(1,num+1):\n",
    "        print(str(i)*i)"
   ]
  }
 ],
 "metadata": {
  "kernelspec": {
   "display_name": "Python 3.10.3 64-bit ('3.10.3')",
   "language": "python",
   "name": "python3"
  },
  "language_info": {
   "codemirror_mode": {
    "name": "ipython",
    "version": 3
   },
   "file_extension": ".py",
   "mimetype": "text/x-python",
   "name": "python",
   "nbconvert_exporter": "python",
   "pygments_lexer": "ipython3",
   "version": "3.11.3"
  },
  "orig_nbformat": 2,
  "vscode": {
   "interpreter": {
    "hash": "ab64589ac9d6bd956e857448da5e411ff91b136249a71239f0da316d67e65b64"
   }
  }
 },
 "nbformat": 4,
 "nbformat_minor": 2
}
