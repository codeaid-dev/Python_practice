{
 "cells": [
  {
   "cell_type": "code",
   "execution_count": null,
   "metadata": {},
   "outputs": [],
   "source": [
    "from random import randint\n",
    "uranai = randint(1,100)\n",
    "if 1 <= uranai <= 2:\n",
    "    result = '大吉'\n",
    "elif 3 <= uranai <= 10:\n",
    "    result = '大凶'\n",
    "elif 11 <= uranai <= 40:\n",
    "    result = '中吉'\n",
    "elif 41 <= uranai <= 80:\n",
    "    result = '吉'\n",
    "elif 81 <= uranai <= 100:\n",
    "    result = '凶'\n",
    "print(f'あなたの今日の運勢は{result}です')"
   ]
  },
  {
   "cell_type": "code",
   "execution_count": null,
   "metadata": {},
   "outputs": [],
   "source": [
    "import string\n",
    "import random\n",
    "\n",
    "password = []\n",
    "for num in range(16):\n",
    "    index = random.randint(0, len(string.printable) - 1)\n",
    "    wd = string.printable[index]\n",
    "    if wd in string.whitespace:\n",
    "        password.append('@')\n",
    "    else:\n",
    "        password.append(wd)\n",
    "\n",
    "result = ''.join(password)\n",
    "print(result)"
   ]
  }
 ],
 "metadata": {
  "interpreter": {
   "hash": "e175e2d1a69ec44a53513b33867561d513a585d5b2228589977b3e28bb8f7a45"
  },
  "kernelspec": {
   "display_name": "Python 3.9.2 64-bit ('3.9.2': pyenv)",
   "name": "python3"
  },
  "language_info": {
   "name": "python",
   "version": ""
  }
 },
 "nbformat": 4,
 "nbformat_minor": 4
}