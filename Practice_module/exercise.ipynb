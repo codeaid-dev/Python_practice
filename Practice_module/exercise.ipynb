{
 "cells": [
  {
   "cell_type": "code",
   "execution_count": null,
   "source": [
    "#Exercise1\n",
    "import random\n",
    "\n",
    "src = ['a','b','c','d','E','F','G','H','0','1','2','3','4','!','@','#','$','%']\n",
    "password = []\n",
    "num = int(input('桁数：'))\n",
    "for w in range(num):\n",
    "    index = random.randint(0, len(src) - 1)\n",
    "    password.append(src[index])\n",
    "result = ''.join(password)\n",
    "print(f'password: {result}')"
   ],
   "outputs": [],
   "metadata": {}
  },
  {
   "cell_type": "code",
   "execution_count": null,
   "source": [
    "#Exercise2\n",
    "import string\n",
    "import random\n",
    "\n",
    "password = []\n",
    "for num in range(16):\n",
    "    index = random.randint(0, len(string.printable) - 1)\n",
    "    wd = string.printable[index]\n",
    "    if wd in string.whitespace:\n",
    "        password.append('@')\n",
    "    else:\n",
    "        password.append(wd)\n",
    "\n",
    "result = ''.join(password)\n",
    "print(result)"
   ],
   "outputs": [],
   "metadata": {}
  }
 ],
 "metadata": {
  "interpreter": {
   "hash": "e175e2d1a69ec44a53513b33867561d513a585d5b2228589977b3e28bb8f7a45"
  },
  "kernelspec": {
   "display_name": "Python 3.9.2 64-bit ('3.9.2': pyenv)",
   "name": "python3"
  },
  "language_info": {
   "name": "python",
   "version": ""
  }
 },
 "nbformat": 4,
 "nbformat_minor": 4
}