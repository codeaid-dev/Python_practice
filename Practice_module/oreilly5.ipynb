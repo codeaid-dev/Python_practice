{
 "cells": [
  {
   "cell_type": "code",
   "execution_count": null,
   "metadata": {},
   "outputs": [],
   "source": [
    "periodic_table = {'Hydrogen':1, 'Helium':2}\n",
    "print(periodic_table)"
   ]
  }
 ],
 "metadata": {
  "interpreter": {
   "hash": "e175e2d1a69ec44a53513b33867561d513a585d5b2228589977b3e28bb8f7a45"
  },
  "kernelspec": {
   "display_name": "Python 3.9.2 64-bit ('3.9.2': pyenv)",
   "name": "python3"
  },
  "language_info": {
   "name": "python",
   "version": ""
  }
 },
 "nbformat": 4,
 "nbformat_minor": 4
}