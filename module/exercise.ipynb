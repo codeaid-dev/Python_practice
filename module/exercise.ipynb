{
 "cells": [
  {
   "cell_type": "code",
   "execution_count": null,
   "metadata": {},
   "outputs": [],
   "source": [
    "#import文\n",
    "import random\n",
    "num = random.randint(1,9)\n",
    "print(num)"
   ]
  },
  {
   "cell_type": "code",
   "execution_count": null,
   "metadata": {},
   "outputs": [],
   "source": [
    "#import文\n",
    "from random import randint\n",
    "num = randint(1,9)\n",
    "print(num)"
   ]
  },
  {
   "cell_type": "code",
   "execution_count": null,
   "metadata": {},
   "outputs": [],
   "source": [
    "#モジュール検索パス\n",
    "import sys\n",
    "for place in sys.path:\n",
    "    print(place)\n",
    "\n",
    "print(sys.path)"
   ]
  },
  {
   "cell_type": "code",
   "execution_count": null,
   "metadata": {},
   "outputs": [],
   "source": [
    "#Exercise1\n",
    "import random\n",
    "\n",
    "src = ['a','b','c','d','E','F','G','H','0','1','2','3','4','!','@','#','$','%']\n",
    "password = []\n",
    "num = int(input('桁数：'))\n",
    "for w in range(num):\n",
    "    index = random.randint(0, len(src) - 1)\n",
    "    password.append(src[index])\n",
    "result = ''.join(password)\n",
    "print(f'password: {result}')"
   ]
  },
  {
   "cell_type": "code",
   "execution_count": null,
   "metadata": {},
   "outputs": [],
   "source": [
    "#Exercise2\n",
    "import string\n",
    "import random\n",
    "\n",
    "password = []\n",
    "for num in range(16):\n",
    "    index = random.randint(0, len(string.printable) - 1)\n",
    "    wd = string.printable[index]\n",
    "    if wd in string.whitespace:\n",
    "        password.append('@')\n",
    "    else:\n",
    "        password.append(wd)\n",
    "\n",
    "result = ''.join(password)\n",
    "print(result)"
   ]
  },
  {
   "cell_type": "code",
   "execution_count": null,
   "metadata": {},
   "outputs": [],
   "source": [
    "#Exercise3\n",
    "import copy\n",
    "nums = [1,2,[3,4,5],6,7]\n",
    "menu = {\n",
    "    'food':['beef','salad','fish','poke'],\n",
    "    'drink':['coke','coffee','tea','beer']\n",
    "}\n",
    "nums2 = copy.deepcopy(nums)\n",
    "nums2[2][0],nums2[2][1],nums2[2][2] = 'a','b','c'\n",
    "print(nums)\n",
    "print(nums2)\n",
    "menu2 = copy.deepcopy(menu)\n",
    "menu2['food'][3] = 'beans'\n",
    "menu2['drink'][0] = 'water'\n",
    "print(menu)\n",
    "print(menu2)"
   ]
  }
 ],
 "metadata": {
  "kernelspec": {
   "display_name": "Python 3",
   "language": "python",
   "name": "python3"
  },
  "language_info": {
   "codemirror_mode": {
    "name": "ipython",
    "version": 3
   },
   "file_extension": ".py",
   "mimetype": "text/x-python",
   "name": "python",
   "nbconvert_exporter": "python",
   "pygments_lexer": "ipython3",
   "version": "3.13.2"
  }
 },
 "nbformat": 4,
 "nbformat_minor": 4
}
