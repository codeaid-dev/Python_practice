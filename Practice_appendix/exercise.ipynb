{
 "cells": [
  {
   "cell_type": "code",
   "execution_count": 15,
   "metadata": {},
   "outputs": [
    {
     "name": "stdout",
     "output_type": "stream",
     "text": [
      "[[1, 0, 3, 2], [0, 1, 2, 3], [3, 2, 0, 1], [2, 3, 1, 0]]\n"
     ]
    }
   ],
   "source": [
    "nums = [[2,3,1,0],[3,2,0,1],[1,0,3,2],[0,1,2,3]]\n",
    "#def getnum(nums):\n",
    "#    return nums[1]\n",
    "#nums.sort(key=getnum)\n",
    "\n",
    "nums.sort(key=lambda nums:nums[1])\n",
    "print(nums)"
   ]
  },
  {
   "cell_type": "code",
   "execution_count": 14,
   "metadata": {},
   "outputs": [
    {
     "name": "stdout",
     "output_type": "stream",
     "text": [
      "00000111\n"
     ]
    }
   ],
   "source": [
    "#10進数を8桁の2進数に変換（256未満）\n",
    "binary = [0] * 8\n",
    "n = int(input('10進数 >>'))\n",
    "for k in range(7,-1,-1):\n",
    "    binary[k] = n % 2\n",
    "    n = n // 2\n",
    "print(''.join([str(i) for i in binary]))"
   ]
  },
  {
   "cell_type": "code",
   "execution_count": 13,
   "metadata": {},
   "outputs": [
    {
     "name": "stdout",
     "output_type": "stream",
     "text": [
      "100000000\n"
     ]
    }
   ],
   "source": [
    "#10進数を2進数に変換\n",
    "def to_binary(num):\n",
    "    digit = []\n",
    "    while num > 0:\n",
    "        digit.append(str(num % 2))\n",
    "        num = num // 2\n",
    "    digit.reverse()\n",
    "    return ''.join(digit)\n",
    "\n",
    "print(to_binary(256))"
   ]
  },
  {
   "cell_type": "code",
   "execution_count": 21,
   "metadata": {},
   "outputs": [
    {
     "name": "stdout",
     "output_type": "stream",
     "text": [
      "[1]\n",
      "[1, 1]\n",
      "[1, 2, 1]\n",
      "[1, 3, 3, 1]\n",
      "[1, 4, 6, 4, 1]\n",
      "[1, 5, 10, 10, 5, 1]\n"
     ]
    }
   ],
   "source": [
    "#パスカルの三角形\n",
    "def pascal_triangle(n):\n",
    "    row = [1]\n",
    "    col = [0]\n",
    "    for i in range(n):\n",
    "        print(row)\n",
    "        row=[l+r for l,r in zip(row+col, col+row)]\n",
    "    return\n",
    "\n",
    "pascal_triangle(6) "
   ]
  }
 ],
 "metadata": {
  "kernelspec": {
   "display_name": "Python 3.9.2 64-bit ('3.9.2': pyenv)",
   "name": "python392jvsc74a57bd0e175e2d1a69ec44a53513b33867561d513a585d5b2228589977b3e28bb8f7a45"
  },
  "language_info": {
   "codemirror_mode": {
    "name": "ipython",
    "version": 3
   },
   "file_extension": ".py",
   "mimetype": "text/x-python",
   "name": "python",
   "nbconvert_exporter": "python",
   "pygments_lexer": "ipython3",
   "version": "3.9.2"
  },
  "orig_nbformat": 2
 },
 "nbformat": 4,
 "nbformat_minor": 2
}