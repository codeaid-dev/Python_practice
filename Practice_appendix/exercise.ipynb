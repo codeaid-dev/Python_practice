{
 "cells": [
  {
   "cell_type": "code",
   "execution_count": 5,
   "metadata": {},
   "outputs": [
    {
     "name": "stdout",
     "output_type": "stream",
     "text": [
      "[[1, 0, 3, 2], [0, 1, 2, 3], [3, 2, 0, 1], [2, 3, 1, 0]]\n"
     ]
    }
   ],
   "source": [
    "nums = [[2,3,1,0],[3,2,0,1],[1,0,3,2],[0,1,2,3]]\n",
    "#def getnum(nums):\n",
    "#    return nums[1]\n",
    "#nums.sort(key=getnum)\n",
    "\n",
    "nums.sort(key=lambda nums:nums[1])\n",
    "print(nums)"
   ]
  },
  {
   "cell_type": "code",
   "execution_count": null,
   "metadata": {},
   "outputs": [],
   "source": [
    "binary = [0] * 8\n",
    "n = int(input('10進数 >>'))\n",
    "for k in range(7,-1,-1):\n",
    "    binary[k] = n % 2\n",
    "    n = n // 2\n",
    "print(''.join([str(i) for i in binary]))"
   ]
  }
 ],
 "metadata": {
  "kernelspec": {
   "display_name": "Python 3.9.2 64-bit ('3.9.2': pyenv)",
   "name": "python392jvsc74a57bd0e175e2d1a69ec44a53513b33867561d513a585d5b2228589977b3e28bb8f7a45"
  },
  "language_info": {
   "codemirror_mode": {
    "name": "ipython",
    "version": 3
   },
   "file_extension": ".py",
   "mimetype": "text/x-python",
   "name": "python",
   "nbconvert_exporter": "python",
   "pygments_lexer": "ipython3",
   "version": "3.9.2"
  },
  "orig_nbformat": 2
 },
 "nbformat": 4,
 "nbformat_minor": 2
}