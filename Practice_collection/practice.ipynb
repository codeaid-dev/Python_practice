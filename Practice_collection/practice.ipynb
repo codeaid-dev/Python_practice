{
 "cells": [
  {
   "cell_type": "code",
   "execution_count": 1,
   "metadata": {},
   "outputs": [
    {
     "name": "stdout",
     "output_type": "stream",
     "text": [
      "cde\n"
     ]
    }
   ],
   "source": [
    "#Q12\n",
    "alph = ['a', 'b', 'c', 'd', 'e', 'f', 'g']\n",
    "print(''.join(alph[2:5]))"
   ]
  },
  {
   "cell_type": "code",
   "execution_count": 3,
   "metadata": {},
   "outputs": [
    {
     "name": "stdout",
     "output_type": "stream",
     "text": [
      "['java', 'python', 'c++', 'javascript']\n",
      "[60, 80, 40, 70]\n"
     ]
    }
   ],
   "source": [
    "#Q13\n",
    "favorites = {'java':60, 'python':80, 'c++':40, 'javascript':70}\n",
    "print(list(favorites.keys())) #print(list(favorites))\n",
    "print(list(favorites.values()))"
   ]
  },
  {
   "cell_type": "code",
   "execution_count": 2,
   "metadata": {},
   "outputs": [
    {
     "name": "stdout",
     "output_type": "stream",
     "text": [
      "田中\n",
      "tanaka@hoge.com\n",
      "鈴木\n",
      "suzuki@hoge.com\n"
     ]
    }
   ],
   "source": [
    "#Q14\n",
    "meibo = {'2021001':{'名前':'田中',\n",
    "                    'メールアドレス':'tanaka@hoge.com'},\n",
    "        '2021002':{'名前':'鈴木',\n",
    "                    'メールアドレス':'suzuki@hoge.com'}\n",
    "}\n",
    "print(meibo['2021001']['名前'])\n",
    "print(meibo['2021001']['メールアドレス'])\n",
    "print(meibo['2021002']['名前'])\n",
    "print(meibo['2021002']['メールアドレス'])"
   ]
  },
  {
   "cell_type": "code",
   "execution_count": 3,
   "metadata": {},
   "outputs": [
    {
     "name": "stdout",
     "output_type": "stream",
     "text": [
      "{'red': '#FF0000', 'green': '#00FF00', 'blue': '#0000FF'}\n"
     ]
    }
   ],
   "source": [
    "#Q15\n",
    "l = [('red','#FF0000'),('green','#00FF00'),('blue','#0000FF')]\n",
    "print(dict(l))"
   ]
  },
  {
   "cell_type": "code",
   "execution_count": 4,
   "metadata": {},
   "outputs": [
    {
     "name": "stdout",
     "output_type": "stream",
     "text": [
      "火曜日\n"
     ]
    }
   ],
   "source": [
    "weeks = ['水曜日', '木曜日', '金曜日', '土曜日', '日曜日', '月曜日', '火曜日']\n",
    "D = int(input('7月何日？'))\n",
    "print(weeks[D%7])"
   ]
  },
  {
   "cell_type": "code",
   "execution_count": 5,
   "metadata": {},
   "outputs": [
    {
     "name": "stdout",
     "output_type": "stream",
     "text": [
      "['one', 'three', 'five', 'seven']\n",
      "['seven', 'five', 'three', 'one']\n"
     ]
    }
   ],
   "source": [
    "number = ['one', 'two', 'three', 'four', 'five', 'six', 'seven']\n",
    "print(number[::2])\n",
    "print(number[::-2])"
   ]
  }
 ],
 "metadata": {
  "kernelspec": {
   "display_name": "Python 3.9.2 64-bit ('3.9.2': pyenv)",
   "name": "python392jvsc74a57bd0e175e2d1a69ec44a53513b33867561d513a585d5b2228589977b3e28bb8f7a45"
  },
  "language_info": {
   "codemirror_mode": {
    "name": "ipython",
    "version": 3
   },
   "file_extension": ".py",
   "mimetype": "text/x-python",
   "name": "python",
   "nbconvert_exporter": "python",
   "pygments_lexer": "ipython3",
   "version": "3.9.2"
  },
  "orig_nbformat": 2
 },
 "nbformat": 4,
 "nbformat_minor": 2
}