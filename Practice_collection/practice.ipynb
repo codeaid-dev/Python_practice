{
 "cells": [
  {
   "cell_type": "code",
   "execution_count": null,
   "metadata": {},
   "outputs": [],
   "source": [
    "#Q1\n",
    "meibo = {'2021001':{'名前':'田中',\n",
    "                    'メールアドレス':'tanaka@hoge.com'},\n",
    "        '2021002':{'名前':'鈴木',\n",
    "                    'メールアドレス':'suzuki@hoge.com'}\n",
    "}\n",
    "print(meibo['2021001']['名前'])\n",
    "print(meibo['2021001']['メールアドレス'])\n",
    "print(meibo['2021002']['名前'])\n",
    "print(meibo['2021002']['メールアドレス'])"
   ]
  },
  {
   "cell_type": "code",
   "execution_count": null,
   "metadata": {},
   "outputs": [],
   "source": [
    "#Q2\n",
    "l = [('red','#FF0000'),('green','#00FF00'),('blue','#0000FF')]\n",
    "print(dict(l))"
   ]
  },
  {
   "cell_type": "code",
   "execution_count": null,
   "metadata": {},
   "outputs": [],
   "source": [
    "#Q3\n",
    "weeks = ['木曜日', '金曜日', '土曜日', '日曜日', '月曜日', '火曜日', '水曜日']\n",
    "D = int(input('7月何日？'))\n",
    "print(weeks[D%7])"
   ]
  },
  {
   "cell_type": "code",
   "execution_count": null,
   "metadata": {},
   "outputs": [],
   "source": [
    "#Q4\n",
    "number = ['one', 'two', 'three', 'four', 'five', 'six', 'seven']\n",
    "print(number[::2])\n",
    "print(number[::-2])"
   ]
  },
  {
   "cell_type": "code",
   "execution_count": null,
   "metadata": {},
   "outputs": [],
   "source": [
    "#Q5\n",
    "dic =  {'Class1': [70, 65, 86], 'Class2': [63, 58, 73]}\n",
    "l1 = dic['Class1']\n",
    "l2 = dic['Class2']\n",
    "#l1 = list(dic.values())[0]\n",
    "#l2 = list(dic.values())[1]\n",
    "num = 0\n",
    "for i in range(len(l1)):\n",
    "    num += l1[i] + l2[i]\n",
    "#num = sum(l1)+sum(l2)\n",
    "length = len(l1)+len(l2)\n",
    "print(int(num/length))"
   ]
  },
  {
   "cell_type": "code",
   "execution_count": null,
   "metadata": {},
   "outputs": [],
   "source": [
    "#Q6\n",
    "w1 = {'g', 'a', 'c', 'e', 'j'}\n",
    "w2 = {'a', 'e', 'z', 'x', 'g'}\n",
    "print(w1 | w2)\n",
    "print(w1.union(w2))\n",
    "print(w1 & w2)\n",
    "print(w1.intersection(w2))"
   ]
  },
  {
   "cell_type": "code",
   "execution_count": null,
   "metadata": {},
   "outputs": [],
   "source": [
    "#Q7\n",
    "x = {'a':1, 'b':2}\n",
    "y = {'a':1, 'c':3}\n",
    "x.update(y)\n",
    "print(x)\n",
    "print(x | y) #3.9"
   ]
  },
  {
   "cell_type": "code",
   "execution_count": null,
   "metadata": {},
   "outputs": [],
   "source": [
    "#Q8\n",
    "nums = [10,20,30,20,10,50,60,40,80,50,40]\n",
    "print([n1+1 for n1 in nums])"
   ]
  },
  {
   "cell_type": "code",
   "execution_count": null,
   "metadata": {},
   "outputs": [],
   "source": [
    "#Q9\n",
    "nums = [10,20,30,20,10,50,60,40,80,None,40]\n",
    "print([n2 for n2 in {n1 for n1 in nums if not n1 is None}])"
   ]
  },
  {
   "cell_type": "code",
   "execution_count": null,
   "metadata": {},
   "outputs": [],
   "source": [
    "#Q10\n",
    "data = [int(n) for n in input('入力 >>').split(',')]\n",
    "#data = list(int(n) for n in input('入力 >>').split(','))\n",
    "#data = list(map(int, input('入力 >>').split(',')))\n",
    "print(data)"
   ]
  },
  {
   "cell_type": "code",
   "execution_count": null,
   "metadata": {},
   "outputs": [],
   "source": [
    "#Q11\n",
    "dic = {'c1': 'Red', 'c2': 'Green', 'c3':None}\n",
    "for n in list(dic.keys()):\n",
    "    if dic[n] == None:\n",
    "        del dic[n]\n",
    "print(dic)"
   ]
  },
  {
   "cell_type": "code",
   "execution_count": null,
   "metadata": {},
   "outputs": [],
   "source": [
    "#Q12\n",
    "dic = {'key1':{1,2,3}, 'key2':{2,4,6}, 'key3':{7,3,5}}\n",
    "for k, v in dic.items():\n",
    "    if v & {1,7}:\n",
    "        print(k)"
   ]
  },
  {
   "cell_type": "code",
   "execution_count": null,
   "metadata": {},
   "outputs": [],
   "source": [
    "#Q13\n",
    "sweets = {'クレープ':1100, 'かき氷':860, 'ワッフル':980, 'パフェ':1200}\n",
    "item = input('注文 >>')\n",
    "if not item in sweets:\n",
    "    print('そのメニューはありません')\n",
    "else:\n",
    "    print(f'{item}は{sweets[item]}円です')"
   ]
  },
  {
   "cell_type": "code",
   "execution_count": null,
   "metadata": {},
   "outputs": [],
   "source": [
    "#Q14\n",
    "scores = {'C':60}\n",
    "lang = ''\n",
    "while lang != 'end':\n",
    "    lang = input('追加する言語を入力 >>')\n",
    "    if lang in scores:\n",
    "        print('登録済みです')\n",
    "        continue\n",
    "    elif lang == 'end':\n",
    "        break\n",
    "    else:\n",
    "        data = int(input('得点を入力 >>'))\n",
    "        scores[lang] = data\n",
    "    print(scores)\n",
    "print('入力終了')"
   ]
  },
  {
   "cell_type": "code",
   "execution_count": null,
   "metadata": {},
   "outputs": [],
   "source": [
    "#Q15\n",
    "nested = [[12, 18, 23, 25, 45], [7, 12, 18, 23, 28], [1, 5, 8, 12, 15, 23, 18]]\n",
    "for i in range(len(nested)-1):\n",
    "    if i == 0:\n",
    "        result = set(nested[i]) & set(nested[i+1])\n",
    "    else:\n",
    "        result &= set(nested[i+1])\n",
    "print(list(result))\n",
    "#another answer\n",
    "#print(list(set.intersection(*map(set, nested))))"
   ]
  }
 ],
 "metadata": {
  "interpreter": {
   "hash": "aecfffebf68cef656bd08491b6a8d7a85c42907f9cff241c489b68f751e382bc"
  },
  "kernelspec": {
   "display_name": "Python 3.9.2 64-bit ('3.9.2': pyenv)",
   "language": "python",
   "name": "python3"
  },
  "language_info": {
   "codemirror_mode": {
    "name": "ipython",
    "version": 3
   },
   "file_extension": ".py",
   "mimetype": "text/x-python",
   "name": "python",
   "nbconvert_exporter": "python",
   "pygments_lexer": "ipython3",
   "version": "3.9.7"
  },
  "orig_nbformat": 2
 },
 "nbformat": 4,
 "nbformat_minor": 2
}
