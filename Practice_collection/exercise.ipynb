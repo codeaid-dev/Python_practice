{
 "cells": [
  {
   "cell_type": "code",
   "execution_count": null,
   "metadata": {},
   "outputs": [],
   "source": [
    "#Exercise1\n",
    "team_1 = ['阪神', '巨人', 'ヤクルト']\n",
    "team_2 = ['DeNA', '中日', '広島']\n",
    "team_1 += team_2\n",
    "#team_1.extend(team_2)\n",
    "print(team_1)\n"
   ]
  },
  {
   "cell_type": "code",
   "execution_count": null,
   "metadata": {},
   "outputs": [],
   "source": [
    "#Exercise2\n",
    "flowers = ['さくら', 'きく', 'ゆり', 'ばら', 'うめ']\n",
    "print(' '.join(flowers))"
   ]
  },
  {
   "cell_type": "code",
   "execution_count": null,
   "metadata": {},
   "outputs": [],
   "source": [
    "#Exercise3\n",
    "country = '東京,ニューヨーク,ロンドン,パリ,ローマ'\n",
    "country = country.split(',')\n",
    "country2 = country.copy()\n",
    "#country2 = list(country)\n",
    "#country2 = country[:]\n",
    "country2[1] = 'マドリード'\n",
    "country2[3] = 'ベルリン'\n",
    "print(country)\n",
    "print(country2)"
   ]
  },
  {
   "cell_type": "code",
   "execution_count": null,
   "metadata": {},
   "outputs": [],
   "source": [
    "#Exercise4\n",
    "favorites = {'java':60, 'python':80, 'c++':40, 'javascript':70}\n",
    "print(list(favorites))\n",
    "print(list(favorites.keys()))\n",
    "print(list(favorites.values()))"
   ]
  },
  {
   "cell_type": "code",
   "execution_count": null,
   "metadata": {},
   "outputs": [],
   "source": [
    "#Exercise5\n",
    "number = ['one', 'two', 'four']\n",
    "number.append('five')\n",
    "print(number)\n",
    "number.insert(2, 'three')\n",
    "print(number)"
   ]
  },
  {
   "cell_type": "code",
   "execution_count": null,
   "metadata": {},
   "outputs": [],
   "source": [
    "#Exercise6\n",
    "number = ['one', 'two', 'three', 'four', 'five', 'six', 'seven']\n",
    "print(number[0:3])\n",
    "print(number[2:5])\n",
    "print(number[::2])\n",
    "print(number[::-2])"
   ]
  },
  {
   "cell_type": "code",
   "execution_count": null,
   "metadata": {},
   "outputs": [],
   "source": [
    "#Exercise7\n",
    "material = ['いち', 'にー', 'なな', 'さん', 'よん']\n",
    "material.remove('なな')\n",
    "print(material)\n",
    "del material[-2:]\n",
    "print(material)"
   ]
  },
  {
   "cell_type": "code",
   "execution_count": null,
   "metadata": {},
   "outputs": [],
   "source": [
    "#Exercise8\n",
    "box1 = ['one', 'two', 'three', 'eight']\n",
    "box2 = ['five', 'six', 'seven', 'four']\n",
    "num1 = box1.pop()\n",
    "num2 = box2.pop()\n",
    "box1.append(num2)\n",
    "box2.append(num1)\n",
    "print(box1)\n",
    "print(box2)"
   ]
  },
  {
   "cell_type": "code",
   "execution_count": null,
   "metadata": {},
   "outputs": [],
   "source": [
    "#Exercise9\n",
    "nums = [2,'1',4.0,0,3.14]\n",
    "nums.sort(key=int)\n",
    "print(nums)\n",
    "nums.sort(key=int,reverse=True)\n",
    "print(nums)"
   ]
  },
  {
   "cell_type": "code",
   "execution_count": null,
   "metadata": {},
   "outputs": [],
   "source": [
    "#Exercise10\n",
    "fruits = [\n",
    "    ['Banana', 'Peach'],\n",
    "    ['Orange', 'Grape'],\n",
    "    ['Apple', 'Cherry']\n",
    "]\n",
    "print(fruits[0][0]+','+fruits[2][1])"
   ]
  },
  {
   "cell_type": "code",
   "execution_count": null,
   "metadata": {},
   "outputs": [],
   "source": [
    "#Exercise11\n",
    "l = ['Tea','Coffee','Tapioca drink','Matcha','Coffee','Yogurt']\n",
    "cnt = l.count('Coffee')\n",
    "print(f'{cnt} cups of Coffee')"
   ]
  },
  {
   "cell_type": "code",
   "execution_count": null,
   "metadata": {},
   "outputs": [],
   "source": [
    "#Exercise12\n",
    "listOne = [3, 6, 9, 12, 15, 18, 21]\n",
    "listTwo = [4, 8, 12, 16, 20, 24, 28]\n",
    "listThree = list()\n",
    "\n",
    "odd = listOne[1::2]\n",
    "print(odd)\n",
    "even = listTwo[0::2]\n",
    "print(even)\n",
    "listThree.extend(odd)\n",
    "listThree.extend(even)\n",
    "print(listThree)"
   ]
  },
  {
   "cell_type": "code",
   "execution_count": null,
   "metadata": {},
   "outputs": [],
   "source": [
    "#Exercise13\n",
    "nums = [34, 54, 67, 89, 11, 43, 94]\n",
    "element = nums.pop(4)\n",
    "print('INDEX 4を削除：', nums)\n",
    "nums.insert(2, element)\n",
    "print('INDEX 2に挿入：', nums)\n",
    "nums.append(element)\n",
    "print('最後に追加：', nums)"
   ]
  },
  {
   "cell_type": "code",
   "execution_count": null,
   "metadata": {},
   "outputs": [],
   "source": [
    "#Exercise14\n",
    "nums = [10, 20, [300, 400, [5000, 6000], 500], 30, 40]\n",
    "nums[2][2].append(7000)\n",
    "print(nums)"
   ]
  },
  {
   "cell_type": "code",
   "execution_count": null,
   "metadata": {},
   "outputs": [],
   "source": [
    "#Exercise15\n",
    "nums = [10, 20, [300, 400, [5000, 6000], 500], 30, 40]\n",
    "del nums[2][2][0]\n",
    "print(nums)"
   ]
  },
  {
   "cell_type": "code",
   "execution_count": null,
   "metadata": {},
   "outputs": [],
   "source": [
    "#Exercise16\n",
    "nums = [10, 20, [10, 20, [10, 20], 30], 30, 40]\n",
    "nums[2].remove(20)\n",
    "print(nums)"
   ]
  },
  {
   "cell_type": "code",
   "execution_count": null,
   "metadata": {},
   "outputs": [],
   "source": [
    "#Exercise17\n",
    "alph = ['a', 'b', ['c', ['d', 'e', ['f', 'g'], 'k'], 'l'], 'm', 'n']\n",
    "sub = ['h', 'i', 'j']\n",
    "alph[2][1][2].extend(sub)\n",
    "print(alph)"
   ]
  },
  {
   "cell_type": "code",
   "execution_count": null,
   "metadata": {},
   "outputs": [],
   "source": [
    "#Exercise18\n",
    "nums = input('入力 >>').split(',')\n",
    "nums.sort(key=int)\n",
    "print(nums[0],nums[-1])"
   ]
  },
  {
   "cell_type": "code",
   "execution_count": null,
   "metadata": {},
   "outputs": [],
   "source": [
    "#Exercise19\n",
    "l = input('入力 >>').split(',')\n",
    "index = l.index('86')\n",
    "l[index] = 'Hello'\n",
    "print(l)"
   ]
  },
  {
   "cell_type": "code",
   "execution_count": null,
   "metadata": {},
   "outputs": [],
   "source": [
    "#Exercise20\n",
    "tup = (\"Orange\", [10, 20, 30], (5, 15, 25))\n",
    "print(tup[1][1])"
   ]
  },
  {
   "cell_type": "code",
   "execution_count": null,
   "metadata": {},
   "outputs": [],
   "source": [
    "#Exercise21\n",
    "tup = (10, 20, 30, 40)\n",
    "a,b,c,d = tup\n",
    "print(a)\n",
    "print(b)\n",
    "print(c)\n",
    "print(d)"
   ]
  },
  {
   "cell_type": "code",
   "execution_count": null,
   "metadata": {},
   "outputs": [],
   "source": [
    "#Exercise22\n",
    "tup1 = (11, 22)\n",
    "tup2 = (99, 88)\n",
    "tup1, tup2 = tup2, tup1\n",
    "print(tup1)\n",
    "print(tup2)"
   ]
  },
  {
   "cell_type": "code",
   "execution_count": null,
   "metadata": {},
   "outputs": [],
   "source": [
    "#Exercise23\n",
    "tup = (11, [22, 33], 44, 55)\n",
    "tup[1][0] = 222\n",
    "print(tup)"
   ]
  },
  {
   "cell_type": "code",
   "execution_count": null,
   "metadata": {},
   "outputs": [],
   "source": [
    "#Exercise24\n",
    "id = [26, 41, 28]\n",
    "member = dict()\n",
    "member['Takashi'] = {'ID':id[0]}\n",
    "member['Tetsuo'] = {'ID':id[1]}\n",
    "member['Akira'] = {'ID':id[2]}\n",
    "print(member['Tetsuo']['ID'])"
   ]
  },
  {
   "cell_type": "code",
   "execution_count": null,
   "metadata": {},
   "outputs": [],
   "source": [
    "#Exercise25\n",
    "l = [('red','#FF0000'),('green','#00FF00'),('blue','#0000FF')]\n",
    "print(dict(l))"
   ]
  },
  {
   "cell_type": "code",
   "execution_count": null,
   "metadata": {},
   "outputs": [],
   "source": [
    "#Exercise26\n",
    "weeks = ['水曜日', '木曜日', '金曜日', '土曜日', '日曜日', '月曜日', '火曜日']\n",
    "D = int(input('7月何日？'))\n",
    "print(weeks[D%7])"
   ]
  },
  {
   "cell_type": "code",
   "execution_count": null,
   "metadata": {},
   "outputs": [],
   "source": [
    "#Exercise27\n",
    "w1 = {'g', 'a', 'c', 'e', 'j'}\n",
    "w2 = {'a', 'e', 'z', 'x', 'g'}\n",
    "print(w1 | w2)\n",
    "print(w1.union(w2))\n",
    "print(w1 & w2)\n",
    "print(w1.intersection(w2))\n",
    "print(w1 - w2)\n",
    "print(w1.difference(w2))\n",
    "print(w1 ^ w2)\n",
    "print(w1.symmetric_difference(w2))"
   ]
  },
  {
   "cell_type": "code",
   "execution_count": null,
   "metadata": {},
   "outputs": [],
   "source": [
    "#Exercise28\n",
    "w1, w2 = input('入力 >>').split(',')\n",
    "w3 = set(w1) & set(w2)\n",
    "print(''.join(w3))"
   ]
  },
  {
   "cell_type": "code",
   "execution_count": null,
   "metadata": {},
   "outputs": [],
   "source": [
    "#Exercise29\n",
    "l1 = [1, 3, 5, 7, 9]\n",
    "l2 = [1, 2, 4, 6, 7, 8]\n",
    "l3 = list(set(l1)^set(l2))\n",
    "print(l3)\n",
    "#diff1 = list(set(l1)-set(l2))\n",
    "#diff2 = list(set(l2)-set(l1))\n",
    "#diff3 = diff1+diff2\n",
    "#print(diff3)"
   ]
  },
  {
   "cell_type": "code",
   "execution_count": null,
   "metadata": {},
   "outputs": [],
   "source": [
    "#Exercise30\n",
    "A = ['秋田県','山形県','山口県','宮崎県','高知県']\n",
    "B = ['山口県','高知県','長崎県','北海道','石川県']\n",
    "pref1 = set(A)\n",
    "pref2 = set(B)\n",
    "print(f'2人とも行ったことのある場所：{list(pref1 & pref2)}')\n",
    "print(f'1人しか行ったことのない場所：{list(pref1 ^ pref2)}')"
   ]
  },
  {
   "cell_type": "code",
   "execution_count": null,
   "metadata": {},
   "outputs": [],
   "source": [
    "#Exercise31\n",
    "l1 = ['apple', 'orange', 'mango', 'peach']\n",
    "l2 = ['orange', 'mango']\n",
    "l3 = ['mango', 'orange']\n",
    "s1 = set(l1)\n",
    "s2 = set(l2)\n",
    "s3 = set(l3)\n",
    "print(s1 >= s2)\n",
    "#print(l2 == l3)\n",
    "print(s2 == s3)"
   ]
  },
  {
   "cell_type": "code",
   "execution_count": null,
   "metadata": {},
   "outputs": [],
   "source": [
    "#Exercise32\n",
    "nums = [87, 52, 53, 87, 52]\n",
    "nums = list(set(nums))\n",
    "print('重複を除いたリスト', nums)\n",
    "\n",
    "tup = tuple(nums)\n",
    "print('タプル：', tup)\n",
    "a, b, c = tup\n",
    "print(a,b,c)"
   ]
  },
  {
   "cell_type": "code",
   "execution_count": null,
   "metadata": {},
   "outputs": [],
   "source": [
    "#Exercise33\n",
    "s = {'Yellow', 'Orange', 'Black'}\n",
    "l = ['Blue', 'Green', 'Red']\n",
    "s.update(l)\n",
    "print(s)"
   ]
  },
  {
   "cell_type": "code",
   "execution_count": 3,
   "metadata": {},
   "outputs": [
    {
     "name": "stdout",
     "output_type": "stream",
     "text": [
      "種類数：3\n"
     ]
    }
   ],
   "source": [
    "#Exercise34\n",
    "words = list(input('入力 >>'))\n",
    "num = len(set(words))\n",
    "print(f'種類数：{num}')"
   ]
  },
  {
   "cell_type": "code",
   "execution_count": null,
   "metadata": {},
   "outputs": [],
   "source": [
    "#Exercise35\n",
    "words = input('入力 >>')\n",
    "s1 = words[:int(len(words)/2)]\n",
    "s2 = words[int(len(words)/2):]\n",
    "print({'front':s1, 'behind':s2})"
   ]
  },
  {
   "cell_type": "code",
   "execution_count": null,
   "metadata": {},
   "outputs": [],
   "source": [
    "#Exercise36\n",
    "days = ['mon', 'tue', 'wed', 'thu', 'fri']\n",
    "temp = [36.2, 36.5, 36.1, 36.8, 36.3]\n",
    "print(dict(zip(days, temp)))"
   ]
  },
  {
   "cell_type": "code",
   "execution_count": null,
   "metadata": {},
   "outputs": [],
   "source": [
    "#Exercise37\n",
    "dic = { \n",
    "   'class':{ \n",
    "      'student':{ \n",
    "         'name':'Yamada',\n",
    "         'marks':{ \n",
    "            'physics':70,\n",
    "            'history':80\n",
    "         }\n",
    "      }\n",
    "   }\n",
    "}\n",
    "print(dic['class']['student']['marks']['history'])"
   ]
  },
  {
   "cell_type": "code",
   "execution_count": null,
   "metadata": {},
   "outputs": [],
   "source": [
    "#Exercise38\n",
    "dic = {\n",
    "    'name': 'Yamada',\n",
    "    'age':25,\n",
    "    'salary': 150000,\n",
    "    'city': 'Tokyo'\n",
    "}\n",
    "\n",
    "dic['location'] = dic.pop('city')\n",
    "print(dic)"
   ]
  },
  {
   "cell_type": "code",
   "execution_count": null,
   "metadata": {},
   "outputs": [],
   "source": [
    "#Exercise39\n",
    "dic = {\n",
    "     'emp1': {'name': 'Yamada', 'salary': 200000},\n",
    "     'emp2': {'name': 'Tanaka', 'salary': 100000},\n",
    "     'emp3': {'name': 'Soto', 'salary': 120000}\n",
    "}\n",
    "dic['emp2']['salary'] = 150000\n",
    "print(dic)"
   ]
  },
  {
   "cell_type": "code",
   "execution_count": null,
   "metadata": {},
   "outputs": [],
   "source": [
    "#Exercise40\n",
    "info = {\n",
    "    '山田':{'朝食':'食パンとコーヒー', '昼食':'ハンバーガー', '夕食':'ステーキ'},\n",
    "    '高橋':{'朝食':'ごはんと味噌汁', '昼食':'焼き魚定食', '夕食':'おでん'},\n",
    "    '佐藤':{'朝食':'シリアル', '昼食':'パスタ', '夕食':'アクアパッツァ'}\n",
    "}\n",
    "name = input('名前は？')\n",
    "meal = input('どの食事？')\n",
    "print(f'{name}さんの{meal}は{info[name][meal]}です')"
   ]
  },
  {
   "cell_type": "code",
   "execution_count": null,
   "metadata": {},
   "outputs": [],
   "source": [
    "#Exercise41\n",
    "info1 = {\n",
    "    '山田':{'朝食':'食パンとコーヒー', '昼食':'ハンバーガー', '夕食':'ステーキ'},\n",
    "    '高橋':{'朝食':'ごはんと味噌汁', '昼食':'焼き魚定食', '夕食':'おでん'},\n",
    "    '佐藤':{'朝食':'シリアル', '昼食':'パスタ', '夕食':'アクアパッツァ'}\n",
    "}\n",
    "info2 = {\n",
    "    '山田':{'朝食':'ベーコンエッグ', '昼食':'ホットドッグ', '夕食':'ビーフカレー'},\n",
    "    '高橋':{'朝食':'ごはんと漬物', '昼食':'丼物', '夕食':'お好み焼き'},\n",
    "    '佐藤':{'朝食':'サラダ', '昼食':'ピザ', '夕食':'リゾット'}\n",
    "}\n",
    "info = {1:info1, 2:info2}\n",
    "name = input('名前は？')\n",
    "meal = input('どの食事？')\n",
    "day = int(input('何日目？'))\n",
    "print(f'{name}さんの{day}日目の{meal}は{info[day][name][meal]}です')"
   ]
  },
  {
   "cell_type": "code",
   "execution_count": null,
   "metadata": {},
   "outputs": [],
   "source": [
    "#Exercise42\n",
    "menu = {'coffee':250, 'tea':230, 'milk':150}\n",
    "print(230 in menu.values())"
   ]
  },
  {
   "cell_type": "code",
   "execution_count": null,
   "metadata": {},
   "outputs": [],
   "source": [
    "#Exercise43\n",
    "menu1 = {'coffee':250, 'sandwich':380, 'salad':180}\n",
    "menu2 = {'cake':300, 'parfait':400}\n",
    "menu = menu1.copy()\n",
    "menu.update(menu2)\n",
    "#menu = menu1 | menu2 #3.9\n",
    "print(menu)\n",
    "print('合計：'+str(sum(menu.values())))"
   ]
  },
  {
   "cell_type": "code",
   "execution_count": null,
   "metadata": {},
   "outputs": [],
   "source": [
    "#Exercise44\n",
    "samp = {'hoge':250, 'foo':300, 'bar':120}\n",
    "print(samp)\n",
    "key = input('追加key >>')\n",
    "val = int(input('追加value >>'))\n",
    "samp[key] = val\n",
    "print(samp)\n",
    "rm = input('削除key >>')\n",
    "del samp[rm]\n",
    "print(samp)"
   ]
  },
  {
   "cell_type": "code",
   "execution_count": null,
   "metadata": {},
   "outputs": [],
   "source": [
    "#Exercise45\n",
    "moji = list(input('文字列入力 >>'))\n",
    "print('置換前：'+''.join(moji))\n",
    "param = input('置換値入力 >>').split(',')\n",
    "s, d = int(param[0]), int(param[1])\n",
    "moji[s], moji[d] = moji[d], moji[s]\n",
    "print('置換後：'+''.join(moji))"
   ]
  },
  {
   "cell_type": "code",
   "execution_count": null,
   "metadata": {},
   "outputs": [],
   "source": [
    "#Exercise46\n",
    "two, three = input('スコア >>').split(',')\n",
    "print(f'スコア合計：{int(two)*2+int(three)*3}')"
   ]
  },
  {
   "cell_type": "code",
   "execution_count": 3,
   "metadata": {},
   "outputs": [
    {
     "name": "stdout",
     "output_type": "stream",
     "text": [
      "{'a': 'b', 'c': 'd'}\n"
     ]
    }
   ],
   "source": [
    "#Exercise47\n",
    "data1 = list(input('入力1 >>').split(','))\n",
    "data2 = list(input('入力2 >>').split(','))\n",
    "dic = []\n",
    "dic.append(data1)\n",
    "dic.append(data2)\n",
    "print(dict(dic))"
   ]
  },
  {
   "cell_type": "code",
   "execution_count": null,
   "metadata": {},
   "outputs": [],
   "source": [
    "#Exercise48\n",
    "d1 = {'a':1, 'b':2, 'c':3}\n",
    "d2 = {'a':1, 'c':3}\n",
    "#print(set(d1.items()))\n",
    "#print(set(d2.items()))\n",
    "print(set(d1.items()) >= set(d2.items()))\n",
    "print(set(d1.items()).issuperset(set(d2.items())))"
   ]
  },
  {
   "cell_type": "code",
   "execution_count": null,
   "metadata": {},
   "outputs": [],
   "source": [
    "#Exercise49\n",
    "d = {'apple': 10, 'grape': 20, 'orange': 30}\n",
    "d['apple'] = d.get('apple', -1)\n",
    "d['mango'] = d.get('mango', 40)\n",
    "print(d)"
   ]
  },
  {
   "cell_type": "code",
   "execution_count": null,
   "metadata": {},
   "outputs": [],
   "source": [
    "#Exercise50\n",
    "colors = {\n",
    "    (255,0,0): 'red',\n",
    "    (0,128,0): 'green',\n",
    "    (0,0,255): 'blue',\n",
    "    (255,255,0): 'yellow',\n",
    "}\n",
    "print(colors[0,128,0])\n",
    "colors[0,255,255] = 'cyan'\n",
    "print(colors)"
   ]
  },
  {
   "cell_type": "code",
   "execution_count": null,
   "metadata": {},
   "outputs": [],
   "source": [
    "#Exercise51\n",
    "member = {\n",
    "    \"A_class\":[\n",
    "        {\"id\":\"21001\",\"name\":\"鶴\",\"temp\":[36.2,36.3,36.2,36.4,36.7]},\n",
    "        {\"id\":\"21002\",\"name\":\"亀\",\"temp\":[35.8,36.4,35.9,36.0,36.2]}\n",
    "    ],\n",
    "    \"B_class\":[\n",
    "        {\"id\":\"21101\",\"name\":\"松\",\"temp\":[36.0,36.1,36.4,36.3,36.6]},\n",
    "        {\"id\":\"21102\",\"name\":\"竹\",\"temp\":[36.2,36.3,36.8,36.5,36.3]}\n",
    "    ]\n",
    "}\n",
    "print(member[\"A_class\"][1][\"temp\"][1])\n",
    "member[\"B_class\"][1][\"temp\"][2] = 36.0\n",
    "print(member[\"B_class\"][1][\"temp\"])"
   ]
  },
  {
   "cell_type": "code",
   "execution_count": null,
   "metadata": {},
   "outputs": [],
   "source": [
    "#Exercise52\n",
    "n = \"梅\"\n",
    "c = \"B_class\"\n",
    "i = \"21103\"\n",
    "t = [35.8,35.7,35.8,36.1,35.9]\n",
    "p = {}\n",
    "p[\"id\"] = i\n",
    "p[\"name\"] = n\n",
    "p[\"temp\"] = t\n",
    "member[c].append(p)\n",
    "print(member[c][2])"
   ]
  },
  {
   "cell_type": "code",
   "execution_count": null,
   "metadata": {},
   "outputs": [],
   "source": [
    "#Exercise53\n",
    "d1 = {'iPhone12': 6.1, 'iPhone12Pro': 6.1, 'iPhone12ProMax': 6.7, 'iPhoneSE': 4.7}\n",
    "d2 = {'iPhone11': 6.1, 'iPhone12': 6.1, 'iPhone11Pro': 5.8}\n",
    "d3 = dict(set(d1.items()) & set(d2.items()))\n",
    "d4 =dict(set(d1.items()) | set(d2.items()))\n",
    "d5 = d1 | d2 #Python3.9\n",
    "print(d3)\n",
    "print(d4)\n",
    "print(d5)"
   ]
  }
 ],
 "metadata": {
  "interpreter": {
   "hash": "e175e2d1a69ec44a53513b33867561d513a585d5b2228589977b3e28bb8f7a45"
  },
  "kernelspec": {
   "display_name": "Python 3.9.2 64-bit ('3.9.2': pyenv)",
   "name": "python3"
  },
  "language_info": {
   "codemirror_mode": {
    "name": "ipython",
    "version": 3
   },
   "file_extension": ".py",
   "mimetype": "text/x-python",
   "name": "python",
   "nbconvert_exporter": "python",
   "pygments_lexer": "ipython3",
   "version": "3.9.2"
  },
  "orig_nbformat": 2
 },
 "nbformat": 4,
 "nbformat_minor": 2
}