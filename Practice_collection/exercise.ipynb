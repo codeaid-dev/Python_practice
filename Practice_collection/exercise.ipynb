{
 "cells": [
  {
   "cell_type": "code",
   "execution_count": 21,
   "metadata": {},
   "outputs": [
    {
     "name": "stdout",
     "output_type": "stream",
     "text": [
      "Banana,Cherry\n"
     ]
    }
   ],
   "source": [
    "#Exercise1\n",
    "fruits = [\n",
    "    ['Banana', 'Peach'],\n",
    "    ['Orange', 'Grape'],\n",
    "    ['Apple', 'Cherry']\n",
    "]\n",
    "print(fruits[0][0]+','+fruits[2][1])"
   ]
  },
  {
   "cell_type": "code",
   "execution_count": 1,
   "metadata": {},
   "outputs": [
    {
     "name": "stdout",
     "output_type": "stream",
     "text": [
      "41\n"
     ]
    }
   ],
   "source": [
    "#Exercise2\n",
    "id = [26, 41, 28]\n",
    "member = dict()\n",
    "member[\"Takashi\"] = {\"ID\":id[0]}\n",
    "member[\"Tetsuo\"] = {\"ID\":id[1]}\n",
    "member[\"Akira\"] = {\"ID\":id[2]}\n",
    "print(member[\"Tetsuo\"][\"ID\"])"
   ]
  },
  {
   "cell_type": "code",
   "execution_count": 4,
   "metadata": {},
   "outputs": [
    {
     "name": "stdout",
     "output_type": "stream",
     "text": [
      "['阪神', '巨人', 'ヤクルト', 'DeNA', '中日', '広島']\n"
     ]
    }
   ],
   "source": [
    "#Exercise3\n",
    "team_1 = ['阪神', '巨人', 'ヤクルト']\n",
    "team_2 = ['DeNA', '中日', '広島']\n",
    "team_1 += team_2\n",
    "#team_1.extend(team_2)\n",
    "print(team_1)\n"
   ]
  },
  {
   "cell_type": "code",
   "execution_count": 5,
   "metadata": {},
   "outputs": [
    {
     "name": "stdout",
     "output_type": "stream",
     "text": [
      "桜 菊 百合 薔薇 梅\n"
     ]
    }
   ],
   "source": [
    "#Exercise4\n",
    "flowers = [\"桜\", \"菊\", \"百合\", \"薔薇\", \"梅\"]\n",
    "print(' '.join(flowers))"
   ]
  },
  {
   "cell_type": "code",
   "execution_count": 7,
   "metadata": {},
   "outputs": [
    {
     "name": "stdout",
     "output_type": "stream",
     "text": [
      "['東京', 'ニューヨーク', 'ロンドン', 'パリ', 'ローマ']\n"
     ]
    }
   ],
   "source": [
    "#Exercise5\n",
    "contry = \"東京,ニューヨーク,ロンドン,パリ,ローマ\"\n",
    "print(contry.split(','))"
   ]
  },
  {
   "cell_type": "code",
   "execution_count": 2,
   "metadata": {},
   "outputs": [
    {
     "name": "stdout",
     "output_type": "stream",
     "text": [
      "['java', 'python', 'c++', 'javascript']\n",
      "[60, 80, 40, 70]\n"
     ]
    }
   ],
   "source": [
    "#Exercise6\n",
    "favorites = {'java':60, 'python':80, 'c++':40, 'javascript':70}\n",
    "print(list(favorites))\n",
    "print(list(favorites.values()))"
   ]
  },
  {
   "cell_type": "code",
   "execution_count": 3,
   "metadata": {},
   "outputs": [
    {
     "name": "stdout",
     "output_type": "stream",
     "text": [
      "{'mon': 36.2, 'tue': 36.5, 'wed': 36.1, 'thu': 36.8, 'fri': 36.3}\n"
     ]
    }
   ],
   "source": [
    "#Exercise7\n",
    "days = ['mon', 'tue', 'wed', 'thu', 'fri']\n",
    "temp = [36.2, 36.5, 36.1, 36.8, 36.3]\n",
    "print(dict(zip(days, temp)))"
   ]
  },
  {
   "cell_type": "code",
   "execution_count": 1,
   "metadata": {},
   "outputs": [
    {
     "name": "stdout",
     "output_type": "stream",
     "text": [
      "{'j', 'x', 'z', 'c', 'a', 'g', 'e'}\n",
      "{'j', 'x', 'z', 'c', 'a', 'g', 'e'}\n",
      "{'g', 'e', 'a'}\n",
      "{'g', 'e', 'a'}\n",
      "{'c', 'j'}\n",
      "{'c', 'j'}\n",
      "{'c', 'j', 'x', 'z'}\n",
      "{'c', 'j', 'x', 'z'}\n"
     ]
    }
   ],
   "source": [
    "#Exercise8\n",
    "w1 = {'g', 'a', 'c', 'e', 'j'}\n",
    "w2 = {'a', 'e', 'z', 'x', 'g'}\n",
    "print(w1 | w2)\n",
    "print(w1.union(w2))\n",
    "print(w1 & w2)\n",
    "print(w1.intersection(w2))\n",
    "print(w1 - w2)\n",
    "print(w1.difference(w2))\n",
    "print(w1 ^ w2)\n",
    "print(w1.symmetric_difference(w2))"
   ]
  },
  {
   "cell_type": "code",
   "execution_count": 2,
   "metadata": {},
   "outputs": [
    {
     "name": "stdout",
     "output_type": "stream",
     "text": [
      "山田さんの夕食はステーキです\n"
     ]
    }
   ],
   "source": [
    "info = {\n",
    "    '山田':{'朝食':'食パンとコーヒー', '昼食':'ハンバーガー', '夕食':'ステーキ'},\n",
    "    '近藤':{'朝食':'ごはんと味噌汁', '昼食':'焼き魚定食', '夕食':'おでん'},\n",
    "    '佐藤':{'朝食':'シリアル', '昼食':'パスタ', '夕食':'アクアパッツァ'}\n",
    "}\n",
    "name = input('名前は？')\n",
    "meal = input('どの食事？')\n",
    "print(f'{name}さんの{meal}は{info[name][meal]}です')"
   ]
  },
  {
   "cell_type": "code",
   "execution_count": 4,
   "metadata": {},
   "outputs": [
    {
     "name": "stdout",
     "output_type": "stream",
     "text": [
      "佐藤さんの2日目の朝食はサラダです\n"
     ]
    }
   ],
   "source": [
    "info1 = {\n",
    "    '山田':{'朝食':'食パンとコーヒー', '昼食':'ハンバーガー', '夕食':'ステーキ'},\n",
    "    '近藤':{'朝食':'ごはんと味噌汁', '昼食':'焼き魚定食', '夕食':'おでん'},\n",
    "    '佐藤':{'朝食':'シリアル', '昼食':'パスタ', '夕食':'アクアパッツァ'}\n",
    "}\n",
    "info2 = {\n",
    "    '山田':{'朝食':'ベーコンエッグ', '昼食':'ホットドッグ', '夕食':'ビーフカレー'},\n",
    "    '近藤':{'朝食':'ごはんと漬物', '昼食':'丼物', '夕食':'お好み焼き'},\n",
    "    '佐藤':{'朝食':'サラダ', '昼食':'ピザ', '夕食':'リゾット'}\n",
    "}\n",
    "info = {1:info1, 2:info2}\n",
    "name = input('名前は？')\n",
    "meal = input('どの食事？')\n",
    "day = int(input('何日目？'))\n",
    "print(f'{name}さんの{day}日目の{meal}は{info[day][name][meal]}です')"
   ]
  },
  {
   "cell_type": "code",
   "execution_count": 5,
   "metadata": {},
   "outputs": [
    {
     "name": "stdout",
     "output_type": "stream",
     "text": [
      "置換前：abcdefg\n",
      "置換後：abfdecg\n"
     ]
    }
   ],
   "source": [
    "moji = list(input('文字列入力 >>'))\n",
    "print('置換前：'+''.join(moji))\n",
    "param = input('置換値入力 >>').split(',')\n",
    "s, d = int(param[0]), int(param[1])\n",
    "moji[s], moji[d] = moji[d], moji[s]\n",
    "print('置換後：'+''.join(moji))"
   ]
  }
 ],
 "metadata": {
  "kernelspec": {
   "display_name": "Python 3.8.5 64-bit ('anaconda3-2020.11': pyenv)",
   "name": "python385jvsc74a57bd0852551a099bcd4103935b167f0506d01d7ded54002d00169929d9de4d04cfb6a"
  },
  "language_info": {
   "codemirror_mode": {
    "name": "ipython",
    "version": 3
   },
   "file_extension": ".py",
   "mimetype": "text/x-python",
   "name": "python",
   "nbconvert_exporter": "python",
   "pygments_lexer": "ipython3",
   "version": "3.8.5"
  },
  "orig_nbformat": 2
 },
 "nbformat": 4,
 "nbformat_minor": 2
}