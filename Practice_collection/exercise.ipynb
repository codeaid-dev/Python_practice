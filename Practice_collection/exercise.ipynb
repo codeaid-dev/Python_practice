{
 "cells": [
  {
   "cell_type": "code",
   "execution_count": 21,
   "metadata": {},
   "outputs": [
    {
     "name": "stdout",
     "output_type": "stream",
     "text": [
      "Banana,Cherry\n"
     ]
    }
   ],
   "source": [
    "#Exercise1\n",
    "fruits = [\n",
    "    ['Banana', 'Peach'],\n",
    "    ['Orange', 'Grape'],\n",
    "    ['Apple', 'Cherry']\n",
    "]\n",
    "print(fruits[0][0]+','+fruits[2][1])"
   ]
  },
  {
   "cell_type": "code",
   "execution_count": 22,
   "metadata": {},
   "outputs": [
    {
     "name": "stdout",
     "output_type": "stream",
     "text": [
      "41\n"
     ]
    }
   ],
   "source": [
    "#Exercise2\n",
    "id = (26, 41, 28)\n",
    "member = dict()\n",
    "member[\"Takashi\"] = {\"ID\":id[0]}\n",
    "member[\"Tetsuo\"] = {\"ID\":id[1]}\n",
    "member[\"Akira\"] = {\"ID\":id[2]}\n",
    "print(member[\"Tetsuo\"][\"ID\"])"
   ]
  },
  {
   "cell_type": "code",
   "execution_count": 4,
   "metadata": {},
   "outputs": [
    {
     "name": "stdout",
     "output_type": "stream",
     "text": [
      "['阪神', '巨人', 'ヤクルト', 'DeNA', '中日', '広島']\n"
     ]
    }
   ],
   "source": [
    "#Exercise3\n",
    "team_1 = ['阪神', '巨人', 'ヤクルト']\n",
    "team_2 = ['DeNA', '中日', '広島']\n",
    "team_1 += team_2\n",
    "#team_1.extend(team_2)\n",
    "print(team_1)\n"
   ]
  },
  {
   "cell_type": "code",
   "execution_count": 5,
   "metadata": {},
   "outputs": [
    {
     "name": "stdout",
     "output_type": "stream",
     "text": [
      "桜 菊 百合 薔薇 梅\n"
     ]
    }
   ],
   "source": [
    "flowers = [\"桜\", \"菊\", \"百合\", \"薔薇\", \"梅\"]\n",
    "print(' '.join(flowers))"
   ]
  },
  {
   "cell_type": "code",
   "execution_count": 7,
   "metadata": {},
   "outputs": [
    {
     "name": "stdout",
     "output_type": "stream",
     "text": [
      "['東京', 'ニューヨーク', 'ロンドン', 'パリ', 'ローマ']\n"
     ]
    }
   ],
   "source": [
    "contry = \"東京,ニューヨーク,ロンドン,パリ,ローマ\"\n",
    "print(contry.split(','))"
   ]
  }
 ],
 "metadata": {
  "kernelspec": {
   "display_name": "Python 3",
   "language": "python",
   "name": "python3"
  },
  "language_info": {
   "codemirror_mode": {
    "name": "ipython",
    "version": 3
   },
   "file_extension": ".py",
   "mimetype": "text/x-python",
   "name": "python",
   "nbconvert_exporter": "python",
   "pygments_lexer": "ipython3",
   "version": "3.8.5"
  },
  "orig_nbformat": 2
 },
 "nbformat": 4,
 "nbformat_minor": 2
}