{
 "cells": [
  {
   "cell_type": "code",
   "execution_count": 4,
   "metadata": {},
   "outputs": [
    {
     "name": "stdout",
     "output_type": "stream",
     "text": [
      "['阪神', '巨人', 'ヤクルト', 'DeNA', '中日', '広島']\n"
     ]
    }
   ],
   "source": [
    "#Exercise1\n",
    "team_1 = ['阪神', '巨人', 'ヤクルト']\n",
    "team_2 = ['DeNA', '中日', '広島']\n",
    "team_1 += team_2\n",
    "#team_1.extend(team_2)\n",
    "print(team_1)\n"
   ]
  },
  {
   "cell_type": "code",
   "execution_count": 5,
   "metadata": {},
   "outputs": [
    {
     "name": "stdout",
     "output_type": "stream",
     "text": [
      "桜 菊 百合 薔薇 梅\n"
     ]
    }
   ],
   "source": [
    "#Exercise2\n",
    "flowers = ['桜', '菊', '百合', '薔薇', '梅']\n",
    "print(' '.join(flowers))"
   ]
  },
  {
   "cell_type": "code",
   "execution_count": 5,
   "metadata": {},
   "outputs": [
    {
     "name": "stdout",
     "output_type": "stream",
     "text": [
      "['東京', 'ニューヨーク', 'ロンドン', 'パリ', 'ローマ']\n",
      "['東京', 'マドリード', 'ロンドン', 'ベルリン', 'ローマ']\n"
     ]
    }
   ],
   "source": [
    "#Exercise3\n",
    "country = '東京,ニューヨーク,ロンドン,パリ,ローマ'\n",
    "country = country.split(',')\n",
    "country2 = country.copy()\n",
    "#country2 = list(country)\n",
    "#country2 = country[:]\n",
    "country2[1] = 'マドリード'\n",
    "country2[3] = 'ベルリン'\n",
    "print(country)\n",
    "print(country2)"
   ]
  },
  {
   "cell_type": "code",
   "execution_count": 1,
   "metadata": {},
   "outputs": [
    {
     "name": "stdout",
     "output_type": "stream",
     "text": [
      "['java', 'python', 'c++', 'javascript']\n",
      "['java', 'python', 'c++', 'javascript']\n",
      "[60, 80, 40, 70]\n"
     ]
    }
   ],
   "source": [
    "#Exercise4\n",
    "favorites = {'java':60, 'python':80, 'c++':40, 'javascript':70}\n",
    "print(list(favorites))\n",
    "print(list(favorites.keys()))\n",
    "print(list(favorites.values()))"
   ]
  },
  {
   "cell_type": "code",
   "execution_count": 15,
   "metadata": {},
   "outputs": [
    {
     "name": "stdout",
     "output_type": "stream",
     "text": [
      "['one', 'two', 'four', 'five']\n",
      "['one', 'two', 'three', 'four', 'five']\n"
     ]
    }
   ],
   "source": [
    "#Exercise5\n",
    "number = ['one', 'two', 'four']\n",
    "number.append('five')\n",
    "print(number)\n",
    "number.insert(2, 'three')\n",
    "print(number)"
   ]
  },
  {
   "cell_type": "code",
   "execution_count": 9,
   "metadata": {},
   "outputs": [
    {
     "name": "stdout",
     "output_type": "stream",
     "text": [
      "['one', 'two', 'three']\n",
      "['three', 'four', 'five']\n",
      "['one', 'three', 'five', 'seven']\n",
      "['seven', 'five', 'three', 'one']\n"
     ]
    }
   ],
   "source": [
    "#Exercise6\n",
    "number = ['one', 'two', 'three', 'four', 'five', 'six', 'seven']\n",
    "print(number[0:3])\n",
    "print(number[2:5])\n",
    "print(number[::2])\n",
    "print(number[::-2])"
   ]
  },
  {
   "cell_type": "code",
   "execution_count": 19,
   "metadata": {},
   "outputs": [
    {
     "name": "stdout",
     "output_type": "stream",
     "text": [
      "['いち', 'にー', 'さん', 'よん']\n",
      "['いち', 'にー']\n"
     ]
    }
   ],
   "source": [
    "#Exercise7\n",
    "material = ['いち', 'にー', 'なな', 'さん', 'よん']\n",
    "material.remove('なな')\n",
    "print(material)\n",
    "del material[-2:]\n",
    "print(material)"
   ]
  },
  {
   "cell_type": "code",
   "execution_count": 21,
   "metadata": {},
   "outputs": [
    {
     "name": "stdout",
     "output_type": "stream",
     "text": [
      "['one', 'two', 'three', 'four']\n",
      "['five', 'six', 'seven', 'eight']\n"
     ]
    }
   ],
   "source": [
    "#Exercise8\n",
    "box1 = ['one', 'two', 'three', 'eight']\n",
    "box2 = ['five', 'six', 'seven', 'four']\n",
    "num1 = box1.pop()\n",
    "num2 = box2.pop()\n",
    "box1.append(num2)\n",
    "box2.append(num1)\n",
    "print(box1)\n",
    "print(box2)"
   ]
  },
  {
   "cell_type": "code",
   "execution_count": 13,
   "metadata": {},
   "outputs": [
    {
     "name": "stdout",
     "output_type": "stream",
     "text": [
      "[0, '1', 2, 3.14, 4.0]\n",
      "[4.0, 3.14, 2, '1', 0]\n"
     ]
    }
   ],
   "source": [
    "#Exercise9\n",
    "nums = [2,'1',4.0,0,3.14]\n",
    "nums.sort(key=int)\n",
    "print(nums)\n",
    "nums.sort(key=int,reverse=True)\n",
    "print(nums)"
   ]
  },
  {
   "cell_type": "code",
   "execution_count": 21,
   "metadata": {},
   "outputs": [
    {
     "name": "stdout",
     "output_type": "stream",
     "text": [
      "Banana,Cherry\n"
     ]
    }
   ],
   "source": [
    "#Exercise10\n",
    "fruits = [\n",
    "    ['Banana', 'Peach'],\n",
    "    ['Orange', 'Grape'],\n",
    "    ['Apple', 'Cherry']\n",
    "]\n",
    "print(fruits[0][0]+','+fruits[2][1])"
   ]
  },
  {
   "cell_type": "code",
   "execution_count": 1,
   "metadata": {},
   "outputs": [
    {
     "name": "stdout",
     "output_type": "stream",
     "text": [
      "[6, 12, 18]\n",
      "[4, 12, 20, 28]\n",
      "[6, 12, 18, 4, 12, 20, 28]\n"
     ]
    }
   ],
   "source": [
    "#Exercise11\n",
    "listOne = [3, 6, 9, 12, 15, 18, 21]\n",
    "listTwo = [4, 8, 12, 16, 20, 24, 28]\n",
    "listThree = list()\n",
    "\n",
    "odd = listOne[1::2]\n",
    "print(odd)\n",
    "even = listTwo[0::2]\n",
    "print(even)\n",
    "listThree.extend(odd)\n",
    "listThree.extend(even)\n",
    "print(listThree)"
   ]
  },
  {
   "cell_type": "code",
   "execution_count": 2,
   "metadata": {},
   "outputs": [
    {
     "name": "stdout",
     "output_type": "stream",
     "text": [
      "INDEX 4を削除： [34, 54, 67, 89, 43, 94]\n",
      "INDEX 2に挿入： [34, 54, 11, 67, 89, 43, 94]\n",
      "最後に追加： [34, 54, 11, 67, 89, 43, 94, 11]\n"
     ]
    }
   ],
   "source": [
    "#Exercise12\n",
    "nums = [34, 54, 67, 89, 11, 43, 94]\n",
    "element = nums.pop(4)\n",
    "print('INDEX 4を削除：', nums)\n",
    "nums.insert(2, element)\n",
    "print('INDEX 2に挿入：', nums)\n",
    "nums.append(element)\n",
    "print('最後に追加：', nums)"
   ]
  },
  {
   "cell_type": "code",
   "execution_count": 5,
   "metadata": {},
   "outputs": [
    {
     "name": "stdout",
     "output_type": "stream",
     "text": [
      "[10, 20, [300, 400, [5000, 6000, 7000], 500], 30, 40]\n"
     ]
    }
   ],
   "source": [
    "#Exercise13\n",
    "nums = [10, 20, [300, 400, [5000, 6000], 500], 30, 40]\n",
    "nums[2][2].append(7000)\n",
    "print(nums)"
   ]
  },
  {
   "cell_type": "code",
   "execution_count": 8,
   "metadata": {},
   "outputs": [
    {
     "name": "stdout",
     "output_type": "stream",
     "text": [
      "[10, 20, [300, 400, [6000], 500], 30, 40]\n"
     ]
    }
   ],
   "source": [
    "#Exercise14\n",
    "nums = [10, 20, [300, 400, [5000, 6000], 500], 30, 40]\n",
    "del nums[2][2][0]\n",
    "print(nums)"
   ]
  },
  {
   "cell_type": "code",
   "execution_count": 9,
   "metadata": {},
   "outputs": [
    {
     "name": "stdout",
     "output_type": "stream",
     "text": [
      "[10, 20, [10, [10, 20], 30], 30, 40]\n"
     ]
    }
   ],
   "source": [
    "#Exercise15\n",
    "nums = [10, 20, [10, 20, [10, 20], 30], 30, 40]\n",
    "nums[2].remove(20)\n",
    "print(nums)"
   ]
  },
  {
   "cell_type": "code",
   "execution_count": null,
   "metadata": {},
   "outputs": [],
   "source": [
    "#Exercise16\n",
    "alph = ['a', 'b', ['c', ['d', 'e', ['f', 'g'], 'k'], 'l'], 'm', 'n']\n",
    "sub = ['h', 'i', 'j']\n",
    "alph[2][1][2].extend(sub)\n",
    "print(alph)"
   ]
  },
  {
   "cell_type": "code",
   "execution_count": 6,
   "metadata": {},
   "outputs": [
    {
     "name": "stdout",
     "output_type": "stream",
     "text": [
      "['1', '2', '3', '454', 'Hello', 'ab', 'cd', 'ef']\n"
     ]
    }
   ],
   "source": [
    "#Exercise17\n",
    "l = input('入力 >>').split(',')\n",
    "index = l.index('86')\n",
    "l[index] = 'Hello'\n",
    "print(l)"
   ]
  },
  {
   "cell_type": "code",
   "execution_count": 8,
   "metadata": {},
   "outputs": [
    {
     "name": "stdout",
     "output_type": "stream",
     "text": [
      "20\n"
     ]
    }
   ],
   "source": [
    "#Exercise18\n",
    "tup = (\"Orange\", [10, 20, 30], (5, 15, 25))\n",
    "print(tup[1][1])"
   ]
  },
  {
   "cell_type": "code",
   "execution_count": null,
   "metadata": {},
   "outputs": [],
   "source": [
    "#Exercise19\n",
    "tup = (10, 20, 30, 40)\n",
    "a,b,c,d = tup\n",
    "print(a)\n",
    "print(b)\n",
    "print(c)\n",
    "print(d)"
   ]
  },
  {
   "cell_type": "code",
   "execution_count": 11,
   "metadata": {},
   "outputs": [
    {
     "name": "stdout",
     "output_type": "stream",
     "text": [
      "(99, 88)\n",
      "(11, 22)\n"
     ]
    }
   ],
   "source": [
    "#Exercise20\n",
    "tup1 = (11, 22)\n",
    "tup2 = (99, 88)\n",
    "tup1, tup2 = tup2, tup1\n",
    "print(tup1)\n",
    "print(tup2)"
   ]
  },
  {
   "cell_type": "code",
   "execution_count": 12,
   "metadata": {},
   "outputs": [
    {
     "name": "stdout",
     "output_type": "stream",
     "text": [
      "(11, [222, 33], 44, 55)\n"
     ]
    }
   ],
   "source": [
    "#Exercise21\n",
    "tup = (11, [22, 33], 44, 55)\n",
    "tup[1][0] = 222\n",
    "print(tup)"
   ]
  },
  {
   "cell_type": "code",
   "execution_count": 1,
   "metadata": {},
   "outputs": [
    {
     "name": "stdout",
     "output_type": "stream",
     "text": [
      "41\n"
     ]
    }
   ],
   "source": [
    "#Exercise22\n",
    "id = [26, 41, 28]\n",
    "member = dict()\n",
    "member['Takashi'] = {'ID':id[0]}\n",
    "member['Tetsuo'] = {'ID':id[1]}\n",
    "member['Akira'] = {'ID':id[2]}\n",
    "print(member['Tetsuo']['ID'])"
   ]
  },
  {
   "cell_type": "code",
   "execution_count": 6,
   "metadata": {},
   "outputs": [
    {
     "name": "stdout",
     "output_type": "stream",
     "text": [
      "{'red': '#FF0000', 'green': '#00FF00', 'blue': '#0000FF'}\n"
     ]
    }
   ],
   "source": [
    "#Exercise23\n",
    "l = [('red','#FF0000'),('green','#00FF00'),('blue','#0000FF')]\n",
    "print(dict(l))"
   ]
  },
  {
   "cell_type": "code",
   "execution_count": 2,
   "metadata": {},
   "outputs": [
    {
     "name": "stdout",
     "output_type": "stream",
     "text": [
      "月曜日\n"
     ]
    }
   ],
   "source": [
    "#Exercise24\n",
    "weeks = ['水曜日', '木曜日', '金曜日', '土曜日', '日曜日', '月曜日', '火曜日']\n",
    "D = int(input('7月何日？'))\n",
    "print(weeks[D%7])"
   ]
  },
  {
   "cell_type": "code",
   "execution_count": null,
   "metadata": {},
   "outputs": [],
   "source": [
    "#Exercise25\n",
    "w1 = {'g', 'a', 'c', 'e', 'j'}\n",
    "w2 = {'a', 'e', 'z', 'x', 'g'}\n",
    "print(w1 | w2)\n",
    "print(w1.union(w2))\n",
    "print(w1 & w2)\n",
    "print(w1.intersection(w2))\n",
    "print(w1 - w2)\n",
    "print(w1.difference(w2))\n",
    "print(w1 ^ w2)\n",
    "print(w1.symmetric_difference(w2))"
   ]
  },
  {
   "cell_type": "code",
   "execution_count": 7,
   "metadata": {},
   "outputs": [
    {
     "name": "stdout",
     "output_type": "stream",
     "text": [
      "True\n",
      "True\n"
     ]
    }
   ],
   "source": [
    "#Exercise26\n",
    "l1 = ['apple', 'orange', 'mango', 'peach']\n",
    "l2 = ['orange', 'mango']\n",
    "l3 = ['mango', 'orange']\n",
    "s1 = set(l1)\n",
    "s2 = set(l2)\n",
    "s3 = set(l3)\n",
    "print(s1 >= s2)\n",
    "#print(l2 == l3)\n",
    "print(s2 == s3)"
   ]
  },
  {
   "cell_type": "code",
   "execution_count": 4,
   "metadata": {},
   "outputs": [
    {
     "name": "stdout",
     "output_type": "stream",
     "text": [
      "重複を除いたリスト [52, 53, 87]\n",
      "タプル： (52, 53, 87)\n",
      "52 53 87\n"
     ]
    }
   ],
   "source": [
    "#Exercise27\n",
    "nums = [87, 52, 53, 87, 52]\n",
    "nums = list(set(nums))\n",
    "print('重複を除いたリスト', nums)\n",
    "\n",
    "tup = tuple(nums)\n",
    "print('タプル：', tup)\n",
    "a, b, c = tup\n",
    "print(a,b,c)"
   ]
  },
  {
   "cell_type": "code",
   "execution_count": 5,
   "metadata": {},
   "outputs": [
    {
     "name": "stdout",
     "output_type": "stream",
     "text": [
      "{'Black', 'Red', 'Blue', 'Yellow', 'Green', 'Orange'}\n"
     ]
    }
   ],
   "source": [
    "#Exercise28\n",
    "s = {'Yellow', 'Orange', 'Black'}\n",
    "l = ['Blue', 'Green', 'Red']\n",
    "s.update(l)\n",
    "print(s)"
   ]
  },
  {
   "cell_type": "code",
   "execution_count": 3,
   "metadata": {},
   "outputs": [
    {
     "name": "stdout",
     "output_type": "stream",
     "text": [
      "{'mon': 36.2, 'tue': 36.5, 'wed': 36.1, 'thu': 36.8, 'fri': 36.3}\n"
     ]
    }
   ],
   "source": [
    "#Exercise29\n",
    "days = ['mon', 'tue', 'wed', 'thu', 'fri']\n",
    "temp = [36.2, 36.5, 36.1, 36.8, 36.3]\n",
    "print(dict(zip(days, temp)))"
   ]
  },
  {
   "cell_type": "code",
   "execution_count": null,
   "metadata": {},
   "outputs": [],
   "source": [
    "#Exercise30\n",
    "dic = { \n",
    "   'class':{ \n",
    "      'student':{ \n",
    "         'name':'Yamada',\n",
    "         'marks':{ \n",
    "            'physics':70,\n",
    "            'history':80\n",
    "         }\n",
    "      }\n",
    "   }\n",
    "}\n",
    "print(dic['class']['student']['marks']['history'])"
   ]
  },
  {
   "cell_type": "code",
   "execution_count": 1,
   "metadata": {},
   "outputs": [
    {
     "name": "stdout",
     "output_type": "stream",
     "text": [
      "{'name': 'Yamada', 'age': 25, 'salary': 150000, 'location': 'Tokyo'}\n"
     ]
    }
   ],
   "source": [
    "#Exercise31\n",
    "dic = {\n",
    "    'name': 'Yamada',\n",
    "    'age':25,\n",
    "    'salary': 150000,\n",
    "    'city': 'Tokyo'\n",
    "}\n",
    "\n",
    "dic['location'] = dic.pop('city')\n",
    "print(dic)"
   ]
  },
  {
   "cell_type": "code",
   "execution_count": 3,
   "metadata": {},
   "outputs": [
    {
     "name": "stdout",
     "output_type": "stream",
     "text": [
      "{'emp1': {'name': 'Yamada', 'salary': 200000}, 'emp2': {'name': 'Tanaka', 'salary': 150000}, 'emp3': {'name': 'Soto', 'salary': 120000}}\n"
     ]
    }
   ],
   "source": [
    "#Exercise32\n",
    "dic = {\n",
    "     'emp1': {'name': 'Yamada', 'salary': 200000},\n",
    "     'emp2': {'name': 'Tanaka', 'salary': 100000},\n",
    "     'emp3': {'name': 'Soto', 'salary': 120000}\n",
    "}\n",
    "dic['emp2']['salary'] = 150000\n",
    "print(dic)"
   ]
  },
  {
   "cell_type": "code",
   "execution_count": 2,
   "metadata": {},
   "outputs": [
    {
     "name": "stdout",
     "output_type": "stream",
     "text": [
      "山田さんの夕食はステーキです\n"
     ]
    }
   ],
   "source": [
    "#Exercise33\n",
    "info = {\n",
    "    '山田':{'朝食':'食パンとコーヒー', '昼食':'ハンバーガー', '夕食':'ステーキ'},\n",
    "    '近藤':{'朝食':'ごはんと味噌汁', '昼食':'焼き魚定食', '夕食':'おでん'},\n",
    "    '佐藤':{'朝食':'シリアル', '昼食':'パスタ', '夕食':'アクアパッツァ'}\n",
    "}\n",
    "name = input('名前は？')\n",
    "meal = input('どの食事？')\n",
    "print(f'{name}さんの{meal}は{info[name][meal]}です')"
   ]
  },
  {
   "cell_type": "code",
   "execution_count": 4,
   "metadata": {},
   "outputs": [
    {
     "name": "stdout",
     "output_type": "stream",
     "text": [
      "佐藤さんの2日目の朝食はサラダです\n"
     ]
    }
   ],
   "source": [
    "#Exercise34\n",
    "info1 = {\n",
    "    '山田':{'朝食':'食パンとコーヒー', '昼食':'ハンバーガー', '夕食':'ステーキ'},\n",
    "    '近藤':{'朝食':'ごはんと味噌汁', '昼食':'焼き魚定食', '夕食':'おでん'},\n",
    "    '佐藤':{'朝食':'シリアル', '昼食':'パスタ', '夕食':'アクアパッツァ'}\n",
    "}\n",
    "info2 = {\n",
    "    '山田':{'朝食':'ベーコンエッグ', '昼食':'ホットドッグ', '夕食':'ビーフカレー'},\n",
    "    '近藤':{'朝食':'ごはんと漬物', '昼食':'丼物', '夕食':'お好み焼き'},\n",
    "    '佐藤':{'朝食':'サラダ', '昼食':'ピザ', '夕食':'リゾット'}\n",
    "}\n",
    "info = {1:info1, 2:info2}\n",
    "name = input('名前は？')\n",
    "meal = input('どの食事？')\n",
    "day = int(input('何日目？'))\n",
    "print(f'{name}さんの{day}日目の{meal}は{info[day][name][meal]}です')"
   ]
  },
  {
   "cell_type": "code",
   "execution_count": 4,
   "metadata": {},
   "outputs": [
    {
     "name": "stdout",
     "output_type": "stream",
     "text": [
      "True\n"
     ]
    }
   ],
   "source": [
    "#Exercise35\n",
    "menu = {'coffee':250, 'tea':230, 'milk':150}\n",
    "print(230 in menu.values())"
   ]
  },
  {
   "cell_type": "code",
   "execution_count": 1,
   "metadata": {},
   "outputs": [
    {
     "name": "stdout",
     "output_type": "stream",
     "text": [
      "{'coffee': 250, 'sandwich': 380, 'salad': 180, 'cake': 300, 'parfait': 400}\n",
      "合計：1510\n"
     ]
    }
   ],
   "source": [
    "#Exercise36\n",
    "menu1 = {'coffee':250, 'sandwich':380, 'salad':180}\n",
    "menu2 = {'cake':300, 'parfait':400}\n",
    "menu = menu1.copy()\n",
    "menu.update(menu2)\n",
    "#menu = menu1 | menu2 #3.9\n",
    "print(menu)\n",
    "print('合計：'+str(sum(menu.values())))"
   ]
  },
  {
   "cell_type": "code",
   "execution_count": 7,
   "metadata": {},
   "outputs": [
    {
     "name": "stdout",
     "output_type": "stream",
     "text": [
      "{'hoge': 250, 'foo': 300, 'bar': 120}\n",
      "{'hoge': 250, 'foo': 300, 'bar': 120, 'hogehoge': 333}\n",
      "{'hoge': 250, 'bar': 120, 'hogehoge': 333}\n"
     ]
    }
   ],
   "source": [
    "#Exercise37\n",
    "samp = {'hoge':250, 'foo':300, 'bar':120}\n",
    "print(samp)\n",
    "key = input('追加key >>')\n",
    "val = int(input('追加value >>'))\n",
    "samp[key] = val\n",
    "print(samp)\n",
    "rm = input('削除key >>')\n",
    "del samp[rm]\n",
    "print(samp)"
   ]
  },
  {
   "cell_type": "code",
   "execution_count": 5,
   "metadata": {},
   "outputs": [
    {
     "name": "stdout",
     "output_type": "stream",
     "text": [
      "置換前：abcdefg\n",
      "置換後：abfdecg\n"
     ]
    }
   ],
   "source": [
    "#Exercise38\n",
    "moji = list(input('文字列入力 >>'))\n",
    "print('置換前：'+''.join(moji))\n",
    "param = input('置換値入力 >>').split(',')\n",
    "s, d = int(param[0]), int(param[1])\n",
    "moji[s], moji[d] = moji[d], moji[s]\n",
    "print('置換後：'+''.join(moji))"
   ]
  },
  {
   "cell_type": "code",
   "execution_count": 4,
   "metadata": {},
   "outputs": [
    {
     "name": "stdout",
     "output_type": "stream",
     "text": [
      "スコア合計：35\n"
     ]
    }
   ],
   "source": [
    "#Exercise39\n",
    "two, three = input('スコア >>').split(',')\n",
    "print(f'スコア合計：{int(two)*2+int(three)*3}')"
   ]
  },
  {
   "cell_type": "code",
   "execution_count": 6,
   "metadata": {},
   "outputs": [
    {
     "name": "stdout",
     "output_type": "stream",
     "text": [
      "True\n",
      "True\n"
     ]
    }
   ],
   "source": [
    "#Exercise40\n",
    "d1 = {'a':1, 'b':2, 'c':3}\n",
    "d2 = {'a':1, 'c':3}\n",
    "#print(set(d1.items()))\n",
    "#print(set(d2.items()))\n",
    "print(set(d1.items()) >= set(d2.items()))\n",
    "print(set(d1.items()).issuperset(set(d2.items())))"
   ]
  },
  {
   "cell_type": "code",
   "execution_count": 1,
   "metadata": {},
   "outputs": [
    {
     "name": "stdout",
     "output_type": "stream",
     "text": [
      "{'apple': 10, 'grape': 20, 'orange': 30, 'mango': 40}\n"
     ]
    }
   ],
   "source": [
    "#Exercise41\n",
    "d = {'apple': 10, 'grape': 20, 'orange': 30}\n",
    "d['apple'] = d.get('apple', -1)\n",
    "d['mango'] = d.get('mango', 40)\n",
    "print(d)"
   ]
  },
  {
   "cell_type": "code",
   "execution_count": 3,
   "metadata": {},
   "outputs": [
    {
     "name": "stdout",
     "output_type": "stream",
     "text": [
      "@@\n",
      "@@@@\n",
      "@\n",
      "@@@\n"
     ]
    }
   ],
   "source": [
    "#Exercise42\n",
    "items = list(input('入力 >>').split(','))\n",
    "for num in items:\n",
    "    n = int(num)\n",
    "    output = ''\n",
    "    while n > 0:\n",
    "        output += '@'\n",
    "        n = n - 1\n",
    "    print(output)"
   ]
  }
 ],
 "metadata": {
  "kernelspec": {
   "display_name": "Python 3.9.2 64-bit ('3.9.2': pyenv)",
   "name": "python392jvsc74a57bd0e175e2d1a69ec44a53513b33867561d513a585d5b2228589977b3e28bb8f7a45"
  },
  "language_info": {
   "codemirror_mode": {
    "name": "ipython",
    "version": 3
   },
   "file_extension": ".py",
   "mimetype": "text/x-python",
   "name": "python",
   "nbconvert_exporter": "python",
   "pygments_lexer": "ipython3",
   "version": "3.9.2"
  },
  "orig_nbformat": 2
 },
 "nbformat": 4,
 "nbformat_minor": 2
}