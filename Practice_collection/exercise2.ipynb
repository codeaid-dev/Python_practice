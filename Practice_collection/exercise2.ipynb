{
 "cells": [
  {
   "cell_type": "code",
   "execution_count": null,
   "metadata": {},
   "outputs": [],
   "source": [
    "#Exercise1\n",
    "person = input('性別は？ >>')\n",
    "age = int(input('年齢は？ >>'))\n",
    "yaku1 = '本厄年です'\n",
    "yaku2 = '本厄年ではありません'\n",
    "age_m = [25,42,61]\n",
    "age_f = [19,33,37,61]\n",
    "if person == '男性':\n",
    "    if age in age_m:\n",
    "        print(yaku1)\n",
    "    else:\n",
    "        print(yaku2)\n",
    "elif person == '女性':\n",
    "    if age in age_f:\n",
    "        print(yaku1)\n",
    "    else:\n",
    "        print(yaku2)\n",
    "else:\n",
    "    print('判定できませんでした')"
   ]
  },
  {
   "cell_type": "code",
   "execution_count": null,
   "metadata": {},
   "outputs": [],
   "source": [
    "#Excercise2\n",
    "temp = {'日':None, '月':None, '火':None, '水':None, '木':None, '金':None, '土':None}\n",
    "for day in temp:\n",
    "    data = float(input(f'{day}曜日のデータを入力 >>'))\n",
    "    temp[day] = data\n",
    "print(temp)"
   ]
  },
  {
   "cell_type": "code",
   "execution_count": null,
   "metadata": {},
   "outputs": [],
   "source": [
    "#Excercise3\n",
    "for day in temp:\n",
    "    print(f'{day}曜日は{temp[day]}度')"
   ]
  },
  {
   "cell_type": "code",
   "execution_count": null,
   "metadata": {},
   "outputs": [],
   "source": [
    "#Excercise4\n",
    "temp_new = dict()\n",
    "for day in temp:\n",
    "    if temp[day] == 36.5:\n",
    "        temp_new[day] = 'N/A'\n",
    "    else:\n",
    "        temp_new[day] = temp[day]\n",
    "print(temp)\n",
    "print(temp_new)"
   ]
  },
  {
   "cell_type": "code",
   "execution_count": null,
   "metadata": {},
   "outputs": [],
   "source": [
    "#Excercise5\n",
    "total = 0\n",
    "count = 0\n",
    "for day in temp_new:\n",
    "    if isinstance(temp_new[day], float):\n",
    "        total += temp_new[day]\n",
    "        count += 1\n",
    "print(f'平均は{total/count}度です')"
   ]
  },
  {
   "cell_type": "code",
   "execution_count": null,
   "metadata": {},
   "outputs": [],
   "source": [
    "#Excercise6\n",
    "num = int(input('要素数 >>'))\n",
    "data = []\n",
    "for i in range(num):\n",
    "    data.append(input('要素 >>'))\n",
    "print(data)"
   ]
  },
  {
   "cell_type": "code",
   "execution_count": null,
   "metadata": {},
   "outputs": [],
   "source": [
    "#Excercise7\n",
    "nums = [1,2]\n",
    "data = sum(nums)\n",
    "while data <= 50:\n",
    "    nums.append(data)\n",
    "    data += nums[len(nums)-1]\n",
    "print(nums)"
   ]
  },
  {
   "cell_type": "code",
   "execution_count": null,
   "metadata": {},
   "outputs": [],
   "source": [
    "#Excercise8\n",
    "nums = [1,5,20,30,4,9,18]\n",
    "total=0\n",
    "for n in nums:\n",
    "    if n>5:\n",
    "        total += n\n",
    "print(total)"
   ]
  },
  {
   "cell_type": "code",
   "execution_count": null,
   "metadata": {},
   "outputs": [],
   "source": [
    "#Excercise9\n",
    "words = ['hello', 'eye', 'bye', 'noon']\n",
    "count = 0\n",
    "for word in words:\n",
    "    if len(word) > 1 and word[0] == word[-1]:\n",
    "        count += 1\n",
    "print(count)"
   ]
  },
  {
   "cell_type": "code",
   "execution_count": null,
   "metadata": {},
   "outputs": [],
   "source": [
    "#Excercise10-1\n",
    "nums = [1,2,3,4,5,6,7,8,9,10]\n",
    "items = []\n",
    "for n in nums:\n",
    "    if n%2==0:\n",
    "        items.append(n)\n",
    "print(items)"
   ]
  },
  {
   "cell_type": "code",
   "execution_count": null,
   "metadata": {},
   "outputs": [],
   "source": [
    "#Excercise10-2\n",
    "nums = [1,2,3,4,5,6,7,8,9,10]\n",
    "items = [n for n in nums if n%2==0]\n",
    "print(items)"
   ]
  },
  {
   "cell_type": "code",
   "execution_count": null,
   "metadata": {},
   "outputs": [],
   "source": [
    "#Excercise11-1\n",
    "dic = {\"name\": \"Tanaka\",\n",
    "      \"age\":25, \n",
    "      \"salary\": 150000, \n",
    "      \"city\": \"Tokyo\"}\n",
    "keys = [\"name\", \"salary\"]\n",
    "\n",
    "new_dic = dict()\n",
    "for k in keys:\n",
    "   new_dic[k] = dic[k]\n",
    "print(new_dic)"
   ]
  },
  {
   "cell_type": "code",
   "execution_count": null,
   "metadata": {},
   "outputs": [],
   "source": [
    "#Excercise11-2\n",
    "dic = {\"name\": \"Tanaka\",\n",
    "      \"age\":25, \n",
    "      \"salary\": 150000, \n",
    "      \"city\": \"Tokyo\"}\n",
    "keys = [\"name\", \"salary\"]\n",
    "new_dic = {k: dic[k] for k in keys}"
   ]
  },
  {
   "cell_type": "code",
   "execution_count": null,
   "metadata": {},
   "outputs": [],
   "source": [
    "#Excercise12-1\n",
    "nums = [10,20,30,20,10,50,60,40,80,50,None,40]\n",
    "items = []\n",
    "for n in nums:\n",
    "    if n not in items and not n is None:\n",
    "        items.append(n)\n",
    "print(items)"
   ]
  },
  {
   "cell_type": "code",
   "execution_count": null,
   "metadata": {},
   "outputs": [],
   "source": [
    "#Excercise12-2\n",
    "nums = [10,20,30,20,10,50,60,40,80,50,None,40]\n",
    "items = [n2 for n2 in {n1 for n1 in nums if not n1 is None}] #集合を使うことで重複を取り除く\n",
    "print(items)"
   ]
  },
  {
   "cell_type": "code",
   "execution_count": null,
   "metadata": {},
   "outputs": [],
   "source": [
    "#Excercise13\n",
    "l = [1,4,3,5,6,2,7,8,3,4,6,8,9,1,2]\n",
    "cnt=0\n",
    "for n in l:\n",
    "    if 3<=n<=6:\n",
    "        cnt += 1\n",
    "print(f'3~6の数は{cnt}個')"
   ]
  },
  {
   "cell_type": "code",
   "execution_count": null,
   "metadata": {},
   "outputs": [],
   "source": [
    "#Excercise14\n",
    "names = [{'001': 'Tanaka', 'mail':'foobar@hoge.com'}, {'002': 'Suzuki'}, {'003': 'Yamada'}, {'001': 'Tanaka', 'mail':'foobar@hoge.com'}]\n",
    "#result = [dict(e) for e in {tuple(d.items()) for d in names}]\n",
    "result = []\n",
    "for n in names:\n",
    "    if n not in result:\n",
    "        result.append(n)\n",
    "print(result)\n",
    "nums = [[1,2,3], [3,4], [1,2,3], [4,5]]\n",
    "items = []\n",
    "for n in nums:\n",
    "    if n not in items:\n",
    "        items.append(n)\n",
    "#res = [list(e) for e in {tuple(d) for d in nums}]\n",
    "print(items)"
   ]
  },
  {
   "cell_type": "code",
   "execution_count": null,
   "metadata": {},
   "outputs": [],
   "source": [
    "#Excercise15\n",
    "colors = \"red,yellow,black,blue,white\"\n",
    "color_list = colors.split(',')\n",
    "result = []\n",
    "for n in color_list:\n",
    "    if len(n) > 4:\n",
    "        result.append(n)\n",
    "print(result)\n",
    "#print([n for n in color_list if len(n)>4])"
   ]
  },
  {
   "cell_type": "code",
   "execution_count": null,
   "metadata": {},
   "outputs": [],
   "source": [
    "#Excercise16\n",
    "nums = input('入力 >>').split(',')\n",
    "largest = int(nums[0])\n",
    "for i in nums:\n",
    "    n = int(i)\n",
    "    if n > largest:\n",
    "        largest = n\n",
    "print(f'最大値は{largest}です')"
   ]
  },
  {
   "cell_type": "code",
   "execution_count": null,
   "metadata": {},
   "outputs": [],
   "source": [
    "#Excercise17\n",
    "words = input('入力 >>').split(',')\n",
    "longest = ''\n",
    "shortest = ''\n",
    "for i in range(len(words)):\n",
    "    if len(longest) <= len(words[i]):\n",
    "        longest = words[i]\n",
    "    if len(shortest) >= len(words[i]) or len(shortest) <= 0:\n",
    "        shortest = words[i]\n",
    "print(f'最短：{shortest}、最長：{longest}')"
   ]
  },
  {
   "cell_type": "code",
   "execution_count": null,
   "metadata": {},
   "outputs": [],
   "source": [
    "#Excercise18\n",
    "n = int(input('入力 >>'))\n",
    "d = dict()\n",
    "for i in range(1,n+1):\n",
    "    d[i] = i*i\n",
    "print(d)"
   ]
  },
  {
   "cell_type": "code",
   "execution_count": null,
   "metadata": {},
   "outputs": [],
   "source": [
    "#Excercise19\n",
    "d1 = {'a':10, 'b':70}\n",
    "d2 = {'c':30, 'd':60}\n",
    "d3 = {'e':80, 'f':50}\n",
    "d4 = {}\n",
    "for d in (d1,d2,d3):\n",
    "    d4.update(d)\n",
    "print(d4)"
   ]
  },
  {
   "cell_type": "code",
   "execution_count": null,
   "metadata": {},
   "outputs": [],
   "source": [
    "#Excercise20\n",
    "s = input('入力 >>')\n",
    "d = {}\n",
    "for n in s:\n",
    "    keys = d.keys()\n",
    "    if n in keys:\n",
    "        d[n] += 1\n",
    "    else:\n",
    "        d[n] = 1\n",
    "print(d)"
   ]
  },
  {
   "cell_type": "code",
   "execution_count": null,
   "metadata": {},
   "outputs": [],
   "source": [
    "#Excercise21\n",
    "keys = ['a','b','c']\n",
    "values = [1,2,3]\n",
    "dic = dict()\n",
    "for i in range(len(keys)):\n",
    "    dic[keys[i]] = values[i]\n",
    "print(dic)\n",
    "#print(dict(zip(keys, values)))\n",
    "#print({k: v for k, v in zip(keys, values)})"
   ]
  },
  {
   "cell_type": "code",
   "execution_count": null,
   "metadata": {},
   "outputs": [],
   "source": [
    "#Excercise22-1\n",
    "info = [['red','#FF0000',20],['yellow','#FFFF00',80],['blue','#0000FF',50]]\n",
    "result = {}\n",
    "for color in info:\n",
    "    result[color[0]] = color[1:]\n",
    "print(result) "
   ]
  },
  {
   "cell_type": "code",
   "execution_count": null,
   "metadata": {},
   "outputs": [],
   "source": [
    "#Excercise22-2\n",
    "info = [['red','#FF0000',20],['yellow','#FFFF00',80],['blue','#0000FF',50]]\n",
    "result = {color[0]: color[1:] for color in info}\n",
    "print(result)"
   ]
  },
  {
   "cell_type": "code",
   "execution_count": null,
   "metadata": {},
   "outputs": [],
   "source": [
    "#Excercise23-1\n",
    "dic = {'c1': 'Red', 'c2': 'Green', 'c3':None, 'c4': 'Blue'}\n",
    "for key in list(dic.keys()):\n",
    "    if dic[key] == None:\n",
    "        del dic[key]\n",
    "print(dic)"
   ]
  },
  {
   "cell_type": "code",
   "execution_count": null,
   "metadata": {},
   "outputs": [],
   "source": [
    "#Excercise23-2\n",
    "dic = {'c1': 'Red', 'c2': 'Green', 'c3':None, 'c4': 'Blue'}\n",
    "dic = {key:value for (key, value) in dic.items() if value is not None}\n",
    "print(dic)"
   ]
  },
  {
   "cell_type": "code",
   "execution_count": null,
   "metadata": {},
   "outputs": [],
   "source": [
    "#Excercise24\n",
    "l = ['a', 'b', 'c', 'd', None, 'f', 'g', None, 'h']\n",
    "new_list = []\n",
    "for s in l:\n",
    "    if s == None:\n",
    "        break\n",
    "    new_list.append(s)\n",
    "print(new_list)"
   ]
  },
  {
   "cell_type": "code",
   "execution_count": null,
   "metadata": {},
   "outputs": [],
   "source": [
    "#Excercise25\n",
    "country = ['カザフ','ウズベキ','トルクメニ','タジキ','アフガニ','パキ']\n",
    "for i in range(len(country)):\n",
    "    country[i] += 'スタン'\n",
    "print(country)"
   ]
  },
  {
   "cell_type": "code",
   "execution_count": null,
   "metadata": {},
   "outputs": [],
   "source": [
    "#Excercise26\n",
    "import random\n",
    "l = []\n",
    "for n in range(5):\n",
    "    l.append(random.randint(1,15))\n",
    "check = int(input('入力 >>'))\n",
    "print(l)\n",
    "if check in l:\n",
    "    print('あります')\n",
    "else:\n",
    "    print('ありません')"
   ]
  },
  {
   "cell_type": "code",
   "execution_count": null,
   "metadata": {},
   "outputs": [],
   "source": [
    "#Excercise27\n",
    "import random\n",
    "\n",
    "uranai = ['今日は最高！','今日はそこそこです','今日はまぁまぁ','今日は最悪・・・']\n",
    "random.shuffle(uranai)\n",
    "choice = int(input('0~3を選択 >>'))\n",
    "if 0 <= choice <= 3:\n",
    "    print(uranai[choice])\n",
    "else:\n",
    "    print('占えません')"
   ]
  },
  {
   "cell_type": "code",
   "execution_count": null,
   "metadata": {},
   "outputs": [],
   "source": [
    "#Excercise28\n",
    "w1, w2 = input('入力 >>').split(',')\n",
    "w3 = set(w1) & set(w2)\n",
    "res = ''\n",
    "for ch in w1:\n",
    "    if ch in w3 and not ch in res:\n",
    "        res += ch\n",
    "print(res)\n",
    "#w3 = sorted(set(w1) & set(w2), key=w1.index)\n",
    "#print(''.join(w3))"
   ]
  },
  {
   "cell_type": "code",
   "execution_count": null,
   "metadata": {},
   "outputs": [],
   "source": [
    "#Excercise29\n",
    "pair = ['Q', 'A']\n",
    "num = 4\n",
    "result = []\n",
    "for y in range(1,num+1):\n",
    "    for x in pair:\n",
    "        result.append(f'{x}{y}')\n",
    "print(result)\n",
    "#result2 = [f'{x}{y}' for y in range(1,num+1) for x in pair]\n",
    "#print(result2)"
   ]
  },
  {
   "cell_type": "code",
   "execution_count": null,
   "metadata": {},
   "outputs": [],
   "source": [
    "#Excercise30\n",
    "computers = {\n",
    "    'PC1':{'Intel', 'NVIDIA', 'Crucial'},\n",
    "    'PC2':{'Intel', 'RADEON', 'Corsair'},\n",
    "    'PC3':{'AMD', 'RADEON', 'Micron'},\n",
    "    'PC4':{'Intel', 'NVIDIA', 'Corsair'},\n",
    "    'PC5':{'AMD', 'NVIDIA', 'Sillicon Power'}\n",
    "}\n",
    "for name, contents in computers.items():\n",
    "    if 'NVIDIA' in contents:\n",
    "        print(name)"
   ]
  },
  {
   "cell_type": "code",
   "execution_count": null,
   "metadata": {},
   "outputs": [],
   "source": [
    "#Excercise31\n",
    "for name, contents in computers.items():\n",
    "    if not ('Intel' in contents or 'Micron' in contents):\n",
    "        print(name)\n",
    "#for name, contents in computers.items():\n",
    "#    if not ({'Intel', 'Micron'} & contents):\n",
    "#        print(name)"
   ]
  },
  {
   "cell_type": "code",
   "execution_count": null,
   "metadata": {},
   "outputs": [],
   "source": [
    "#Excercise32\n",
    "for name, contents in computers.items():\n",
    "    if contents & {'AMD', 'Crucial'}:\n",
    "        print(name)"
   ]
  },
  {
   "cell_type": "code",
   "execution_count": null,
   "metadata": {},
   "outputs": [],
   "source": [
    "#Exercise33\n",
    "items = list(input('入力 >>').split(','))\n",
    "for num in items:\n",
    "    n = int(num)\n",
    "    output = ''\n",
    "    while n > 0:\n",
    "        output += '@'\n",
    "        n = n - 1\n",
    "    print(output)"
   ]
  },
  {
   "cell_type": "code",
   "execution_count": null,
   "metadata": {},
   "outputs": [],
   "source": [
    "#Excercise34\n",
    "QUESTION = [\n",
    "    \"桜の咲く季節は？\",\n",
    "    \"点を取ると大きくなる動物は？\",\n",
    "    \"パンでも固くて食べられないパンは？\"\n",
    "]\n",
    "ANS = [\"春\", \"犬\", \"フライパン\"]\n",
    "for i in range(3):\n",
    "    ans = input(QUESTION[i])\n",
    "    if ans == ANS[i]:\n",
    "        print(\"正解です\")\n",
    "    else:\n",
    "        print(\"不正解です\")"
   ]
  },
  {
   "cell_type": "code",
   "execution_count": null,
   "metadata": {},
   "outputs": [],
   "source": [
    "#Excercise35\n",
    "import random\n",
    "alph = ['A','B', 'C', 'D', 'E', 'F', 'G', 'H', 'I', 'J']\n",
    "r = random.choice(alph)\n",
    "Q = ''\n",
    "for i in alph:\n",
    "    if i != r:\n",
    "        Q = Q + i\n",
    "print(Q)\n",
    "ans = input('抜けているアルファベットは？')\n",
    "if ans == r:\n",
    "    print('正解です')\n",
    "else:\n",
    "    print('間違いです')"
   ]
  },
  {
   "cell_type": "code",
   "execution_count": null,
   "metadata": {},
   "outputs": [],
   "source": [
    "#Excercise36\n",
    "nums = input('入力 >>').split()\n",
    "for i in range(1,11):\n",
    "    if not str(i) in nums:\n",
    "        ans = i\n",
    "        break\n",
    "print(ans)\n",
    "\n",
    "#nums = list(map(int, input('入力 >>').split()))\n",
    "#print(55-sum(nums))"
   ]
  },
  {
   "cell_type": "code",
   "execution_count": null,
   "metadata": {},
   "outputs": [],
   "source": [
    "#Excercise37\n",
    "s = input('入力 >>').split(',')\n",
    "dic = {}\n",
    "for n in s:\n",
    "    n = int(n)\n",
    "    m = n**2\n",
    "    if m % 3 == 0 or m % 5 == 0:\n",
    "        dic[n] = m\n",
    "\n",
    "print(dic)\n",
    "\n",
    "#d = {int(n):int(n)**2 for n in s if int(n)%3 == 0 or int(n)%5 == 0}\n",
    "#print(d)"
   ]
  },
  {
   "cell_type": "code",
   "execution_count": null,
   "metadata": {},
   "outputs": [],
   "source": [
    "#Excercise38\n",
    "row, col = input('行と列 >>').split(',')\n",
    "masu = [[0 for c in range(int(col))] for r in range(int(row))]\n",
    "print(masu)\n",
    "\n",
    "masu2 = []\n",
    "masu3 = []\n",
    "for r in range(int(row)):\n",
    "    for c in range(int(col)):\n",
    "        masu2.append(0)\n",
    "    masu3.append(masu2)\n",
    "    masu2 = []\n",
    "print(masu3)"
   ]
  },
  {
   "cell_type": "code",
   "execution_count": null,
   "metadata": {},
   "outputs": [],
   "source": [
    "#Excercise39\n",
    "w1 = input('単語1 >>').split()\n",
    "w2 = input('単語2 >>').split()\n",
    "for i in range(len(w1)):\n",
    "    if w1[i] != w2[i]:\n",
    "        print(i+1)\n",
    "        print(w1[i])\n",
    "        print(w2[i])\n",
    "        break"
   ]
  },
  {
   "cell_type": "code",
   "execution_count": null,
   "metadata": {},
   "outputs": [],
   "source": [
    "#Excercise40\n",
    "#width,height = map(int, input('横幅と縦幅：').split(','))\n",
    "nums = input('横幅と縦幅：').split(',')\n",
    "width,height = int(nums[0]),int(nums[1])\n",
    "words = ['o', 'x']\n",
    "order = 1\n",
    "for i in range(height):\n",
    "    moji = ''\n",
    "    order = 1 - order\n",
    "    for j in range(width):\n",
    "        if j % 2 == 0:\n",
    "            moji += words[order]\n",
    "        else:\n",
    "            moji += words[1 - order]\n",
    "    print(moji)"
   ]
  },
  {
   "cell_type": "code",
   "execution_count": null,
   "metadata": {},
   "outputs": [],
   "source": [
    "#Excercise41\n",
    "nums = [1,2,2,2,4,4,4,5,5,5,5]\n",
    "kind = list(set(nums))\n",
    "counts = {}\n",
    "for n in kind:\n",
    "    counts[n]=nums.count(n)\n",
    "print(kind)\n",
    "print(counts)"
   ]
  },
  {
   "cell_type": "code",
   "execution_count": null,
   "metadata": {},
   "outputs": [],
   "source": [
    "#Excercise42\n",
    "mixed = [19,'red',12,'green','blue', 5,'white','green',1]\n",
    "nums=[]\n",
    "for n in mixed:\n",
    "    if isinstance(n, int):\n",
    "        nums.append(n)\n",
    "nums.sort()\n",
    "#another answer\n",
    "#nums = sorted([n for n in mixed if isinstance(n, int)])\n",
    "#nums = sorted([n for n in mixed if type(n) is int])\n",
    "strs=[]\n",
    "for s in mixed:\n",
    "    if isinstance(s, str):\n",
    "        strs.append(s)\n",
    "strs.sort()\n",
    "#another answer\n",
    "#strs = sorted([s for s in mixed if isinstance(s, str)])\n",
    "#strs = sorted([s for s in mixed if type(s) is str])\n",
    "print(nums + strs)"
   ]
  },
  {
   "cell_type": "code",
   "execution_count": null,
   "metadata": {},
   "outputs": [],
   "source": [
    "#Excercise43\n",
    "nums = [[1,2,3,2], [4,5,6,1], [7,8,9,5]]\n",
    "result = []\n",
    "for i in range(len(nums[0])):\n",
    "    result.append(0)\n",
    "for row in nums:\n",
    "    for i in range(len(row)):\n",
    "        result[i] += row[i]\n",
    "#another answer\n",
    "#result = [sum(row[i] for row in nums) for i in range(len(nums[0]))]\n",
    "print(result)"
   ]
  },
  {
   "cell_type": "code",
   "execution_count": null,
   "metadata": {},
   "outputs": [],
   "source": [
    "#Excercise44\n",
    "colors = ['red', 'green', 'blue', 'white', 'black', 'orange']\n",
    "words = list(input('入力>>').split(','))\n",
    "for s in colors:\n",
    "    if s in words:\n",
    "        colors.remove(s)\n",
    "print(colors)"
   ]
  },
  {
   "cell_type": "code",
   "execution_count": null,
   "metadata": {},
   "outputs": [],
   "source": [
    "#Excercise45\n",
    "l1 = [['a','b'], ['e','f','g'], ['j', 'k']]\n",
    "l2 = [['c','d'], ['h','i'], ['l','m','n']]\n",
    "result=[]\n",
    "for i in range(len(l1)):\n",
    "    result.append(l1[i] + l2[i])\n",
    "#another answer\n",
    "#result =  [x + y for x,y in zip(l1, l2)]\n",
    "print(result)"
   ]
  },
  {
   "cell_type": "code",
   "execution_count": null,
   "metadata": {},
   "outputs": [],
   "source": [
    "#Excercise46\n",
    "accounts = {\n",
    "    'class1':[{'mail':'tanaka@example.com','name':'田中'},\n",
    "            {'mail':'suzuki@example.com','name':'鈴木'}],\n",
    "    'class2':[{'mail':'sato@example.com','name':'佐藤'}],\n",
    "    'class3':[{'mail':'suzuki@example.com','name':'鈴木'}]\n",
    "    }\n",
    "member = input('>>')\n",
    "c_name=[]\n",
    "u_name='ありません'\n",
    "for c,m in accounts.items():\n",
    "    for p in m:\n",
    "        if p['mail'] == member:\n",
    "            c_name.append(c)\n",
    "            u_name = p['name']\n",
    "\n",
    "print(f'メールアドレス：{member}\\n名前：{u_name}\\n所属クラス：{c_name}')"
   ]
  },
  {
   "cell_type": "code",
   "execution_count": null,
   "metadata": {},
   "outputs": [],
   "source": [
    "#Excercise47\n",
    "place = ['アテネ','パリ','セントルイス','ロンドン','ストックホルム','ベルリン','アントワープ','パリ','アムステルダム','ロサンゼルス','ベルリン','ヘルシンキ','ロンドン','ロンドン','ヘルシンキ','メルボルン','ローマ','東京','メキシコシティ','ミュンヘン','モントリオール','モスクワ','ロサンゼルス','ソウル','バルセロナ','アトランタ','シドニー','アテネ','北京','ロンドン','リオデジャネイロ','東京']\n",
    "year = int(input('開催年 >>'))\n",
    "times = (year - 1896) // 4\n",
    "if times % 4 != 0:\n",
    "    times += 1\n",
    "for i in range(times, len(place)):\n",
    "    if i != 5 and i != 11 and i != 12:\n",
    "        print(f'第{i+1}回 {place[i]}')"
   ]
  },
  {
   "cell_type": "code",
   "execution_count": null,
   "metadata": {},
   "outputs": [],
   "source": [
    "#Excercise48\n",
    "seiza = ['山羊座','水瓶座','魚座','牡羊座','牡牛座','双子座','蟹座','獅子座','乙女座','天秤座','蠍座','射手座']\n",
    "date = [19,18,20,19,20,21,22,22,22,23,22,21]\n",
    "#month,day = map(int,input('生まれた月日 >>').split(','))\n",
    "month,day = input('生まれた月日 >>').split(',')\n",
    "month,day = int(month),int(day)\n",
    "if date[month-1] >= day:\n",
    "    print(f'{month}月{day}日は{seiza[month-1]}です')\n",
    "else:\n",
    "    print(f'{month}月{day}日は{seiza[month%12]}です')"
   ]
  },
  {
   "cell_type": "code",
   "execution_count": null,
   "metadata": {},
   "outputs": [],
   "source": [
    "#Excercise49\n",
    "score = [[9,1],[8,2],[10],[5,0],[3,6],[4,2],[7,3],[6,3],[10],[9,1,0]]\n",
    "result, next1, next2 = 0,0,0\n",
    "while len(score) > 0:\n",
    "    frame = score.pop(-1)\n",
    "    total = 0\n",
    "    for i in frame: total += i\n",
    "#    total = sum(frame)\n",
    "    if len(frame) == 1:\n",
    "        result += 10+next1+next2\n",
    "        next1, next2 = 10, next1\n",
    "    elif len(frame) == 2 and total == 10:\n",
    "        result += 10 + next1\n",
    "        next1, next2 = frame\n",
    "    else:\n",
    "        result += total\n",
    "        if len(frame) == 3:\n",
    "            next1, next2, next3 = frame\n",
    "        else:\n",
    "            next1, next2 = frame\n",
    "print(f'スコア{result}点')"
   ]
  },
  {
   "cell_type": "code",
   "execution_count": null,
   "metadata": {},
   "outputs": [],
   "source": [
    "#Excercise50\n",
    "mom = input('母親の遺伝子型 >>').upper()\n",
    "dad = input('父親の遺伝子型 >>').upper()\n",
    "child = []\n",
    "for m in mom:\n",
    "    for d in dad:\n",
    "        child.append(f'{m}{d}')\n",
    "blood = []\n",
    "for ch in child:\n",
    "    if ch == 'AA' or ch == 'AO' or ch == 'OA':\n",
    "        blood.append('A型')\n",
    "    elif ch == 'BB' or ch == 'BO' or ch == 'OB':\n",
    "        blood.append('B型')\n",
    "    elif ch == 'OO':\n",
    "        blood.append('O型')\n",
    "    else:\n",
    "        blood.append('AB型')\n",
    "s = 'と'.join(set(blood))\n",
    "print(f'子の血液型は{s}の可能性があります')"
   ]
  },
  {
   "cell_type": "code",
   "execution_count": null,
   "metadata": {},
   "outputs": [],
   "source": [
    "#APPENDIX1\n",
    "weeks = ['Sun','Mon','Tue','Wed','Thu','Fri','Sat']\n",
    "for i in range(len(weeks)):\n",
    "    print(i, weeks[i])\n",
    "for i,d in enumerate(weeks):\n",
    "    print(i,d)"
   ]
  },
  {
   "cell_type": "code",
   "execution_count": null,
   "metadata": {},
   "outputs": [],
   "source": [
    "#APPENDIX2\n",
    "names = ['taro','hanako','jiro','peter','kevin']\n",
    "ids = [1,2,3,4,5]\n",
    "major = ['economics','science and engineering','law','physics','medical science']\n",
    "for i in range(len(names)):\n",
    "    print(names[i], end=' ')\n",
    "    print(ids[i], end=' ')\n",
    "    print(major[i])\n",
    "for x,y,z in zip(names,ids,major):\n",
    "    print(x, end=' ')\n",
    "    print(y, end=' ')\n",
    "    print(z)"
   ]
  }
 ],
 "metadata": {
  "kernelspec": {
   "display_name": "Python 3.10.3 64-bit ('3.10.3')",
   "language": "python",
   "name": "python3"
  },
  "language_info": {
   "codemirror_mode": {
    "name": "ipython",
    "version": 3
   },
   "file_extension": ".py",
   "mimetype": "text/x-python",
   "name": "python",
   "nbconvert_exporter": "python",
   "pygments_lexer": "ipython3",
   "version": "3.10.3"
  },
  "orig_nbformat": 4,
  "vscode": {
   "interpreter": {
    "hash": "ab64589ac9d6bd956e857448da5e411ff91b136249a71239f0da316d67e65b64"
   }
  }
 },
 "nbformat": 4,
 "nbformat_minor": 2
}
