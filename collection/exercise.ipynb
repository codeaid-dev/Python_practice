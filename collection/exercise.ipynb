{
 "cells": [
  {
   "cell_type": "code",
   "execution_count": null,
   "metadata": {},
   "outputs": [],
   "source": [
    "#リスト\n",
    "data = ['one', 'two', 'three', 'four', 'five']\n",
    "print(data[2]) #three\n",
    "data[3] = 4\n",
    "print(data) #['one', 'two', 'three', 4, 'five']\n",
    "data.append('six')\n",
    "print(data) #['one', 'two', 'three', 4, 'five', 'six']\n",
    "del data[3] # or data.remove(4) or data.pop(3)\n",
    "print(data) #['one', 'two', 'three', 'five', 'six']\n"
   ]
  },
  {
   "cell_type": "code",
   "execution_count": null,
   "metadata": {},
   "outputs": [],
   "source": [
    "#タプル\n",
    "data = ('one', 'two', 'three', 'four', 'five')\n",
    "print(data[2]) #three\n",
    "\n",
    "data = ('six')\n",
    "print(type(data)) #<class 'str'>\n",
    "\n",
    "data = ('six',)\n",
    "print(type(data)) #<class 'tuple'>\n"
   ]
  },
  {
   "cell_type": "code",
   "execution_count": null,
   "metadata": {},
   "outputs": [],
   "source": [
    "#リストの並び替え\n",
    "a = [23,5,15,7,2,0,18,30,36,27]\n",
    "a.sort()\n",
    "print(a) #[0,2,5,7,15,18,23,27,30,36]\n",
    "#整数と浮動小数点のソート\n",
    "b = [3,1.7,14,3.14]\n",
    "b.sort()\n",
    "print(b) #[1.7, 3, 3.14, 14]\n",
    "#昇順・降順の指定はreverse引数で行う\n",
    "a = [23,5,15,7,2,0,18,30,36,27]\n",
    "a.sort(reverse=True)\n",
    "print(a) #[36,30,27,23,18,15,7,5,2,0]\n",
    "\n",
    "#整数と文字列のソートはエラーとなる\n",
    "d = [3,0,'1',2]\n",
    "#d.sort() #TypeError:\n",
    "#この場合key引数に型変換する関数を指定可能\n",
    "d.sort(key=int) #[0, '1', 2, 3]\n",
    "#key=strとしても可能\n",
    "#絶対値でソート\n",
    "b = [3,-1.7,-14,3.14]\n",
    "b.sort(key=abs)\n",
    "print(b) #[-1.7, 3, 3.14, -14]\n",
    "#リストがネストしているときのソート\n",
    "e = [['yamada',105],['tanaka',101],['suzuki',103]]\n",
    "e.sort()\n",
    "print(e) #[['suzuki',103],['tanaka',101],['yamada',105]]\n",
    "#ラムダ式を使って要素を指定してソート\n",
    "e.sort(key=lambda x: x[1])\n",
    "print(e) #[['tanaka',101],['suzuki',103],['yamada',105]]\n"
   ]
  },
  {
   "cell_type": "code",
   "execution_count": null,
   "metadata": {},
   "outputs": [],
   "source": [
    "#リスト・タプルを文字列へ変換\n",
    "str_list = ['あ','い','う','え','お']\n",
    "print('-'.join(str_list)) #あ-い-う-え-お\n",
    "\n",
    "str_list = [\"I'd\",'like','to','study','Python.']\n",
    "print(' '.join(str_list)) #I'd like to study Python.\n",
    "\n",
    "str_list = [1,'2','3','4','5']\n",
    "print(','.join(str_list)) #TypeError int型が含まれているのでエラーとなる\n"
   ]
  },
  {
   "cell_type": "code",
   "execution_count": null,
   "metadata": {},
   "outputs": [],
   "source": [
    "#list()、tuple()による生成と変換\n",
    "l = list()\n",
    "t = tuple()\n",
    "print(type(t), type(l)) #<class 'tuple'> <class 'list'>\n",
    "pets_list = ['Dog', 'Cat', 'Bird']\n",
    "print(tuple(pets_list)) #('Dog', 'Cat', 'Bird')\n",
    "pets_tuple = ('Dog', 'Cat', 'Bird')\n",
    "print(list(pets_tuple)) #['Dog', 'Cat', 'Bird']\n"
   ]
  },
  {
   "cell_type": "code",
   "execution_count": null,
   "metadata": {},
   "outputs": [],
   "source": [
    "#リストのコピー\n",
    "a = [1,2,3]\n",
    "b = a\n",
    "b[0] = 5\n",
    "print(a) #[5, 2, 3]\n",
    "a = [1,2,3]\n",
    "b = a.copy()\n",
    "c = list(a)\n",
    "d = a[:]\n",
    "a[0] = 5\n",
    "print(a)#[5,2,3]\n",
    "print(b)#[1,2,3]\n",
    "print(c)#[1,2,3]\n",
    "print(d)#[1,2,3]\n"
   ]
  },
  {
   "cell_type": "code",
   "execution_count": null,
   "metadata": {},
   "outputs": [],
   "source": [
    "#浅いコピー\n",
    "a = [1,2,[8,9]]\n",
    "b = a.copy()\n",
    "c = list(a)\n",
    "d = a[:]\n",
    "a[2][1] = 10\n",
    "print(a) #[1, 2, [8, 10]]\n",
    "print(b) #[1, 2, [8, 10]]\n",
    "print(c) #[1, 2, [8, 10]]\n",
    "print(d) #[1, 2, [8, 10]]\n",
    "\n",
    "import copy\n",
    "a = [1,2,[8,9]]\n",
    "b = copy.deepcopy(a)\n",
    "a[2][1] = 10\n",
    "print(a) #[1, 2, [8, 10]]\n",
    "print(b) #[1, 2, [8, 9]]\n"
   ]
  },
  {
   "cell_type": "code",
   "execution_count": null,
   "metadata": {},
   "outputs": [],
   "source": [
    "#セット(集合)\n",
    "data = {'one', 'two', 'three', 'four', 'five'}\n",
    "data.add('six')\n",
    "print(data) #{'three', 'one', 'five', 'six', 'four', 'two'}\n",
    "data.remove('four')\n",
    "print(data) #{'three', 'one', 'five', 'six', 'two'}\n",
    "data.pop()\n",
    "print(data) #{'one', 'five', 'six', 'two'}\n"
   ]
  },
  {
   "cell_type": "code",
   "execution_count": null,
   "metadata": {},
   "outputs": [],
   "source": [
    "#set()による生成と変換\n",
    "a = set()\n",
    "print(type(a)) # <class 'set'>\n",
    "s = set('letters')\n",
    "print(s) #{'l', 'e', 's', 'r', 't'}\n",
    "print(set(['one','two','three','four'])) #{'three', 'one', 'two', 'four'}\n",
    "print(set((1,2,3,4))) #{1, 2, 3, 4}\n",
    "print(set({'jan':'1月', 'feb':'2月', 'mar':'3月', 'apr':'4月', 'may':'5月'}))\n",
    "# {'apr', 'mar', 'feb', 'jan', 'may'}\n"
   ]
  },
  {
   "cell_type": "code",
   "execution_count": null,
   "metadata": {},
   "outputs": [],
   "source": [
    "#ディクショナリー(辞書)\n",
    "data = {'jan':'1月', 'feb':'2月', 'mar':'3月', 'apr':'4月', 'may':'5月'}\n",
    "print(data['apr']) #4月\n",
    "data['jun'] = '6月'\n",
    "print(data) #{'jan':'1月', 'feb':'2月', 'mar':'3月', 'apr':'4月', 'may':'5月', 'jun':'6月'}\n",
    "data['feb'] = '如月'\n",
    "print(data) #{'jan':'1月', 'feb':'如月', 'mar':'3月', 'apr':'4月', 'may':'5月', 'jun':'6月'}\n"
   ]
  },
  {
   "cell_type": "code",
   "execution_count": null,
   "metadata": {},
   "outputs": [],
   "source": [
    "#dict()による生成と変換\n",
    "a = dict()\n",
    "print(type(a)) #<class 'dict'>\n",
    "b = dict(name='Taro', age=30)\n",
    "print(b) #{'name': 'Taro', 'age': 30}\n",
    "c = dict([('one',1),('two',2),('three',3),('four',4)])\n",
    "print(c) #{'one': 1, 'two': 2, 'three': 3, 'four': 4}\n"
   ]
  },
  {
   "cell_type": "code",
   "execution_count": null,
   "metadata": {},
   "outputs": [],
   "source": [
    "#アンパック代入\n",
    "a, b, c, d = (1, 2, 3, 4)\n",
    "print(a, b, c, d) #1 2 3 4\n",
    "e, f, g, h = ['one', 'two', 'three', 'four']\n",
    "print(e, f, g, h) #one two three four\n",
    "\n",
    "a, b = {'one':1,'two':2}\n",
    "print(a, b) #one two\n",
    "\n",
    "a = 'RIGHT'\n",
    "b = 'LEFT'\n",
    "a, b = b, a\n",
    "print(a, b) #LEFT RIGHT\n",
    "\n",
    "data = 1, 2, 3, 4\n",
    "print(data) #(1, 2, 3, 4)\n",
    "\n",
    "a, b, c = range(3)\n",
    "print(a, b, c) #0 1 2\n"
   ]
  },
  {
   "cell_type": "code",
   "execution_count": null,
   "metadata": {},
   "outputs": [],
   "source": [
    "#アンパック代入の応用(リスト化)\n",
    "a, b, *c = (1, 2, 3, 4)\n",
    "print(a, b, c) #1 2 [3, 4]\n",
    "*a, b, c = (1, 2, 3, 4)\n",
    "print(a, b, c) #[1, 2] 3 4\n",
    "\n",
    "a, b, *c, d, e = (1, 2, 3, 4)\n",
    "print(a, b, c, d, e) #1 2 [] 3 4\n",
    "a, b, c, d, *e = (1, 2, 3, 4)\n",
    "print(a, b, c, d, e) #1 2 3 4 []\n"
   ]
  },
  {
   "cell_type": "code",
   "execution_count": null,
   "metadata": {},
   "outputs": [],
   "source": [
    "#Exercise1\n",
    "team_1 = ['阪神', '巨人', 'ヤクルト']\n",
    "team_2 = ['DeNA', '中日', '広島']\n",
    "team_1 += team_2\n",
    "#team_1.extend(team_2)\n",
    "print(team_1)\n"
   ]
  },
  {
   "cell_type": "code",
   "execution_count": null,
   "metadata": {},
   "outputs": [],
   "source": [
    "#Exercise2\n",
    "flowers = ['さくら', 'きく', 'ゆり', 'ばら', 'うめ']\n",
    "print(' '.join(flowers))"
   ]
  },
  {
   "cell_type": "code",
   "execution_count": null,
   "metadata": {},
   "outputs": [],
   "source": [
    "#Exercise3\n",
    "country = '東京,ニューヨーク,ロンドン,パリ,ローマ'\n",
    "country = country.split(',')\n",
    "country2 = country.copy()\n",
    "#country2 = list(country)\n",
    "#country2 = country[:]\n",
    "country2[1] = 'マドリード'\n",
    "country2[3] = 'ベルリン'\n",
    "print(country)\n",
    "print(country2)"
   ]
  },
  {
   "cell_type": "code",
   "execution_count": null,
   "metadata": {},
   "outputs": [],
   "source": [
    "#Exercise4\n",
    "favorites = {'java':60, 'python':80, 'c++':40, 'javascript':70}\n",
    "print(list(favorites))\n",
    "print(list(favorites.keys()))\n",
    "print(list(favorites.values()))"
   ]
  },
  {
   "cell_type": "code",
   "execution_count": null,
   "metadata": {},
   "outputs": [],
   "source": [
    "#Exercise5\n",
    "number = ['one', 'two', 'four']\n",
    "number.append('five')\n",
    "print(number)\n",
    "number.insert(2, 'three')\n",
    "print(number)"
   ]
  },
  {
   "cell_type": "code",
   "execution_count": null,
   "metadata": {},
   "outputs": [],
   "source": [
    "#Exercise6\n",
    "number = ['one', 'two', 'three', 'four', 'five', 'six', 'seven']\n",
    "print(number[0:3])\n",
    "print(number[2:5])\n",
    "print(number[::2])\n",
    "print(number[::-2])"
   ]
  },
  {
   "cell_type": "code",
   "execution_count": null,
   "metadata": {},
   "outputs": [],
   "source": [
    "#Exercise7\n",
    "material = ['いち', 'にー', 'なな', 'さん', 'よん']\n",
    "material.remove('なな')\n",
    "print(material)\n",
    "del material[-2:]\n",
    "print(material)"
   ]
  },
  {
   "cell_type": "code",
   "execution_count": null,
   "metadata": {},
   "outputs": [],
   "source": [
    "#Exercise8\n",
    "box1 = ['one', 'two', 'three', 'eight']\n",
    "box2 = ['five', 'six', 'seven', 'four']\n",
    "num1 = box1.pop()\n",
    "num2 = box2.pop()\n",
    "box1.append(num2)\n",
    "box2.append(num1)\n",
    "print(box1)\n",
    "print(box2)"
   ]
  },
  {
   "cell_type": "code",
   "execution_count": null,
   "metadata": {},
   "outputs": [],
   "source": [
    "#Exercise9\n",
    "nums = [2,'1',4.0,0,3.14]\n",
    "nums.sort(key=int)\n",
    "print(nums)\n",
    "nums.sort(key=int,reverse=True)\n",
    "print(nums)"
   ]
  },
  {
   "cell_type": "code",
   "execution_count": null,
   "metadata": {},
   "outputs": [],
   "source": [
    "#Exercise10\n",
    "fruits = [\n",
    "    ['Banana', 'Peach'],\n",
    "    ['Orange', 'Grape'],\n",
    "    ['Apple', 'Cherry']\n",
    "]\n",
    "print(fruits[0][0]+','+fruits[2][1])"
   ]
  },
  {
   "cell_type": "code",
   "execution_count": null,
   "metadata": {},
   "outputs": [],
   "source": [
    "#Exercise11\n",
    "l = ['Tea','Coffee','Tapioca drink','Matcha','Coffee','Yogurt']\n",
    "cnt = l.count('Coffee')\n",
    "print(f'{cnt} cups of Coffee')"
   ]
  },
  {
   "cell_type": "code",
   "execution_count": null,
   "metadata": {},
   "outputs": [],
   "source": [
    "#Exercise12\n",
    "listOne = [3, 6, 9, 12, 15, 18, 21]\n",
    "listTwo = [4, 8, 12, 16, 20, 24, 28]\n",
    "listThree = list()\n",
    "\n",
    "odd = listOne[1::2]\n",
    "print(odd)\n",
    "even = listTwo[0::2]\n",
    "print(even)\n",
    "listThree.extend(odd)\n",
    "listThree.extend(even)\n",
    "print(listThree)\n",
    "\n",
    "listFour = []\n",
    "listFour += odd + even\n",
    "print(listFour)"
   ]
  },
  {
   "cell_type": "code",
   "execution_count": null,
   "metadata": {},
   "outputs": [],
   "source": [
    "#Exercise13\n",
    "nums = [34, 54, 67, 89, 11, 43, 94]\n",
    "element = nums.pop(4)\n",
    "print('INDEX 4を削除：', nums)\n",
    "nums.insert(2, element)\n",
    "print('INDEX 2に挿入：', nums)\n",
    "nums.append(element)\n",
    "print('最後に追加：', nums)"
   ]
  },
  {
   "cell_type": "code",
   "execution_count": null,
   "metadata": {},
   "outputs": [],
   "source": [
    "#Exercise14\n",
    "nums = [10, 20, [300, 400, [5000, 6000], 500], 30, 40]\n",
    "nums[2][2].append(7000)\n",
    "print(nums)"
   ]
  },
  {
   "cell_type": "code",
   "execution_count": null,
   "metadata": {},
   "outputs": [],
   "source": [
    "#Exercise15\n",
    "nums = [10, 20, [300, 400, [5000, 6000], 500], 30, 40]\n",
    "del nums[2][2][0]\n",
    "print(nums)"
   ]
  },
  {
   "cell_type": "code",
   "execution_count": null,
   "metadata": {},
   "outputs": [],
   "source": [
    "#Exercise16\n",
    "nums = [10, 20, [10, 20, [10, 20], 30], 30, 40]\n",
    "nums[2].remove(20)\n",
    "print(nums)"
   ]
  },
  {
   "cell_type": "code",
   "execution_count": null,
   "metadata": {},
   "outputs": [],
   "source": [
    "#Exercise17\n",
    "alph = ['a', 'b', ['c', ['d', 'e', ['f', 'g'], 'k'], 'l'], 'm', 'n']\n",
    "sub = ['h', 'i', 'j']\n",
    "alph[2][1][2].extend(sub)\n",
    "print(alph)"
   ]
  },
  {
   "cell_type": "code",
   "execution_count": null,
   "metadata": {},
   "outputs": [],
   "source": [
    "#Exercise18\n",
    "nums = input('入力 >>').split(',')\n",
    "nums.sort(key=int)\n",
    "print(nums[0],nums[-1])"
   ]
  },
  {
   "cell_type": "code",
   "execution_count": null,
   "metadata": {},
   "outputs": [],
   "source": [
    "#Exercise19\n",
    "l = input('入力 >>').split(',')\n",
    "index = l.index('86')\n",
    "l[index] = 'Hello'\n",
    "print(l)"
   ]
  },
  {
   "cell_type": "code",
   "execution_count": null,
   "metadata": {},
   "outputs": [],
   "source": [
    "#Exercise20\n",
    "tup = (\"Orange\", [10, 20, 30], (5, 15, 25))\n",
    "print(tup[1][1])"
   ]
  },
  {
   "cell_type": "code",
   "execution_count": null,
   "metadata": {},
   "outputs": [],
   "source": [
    "#Exercise21\n",
    "tup = (10, 20, 30, 40)\n",
    "a,b,c,d = tup\n",
    "print(a)\n",
    "print(b)\n",
    "print(c)\n",
    "print(d)"
   ]
  },
  {
   "cell_type": "code",
   "execution_count": null,
   "metadata": {},
   "outputs": [],
   "source": [
    "#Exercise22\n",
    "tup1 = (11, 22)\n",
    "tup2 = (99, 88)\n",
    "tup1, tup2 = tup2, tup1\n",
    "print(tup1)\n",
    "print(tup2)"
   ]
  },
  {
   "cell_type": "code",
   "execution_count": null,
   "metadata": {},
   "outputs": [],
   "source": [
    "#Exercise23\n",
    "tup = (11, [22, 33], 44, 55)\n",
    "tup[1][0] = 222\n",
    "print(tup)"
   ]
  },
  {
   "cell_type": "code",
   "execution_count": null,
   "metadata": {},
   "outputs": [],
   "source": [
    "#Exercise24\n",
    "id = [26, 41, 28]\n",
    "member = dict()\n",
    "member['Takashi'] = {'ID':id[0]}\n",
    "member['Tetsuo'] = {'ID':id[1]}\n",
    "member['Akira'] = {'ID':id[2]}\n",
    "print(member['Tetsuo']['ID'])"
   ]
  },
  {
   "cell_type": "code",
   "execution_count": null,
   "metadata": {},
   "outputs": [],
   "source": [
    "#Exercise25\n",
    "l = [('red','#FF0000'),('green','#00FF00'),('blue','#0000FF')]\n",
    "print(dict(l))"
   ]
  },
  {
   "cell_type": "code",
   "execution_count": null,
   "metadata": {},
   "outputs": [],
   "source": [
    "#Exercise26\n",
    "weeks = ['水曜日', '木曜日', '金曜日', '土曜日', '日曜日', '月曜日', '火曜日']\n",
    "D = int(input('7月何日？'))\n",
    "print(weeks[D%7])"
   ]
  },
  {
   "cell_type": "code",
   "execution_count": null,
   "metadata": {},
   "outputs": [],
   "source": [
    "#Exercise27\n",
    "w1 = {'g', 'a', 'c', 'e', 'j'}\n",
    "w2 = {'a', 'e', 'z', 'x', 'g'}\n",
    "print(w1 | w2)\n",
    "print(w1.union(w2))\n",
    "print(w1 & w2)\n",
    "print(w1.intersection(w2))\n",
    "print(w1 - w2)\n",
    "print(w1.difference(w2))\n",
    "print(w1 ^ w2)\n",
    "print(w1.symmetric_difference(w2))"
   ]
  },
  {
   "cell_type": "code",
   "execution_count": null,
   "metadata": {},
   "outputs": [],
   "source": [
    "#Exercise28\n",
    "w1, w2 = input('入力 >>').split(',')\n",
    "w3 = set(w1) & set(w2)\n",
    "print(''.join(w3))"
   ]
  },
  {
   "cell_type": "code",
   "execution_count": null,
   "metadata": {},
   "outputs": [],
   "source": [
    "#Exercise29\n",
    "l1 = [1, 3, 5, 7, 9]\n",
    "l2 = [1, 2, 4, 6, 7, 8]\n",
    "l3 = list(set(l1)^set(l2))\n",
    "print(l3)\n",
    "#diff1 = list(set(l1)-set(l2))\n",
    "#diff2 = list(set(l2)-set(l1))\n",
    "#diff3 = diff1+diff2\n",
    "#print(diff3)"
   ]
  },
  {
   "cell_type": "code",
   "execution_count": null,
   "metadata": {},
   "outputs": [],
   "source": [
    "#Exercise30\n",
    "A = ['秋田県','山形県','山口県','宮崎県','高知県']\n",
    "B = ['山口県','高知県','長崎県','北海道','石川県']\n",
    "pref1 = set(A)\n",
    "pref2 = set(B)\n",
    "print(f'2人とも行ったことのある場所：{list(pref1 & pref2)}')\n",
    "print(f'1人しか行ったことのない場所：{list(pref1 ^ pref2)}')"
   ]
  },
  {
   "cell_type": "code",
   "execution_count": null,
   "metadata": {},
   "outputs": [],
   "source": [
    "#Exercise31\n",
    "l1 = ['apple', 'orange', 'mango', 'peach']\n",
    "l2 = ['orange', 'mango']\n",
    "l3 = ['mango', 'orange']\n",
    "s1 = set(l1)\n",
    "s2 = set(l2)\n",
    "s3 = set(l3)\n",
    "print(s1 >= s2)\n",
    "print(s1.issuperset(s2))\n",
    "print(s2 <= s1)\n",
    "print(s2.issubset(s1))\n",
    "#print(l2 == l3)\n",
    "print(s2 == s3)"
   ]
  },
  {
   "cell_type": "code",
   "execution_count": null,
   "metadata": {},
   "outputs": [],
   "source": [
    "#Exercise32\n",
    "nums = [87, 52, 53, 87, 52]\n",
    "nums = list(set(nums))\n",
    "print('重複を除いたリスト', nums)\n",
    "\n",
    "tup = tuple(nums)\n",
    "print('タプル：', tup)\n",
    "a, b, c = tup\n",
    "print(a,b,c)"
   ]
  },
  {
   "cell_type": "code",
   "execution_count": null,
   "metadata": {},
   "outputs": [],
   "source": [
    "#Exercise33\n",
    "s = {'Yellow', 'Orange', 'Black'}\n",
    "l = ['Blue', 'Green', 'Red']\n",
    "s.update(l)\n",
    "print(s)"
   ]
  },
  {
   "cell_type": "code",
   "execution_count": null,
   "metadata": {},
   "outputs": [],
   "source": [
    "#Exercise34\n",
    "words = list(input('入力 >>'))\n",
    "num = len(set(words))\n",
    "print(f'種類数：{num}')"
   ]
  },
  {
   "cell_type": "code",
   "execution_count": null,
   "metadata": {},
   "outputs": [],
   "source": [
    "#Exercise35\n",
    "words = input('入力 >>')\n",
    "s1 = words[:int(len(words)/2)]\n",
    "s2 = words[int(len(words)/2):]\n",
    "print({'front':s1, 'behind':s2})"
   ]
  },
  {
   "cell_type": "code",
   "execution_count": null,
   "metadata": {},
   "outputs": [],
   "source": [
    "#Exercise36\n",
    "days = ['mon', 'tue', 'wed', 'thu', 'fri']\n",
    "temp = [36.2, 36.5, 36.1, 36.8, 36.3]\n",
    "print(dict(zip(days, temp)))"
   ]
  },
  {
   "cell_type": "code",
   "execution_count": null,
   "metadata": {},
   "outputs": [],
   "source": [
    "#Exercise37\n",
    "dic = { \n",
    "   'class':{ \n",
    "      'student':{ \n",
    "         'name':'Yamada',\n",
    "         'marks':{ \n",
    "            'physics':70,\n",
    "            'history':80\n",
    "         }\n",
    "      }\n",
    "   }\n",
    "}\n",
    "print(dic['class']['student']['marks']['history'])"
   ]
  },
  {
   "cell_type": "code",
   "execution_count": null,
   "metadata": {},
   "outputs": [],
   "source": [
    "#Exercise38\n",
    "dic = {\n",
    "    'name': 'Yamada',\n",
    "    'age':25,\n",
    "    'salary': 150000,\n",
    "    'city': 'Tokyo'\n",
    "}\n",
    "\n",
    "dic['location'] = dic.pop('city')\n",
    "print(dic)"
   ]
  },
  {
   "cell_type": "code",
   "execution_count": null,
   "metadata": {},
   "outputs": [],
   "source": [
    "#Exercise39\n",
    "dic = {\n",
    "     'emp1': {'name': 'Yamada', 'salary': 200000},\n",
    "     'emp2': {'name': 'Tanaka', 'salary': 100000},\n",
    "     'emp3': {'name': 'Sato', 'salary': 120000}\n",
    "}\n",
    "dic['emp2']['salary'] = 150000\n",
    "print(dic)"
   ]
  },
  {
   "cell_type": "code",
   "execution_count": null,
   "metadata": {},
   "outputs": [],
   "source": [
    "#Exercise40\n",
    "info = {\n",
    "    '山田':{'朝食':'食パンとコーヒー', '昼食':'ハンバーガー', '夕食':'ステーキ'},\n",
    "    '高橋':{'朝食':'ごはんと味噌汁', '昼食':'焼き魚定食', '夕食':'おでん'},\n",
    "    '佐藤':{'朝食':'シリアル', '昼食':'パスタ', '夕食':'アクアパッツァ'}\n",
    "}\n",
    "name = input('名前は？')\n",
    "meal = input('どの食事？')\n",
    "print(f'{name}さんの{meal}は{info[name][meal]}です')"
   ]
  },
  {
   "cell_type": "code",
   "execution_count": null,
   "metadata": {},
   "outputs": [],
   "source": [
    "#Exercise41\n",
    "info1 = {\n",
    "    '山田':{'朝食':'食パンとコーヒー', '昼食':'ハンバーガー', '夕食':'ステーキ'},\n",
    "    '高橋':{'朝食':'ごはんと味噌汁', '昼食':'焼き魚定食', '夕食':'おでん'},\n",
    "    '佐藤':{'朝食':'シリアル', '昼食':'パスタ', '夕食':'アクアパッツァ'}\n",
    "}\n",
    "info2 = {\n",
    "    '山田':{'朝食':'ベーコンエッグ', '昼食':'ホットドッグ', '夕食':'ビーフカレー'},\n",
    "    '高橋':{'朝食':'ごはんと漬物', '昼食':'丼物', '夕食':'お好み焼き'},\n",
    "    '佐藤':{'朝食':'サラダ', '昼食':'ピザ', '夕食':'リゾット'}\n",
    "}\n",
    "info = {1:info1, 2:info2}\n",
    "name = input('名前は？')\n",
    "meal = input('どの食事？')\n",
    "day = int(input('何日目？'))\n",
    "print(f'{name}さんの{day}日目の{meal}は{info[day][name][meal]}です')"
   ]
  },
  {
   "cell_type": "code",
   "execution_count": null,
   "metadata": {},
   "outputs": [],
   "source": [
    "#Exercise42\n",
    "menu = {'coffee':250, 'tea':230, 'milk':150}\n",
    "print(230 in menu.values())"
   ]
  },
  {
   "cell_type": "code",
   "execution_count": null,
   "metadata": {},
   "outputs": [],
   "source": [
    "#Exercise43\n",
    "menu1 = {'coffee':250, 'sandwich':380, 'salad':180}\n",
    "menu2 = {'cake':300, 'parfait':400}\n",
    "menu = menu1.copy()\n",
    "menu.update(menu2)\n",
    "#menu = {**menu1, **menu2}\n",
    "#menu = menu1 | menu2 #3.9\n",
    "print(menu)\n",
    "print('合計：'+str(sum(menu.values())))"
   ]
  },
  {
   "cell_type": "code",
   "execution_count": null,
   "metadata": {},
   "outputs": [],
   "source": [
    "#Exercise44\n",
    "samp = {'hoge':250, 'foo':300, 'bar':120}\n",
    "print(samp)\n",
    "key = input('追加key >>')\n",
    "val = int(input('追加value >>'))\n",
    "samp[key] = val\n",
    "print(samp)\n",
    "rm = input('削除key >>')\n",
    "del samp[rm]\n",
    "print(samp)"
   ]
  },
  {
   "cell_type": "code",
   "execution_count": null,
   "metadata": {},
   "outputs": [],
   "source": [
    "#Exercise45\n",
    "moji = list(input('文字列入力 >>'))\n",
    "print('置換前：'+''.join(moji))\n",
    "param = input('置換値入力 >>').split(',')\n",
    "s, d = int(param[0]), int(param[1])\n",
    "moji[s], moji[d] = moji[d], moji[s]\n",
    "print('置換後：'+''.join(moji))"
   ]
  },
  {
   "cell_type": "code",
   "execution_count": null,
   "metadata": {},
   "outputs": [],
   "source": [
    "#Exercise46\n",
    "score = list(input('スコア >>').split(','))\n",
    "foo_total = int(score[0])*2+int(score[1])*3\n",
    "hoge_total = int(score[2])*2+int(score[3])*3\n",
    "\n",
    "print(f'結果：Fooチーム:{foo_total} vs Hogeチーム:{hoge_total}')"
   ]
  },
  {
   "cell_type": "code",
   "execution_count": null,
   "metadata": {},
   "outputs": [],
   "source": [
    "#Exercise47\n",
    "data1 = list(input('入力1 >>').split(','))\n",
    "data2 = list(input('入力2 >>').split(','))\n",
    "dic = []\n",
    "dic.append(data1)\n",
    "dic.append(data2)\n",
    "print(dict(dic))"
   ]
  },
  {
   "cell_type": "code",
   "execution_count": null,
   "metadata": {},
   "outputs": [],
   "source": [
    "#Exercise48\n",
    "data1 = {'white': 2, 'red': 3, 'blue': 1, 'yellow': 0}\n",
    "data2 = ['#FFFF00','#0000FF','#FFFFFF','#FF0000']\n",
    "key = input('入力 >>')\n",
    "print(f'{key}は、{data2[data1[key]]}です')"
   ]
  },
  {
   "cell_type": "code",
   "execution_count": null,
   "metadata": {},
   "outputs": [],
   "source": [
    "#Exercise49\n",
    "d1 = {'a':1, 'b':2, 'c':3}\n",
    "d2 = {'a':1, 'c':3}\n",
    "#print(set(d1.items()))\n",
    "#print(set(d2.items()))\n",
    "print(set(d1.items()) >= set(d2.items()))\n",
    "print(set(d1.items()).issuperset(set(d2.items())))"
   ]
  },
  {
   "cell_type": "code",
   "execution_count": null,
   "metadata": {},
   "outputs": [],
   "source": [
    "#Exercise50\n",
    "d = {'apple': 10, 'grape': 20, 'orange': 30}\n",
    "d['apple'] = d.get('apple', -1)\n",
    "d['mango'] = d.get('mango', 40)\n",
    "print(d)"
   ]
  },
  {
   "cell_type": "code",
   "execution_count": null,
   "metadata": {},
   "outputs": [],
   "source": [
    "#Exercise51\n",
    "colors = {\n",
    "    (255,0,0): 'red',\n",
    "    (0,128,0): 'green',\n",
    "    (0,0,255): 'blue',\n",
    "    (255,255,0): 'yellow',\n",
    "}\n",
    "print(colors[0,128,0])\n",
    "colors[0,255,255] = 'cyan'\n",
    "print(colors)"
   ]
  },
  {
   "cell_type": "code",
   "execution_count": null,
   "metadata": {},
   "outputs": [],
   "source": [
    "#Exercise52\n",
    "member = {\n",
    "    \"A_class\":[\n",
    "        {\"id\":\"21001\",\"name\":\"鶴\",\"temp\":[36.2,36.3,36.2,36.4,36.7]},\n",
    "        {\"id\":\"21002\",\"name\":\"亀\",\"temp\":[35.8,36.4,35.9,36.0,36.2]}\n",
    "    ],\n",
    "    \"B_class\":[\n",
    "        {\"id\":\"21101\",\"name\":\"松\",\"temp\":[36.0,36.1,36.4,36.3,36.6]},\n",
    "        {\"id\":\"21102\",\"name\":\"竹\",\"temp\":[36.2,36.3,36.8,36.5,36.3]}\n",
    "    ]\n",
    "}\n",
    "print(member[\"A_class\"][1][\"temp\"][1])\n",
    "member[\"B_class\"][1][\"temp\"][2] = 36.0\n",
    "print(member[\"B_class\"][1][\"temp\"])"
   ]
  },
  {
   "cell_type": "code",
   "execution_count": null,
   "metadata": {},
   "outputs": [],
   "source": [
    "#Exercise53\n",
    "p = {}\n",
    "p[\"id\"] = \"21103\"\n",
    "p[\"name\"] = \"梅\"\n",
    "p[\"temp\"] = [35.8,35.7,35.8,36.1,35.9]\n",
    "member[\"B_class\"].append(p)\n",
    "#print(member[c][2])\n",
    "print(member)"
   ]
  },
  {
   "cell_type": "code",
   "execution_count": null,
   "metadata": {},
   "outputs": [],
   "source": [
    "#Exercise54\n",
    "d1 = {'iPhone13': 6.1, 'iPhone13Pro': 6.1, 'iPhone13ProMax': 6.7, 'iPhoneSE': 4.7}\n",
    "d2 = {'iPhone12': 6.1, 'iPhone13': 6.1, 'iPhone12mini': 5.4}\n",
    "d3 = dict(set(d1.items()) & set(d2.items()))\n",
    "d4 =dict(set(d1.items()) | set(d2.items()))\n",
    "d5 = d1 | d2 #Python3.9\n",
    "print(d3)\n",
    "print(d4)\n",
    "print(d5)"
   ]
  },
  {
   "cell_type": "code",
   "execution_count": null,
   "metadata": {},
   "outputs": [],
   "source": [
    "#Exercise55\n",
    "print(list(range(10))) #0以上10未満\n",
    "print(list(range(1,11))) #1以上11未満\n",
    "print(list(range(0,30,5))) #0以上30未満、5ずつ\n",
    "print(list(range(0,10,3))) #0以上10未満、3ずつ\n",
    "print(list(range(0,-10,-1))) #0以下-10より上、-1ずつ\n",
    "print(list(range(10,-1,-1))) #10以下-1より上、-1ずつ"
   ]
  }
 ],
 "metadata": {
  "kernelspec": {
   "display_name": "Python 3",
   "language": "python",
   "name": "python3"
  },
  "language_info": {
   "codemirror_mode": {
    "name": "ipython",
    "version": 3
   },
   "file_extension": ".py",
   "mimetype": "text/x-python",
   "name": "python",
   "nbconvert_exporter": "python",
   "pygments_lexer": "ipython3",
   "version": "3.13.2"
  },
  "orig_nbformat": 2
 },
 "nbformat": 4,
 "nbformat_minor": 2
}
