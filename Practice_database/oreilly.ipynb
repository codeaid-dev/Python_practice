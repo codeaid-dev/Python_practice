{
 "cells": [
  {
   "cell_type": "code",
   "execution_count": null,
   "metadata": {},
   "outputs": [],
   "source": [
    "import sqlite3\n",
    "conn = sqlite3.connect('enterprise.db')\n",
    "curs = conn.cursor()\n",
    "curs.execute('''CREATE TABLE zoo (critter VARCHAR(20) PRIMARY KEY, count INT, damages FLOAT)''')\n"
   ]
  },
  {
   "cell_type": "code",
   "execution_count": null,
   "metadata": {},
   "outputs": [],
   "source": [
    "curs.execute('INSERT INTO zoo VALUES(\"duck\",5,0.0)')\n",
    "curs.execute('INSERT INTO zoo VALUES(\"dear\",2,1000.0)')"
   ]
  },
  {
   "cell_type": "code",
   "execution_count": null,
   "metadata": {},
   "outputs": [],
   "source": [
    "ins = 'INSERT INTO zoo (critter, count, damages) VALUES(?, ?, ?)'\n",
    "curs.execute(ins, ('weasel', 1, 2000.0))"
   ]
  },
  {
   "cell_type": "code",
   "execution_count": null,
   "metadata": {},
   "outputs": [],
   "source": [
    "curs.execute('SELECT * FROM zoo')\n",
    "rows = curs.fetchall()\n",
    "print(rows)"
   ]
  },
  {
   "cell_type": "code",
   "execution_count": null,
   "metadata": {},
   "outputs": [],
   "source": [
    "curs.execute('SELECT * FROM zoo ORDER BY count')\n",
    "rows = curs.fetchall()\n",
    "print(rows)"
   ]
  },
  {
   "cell_type": "code",
   "execution_count": null,
   "metadata": {},
   "outputs": [],
   "source": [
    "curs.execute('SELECT * FROM zoo ORDER BY count DESC')\n",
    "rows = curs.fetchall()\n",
    "print(rows)"
   ]
  },
  {
   "cell_type": "code",
   "execution_count": null,
   "metadata": {},
   "outputs": [],
   "source": [
    "curs.execute('''SELECT * FROM zoo WHERE\n",
    "damages = (SELECT MAX(damages) FROM zoo)''')\n",
    "rows = curs.fetchall()\n",
    "print(rows)"
   ]
  },
  {
   "cell_type": "code",
   "execution_count": 1,
   "metadata": {},
   "outputs": [
    {
     "name": "stdout",
     "output_type": "stream",
     "text": [
      "<sqlalchemy.engine.cursor.LegacyCursorResult object at 0x1073535b0>\n",
      "('duck', 10, 0.0)\n",
      "('bear', 2, 1000.0)\n",
      "('weasel', 1, 2000.0)\n"
     ]
    }
   ],
   "source": [
    "import sqlalchemy as sa\n",
    "conn = sa.create_engine('sqlite://')\n",
    "conn.execute(\"\"\"\n",
    "CREATE TABLE zoo\n",
    "(critter VARCHAR(20) PRIMARY KEY,\n",
    "count INT,\n",
    "damages FLOAT)\"\"\")\n",
    "ins = 'INSERT INTO zoo (critter, count, damages) VALUES (?,?,?)'\n",
    "conn.execute(ins, 'duck', 10, 0.0)\n",
    "conn.execute(ins, 'bear', 2, 1000.0)\n",
    "conn.execute(ins, 'weasel', 1, 2000.0)\n",
    "\n",
    "rows = conn.execute('SELECT * FROM zoo')\n",
    "print(rows)\n",
    "\n",
    "for row in rows:\n",
    "    print(row)\n"
   ]
  },
  {
   "cell_type": "code",
   "execution_count": 2,
   "metadata": {},
   "outputs": [
    {
     "name": "stdout",
     "output_type": "stream",
     "text": [
      "[('bear', 2, 1000.0), ('weasel', 1, 2000.0), ('duck', 10, 0.0)]\n"
     ]
    }
   ],
   "source": [
    "import sqlalchemy as sa\n",
    "conn = sa.create_engine('sqlite://')\n",
    "meta = sa.MetaData()\n",
    "zoo = sa.Table('zoo', meta,\n",
    "    sa.Column('critter', sa.String, primary_key=True),\n",
    "    sa.Column('count', sa.Integer),\n",
    "    sa.Column('damages', sa.Float)\n",
    ")\n",
    "meta.create_all(conn)\n",
    "\n",
    "conn.execute(zoo.insert(('bear', 2, 1000.0)))\n",
    "conn.execute(zoo.insert(('weasel', 1, 2000.0)))\n",
    "conn.execute(zoo.insert(('duck', 10, 0)))\n",
    "\n",
    "result = conn.execute(zoo.select())\n",
    "rows = result.fetchall()\n",
    "print(rows)"
   ]
  },
  {
   "cell_type": "code",
   "execution_count": null,
   "metadata": {},
   "outputs": [],
   "source": [
    "import sqlalchemy as sa\n",
    "from sqlalchemy.ext.declarative import declarative_base\n",
    "from sqlalchemy.orm import sessionmaker\n",
    "\n",
    "conn = sa.create_engine('sqlite:///zoo.db')\n",
    "Base = declarative_base()\n",
    "class Zoo(Base):\n",
    "    __tablename__ = 'zoo'\n",
    "    critter = sa.Column('critter', sa.String, primary_key=True)\n",
    "    count = sa.Column('count', sa.Integer)\n",
    "    damages = sa.Column('damages', sa.Float)\n",
    "    def __init__(self, critter, count, damages):\n",
    "        self.critter = critter\n",
    "        self.count = count\n",
    "        self.damages = damages\n",
    "    def __repr__(self):\n",
    "        return \"Zoo({}, {}, {})>\".format(self.critter, self.count, self.damages)\n",
    "\n",
    "Base.metadata.create_all(conn)\n",
    "first = Zoo('duck', 10, 0.0)\n",
    "second = Zoo('bear', 2, 1000.0)\n",
    "third = Zoo('weasel', 1, 2000.0)\n",
    "\n",
    "Session = sessionmaker(bind=conn)\n",
    "session = Session()\n",
    "\n",
    "session.add(first)\n",
    "session.add_all([second, third])\n",
    "session.commit()"
   ]
  }
 ],
 "metadata": {
  "interpreter": {
   "hash": "ab64589ac9d6bd956e857448da5e411ff91b136249a71239f0da316d67e65b64"
  },
  "kernelspec": {
   "display_name": "Python 3.10.3 64-bit ('3.10.3')",
   "language": "python",
   "name": "python3"
  },
  "language_info": {
   "codemirror_mode": {
    "name": "ipython",
    "version": 3
   },
   "file_extension": ".py",
   "mimetype": "text/x-python",
   "name": "python",
   "nbconvert_exporter": "python",
   "pygments_lexer": "ipython3",
   "version": "3.10.3"
  }
 },
 "nbformat": 4,
 "nbformat_minor": 4
}
