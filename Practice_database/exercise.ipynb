{
 "cells": [
  {
   "cell_type": "code",
   "execution_count": null,
   "metadata": {},
   "outputs": [],
   "source": [
    "import sqlite3\n",
    "\n",
    "try:\n",
    "    conn = sqlite3.connect('sample.db')\n",
    "    cur = conn.cursor()\n",
    "except sqlite3.Error as e:\n",
    "    print(e)\n",
    "finally:\n",
    "    if conn:\n",
    "        conn.close()"
   ]
  },
  {
   "cell_type": "code",
   "execution_count": 33,
   "metadata": {},
   "outputs": [],
   "source": [
    "import sqlite3\n",
    "from contextlib import closing\n",
    "\n",
    "try:\n",
    "    with closing(sqlite3.connect('sample.db')) as conn:\n",
    "        cur = conn.cursor()\n",
    "except sqlite3.Error as e:\n",
    "    print(e)"
   ]
  },
  {
   "cell_type": "code",
   "execution_count": null,
   "metadata": {},
   "outputs": [],
   "source": [
    "import sqlite3\n",
    "\n",
    "try:\n",
    "    conn = sqlite3.connect('sample.db')\n",
    "    cur = conn.cursor()\n",
    "    cur.execute('''\n",
    "                CREATE TABLE users (\n",
    "                    id INTEGER PRIMARY KEY AUTOINCREMENT,\n",
    "                    name TEXT NOT NULL,\n",
    "                    mail TEXT NOT NULL,\n",
    "                    created DATETIME DEFAULT(datetime(CURRENT_TIMESTAMP,'localtime'))\n",
    "                    )''')\n",
    "except sqlite3.Error as e:\n",
    "    print(e)\n",
    "finally:\n",
    "    if conn:\n",
    "        conn.close()"
   ]
  },
  {
   "cell_type": "code",
   "execution_count": 1,
   "metadata": {},
   "outputs": [],
   "source": [
    "import sqlite3\n",
    "from contextlib import closing\n",
    "\n",
    "try:\n",
    "    with closing(sqlite3.connect('sample.db')) as conn:\n",
    "        cur = conn.cursor()\n",
    "        cur.execute('''\n",
    "                    CREATE TABLE users (\n",
    "                        id INTEGER PRIMARY KEY AUTOINCREMENT,\n",
    "                        name TEXT NOT NULL,\n",
    "                        mail TEXT NOT NULL,\n",
    "                        created DATETIME DEFAULT(datetime(CURRENT_TIMESTAMP,'localtime'))\n",
    "                        )''')\n",
    "except sqlite3.Error as e:\n",
    "    print(e)\n"
   ]
  },
  {
   "cell_type": "code",
   "execution_count": 3,
   "metadata": {},
   "outputs": [],
   "source": [
    "import sqlite3\n",
    "from contextlib import closing\n",
    "try:\n",
    "    with closing(sqlite3.connect('sample.db')) as conn:\n",
    "        cur = conn.cursor()\n",
    "        cur.execute('INSERT INTO users (id,name,mail) VALUES (1, \"foo\", \"foo@sample.com\")')\n",
    "        conn.commit()\n",
    "except sqlite3.Error as e:\n",
    "    print(e)"
   ]
  },
  {
   "cell_type": "code",
   "execution_count": 5,
   "metadata": {},
   "outputs": [],
   "source": [
    "import sqlite3\n",
    "from contextlib import closing\n",
    "try:\n",
    "    with closing(sqlite3.connect('sample.db')) as conn:\n",
    "        cur = conn.cursor()\n",
    "        cur.execute('INSERT INTO users (id,name,mail) VALUES (:id, :name, :mail)',\n",
    "                    {\n",
    "                        'id':2,\n",
    "                        'name':\"hoge\",\n",
    "                        'mail':\"hoge@sample.com\"\n",
    "                    })\n",
    "        conn.commit()\n",
    "except sqlite3.Error as e:\n",
    "    print(e)"
   ]
  },
  {
   "cell_type": "code",
   "execution_count": 28,
   "metadata": {},
   "outputs": [],
   "source": [
    "import sqlite3\n",
    "from contextlib import closing\n",
    "try:\n",
    "    with closing(sqlite3.connect('sample.db')) as conn:\n",
    "        cur = conn.cursor()\n",
    "        cur.execute('INSERT INTO users (name,mail) VALUES (:name, :mail)',\n",
    "                    {\n",
    "                        'name':\"bar\",\n",
    "                        'mail':\"bar@sample.com\"\n",
    "                    })\n",
    "\n",
    "        conn.commit()\n",
    "except sqlite3.Error as e:\n",
    "    print(e)"
   ]
  },
  {
   "cell_type": "code",
   "execution_count": 4,
   "metadata": {},
   "outputs": [
    {
     "name": "stdout",
     "output_type": "stream",
     "text": [
      "[(1, 'foo', 'foo@sample.com', '2023-02-21 21:06:55')]\n"
     ]
    }
   ],
   "source": [
    "import sqlite3\n",
    "conn = sqlite3.connect('sample.db')\n",
    "cur = conn.cursor()\n",
    "cur.execute('SELECT * FROM users')\n",
    "result = cur.fetchall()\n",
    "print(result)\n",
    "conn.close()"
   ]
  },
  {
   "cell_type": "code",
   "execution_count": 30,
   "metadata": {},
   "outputs": [
    {
     "name": "stdout",
     "output_type": "stream",
     "text": [
      "[(3, 'bar', 'bar@sample.com', '2023-02-20 16:43:35')]\n"
     ]
    }
   ],
   "source": [
    "import sqlite3\n",
    "conn = sqlite3.connect('sample.db')\n",
    "cur = conn.cursor()\n",
    "cur.execute('SELECT * FROM users WHERE name=?', (\"bar\",))\n",
    "result = cur.fetchall()\n",
    "print(result)\n",
    "conn.close()"
   ]
  },
  {
   "cell_type": "code",
   "execution_count": 23,
   "metadata": {},
   "outputs": [],
   "source": [
    "import sqlite3\n",
    "conn = sqlite3.connect('sample.db')\n",
    "cur = conn.cursor()\n",
    "cur.execute('DROP TABLE users')\n",
    "conn.close()"
   ]
  }
 ],
 "metadata": {
  "interpreter": {
   "hash": "ab64589ac9d6bd956e857448da5e411ff91b136249a71239f0da316d67e65b64"
  },
  "kernelspec": {
   "display_name": "Python 3.10.3 64-bit ('3.10.3')",
   "language": "python",
   "name": "python3"
  },
  "language_info": {
   "codemirror_mode": {
    "name": "ipython",
    "version": 3
   },
   "file_extension": ".py",
   "mimetype": "text/x-python",
   "name": "python",
   "nbconvert_exporter": "python",
   "pygments_lexer": "ipython3",
   "version": "3.10.3"
  },
  "orig_nbformat": 4
 },
 "nbformat": 4,
 "nbformat_minor": 2
}
