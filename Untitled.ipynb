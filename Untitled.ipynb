{
 "cells": [
  {
   "cell_type": "code",
   "execution_count": 31,
   "metadata": {},
   "outputs": [
    {
     "name": "stdout",
     "output_type": "stream",
     "text": [
      "lhvhyojanrudf\n"
     ]
    }
   ],
   "source": [
    "import random\n",
    "import string\n",
    "def randomword3(length):\n",
    "    s = \"\"\n",
    "    #random.seed(1)\n",
    "    while len(s) < length:\n",
    "        r = random.randint(0, len(string.ascii_lowercase)-1)\n",
    "        s += string.ascii_lowercase[r]\n",
    "    return s\n",
    "\n",
    "print(randomword3(13))"
   ]
  },
  {
   "cell_type": "code",
   "execution_count": 1,
   "metadata": {},
   "outputs": [
    {
     "name": "stdout",
     "output_type": "stream",
     "text": [
      "01011010\n"
     ]
    }
   ],
   "source": [
    "import string\n",
    "a = \"{0:{fill}8b}\".format(int(90), fill=\"0\")\n",
    "print(a)"
   ]
  },
  {
   "cell_type": "code",
   "execution_count": 3,
   "metadata": {},
   "outputs": [
    {
     "name": "stdout",
     "output_type": "stream",
     "text": [
      " 1011010\n"
     ]
    }
   ],
   "source": [
    "b = \"{0:8b}\".format(int(90))\n",
    "print(b)"
   ]
  },
  {
   "cell_type": "code",
   "execution_count": 4,
   "metadata": {},
   "outputs": [
    {
     "name": "stdout",
     "output_type": "stream",
     "text": [
      "00000000\n"
     ]
    }
   ],
   "source": [
    "c= \"{0:{fill}8b}\".format(int(0), fill=\"0\")\n",
    "print(c)"
   ]
  },
  {
   "cell_type": "code",
   "execution_count": 3,
   "metadata": {},
   "outputs": [
    {
     "name": "stdout",
     "output_type": "stream",
     "text": [
      "101\n"
     ]
    }
   ],
   "source": [
    "d = \"{0:{fill}}\".format(int(101), fill=\"0\")\n",
    "print(d)"
   ]
  },
  {
   "cell_type": "code",
   "execution_count": 7,
   "metadata": {},
   "outputs": [
    {
     "name": "stdout",
     "output_type": "stream",
     "text": [
      "['Xm5\\x0c!', '3#((V', \"8GaS'\", 'JzE)-', 'VqZ+e', 'LP,6]', 'F&D,E', '(ezn,', 'cx}5C', '\\tJ7|y']\n"
     ]
    }
   ],
   "source": [
    "import random\n",
    "import string\n",
    "init = []\n",
    "for i in range(10):\n",
    "    init.append(''.join(random.choice(string.printable) for i in range(5)))\n",
    "print(init)"
   ]
  },
  {
   "cell_type": "code",
   "execution_count": 14,
   "metadata": {},
   "outputs": [
    {
     "name": "stdout",
     "output_type": "stream",
     "text": [
      "['1', ':', '3', '4', '5']\n",
      "['1', ':', '3', '4', '5']\n",
      "3\n",
      "1\n"
     ]
    }
   ],
   "source": [
    "def test(a, b):\n",
    "    x = random.choice(string.printable)\n",
    "    y = random.randint(0, len(a)-1)\n",
    "    z = random.randint(1, b)\n",
    "    if z == 1:\n",
    "        a[y] = x\n",
    "    return a\n",
    "def add(a, b):\n",
    "    a = a+b\n",
    "    return a\n",
    "\n",
    "list_a = ['1','2','3','4','5']\n",
    "list_b = []\n",
    "list_b = test(list_a, 1)\n",
    "v1 = 1\n",
    "v2 = 2\n",
    "c = add(v1, v2)\n",
    "print(list_a)\n",
    "print(list_b)\n",
    "print(c)\n",
    "print(v1)"
   ]
  },
  {
   "cell_type": "code",
   "execution_count": 18,
   "metadata": {},
   "outputs": [
    {
     "name": "stdout",
     "output_type": "stream",
     "text": [
      "1\n",
      "2\n",
      "<class 'int'>\n"
     ]
    }
   ],
   "source": [
    "def test(a, b):\n",
    "    c = a+b\n",
    "    d = a*b\n",
    "    return (a, b)\n",
    "\n",
    "x, y = test(1, 2)\n",
    "print(x)\n",
    "print(y)\n",
    "print(type(x))"
   ]
  },
  {
   "cell_type": "code",
   "execution_count": 10,
   "metadata": {},
   "outputs": [
    {
     "name": "stdout",
     "output_type": "stream",
     "text": [
      "4\n",
      "[1.0, 1.0, 1.0, 1.0]\n",
      "[0.25 0.25 0.25 0.25]\n",
      "jkl\n"
     ]
    }
   ],
   "source": [
    "import random\n",
    "import numpy as np\n",
    "\n",
    "a = [('abc', 1.0), ('def', 1.0), ('ghi', 1.0), ('jkl', 1.0)]\n",
    "print(len(a))\n",
    "probs = [a[i][1] for i in range(len(a))]\n",
    "print(probs)\n",
    "probs = np.array(probs)\n",
    "probs /= probs.sum()\n",
    "print(probs)\n",
    "print(a[np.random.choice(len(a), 1, p=probs)[0]][0])"
   ]
  },
  {
   "cell_type": "code",
   "execution_count": 5,
   "metadata": {},
   "outputs": [
    {
     "name": "stdout",
     "output_type": "stream",
     "text": [
      "0x61\n"
     ]
    }
   ],
   "source": [
    "a = ord(\"a\")\n",
    "print(hex(a))"
   ]
  },
  {
   "cell_type": "code",
   "execution_count": 1,
   "metadata": {},
   "outputs": [
    {
     "data": {
      "text/plain": [
       "[<matplotlib.lines.Line2D at 0x1125cc438>]"
      ]
     },
     "execution_count": 1,
     "metadata": {},
     "output_type": "execute_result"
    },
    {
     "data": {
      "image/png": "[encoded data removed]",
      "text/plain": [
       "<Figure size 432x288 with 1 Axes>"
      ]
     },
     "metadata": {
      "needs_background": "light"
     },
     "output_type": "display_data"
    }
   ],
   "source": [
    "%matplotlib inline\n",
    "import matplotlib.pyplot as plt\n",
    "temps = [10.2, 9.8, 10.5, 11.3, 12.0, 10.8]\n",
    "plt.plot(temps)"
   ]
  },
  {
   "cell_type": "code",
   "execution_count": null,
   "metadata": {},
   "outputs": [],
   "source": []
  }
 ],
 "metadata": {
  "kernelspec": {
   "display_name": "Python 3",
   "language": "python",
   "name": "python3"
  },
  "language_info": {
   "codemirror_mode": {
    "name": "ipython",
    "version": 3
   },
   "file_extension": ".py",
   "mimetype": "text/x-python",
   "name": "python",
   "nbconvert_exporter": "python",
   "pygments_lexer": "ipython3",
   "version": "3.7.3"
  }
 },
 "nbformat": 4,
 "nbformat_minor": 2
}
