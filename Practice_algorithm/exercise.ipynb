{
 "cells": [
  {
   "cell_type": "code",
   "execution_count": null,
   "metadata": {},
   "outputs": [],
   "source": [
    "#janken\n",
    "import random\n",
    "\n",
    "win = 0\n",
    "for i in range(1,6):\n",
    "    print('1:グー')\n",
    "    print('2:チョキ')\n",
    "    print('3:パー')\n",
    "    you = int(input('1~3のどれかを入力してください >>'))\n",
    "    com = random.randint(1,3)\n",
    "    if you==1 and com==2 or you==2 and com==3 or you==3 and com==1:\n",
    "        win += 1\n",
    "        print('あなたの勝ち：' + str(com))\n",
    "    elif you==1 and com==3 or you==2 and com==1 or you==3 and com==2:\n",
    "        print('コンピューターの勝ち：' + str(com))\n",
    "    else:\n",
    "        print('あいこ：' + str(com))\n",
    "win = win/5*100\n",
    "print(f\"勝率は{win}%です\")"
   ]
  },
  {
   "cell_type": "code",
   "execution_count": null,
   "metadata": {},
   "outputs": [],
   "source": [
    "#sequential search\n",
    "nums = [54, 58, 60, 62, 65, 73, 75]\n",
    "\n",
    "for i in range(len(nums)):\n",
    "    if nums[i] == 65:\n",
    "        print (f\"65は{i+1}番目\")\n",
    "        break\n",
    "else:\n",
    "    print(\"ありません\")"
   ]
  },
  {
   "cell_type": "code",
   "execution_count": null,
   "metadata": {},
   "outputs": [],
   "source": [
    "#binary search\n",
    "nums = [54, 58, 60, 62, 65, 73, 75]\n",
    "\n",
    "low = 0\n",
    "high = len(nums)-1\n",
    "while low <= high:\n",
    "    i = int((low+high)/2)\n",
    "    if nums[i] < 65:\n",
    "        low = i+1\n",
    "    elif nums[i] > 65:\n",
    "        high = i-1\n",
    "    else:\n",
    "        print(f\"65は{i+1}番目\")\n",
    "        break\n",
    "else:\n",
    "    print(\"ありません\")"
   ]
  },
  {
   "cell_type": "code",
   "execution_count": 2,
   "metadata": {},
   "outputs": [
    {
     "name": "stdout",
     "output_type": "stream",
     "text": [
      "[1, 2, 3, 4, 5, 6, 7, 8, 9, 10]\n"
     ]
    }
   ],
   "source": [
    "#bubble sort\n",
    "nums = [8,5,3,6,1,9,2,7,10,4]\n",
    "\n",
    "for i in range(len(nums)):\n",
    "    for j in range(1, len(nums)):\n",
    "        if (nums[j-1] > nums[j]):\n",
    "            nums[j], nums[j-1] = nums[j-1], nums[j]\n",
    "print(nums)"
   ]
  },
  {
   "cell_type": "code",
   "execution_count": null,
   "metadata": {},
   "outputs": [],
   "source": [
    "#sellection sort\n",
    "nums = [8,5,3,6,1,9,2,7,10,4]\n",
    "\n",
    "for i in range(len(nums)):\n",
    "    j = nums.index(min(nums[i:]))\n",
    "    nums[i], nums[j] = nums[j], nums[i]\n",
    "\n",
    "print(nums)"
   ]
  },
  {
   "cell_type": "code",
   "execution_count": null,
   "metadata": {},
   "outputs": [],
   "source": [
    "#insertion sort\n",
    "nums = [8,5,3,6,1,9,2,7,10,4]\n",
    "\n",
    "for i in range(1, len(nums)):\n",
    "    w = nums[i]\n",
    "    s = i\n",
    "    while s >= 1 and nums[s-1] > w:\n",
    "        nums[s] = nums[s-1]\n",
    "        s -= 1\n",
    "    nums[s] = w\n",
    "\n",
    "print(nums)"
   ]
  },
  {
   "cell_type": "code",
   "execution_count": null,
   "metadata": {},
   "outputs": [],
   "source": [
    "#quick sort\n",
    "def quicksort(lst):\n",
    "    left = []\n",
    "    right = []\n",
    "    if len(lst) <= 1:\n",
    "        return lst\n",
    "\n",
    "    pivot = lst[len(lst)-1]\n",
    "    pivot_count = 0\n",
    "\n",
    "    for ele in lst:\n",
    "        if ele < pivot:\n",
    "            left.append(ele)\n",
    "        elif ele > pivot:\n",
    "            right.append(ele)\n",
    "        else:\n",
    "            pivot_count += 1\n",
    "    left = quicksort(left)\n",
    "    right = quicksort(right)\n",
    "    return left + [pivot] * pivot_count + right\n",
    "\n",
    "lst = [8, 5, 3, 6, 1, 9, 2, 7, 10, 4]\n",
    "result = quicksort(lst)\n",
    "print(lst)\n",
    "print(result)"
   ]
  }
 ],
 "metadata": {
  "interpreter": {
   "hash": "e175e2d1a69ec44a53513b33867561d513a585d5b2228589977b3e28bb8f7a45"
  },
  "kernelspec": {
   "display_name": "Python 3.9.2 64-bit ('3.9.2': pyenv)",
   "name": "python3"
  },
  "language_info": {
   "codemirror_mode": {
    "name": "ipython",
    "version": 3
   },
   "file_extension": ".py",
   "mimetype": "text/x-python",
   "name": "python",
   "nbconvert_exporter": "python",
   "pygments_lexer": "ipython3",
   "version": "3.9.2"
  },
  "orig_nbformat": 4
 },
 "nbformat": 4,
 "nbformat_minor": 2
}