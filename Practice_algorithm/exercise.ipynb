{
 "cells": [
  {
   "cell_type": "code",
   "execution_count": null,
   "metadata": {},
   "outputs": [],
   "source": [
    "#bubble sort\n",
    "nums = [8,5,3,6,1,9,2,7,10,4]\n",
    "\n",
    "for i in range(len(nums)):\n",
    "    for j in range(1, len(nums)):\n",
    "        if (nums[j-1] > nums[j]):\n",
    "            nums[j], nums[j-1] = nums[j-1], nums[j]\n",
    "print(nums)"
   ]
  },
  {
   "cell_type": "code",
   "execution_count": 2,
   "metadata": {},
   "outputs": [
    {
     "name": "stdout",
     "output_type": "stream",
     "text": [
      "[1, 2, 3, 4, 5, 6, 7, 8, 9, 10]\n"
     ]
    }
   ],
   "source": [
    "#insertion sort\n",
    "nums = [8,5,3,6,1,9,2,7,10,4]\n",
    "\n",
    "for i in range(1, len(nums)):\n",
    "    w = nums[i]\n",
    "    s = i\n",
    "    while s >= 1 and nums[s-1] > w:\n",
    "        nums[s] = nums[s-1]\n",
    "        s -= 1\n",
    "    nums[s] = w\n",
    "\n",
    "print(nums)"
   ]
  }
 ],
 "metadata": {
  "interpreter": {
   "hash": "e175e2d1a69ec44a53513b33867561d513a585d5b2228589977b3e28bb8f7a45"
  },
  "kernelspec": {
   "display_name": "Python 3.9.2 64-bit ('3.9.2': pyenv)",
   "name": "python3"
  },
  "language_info": {
   "codemirror_mode": {
    "name": "ipython",
    "version": 3
   },
   "file_extension": ".py",
   "mimetype": "text/x-python",
   "name": "python",
   "nbconvert_exporter": "python",
   "pygments_lexer": "ipython3",
   "version": "3.9.2"
  },
  "orig_nbformat": 4
 },
 "nbformat": 4,
 "nbformat_minor": 2
}