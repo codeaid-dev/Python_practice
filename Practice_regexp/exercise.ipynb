{
    "cells": [
        {
            "cell_type": "code",
            "execution_count": null,
            "source": [
                "import re\n",
                "source = input()\n",
                "print(re.search('\\w*z\\w*', source))"
            ],
            "outputs": [],
            "metadata": {}
        },
        {
            "cell_type": "code",
            "execution_count": null,
            "source": [
                "#Exercise1\n",
                "import re\n",
                "import string\n",
                "printable = string.printable\n",
                "s = re.search('[A-Z]+',printable)\n",
                "print(s.group())"
            ],
            "outputs": [],
            "metadata": {}
        },
        {
            "cell_type": "code",
            "execution_count": null,
            "source": [
                "#Exercise2\n",
                "import re\n",
                "source = 'abcdefghi'\n",
                "print(re.search('abcde+?', source))"
            ],
            "outputs": [],
            "metadata": {}
        },
        {
            "cell_type": "code",
            "execution_count": null,
            "source": [
                "#Exercise3\n",
                "import re\n",
                "source = 'abcdefghi'\n",
                "print(re.search('abcde*?', source))"
            ],
            "outputs": [],
            "metadata": {}
        },
        {
            "cell_type": "code",
            "execution_count": null,
            "source": [
                "#Exercise4\n",
                "import re\n",
                "source = input()\n",
                "print(re.search('n.?', source))"
            ],
            "outputs": [],
            "metadata": {}
        },
        {
            "cell_type": "code",
            "execution_count": null,
            "source": [
                "#Exercise5\n",
                "import re\n",
                "source = input()\n",
                "print(re.search('ab{3}', source))"
            ],
            "outputs": [],
            "metadata": {}
        },
        {
            "cell_type": "code",
            "execution_count": null,
            "source": [
                "#Exercise6\n",
                "import re\n",
                "source = input()\n",
                "print(re.search('ab{2,3}', source))"
            ],
            "outputs": [],
            "metadata": {}
        },
        {
            "cell_type": "code",
            "execution_count": null,
            "source": [
                "#Exercise7\n",
                "import re\n",
                "source = input()\n",
                "print(re.search('^[a-z]+-[a-z]+$', source))"
            ],
            "outputs": [],
            "metadata": {}
        },
        {
            "cell_type": "code",
            "execution_count": null,
            "source": [
                "#Exercise8\n",
                "import re\n",
                "source = input()\n",
                "print(re.search('^[A-Z]+[a-z]+$', source))"
            ],
            "outputs": [],
            "metadata": {}
        },
        {
            "cell_type": "code",
            "execution_count": null,
            "source": [
                "#Exercise9\n",
                "import re\n",
                "source = input()\n",
                "print(re.search('a.*?b', source))"
            ],
            "outputs": [],
            "metadata": {}
        },
        {
            "cell_type": "code",
            "execution_count": null,
            "source": [
                "#Exercise10\n",
                "import re\n",
                "source = input()\n",
                "print(re.search('\\w*z\\w*', source))\n",
                "#print(re.search('[a-zA-Z0-9_]*z[a-zA-Z0-9_]*', source))"
            ],
            "outputs": [],
            "metadata": {}
        },
        {
            "cell_type": "code",
            "execution_count": null,
            "source": [
                "#Exercise11\n",
                "import re\n",
                "source = input()\n",
                "print(re.search('^[a-zA-Z0-9_]*$', source))\n",
                "#print(re.search('^[\\w]*$', source))\n"
            ],
            "outputs": [],
            "metadata": {}
        },
        {
            "cell_type": "code",
            "execution_count": null,
            "source": [
                "#Exercise12\n",
                "import re\n",
                "adds = '''\n",
                "〒550-0014 大阪市西区北堀江2-4-6 tel:0120-121-807\n",
                "〒134-0088 東京都江戸川区西葛西5丁目3-1 tel:0120-532-303\n",
                "〒604-8165 京都府京都市中京区烏帽子屋町502 tel:0120-109-525\n",
                "'''\n",
                "zipcode = re.compile('[0-9]{3}-[0-9]{4}')\n",
                "#zipcode = re.compile('\\d{3}-\\d{4}')\n",
                "f = re.findall(zipcode,adds)\n",
                "print(f)\n",
                "tel = re.compile('\\d{4}-\\d{3}-\\d{3}')\n",
                "f = re.findall(tel,adds)\n",
                "print(f)\n"
            ],
            "outputs": [],
            "metadata": {}
        },
        {
            "cell_type": "code",
            "execution_count": null,
            "source": [
                "#Exercise13\n",
                "import re\n",
                "source = input()\n",
                "mail = re.compile('[\\w\\-.]+@[\\w\\-.]+\\.[a-zA-Z]+')\n",
                "m = re.match(mail,source)\n",
                "if m != None:\n",
                "    print(f'{source}はメールアドアレスです')\n",
                "else:\n",
                "    print(f'{source}はメールアドレスではありません')"
            ],
            "outputs": [],
            "metadata": {}
        },
        {
            "cell_type": "code",
            "execution_count": null,
            "source": [
                "import re\n",
                "cpus = '''101 11600K    Intel-Core-i5\n",
                "102 11700K    Intel-Core-i7\n",
                "103 11900K    Intel-Core-i9\n",
                "201 5600X     AMD-Ryzen-5\n",
                "202 6800X     AMD-Ryzen-7\n",
                "203 5900X     AMD-Ryzen-9\n",
                "'''\n",
                "\n",
                "re.findall('([0-9]+) +([0-9A-Z]+X) +(.*)', cpus)"
            ],
            "outputs": [],
            "metadata": {}
        },
        {
            "cell_type": "code",
            "execution_count": null,
            "source": [
                "import re\n",
                "html = '<h1>見出し</h1><div><p>ブロック段落</p></div>'\n",
                "print(re.findall('<.+>', html))"
            ],
            "outputs": [],
            "metadata": {}
        }
    ],
    "metadata": {
        "orig_nbformat": 4,
        "language_info": {
            "name": "python",
            "version": "3.8.5",
            "mimetype": "text/x-python",
            "codemirror_mode": {
                "name": "ipython",
                "version": 3
            },
            "pygments_lexer": "ipython3",
            "nbconvert_exporter": "python",
            "file_extension": ".py"
        },
        "kernelspec": {
            "name": "python3",
            "display_name": "Python 3.8.5 64-bit ('anaconda3-2020.11': pyenv)"
        },
        "interpreter": {
            "hash": "852551a099bcd4103935b167f0506d01d7ded54002d00169929d9de4d04cfb6a"
        }
    },
    "nbformat": 4,
    "nbformat_minor": 2
}