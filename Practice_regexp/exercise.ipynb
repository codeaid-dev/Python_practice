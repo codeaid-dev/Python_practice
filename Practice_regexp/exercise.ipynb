{
    "cells": [
        {
            "cell_type": "code",
            "execution_count": 236,
            "source": [
                "import re\n",
                "source = input()\n",
                "print(re.search('a(bc)*', source))"
            ],
            "outputs": [
                {
                    "output_type": "stream",
                    "name": "stdout",
                    "text": [
                        "<re.Match object; span=(0, 3), match='abc'>\n"
                    ]
                }
            ],
            "metadata": {}
        },
        {
            "cell_type": "code",
            "execution_count": 197,
            "source": [
                "#Exercise1\n",
                "import re\n",
                "import string\n",
                "printable = string.printable\n",
                "print(re.findall('[A-Z]+',printable))\n"
            ],
            "outputs": [
                {
                    "output_type": "stream",
                    "name": "stdout",
                    "text": [
                        "['ABCDEFGHIJKLMNOPQRSTUVWXYZ']\n"
                    ]
                }
            ],
            "metadata": {}
        },
        {
            "cell_type": "code",
            "execution_count": 198,
            "source": [
                "import re\n",
                "text = \"\"\"101 CF001    コーヒー\n",
                "102 CF002    コーヒー（お徳用）\n",
                "201 TE01     紅茶\n",
                "202 TE02-A   紅茶（お徳用A）\n",
                "203 TE02-B   紅茶（お徳用B）\"\"\"\n",
                " \n",
                "re.findall('[0-9]+ +([0-9A-Z]+) +(.*)', text)"
            ],
            "outputs": [
                {
                    "output_type": "execute_result",
                    "data": {
                        "text/plain": [
                            "[('CF001', 'コーヒー'), ('CF002', 'コーヒー（お徳用）'), ('TE01', '紅茶')]"
                        ]
                    },
                    "metadata": {},
                    "execution_count": 198
                }
            ],
            "metadata": {}
        }
    ],
    "metadata": {
        "orig_nbformat": 4,
        "language_info": {
            "name": "python",
            "version": "3.8.5",
            "mimetype": "text/x-python",
            "codemirror_mode": {
                "name": "ipython",
                "version": 3
            },
            "pygments_lexer": "ipython3",
            "nbconvert_exporter": "python",
            "file_extension": ".py"
        },
        "kernelspec": {
            "name": "python3",
            "display_name": "Python 3.8.5 64-bit ('anaconda3-2020.11': pyenv)"
        },
        "interpreter": {
            "hash": "852551a099bcd4103935b167f0506d01d7ded54002d00169929d9de4d04cfb6a"
        }
    },
    "nbformat": 4,
    "nbformat_minor": 2
}