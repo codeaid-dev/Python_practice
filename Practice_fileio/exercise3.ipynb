{
 "cells": [
  {
   "cell_type": "markdown",
   "metadata": {},
   "source": [
    "# テキストファイル"
   ]
  },
  {
   "cell_type": "code",
   "execution_count": null,
   "metadata": {},
   "outputs": [],
   "source": [
    "text = input('書き込む >>')\n",
    "fout = open('sample.txt', 'w')\n",
    "fout.write(text)\n",
    "fout.close()"
   ]
  },
  {
   "cell_type": "code",
   "execution_count": null,
   "metadata": {},
   "outputs": [],
   "source": [
    "fin = open('sample.txt', 'r')\n",
    "result = fin.read()\n",
    "fin.close()\n",
    "print(result)"
   ]
  },
  {
   "cell_type": "code",
   "execution_count": null,
   "metadata": {},
   "outputs": [],
   "source": [
    "text = input('書き込む >>')\n",
    "fout = open('sample.txt', 'a', encoding='shift-jis')\n",
    "fout.write(text)\n",
    "fout.close()"
   ]
  },
  {
   "cell_type": "code",
   "execution_count": null,
   "metadata": {},
   "outputs": [],
   "source": [
    "text = input('書き込む >>')\n",
    "with open('sample.txt', 'w') as fout:\n",
    "    fout.write(text)"
   ]
  },
  {
   "cell_type": "code",
   "execution_count": null,
   "metadata": {},
   "outputs": [],
   "source": [
    "with open('sample.txt', 'r') as fin:\n",
    "    data = fin.read()\n",
    "print(data)"
   ]
  },
  {
   "cell_type": "code",
   "execution_count": null,
   "metadata": {},
   "outputs": [],
   "source": [
    "text = '''line1\n",
    "line2\n",
    "line3'''\n",
    "with open('sample.txt', 'w') as fout:\n",
    "    fout.write(text)"
   ]
  },
  {
   "cell_type": "code",
   "execution_count": null,
   "metadata": {},
   "outputs": [],
   "source": [
    "text = 'another1\\nanother2\\nanother3'\n",
    "with open('sample.txt', 'w') as fout:\n",
    "    fout.write(text)"
   ]
  },
  {
   "cell_type": "code",
   "execution_count": null,
   "metadata": {},
   "outputs": [],
   "source": [
    "with open('sample.txt', 'r') as fin:\n",
    "    for line in fin:\n",
    "        print(line,end='')"
   ]
  },
  {
   "cell_type": "code",
   "execution_count": null,
   "metadata": {},
   "outputs": [],
   "source": [
    "with open('sample.txt', 'r') as fin:\n",
    "    line = True\n",
    "    while line:\n",
    "        line = fin.readline()\n",
    "        print(line,end='')"
   ]
  },
  {
   "cell_type": "code",
   "execution_count": null,
   "metadata": {},
   "outputs": [],
   "source": [
    "with open('sample.txt', 'r') as fin:\n",
    "    lines = fin.readlines()\n",
    "print(lines)\n",
    "new_lines = [s.rstrip() for s in lines]\n",
    "print(new_lines)"
   ]
  },
  {
   "cell_type": "code",
   "execution_count": null,
   "metadata": {},
   "outputs": [],
   "source": [
    "with open('sample.txt', 'r') as fin:\n",
    "    lines = []\n",
    "    for line in fin:\n",
    "        lines.append(line.rstrip())\n",
    "print(lines)"
   ]
  },
  {
   "cell_type": "markdown",
   "metadata": {},
   "source": [
    "# CSV"
   ]
  },
  {
   "cell_type": "code",
   "execution_count": null,
   "metadata": {},
   "outputs": [],
   "source": [
    "import csv\n",
    "oder = [\n",
    "    ['id','name','price'],\n",
    "    ['101','Wireless Mouse',3500],\n",
    "    ['102','4K Display',55000],\n",
    "    ['103','Intel Core i9 PC',120000]\n",
    "]\n",
    "with open('sample.csv', 'w', newline='') as csvfile:\n",
    "    csvout = csv.writer(csvfile)\n",
    "    csvout.writerows(oder)"
   ]
  },
  {
   "cell_type": "code",
   "execution_count": null,
   "metadata": {},
   "outputs": [],
   "source": [
    "import csv\n",
    "with open('sample.csv', 'r', newline='') as csvfile:\n",
    "    data = csv.reader(csvfile)\n",
    "    oders = [row for row in data]\n",
    "print(oders)"
   ]
  },
  {
   "cell_type": "code",
   "execution_count": null,
   "metadata": {},
   "outputs": [],
   "source": [
    "import csv\n",
    "with open('sample.csv', 'r', newline='') as csvfile:\n",
    "    data = csv.DictReader(csvfile)\n",
    "    oders = [row for row in data]\n",
    "print(oders)"
   ]
  },
  {
   "cell_type": "code",
   "execution_count": null,
   "metadata": {},
   "outputs": [],
   "source": [
    "import csv\n",
    "oder = [\n",
    "    ['id','名前','価格'],\n",
    "    ['101','無線マウス',3500],\n",
    "    ['102','4Kモニター',55000],\n",
    "    ['103','Intel Core i9 PC',120000]\n",
    "]\n",
    "with open('sample.csv', 'w', newline='', encoding='utf-8') as csvfile:\n",
    "    csvout = csv.writer(csvfile)\n",
    "    csvout.writerows(oder)"
   ]
  },
  {
   "cell_type": "code",
   "execution_count": null,
   "metadata": {},
   "outputs": [],
   "source": [
    "import csv\n",
    "with open('sample.csv', 'r', newline='', encoding='utf-8') as csvfile:\n",
    "    data = csv.reader(csvfile)\n",
    "    oders = [row for row in data]\n",
    "print(oders)"
   ]
  },
  {
   "cell_type": "markdown",
   "metadata": {},
   "source": [
    "# JSON"
   ]
  },
  {
   "cell_type": "code",
   "execution_count": null,
   "metadata": {},
   "outputs": [],
   "source": [
    "import json\n",
    "\n",
    "members = [\n",
    "    {'id':100,'name':'Yamada Taro','email':'yamada@sample.com','country':'Japan'},\n",
    "    {'id':200,'name':'Hudson Brown','email':'hudson@sample.com','country':'UK'},\n",
    "    {'id':300,'name':'Roberto Rossi','email':'roberto@sample.com','country':'Itary'}\n",
    "]\n",
    "with open('sample.json', 'w') as fh:\n",
    "    json.dump(members, fh)"
   ]
  },
  {
   "cell_type": "code",
   "execution_count": null,
   "metadata": {},
   "outputs": [],
   "source": [
    "import json\n",
    "\n",
    "members = [\n",
    "    {'id':100,'name':'Yamada Taro','email':'yamada@sample.com','country':'Japan'},\n",
    "    {'id':200,'name':'Hudson Brown','email':'hudson@sample.com','country':'UK'},\n",
    "    {'id':300,'name':'Roberto Rossi','email':'roberto@sample.com','country':'Itary'}\n",
    "]\n",
    "with open('sample.json', 'w') as fh:\n",
    "    json.dump(members, fh, indent=2)"
   ]
  },
  {
   "cell_type": "code",
   "execution_count": null,
   "metadata": {},
   "outputs": [],
   "source": [
    "import json\n",
    "\n",
    "with open('sample.json', 'r') as fh:\n",
    "    data = json.load(fh)\n",
    "    print(data)"
   ]
  },
  {
   "cell_type": "code",
   "execution_count": null,
   "metadata": {},
   "outputs": [],
   "source": [
    "import json\n",
    "\n",
    "members = [\n",
    "    {'id':100,'name':'山田太郎','email':'yamada@sample.com','country':'日本'},\n",
    "    {'id':200,'name':'Hudson Brown','email':'hudson@sample.com','country':'UK'},\n",
    "    {'id':300,'name':'Roberto Rossi','email':'roberto@sample.com','country':'Itary'}\n",
    "]\n",
    "with open('sample.json', 'w', encoding='utf-8') as fh:\n",
    "    json.dump(members, fh, indent=2)"
   ]
  },
  {
   "cell_type": "code",
   "execution_count": null,
   "metadata": {},
   "outputs": [],
   "source": [
    "import json\n",
    "\n",
    "members = [\n",
    "    {'id':100,'name':'山田太郎','email':'yamada@sample.com','country':'日本'},\n",
    "    {'id':200,'name':'Hudson Brown','email':'hudson@sample.com','country':'UK'},\n",
    "    {'id':300,'name':'Roberto Rossi','email':'roberto@sample.com','country':'Itary'}\n",
    "]\n",
    "with open('sample.json', 'w', encoding='utf-8') as fh:\n",
    "    json.dump(members, fh, indent=2, ensure_ascii=False)"
   ]
  },
  {
   "cell_type": "code",
   "execution_count": null,
   "metadata": {},
   "outputs": [],
   "source": [
    "import json\n",
    "\n",
    "members = [\n",
    "    {'id':100,'name':'山田太郎','email':'yamada@sample.com','country':'日本'},\n",
    "    {'id':200,'name':'Hudson Brown','email':'hudson@sample.com','country':'UK'},\n",
    "    {'id':300,'name':'Roberto Rossi','email':'roberto@sample.com','country':'Itary'}\n",
    "]\n",
    "text = json.dumps(members, indent=2, ensure_ascii=False)\n",
    "print(type(text))\n",
    "print(text)"
   ]
  },
  {
   "cell_type": "code",
   "execution_count": null,
   "metadata": {},
   "outputs": [],
   "source": [
    "import json\n",
    "\n",
    "str_members = \"\"\"[\n",
    "    {\"id\":100,\"name\":\"山田太郎\",\"email\":\"yamada@sample.com\",\"country\":\"日本\"},\n",
    "    {\"id\":200,\"name\":\"Hudson Brown\",\"email\":\"hudson@sample.com\",\"country\":\"UK\"},\n",
    "    {\"id\":300,\"name\":\"Roberto Rossi\",\"email\":\"roberto@sample.com\",\"country\":\"Itary\"}\n",
    "]\"\"\"\n",
    "data = json.loads(str_members)\n",
    "print(data)\n",
    "print(data[0]['name'])"
   ]
  }
 ],
 "metadata": {
  "kernelspec": {
   "display_name": "Python 3",
   "language": "python",
   "name": "python3"
  },
  "language_info": {
   "codemirror_mode": {
    "name": "ipython",
    "version": 3
   },
   "file_extension": ".py",
   "mimetype": "text/x-python",
   "name": "python",
   "nbconvert_exporter": "python",
   "pygments_lexer": "ipython3",
   "version": "3.11.3"
  }
 },
 "nbformat": 4,
 "nbformat_minor": 2
}
