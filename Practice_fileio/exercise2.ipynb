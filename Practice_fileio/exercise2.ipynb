{
 "cells": [
  {
   "cell_type": "code",
   "execution_count": null,
   "metadata": {},
   "outputs": [],
   "source": [
    "#Exercise1\n",
    "import os\n",
    "\n",
    "if not os.path.exists('example'):\n",
    "    os.mkdir('example')\n",
    "text = input('>> ')\n",
    "with open('example/sample.txt', 'w') as fout:\n",
    "    fout.write(text+'\\n')\n",
    "    #print(text, file=fout)\n",
    "\n",
    "os.path.exists('example/sample.txt')\n"
   ]
  },
  {
   "cell_type": "code",
   "execution_count": null,
   "metadata": {},
   "outputs": [],
   "source": [
    "#Exercise2-1\n",
    "import os\n",
    "\n",
    "path = 'C:\\\\'\n",
    "#path = '~/'\n",
    "dirs = []\n",
    "files = []\n",
    "for name in os.listdir(path):\n",
    "    w = os.path.join(path, name)\n",
    "    if os.path.isdir(w):\n",
    "        dirs.append(name)\n",
    "    elif os.path.isfile(w):\n",
    "        files.append(name)\n",
    "\n",
    "print('ディレクトリ一覧:')\n",
    "print(dirs)\n",
    "#print([ name for name in os.listdir(path) if os.path.isdir(os.path.join(path, name)) ])\n",
    "\n",
    "print('ファイル一覧:')\n",
    "print(files)\n",
    "#print([ name for name in os.listdir(path) if os.path.isfile(os.path.join(path, name)) ])\n"
   ]
  },
  {
   "cell_type": "code",
   "execution_count": null,
   "metadata": {},
   "outputs": [],
   "source": [
    "#Exercise2-2\n",
    "import os\n",
    "\n",
    "path = 'C:\\\\'\n",
    "#path = '~/'\n",
    "with os.scandir(path) as it:\n",
    "    dirs = [entry.name for entry in it if os.path.isdir(entry)]\n",
    "with os.scandir(path) as it:\n",
    "    files = [entry.name for entry in it if os.path.isfile(entry)]\n",
    "\n",
    "print('ディレクトリ一覧:')\n",
    "print(dirs)\n",
    "print('ファイル一覧:')\n",
    "print(files)"
   ]
  },
  {
   "cell_type": "code",
   "execution_count": null,
   "metadata": {},
   "outputs": [],
   "source": [
    "import glob\n",
    "\n",
    "path = input('>> ')\n",
    "print(glob.glob(path+'*.py'))\n",
    "print(glob.glob('C:\\\\Users\\\\birdy\\\\Documents\\\\VSCode\\\\Python_practice\\\\Practice_web\\\\*.py'))"
   ]
  },
  {
   "cell_type": "code",
   "execution_count": null,
   "metadata": {},
   "outputs": [],
   "source": [
    "import pathlib"
   ]
  }
 ],
 "metadata": {
  "kernelspec": {
   "display_name": "Python 3",
   "language": "python",
   "name": "python3"
  },
  "language_info": {
   "codemirror_mode": {
    "name": "ipython",
    "version": 3
   },
   "file_extension": ".py",
   "mimetype": "text/x-python",
   "name": "python",
   "nbconvert_exporter": "python",
   "pygments_lexer": "ipython3",
   "version": "3.9.2"
  }
 },
 "nbformat": 4,
 "nbformat_minor": 4
}
