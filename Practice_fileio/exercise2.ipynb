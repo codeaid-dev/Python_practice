{
 "cells": [
  {
   "cell_type": "code",
   "execution_count": null,
   "metadata": {},
   "outputs": [],
   "source": [
    "import os\n",
    "\n",
    "path = 'C:\\\\'\n",
    "#path = '~/'\n",
    "dirs = []\n",
    "files = []\n",
    "for name in os.listdir(path):\n",
    "    w = os.path.join(path, name)\n",
    "    if os.path.isdir(w):\n",
    "        dirs.append(name)\n",
    "    elif os.path.isfile(w):\n",
    "        files.append(name)\n",
    "\n",
    "print('ディレクトリ一覧:')\n",
    "print(dirs)\n",
    "#print([ name for name in os.listdir(path) if os.path.isdir(os.path.join(path, name)) ])\n",
    "\n",
    "print('ファイル一覧:')\n",
    "print(files)\n",
    "#print([ name for name in os.listdir(path) if os.path.isfile(os.path.join(path, name)) ])\n"
   ]
  },
  {
   "cell_type": "code",
   "execution_count": 6,
   "metadata": {},
   "outputs": [
    {
     "name": "stdout",
     "output_type": "stream",
     "text": [
      "C:\\data.txt\n"
     ]
    }
   ],
   "source": [
    "print(os.path.join('C:\\\\', 'data.txt'))"
   ]
  }
 ],
 "metadata": {
  "kernelspec": {
   "display_name": "Python 3",
   "language": "python",
   "name": "python3"
  },
  "language_info": {
   "codemirror_mode": {
    "name": "ipython",
    "version": 3
   },
   "file_extension": ".py",
   "mimetype": "text/x-python",
   "name": "python",
   "nbconvert_exporter": "python",
   "pygments_lexer": "ipython3",
   "version": "3.9.2"
  }
 },
 "nbformat": 4,
 "nbformat_minor": 4
}
