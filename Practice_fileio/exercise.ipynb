{
 "cells": [
  {
   "cell_type": "code",
   "execution_count": null,
   "source": [
    "#Exercise1\n",
    "text = input('書き込む >>')\n",
    "file = open('sample.txt', 'a')\n",
    "file.write(text + '\\n')\n",
    "file.close()"
   ],
   "outputs": [],
   "metadata": {}
  },
  {
   "cell_type": "code",
   "execution_count": null,
   "source": [
    "#Exercise2\n",
    "with open('sample.txt', 'r') as file:\n",
    "    cnt = 0\n",
    "    for line in file:\n",
    "        cnt += 1\n",
    "        print(f'{cnt}:{line}',end='')\n",
    "\n",
    "#    while True:\n",
    "#        line = file.readline()\n",
    "#        if not line:\n",
    "#            break\n",
    "#        cnt += 1\n",
    "#        print(f'{cnt}:{line}',end='')\n"
   ],
   "outputs": [],
   "metadata": {}
  },
  {
   "cell_type": "code",
   "execution_count": null,
   "source": [
    "#Exercise3\n",
    "num = int(input('行番号 >>'))\n",
    "#lines = []\n",
    "with open('sample.txt', 'r') as file:\n",
    "    lines = file.readlines()\n",
    "#   for line in file:\n",
    "#        lines.append(line)\n",
    "if num > len(lines):\n",
    "    print('出力できる行はありません')\n",
    "else:\n",
    "    print(f'{num}:{lines[num-1]}', end='')"
   ],
   "outputs": [],
   "metadata": {}
  },
  {
   "cell_type": "code",
   "execution_count": null,
   "source": [
    "#Exercise4\n",
    "with open('sample.txt', 'r') as file:\n",
    "    for i, l in enumerate(file):\n",
    "        pass\n",
    "print(f'ファイル行数：{i+1}')"
   ],
   "outputs": [],
   "metadata": {}
  },
  {
   "cell_type": "code",
   "execution_count": null,
   "source": [
    "#Exercise5\n",
    "with open('sample.txt', 'r') as file:\n",
    "    text = file.read()\n",
    "NL = '\\n'\n",
    "print(f\"ファイル行数：{text.count(NL)}\")"
   ],
   "outputs": [],
   "metadata": {}
  },
  {
   "cell_type": "code",
   "execution_count": null,
   "source": [
    "#Exercise5-2\n",
    "with open('sample.txt', 'r') as file:\n",
    "    lines = file.readlines()\n",
    "    new_list = [s.rstrip('\\n') for s in lines]\n",
    "print(new_list)"
   ],
   "outputs": [],
   "metadata": {}
  },
  {
   "cell_type": "code",
   "execution_count": null,
   "source": [
    "#Exercise6\n",
    "import csv\n",
    "with open('departments.csv', 'r') as csvfile:\n",
    "    data = csv.reader(csvfile)\n",
    "    oders = [row for row in data]\n",
    "for s in oders:\n",
    "    print(s)\n"
   ],
   "outputs": [],
   "metadata": {}
  },
  {
   "cell_type": "code",
   "execution_count": 26,
   "source": [
    "#Exercise7\n",
    "import csv\n",
    "with open('departments.csv', 'r') as csvfile:\n",
    "    data = csv.reader(csvfile)\n",
    "    oders = [row for row in data]\n",
    "for s in oders:\n",
    "    if 'Reserch&Development' in s:\n",
    "        print(f'RD department_id:{s[0]}')"
   ],
   "outputs": [
    {
     "output_type": "stream",
     "name": "stdout",
     "text": [
      "RD department_id:120\n"
     ]
    }
   ],
   "metadata": {}
  },
  {
   "cell_type": "code",
   "execution_count": 25,
   "source": [
    "#Exercise8\n",
    "import csv\n",
    "with open('departments.csv', 'r') as csvfile:\n",
    "    data = csv.DictReader(csvfile)\n",
    "    oders = [row for row in data]\n",
    "for s in oders:\n",
    "    if s['department_name'] == 'Reserch&Development':\n",
    "        w = s['department_id']\n",
    "        print(f'RD department_id:{w}')"
   ],
   "outputs": [
    {
     "output_type": "stream",
     "name": "stdout",
     "text": [
      "RD department_id:120\n"
     ]
    }
   ],
   "metadata": {}
  }
 ],
 "metadata": {
  "interpreter": {
   "hash": "e175e2d1a69ec44a53513b33867561d513a585d5b2228589977b3e28bb8f7a45"
  },
  "kernelspec": {
   "display_name": "Python 3.9.2 64-bit ('3.9.2': pyenv)",
   "name": "python3"
  },
  "language_info": {
   "codemirror_mode": {
    "name": "ipython",
    "version": 3
   },
   "file_extension": ".py",
   "mimetype": "text/x-python",
   "name": "python",
   "nbconvert_exporter": "python",
   "pygments_lexer": "ipython3",
   "version": "3.9.2"
  }
 },
 "nbformat": 4,
 "nbformat_minor": 4
}