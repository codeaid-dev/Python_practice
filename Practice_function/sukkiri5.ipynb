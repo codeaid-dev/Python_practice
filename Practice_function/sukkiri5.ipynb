{
 "cells": [
  {
   "cell_type": "code",
   "execution_count": null,
   "metadata": {},
   "outputs": [],
   "source": [
    "#5-9\n",
    "def profile(name, age, hobby):\n",
    "    print('私の名前は{}です。'.format(name))\n",
    "    print('年齢は{}歳です。'.format(age))\n",
    "    print('趣味は{}です。'.format(hobby))\n",
    "\n",
    "profile('浅木', 24, 'カフェ巡り')"
   ]
  },
  {
   "cell_type": "code",
   "execution_count": null,
   "metadata": {},
   "outputs": [],
   "source": [
    "#5-16\n",
    "def input_scores(name):\n",
    "    print('{}さんの試験結果を入力してください'.format(name))\n",
    "    network = int(input('ネットワークの得点？ >>'))\n",
    "    database = int(input('データベースの得点？ >>'))\n",
    "    security = int(input('セキュリティの得点？ >>'))\n",
    "    scores = [network, database, security]\n",
    "    return scores\n",
    "\n",
    "def calc_average(scores):\n",
    "    avg = sum(scores) / len(scores)\n",
    "    return avg\n",
    "\n",
    "def output_result(name, avg):\n",
    "    print('{}さんの平均点は{}です'.format(name, avg))"
   ]
  },
  {
   "cell_type": "code",
   "execution_count": null,
   "metadata": {},
   "outputs": [],
   "source": [
    "# 浅木と松田の得点入力\n",
    "asagi_scores = input_scores('浅木')\n",
    "matsuda_scores = input_scores('松田')\n",
    "# 平均点を計算\n",
    "asagi_avg = calc_average(asagi_scores)\n",
    "matsuda_avg = calc_average(matsuda_scores)\n",
    "# 結果を出力\n",
    "output_result('浅木', asagi_avg)\n",
    "output_result('松田', matsuda_avg)"
   ]
  },
  {
   "cell_type": "code",
   "execution_count": null,
   "metadata": {},
   "outputs": [],
   "source": [
    "#5-18\n",
    "def plus_and_minus(a, b):\n",
    "    return a+b, a-b\n",
    "\n",
    "next, prev = plus_and_minus(1978, 1)"
   ]
  },
  {
   "cell_type": "code",
   "execution_count": null,
   "metadata": {},
   "outputs": [],
   "source": [
    "#5-22\n",
    "def eat(breakfast, lunch, dinner='カレー'):\n",
    "    print('朝は{}を食べました'.format(breakfast))\n",
    "    print('昼は{}を食べました'.format(lunch))\n",
    "    print('晩は{}を食べました'.format(dinner))"
   ]
  },
  {
   "cell_type": "code",
   "execution_count": null,
   "metadata": {},
   "outputs": [],
   "source": [
    "#5-23\n",
    "print('8月1日')\n",
    "eat('トースト', 'おにぎり')\n",
    "print('8月2日')\n",
    "eat('納豆ごはん', 'ラーメン')\n",
    "print('8月3日')\n",
    "eat('バナナ', 'そば', '焼肉')\n",
    "print('8月4日')\n",
    "eat('サンドウィッチ', 'しゅうまい弁当')"
   ]
  },
  {
   "cell_type": "code",
   "execution_count": null,
   "metadata": {},
   "outputs": [],
   "source": [
    "#5-27\n",
    "def eat(breakfast, lunch, dinner='カレー', desserts=()):\n",
    "    print('朝は{}を食べました'.format(breakfast))\n",
    "    print('昼は{}を食べました'.format(lunch))\n",
    "    print('昼は{}を食べました'.format(dinner))\n",
    "    for d in desserts:\n",
    "        print('おやつに{}を食べました'.format(d))\n",
    "\n",
    "eat('トースト', 'パスタ', 'カレー', ('アイス', 'チョコ', 'パフェ'))"
   ]
  },
  {
   "cell_type": "code",
   "execution_count": null,
   "metadata": {},
   "outputs": [],
   "source": [
    "#5-29\n",
    "def eat(breakfast, lunch, dinner='カレー', *desserts):\n",
    "    print('朝は{}を食べました'.format(breakfast))\n",
    "    print('昼は{}を食べました'.format(lunch))\n",
    "    print('昼は{}を食べました'.format(dinner))\n",
    "    for d in desserts:\n",
    "        print('おやつに{}を食べました'.format(d))\n",
    "\n",
    "eat('トースト', 'パスタ', 'カレー', 'アイス', 'チョコ', 'パフェ')"
   ]
  },
  {
   "cell_type": "code",
   "execution_count": null,
   "metadata": {},
   "outputs": [],
   "source": [
    "def eat(**kwargs):\n",
    "    for key in kwargs:\n",
    "        print('{}に{}を食べました'.format(key, kwargs[key]))\n",
    "\n",
    "eat(breakfast='納豆', 遅めの昼食='パスタ', 夕方のおやつ='カレーパン')"
   ]
  },
  {
   "cell_type": "code",
   "execution_count": null,
   "metadata": {},
   "outputs": [],
   "source": [
    "def test(arg1, *args, argl):\n",
    "    print(arg1, args, argl)\n",
    "\n",
    "test('hoge', 'foo', 'bar', argl=99)"
   ]
  },
  {
   "cell_type": "code",
   "execution_count": 8,
   "metadata": {},
   "outputs": [
    {
     "name": "stdout",
     "output_type": "stream",
     "text": [
      "こんにちは松田さん\n"
     ]
    }
   ],
   "source": [
    "#5-31\n",
    "name = '松田'\n",
    "def hello():\n",
    "    print('こんにちは'+name+'さん')\n",
    "\n",
    "hello()"
   ]
  },
  {
   "cell_type": "code",
   "execution_count": 12,
   "metadata": {},
   "outputs": [
    {
     "name": "stdout",
     "output_type": "stream",
     "text": [
      "こんにちは松田さん\n"
     ]
    }
   ],
   "source": [
    "#5-33\n",
    "name = '松田'\n",
    "def change_name():\n",
    "    #global name\n",
    "    name = '浅木'\n",
    "\n",
    "def hello():\n",
    "    print('こんにちは'+name+'さん')\n",
    "\n",
    "change_name()\n",
    "hello()"
   ]
  },
  {
   "cell_type": "code",
   "execution_count": 13,
   "metadata": {},
   "outputs": [
    {
     "name": "stdout",
     "output_type": "stream",
     "text": [
      "*** 支払額 ***\n",
      "1人あたり2000円(4人)、幹事は2000円です\n"
     ]
    }
   ],
   "source": [
    "#練習5-5\n",
    "def int_input(msg):\n",
    "    return int(input('{}を入力してください >>'.format(msg)))\n",
    "\n",
    "def calc_payment(amount, people=2):\n",
    "    dnum = amount / people\n",
    "    pay = dnum // 100 * 100\n",
    "    if dnum > pay:\n",
    "        pay = pay + 100\n",
    "    payorg = amount - pay * (people - 1)\n",
    "    return [int(pay), int(payorg)]\n",
    "\n",
    "def show_payment(pay, payorg, people=2):\n",
    "    print('*** 支払額 ***')\n",
    "    print('1人あたり{}円({}人)、幹事は{}円です'.format(pay, people-1, payorg))\n",
    "\n",
    "amount = int_input('支払総額');people = int_input('参加人数')\n",
    "[pay, payorg] = calc_payment(amount, people)\n",
    "show_payment(pay, payorg, people)"
   ]
  }
 ],
 "metadata": {
  "kernelspec": {
   "display_name": "Python 3.9.2 64-bit ('3.9.2': pyenv)",
   "name": "python392jvsc74a57bd0e175e2d1a69ec44a53513b33867561d513a585d5b2228589977b3e28bb8f7a45"
  },
  "language_info": {
   "codemirror_mode": {
    "name": "ipython",
    "version": 3
   },
   "file_extension": ".py",
   "mimetype": "text/x-python",
   "name": "python",
   "nbconvert_exporter": "python",
   "pygments_lexer": "ipython3",
   "version": "3.9.2"
  },
  "orig_nbformat": 2
 },
 "nbformat": 4,
 "nbformat_minor": 2
}