{
 "cells": [
  {
   "cell_type": "code",
   "execution_count": null,
   "metadata": {},
   "outputs": [],
   "source": [
    "def add(d1, d2):\n",
    "    sum = d1 + d2\n",
    "    return sum\n",
    "\n",
    "print(add(20,10))"
   ]
  },
  {
   "cell_type": "code",
   "execution_count": null,
   "metadata": {},
   "outputs": [],
   "source": [
    "def message(message, name='hanako'):\n",
    "    print(f'{message}, {name}')\n",
    "    print('{}, {}'.format(message, name))"
   ]
  },
  {
   "cell_type": "code",
   "execution_count": null,
   "metadata": {},
   "outputs": [],
   "source": [
    "def score_check(num1, num2, num3):\n",
    "    sum = num1 + num2 + num3\n",
    "    return sum\n",
    "\n",
    "num1 = 30\n",
    "num2 = 20\n",
    "num3 = 30\n",
    "\n",
    "if score_check(num1, num2, num3) >= 80:\n",
    "    print('Success !!')\n",
    "elif score_check(num1, num2, num3) >= 50 and \\\n",
    "        score_check(num1, num2, num3) < 80:\n",
    "    print('Challenge !!')\n",
    "else:\n",
    "    print('Failure !!')"
   ]
  },
  {
   "cell_type": "code",
   "execution_count": null,
   "metadata": {},
   "outputs": [],
   "source": [
    "def countup(num):\n",
    "    for i in range(10):\n",
    "        num += 1\n",
    "\n",
    "num = 9\n",
    "countup(num)\n",
    "print(num)"
   ]
  },
  {
   "cell_type": "code",
   "execution_count": null,
   "metadata": {},
   "outputs": [],
   "source": [
    "a = 10\n",
    "b = 20\n",
    "def stradd(a, d):\n",
    "    global b\n",
    "    a = 100\n",
    "    b = 200\n",
    "    print('local_a => ' + str(a) + \\\n",
    "            ', local_b => ' + str(b))\n",
    "\n",
    "stradd(a, b)\n",
    "print('global_a => ' + str(a) + \\\n",
    "        ', global_b => ' + str(b))"
   ]
  },
  {
   "cell_type": "code",
   "execution_count": null,
   "metadata": {},
   "outputs": [],
   "source": [
    "a = 2\n",
    "b = 3\n",
    "c = 5\n",
    "sum = 0\n",
    "def change(a, d, e):\n",
    "  global b, c\n",
    "  a = 100\n",
    "  b = 200\n",
    "  c = 300\n",
    "\n",
    "change(a, b, c)\n",
    "sum = a + b + c\n",
    "print(sum)"
   ]
  },
  {
   "cell_type": "code",
   "execution_count": null,
   "metadata": {},
   "outputs": [],
   "source": [
    "nums1 = [1,2,3,4,5]\n",
    "def func1(data):\n",
    "    for i in range(len(data)):\n",
    "        data[i] *= 2\n",
    "\n",
    "func1(nums1)\n",
    "print(nums1)\n",
    "\n",
    "nums2 = [1,2,3,4,5]\n",
    "def func2(data):\n",
    "    data = [n*2 for n in data]\n",
    "\n",
    "func2(nums2)\n",
    "print(nums2)"
   ]
  },
  {
   "cell_type": "code",
   "execution_count": null,
   "metadata": {},
   "outputs": [],
   "source": [
    "def getTrue():\n",
    "    print(\"getTrue関数を実行\")\n",
    "    return True\n",
    "\n",
    "def getFalse():\n",
    "    print(\"getFalse関数を実行\")\n",
    "    return False\n",
    "\n",
    "if (getTrue() or getFalse()):\n",
    "    print(\"評価はTrue\")\n",
    "else:\n",
    "    print(\"評価はFalse\")"
   ]
  },
  {
   "cell_type": "code",
   "execution_count": null,
   "metadata": {},
   "outputs": [],
   "source": [
    "def getMax(nums):\n",
    "    max = 0\n",
    "    for i in range(len(nums)):\n",
    "        if nums[i] > max:\n",
    "            max = nums[i]\n",
    "    return max\n",
    "\n",
    "data = [int(n) for n in input('入力 >>').split(',')]\n",
    "ans = getMax(data)\n",
    "print(ans)"
   ]
  },
  {
   "cell_type": "code",
   "execution_count": null,
   "metadata": {},
   "outputs": [],
   "source": [
    "def article(title, number=1, content='content'):\n",
    "    content = 'default content'\n",
    "    print(title + ' ' + str(number) + ' ' + content)\n",
    "\n",
    "article('Python tutorial', content='about Python')"
   ]
  },
  {
   "cell_type": "code",
   "execution_count": null,
   "metadata": {},
   "outputs": [],
   "source": [
    "def showargs(*args, **kwargs):\n",
    "    print(f'args: {args}')\n",
    "    print(f'kwargs: {kwargs}')\n",
    "\n",
    "showargs(1,2,3,4)\n",
    "showargs(1,2,a=3,b=4)"
   ]
  },
  {
   "cell_type": "code",
   "execution_count": null,
   "metadata": {},
   "outputs": [],
   "source": [
    "def showtext(arg1, arg2, flag=False):\n",
    "    print(f'show {arg1} and {arg2} (flag: {flag})')\n",
    "\n",
    "showtext(arg2='B', arg1='A', flag=True)"
   ]
  },
  {
   "cell_type": "code",
   "execution_count": null,
   "metadata": {},
   "outputs": [],
   "source": [
    "def find_person(people, target):\n",
    "    for person in people:\n",
    "        if person == target:\n",
    "            print(f'{target} is found.')\n",
    "            break\n",
    "    if target not in people:\n",
    "        print(f'{target} is not here.')\n",
    "\n",
    "find_person(['Tanaka', 'Sato', 'Suzuki'], 'Suzuki')\n",
    "find_person(['Tanaka', 'Sato', 'Suzuki'], 'Yamada')"
   ]
  },
  {
   "cell_type": "code",
   "execution_count": null,
   "metadata": {},
   "outputs": [],
   "source": [
    "def find_person(people, target):\n",
    "    i = 0\n",
    "    while i<len(people) and people[i] != target:\n",
    "        i += 1\n",
    "    if i<len(people):\n",
    "        print(f'{  target  } is found at index{i}.')\n",
    "    else:\n",
    "        print(f'{  target  } is not here.')\n",
    "\n",
    "find_person(['Tanaka', 'Sato', 'Suzuki'], 'Suzuki')\n",
    "find_person(['Tanaka', 'Sato', 'Suzuki'], 'Yamada')"
   ]
  }
 ],
 "metadata": {
  "kernelspec": {
   "display_name": "Python 3.10.3 64-bit ('3.10.3')",
   "language": "python",
   "name": "python3"
  },
  "language_info": {
   "name": "python",
   "version": "3.10.3"
  },
  "orig_nbformat": 2,
  "vscode": {
   "interpreter": {
    "hash": "0cf5b81d25d04120a62c4400ea9fc808785ea683f7e81b240b1825587512b5f1"
   }
  }
 },
 "nbformat": 4,
 "nbformat_minor": 2
}
