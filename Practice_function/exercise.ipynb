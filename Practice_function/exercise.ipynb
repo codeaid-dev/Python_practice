{
 "cells": [
  {
   "cell_type": "code",
   "execution_count": null,
   "metadata": {},
   "outputs": [],
   "source": [
    "def price(p, rate=10):\n",
    "    tax_amount = p * (rate / 100)\n",
    "    return int(p + tax_amount)\n",
    "\n",
    "num, rate = map(int, input('入力 >>').split(' '))\n",
    "print(price(num, rate))"
   ]
  },
  {
   "cell_type": "code",
   "execution_count": 6,
   "metadata": {},
   "outputs": [
    {
     "name": "stdout",
     "output_type": "stream",
     "text": [
      "100円\n"
     ]
    }
   ],
   "source": [
    "def stationery_check(stuff):\n",
    "    goods = {'Note':100, 'Pen':80, 'Eraser':50}\n",
    "    if stuff in goods:\n",
    "        return goods[stuff]\n",
    "\n",
    "check = input('入力 >>')\n",
    "print(f'{stationery_check(check)}円')"
   ]
  },
  {
   "cell_type": "code",
   "execution_count": 14,
   "metadata": {},
   "outputs": [
    {
     "name": "stdout",
     "output_type": "stream",
     "text": [
      "身長が170cmの適正体重は63.58kgです\n"
     ]
    }
   ],
   "source": [
    "def calc_bmi(weight, tall, bmi=True):\n",
    "    if bmi:\n",
    "        result = weight / ((tall/100) ** 2)\n",
    "    else:\n",
    "        result = ((tall/100) ** 2) * 22\n",
    "    return result\n",
    "\n",
    "w = int(input('体重は？'))\n",
    "t = int(input('身長は？'))\n",
    "b = int(input('1:BMI 2:適正体重？'))\n",
    "if b == 1:\n",
    "    print(f'体重は{w}kgで身長が{t}cmのBMIは{calc_bmi(w, t):.2f}です')\n",
    "else:\n",
    "    print(f'身長が{t}cmの適正体重は{calc_bmi(w, t, False):.2f}kgです')"
   ]
  },
  {
   "cell_type": "code",
   "execution_count": null,
   "metadata": {},
   "outputs": [],
   "source": [
    "def pyramid(word, num):\n",
    "  s = \"\"\n",
    "  for i in range(1, num+1):\n",
    "    for j in range(i):\n",
    "      s += word\n",
    "    s += \"\\n\"\n",
    "  return s\n",
    "\n",
    "w, n = map(str, input('入力 >>').split(','))\n",
    "print(pyramid(w, int(n)))"
   ]
  }
 ],
 "metadata": {
  "kernelspec": {
   "display_name": "Python 3.9.2 64-bit ('3.9.2': pyenv)",
   "name": "python392jvsc74a57bd0e175e2d1a69ec44a53513b33867561d513a585d5b2228589977b3e28bb8f7a45"
  },
  "language_info": {
   "codemirror_mode": {
    "name": "ipython",
    "version": 3
   },
   "file_extension": ".py",
   "mimetype": "text/x-python",
   "name": "python",
   "nbconvert_exporter": "python",
   "pygments_lexer": "ipython3",
   "version": "3.9.2"
  },
  "orig_nbformat": 2
 },
 "nbformat": 4,
 "nbformat_minor": 2
}