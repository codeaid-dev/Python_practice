{
 "cells": [
  {
   "cell_type": "code",
   "execution_count": 3,
   "metadata": {},
   "outputs": [
    {
     "name": "stdout",
     "output_type": "stream",
     "text": [
      "120\n",
      "120\n"
     ]
    }
   ],
   "source": [
    "#リスト、タプルの要素を掛けた値を返す\n",
    "def multiply(numbers):\n",
    "    result = 1\n",
    "    for n in numbers:\n",
    "        result *= n\n",
    "    return result\n",
    "print(multiply((1,2,3,4,5)))\n",
    "print(multiply([1,2,3,4,5]))"
   ]
  },
  {
   "cell_type": "code",
   "execution_count": null,
   "metadata": {},
   "outputs": [],
   "source": [
    "#1からnまで掛けた数値を返す\n",
    "def factorial(n):\n",
    "    if n == 0:\n",
    "        return 1\n",
    "    else:\n",
    "        return n * factorial(n-1)\n",
    "print(factorial(4))"
   ]
  },
  {
   "cell_type": "code",
   "execution_count": null,
   "metadata": {},
   "outputs": [],
   "source": [
    "def price(p, rate=10):\n",
    "    tax_amount = p * (rate / 100)\n",
    "    return int(p + tax_amount)\n",
    "\n",
    "num, rate = map(int, input('入力 >>').split(' '))\n",
    "print(price(num, rate))"
   ]
  },
  {
   "cell_type": "code",
   "execution_count": 6,
   "metadata": {},
   "outputs": [
    {
     "name": "stdout",
     "output_type": "stream",
     "text": [
      "100円\n"
     ]
    }
   ],
   "source": [
    "def stationery_check(stuff):\n",
    "    goods = {'Note':100, 'Pen':80, 'Eraser':50}\n",
    "    if stuff in goods:\n",
    "        return goods[stuff]\n",
    "\n",
    "check = input('入力 >>')\n",
    "print(f'{stationery_check(check)}円')"
   ]
  },
  {
   "cell_type": "code",
   "execution_count": null,
   "metadata": {},
   "outputs": [],
   "source": [
    "def make_person(last_name, first_name, age=None):\n",
    "    person = {'last': last_name, 'first': first_name}\n",
    "    if age:\n",
    "        person['age'] = age\n",
    "    return person\n",
    "\n",
    "data = list(input('入力 >>').split(' '))\n",
    "if len(data) == 2:\n",
    "    print(make_person(data[0], data[1]))\n",
    "elif len(data) == 3:\n",
    "    print(make_person(data[0], data[1], int(data[2])))\n",
    "else:\n",
    "    print('Please input correctly')"
   ]
  },
  {
   "cell_type": "code",
   "execution_count": 14,
   "metadata": {},
   "outputs": [
    {
     "name": "stdout",
     "output_type": "stream",
     "text": [
      "身長が170cmの適正体重は63.58kgです\n"
     ]
    }
   ],
   "source": [
    "#BMIを算出\n",
    "def calc_bmi(weight, tall, bmi=True):\n",
    "    if bmi:\n",
    "        result = weight / ((tall/100) ** 2)\n",
    "    else:\n",
    "        result = ((tall/100) ** 2) * 22\n",
    "    return result\n",
    "\n",
    "w = int(input('体重は？'))\n",
    "t = int(input('身長は？'))\n",
    "b = int(input('1:BMI 2:適正体重？'))\n",
    "if b == 1:\n",
    "    print(f'体重は{w}kgで身長が{t}cmのBMIは{calc_bmi(w, t):.2f}です')\n",
    "else:\n",
    "    print(f'身長が{t}cmの適正体重は{calc_bmi(w, t, False):.2f}kgです')"
   ]
  },
  {
   "cell_type": "code",
   "execution_count": null,
   "metadata": {},
   "outputs": [],
   "source": [
    "#2次元リストを1次元リストに変換\n",
    "def change_list(data):\n",
    "    work = []\n",
    "    for row in data:\n",
    "        for elem in row:\n",
    "            work.append(elem)\n",
    "    return work\n",
    "\n",
    "print(change_list([[1,2,3],[4,5,6]]))"
   ]
  },
  {
   "cell_type": "code",
   "execution_count": null,
   "metadata": {},
   "outputs": [],
   "source": [
    "def pyramid(word, num):\n",
    "  s = \"\"\n",
    "  for i in range(1, num+1):\n",
    "    for j in range(i):\n",
    "      s += word\n",
    "    s += \"\\n\"\n",
    "  return s\n",
    "\n",
    "w, n = map(str, input('入力 >>').split(','))\n",
    "print(pyramid(w, int(n)))"
   ]
  },
  {
   "cell_type": "code",
   "execution_count": null,
   "metadata": {},
   "outputs": [],
   "source": [
    "def arrange_list(data):\n",
    "    work = [[0] * len(data[0]) for i in range(len(data))]\n",
    "    for i in range(len(data)):\n",
    "        for j in range(len(data[i])):\n",
    "            work[j][i] = data[i][j]\n",
    "    return work\n",
    "\n",
    "print(arrange_list([[1,2,3],[4,5,6],[7,8,9]]))"
   ]
  },
  {
   "cell_type": "code",
   "execution_count": 1,
   "metadata": {},
   "outputs": [
    {
     "name": "stdout",
     "output_type": "stream",
     "text": [
      "[2, 4, 6, 8, 10]\n",
      "[2, 4, 6, 8, 10]\n"
     ]
    }
   ],
   "source": [
    "num_list = [1,2,3,4,5,6,7,8,9,10]\n",
    "def is_even(n):\n",
    "    return n%2==0\n",
    "\n",
    "def pickup(func, nums):\n",
    "    work = []\n",
    "    for n in nums:\n",
    "        if func(n):\n",
    "            work.append(n)\n",
    "    return work\n",
    "\n",
    "print(pickup(is_even, num_list))\n",
    "print(pickup(lambda n: n%2==0, num_list))"
   ]
  },
  {
   "cell_type": "code",
   "execution_count": 2,
   "metadata": {},
   "outputs": [
    {
     "name": "stdout",
     "output_type": "stream",
     "text": [
      "[2, 4, 6, 8, 10, 12, 14, 16, 18, 20]\n",
      "[2, 4, 6, 8, 10, 12, 14, 16, 18, 20]\n"
     ]
    }
   ],
   "source": [
    "num_list = [1,2,3,4,5,6,7,8,9,10]\n",
    "def double(n):\n",
    "    return n*2\n",
    "\n",
    "def modify(func, nums):\n",
    "    work = []\n",
    "    for n in nums:\n",
    "        work.append(func(n))\n",
    "    return work\n",
    "\n",
    "print(modify(double, num_list))\n",
    "print(modify(lambda n: n*2, num_list))"
   ]
  },
  {
   "cell_type": "code",
   "execution_count": 4,
   "metadata": {},
   "outputs": [
    {
     "name": "stdout",
     "output_type": "stream",
     "text": [
      "{'a': 1, 'b': 2, 'c': 3}\n",
      "\n",
      "    第1引数をキー、第2引数を値として辞書を作成する\n",
      "    処理内容：\n",
      "        1. 2つの引数のデータが同じ要素数かチェックする\n",
      "        2. 真なら辞書を作成し返却する\n",
      "    \n"
     ]
    }
   ],
   "source": [
    "def make_dict(ite1, ite2):\n",
    "    '''\n",
    "    第1引数をキー、第2引数を値として辞書を作成する\n",
    "    処理内容：\n",
    "        1. 2つの引数のデータが同じ要素数かチェック\n",
    "        2. 真なら辞書を作成し返却\n",
    "    '''\n",
    "    if len(ite1) == len(ite2):\n",
    "        return dict(zip(ite1, ite2))\n",
    "\n",
    "print(make_dict(['a','b','c'], [1,2,3]))\n",
    "print(make_dict.__doc__)"
   ]
  },
  {
   "cell_type": "code",
   "execution_count": 1,
   "metadata": {},
   "outputs": [
    {
     "name": "stdout",
     "output_type": "stream",
     "text": [
      "abab\n",
      "ppp\n"
     ]
    }
   ],
   "source": [
    "def substring_copy(str, n):\n",
    "    flen = 2\n",
    "    if flen > len(str):\n",
    "        flen = len(str)\n",
    "    substr = str[:flen]\n",
    "\n",
    "    result = ''\n",
    "    for i in range(n):\n",
    "        result = result + substr\n",
    "    return result\n",
    "\n",
    "print(substring_copy('abcdef', 2))\n",
    "print(substring_copy('p', 3))"
   ]
  },
  {
   "cell_type": "code",
   "execution_count": 1,
   "metadata": {},
   "outputs": [
    {
     "name": "stdout",
     "output_type": "stream",
     "text": [
      "結果は 600\n",
      "結果は 70\n"
     ]
    }
   ],
   "source": [
    "def multiply_or_sum(num1, num2):\n",
    "    res = num1 * num2\n",
    "    if res <= 1000:\n",
    "        return res\n",
    "    else:\n",
    "        return num1 + num2\n",
    "\n",
    "result = multiply_or_sum(20, 30)\n",
    "print('結果は', result)\n",
    "result = multiply_or_sum(40, 30)\n",
    "print('結果は', result)"
   ]
  },
  {
   "cell_type": "code",
   "execution_count": 2,
   "metadata": {},
   "outputs": [
    {
     "name": "stdout",
     "output_type": "stream",
     "text": [
      "5の4乗は625\n"
     ]
    }
   ],
   "source": [
    "def exponent(base, exp):\n",
    "    num = exp\n",
    "    result = 1\n",
    "    while num > 0:\n",
    "        result = result * base\n",
    "        num = num - 1\n",
    "    print(f'{base}の{exp}乗は{result}')\n",
    "\n",
    "exponent(5, 4)"
   ]
  },
  {
   "cell_type": "code",
   "execution_count": 4,
   "metadata": {},
   "outputs": [
    {
     "name": "stdout",
     "output_type": "stream",
     "text": [
      "[29, 31, 37, 41, 43, 47]\n"
     ]
    }
   ],
   "source": [
    "def prime_number(start, end):\n",
    "    result = []\n",
    "    for num in range(start, end+1):\n",
    "        if num > 1:\n",
    "            for i in range(2, num):\n",
    "                if num%i == 0: #割り切れる数がある場合は素数でない\n",
    "                    break\n",
    "            if i+1 == num: #自身以外割り切れる数が無い場合は素数（else: でも良い）\n",
    "                result.append(num)\n",
    "    return result\n",
    "print(prime_number(25,50))"
   ]
  }
 ],
 "metadata": {
  "kernelspec": {
   "display_name": "Python 3.9.2 64-bit ('3.9.2': pyenv)",
   "name": "python392jvsc74a57bd0e175e2d1a69ec44a53513b33867561d513a585d5b2228589977b3e28bb8f7a45"
  },
  "language_info": {
   "codemirror_mode": {
    "name": "ipython",
    "version": 3
   },
   "file_extension": ".py",
   "mimetype": "text/x-python",
   "name": "python",
   "nbconvert_exporter": "python",
   "pygments_lexer": "ipython3",
   "version": "3.9.2"
  },
  "orig_nbformat": 2
 },
 "nbformat": 4,
 "nbformat_minor": 2
}