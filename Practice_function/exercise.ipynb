{
 "cells": [
  {
   "cell_type": "code",
   "execution_count": null,
   "metadata": {},
   "outputs": [],
   "source": [
    "#Exercise1\n",
    "def multiply(numbers):\n",
    "    result = 1\n",
    "    for n in numbers:\n",
    "        result *= n\n",
    "    return result\n",
    "print(multiply((1,2,3,4,5)))\n",
    "print(multiply([1,2,3,4,5]))"
   ]
  },
  {
   "cell_type": "code",
   "execution_count": null,
   "metadata": {},
   "outputs": [],
   "source": [
    "#Exercise2\n",
    "def factorial(n):\n",
    "    if n == 0:\n",
    "        return 1\n",
    "    else:\n",
    "        return n * factorial(n-1)\n",
    "print(factorial(4))"
   ]
  },
  {
   "cell_type": "code",
   "execution_count": null,
   "metadata": {},
   "outputs": [],
   "source": [
    "#Exercise3\n",
    "def price(p, rate=10):\n",
    "    tax_amount = p * (rate / 100)\n",
    "    return int(p + tax_amount)\n",
    "\n",
    "num, rate = input('入力 >>').split(' ')\n",
    "print(price(int(num), int(rate)))"
   ]
  },
  {
   "cell_type": "code",
   "execution_count": null,
   "metadata": {},
   "outputs": [],
   "source": [
    "#Exercise4\n",
    "def stationery_check(stuff):\n",
    "    goods = {'Note':100, 'Pen':80, 'Eraser':50}\n",
    "    if stuff in goods:\n",
    "        return goods[stuff]\n",
    "\n",
    "check = input('入力 >>')\n",
    "print(f'{stationery_check(check)}円')"
   ]
  },
  {
   "cell_type": "code",
   "execution_count": null,
   "metadata": {},
   "outputs": [],
   "source": [
    "#Exercise5\n",
    "def make_person(last_name, first_name, age=None):\n",
    "    person = {'last': last_name, 'first': first_name}\n",
    "    if age:\n",
    "        person['age'] = age\n",
    "    return person\n",
    "\n",
    "data = list(input('入力 >>').split(' '))\n",
    "if len(data) == 2:\n",
    "    print(make_person(data[0], data[1]))\n",
    "elif len(data) == 3:\n",
    "    print(make_person(data[0], data[1], int(data[2])))\n",
    "else:\n",
    "    print('Please input correctly')"
   ]
  },
  {
   "cell_type": "code",
   "execution_count": null,
   "metadata": {},
   "outputs": [],
   "source": [
    "#Exercise6\n",
    "def display_args(*args):\n",
    "    for a in args:\n",
    "        print(a, end=' ')\n",
    "\n",
    "display_args(20,40,60)\n",
    "print('')\n",
    "display_args(88, 777)"
   ]
  },
  {
   "cell_type": "code",
   "execution_count": null,
   "metadata": {},
   "outputs": [],
   "source": [
    "#Exercise7\n",
    "def display_kwargs(**kwargs):\n",
    "    print(kwargs)\n",
    "    for k, v in kwargs.items():\n",
    "        print(f'{k}:{v}', end=' ')\n",
    "\n",
    "display_kwargs(one='1', two='2', three='3')\n",
    "print('')\n",
    "display_kwargs(a='b', lucky=777)"
   ]
  },
  {
   "cell_type": "code",
   "execution_count": null,
   "metadata": {},
   "outputs": [],
   "source": [
    "#Exercise8\n",
    "def func(first='1st', second='2nd'):\n",
    "    print(first, second)\n",
    "\n",
    "d = {'first':'One', 'second':'Two'}\n",
    "t = (3, 4)\n",
    "func(**d)\n",
    "func(*t)"
   ]
  },
  {
   "cell_type": "code",
   "execution_count": null,
   "metadata": {},
   "outputs": [],
   "source": [
    "#Exercise9\n",
    "def change_list(data):\n",
    "    work = []\n",
    "    for row in data:\n",
    "        for elem in row:\n",
    "            work.append(elem)\n",
    "    return work\n",
    "\n",
    "print(change_list([[1,2,3],[4,5,6]]))"
   ]
  },
  {
   "cell_type": "code",
   "execution_count": null,
   "metadata": {},
   "outputs": [],
   "source": [
    "#Exercise10\n",
    "def is_palindrome(string):\n",
    "    left_pos = 0\n",
    "    right_pos = len(string) - 1\n",
    "    while right_pos >= left_pos:\n",
    "        if not string[left_pos] == string[right_pos]:\n",
    "            return False\n",
    "        left_pos += 1\n",
    "        right_pos -= 1\n",
    "    return True\n",
    "\n",
    "print(is_palindrome('madam'))\n",
    "print(is_palindrome('しんぶんし'))\n",
    "print(is_palindrome('adam'))"
   ]
  },
  {
   "cell_type": "code",
   "execution_count": null,
   "metadata": {},
   "outputs": [],
   "source": [
    "#Exercise11\n",
    "def pyramid(word, num):\n",
    "  s = \"\"\n",
    "  for i in range(1, num+1):\n",
    "    for j in range(i):\n",
    "      s += word\n",
    "    s += \"\\n\"\n",
    "  return s\n",
    "\n",
    "w, n = input('入力 >>').split(',')\n",
    "print(pyramid(w, int(n)))"
   ]
  },
  {
   "cell_type": "code",
   "execution_count": null,
   "metadata": {},
   "outputs": [],
   "source": [
    "#Exercise12\n",
    "def max_min(data):\n",
    "  l = int(data[0])\n",
    "  s = int(data[0])\n",
    "  for num in data:\n",
    "    num = int(num)\n",
    "    if num > l:\n",
    "      l = num\n",
    "    elif num < s:\n",
    "        s = num\n",
    "  return l, s\n",
    "\n",
    "nums = list(input('入力 >>').split(','))\n",
    "maximum, minimum = max_min(nums)\n",
    "print(f'最大：{maximum}、最小：{minimum}')"
   ]
  },
  {
   "cell_type": "code",
   "execution_count": null,
   "metadata": {},
   "outputs": [],
   "source": [
    "#Exercise13\n",
    "def mapping(func, *args):\n",
    "    data = []\n",
    "    for x in args:\n",
    "        data.append(func(x))\n",
    "    return data\n",
    "\n",
    "l = mapping(int, '1','2','3','4')\n",
    "print(l)\n",
    "print(type(l[0]))"
   ]
  },
  {
   "cell_type": "code",
   "execution_count": null,
   "metadata": {},
   "outputs": [],
   "source": [
    "#Exercise14\n",
    "def calc(a, b):\n",
    "    return a+b, a-b\n",
    "\n",
    "add, sub = calc(40, 10)\n",
    "print(add, sub)"
   ]
  },
  {
   "cell_type": "code",
   "execution_count": null,
   "metadata": {},
   "outputs": [],
   "source": [
    "#Exercise15\n",
    "def outer(a, b):\n",
    "    def inner(a,b):\n",
    "        return a+b\n",
    "    add = inner(a, b)\n",
    "    return add+5\n",
    "\n",
    "result = outer(5, 10)\n",
    "print(result)"
   ]
  },
  {
   "cell_type": "code",
   "execution_count": null,
   "metadata": {},
   "outputs": [],
   "source": [
    "#Exercise16\n",
    "def arrange_list(data):\n",
    "    work = [[0] * len(data[0]) for i in range(len(data))]\n",
    "    for i in range(len(data)):\n",
    "        for j in range(len(data[i])):\n",
    "            work[j][i] = data[i][j]\n",
    "    return work\n",
    "\n",
    "print(arrange_list([[1,2,3],[4,5,6],[7,8,9]]))"
   ]
  },
  {
   "cell_type": "code",
   "execution_count": null,
   "metadata": {},
   "outputs": [],
   "source": [
    "#Exercise17,18\n",
    "num_list = [1,2,3,4,5,6,7,8,9,10]\n",
    "def is_even(n):\n",
    "    return n%2==0\n",
    "\n",
    "def pickup(func, nums):\n",
    "    work = []\n",
    "    for n in nums:\n",
    "        if func(n):\n",
    "            work.append(n)\n",
    "    return work\n",
    "\n",
    "print(pickup(is_even, num_list))\n",
    "print(pickup(lambda n: n%2==0, num_list)) #Exercise17"
   ]
  },
  {
   "cell_type": "code",
   "execution_count": null,
   "metadata": {},
   "outputs": [],
   "source": [
    "#Exercise19,20\n",
    "num_list = [1,2,3,4,5,6,7,8,9,10]\n",
    "def double(n):\n",
    "    return n*2\n",
    "\n",
    "def modify(func, nums):\n",
    "    work = []\n",
    "    for n in nums:\n",
    "        work.append(func(n))\n",
    "    return work\n",
    "\n",
    "print(modify(double, num_list))\n",
    "print(modify(lambda n: n*2, num_list)) #Exercise19"
   ]
  },
  {
   "cell_type": "code",
   "execution_count": null,
   "metadata": {},
   "outputs": [],
   "source": [
    "#Exercise21\n",
    "def wrapp(func, *args):\n",
    "    print('----- START -----')\n",
    "    func(*args)\n",
    "    print('----- END -----')\n",
    "\n",
    "def output(*args):\n",
    "    print(*args)\n",
    "\n",
    "wrapp(output, 'hello', 'hoge', 'foobar')"
   ]
  },
  {
   "cell_type": "code",
   "execution_count": null,
   "metadata": {},
   "outputs": [],
   "source": [
    "#Exercise22\n",
    "def decorator(func):\n",
    "    def new_func(*args, **kwargs):\n",
    "        print('----- START -----')\n",
    "        func(*args, **kwargs)\n",
    "        print('----- END -----')\n",
    "    return new_func\n",
    "\n",
    "@decorator\n",
    "def output(*args):\n",
    "    print(*args)\n",
    "\n",
    "output('foo', 'bar', 'hogehoge')"
   ]
  },
  {
   "cell_type": "code",
   "execution_count": null,
   "metadata": {},
   "outputs": [],
   "source": [
    "#Exercise23\n",
    "def count_up():\n",
    "    n=1\n",
    "    while True:\n",
    "        yield n\n",
    "        n+=1\n",
    "\n",
    "generator = count_up()\n",
    "for num in generator:\n",
    "    print(num, end=' ')\n",
    "    if num == 7:\n",
    "        break\n",
    "\n",
    "print('')\n",
    "\n",
    "for num in generator:\n",
    "    print(num, end=' ')\n",
    "    if num == 15:\n",
    "        break"
   ]
  },
  {
   "cell_type": "code",
   "execution_count": null,
   "metadata": {},
   "outputs": [],
   "source": [
    "#Exercise24\n",
    "def even_number(n):\n",
    "    i = 0\n",
    "    while i <= n:\n",
    "        if i % 2 == 0:\n",
    "            yield i\n",
    "        i += 1\n",
    "\n",
    "for num in even_number(10):\n",
    "    print(num, end=' ')\n",
    "print('')\n",
    "for num in even_number(20):\n",
    "    print(num, end=' ')"
   ]
  },
  {
   "cell_type": "code",
   "execution_count": null,
   "metadata": {},
   "outputs": [],
   "source": [
    "#Exercise25\n",
    "def make_dict(ite1, ite2):\n",
    "    '''\n",
    "    第1引数をキー、第2引数を値として辞書を作成する\n",
    "    処理内容：\n",
    "        1. 2つの引数のデータが同じ要素数かチェック\n",
    "        2. 真なら辞書を作成し返却\n",
    "    '''\n",
    "    if len(ite1) == len(ite2):\n",
    "        return dict(zip(ite1, ite2))\n",
    "\n",
    "print(make_dict(['a','b','c'], [1,2,3]))\n",
    "print(make_dict.__doc__)"
   ]
  },
  {
   "cell_type": "code",
   "execution_count": null,
   "metadata": {},
   "outputs": [],
   "source": [
    "#Exercise26\n",
    "def func(data):\n",
    "#    for i in range(len(data)):\n",
    "#        data[i] *= 2\n",
    "    data = [n*2 for n in data]\n",
    "    return data\n",
    "\n",
    "nums = [1,2,3,4,5]\n",
    "print(func(nums))\n",
    "print(nums)"
   ]
  },
  {
   "cell_type": "code",
   "execution_count": null,
   "metadata": {},
   "outputs": [],
   "source": [
    "#Exercise27\n",
    "def is_alphabet(s):\n",
    "    alph = {' ','a','b','c','d','e','f','g','h','i','j','k','l','m','n','o','p','q','r','s','t','u','v','w','x','y','z'}\n",
    "    return alph >= set(s.lower())\n",
    "\n",
    "print(is_alphabet('I like Python which is fantastic language'))"
   ]
  },
  {
   "cell_type": "code",
   "execution_count": null,
   "metadata": {},
   "outputs": [],
   "source": [
    "#Exercise28\n",
    "def substring_copy(str, n):\n",
    "    flen = 2\n",
    "    if flen > len(str):\n",
    "        flen = len(str)\n",
    "    substr = str[:flen]\n",
    "\n",
    "    result = ''\n",
    "    for i in range(n):\n",
    "        result = result + substr\n",
    "    return result\n",
    "\n",
    "print(substring_copy('abcdef', 2))\n",
    "print(substring_copy('p', 3))"
   ]
  },
  {
   "cell_type": "code",
   "execution_count": null,
   "metadata": {},
   "outputs": [],
   "source": [
    "#Exercise29\n",
    "def multiply_or_sum(num1, num2):\n",
    "    res = num1 * num2\n",
    "    if res <= 1000:\n",
    "        return res\n",
    "    else:\n",
    "        return num1 + num2\n",
    "\n",
    "result = multiply_or_sum(20, 30)\n",
    "print('結果は', result)\n",
    "result = multiply_or_sum(40, 30)\n",
    "print('結果は', result)"
   ]
  },
  {
   "cell_type": "code",
   "execution_count": null,
   "metadata": {},
   "outputs": [],
   "source": [
    "#Exercise30\n",
    "def exponent(base, exp):\n",
    "    num = exp\n",
    "    result = 1\n",
    "    while num > 0:\n",
    "        result = result * base\n",
    "        num = num - 1\n",
    "    print(f'{base}の{exp}乗は{result}')\n",
    "\n",
    "exponent(5, 4)"
   ]
  },
  {
   "cell_type": "code",
   "execution_count": 11,
   "metadata": {},
   "outputs": [
    {
     "name": "stdout",
     "output_type": "stream",
     "text": [
      "False\n",
      "True\n",
      "[1, -2, 5]\n"
     ]
    }
   ],
   "source": [
    "#Exercise31\n",
    "def int_able(n):\n",
    "    try:\n",
    "        int(n)\n",
    "    except:\n",
    "        return False\n",
    "    return True\n",
    "\n",
    "print(int_able('a'))\n",
    "print(int_able('1'))\n",
    "\n",
    "work = ['1', '-2', '3.0', 'four', 5.0]\n",
    "res = [int(n) for n in work if int_able(n)]\n",
    "print(res)"
   ]
  },
  {
   "cell_type": "code",
   "execution_count": null,
   "metadata": {},
   "outputs": [],
   "source": [
    "#Exercise32\n",
    "def is_prime(n):\n",
    "    if n<=1:\n",
    "        return False\n",
    "    elif n==2:\n",
    "        return True;\n",
    "    else:\n",
    "        for x in range(2,n):\n",
    "            if n % x==0: #自身以外で割り切れる数がある場合は素数でない\n",
    "                return False\n",
    "        return True             \n",
    "\n",
    "print(is_prime(29))"
   ]
  },
  {
   "cell_type": "code",
   "execution_count": null,
   "metadata": {},
   "outputs": [],
   "source": [
    "#Exercise33\n",
    "def prime_number(start, end):\n",
    "    result = []\n",
    "    for num in range(start, end+1):\n",
    "        if num > 1:\n",
    "            for i in range(2, num):\n",
    "                if num%i == 0: #割り切れる数がある場合は素数でない\n",
    "                    break\n",
    "            if i+1 == num: #自身以外割り切れる数が無い場合は素数（else: でも良い）\n",
    "                result.append(num)\n",
    "    return result\n",
    "print(prime_number(25,50))"
   ]
  }
 ],
 "metadata": {
  "interpreter": {
   "hash": "e175e2d1a69ec44a53513b33867561d513a585d5b2228589977b3e28bb8f7a45"
  },
  "kernelspec": {
   "display_name": "Python 3.9.2 64-bit ('3.9.2': pyenv)",
   "name": "python3"
  },
  "language_info": {
   "codemirror_mode": {
    "name": "ipython",
    "version": 3
   },
   "file_extension": ".py",
   "mimetype": "text/x-python",
   "name": "python",
   "nbconvert_exporter": "python",
   "pygments_lexer": "ipython3",
   "version": "3.9.2"
  },
  "orig_nbformat": 2
 },
 "nbformat": 4,
 "nbformat_minor": 2
}