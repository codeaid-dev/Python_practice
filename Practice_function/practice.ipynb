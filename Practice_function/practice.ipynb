{
 "cells": [
  {
   "cell_type": "code",
   "execution_count": null,
   "metadata": {},
   "outputs": [],
   "source": [
    "#Q1\n",
    "def func(first='1st', second='2nd'):\n",
    "    print(first, second)"
   ]
  },
  {
   "cell_type": "code",
   "execution_count": null,
   "metadata": {},
   "outputs": [],
   "source": [
    "#Q2\n",
    "def func(first='1st', second='2nd'):\n",
    "    print(first, second)\n",
    "\n",
    "d = {'first':'One', 'second':'Two'}\n",
    "l = [3, 4]\n",
    "t = ('a', 'b')\n",
    "func(*d)\n",
    "func(**d)\n",
    "#func(d['first'],d['second'])\n",
    "func(*l)\n",
    "#func(l[0],l[1])\n",
    "func(*t)\n",
    "#func(t[0],t[1])"
   ]
  },
  {
   "cell_type": "code",
   "execution_count": null,
   "metadata": {},
   "outputs": [],
   "source": [
    "#Q3\n",
    "def info(func):\n",
    "    def add_info(*args, **kwargs):\n",
    "        print('-- start --')\n",
    "        result = func(*args, **kwargs)\n",
    "        print('-- end --')\n",
    "        return result\n",
    "    return add_info\n",
    "\n",
    "@info\n",
    "def func(first='1st', second='2nd'):\n",
    "    print(first, second)\n",
    "\n",
    "func('Hello', 'World!')"
   ]
  },
  {
   "cell_type": "code",
   "execution_count": null,
   "metadata": {},
   "outputs": [],
   "source": [
    "#Q4\n",
    "def my_range():\n",
    "    number = 1\n",
    "    while number < 10:\n",
    "        yield number\n",
    "        number += 2\n",
    "\n",
    "l = [n for n in my_range()]\n",
    "print(l)"
   ]
  },
  {
   "cell_type": "code",
   "execution_count": null,
   "metadata": {},
   "outputs": [],
   "source": [
    "#Q5\n",
    "def make_sqlist(n):\n",
    "    l = []\n",
    "    for i in range(1,n+1):\n",
    "        l.append(2**i)\n",
    "    return l\n",
    "\n",
    "print(make_sqlist(10))"
   ]
  },
  {
   "cell_type": "code",
   "execution_count": null,
   "metadata": {},
   "outputs": [],
   "source": [
    "#Q6\n",
    "def is_palindrome(string):\n",
    "\tleft_pos = 0\n",
    "\tright_pos = len(string) - 1\n",
    "\n",
    "\twhile right_pos >= left_pos:\n",
    "\t\tif not string[left_pos] == string[right_pos]:\n",
    "\t\t\treturn False\n",
    "\t\tleft_pos += 1\n",
    "\t\tright_pos -= 1\n",
    "\treturn True\n",
    "\n",
    "print(is_palindrome('axa'))\n",
    "print(is_palindrome('ab'))\n",
    "print(is_palindrome('しんぶんし'))\n"
   ]
  },
  {
   "cell_type": "code",
   "execution_count": null,
   "metadata": {},
   "outputs": [],
   "source": [
    "#Q7\n",
    "nums = [[2,3,1,0],[3,2,0,1],[1,0,3,2],[0,1,2,3]]\n",
    "nums.sort(key=lambda nums:nums[1])\n",
    "print(nums)"
   ]
  },
  {
   "cell_type": "code",
   "execution_count": null,
   "metadata": {},
   "outputs": [],
   "source": [
    "#Q8\n",
    "def showargs(*args, **kwargs):\n",
    "    print(f'args: {args}')\n",
    "    print(f'kwargs: {kwargs}')\n",
    "\n",
    "showargs(1,2,a=3,b=4)"
   ]
  },
  {
   "cell_type": "code",
   "execution_count": null,
   "metadata": {},
   "outputs": [],
   "source": [
    "#Q9\n",
    "def showtext(*args, arg1, arg2):\n",
    "    print(f'show {arg1} and {arg2} (flag: {args})')\n",
    "\n",
    "t = (True,False,True)\n",
    "showtext(arg2='B', arg1='A', *t)"
   ]
  },
  {
   "cell_type": "code",
   "execution_count": null,
   "metadata": {},
   "outputs": [],
   "source": [
    "#Q10\n",
    "def pascal_triangle(n):\n",
    "    row = [1]\n",
    "    col = [0]\n",
    "    for i in range(n):\n",
    "        print(row)\n",
    "        row=[l+r for l,r in zip(row+col, col+row)]\n",
    "    return\n",
    "\n",
    "pascal_triangle(6) "
   ]
  }
 ],
 "metadata": {
  "interpreter": {
   "hash": "aecfffebf68cef656bd08491b6a8d7a85c42907f9cff241c489b68f751e382bc"
  },
  "kernelspec": {
   "display_name": "Python 3.9.7 64-bit ('3.9.7')",
   "language": "python",
   "name": "python3"
  },
  "language_info": {
   "codemirror_mode": {
    "name": "ipython",
    "version": 3
   },
   "file_extension": ".py",
   "mimetype": "text/x-python",
   "name": "python",
   "nbconvert_exporter": "python",
   "pygments_lexer": "ipython3",
   "version": "3.9.7"
  },
  "orig_nbformat": 4
 },
 "nbformat": 4,
 "nbformat_minor": 2
}
