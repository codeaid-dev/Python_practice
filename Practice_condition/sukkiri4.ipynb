{
 "cells": [
  {
   "cell_type": "code",
   "execution_count": 1,
   "metadata": {},
   "outputs": [
    {
     "name": "stdout",
     "output_type": "stream",
     "text": [
      "ひつじが1匹…\n",
      "ひつじが2匹…\n",
      "ひつじが3匹…\n",
      "おやすみなさい…\n"
     ]
    }
   ],
   "source": [
    "#4-4\n",
    "is_awake = True\n",
    "count = 0\n",
    "while is_awake == True:\n",
    "    count += 1\n",
    "    print('ひつじが{}匹…'.format(count))\n",
    "    key = input('もう眠りそうですか？(y/n) >>')\n",
    "    if key == 'y':\n",
    "        is_awake = False\n",
    "print('おやすみなさい…')"
   ]
  },
  {
   "cell_type": "code",
   "execution_count": 3,
   "metadata": {},
   "outputs": [
    {
     "name": "stdout",
     "output_type": "stream",
     "text": [
      "こんにちは\n"
     ]
    }
   ],
   "source": [
    "#4-5\n",
    "count = 0\n",
    "student_num = int(input('学生の数を入力 >>'))\n",
    "score_list = list()\n",
    "while count < student_num:\n",
    "    count += 1\n",
    "    score = int(input('{}人目の試験の得点を入力 >>'.format(count)))\n",
    "    score_list.append(score)\n",
    "print(score_list)\n",
    "total = sum(score_list)\n",
    "print('平均点は{}点です'.format(total / student_num))"
   ]
  },
  {
   "cell_type": "code",
   "execution_count": null,
   "metadata": {},
   "outputs": [],
   "source": []
  }
 ],
 "metadata": {
  "kernelspec": {
   "display_name": "Python 3.9.2 64-bit ('3.9.2': pyenv)",
   "name": "python392jvsc74a57bd0e175e2d1a69ec44a53513b33867561d513a585d5b2228589977b3e28bb8f7a45"
  },
  "language_info": {
   "codemirror_mode": {
    "name": "ipython",
    "version": 3
   },
   "file_extension": ".py",
   "mimetype": "text/x-python",
   "name": "python",
   "nbconvert_exporter": "python",
   "pygments_lexer": "ipython3",
   "version": "3.9.2"
  },
  "orig_nbformat": 2
 },
 "nbformat": 4,
 "nbformat_minor": 2
}