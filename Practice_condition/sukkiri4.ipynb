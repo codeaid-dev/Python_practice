{
 "cells": [
  {
   "cell_type": "code",
   "execution_count": null,
   "metadata": {},
   "outputs": [],
   "source": [
    "#4-4\n",
    "is_awake = True\n",
    "count = 0\n",
    "while is_awake == True:\n",
    "    count += 1\n",
    "    print('ひつじが{}匹…'.format(count))\n",
    "    key = input('もう眠りそうですか？(y/n) >>')\n",
    "    if key == 'y':\n",
    "        is_awake = False\n",
    "print('おやすみなさい…')"
   ]
  },
  {
   "cell_type": "code",
   "execution_count": null,
   "metadata": {},
   "outputs": [],
   "source": [
    "#4-5\n",
    "count = 0\n",
    "student_num = int(input('学生の数を入力 >>'))\n",
    "score_list = list()\n",
    "while count < student_num:\n",
    "    count += 1\n",
    "    score = int(input('{}人目の試験の得点を入力 >>'.format(count)))\n",
    "    score_list.append(score)\n",
    "print(score_list)\n",
    "total = sum(score_list)\n",
    "print('平均点は{}点です'.format(total / student_num))"
   ]
  },
  {
   "cell_type": "code",
   "execution_count": null,
   "metadata": {},
   "outputs": [],
   "source": [
    "#4-6\n",
    "scores = [80, 20, 75, 60]\n",
    "count = 0\n",
    "while count < len(scores):\n",
    "    if scores[count] >= 60:\n",
    "        print('合格')\n",
    "    else:\n",
    "        print('不合格')\n",
    "    count += 1"
   ]
  },
  {
   "cell_type": "code",
   "execution_count": null,
   "metadata": {},
   "outputs": [],
   "source": [
    "#4-7\n",
    "scores = [80, 20, 75, 60]\n",
    "for data in scores:\n",
    "    if data >= 60:\n",
    "        print('合格')\n",
    "    else:\n",
    "        print('不合格')"
   ]
  },
  {
   "cell_type": "code",
   "execution_count": null,
   "metadata": {},
   "outputs": [],
   "source": [
    "#4-8\n",
    "for num in range(3):\n",
    "    print('Pythonは楽しい')"
   ]
  },
  {
   "cell_type": "code",
   "execution_count": 4,
   "metadata": {},
   "outputs": [
    {
     "name": "stdout",
     "output_type": "stream",
     "text": [
      "[28, 20, 25, 22, 27]\n"
     ]
    }
   ],
   "source": [
    "#4-9\n",
    "ages = [28, 50, 8, 20, 78, 25, 22, 10, 27, 33]\n",
    "num = 5\n",
    "samples = list()\n",
    "for age in ages:\n",
    "    if 20 <= age < 30:\n",
    "        if len(samples) < num:\n",
    "            samples.append(age)\n",
    "print(samples)"
   ]
  },
  {
   "cell_type": "code",
   "execution_count": 5,
   "metadata": {},
   "outputs": [
    {
     "name": "stdout",
     "output_type": "stream",
     "text": [
      "[28, 20, 25, 22, 27]\n"
     ]
    }
   ],
   "source": [
    "#4-10\n",
    "ages = [28, 50, 8, 20, 78, 25, 22, 10, 27, 33]\n",
    "num = 5\n",
    "samples = list()\n",
    "for age in ages:\n",
    "    if 20 <= age < 30:\n",
    "        samples.append(age)\n",
    "        if len(samples) == num:\n",
    "            break\n",
    "print(samples)"
   ]
  },
  {
   "cell_type": "code",
   "execution_count": 6,
   "metadata": {},
   "outputs": [
    {
     "name": "stdout",
     "output_type": "stream",
     "text": [
      "[28, 20, 25, 22]\n"
     ]
    }
   ],
   "source": [
    "#4-11\n",
    "ages = [28, 50, 'ひみつ', 20, 78, 25, 22, 10, '無回答', 33]\n",
    "samples = list()\n",
    "for data in ages:\n",
    "    if not isinstance(data, int):\n",
    "        continue\n",
    "    if data < 20 or data >= 30:\n",
    "        continue\n",
    "    samples.append(data)\n",
    "print(samples)"
   ]
  }
 ],
 "metadata": {
  "kernelspec": {
   "display_name": "Python 3.9.2 64-bit ('3.9.2': pyenv)",
   "name": "python392jvsc74a57bd0e175e2d1a69ec44a53513b33867561d513a585d5b2228589977b3e28bb8f7a45"
  },
  "language_info": {
   "codemirror_mode": {
    "name": "ipython",
    "version": 3
   },
   "file_extension": ".py",
   "mimetype": "text/x-python",
   "name": "python",
   "nbconvert_exporter": "python",
   "pygments_lexer": "ipython3",
   "version": "3.9.2"
  },
  "orig_nbformat": 2
 },
 "nbformat": 4,
 "nbformat_minor": 2
}