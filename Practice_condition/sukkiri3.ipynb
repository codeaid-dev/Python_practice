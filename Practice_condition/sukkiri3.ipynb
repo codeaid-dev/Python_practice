{
 "cells": [
  {
   "cell_type": "code",
   "execution_count": 1,
   "metadata": {},
   "outputs": [
    {
     "name": "stdout",
     "output_type": "stream",
     "text": [
      "山田さん、こんにちは\n",
      "私もカレーが好きですよ\n"
     ]
    }
   ],
   "source": [
    "#3-1\n",
    "name = input('あなたの名前を教えて下さい >>')\n",
    "print('{}さん、こんにちは'.format(name))\n",
    "food = input('{}さんの好きな食べ物を教えてください >>'.format(name))\n",
    "print('私も{}が好きですよ'.format(food))"
   ]
  },
  {
   "cell_type": "code",
   "execution_count": 2,
   "metadata": {},
   "outputs": [
    {
     "name": "stdout",
     "output_type": "stream",
     "text": [
      "山田さん、こんにちは\n",
      "素敵です。カレーは最高ですよね！！\n"
     ]
    }
   ],
   "source": [
    "#3-2\n",
    "name = input('あなたの名前を教えて下さい >>')\n",
    "print('{}さん、こんにちは'.format(name))\n",
    "food = input('{}さんの好きな食べ物を教えてください >>'.format(name))\n",
    "if food == 'カレー':\n",
    "    print('素敵です。カレーは最高ですよね！！')\n",
    "else:\n",
    "    print('私も{}が好きですよ'.format(food))"
   ]
  },
  {
   "cell_type": "code",
   "execution_count": 4,
   "metadata": {},
   "outputs": [
    {
     "name": "stdout",
     "output_type": "stream",
     "text": [
      "合格！\n",
      "よくがんばりましたね\n",
      "追試を受けてください\n"
     ]
    }
   ],
   "source": [
    "#3-3\n",
    "score = int(input('試験の点数を入力してください >>'))\n",
    "if score >= 60:\n",
    "    print('合格！')\n",
    "    print('よくがんばりましたね')\n",
    "else:\n",
    "    print('残念ながら不合格です')\n",
    "print('追試を受けてください')"
   ]
  },
  {
   "cell_type": "code",
   "execution_count": 6,
   "metadata": {},
   "outputs": [
    {
     "name": "stdout",
     "output_type": "stream",
     "text": [
      "やまださん、こんにちは\n",
      "素敵です。カレーは最高ですよね！！\n"
     ]
    }
   ],
   "source": [
    "#3-4\n",
    "name = input('あなたの名前を教えて下さい >>')\n",
    "print('{}さん、こんにちは'.format(name))\n",
    "food = input('{}さんの好きな食べ物を教えてください >>'.format(name))\n",
    "if 'カレー' in food:\n",
    "    print('素敵です。カレーは最高ですよね！！')\n",
    "else:\n",
    "    print('私も{}が好きですよ'.format(food))"
   ]
  },
  {
   "cell_type": "code",
   "execution_count": 7,
   "metadata": {},
   "outputs": [
    {
     "name": "stdout",
     "output_type": "stream",
     "text": [
      "100点満点の試験があったんですね。おめでとう！\n"
     ]
    }
   ],
   "source": [
    "scores = [80, 100, 20, 60]\n",
    "if 100 in scores:\n",
    "    print('100点満点の試験があったんですね。おめでとう！')\n",
    "else:\n",
    "    print('次はどれか1つでも100点満点をとろう')"
   ]
  }
 ],
 "metadata": {
  "kernelspec": {
   "display_name": "Python 3.9.2 64-bit ('3.9.2': pyenv)",
   "name": "python392jvsc74a57bd0e175e2d1a69ec44a53513b33867561d513a585d5b2228589977b3e28bb8f7a45"
  },
  "language_info": {
   "codemirror_mode": {
    "name": "ipython",
    "version": 3
   },
   "file_extension": ".py",
   "mimetype": "text/x-python",
   "name": "python",
   "nbconvert_exporter": "python",
   "pygments_lexer": "ipython3",
   "version": "3.9.2"
  },
  "orig_nbformat": 2
 },
 "nbformat": 4,
 "nbformat_minor": 2
}