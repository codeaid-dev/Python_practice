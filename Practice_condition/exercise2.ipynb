{
 "cells": [
  {
   "cell_type": "code",
   "execution_count": null,
   "metadata": {},
   "outputs": [],
   "source": [
    "#Exercise1\n",
    "cnt = 0\n",
    "for n1 in range(128,257):\n",
    "    if n1 % 8 == 0:\n",
    "        print(n1, end=' ')\n",
    "        cnt += 1\n",
    "\n",
    "print(f'\\n8の倍数は{cnt}個')"
   ]
  },
  {
   "cell_type": "code",
   "execution_count": null,
   "metadata": {},
   "outputs": [],
   "source": [
    "#Exercise2\n",
    "for i in range(1,9):\n",
    "    print(f'2の{i}乗={2**i}')"
   ]
  },
  {
   "cell_type": "code",
   "execution_count": null,
   "metadata": {},
   "outputs": [],
   "source": [
    "#Exercise3\n",
    "for i in range(10):\n",
    "    num = int(input('入力 >>'))\n",
    "    if i == 0:\n",
    "        max_num = num\n",
    "        min_num = num\n",
    "    else:\n",
    "        if num > max_num:\n",
    "            max_num = num\n",
    "        if num < min_num:\n",
    "            min_num = num\n",
    "print(f'最大値={max_num} 最小値={min_num}')"
   ]
  },
  {
   "cell_type": "code",
   "execution_count": null,
   "metadata": {},
   "outputs": [],
   "source": [
    "#Exercise4\n",
    "num = int(input('入力 >>'))\n",
    "for i in range(num):\n",
    "    print(f'{i % 10}', end='')\n",
    "\n",
    "print()\n",
    "s = ''\n",
    "for i in range(num):\n",
    "    s += str(i%10)\n",
    "print(s)"
   ]
  },
  {
   "cell_type": "code",
   "execution_count": null,
   "metadata": {},
   "outputs": [],
   "source": [
    "#Exercise5\n",
    "size = int(input('入力 >>'))\n",
    "for y in range(size):\n",
    "    for x in range(size):\n",
    "        if y == x or (size - y - 1) == x:\n",
    "            print('X', end='')\n",
    "        else:\n",
    "            print(' ', end='')\n",
    "    print()"
   ]
  }
 ],
 "metadata": {
  "kernelspec": {
   "display_name": "Python 3.10.3 64-bit ('3.10.3')",
   "language": "python",
   "name": "python3"
  },
  "language_info": {
   "codemirror_mode": {
    "name": "ipython",
    "version": 3
   },
   "file_extension": ".py",
   "mimetype": "text/x-python",
   "name": "python",
   "nbconvert_exporter": "python",
   "pygments_lexer": "ipython3",
   "version": "3.10.3"
  },
  "orig_nbformat": 4,
  "vscode": {
   "interpreter": {
    "hash": "ab64589ac9d6bd956e857448da5e411ff91b136249a71239f0da316d67e65b64"
   }
  }
 },
 "nbformat": 4,
 "nbformat_minor": 2
}
