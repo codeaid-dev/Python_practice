{
 "cells": [
  {
   "cell_type": "code",
   "execution_count": null,
   "metadata": {},
   "outputs": [],
   "source": [
    "#Exercise1\n",
    "tenki = int(input('天気を入力 >>'))\n",
    "if tenki == 0:\n",
    "    print('晴れです')\n",
    "elif tenki == 1:\n",
    "    print('曇りです')\n",
    "elif tenki == 2:\n",
    "    print('雨です')\n",
    "else:\n",
    "    print('台風です')"
   ]
  },
  {
   "cell_type": "code",
   "execution_count": null,
   "metadata": {},
   "outputs": [],
   "source": [
    "#Exercise2\n",
    "age = int(input('年齢は？ >>'))\n",
    "if age < 20:\n",
    "    print('未成年')\n",
    "else:\n",
    "    print('成人')"
   ]
  },
  {
   "cell_type": "code",
   "execution_count": null,
   "metadata": {},
   "outputs": [],
   "source": [
    "#Exercise3\n",
    "age = int(input('年齢は？ >>'))\n",
    "if age < 20:\n",
    "    print('未成年')\n",
    "else:\n",
    "    if age >= 65 and age < 75:\n",
    "        print('前期高齢者')\n",
    "    elif age >= 70:\n",
    "        print('後期高齢者')\n",
    "    else:\n",
    "        print('成人')"
   ]
  },
  {
   "cell_type": "code",
   "execution_count": null,
   "metadata": {},
   "outputs": [],
   "source": [
    "#Exercise4\n",
    "age = int(input('年齢は？ >>'))\n",
    "if age < 20:\n",
    "    if age >= 6 and age <= 15:\n",
    "        print('未成年（義務教育の対象）')\n",
    "    else:\n",
    "        print('未成年')\n",
    "else:\n",
    "    if age >= 65 and age < 75:\n",
    "        print('前期高齢者')\n",
    "    elif age >= 75:\n",
    "        print('後期高齢者')\n",
    "    else:\n",
    "        print('成人')"
   ]
  },
  {
   "cell_type": "code",
   "execution_count": null,
   "metadata": {},
   "outputs": [],
   "source": [
    "#Exercise5\n",
    "frt1,frt2 = \"Apple\",\"Banana\"\n",
    "veg1,veg2 = \"Carrot\",\"Onion\"\n",
    "ans = input('どれですか？ >>')\n",
    "if ans == frt1 or ans == frt2:\n",
    "    print('フルーツです')\n",
    "elif ans == veg1 or ans == veg2:\n",
    "    print('野菜です')\n",
    "else:\n",
    "    print('それはありません')"
   ]
  },
  {
   "cell_type": "code",
   "execution_count": null,
   "metadata": {},
   "outputs": [],
   "source": [
    "#Exercise6\n",
    "w1 = input('入力1 >>')\n",
    "w2 = input('入力2 >>')\n",
    "if w1.lower() == w2.lower():\n",
    "    print('同じです')\n",
    "else:\n",
    "    print('違います')"
   ]
  },
  {
   "cell_type": "code",
   "execution_count": null,
   "metadata": {},
   "outputs": [],
   "source": [
    "#Exercise7\n",
    "sentence = '''芥川龍之介\n",
    "吾輩は猫である。名前はまだ無い。\n",
    "どこで生れたかとんと見当がつかぬ。\n",
    "'''\n",
    "if not sentence.startswith('夏目漱石'):\n",
    "    f = sentence.find('\\n')\n",
    "    r = sentence[:f]\n",
    "    print(sentence.replace(r, '夏目漱石'))"
   ]
  },
  {
   "cell_type": "code",
   "execution_count": null,
   "metadata": {},
   "outputs": [],
   "source": [
    "#Exercise8\n",
    "m = int(input('所持金 >>'))\n",
    "f = int(input('借りられる金額 >>'))\n",
    "b = int(input('本の値段 >>'))\n",
    "if m+f < b:\n",
    "    print('購入できません')\n",
    "elif m >= b:\n",
    "    print('0円です')\n",
    "else:\n",
    "    print(f'{b-m}円です')"
   ]
  },
  {
   "cell_type": "code",
   "execution_count": null,
   "metadata": {},
   "outputs": [],
   "source": [
    "#Exercise9-1\n",
    "w1 = input('文字列入力 >>')\n",
    "\n",
    "w2 = ''\n",
    "while len(w2) != 1:\n",
    "    w2 = input('数える文字 >>')\n",
    "\n",
    "count = 0\n",
    "for i in range(len(w1)):\n",
    "    if w1 == w2:\n",
    "        count += 1\n",
    "print(f'\"{w1}\"にある\"{w2}\"の数は、{count}個')"
   ]
  },
  {
   "cell_type": "code",
   "execution_count": null,
   "metadata": {},
   "outputs": [],
   "source": [
    "#Exercise9-2\n",
    "w1 = input('文字列入力 >>')\n",
    "\n",
    "w2 = ''\n",
    "while len(w2) == 0 or len(w2) > len(w1):\n",
    "    w2 = input('数える文字列 >>')\n",
    "\n",
    "count = 0\n",
    "for i in range(len(w1)):\n",
    "    if w1[i:i+len(w2)] == w2:\n",
    "        count += 1\n",
    "print(f'\"{w1}\"にある\"{w2}\"の数は、{count}個')"
   ]
  },
  {
   "cell_type": "code",
   "execution_count": null,
   "metadata": {},
   "outputs": [],
   "source": [
    "#Exercise10\n",
    "words = \"\"\n",
    "while len(words) < 10:\n",
    "    words += input('半角英数字入力 >>')\n",
    "words = words[:10]\n",
    "print(words)"
   ]
  },
  {
   "cell_type": "code",
   "execution_count": null,
   "metadata": {},
   "outputs": [],
   "source": [
    "#Exercise11\n",
    "w = input('入力 >>')\n",
    "a,b = \"\",\"\"\n",
    "for i in range(len(w)):\n",
    "    if w[i] == 'A':\n",
    "        a += w[i]\n",
    "    elif w[i] == 'B':\n",
    "        b += w[i]\n",
    "print(f'結果表示： {a}{b}')"
   ]
  },
  {
   "cell_type": "code",
   "execution_count": null,
   "metadata": {},
   "outputs": [],
   "source": [
    "#Exercise12\n",
    "for i in range(1,21):\n",
    "    if i % 2 == 0 and i % 4 != 0:\n",
    "        print(str(i))\n",
    "\n",
    "#for i in range(1,21):\n",
    "#    if i % 4 == 0:\n",
    "#        continue\n",
    "#    if i % 2 == 0:\n",
    "#        print(str(i))"
   ]
  },
  {
   "cell_type": "code",
   "execution_count": null,
   "metadata": {},
   "outputs": [],
   "source": [
    "#Exercise13\n",
    "cnt = 0\n",
    "for i in range(1,31):\n",
    "    cnt += i\n",
    "    if i == 10 or i == 20 or i == 30:\n",
    "        print(f'{i-9}から{i}の合計：{cnt}')\n",
    "        cnt = 0\n"
   ]
  },
  {
   "cell_type": "code",
   "execution_count": null,
   "metadata": {},
   "outputs": [],
   "source": [
    "#Exercise14\n",
    "s = ''\n",
    "for i in range(1, 31):\n",
    "  if i%3 == 0 and i%5 == 0:\n",
    "    s += \"FizzBuzz\"\n",
    "  elif i%3 == 0:\n",
    "    s += \"Fizz\"\n",
    "  elif i%5 == 0:\n",
    "    s += \"Buzz\"\n",
    "  else:\n",
    "    s += str(i)\n",
    "  s += ' '\n",
    "print(s)\n",
    "\n",
    "for i in range(1, 31):\n",
    "  if i%3 == 0 and i%5 == 0:\n",
    "    print(\"FizzBuzz\", end=' ')\n",
    "  elif i%3 == 0:\n",
    "    print(\"Fizz\", end=' ')\n",
    "  elif i%5 == 0:\n",
    "    print(\"Buzz\", end=' ')\n",
    "  else:\n",
    "    print(i, end=' ')"
   ]
  },
  {
   "cell_type": "code",
   "execution_count": null,
   "metadata": {},
   "outputs": [],
   "source": [
    "#Exercise15\n",
    "yen1,yen5 = 2,1\n",
    "total = yen5 * 5 + yen1\n",
    "for i in range(1, total+1):\n",
    "    if i % 5 <= yen1:\n",
    "        print(str(i))"
   ]
  },
  {
   "cell_type": "code",
   "execution_count": null,
   "metadata": {},
   "outputs": [],
   "source": [
    "#Exercise16\n",
    "w1 = input('入力1 >>')\n",
    "w2 = input('入力2 >>')\n",
    "cnt = 0\n",
    "for i in range(len(w1)):\n",
    "    if w1[i] == w2[i]:\n",
    "        cnt += 1\n",
    "print(f'同じ文字は：{cnt}個')"
   ]
  },
  {
   "cell_type": "code",
   "execution_count": null,
   "metadata": {},
   "outputs": [],
   "source": [
    "#Excercise17\n",
    "num = input('入力 >>')\n",
    "total, count = 0, 0\n",
    "while not 'end' == num:\n",
    "    total += int(num)\n",
    "    count += 1\n",
    "    num = input('入力 >>')\n",
    "print(f'{count}回入力・合計{total}・平均{total/count}')"
   ]
  },
  {
   "cell_type": "code",
   "execution_count": null,
   "metadata": {},
   "outputs": [],
   "source": [
    "#Excercise18\n",
    "f = -50\n",
    "while f <= 50:\n",
    "  c = (f - 32) * 5 / 9\n",
    "  print(f\"華氏{f}度 = 摂氏{c:.2f}度\")\n",
    "  f += 10"
   ]
  },
  {
   "cell_type": "code",
   "execution_count": null,
   "metadata": {},
   "outputs": [],
   "source": [
    "#Excercise19\n",
    "words = input('入力 >>')\n",
    "if len(words) > 2:\n",
    "    if words[-2:] == 'です' or words[-2:] == 'ます':\n",
    "        words = words[:-2] + 'である'\n",
    "print(words)"
   ]
  },
  {
   "cell_type": "code",
   "execution_count": null,
   "metadata": {},
   "outputs": [],
   "source": [
    "#Excercise20\n",
    "words = input('入力 >>')\n",
    "remain = input('残す文字 >>')\n",
    "res = ''\n",
    "for char in words:\n",
    "    if char == remain:\n",
    "        res += char\n",
    "print(res)\n",
    "#print(''.join([char for char in words if char == remain]))"
   ]
  },
  {
   "cell_type": "code",
   "execution_count": null,
   "metadata": {},
   "outputs": [],
   "source": [
    "#Excercise21\n",
    "import random\n",
    "num = random.randint(1,20)\n",
    "result = ''\n",
    "for i in range(1,num+1):\n",
    "    if num % i == 0:\n",
    "        result += f'{i}x{int(num/i)}={num} '\n",
    "print(result)"
   ]
  },
  {
   "cell_type": "code",
   "execution_count": null,
   "metadata": {},
   "outputs": [],
   "source": [
    "#Excercise22\n",
    "import random\n",
    "num = random.randint(1,20)\n",
    "result = ''\n",
    "for i in range(1,num+1):\n",
    "    if i > num/i:\n",
    "        break\n",
    "    if num % i == 0:\n",
    "        result += f'{i}x{int(num/i)}={num} '\n",
    "print(result)"
   ]
  },
  {
   "cell_type": "code",
   "execution_count": null,
   "metadata": {},
   "outputs": [],
   "source": [
    "#Excercise23\n",
    "s = input('入力 >>')\n",
    "if len(s) > len(set(s)):\n",
    "    print('複数あります')\n",
    "else:\n",
    "    print('複数ありません')\n",
    "\n",
    "for w in s:\n",
    "    if s.count(w) >= 2:\n",
    "        print('複数あります')\n",
    "        break\n",
    "else:\n",
    "    print('複数ありません')"
   ]
  },
  {
   "cell_type": "code",
   "execution_count": null,
   "metadata": {},
   "outputs": [],
   "source": [
    "#Excercise24\n",
    "letter = 'Beautiful is better than ugly.'\n",
    "word = input('入力 >>')\n",
    "for char in letter:\n",
    "    if word == char:\n",
    "        print(f'{word}を見つけました')\n",
    "        break\n",
    "else:\n",
    "    print(f'{word}は見つかりませんでした')\n",
    "\n",
    "pos = 0\n",
    "while pos < len(letter):\n",
    "    if word == letter[pos]:\n",
    "        print(f'{word}を見つけました')\n",
    "        break\n",
    "    pos += 1\n",
    "else:\n",
    "    print(f'{word}は見つかりませんでした')"
   ]
  },
  {
   "cell_type": "code",
   "execution_count": null,
   "metadata": {},
   "outputs": [],
   "source": [
    "#Excercise25\n",
    "import random\n",
    "\n",
    "uranai = random.randint(1, 10)\n",
    "if uranai > 0 and uranai <= 1:\n",
    "    print('今日は最高！')\n",
    "elif uranai > 1 and uranai <= 4:\n",
    "    print('今日はそこそこです')\n",
    "elif uranai > 4 and uranai <= 8:\n",
    "    print('今日はまぁまぁ')\n",
    "else:\n",
    "    print('今日は最悪・・・')"
   ]
  },
  {
   "cell_type": "code",
   "execution_count": null,
   "metadata": {},
   "outputs": [],
   "source": [
    "#Excercise26\n",
    "n, m = input('入力 >>').split(',')\n",
    "n = int(n)\n",
    "m = int(m)\n",
    "cnt = 0\n",
    "for x in range(n,m+1):\n",
    "    if (n+m+x)%3 < 1:\n",
    "        cnt += 1\n",
    "print(f'整数の平均値は{cnt}個')"
   ]
  },
  {
   "cell_type": "code",
   "execution_count": null,
   "metadata": {},
   "outputs": [],
   "source": [
    "#Excercise27\n",
    "num = 7536\n",
    "print(num)\n",
    "result = ''\n",
    "while num > 0:\n",
    "    digit = num % 10\n",
    "    result += str(digit) + ' '\n",
    "    num = num // 10\n",
    "print(result)"
   ]
  },
  {
   "cell_type": "code",
   "execution_count": null,
   "metadata": {},
   "outputs": [],
   "source": [
    "#Excercise28\n",
    "import random\n",
    "r,b,w = 0,0,0\n",
    "for i in range(3):\n",
    "    num = random.randint(1,3)\n",
    "    if num == 1:\n",
    "        r += 1\n",
    "    elif num == 2:\n",
    "        b += 1\n",
    "    else:\n",
    "        w += 1\n",
    "if r == 3 or b == 3 or w == 3 or r == 1 and b == 1 and w == 1:\n",
    "    print(f'赤が{r}、青が{b}、白が{w}で勝ち')\n",
    "else:\n",
    "    print(f'赤が{r}、青が{b}、白が{w}で負け')"
   ]
  },
  {
   "cell_type": "code",
   "execution_count": null,
   "metadata": {},
   "outputs": [],
   "source": [
    "#Excercise29\n",
    "mail = input('メール >>')\n",
    "at = mail.find('@')\n",
    "if at != -1:\n",
    "    check = mail[at:]\n",
    "    if not '.' in check:\n",
    "        print('無効なメールアドレス')\n",
    "    else:\n",
    "        print('有効なメールアドレス')\n",
    "else:\n",
    "    print('無効なメールアドレス')"
   ]
  },
  {
   "cell_type": "code",
   "execution_count": null,
   "metadata": {},
   "outputs": [],
   "source": [
    "#Excercise30\n",
    "tate, yoko = input('行列数 >>').split(',')\n",
    "chrs = ''\n",
    "for i in range(int(tate)):\n",
    "    for j in range(int(yoko)):\n",
    "        chrs += '●'\n",
    "    print(chrs)\n",
    "    chrs = ''"
   ]
  },
  {
   "cell_type": "code",
   "execution_count": null,
   "metadata": {},
   "outputs": [],
   "source": [
    "#Excercise31-1\n",
    "n,star=5,''\n",
    "for i in range(n):\n",
    "    for j in range(i):\n",
    "        star += '*'\n",
    "    print(star)\n",
    "    star = ''\n",
    "\n",
    "for i in range(n,0,-1):\n",
    "    for j in range(i):\n",
    "        star += '*'\n",
    "    print(star)\n",
    "    star = ''"
   ]
  },
  {
   "cell_type": "code",
   "execution_count": null,
   "metadata": {},
   "outputs": [],
   "source": [
    "#Excercise31-2\n",
    "n=5\n",
    "for i in range(n):\n",
    "    for j in range(i):\n",
    "        print ('*', end=\"\")\n",
    "    print('')\n",
    "\n",
    "for i in range(n,0,-1):\n",
    "    for j in range(i):\n",
    "        print('*', end=\"\")\n",
    "    print('')"
   ]
  },
  {
   "cell_type": "code",
   "execution_count": null,
   "metadata": {},
   "outputs": [],
   "source": [
    "#Excercise32\n",
    "import random\n",
    "for i in range(20):\n",
    "    dice1 = random.randint(1,6)\n",
    "    dice2 = random.randint(1,6)\n",
    "    print(f'{i+1}回目：{dice1},{dice2}')\n",
    "    if dice1 == dice2:\n",
    "        if dice1 % 2 == 0:\n",
    "            print('大当たり')\n",
    "        else:\n",
    "            print('当たり')\n",
    "        break"
   ]
  },
  {
   "cell_type": "code",
   "execution_count": null,
   "metadata": {},
   "outputs": [],
   "source": [
    "#Excercise33\n",
    "#N, M, L, C = map(int,input('はじめの情報>>').split())\n",
    "N, M, L, C = input('はじめの情報>>').split()\n",
    "N, M, L, C = int(N), int(M), int(L), int(C)\n",
    "for i in range(N):\n",
    "    pic_list = input(f'{i+1}行目>>').split()\n",
    "    for j in range(M):\n",
    "        if i == L-1 and j == C-1:\n",
    "            out = pic_list[j]\n",
    "\n",
    "print(f'{L}行{C}列目の整数：{out}')"
   ]
  },
  {
   "cell_type": "code",
   "execution_count": null,
   "metadata": {},
   "outputs": [],
   "source": [
    "#Excercise34-1\n",
    "base = input('入力 >>')\n",
    "flag = False\n",
    "result = ''\n",
    "for i in base:\n",
    "    if i == '(':\n",
    "        result += i\n",
    "        flag = True\n",
    "        continue\n",
    "    if i == ')':\n",
    "        result += i\n",
    "        flag = False\n",
    "        continue\n",
    "    if flag:\n",
    "        result += 'x'\n",
    "    else:\n",
    "        result += i\n",
    "print(result)"
   ]
  },
  {
   "cell_type": "code",
   "execution_count": null,
   "metadata": {},
   "outputs": [],
   "source": [
    "#Excercise34-2\n",
    "base = input('入力 >>')\n",
    "result = ''\n",
    "start = base.find('(')\n",
    "while not start == -1:\n",
    "    end = base.find(')')\n",
    "    if end == -1:\n",
    "        break\n",
    "    result += base[:start+1]\n",
    "    result += 'x'*(end-start-1)+')'\n",
    "    base = base[end+1:]\n",
    "    start = base.find('(')\n",
    "result += base\n",
    "print(result)"
   ]
  },
  {
   "cell_type": "code",
   "execution_count": null,
   "metadata": {},
   "outputs": [],
   "source": [
    "#Excercise35\n",
    "import random\n",
    "\n",
    "cnt = 0\n",
    "while (True):\n",
    "    num = random.randint(1, 20)\n",
    "    if num % 2 == 0 and str(num) not in res:\n",
    "        print(num, end=' ')\n",
    "        cnt += 1\n",
    "        if cnt == 10:\n",
    "            break\n"
   ]
  },
  {
   "cell_type": "code",
   "execution_count": null,
   "metadata": {},
   "outputs": [],
   "source": [
    "#Excercise36\n",
    "nums = '2617398540'\n",
    "\n",
    "for i in range(len(nums)):\n",
    "    if i == 0:\n",
    "        key = nums[i]\n",
    "        print(key, end=' ')\n",
    "    else:\n",
    "        print(nums[int(key)], end=' ')\n",
    "        key = nums[int(key)]"
   ]
  },
  {
   "cell_type": "code",
   "execution_count": null,
   "metadata": {},
   "outputs": [],
   "source": [
    "#Excercise37\n",
    "n = int(input('行数 >>'))\n",
    "for row in range(1,n+1):\n",
    "    result = ''\n",
    "    for col in range(1,row+1):\n",
    "        result += str(col)\n",
    "    print(result)"
   ]
  },
  {
   "cell_type": "code",
   "execution_count": null,
   "metadata": {},
   "outputs": [],
   "source": [
    "#Excercise38\n",
    "s1 = input('文字列1 >>')\n",
    "s2 = input('文字列2 >>')\n",
    "flag = False\n",
    "for i in range(len(s1)):\n",
    "    if s1.count(s1[i]) != s2.count(s1[i]):\n",
    "        flag = True\n",
    "if flag:\n",
    "    print('No')\n",
    "else:\n",
    "    print('Yes')"
   ]
  },
  {
   "cell_type": "code",
   "execution_count": null,
   "metadata": {},
   "outputs": [],
   "source": [
    "#Excercise39\n",
    "s = input('入力 >>')\n",
    "total = 0\n",
    "for i in range(1,10):\n",
    "    total += i*s.count(str(i))\n",
    "print(total)"
   ]
  },
  {
   "cell_type": "code",
   "execution_count": null,
   "metadata": {},
   "outputs": [],
   "source": [
    "#Excercise40\n",
    "w = input('入力 >>')\n",
    "#width, height = map(int, input('並び方 >>').split('x'))\n",
    "width, height = input('並び方 >>').split('x')\n",
    "width, height = int(width), int(height)\n",
    "if len(w) >= width*height:\n",
    "    for y in range(height):\n",
    "        print(w[:width])\n",
    "        w = w[width:]\n",
    "else:\n",
    "    print('Cannot Output')"
   ]
  },
  {
   "cell_type": "code",
   "execution_count": null,
   "metadata": {},
   "outputs": [],
   "source": [
    "#Excercise41\n",
    "src = input('入力：')\n",
    "dst = ''\n",
    "for i in range(len(src)-1,-1,-1):\n",
    "    if src[i] == '>':\n",
    "        dst += '<'\n",
    "    else:\n",
    "        dst += '>'\n",
    "print(src)\n",
    "print(dst)"
   ]
  }
 ],
 "metadata": {
  "kernelspec": {
   "display_name": "Python 3.10.3 64-bit ('3.10.3')",
   "language": "python",
   "name": "python3"
  },
  "language_info": {
   "codemirror_mode": {
    "name": "ipython",
    "version": 3
   },
   "file_extension": ".py",
   "mimetype": "text/x-python",
   "name": "python",
   "nbconvert_exporter": "python",
   "pygments_lexer": "ipython3",
   "version": "3.10.3"
  },
  "orig_nbformat": 2,
  "vscode": {
   "interpreter": {
    "hash": "ab64589ac9d6bd956e857448da5e411ff91b136249a71239f0da316d67e65b64"
   }
  }
 },
 "nbformat": 4,
 "nbformat_minor": 2
}
