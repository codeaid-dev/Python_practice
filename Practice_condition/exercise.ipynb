{
 "cells": [
  {
   "cell_type": "code",
   "execution_count": 28,
   "metadata": {},
   "outputs": [
    {
     "name": "stdout",
     "output_type": "stream",
     "text": [
      "[0, 1, 2, 3, 4, 5, 6, 7, 8, 9]\n",
      "[1, 2, 3, 4, 5, 6, 7, 8, 9, 10]\n",
      "[0, 5, 10, 15, 20, 25]\n",
      "[0, 3, 6, 9]\n",
      "[0, -1, -2, -3, -4, -5, -6, -7, -8, -9]\n",
      "[10, 9, 8, 7, 6, 5, 4, 3, 2, 1, 0]\n"
     ]
    }
   ],
   "source": [
    "print(list(range(10))) #0以上10未満\n",
    "print(list(range(1,11))) #1以上11未満\n",
    "print(list(range(0,30,5))) #0以上30未満、5ずつ\n",
    "print(list(range(0,10,3))) #0以上10未満、3ずつ\n",
    "print(list(range(0,-10,-1))) #0以下-10より上、-1ずつ\n",
    "print(list(range(10,-1,-1))) #10以下-1より上、-1ずつ"
   ]
  },
  {
   "cell_type": "code",
   "execution_count": null,
   "metadata": {},
   "outputs": [],
   "source": [
    "#Exercise1\n",
    "tenki = int(input('天気を入力 >>'))\n",
    "if tenki == 0:\n",
    "    print('晴れです')\n",
    "elif tenki == 1:\n",
    "    print('曇りです')\n",
    "elif tenki == 2:\n",
    "    print('雨です')\n",
    "else:\n",
    "    print('台風です')"
   ]
  },
  {
   "cell_type": "code",
   "execution_count": 5,
   "metadata": {},
   "outputs": [
    {
     "name": "stdout",
     "output_type": "stream",
     "text": [
      "成人\n"
     ]
    }
   ],
   "source": [
    "#Exercise2\n",
    "age = int(input('年齢は？ >>'))\n",
    "if age < 20:\n",
    "    print('未成年')\n",
    "else:\n",
    "    print('成人')"
   ]
  },
  {
   "cell_type": "code",
   "execution_count": 6,
   "metadata": {},
   "outputs": [
    {
     "name": "stdout",
     "output_type": "stream",
     "text": [
      "前期高齢者\n"
     ]
    }
   ],
   "source": [
    "#Exercise3\n",
    "age = int(input('年齢は？ >>'))\n",
    "if age < 20:\n",
    "    print('未成年')\n",
    "else:\n",
    "    if age >= 65 and age < 75:\n",
    "        print('前期高齢者')\n",
    "    elif age >= 70:\n",
    "        print('後期高齢者')\n",
    "    else:\n",
    "        print('成人')"
   ]
  },
  {
   "cell_type": "code",
   "execution_count": 10,
   "metadata": {},
   "outputs": [
    {
     "name": "stdout",
     "output_type": "stream",
     "text": [
      "前期高齢者\n"
     ]
    }
   ],
   "source": [
    "#Exercise4\n",
    "age = int(input('年齢は？ >>'))\n",
    "if age < 20:\n",
    "    if age >= 6 and age <= 15:\n",
    "        print('未成年（義務教育の対象）')\n",
    "    else:\n",
    "        print('未成年')\n",
    "else:\n",
    "    if age >= 65 and age < 75:\n",
    "        print('前期高齢者')\n",
    "    elif age >= 75:\n",
    "        print('後期高齢者')\n",
    "    else:\n",
    "        print('成人')"
   ]
  },
  {
   "cell_type": "code",
   "execution_count": 4,
   "metadata": {},
   "outputs": [
    {
     "name": "stdout",
     "output_type": "stream",
     "text": [
      "フルーツです\n"
     ]
    }
   ],
   "source": [
    "#Exercise5\n",
    "frt1,frt2 = \"Apple\",\"Banana\"\n",
    "veg1,veg2 = \"Carrot\",\"Onion\"\n",
    "ans = input('どれですか？ >>')\n",
    "if ans == frt1 or ans == frt2:\n",
    "    print('フルーツです')\n",
    "elif ans == veg1 or ans == veg2:\n",
    "    print('野菜です')\n",
    "else:\n",
    "    print('それはありません')"
   ]
  },
  {
   "cell_type": "code",
   "execution_count": 4,
   "metadata": {},
   "outputs": [
    {
     "name": "stdout",
     "output_type": "stream",
     "text": [
      "同じです\n"
     ]
    }
   ],
   "source": [
    "#Exercise6\n",
    "w1 = input('入力1 >>')\n",
    "w2 = input('入力2 >>')\n",
    "if w1.lower() == w2.lower():\n",
    "    print('同じです')\n",
    "else:\n",
    "    print('違います')"
   ]
  },
  {
   "cell_type": "code",
   "execution_count": 16,
   "metadata": {},
   "outputs": [
    {
     "name": "stdout",
     "output_type": "stream",
     "text": [
      "abcdefghij\n"
     ]
    }
   ],
   "source": [
    "#Exercise7\n",
    "words = \"\"\n",
    "while len(words) < 10:\n",
    "    words += input('半角英数字入力 >>')\n",
    "words = words[:10]\n",
    "print(words)"
   ]
  },
  {
   "cell_type": "code",
   "execution_count": 6,
   "metadata": {},
   "outputs": [
    {
     "name": "stdout",
     "output_type": "stream",
     "text": [
      "本厄年です\n"
     ]
    }
   ],
   "source": [
    "#Exercise8\n",
    "person = input('性別は？ >>')\n",
    "age = int(input('年齢は？ >>'))\n",
    "yaku1 = '本厄年です'\n",
    "yaku2 = '本厄年ではありません'\n",
    "age_m = [25,42,61]\n",
    "age_f = [19,33,37,61]\n",
    "if person == '男性':\n",
    "    if age in age_m:\n",
    "        print(yaku1)\n",
    "    else:\n",
    "        print(yaku2)\n",
    "elif person == '女性':\n",
    "    if age in age_f:\n",
    "        print(yaku1)\n",
    "    else:\n",
    "        print(yaku2)\n",
    "else:\n",
    "    print('判定できませんでした')"
   ]
  },
  {
   "cell_type": "code",
   "execution_count": 7,
   "metadata": {},
   "outputs": [
    {
     "name": "stdout",
     "output_type": "stream",
     "text": [
      "結果表示： AAAAAAAAAAAAAAAAABBBBBBBBBBBBBBB\n"
     ]
    }
   ],
   "source": [
    "#Exercise9\n",
    "w = input('入力 >>')\n",
    "a,b = \"\",\"\"\n",
    "for i in range(len(w)):\n",
    "    if w[i] == 'A':\n",
    "        a += w[i]\n",
    "    elif w[i] == 'B':\n",
    "        b += w[i]\n",
    "print(f'結果表示： {a}{b}')"
   ]
  },
  {
   "cell_type": "code",
   "execution_count": null,
   "metadata": {},
   "outputs": [],
   "source": [
    "#Exercise10\n",
    "for i in range(1,21):\n",
    "    if i % 2 == 0:\n",
    "        print(str(i))"
   ]
  },
  {
   "cell_type": "code",
   "execution_count": null,
   "metadata": {},
   "outputs": [],
   "source": [
    "#Exercise11\n",
    "for i in range(1,21):\n",
    "    if i % 4 == 0:\n",
    "        continue\n",
    "    if i % 2 == 0:\n",
    "        print(str(i))"
   ]
  },
  {
   "cell_type": "code",
   "execution_count": null,
   "metadata": {},
   "outputs": [],
   "source": [
    "#Exercise12\n",
    "yen1,yen5 = 2,1\n",
    "total = yen5 * 5 + yen1\n",
    "for i in range(1, total+1):\n",
    "    if i % 5 <= yen1:\n",
    "        print(str(i))"
   ]
  },
  {
   "cell_type": "code",
   "execution_count": 13,
   "metadata": {},
   "outputs": [
    {
     "name": "stdout",
     "output_type": "stream",
     "text": [
      "同じ文字は：5個\n"
     ]
    }
   ],
   "source": [
    "#Exercise13\n",
    "w1 = input('入力1 >>')\n",
    "w2 = input('入力2 >>')\n",
    "cnt = 0\n",
    "for i in range(len(w1)):\n",
    "    if w1[i] == w2[i]:\n",
    "        cnt += 1\n",
    "print(f'同じ文字は：{cnt}個')"
   ]
  },
  {
   "cell_type": "code",
   "execution_count": 18,
   "metadata": {},
   "outputs": [
    {
     "name": "stdout",
     "output_type": "stream",
     "text": [
      "1x16=16 2x8=16 4x4=16 8x2=16 16x1=16 \n"
     ]
    }
   ],
   "source": [
    "#Excercise14\n",
    "from random import randint\n",
    "num = randint(1,20)\n",
    "result = ''\n",
    "for i in range(1,num+1):\n",
    "    if num % i == 0:\n",
    "        result += f'{i}x{int(num/i)}={num} '\n",
    "print(result)"
   ]
  },
  {
   "cell_type": "code",
   "execution_count": 12,
   "metadata": {},
   "outputs": [
    {
     "name": "stdout",
     "output_type": "stream",
     "text": [
      "1x16=16 2x8=16 4x4=16 \n"
     ]
    }
   ],
   "source": [
    "#Excercise15\n",
    "from random import randint\n",
    "num = randint(1,20)\n",
    "result = ''\n",
    "for i in range(1,num+1):\n",
    "    if i > num/i:\n",
    "        break\n",
    "    if num % i == 0:\n",
    "        result += f'{i}x{int(num/i)}={num} '\n",
    "print(result)"
   ]
  },
  {
   "cell_type": "code",
   "execution_count": 23,
   "metadata": {},
   "outputs": [
    {
     "name": "stdout",
     "output_type": "stream",
     "text": [
      "●●●●●\n",
      "●●●●●\n",
      "●●●●●\n"
     ]
    }
   ],
   "source": [
    "#Excercise16\n",
    "yoko = int(input('列数 >>'))\n",
    "tate = int(input('行数 >>'))\n",
    "chrs = ''\n",
    "for i in range(tate):\n",
    "    for j in range(yoko):\n",
    "        chrs += '●'\n",
    "    print(chrs)\n",
    "    chrs = ''"
   ]
  },
  {
   "cell_type": "code",
   "execution_count": 25,
   "metadata": {},
   "outputs": [
    {
     "name": "stdout",
     "output_type": "stream",
     "text": [
      "1回目：1,2\n",
      "2回目：3,5\n",
      "3回目：2,3\n",
      "4回目：3,6\n",
      "5回目：5,4\n",
      "6回目：2,6\n",
      "7回目：3,4\n",
      "8回目：4,1\n",
      "9回目：5,1\n",
      "10回目：1,1\n",
      "当たり\n"
     ]
    }
   ],
   "source": [
    "#Excercise17\n",
    "from random import randint\n",
    "for i in range(20):\n",
    "    dice1 = randint(1,6)\n",
    "    dice2 = randint(1,6)\n",
    "    print(f'{i+1}回目：{dice1},{dice2}')\n",
    "    if dice1 == dice2:\n",
    "        if dice1 % 2 == 0:\n",
    "            print('大当たり')\n",
    "        else:\n",
    "            print('当たり')\n",
    "        break"
   ]
  },
  {
   "cell_type": "code",
   "execution_count": null,
   "metadata": {},
   "outputs": [],
   "source": [
    "#Excercise18\n",
    "N, M, K, L = map(int,input('はじめの行>>').split())\n",
    "for i in range(N):\n",
    "    pic_list = input(f'{i+1}行目>>').split()\n",
    "    for j in range(M):\n",
    "        if i == K-1 and j == L-1:\n",
    "            out = pic_list[j]\n",
    "\n",
    "print(f'{K}行{L}列目の整数：{out}')"
   ]
  },
  {
   "cell_type": "code",
   "execution_count": 4,
   "metadata": {},
   "outputs": [
    {
     "name": "stdout",
     "output_type": "stream",
     "text": [
      "abc(xxx)def(xxxxx)hogehoge(xx)foobar\n"
     ]
    }
   ],
   "source": [
    "#Excercise19-1\n",
    "base = list(input('入力 >>'))\n",
    "flag = False\n",
    "result = ''\n",
    "for i in base:\n",
    "    if i == '(':\n",
    "        result += i\n",
    "        flag = True\n",
    "        continue\n",
    "    if i == ')':\n",
    "        result += i\n",
    "        flag = False\n",
    "        continue\n",
    "    if flag:\n",
    "        result += 'x'\n",
    "    else:\n",
    "        result += i\n",
    "print(result)"
   ]
  },
  {
   "cell_type": "code",
   "execution_count": 5,
   "metadata": {},
   "outputs": [
    {
     "name": "stdout",
     "output_type": "stream",
     "text": [
      "abc(xxx)def(xxxxx)hogehoge(xx)foobar\n"
     ]
    }
   ],
   "source": [
    "#Excercise19-2\n",
    "base = input('入力 >>')\n",
    "result = ''\n",
    "start = base.find('(')\n",
    "while not start == -1:\n",
    "    end = base.find(')')\n",
    "    if end == -1:\n",
    "        break\n",
    "    result += base[:start+1]\n",
    "    result += 'x'*(end-start-1)+')'\n",
    "    base = base[end+1:]\n",
    "    start = base.find('(')\n",
    "result += base\n",
    "print(result)"
   ]
  }
 ],
 "metadata": {
  "kernelspec": {
   "display_name": "Python 3.9.2 64-bit ('3.9.2': pyenv)",
   "name": "python392jvsc74a57bd0e175e2d1a69ec44a53513b33867561d513a585d5b2228589977b3e28bb8f7a45"
  },
  "language_info": {
   "codemirror_mode": {
    "name": "ipython",
    "version": 3
   },
   "file_extension": ".py",
   "mimetype": "text/x-python",
   "name": "python",
   "nbconvert_exporter": "python",
   "pygments_lexer": "ipython3",
   "version": "3.9.2"
  },
  "orig_nbformat": 2
 },
 "nbformat": 4,
 "nbformat_minor": 2
}