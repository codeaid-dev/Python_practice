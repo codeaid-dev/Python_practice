{
 "cells": [
  {
   "cell_type": "code",
   "execution_count": null,
   "metadata": {},
   "outputs": [],
   "source": [
    "print(list(range(10))) #0以上10未満\n",
    "print(list(range(1,11))) #1以上11未満\n",
    "print(list(range(0,30,5))) #0以上30未満、5ずつ\n",
    "print(list(range(0,10,3))) #0以上10未満、3ずつ\n",
    "print(list(range(0,-10,-1))) #0以下-10より上、-1ずつ\n",
    "print(list(range(10,-1,-1))) #10以下-1より上、-1ずつ"
   ]
  },
  {
   "cell_type": "code",
   "execution_count": null,
   "metadata": {},
   "outputs": [],
   "source": [
    "#Exercise1\n",
    "tenki = int(input('天気を入力 >>'))\n",
    "if tenki == 0:\n",
    "    print('晴れです')\n",
    "elif tenki == 1:\n",
    "    print('曇りです')\n",
    "elif tenki == 2:\n",
    "    print('雨です')\n",
    "else:\n",
    "    print('台風です')"
   ]
  },
  {
   "cell_type": "code",
   "execution_count": null,
   "metadata": {},
   "outputs": [],
   "source": [
    "#Exercise2\n",
    "age = int(input('年齢は？ >>'))\n",
    "if age < 20:\n",
    "    print('未成年')\n",
    "else:\n",
    "    print('成人')"
   ]
  },
  {
   "cell_type": "code",
   "execution_count": null,
   "metadata": {},
   "outputs": [],
   "source": [
    "#Exercise3\n",
    "age = int(input('年齢は？ >>'))\n",
    "if age < 20:\n",
    "    print('未成年')\n",
    "else:\n",
    "    if age >= 65 and age < 75:\n",
    "        print('前期高齢者')\n",
    "    elif age >= 70:\n",
    "        print('後期高齢者')\n",
    "    else:\n",
    "        print('成人')"
   ]
  },
  {
   "cell_type": "code",
   "execution_count": 10,
   "metadata": {},
   "outputs": [
    {
     "name": "stdout",
     "output_type": "stream",
     "text": [
      "前期高齢者\n"
     ]
    }
   ],
   "source": [
    "#Exercise4\n",
    "age = int(input('年齢は？ >>'))\n",
    "if age < 20:\n",
    "    if age >= 6 and age <= 15:\n",
    "        print('未成年（義務教育の対象）')\n",
    "    else:\n",
    "        print('未成年')\n",
    "else:\n",
    "    if age >= 65 and age < 75:\n",
    "        print('前期高齢者')\n",
    "    elif age >= 75:\n",
    "        print('後期高齢者')\n",
    "    else:\n",
    "        print('成人')"
   ]
  },
  {
   "cell_type": "code",
   "execution_count": 4,
   "metadata": {},
   "outputs": [
    {
     "name": "stdout",
     "output_type": "stream",
     "text": [
      "フルーツです\n"
     ]
    }
   ],
   "source": [
    "#Exercise5\n",
    "frt1,frt2 = \"Apple\",\"Banana\"\n",
    "veg1,veg2 = \"Carrot\",\"Onion\"\n",
    "ans = input('どれですか？ >>')\n",
    "if ans == frt1 or ans == frt2:\n",
    "    print('フルーツです')\n",
    "elif ans == veg1 or ans == veg2:\n",
    "    print('野菜です')\n",
    "else:\n",
    "    print('それはありません')"
   ]
  },
  {
   "cell_type": "code",
   "execution_count": 4,
   "metadata": {},
   "outputs": [
    {
     "name": "stdout",
     "output_type": "stream",
     "text": [
      "同じです\n"
     ]
    }
   ],
   "source": [
    "#Exercise6\n",
    "w1 = input('入力1 >>')\n",
    "w2 = input('入力2 >>')\n",
    "if w1.lower() == w2.lower():\n",
    "    print('同じです')\n",
    "else:\n",
    "    print('違います')"
   ]
  },
  {
   "cell_type": "code",
   "execution_count": 16,
   "metadata": {},
   "outputs": [
    {
     "name": "stdout",
     "output_type": "stream",
     "text": [
      "abcdefghij\n"
     ]
    }
   ],
   "source": [
    "#Exercise7\n",
    "words = \"\"\n",
    "while len(words) < 10:\n",
    "    words += input('半角英数字入力 >>')\n",
    "words = words[:10]\n",
    "print(words)"
   ]
  },
  {
   "cell_type": "code",
   "execution_count": 6,
   "metadata": {},
   "outputs": [
    {
     "name": "stdout",
     "output_type": "stream",
     "text": [
      "本厄年です\n"
     ]
    }
   ],
   "source": [
    "#Exercise8\n",
    "person = input('性別は？ >>')\n",
    "age = int(input('年齢は？ >>'))\n",
    "yaku1 = '本厄年です'\n",
    "yaku2 = '本厄年ではありません'\n",
    "age_m = [25,42,61]\n",
    "age_f = [19,33,37,61]\n",
    "if person == '男性':\n",
    "    if age in age_m:\n",
    "        print(yaku1)\n",
    "    else:\n",
    "        print(yaku2)\n",
    "elif person == '女性':\n",
    "    if age in age_f:\n",
    "        print(yaku1)\n",
    "    else:\n",
    "        print(yaku2)\n",
    "else:\n",
    "    print('判定できませんでした')"
   ]
  },
  {
   "cell_type": "code",
   "execution_count": 7,
   "metadata": {},
   "outputs": [
    {
     "name": "stdout",
     "output_type": "stream",
     "text": [
      "結果表示： AAAAAAAAAAAAAAAAABBBBBBBBBBBBBBB\n"
     ]
    }
   ],
   "source": [
    "#Exercise9\n",
    "w = input('入力 >>')\n",
    "a,b = \"\",\"\"\n",
    "for i in range(len(w)):\n",
    "    if w[i] == 'A':\n",
    "        a += w[i]\n",
    "    elif w[i] == 'B':\n",
    "        b += w[i]\n",
    "print(f'結果表示： {a}{b}')"
   ]
  },
  {
   "cell_type": "code",
   "execution_count": null,
   "metadata": {},
   "outputs": [],
   "source": [
    "#Exercise10\n",
    "for i in range(1,21):\n",
    "    if i % 2 == 0:\n",
    "        print(str(i))"
   ]
  },
  {
   "cell_type": "code",
   "execution_count": null,
   "metadata": {},
   "outputs": [],
   "source": [
    "#Exercise11\n",
    "for i in range(1,21):\n",
    "    if i % 4 == 0:\n",
    "        continue\n",
    "    if i % 2 == 0:\n",
    "        print(str(i))"
   ]
  },
  {
   "cell_type": "code",
   "execution_count": null,
   "metadata": {},
   "outputs": [],
   "source": [
    "#Exercise12\n",
    "for i in range(1, 16):\n",
    "  if i%3 == 0 and i%5 == 0:\n",
    "    print(\"FizzBuzz\")\n",
    "  elif i%3 == 0:\n",
    "    print(\"Fizz\")\n",
    "  elif i%5 == 0:\n",
    "    print(\"Buzz\")\n",
    "  else:\n",
    "    print(i)"
   ]
  },
  {
   "cell_type": "code",
   "execution_count": null,
   "metadata": {},
   "outputs": [],
   "source": [
    "#Exercise13\n",
    "yen1,yen5 = 2,1\n",
    "total = yen5 * 5 + yen1\n",
    "for i in range(1, total+1):\n",
    "    if i % 5 <= yen1:\n",
    "        print(str(i))"
   ]
  },
  {
   "cell_type": "code",
   "execution_count": 13,
   "metadata": {},
   "outputs": [
    {
     "name": "stdout",
     "output_type": "stream",
     "text": [
      "同じ文字は：5個\n"
     ]
    }
   ],
   "source": [
    "#Exercise14\n",
    "w1 = input('入力1 >>')\n",
    "w2 = input('入力2 >>')\n",
    "cnt = 0\n",
    "for i in range(len(w1)):\n",
    "    if w1[i] == w2[i]:\n",
    "        cnt += 1\n",
    "print(f'同じ文字は：{cnt}個')"
   ]
  },
  {
   "cell_type": "code",
   "execution_count": 1,
   "metadata": {},
   "outputs": [
    {
     "name": "stdout",
     "output_type": "stream",
     "text": [
      "{'日': 36.5, '月': 36.4, '火': 36.3, '水': 36.5, '木': 36.7, '金': 36.8, '土': 36.2}\n"
     ]
    }
   ],
   "source": [
    "#Excercise15\n",
    "temp = {'日':None, '月':None, '火':None, '水':None, '木':None, '金':None, '土':None}\n",
    "for day in temp:\n",
    "    data = float(input(f'{day}曜日のデータを入力 >>'))\n",
    "    temp[day] = data\n",
    "print(temp)"
   ]
  },
  {
   "cell_type": "code",
   "execution_count": null,
   "metadata": {},
   "outputs": [],
   "source": [
    "#Excercise16\n",
    "for day in temp:\n",
    "    print(f'{day}曜日は{temp[day]}度')"
   ]
  },
  {
   "cell_type": "code",
   "execution_count": 3,
   "metadata": {},
   "outputs": [
    {
     "name": "stdout",
     "output_type": "stream",
     "text": [
      "{'日': 36.5, '月': 36.4, '火': 36.3, '水': 36.5, '木': 36.7, '金': 36.8, '土': 36.2}\n",
      "{'日': 'N/A', '月': 36.4, '火': 36.3, '水': 'N/A', '木': 36.7, '金': 36.8, '土': 36.2}\n"
     ]
    }
   ],
   "source": [
    "#Excercise17\n",
    "temp_new = dict()\n",
    "for day in temp:\n",
    "    if temp[day] == 36.5:\n",
    "        temp_new[day] = 'N/A'\n",
    "    else:\n",
    "        temp_new[day] = temp[day]\n",
    "print(temp)\n",
    "print(temp_new)"
   ]
  },
  {
   "cell_type": "code",
   "execution_count": 4,
   "metadata": {},
   "outputs": [
    {
     "name": "stdout",
     "output_type": "stream",
     "text": [
      "平均は36.48度です\n"
     ]
    }
   ],
   "source": [
    "#Excercise18\n",
    "total = 0\n",
    "count = 0\n",
    "for day in temp_new:\n",
    "    if isinstance(temp_new[day], float):\n",
    "        total += temp_new[day]\n",
    "        count += 1\n",
    "print(f'平均は{total/count}度です')"
   ]
  },
  {
   "cell_type": "code",
   "execution_count": null,
   "metadata": {},
   "outputs": [],
   "source": [
    "#Excercise19\n",
    "nums = [1,2]\n",
    "data = sum(nums)\n",
    "while data <= 50:\n",
    "    nums.append(data)\n",
    "    data += nums[len(nums)-1]\n",
    "print(nums)"
   ]
  },
  {
   "cell_type": "code",
   "execution_count": null,
   "metadata": {},
   "outputs": [],
   "source": [
    "#Excercise20\n",
    "words = ['hello', 'eye', 'bye', 'noon']\n",
    "count = 0\n",
    "for word in words:\n",
    "    if len(word) > 1 and word[0] == word[-1]:\n",
    "        count += 1\n",
    "print(count)"
   ]
  },
  {
   "cell_type": "code",
   "execution_count": null,
   "metadata": {},
   "outputs": [],
   "source": [
    "#Excercise21-1\n",
    "nums = [10,20,30,20,10,50,60,40,80,50,40]\n",
    "items = []\n",
    "for n in nums:\n",
    "    if n not in items:\n",
    "        items.append(n)\n",
    "print(items)"
   ]
  },
  {
   "cell_type": "code",
   "execution_count": null,
   "metadata": {},
   "outputs": [],
   "source": [
    "#Excercise21-2\n",
    "nums = [10,20,30,20,10,50,60,40,80,50,40]\n",
    "items = [n2 for n2 in {n1 for n1 in nums}]\n",
    "print(items)"
   ]
  },
  {
   "cell_type": "code",
   "execution_count": null,
   "metadata": {},
   "outputs": [],
   "source": [
    "#Excercise22\n",
    "names = [{'001': 'Tanaka', 'mail':'foobar@hoge.com'}, {'002': 'Suzuki'}, {'003': 'Yamada'}, {'001': 'Tanaka', 'mail':'foobar@hoge.com'}]\n",
    "#result = [dict(e) for e in {tuple(d.items()) for d in names}]\n",
    "result = []\n",
    "for n in names:\n",
    "    if n not in result:\n",
    "        result.append(n)\n",
    "print(result)\n",
    "nums = [[1,2,3], [3,4], [1,2,3], [4,5]]\n",
    "items = []\n",
    "for n in nums:\n",
    "    if n not in items:\n",
    "        items.append(n)\n",
    "#res = [list(e) for e in {tuple(d) for d in nums}]\n",
    "print(items)"
   ]
  },
  {
   "cell_type": "code",
   "execution_count": null,
   "metadata": {},
   "outputs": [],
   "source": [
    "#Excercise23\n",
    "colors = \"red,yellow,black,blue,white\"\n",
    "color_list = colors.split(',')\n",
    "result = []\n",
    "for n in color_list:\n",
    "    if len(n) > 4:\n",
    "        result.append(n)\n",
    "print(result)"
   ]
  },
  {
   "cell_type": "code",
   "execution_count": null,
   "metadata": {},
   "outputs": [],
   "source": [
    "#Excercise24\n",
    "d1 = {'a':10, 'b':70}\n",
    "d2 = {'c':30, 'd':60}\n",
    "d3 = {'e':80, 'f':50}\n",
    "d4 = {}\n",
    "for d in (d1,d2,d3):\n",
    "    d4.update(d)\n",
    "print(d4)"
   ]
  },
  {
   "cell_type": "code",
   "execution_count": null,
   "metadata": {},
   "outputs": [],
   "source": [
    "#Excercise25\n",
    "keys = ['a','b','c']\n",
    "values = [1,2,3]\n",
    "d1 = dict(zip(keys,values))\n",
    "print(d1)\n",
    "d2 = {k: v for k, v in zip(keys, values)}\n",
    "print(d2)"
   ]
  },
  {
   "cell_type": "code",
   "execution_count": null,
   "metadata": {},
   "outputs": [],
   "source": [
    "#Excercise26-1\n",
    "info = [['red','#FF0000',20],['yellow','#FFFF00',80],['blue','#0000FF',50]]\n",
    "result = {}\n",
    "for color in info:\n",
    "    result[color[0]] = color[1:]\n",
    "print(result) "
   ]
  },
  {
   "cell_type": "code",
   "execution_count": null,
   "metadata": {},
   "outputs": [],
   "source": [
    "#Excercise26-2\n",
    "info = [['red','#FF0000',20],['yellow','#FFFF00',80],['blue','#0000FF',50]]\n",
    "result = {color[0]: color[1:] for color in info}\n",
    "print(result)"
   ]
  },
  {
   "cell_type": "code",
   "execution_count": 6,
   "metadata": {},
   "outputs": [
    {
     "name": "stdout",
     "output_type": "stream",
     "text": [
      "{'c1': 'Red', 'c2': 'Green'}\n"
     ]
    }
   ],
   "source": [
    "#Excercise27-1\n",
    "dic = {'c1': 'Red', 'c2': 'Green', 'c3':None}\n",
    "for key in list(dic.keys()):\n",
    "    if dic[key] == None:\n",
    "        del dic[key]\n",
    "print(dic)"
   ]
  },
  {
   "cell_type": "code",
   "execution_count": 7,
   "metadata": {},
   "outputs": [
    {
     "name": "stdout",
     "output_type": "stream",
     "text": [
      "{'c1': 'Red', 'c2': 'Green'}\n"
     ]
    }
   ],
   "source": [
    "#Excercise27-2\n",
    "dic = {'c1': 'Red', 'c2': 'Green', 'c3':None}\n",
    "dic = {key:value for (key, value) in dic.items() if value is not None}\n",
    "print(dic)"
   ]
  },
  {
   "cell_type": "code",
   "execution_count": 18,
   "metadata": {},
   "outputs": [
    {
     "name": "stdout",
     "output_type": "stream",
     "text": [
      "1x16=16 2x8=16 4x4=16 8x2=16 16x1=16 \n"
     ]
    }
   ],
   "source": [
    "#Excercise28\n",
    "import random\n",
    "num = random.randint(1,20)\n",
    "result = ''\n",
    "for i in range(1,num+1):\n",
    "    if num % i == 0:\n",
    "        result += f'{i}x{int(num/i)}={num} '\n",
    "print(result)"
   ]
  },
  {
   "cell_type": "code",
   "execution_count": 12,
   "metadata": {},
   "outputs": [
    {
     "name": "stdout",
     "output_type": "stream",
     "text": [
      "1x16=16 2x8=16 4x4=16 \n"
     ]
    }
   ],
   "source": [
    "#Excercise29\n",
    "import random\n",
    "num = random.randint(1,20)\n",
    "result = ''\n",
    "for i in range(1,num+1):\n",
    "    if i > num/i:\n",
    "        break\n",
    "    if num % i == 0:\n",
    "        result += f'{i}x{int(num/i)}={num} '\n",
    "print(result)"
   ]
  },
  {
   "cell_type": "code",
   "execution_count": 23,
   "metadata": {},
   "outputs": [
    {
     "name": "stdout",
     "output_type": "stream",
     "text": [
      "●●●●●\n",
      "●●●●●\n",
      "●●●●●\n"
     ]
    }
   ],
   "source": [
    "#Excercise30\n",
    "yoko = int(input('列数 >>'))\n",
    "tate = int(input('行数 >>'))\n",
    "chrs = ''\n",
    "for i in range(tate):\n",
    "    for j in range(yoko):\n",
    "        chrs += '●'\n",
    "    print(chrs)\n",
    "    chrs = ''"
   ]
  },
  {
   "cell_type": "code",
   "execution_count": 11,
   "metadata": {},
   "outputs": [
    {
     "name": "stdout",
     "output_type": "stream",
     "text": [
      "\n",
      "*\n",
      "**\n",
      "***\n",
      "****\n",
      "*****\n",
      "****\n",
      "***\n",
      "**\n",
      "*\n"
     ]
    }
   ],
   "source": [
    "#Excercise31-1\n",
    "n,star=5,''\n",
    "for i in range(n):\n",
    "    for j in range(i):\n",
    "        star += '*'\n",
    "    print(star)\n",
    "    star = ''\n",
    "\n",
    "for i in range(n,0,-1):\n",
    "    for j in range(i):\n",
    "        star += '*'\n",
    "    print(star)\n",
    "    star = ''"
   ]
  },
  {
   "cell_type": "code",
   "execution_count": null,
   "metadata": {},
   "outputs": [],
   "source": [
    "#Excercise31-2\n",
    "n=5\n",
    "for i in range(n):\n",
    "    for j in range(i):\n",
    "        print ('*', end=\"\")\n",
    "    print('')\n",
    "\n",
    "for i in range(n,0,-1):\n",
    "    for j in range(i):\n",
    "        print('*', end=\"\")\n",
    "    print('')"
   ]
  },
  {
   "cell_type": "code",
   "execution_count": 6,
   "metadata": {},
   "outputs": [
    {
     "name": "stdout",
     "output_type": "stream",
     "text": [
      "正解です\n",
      "正解です\n",
      "正解です\n"
     ]
    }
   ],
   "source": [
    "#Excercise32\n",
    "QUESTION = [\n",
    "    \"桜の咲く季節は？\",\n",
    "    \"点を取ると大きくなる動物は？\",\n",
    "    \"パンでも固くて食べられないパンは？\"\n",
    "]\n",
    "ANS = [\"春\", \"犬\", \"フライパン\"]\n",
    "for i in range(3):\n",
    "    ans = input(QUESTION[i])\n",
    "    if ans == ANS[i]:\n",
    "        print(\"正解です\")\n",
    "    else:\n",
    "        print(\"不正解です\")"
   ]
  },
  {
   "cell_type": "code",
   "execution_count": null,
   "metadata": {},
   "outputs": [],
   "source": [
    "#Excercise33\n",
    "import random\n",
    "for i in range(20):\n",
    "    dice1 = random.randint(1,6)\n",
    "    dice2 = random.randint(1,6)\n",
    "    print(f'{i+1}回目：{dice1},{dice2}')\n",
    "    if dice1 == dice2:\n",
    "        if dice1 % 2 == 0:\n",
    "            print('大当たり')\n",
    "        else:\n",
    "            print('当たり')\n",
    "        break"
   ]
  },
  {
   "cell_type": "code",
   "execution_count": 14,
   "metadata": {},
   "outputs": [
    {
     "name": "stdout",
     "output_type": "stream",
     "text": [
      "2行1列目の整数：10\n"
     ]
    }
   ],
   "source": [
    "#Excercise34\n",
    "#N, M, K, L = map(int,input('はじめの行>>').split())\n",
    "start = input('はじめの行>>').split()\n",
    "N, M, K, L = int(start[0]), int(start[1]), int(start[2]), int(start[3])\n",
    "for i in range(N):\n",
    "    pic_list = input(f'{i+1}行目>>').split()\n",
    "    for j in range(M):\n",
    "        if i == K-1 and j == L-1:\n",
    "            out = pic_list[j]\n",
    "\n",
    "print(f'{K}行{L}列目の整数：{out}')"
   ]
  },
  {
   "cell_type": "code",
   "execution_count": 4,
   "metadata": {},
   "outputs": [
    {
     "name": "stdout",
     "output_type": "stream",
     "text": [
      "abc(xxx)def(xxxxx)hogehoge(xx)foobar\n"
     ]
    }
   ],
   "source": [
    "#Excercise35-1\n",
    "base = list(input('入力 >>'))\n",
    "flag = False\n",
    "result = ''\n",
    "for i in base:\n",
    "    if i == '(':\n",
    "        result += i\n",
    "        flag = True\n",
    "        continue\n",
    "    if i == ')':\n",
    "        result += i\n",
    "        flag = False\n",
    "        continue\n",
    "    if flag:\n",
    "        result += 'x'\n",
    "    else:\n",
    "        result += i\n",
    "print(result)"
   ]
  },
  {
   "cell_type": "code",
   "execution_count": 5,
   "metadata": {},
   "outputs": [
    {
     "name": "stdout",
     "output_type": "stream",
     "text": [
      "abc(xxx)def(xxxxx)hogehoge(xx)foobar\n"
     ]
    }
   ],
   "source": [
    "#Excercise35-2\n",
    "base = input('入力 >>')\n",
    "result = ''\n",
    "start = base.find('(')\n",
    "while not start == -1:\n",
    "    end = base.find(')')\n",
    "    if end == -1:\n",
    "        break\n",
    "    result += base[:start+1]\n",
    "    result += 'x'*(end-start-1)+')'\n",
    "    base = base[end+1:]\n",
    "    start = base.find('(')\n",
    "result += base\n",
    "print(result)"
   ]
  }
 ],
 "metadata": {
  "kernelspec": {
   "display_name": "Python 3.9.2 64-bit ('3.9.2': pyenv)",
   "name": "python392jvsc74a57bd0e175e2d1a69ec44a53513b33867561d513a585d5b2228589977b3e28bb8f7a45"
  },
  "language_info": {
   "codemirror_mode": {
    "name": "ipython",
    "version": 3
   },
   "file_extension": ".py",
   "mimetype": "text/x-python",
   "name": "python",
   "nbconvert_exporter": "python",
   "pygments_lexer": "ipython3",
   "version": "3.9.2"
  },
  "orig_nbformat": 2
 },
 "nbformat": 4,
 "nbformat_minor": 2
}