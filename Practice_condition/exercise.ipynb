{
 "cells": [
  {
   "cell_type": "code",
   "execution_count": null,
   "metadata": {},
   "outputs": [],
   "source": [
    "#Exercise1\n",
    "tenki = int(input('天気を入力 >>'))\n",
    "if tenki == 0:\n",
    "    print('晴れです')\n",
    "elif tenki == 1:\n",
    "    print('曇りです')\n",
    "elif tenki == 2:\n",
    "    print('雨です')\n",
    "else:\n",
    "    print('台風です')"
   ]
  },
  {
   "cell_type": "code",
   "execution_count": null,
   "metadata": {},
   "outputs": [],
   "source": [
    "#Exercise2\n",
    "age = int(input('年齢は？ >>'))\n",
    "if age < 20:\n",
    "    print('未成年')\n",
    "else:\n",
    "    print('成人')"
   ]
  },
  {
   "cell_type": "code",
   "execution_count": null,
   "metadata": {},
   "outputs": [],
   "source": [
    "#Exercise3\n",
    "age = int(input('年齢は？ >>'))\n",
    "if age < 20:\n",
    "    print('未成年')\n",
    "else:\n",
    "    if age >= 65 and age < 75:\n",
    "        print('前期高齢者')\n",
    "    elif age >= 70:\n",
    "        print('後期高齢者')\n",
    "    else:\n",
    "        print('成人')"
   ]
  },
  {
   "cell_type": "code",
   "execution_count": null,
   "metadata": {},
   "outputs": [],
   "source": [
    "#Exercise4\n",
    "age = int(input('年齢は？ >>'))\n",
    "if age < 20:\n",
    "    if age >= 6 and age <= 15:\n",
    "        print('未成年（義務教育の対象）')\n",
    "    else:\n",
    "        print('未成年')\n",
    "else:\n",
    "    if age >= 65 and age < 75:\n",
    "        print('前期高齢者')\n",
    "    elif age >= 75:\n",
    "        print('後期高齢者')\n",
    "    else:\n",
    "        print('成人')"
   ]
  },
  {
   "cell_type": "code",
   "execution_count": null,
   "metadata": {},
   "outputs": [],
   "source": [
    "#Exercise5\n",
    "frt1,frt2 = \"Apple\",\"Banana\"\n",
    "veg1,veg2 = \"Carrot\",\"Onion\"\n",
    "ans = input('どれですか？ >>')\n",
    "if ans == frt1 or ans == frt2:\n",
    "    print('フルーツです')\n",
    "elif ans == veg1 or ans == veg2:\n",
    "    print('野菜です')\n",
    "else:\n",
    "    print('それはありません')"
   ]
  },
  {
   "cell_type": "code",
   "execution_count": null,
   "metadata": {},
   "outputs": [],
   "source": [
    "#Exercise6\n",
    "w1 = input('入力1 >>')\n",
    "w2 = input('入力2 >>')\n",
    "if w1.lower() == w2.lower():\n",
    "    print('同じです')\n",
    "else:\n",
    "    print('違います')"
   ]
  },
  {
   "cell_type": "code",
   "execution_count": 2,
   "metadata": {},
   "outputs": [
    {
     "name": "stdout",
     "output_type": "stream",
     "text": [
      "本厄年ではありません\n"
     ]
    }
   ],
   "source": [
    "#Exercise7\n",
    "person = input('性別は？ >>')\n",
    "age = int(input('年齢は？ >>'))\n",
    "yaku1 = '本厄年です'\n",
    "yaku2 = '本厄年ではありません'\n",
    "age_m = [25,42,61]\n",
    "age_f = [19,33,37,61]\n",
    "if person == '男性':\n",
    "    if age in age_m:\n",
    "        print(yaku1)\n",
    "    else:\n",
    "        print(yaku2)\n",
    "elif person == '女性':\n",
    "    if age in age_f:\n",
    "        print(yaku1)\n",
    "    else:\n",
    "        print(yaku2)\n",
    "else:\n",
    "    print('判定できませんでした')"
   ]
  },
  {
   "cell_type": "code",
   "execution_count": 1,
   "metadata": {},
   "outputs": [
    {
     "name": "stdout",
     "output_type": "stream",
     "text": [
      "夏目漱石\n",
      "吾輩は猫である。名前はまだ無い。\n",
      "どこで生れたかとんと見当がつかぬ。\n",
      "\n"
     ]
    }
   ],
   "source": [
    "#Exercise8\n",
    "sentence = '''芥川龍之介\n",
    "吾輩は猫である。名前はまだ無い。\n",
    "どこで生れたかとんと見当がつかぬ。\n",
    "'''\n",
    "if not sentence.startswith('夏目漱石'):\n",
    "    f = sentence.find('\\n')\n",
    "    r = sentence[:f]\n",
    "    print(sentence.replace(r, '夏目漱石'))"
   ]
  },
  {
   "cell_type": "code",
   "execution_count": 2,
   "metadata": {},
   "outputs": [
    {
     "name": "stdout",
     "output_type": "stream",
     "text": [
      "2000円です\n"
     ]
    }
   ],
   "source": [
    "#Exercise9\n",
    "m = int(input('所持金 >>'))\n",
    "f = int(input('借りれる金額 >>'))\n",
    "b = int(input('本の値段 >>'))\n",
    "if m+f < b:\n",
    "    print('購入できません')\n",
    "elif m >= b:\n",
    "    print('0円です')\n",
    "else:\n",
    "    print(f'{b-m}円です')"
   ]
  },
  {
   "cell_type": "code",
   "execution_count": 8,
   "metadata": {},
   "outputs": [
    {
     "name": "stdout",
     "output_type": "stream",
     "text": [
      "True\n"
     ]
    }
   ],
   "source": [
    "#Exercise10\n",
    "l = list(input('入力 >>').split(','))\n",
    "if l[0] == l[-1]:\n",
    "    print(True)\n",
    "else:\n",
    "    print(False)"
   ]
  },
  {
   "cell_type": "code",
   "execution_count": 1,
   "metadata": {},
   "outputs": [
    {
     "name": "stdout",
     "output_type": "stream",
     "text": [
      "[0, 1, 2, 3, 4, 5, 6, 7, 8, 9]\n",
      "[1, 2, 3, 4, 5, 6, 7, 8, 9, 10]\n",
      "[0, 5, 10, 15, 20, 25]\n",
      "[0, 3, 6, 9]\n",
      "[0, -1, -2, -3, -4, -5, -6, -7, -8, -9]\n",
      "[10, 9, 8, 7, 6, 5, 4, 3, 2, 1, 0]\n"
     ]
    }
   ],
   "source": [
    "#Exercise11\n",
    "print(list(range(10))) #0以上10未満\n",
    "print(list(range(1,11))) #1以上11未満\n",
    "print(list(range(0,30,5))) #0以上30未満、5ずつ\n",
    "print(list(range(0,10,3))) #0以上10未満、3ずつ\n",
    "print(list(range(0,-10,-1))) #0以下-10より上、-1ずつ\n",
    "print(list(range(10,-1,-1))) #10以下-1より上、-1ずつ"
   ]
  },
  {
   "cell_type": "code",
   "execution_count": 16,
   "metadata": {},
   "outputs": [
    {
     "name": "stdout",
     "output_type": "stream",
     "text": [
      "\"hogehogehogehogehogehogehoge\"にある\"o\"の数は、7個\n"
     ]
    }
   ],
   "source": [
    "#Exercise12\n",
    "w1 = input('文字列入力 >>')\n",
    "w2 = input('数える文字列 >>')\n",
    "count = 0\n",
    "for i in range(len(w1)):\n",
    "    if w1[i:i+len(w2)] == w2:\n",
    "        count += 1\n",
    "print(f'\"{w1}\"にある\"{w2}\"の数は、{count}個')"
   ]
  },
  {
   "cell_type": "code",
   "execution_count": null,
   "metadata": {},
   "outputs": [],
   "source": [
    "#Exercise13\n",
    "words = \"\"\n",
    "while len(words) < 10:\n",
    "    words += input('半角英数字入力 >>')\n",
    "words = words[:10]\n",
    "print(words)"
   ]
  },
  {
   "cell_type": "code",
   "execution_count": null,
   "metadata": {},
   "outputs": [],
   "source": [
    "#Exercise14\n",
    "w = input('入力 >>')\n",
    "a,b = \"\",\"\"\n",
    "for i in range(len(w)):\n",
    "    if w[i] == 'A':\n",
    "        a += w[i]\n",
    "    elif w[i] == 'B':\n",
    "        b += w[i]\n",
    "print(f'結果表示： {a}{b}')"
   ]
  },
  {
   "cell_type": "code",
   "execution_count": null,
   "metadata": {},
   "outputs": [],
   "source": [
    "#Exercise15\n",
    "for i in range(1,21):\n",
    "    if i % 2 == 0:\n",
    "        print(str(i))"
   ]
  },
  {
   "cell_type": "code",
   "execution_count": null,
   "metadata": {},
   "outputs": [],
   "source": [
    "#Exercise16\n",
    "for i in range(1,21):\n",
    "    if i % 4 == 0:\n",
    "        continue\n",
    "    if i % 2 == 0:\n",
    "        print(str(i))"
   ]
  },
  {
   "cell_type": "code",
   "execution_count": null,
   "metadata": {},
   "outputs": [],
   "source": [
    "#Exercise17\n",
    "for i in range(1, 16):\n",
    "  if i%3 == 0 and i%5 == 0:\n",
    "    print(\"FizzBuzz\")\n",
    "  elif i%3 == 0:\n",
    "    print(\"Fizz\")\n",
    "  elif i%5 == 0:\n",
    "    print(\"Buzz\")\n",
    "  else:\n",
    "    print(i)"
   ]
  },
  {
   "cell_type": "code",
   "execution_count": null,
   "metadata": {},
   "outputs": [],
   "source": [
    "#Exercise18\n",
    "yen1,yen5 = 2,1\n",
    "total = yen5 * 5 + yen1\n",
    "for i in range(1, total+1):\n",
    "    if i % 5 <= yen1:\n",
    "        print(str(i))"
   ]
  },
  {
   "cell_type": "code",
   "execution_count": null,
   "metadata": {},
   "outputs": [],
   "source": [
    "#Exercise19\n",
    "w1 = input('入力1 >>')\n",
    "w2 = input('入力2 >>')\n",
    "cnt = 0\n",
    "for i in range(len(w1)):\n",
    "    if w1[i] == w2[i]:\n",
    "        cnt += 1\n",
    "print(f'同じ文字は：{cnt}個')"
   ]
  },
  {
   "cell_type": "code",
   "execution_count": 4,
   "metadata": {},
   "outputs": [
    {
     "name": "stdout",
     "output_type": "stream",
     "text": [
      "4回入力・合計22・平均5.5\n"
     ]
    }
   ],
   "source": [
    "#Excercise20\n",
    "num = input('入力 >>')\n",
    "total, count = 0, 0\n",
    "while not 'end' == num:\n",
    "    total += int(num)\n",
    "    count += 1\n",
    "    num = input('入力 >>')\n",
    "print(f'{count}回入力・合計{total}・平均{total/count}')"
   ]
  },
  {
   "cell_type": "code",
   "execution_count": null,
   "metadata": {},
   "outputs": [],
   "source": [
    "#Excercise21\n",
    "f = -50\n",
    "while f <= 50:\n",
    "  c = (f - 32) * 5 / 9\n",
    "  print(f\"華氏{f}度 = 摂氏{c:.2f}度\")\n",
    "  f += 10"
   ]
  },
  {
   "cell_type": "code",
   "execution_count": null,
   "metadata": {},
   "outputs": [],
   "source": [
    "#Excercise22\n",
    "temp = {'日':None, '月':None, '火':None, '水':None, '木':None, '金':None, '土':None}\n",
    "for day in temp:\n",
    "    data = float(input(f'{day}曜日のデータを入力 >>'))\n",
    "    temp[day] = data\n",
    "print(temp)"
   ]
  },
  {
   "cell_type": "code",
   "execution_count": null,
   "metadata": {},
   "outputs": [],
   "source": [
    "#Excercise23\n",
    "for day in temp:\n",
    "    print(f'{day}曜日は{temp[day]}度')"
   ]
  },
  {
   "cell_type": "code",
   "execution_count": null,
   "metadata": {},
   "outputs": [],
   "source": [
    "#Excercise24\n",
    "temp_new = dict()\n",
    "for day in temp:\n",
    "    if temp[day] == 36.5:\n",
    "        temp_new[day] = 'N/A'\n",
    "    else:\n",
    "        temp_new[day] = temp[day]\n",
    "print(temp)\n",
    "print(temp_new)"
   ]
  },
  {
   "cell_type": "code",
   "execution_count": null,
   "metadata": {},
   "outputs": [],
   "source": [
    "#Excercise25\n",
    "total = 0\n",
    "count = 0\n",
    "for day in temp_new:\n",
    "    if isinstance(temp_new[day], float):\n",
    "        total += temp_new[day]\n",
    "        count += 1\n",
    "print(f'平均は{total/count}度です')"
   ]
  },
  {
   "cell_type": "code",
   "execution_count": null,
   "metadata": {},
   "outputs": [],
   "source": [
    "#Excercise26\n",
    "nums = [1,2]\n",
    "data = sum(nums)\n",
    "while data <= 50:\n",
    "    nums.append(data)\n",
    "    data += nums[len(nums)-1]\n",
    "print(nums)"
   ]
  },
  {
   "cell_type": "code",
   "execution_count": null,
   "metadata": {},
   "outputs": [],
   "source": [
    "#Excercise27\n",
    "words = ['hello', 'eye', 'bye', 'noon']\n",
    "count = 0\n",
    "for word in words:\n",
    "    if len(word) > 1 and word[0] == word[-1]:\n",
    "        count += 1\n",
    "print(count)"
   ]
  },
  {
   "cell_type": "code",
   "execution_count": 1,
   "metadata": {},
   "outputs": [
    {
     "name": "stdout",
     "output_type": "stream",
     "text": [
      "[2, 4, 6, 8, 10]\n"
     ]
    }
   ],
   "source": [
    "#Excercise28-1\n",
    "nums = [1,2,3,4,5,6,7,8,9,10]\n",
    "items = []\n",
    "for n in nums:\n",
    "    if n%2==0:\n",
    "        items.append(n)\n",
    "print(items)"
   ]
  },
  {
   "cell_type": "code",
   "execution_count": 3,
   "metadata": {},
   "outputs": [
    {
     "name": "stdout",
     "output_type": "stream",
     "text": [
      "[2, 4, 6, 8, 10]\n"
     ]
    }
   ],
   "source": [
    "#Excercise28-2\n",
    "nums = [1,2,3,4,5,6,7,8,9,10]\n",
    "items = [n for n in nums if n%2==0]\n",
    "print(items)"
   ]
  },
  {
   "cell_type": "code",
   "execution_count": null,
   "metadata": {},
   "outputs": [],
   "source": [
    "#Excercise29-1\n",
    "nums = [10,20,30,20,10,50,60,40,80,50,40]\n",
    "items = []\n",
    "for n in nums:\n",
    "    if n not in items:\n",
    "        items.append(n)\n",
    "print(items)"
   ]
  },
  {
   "cell_type": "code",
   "execution_count": null,
   "metadata": {},
   "outputs": [],
   "source": [
    "#Excercise29-2\n",
    "nums = [10,20,30,20,10,50,60,40,80,50,40]\n",
    "items = [n2 for n2 in {n1 for n1 in nums}] #集合を使うことで重複を無く\n",
    "print(items)"
   ]
  },
  {
   "cell_type": "code",
   "execution_count": null,
   "metadata": {},
   "outputs": [],
   "source": [
    "#Excercise30\n",
    "names = [{'001': 'Tanaka', 'mail':'foobar@hoge.com'}, {'002': 'Suzuki'}, {'003': 'Yamada'}, {'001': 'Tanaka', 'mail':'foobar@hoge.com'}]\n",
    "#result = [dict(e) for e in {tuple(d.items()) for d in names}]\n",
    "result = []\n",
    "for n in names:\n",
    "    if n not in result:\n",
    "        result.append(n)\n",
    "print(result)\n",
    "nums = [[1,2,3], [3,4], [1,2,3], [4,5]]\n",
    "items = []\n",
    "for n in nums:\n",
    "    if n not in items:\n",
    "        items.append(n)\n",
    "#res = [list(e) for e in {tuple(d) for d in nums}]\n",
    "print(items)"
   ]
  },
  {
   "cell_type": "code",
   "execution_count": null,
   "metadata": {},
   "outputs": [],
   "source": [
    "#Excercise31\n",
    "colors = \"red,yellow,black,blue,white\"\n",
    "color_list = colors.split(',')\n",
    "result = []\n",
    "for n in color_list:\n",
    "    if len(n) > 4:\n",
    "        result.append(n)\n",
    "print(result)"
   ]
  },
  {
   "cell_type": "code",
   "execution_count": null,
   "metadata": {},
   "outputs": [],
   "source": [
    "#Excercise32\n",
    "d1 = {'a':10, 'b':70}\n",
    "d2 = {'c':30, 'd':60}\n",
    "d3 = {'e':80, 'f':50}\n",
    "d4 = {}\n",
    "for d in (d1,d2,d3):\n",
    "    d4.update(d)\n",
    "print(d4)"
   ]
  },
  {
   "cell_type": "code",
   "execution_count": null,
   "metadata": {},
   "outputs": [],
   "source": [
    "#Excercise33\n",
    "s = input('入力 >>')\n",
    "d = {}\n",
    "for n in s:\n",
    "    keys = d.keys()\n",
    "    if n in keys:\n",
    "        d[n] += 1\n",
    "    else:\n",
    "        d[n] = 1\n",
    "print(d)"
   ]
  },
  {
   "cell_type": "code",
   "execution_count": null,
   "metadata": {},
   "outputs": [],
   "source": [
    "#Excercise34\n",
    "keys = ['a','b','c']\n",
    "values = [1,2,3]\n",
    "d1 = dict(zip(keys,values))\n",
    "print(d1)\n",
    "d2 = {k: v for k, v in zip(keys, values)}\n",
    "print(d2)"
   ]
  },
  {
   "cell_type": "code",
   "execution_count": null,
   "metadata": {},
   "outputs": [],
   "source": [
    "#Excercise35-1\n",
    "info = [['red','#FF0000',20],['yellow','#FFFF00',80],['blue','#0000FF',50]]\n",
    "result = {}\n",
    "for color in info:\n",
    "    result[color[0]] = color[1:]\n",
    "print(result) "
   ]
  },
  {
   "cell_type": "code",
   "execution_count": null,
   "metadata": {},
   "outputs": [],
   "source": [
    "#Excercise35-2\n",
    "info = [['red','#FF0000',20],['yellow','#FFFF00',80],['blue','#0000FF',50]]\n",
    "result = {color[0]: color[1:] for color in info}\n",
    "print(result)"
   ]
  },
  {
   "cell_type": "code",
   "execution_count": 4,
   "metadata": {},
   "outputs": [
    {
     "name": "stdout",
     "output_type": "stream",
     "text": [
      "{'c1': 'Red', 'c2': 'Green', 'c4': 'Blue'}\n"
     ]
    }
   ],
   "source": [
    "#Excercise36-1\n",
    "dic = {'c1': 'Red', 'c2': 'Green', 'c3':None, 'c4': 'Blue'}\n",
    "for key in list(dic.keys()):\n",
    "    if dic[key] == None:\n",
    "        del dic[key]\n",
    "print(dic)"
   ]
  },
  {
   "cell_type": "code",
   "execution_count": 5,
   "metadata": {},
   "outputs": [
    {
     "name": "stdout",
     "output_type": "stream",
     "text": [
      "{'c1': 'Red', 'c2': 'Green', 'c4': 'Blue'}\n"
     ]
    }
   ],
   "source": [
    "#Excercise36-2\n",
    "dic = {'c1': 'Red', 'c2': 'Green', 'c3':None, 'c4': 'Blue'}\n",
    "dic = {key:value for (key, value) in dic.items() if value is not None}\n",
    "print(dic)"
   ]
  },
  {
   "cell_type": "code",
   "execution_count": 6,
   "metadata": {},
   "outputs": [
    {
     "name": "stdout",
     "output_type": "stream",
     "text": [
      "['a', 'b', 'c', 'd']\n"
     ]
    }
   ],
   "source": [
    "#Excercise37\n",
    "l = ['a', 'b', 'c', 'd', None, 'f', 'g', None, 'h']\n",
    "new_list = []\n",
    "for s in l:\n",
    "    if s == None:\n",
    "        break\n",
    "    new_list.append(s)\n",
    "print(new_list)"
   ]
  },
  {
   "cell_type": "code",
   "execution_count": null,
   "metadata": {},
   "outputs": [],
   "source": [
    "#Excercise38\n",
    "import random\n",
    "num = random.randint(1,20)\n",
    "result = ''\n",
    "for i in range(1,num+1):\n",
    "    if num % i == 0:\n",
    "        result += f'{i}x{int(num/i)}={num} '\n",
    "print(result)"
   ]
  },
  {
   "cell_type": "code",
   "execution_count": null,
   "metadata": {},
   "outputs": [],
   "source": [
    "#Excercise39\n",
    "import random\n",
    "num = random.randint(1,20)\n",
    "result = ''\n",
    "for i in range(1,num+1):\n",
    "    if i > num/i:\n",
    "        break\n",
    "    if num % i == 0:\n",
    "        result += f'{i}x{int(num/i)}={num} '\n",
    "print(result)"
   ]
  },
  {
   "cell_type": "code",
   "execution_count": null,
   "metadata": {},
   "outputs": [],
   "source": [
    "#Excercise40\n",
    "import random\n",
    "l = []\n",
    "for n in range(5):\n",
    "    l.append(random.randint(1,15))\n",
    "check = int(input('入力 >>'))\n",
    "print(l)\n",
    "if check in l:\n",
    "    print('あります')\n",
    "else:\n",
    "    print('ありません')"
   ]
  },
  {
   "cell_type": "code",
   "execution_count": 18,
   "metadata": {},
   "outputs": [
    {
     "name": "stdout",
     "output_type": "stream",
     "text": [
      "7536\n",
      "6 3 5 7 \n"
     ]
    }
   ],
   "source": [
    "#Excercise41\n",
    "num = 7536\n",
    "print(num)\n",
    "result = ''\n",
    "while num > 0:\n",
    "    digit = num % 10\n",
    "    result += str(digit) + ' '\n",
    "    num = num // 10\n",
    "print(result)"
   ]
  },
  {
   "cell_type": "code",
   "execution_count": 7,
   "metadata": {},
   "outputs": [
    {
     "name": "stdout",
     "output_type": "stream",
     "text": [
      "赤が0、青が1、白が2で負け\n"
     ]
    }
   ],
   "source": [
    "#Excercise42\n",
    "import random\n",
    "r,b,w = 0,0,0\n",
    "for i in range(3):\n",
    "    num = random.randint(1,3)\n",
    "    if num == 1:\n",
    "        r += 1\n",
    "    elif num == 2:\n",
    "        b += 1\n",
    "    else:\n",
    "        w += 1\n",
    "if r == 3 or b == 3 or w == 3 or r == 1 and b == 1 and w == 1:\n",
    "    print(f'赤が{r}、青が{b}、白が{w}で勝ち')\n",
    "else:\n",
    "    print(f'赤が{r}、青が{b}、白が{w}で負け')"
   ]
  },
  {
   "cell_type": "code",
   "execution_count": null,
   "metadata": {},
   "outputs": [],
   "source": [
    "#Excercise43\n",
    "import random\n",
    "l = []\n",
    "for n in range(5):\n",
    "    l.append(random.randint(1,15))\n",
    "count = 0\n",
    "while count < 5:\n",
    "    check = int(input('入力 >>'))\n",
    "    count += 1\n",
    "    print(f'{count}回目：')\n",
    "    if check in l:\n",
    "        print(l)\n",
    "        print('あります')\n",
    "        count += 1 #5回目に当たった時を考慮\n",
    "        break\n",
    "    else:\n",
    "        print('ありません')\n",
    "if count == 5:\n",
    "    print('ハズレです')"
   ]
  },
  {
   "cell_type": "code",
   "execution_count": null,
   "metadata": {},
   "outputs": [],
   "source": [
    "#Excercise44\n",
    "yoko = int(input('列数 >>'))\n",
    "tate = int(input('行数 >>'))\n",
    "chrs = ''\n",
    "for i in range(tate):\n",
    "    for j in range(yoko):\n",
    "        chrs += '●'\n",
    "    print(chrs)\n",
    "    chrs = ''"
   ]
  },
  {
   "cell_type": "code",
   "execution_count": 30,
   "metadata": {},
   "outputs": [
    {
     "name": "stdout",
     "output_type": "stream",
     "text": [
      "\n",
      "*\n",
      "**\n",
      "***\n",
      "****\n",
      "*****\n",
      "****\n",
      "***\n",
      "**\n",
      "*\n"
     ]
    }
   ],
   "source": [
    "#Excercise45-1\n",
    "n,star=5,''\n",
    "for i in range(n):\n",
    "    for j in range(i):\n",
    "        star += '*'\n",
    "    print(star)\n",
    "    star = ''\n",
    "\n",
    "for i in range(n,0,-1):\n",
    "    for j in range(i):\n",
    "        star += '*'\n",
    "    print(star)\n",
    "    star = ''"
   ]
  },
  {
   "cell_type": "code",
   "execution_count": null,
   "metadata": {},
   "outputs": [],
   "source": [
    "#Excercise45-2\n",
    "n=5\n",
    "for i in range(n):\n",
    "    for j in range(i):\n",
    "        print ('*', end=\"\")\n",
    "    print('')\n",
    "\n",
    "for i in range(n,0,-1):\n",
    "    for j in range(i):\n",
    "        print('*', end=\"\")\n",
    "    print('')"
   ]
  },
  {
   "cell_type": "code",
   "execution_count": null,
   "metadata": {},
   "outputs": [],
   "source": [
    "#Excercise46\n",
    "QUESTION = [\n",
    "    \"桜の咲く季節は？\",\n",
    "    \"点を取ると大きくなる動物は？\",\n",
    "    \"パンでも固くて食べられないパンは？\"\n",
    "]\n",
    "ANS = [\"春\", \"犬\", \"フライパン\"]\n",
    "for i in range(3):\n",
    "    ans = input(QUESTION[i])\n",
    "    if ans == ANS[i]:\n",
    "        print(\"正解です\")\n",
    "    else:\n",
    "        print(\"不正解です\")"
   ]
  },
  {
   "cell_type": "code",
   "execution_count": null,
   "metadata": {},
   "outputs": [],
   "source": [
    "#Excercise47\n",
    "import random\n",
    "for i in range(20):\n",
    "    dice1 = random.randint(1,6)\n",
    "    dice2 = random.randint(1,6)\n",
    "    print(f'{i+1}回目：{dice1},{dice2}')\n",
    "    if dice1 == dice2:\n",
    "        if dice1 % 2 == 0:\n",
    "            print('大当たり')\n",
    "        else:\n",
    "            print('当たり')\n",
    "        break"
   ]
  },
  {
   "cell_type": "code",
   "execution_count": null,
   "metadata": {},
   "outputs": [],
   "source": [
    "#Excercise48\n",
    "import random\n",
    "alph = ['A','B', 'C', 'D', 'E', 'F', 'G', 'H', 'I', 'J']\n",
    "r = random.choice(alph)\n",
    "Q = ''\n",
    "for i in alph:\n",
    "    if i != r:\n",
    "        Q = Q + i\n",
    "print(Q)\n",
    "ans = input('抜けているアルファベットは？')\n",
    "if ans == r:\n",
    "    print('正解です')\n",
    "else:\n",
    "    print('間違いです')"
   ]
  },
  {
   "cell_type": "code",
   "execution_count": null,
   "metadata": {},
   "outputs": [],
   "source": [
    "#Excercise49\n",
    "#N, M, K, L = map(int,input('はじめの行>>').split())\n",
    "start = input('はじめの行>>').split()\n",
    "N, M, K, L = int(start[0]), int(start[1]), int(start[2]), int(start[3])\n",
    "for i in range(N):\n",
    "    pic_list = input(f'{i+1}行目>>').split()\n",
    "    for j in range(M):\n",
    "        if i == K-1 and j == L-1:\n",
    "            out = pic_list[j]\n",
    "\n",
    "print(f'{K}行{L}列目の整数：{out}')"
   ]
  },
  {
   "cell_type": "code",
   "execution_count": null,
   "metadata": {},
   "outputs": [],
   "source": [
    "#Excercise50-1\n",
    "base = list(input('入力 >>'))\n",
    "flag = False\n",
    "result = ''\n",
    "for i in base:\n",
    "    if i == '(':\n",
    "        result += i\n",
    "        flag = True\n",
    "        continue\n",
    "    if i == ')':\n",
    "        result += i\n",
    "        flag = False\n",
    "        continue\n",
    "    if flag:\n",
    "        result += 'x'\n",
    "    else:\n",
    "        result += i\n",
    "print(result)"
   ]
  },
  {
   "cell_type": "code",
   "execution_count": null,
   "metadata": {},
   "outputs": [],
   "source": [
    "#Excercise50-2\n",
    "base = input('入力 >>')\n",
    "result = ''\n",
    "start = base.find('(')\n",
    "while not start == -1:\n",
    "    end = base.find(')')\n",
    "    if end == -1:\n",
    "        break\n",
    "    result += base[:start+1]\n",
    "    result += 'x'*(end-start-1)+')'\n",
    "    base = base[end+1:]\n",
    "    start = base.find('(')\n",
    "result += base\n",
    "print(result)"
   ]
  }
 ],
 "metadata": {
  "kernelspec": {
   "display_name": "Python 3.9.2 64-bit ('3.9.2': pyenv)",
   "name": "python392jvsc74a57bd0e175e2d1a69ec44a53513b33867561d513a585d5b2228589977b3e28bb8f7a45"
  },
  "language_info": {
   "codemirror_mode": {
    "name": "ipython",
    "version": 3
   },
   "file_extension": ".py",
   "mimetype": "text/x-python",
   "name": "python",
   "nbconvert_exporter": "python",
   "pygments_lexer": "ipython3",
   "version": "3.9.2"
  },
  "orig_nbformat": 2
 },
 "nbformat": 4,
 "nbformat_minor": 2
}