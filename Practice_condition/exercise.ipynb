{
 "cells": [
  {
   "cell_type": "code",
   "execution_count": null,
   "metadata": {},
   "outputs": [],
   "source": [
    "#Exercise1\n",
    "tenki = int(input('天気を入力 >>'))\n",
    "if tenki == 0:\n",
    "    print('晴れです')\n",
    "elif tenki == 1:\n",
    "    print('曇りです')\n",
    "elif tenki == 2:\n",
    "    print('雨です')\n",
    "else:\n",
    "    print('台風です')"
   ]
  },
  {
   "cell_type": "code",
   "execution_count": 5,
   "metadata": {},
   "outputs": [
    {
     "name": "stdout",
     "output_type": "stream",
     "text": [
      "成人\n"
     ]
    }
   ],
   "source": [
    "#Exercise2\n",
    "age = int(input('年齢は？ >>'))\n",
    "if age < 20:\n",
    "    print('未成年')\n",
    "else:\n",
    "    print('成人')"
   ]
  },
  {
   "cell_type": "code",
   "execution_count": 6,
   "metadata": {},
   "outputs": [
    {
     "name": "stdout",
     "output_type": "stream",
     "text": [
      "前期高齢者\n"
     ]
    }
   ],
   "source": [
    "#Exercise3\n",
    "age = int(input('年齢は？ >>'))\n",
    "if age < 20:\n",
    "    print('未成年')\n",
    "else:\n",
    "    if age >= 65 and age < 75:\n",
    "        print('前期高齢者')\n",
    "    elif age >= 70:\n",
    "        print('後期高齢者')\n",
    "    else:\n",
    "        print('成人')"
   ]
  },
  {
   "cell_type": "code",
   "execution_count": 10,
   "metadata": {},
   "outputs": [
    {
     "name": "stdout",
     "output_type": "stream",
     "text": [
      "前期高齢者\n"
     ]
    }
   ],
   "source": [
    "#Exercise4\n",
    "age = int(input('年齢は？ >>'))\n",
    "if age < 20:\n",
    "    if age >= 6 and age <= 15:\n",
    "        print('未成年（義務教育の対象）')\n",
    "    else:\n",
    "        print('未成年')\n",
    "else:\n",
    "    if age >= 65 and age < 75:\n",
    "        print('前期高齢者')\n",
    "    elif age >= 75:\n",
    "        print('後期高齢者')\n",
    "    else:\n",
    "        print('成人')"
   ]
  },
  {
   "cell_type": "code",
   "execution_count": 3,
   "metadata": {},
   "outputs": [
    {
     "name": "stdout",
     "output_type": "stream",
     "text": [
      "それはありません\n"
     ]
    }
   ],
   "source": [
    "#Exercise5\n",
    "frt1 = \"Apple\"\n",
    "frt2 = \"Banana\"\n",
    "veg1 = \"Carrot\"\n",
    "veg2 = \"Onion\"\n",
    "ans = input('どれですか？ >>')\n",
    "if ans == frt1 or ans == frt2:\n",
    "    print('フルーツです')\n",
    "elif ans == veg1 or ans == veg2:\n",
    "    print('野菜です')\n",
    "else:\n",
    "    print('それはありません')"
   ]
  },
  {
   "cell_type": "code",
   "execution_count": 4,
   "metadata": {},
   "outputs": [
    {
     "name": "stdout",
     "output_type": "stream",
     "text": [
      "同じです\n"
     ]
    }
   ],
   "source": [
    "#Exercise6\n",
    "w1 = input('入力1 >>')\n",
    "w2 = input('入力2 >>')\n",
    "if w1.lower() == w2.lower():\n",
    "    print('同じです')\n",
    "else:\n",
    "    print('違います')"
   ]
  },
  {
   "cell_type": "code",
   "execution_count": 16,
   "metadata": {},
   "outputs": [
    {
     "name": "stdout",
     "output_type": "stream",
     "text": [
      "abcdefghij\n"
     ]
    }
   ],
   "source": [
    "#Exercise7\n",
    "words = \"\"\n",
    "while len(words) < 10:\n",
    "    words += input('半角英数字入力 >>')\n",
    "words = words[:10]\n",
    "print(words)"
   ]
  },
  {
   "cell_type": "code",
   "execution_count": null,
   "metadata": {},
   "outputs": [],
   "source": [
    "#Exercise7\n",
    "for i in range(1,21):\n",
    "    if i % 2 == 0:\n",
    "        print(str(i))"
   ]
  },
  {
   "cell_type": "code",
   "execution_count": null,
   "metadata": {},
   "outputs": [],
   "source": [
    "#Exercise8\n",
    "for i in range(1,21):\n",
    "    if i % 4 == 0:\n",
    "        continue\n",
    "    if i % 2 == 0:\n",
    "        print(str(i))"
   ]
  },
  {
   "cell_type": "code",
   "execution_count": null,
   "metadata": {},
   "outputs": [],
   "source": [
    "N, M, K, L = map(int,input('はじめの行>>').split())\n",
    "for i in range(N):\n",
    "    pic_list = input(f'{i+1}行目>>').split()\n",
    "    for j in range(M):\n",
    "        if i == K-1 and j == L-1:\n",
    "            out = pic_list[j]\n",
    "\n",
    "print(f'{K}行{L}列目の整数：{out}')"
   ]
  }
 ],
 "metadata": {
  "kernelspec": {
   "display_name": "Python 3.9.2 64-bit ('3.9.2': pyenv)",
   "name": "python392jvsc74a57bd0e175e2d1a69ec44a53513b33867561d513a585d5b2228589977b3e28bb8f7a45"
  },
  "language_info": {
   "codemirror_mode": {
    "name": "ipython",
    "version": 3
   },
   "file_extension": ".py",
   "mimetype": "text/x-python",
   "name": "python",
   "nbconvert_exporter": "python",
   "pygments_lexer": "ipython3",
   "version": "3.9.2"
  },
  "orig_nbformat": 2
 },
 "nbformat": 4,
 "nbformat_minor": 2
}