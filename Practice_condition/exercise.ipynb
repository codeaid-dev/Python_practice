{
 "cells": [
  {
   "cell_type": "code",
   "execution_count": null,
   "source": [
    "#Exercise1\n",
    "tenki = int(input('天気を入力 >>'))\n",
    "if tenki == 0:\n",
    "    print('晴れです')\n",
    "elif tenki == 1:\n",
    "    print('曇りです')\n",
    "elif tenki == 2:\n",
    "    print('雨です')\n",
    "else:\n",
    "    print('台風です')"
   ],
   "outputs": [],
   "metadata": {}
  },
  {
   "cell_type": "code",
   "execution_count": null,
   "source": [
    "#Exercise2\n",
    "age = int(input('年齢は？ >>'))\n",
    "if age < 20:\n",
    "    print('未成年')\n",
    "else:\n",
    "    print('成人')"
   ],
   "outputs": [],
   "metadata": {}
  },
  {
   "cell_type": "code",
   "execution_count": null,
   "source": [
    "#Exercise3\n",
    "age = int(input('年齢は？ >>'))\n",
    "if age < 20:\n",
    "    print('未成年')\n",
    "else:\n",
    "    if age >= 65 and age < 75:\n",
    "        print('前期高齢者')\n",
    "    elif age >= 70:\n",
    "        print('後期高齢者')\n",
    "    else:\n",
    "        print('成人')"
   ],
   "outputs": [],
   "metadata": {}
  },
  {
   "cell_type": "code",
   "execution_count": null,
   "source": [
    "#Exercise4\n",
    "age = int(input('年齢は？ >>'))\n",
    "if age < 20:\n",
    "    if age >= 6 and age <= 15:\n",
    "        print('未成年（義務教育の対象）')\n",
    "    else:\n",
    "        print('未成年')\n",
    "else:\n",
    "    if age >= 65 and age < 75:\n",
    "        print('前期高齢者')\n",
    "    elif age >= 75:\n",
    "        print('後期高齢者')\n",
    "    else:\n",
    "        print('成人')"
   ],
   "outputs": [],
   "metadata": {}
  },
  {
   "cell_type": "code",
   "execution_count": null,
   "source": [
    "#Exercise5\n",
    "frt1,frt2 = \"Apple\",\"Banana\"\n",
    "veg1,veg2 = \"Carrot\",\"Onion\"\n",
    "ans = input('どれですか？ >>')\n",
    "if ans == frt1 or ans == frt2:\n",
    "    print('フルーツです')\n",
    "elif ans == veg1 or ans == veg2:\n",
    "    print('野菜です')\n",
    "else:\n",
    "    print('それはありません')"
   ],
   "outputs": [],
   "metadata": {}
  },
  {
   "cell_type": "code",
   "execution_count": null,
   "source": [
    "#Exercise6\n",
    "w1 = input('入力1 >>')\n",
    "w2 = input('入力2 >>')\n",
    "if w1.lower() == w2.lower():\n",
    "    print('同じです')\n",
    "else:\n",
    "    print('違います')"
   ],
   "outputs": [],
   "metadata": {}
  },
  {
   "cell_type": "code",
   "execution_count": null,
   "source": [
    "#Exercise7\n",
    "person = input('性別は？ >>')\n",
    "age = int(input('年齢は？ >>'))\n",
    "yaku1 = '本厄年です'\n",
    "yaku2 = '本厄年ではありません'\n",
    "age_m = [25,42,61]\n",
    "age_f = [19,33,37,61]\n",
    "if person == '男性':\n",
    "    if age in age_m:\n",
    "        print(yaku1)\n",
    "    else:\n",
    "        print(yaku2)\n",
    "elif person == '女性':\n",
    "    if age in age_f:\n",
    "        print(yaku1)\n",
    "    else:\n",
    "        print(yaku2)\n",
    "else:\n",
    "    print('判定できませんでした')"
   ],
   "outputs": [],
   "metadata": {}
  },
  {
   "cell_type": "code",
   "execution_count": null,
   "source": [
    "#Exercise8\n",
    "sentence = '''芥川龍之介\n",
    "吾輩は猫である。名前はまだ無い。\n",
    "どこで生れたかとんと見当がつかぬ。\n",
    "'''\n",
    "if not sentence.startswith('夏目漱石'):\n",
    "    f = sentence.find('\\n')\n",
    "    r = sentence[:f]\n",
    "    print(sentence.replace(r, '夏目漱石'))"
   ],
   "outputs": [],
   "metadata": {}
  },
  {
   "cell_type": "code",
   "execution_count": null,
   "source": [
    "#Exercise9\n",
    "m = int(input('所持金 >>'))\n",
    "f = int(input('借りられる金額 >>'))\n",
    "b = int(input('本の値段 >>'))\n",
    "if m+f < b:\n",
    "    print('購入できません')\n",
    "elif m >= b:\n",
    "    print('0円です')\n",
    "else:\n",
    "    print(f'{b-m}円です')"
   ],
   "outputs": [],
   "metadata": {}
  },
  {
   "cell_type": "code",
   "execution_count": null,
   "source": [
    "#Exercise10\n",
    "l = input('入力 >>').split(',')\n",
    "if l[0] == l[-1]:\n",
    "    print(True)\n",
    "else:\n",
    "    print(False)"
   ],
   "outputs": [],
   "metadata": {}
  },
  {
   "cell_type": "code",
   "execution_count": null,
   "source": [
    "#Exercise11\n",
    "print(list(range(10))) #0以上10未満\n",
    "print(list(range(1,11))) #1以上11未満\n",
    "print(list(range(0,30,5))) #0以上30未満、5ずつ\n",
    "print(list(range(0,10,3))) #0以上10未満、3ずつ\n",
    "print(list(range(0,-10,-1))) #0以下-10より上、-1ずつ\n",
    "print(list(range(10,-1,-1))) #10以下-1より上、-1ずつ"
   ],
   "outputs": [],
   "metadata": {}
  },
  {
   "cell_type": "code",
   "execution_count": null,
   "source": [
    "#Exercise12\n",
    "w1 = input('文字列入力 >>')\n",
    "w2 = input('数える文字列 >>')\n",
    "count = 0\n",
    "for i in range(len(w1)):\n",
    "    if w1[i:i+len(w2)] == w2:\n",
    "        count += 1\n",
    "print(f'\"{w1}\"にある\"{w2}\"の数は、{count}個')"
   ],
   "outputs": [],
   "metadata": {}
  },
  {
   "cell_type": "code",
   "execution_count": null,
   "source": [
    "#Exercise13\n",
    "words = \"\"\n",
    "while len(words) < 10:\n",
    "    words += input('半角英数字入力 >>')\n",
    "words = words[:10]\n",
    "print(words)"
   ],
   "outputs": [],
   "metadata": {}
  },
  {
   "cell_type": "code",
   "execution_count": null,
   "source": [
    "#Exercise14\n",
    "w = input('入力 >>')\n",
    "a,b = \"\",\"\"\n",
    "for i in range(len(w)):\n",
    "    if w[i] == 'A':\n",
    "        a += w[i]\n",
    "    elif w[i] == 'B':\n",
    "        b += w[i]\n",
    "print(f'結果表示： {a}{b}')"
   ],
   "outputs": [],
   "metadata": {}
  },
  {
   "cell_type": "code",
   "execution_count": null,
   "source": [
    "#Exercise15\n",
    "for i in range(1,21):\n",
    "    if i % 2 == 0:\n",
    "        print(str(i))"
   ],
   "outputs": [],
   "metadata": {}
  },
  {
   "cell_type": "code",
   "execution_count": null,
   "source": [
    "#Exercise16\n",
    "for i in range(1,21):\n",
    "    if i % 4 == 0:\n",
    "        continue\n",
    "    if i % 2 == 0:\n",
    "        print(str(i))"
   ],
   "outputs": [],
   "metadata": {}
  },
  {
   "cell_type": "code",
   "execution_count": null,
   "source": [
    "#Exercise17\n",
    "for i in range(1, 16):\n",
    "  if i%3 == 0 and i%5 == 0:\n",
    "    print(\"FizzBuzz\")\n",
    "  elif i%3 == 0:\n",
    "    print(\"Fizz\")\n",
    "  elif i%5 == 0:\n",
    "    print(\"Buzz\")\n",
    "  else:\n",
    "    print(i)"
   ],
   "outputs": [],
   "metadata": {}
  },
  {
   "cell_type": "code",
   "execution_count": null,
   "source": [
    "#Exercise18\n",
    "yen1,yen5 = 2,1\n",
    "total = yen5 * 5 + yen1\n",
    "for i in range(1, total+1):\n",
    "    if i % 5 <= yen1:\n",
    "        print(str(i))"
   ],
   "outputs": [],
   "metadata": {}
  },
  {
   "cell_type": "code",
   "execution_count": null,
   "source": [
    "#Exercise19\n",
    "w1 = input('入力1 >>')\n",
    "w2 = input('入力2 >>')\n",
    "cnt = 0\n",
    "for i in range(len(w1)):\n",
    "    if w1[i] == w2[i]:\n",
    "        cnt += 1\n",
    "print(f'同じ文字は：{cnt}個')"
   ],
   "outputs": [],
   "metadata": {}
  },
  {
   "cell_type": "code",
   "execution_count": null,
   "source": [
    "#Excercise20\n",
    "num = input('入力 >>')\n",
    "total, count = 0, 0\n",
    "while not 'end' == num:\n",
    "    total += int(num)\n",
    "    count += 1\n",
    "    num = input('入力 >>')\n",
    "print(f'{count}回入力・合計{total}・平均{total/count}')"
   ],
   "outputs": [],
   "metadata": {}
  },
  {
   "cell_type": "code",
   "execution_count": null,
   "source": [
    "#Excercise21\n",
    "f = -50\n",
    "while f <= 50:\n",
    "  c = (f - 32) * 5 / 9\n",
    "  print(f\"華氏{f}度 = 摂氏{c:.2f}度\")\n",
    "  f += 10"
   ],
   "outputs": [],
   "metadata": {}
  },
  {
   "cell_type": "code",
   "execution_count": null,
   "source": [
    "#Excercise22\n",
    "temp = {'日':None, '月':None, '火':None, '水':None, '木':None, '金':None, '土':None}\n",
    "for day in temp:\n",
    "    data = float(input(f'{day}曜日のデータを入力 >>'))\n",
    "    temp[day] = data\n",
    "print(temp)"
   ],
   "outputs": [],
   "metadata": {}
  },
  {
   "cell_type": "code",
   "execution_count": null,
   "source": [
    "#Excercise23\n",
    "for day in temp:\n",
    "    print(f'{day}曜日は{temp[day]}度')"
   ],
   "outputs": [],
   "metadata": {}
  },
  {
   "cell_type": "code",
   "execution_count": null,
   "source": [
    "#Excercise24\n",
    "temp_new = dict()\n",
    "for day in temp:\n",
    "    if temp[day] == 36.5:\n",
    "        temp_new[day] = 'N/A'\n",
    "    else:\n",
    "        temp_new[day] = temp[day]\n",
    "print(temp)\n",
    "print(temp_new)"
   ],
   "outputs": [],
   "metadata": {}
  },
  {
   "cell_type": "code",
   "execution_count": null,
   "source": [
    "#Excercise25\n",
    "total = 0\n",
    "count = 0\n",
    "for day in temp_new:\n",
    "    if isinstance(temp_new[day], float):\n",
    "        total += temp_new[day]\n",
    "        count += 1\n",
    "print(f'平均は{total/count}度です')"
   ],
   "outputs": [],
   "metadata": {}
  },
  {
   "cell_type": "code",
   "execution_count": null,
   "source": [
    "#Excercise26\n",
    "nums = [1,2]\n",
    "data = sum(nums)\n",
    "while data <= 50:\n",
    "    nums.append(data)\n",
    "    data += nums[len(nums)-1]\n",
    "print(nums)"
   ],
   "outputs": [],
   "metadata": {}
  },
  {
   "cell_type": "code",
   "execution_count": null,
   "source": [
    "#Excercise27\n",
    "nums = [1,5,20,30,4,9,18]\n",
    "total=0\n",
    "for n in nums:\n",
    "    if n>5:\n",
    "        total += n\n",
    "print(total)"
   ],
   "outputs": [],
   "metadata": {}
  },
  {
   "cell_type": "code",
   "execution_count": null,
   "source": [
    "#Excercise28\n",
    "words = ['hello', 'eye', 'bye', 'noon']\n",
    "count = 0\n",
    "for word in words:\n",
    "    if len(word) > 1 and word[0] == word[-1]:\n",
    "        count += 1\n",
    "print(count)"
   ],
   "outputs": [],
   "metadata": {}
  },
  {
   "cell_type": "code",
   "execution_count": null,
   "source": [
    "#Excercise29-1\n",
    "nums = [1,2,3,4,5,6,7,8,9,10]\n",
    "items = []\n",
    "for n in nums:\n",
    "    if n%2==0:\n",
    "        items.append(n)\n",
    "print(items)"
   ],
   "outputs": [],
   "metadata": {}
  },
  {
   "cell_type": "code",
   "execution_count": null,
   "source": [
    "#Excercise29-2\n",
    "nums = [1,2,3,4,5,6,7,8,9,10]\n",
    "items = [n for n in nums if n%2==0]\n",
    "print(items)"
   ],
   "outputs": [],
   "metadata": {}
  },
  {
   "cell_type": "code",
   "execution_count": null,
   "source": [
    "#Excercise30-1\n",
    "dic = {\"name\": \"Tanaka\",\n",
    "      \"age\":25, \n",
    "      \"salary\": 150000, \n",
    "      \"city\": \"Tokyo\"}\n",
    "keys = [\"name\", \"salary\"]\n",
    "\n",
    "new_dic = dict()\n",
    "for k in keys:\n",
    "   new_dic[k] = dic[k]\n",
    "print(new_dic)"
   ],
   "outputs": [],
   "metadata": {}
  },
  {
   "cell_type": "code",
   "execution_count": null,
   "source": [
    "#Excercise30-2\n",
    "dic = {\"name\": \"Tanaka\",\n",
    "      \"age\":25, \n",
    "      \"salary\": 150000, \n",
    "      \"city\": \"Tokyo\"}\n",
    "keys = [\"name\", \"salary\"]\n",
    "new_dic = {k: dic[k] for k in keys}"
   ],
   "outputs": [],
   "metadata": {}
  },
  {
   "cell_type": "code",
   "execution_count": null,
   "source": [
    "#Excercise31-1\n",
    "nums = [10,20,30,20,10,50,60,40,80,50,40]\n",
    "items = []\n",
    "for n in nums:\n",
    "    if n not in items:\n",
    "        items.append(n)\n",
    "print(items)"
   ],
   "outputs": [],
   "metadata": {}
  },
  {
   "cell_type": "code",
   "execution_count": null,
   "source": [
    "#Excercise31-2\n",
    "nums = [10,20,30,20,10,50,60,40,80,50,40]\n",
    "items = [n2 for n2 in {n1 for n1 in nums}] #集合を使うことで重複を無く\n",
    "print(items)"
   ],
   "outputs": [],
   "metadata": {}
  },
  {
   "cell_type": "code",
   "execution_count": null,
   "source": [
    "#Excercise32\n",
    "l = [1,4,3,5,6,2,7,8,3,4,6,8,9,1,2]\n",
    "cnt=0\n",
    "for n in l:\n",
    "    if 3<=n<=6:\n",
    "        cnt += 1\n",
    "print(f'3~6の数は{cnt}個')"
   ],
   "outputs": [],
   "metadata": {}
  },
  {
   "cell_type": "code",
   "execution_count": null,
   "source": [
    "#Excercise33\n",
    "names = [{'001': 'Tanaka', 'mail':'foobar@hoge.com'}, {'002': 'Suzuki'}, {'003': 'Yamada'}, {'001': 'Tanaka', 'mail':'foobar@hoge.com'}]\n",
    "#result = [dict(e) for e in {tuple(d.items()) for d in names}]\n",
    "result = []\n",
    "for n in names:\n",
    "    if n not in result:\n",
    "        result.append(n)\n",
    "print(result)\n",
    "nums = [[1,2,3], [3,4], [1,2,3], [4,5]]\n",
    "items = []\n",
    "for n in nums:\n",
    "    if n not in items:\n",
    "        items.append(n)\n",
    "#res = [list(e) for e in {tuple(d) for d in nums}]\n",
    "print(items)"
   ],
   "outputs": [],
   "metadata": {}
  },
  {
   "cell_type": "code",
   "execution_count": null,
   "source": [
    "#Excercise34\n",
    "colors = \"red,yellow,black,blue,white\"\n",
    "color_list = colors.split(',')\n",
    "result = []\n",
    "for n in color_list:\n",
    "    if len(n) > 4:\n",
    "        result.append(n)\n",
    "print(result)\n",
    "#print([n for n in color_list if len(n)>4])"
   ],
   "outputs": [],
   "metadata": {}
  },
  {
   "cell_type": "code",
   "execution_count": null,
   "source": [
    "#Excercise35\n",
    "nums = input('入力 >>').split(',')\n",
    "largest = int(nums[0])\n",
    "for i in nums:\n",
    "    n = int(i)\n",
    "    if n > largest:\n",
    "        largest = n\n",
    "print(f'最大値は{largest}です')"
   ],
   "outputs": [],
   "metadata": {}
  },
  {
   "cell_type": "code",
   "execution_count": null,
   "source": [
    "#Excercise36\n",
    "words = input('入力 >>').split(',')\n",
    "longest = ''\n",
    "shortest = ''\n",
    "for i in range(len(words)):\n",
    "    if len(longest) < len(words[i]):\n",
    "        longest = words[i]\n",
    "    if len(shortest) > len(words[i]) or len(shortest) <= 0:\n",
    "        shortest = words[i]\n",
    "print(f'最短：{shortest}、最長：{longest}')"
   ],
   "outputs": [],
   "metadata": {}
  },
  {
   "cell_type": "code",
   "execution_count": null,
   "source": [
    "#Excercise37\n",
    "n = int(input('入力 >>'))\n",
    "d = dict()\n",
    "for i in range(1,n+1):\n",
    "    d[i] = i*i\n",
    "print(d)"
   ],
   "outputs": [],
   "metadata": {}
  },
  {
   "cell_type": "code",
   "execution_count": null,
   "source": [
    "#Excercise38\n",
    "d1 = {'a':10, 'b':70}\n",
    "d2 = {'c':30, 'd':60}\n",
    "d3 = {'e':80, 'f':50}\n",
    "d4 = {}\n",
    "for d in (d1,d2,d3):\n",
    "    d4.update(d)\n",
    "print(d4)"
   ],
   "outputs": [],
   "metadata": {}
  },
  {
   "cell_type": "code",
   "execution_count": null,
   "source": [
    "#Excercise39\n",
    "s = input('入力 >>')\n",
    "d = {}\n",
    "for n in s:\n",
    "    keys = d.keys()\n",
    "    if n in keys:\n",
    "        d[n] += 1\n",
    "    else:\n",
    "        d[n] = 1\n",
    "print(d)"
   ],
   "outputs": [],
   "metadata": {}
  },
  {
   "cell_type": "code",
   "execution_count": null,
   "source": [
    "#Excercise40\n",
    "keys = ['a','b','c']\n",
    "values = [1,2,3]\n",
    "dic = dict()\n",
    "for i in range(len(keys)):\n",
    "    dic[keys[i]] = values[i]\n",
    "print(dic)\n",
    "#print(dict(zip(keys, values)))\n",
    "#print({k: v for k, v in zip(keys, values)})"
   ],
   "outputs": [],
   "metadata": {}
  },
  {
   "cell_type": "code",
   "execution_count": null,
   "source": [
    "#Excercise41-1\n",
    "info = [['red','#FF0000',20],['yellow','#FFFF00',80],['blue','#0000FF',50]]\n",
    "result = {}\n",
    "for color in info:\n",
    "    result[color[0]] = color[1:]\n",
    "print(result) "
   ],
   "outputs": [],
   "metadata": {}
  },
  {
   "cell_type": "code",
   "execution_count": null,
   "source": [
    "#Excercise41-2\n",
    "info = [['red','#FF0000',20],['yellow','#FFFF00',80],['blue','#0000FF',50]]\n",
    "result = {color[0]: color[1:] for color in info}\n",
    "print(result)"
   ],
   "outputs": [],
   "metadata": {}
  },
  {
   "cell_type": "code",
   "execution_count": null,
   "source": [
    "#Excercise42-1\n",
    "dic = {'c1': 'Red', 'c2': 'Green', 'c3':None, 'c4': 'Blue'}\n",
    "for key in list(dic.keys()):\n",
    "    if dic[key] == None:\n",
    "        del dic[key]\n",
    "print(dic)"
   ],
   "outputs": [],
   "metadata": {}
  },
  {
   "cell_type": "code",
   "execution_count": null,
   "source": [
    "#Excercise42-2\n",
    "dic = {'c1': 'Red', 'c2': 'Green', 'c3':None, 'c4': 'Blue'}\n",
    "dic = {key:value for (key, value) in dic.items() if value is not None}\n",
    "print(dic)"
   ],
   "outputs": [],
   "metadata": {}
  },
  {
   "cell_type": "code",
   "execution_count": null,
   "source": [
    "#Excercise43\n",
    "words = input('入力 >>')\n",
    "if len(words) > 2:\n",
    "    if words[-2:] == 'です' or words[-2:] == 'ます':\n",
    "        words = words[:-2] + 'である'\n",
    "print(words)"
   ],
   "outputs": [],
   "metadata": {}
  },
  {
   "cell_type": "code",
   "execution_count": null,
   "source": [
    "#Excercise44\n",
    "l = ['a', 'b', 'c', 'd', None, 'f', 'g', None, 'h']\n",
    "new_list = []\n",
    "for s in l:\n",
    "    if s == None:\n",
    "        break\n",
    "    new_list.append(s)\n",
    "print(new_list)"
   ],
   "outputs": [],
   "metadata": {}
  },
  {
   "cell_type": "code",
   "execution_count": null,
   "source": [
    "#Excercise45\n",
    "country = ['カザフ','ウズベキ','トルクメニ','タジキ','アフガニ','パキ']\n",
    "for i in range(len(country)):\n",
    "    country[i] += 'スタン'\n",
    "print(country)"
   ],
   "outputs": [],
   "metadata": {}
  },
  {
   "cell_type": "code",
   "execution_count": null,
   "source": [
    "#Excercise46\n",
    "words = input('入力 >>')\n",
    "remain = input('残す文字 >>')\n",
    "res = ''\n",
    "for char in words:\n",
    "    if char == remain:\n",
    "        res += char\n",
    "print(res)\n",
    "#print(''.join([char for char in words if char == remain]))"
   ],
   "outputs": [],
   "metadata": {}
  },
  {
   "cell_type": "code",
   "execution_count": null,
   "source": [
    "#Excercise47\n",
    "import random\n",
    "num = random.randint(1,20)\n",
    "result = ''\n",
    "for i in range(1,num+1):\n",
    "    if num % i == 0:\n",
    "        result += f'{i}x{int(num/i)}={num} '\n",
    "print(result)"
   ],
   "outputs": [],
   "metadata": {}
  },
  {
   "cell_type": "code",
   "execution_count": null,
   "source": [
    "#Excercise48\n",
    "import random\n",
    "num = random.randint(1,20)\n",
    "result = ''\n",
    "for i in range(1,num+1):\n",
    "    if i > num/i:\n",
    "        break\n",
    "    if num % i == 0:\n",
    "        result += f'{i}x{int(num/i)}={num} '\n",
    "print(result)"
   ],
   "outputs": [],
   "metadata": {}
  },
  {
   "cell_type": "code",
   "execution_count": null,
   "source": [
    "#Excercise49\n",
    "import random\n",
    "l = []\n",
    "for n in range(5):\n",
    "    l.append(random.randint(1,15))\n",
    "check = int(input('入力 >>'))\n",
    "print(l)\n",
    "if check in l:\n",
    "    print('あります')\n",
    "else:\n",
    "    print('ありません')"
   ],
   "outputs": [],
   "metadata": {}
  },
  {
   "cell_type": "code",
   "execution_count": null,
   "source": [
    "#Excercise50\n",
    "s = input('入力 >>')\n",
    "if len(s) > len(set(s)):\n",
    "    print('できません')\n",
    "else:\n",
    "    print('できます')"
   ],
   "outputs": [],
   "metadata": {}
  },
  {
   "cell_type": "code",
   "execution_count": null,
   "source": [
    "#Excercise51\n",
    "import random\n",
    "\n",
    "uranai = random.randint(1, 10)\n",
    "if uranai > 0 and uranai <= 1:\n",
    "    print('今日は最高！')\n",
    "elif uranai > 1 and uranai <= 4:\n",
    "    print('今日はそこそこです')\n",
    "elif uranai > 4 and uranai <= 8:\n",
    "    print('今日はまぁまぁ')\n",
    "else:\n",
    "    print('今日は最悪・・・')"
   ],
   "outputs": [],
   "metadata": {}
  },
  {
   "cell_type": "code",
   "execution_count": null,
   "source": [
    "#Excercise52\n",
    "import random\n",
    "\n",
    "uranai = ['今日は最高！','今日はそこそこです','今日はまぁまぁ','今日は最悪・・・']\n",
    "random.shuffle(uranai)\n",
    "choice = int(input('0~3を選択 >>'))\n",
    "if 0 <= choice <= 3:\n",
    "    print(uranai[choice])\n",
    "else:\n",
    "    print('占えません')"
   ],
   "outputs": [],
   "metadata": {}
  },
  {
   "cell_type": "code",
   "execution_count": null,
   "source": [
    "#Excercise53\n",
    "n, m = input('入力 >>').split(',')\n",
    "n = int(n)\n",
    "m = int(m)\n",
    "cnt = 0\n",
    "for x in range(n,m+1):\n",
    "    if (n+m+x)%3 < 1:\n",
    "        cnt += 1\n",
    "print(f'整数の平均値は{cnt}個')"
   ],
   "outputs": [],
   "metadata": {}
  },
  {
   "cell_type": "code",
   "execution_count": null,
   "source": [
    "#Excercise54\n",
    "num = 7536\n",
    "print(num)\n",
    "result = ''\n",
    "while num > 0:\n",
    "    digit = num % 10\n",
    "    result += str(digit) + ' '\n",
    "    num = num // 10\n",
    "print(result)"
   ],
   "outputs": [],
   "metadata": {}
  },
  {
   "cell_type": "code",
   "execution_count": null,
   "source": [
    "#Excercise55\n",
    "w1, w2 = input('入力 >>').split(',')\n",
    "w3 = set(w1) & set(w2)\n",
    "res = ''\n",
    "for ch in w1:\n",
    "    if ch in w3 and not ch in res:\n",
    "        res += ch\n",
    "print(res)\n",
    "#w3 = sorted(set(w1) & set(w2), key=w1.index)\n",
    "#print(''.join(w3))"
   ],
   "outputs": [],
   "metadata": {}
  },
  {
   "cell_type": "code",
   "execution_count": null,
   "source": [
    "#Excercise56\n",
    "result = []\n",
    "for i in range(100, 301):\n",
    "    s = str(i)\n",
    "    if int(s[0])%2==0 and int(s[1])%2==0 and int(s[2])%2==0:\n",
    "        result.append(s)\n",
    "print(','.join(result))"
   ],
   "outputs": [],
   "metadata": {}
  },
  {
   "cell_type": "code",
   "execution_count": null,
   "source": [
    "#Excercise57\n",
    "computers = {\n",
    "    'PC1':{'Intel', 'NVIDIA', 'Crucial'},\n",
    "    'PC2':{'Intel', 'RADEON', 'Corsair'},\n",
    "    'PC3':{'AMD', 'RADEON', 'Micron'},\n",
    "    'PC4':{'Intel', 'NVIDIA', 'Corsair'},\n",
    "    'PC5':{'AMD', 'NVIDIA', 'Sillicon Power'}\n",
    "}\n",
    "for name, contents in computers.items():\n",
    "    if 'NVIDIA' in contents:\n",
    "        print(name)"
   ],
   "outputs": [],
   "metadata": {}
  },
  {
   "cell_type": "code",
   "execution_count": null,
   "source": [
    "#Excercise58\n",
    "for name, contents in computers.items():\n",
    "    if not ('Intel' in contents or 'Micron' in contents):\n",
    "        print(name)\n",
    "#for name, contents in computers.items():\n",
    "#    if not ({'Intel', 'Micron'} & contents):\n",
    "#        print(name)"
   ],
   "outputs": [],
   "metadata": {}
  },
  {
   "cell_type": "code",
   "execution_count": null,
   "source": [
    "#Excercise59\n",
    "for name, contents in computers.items():\n",
    "    if contents & {'AMD', 'Crucial'}:\n",
    "        print(name)"
   ],
   "outputs": [],
   "metadata": {}
  },
  {
   "cell_type": "code",
   "execution_count": null,
   "source": [
    "#Excercise60\n",
    "import random\n",
    "r,b,w = 0,0,0\n",
    "for i in range(3):\n",
    "    num = random.randint(1,3)\n",
    "    if num == 1:\n",
    "        r += 1\n",
    "    elif num == 2:\n",
    "        b += 1\n",
    "    else:\n",
    "        w += 1\n",
    "if r == 3 or b == 3 or w == 3 or r == 1 and b == 1 and w == 1:\n",
    "    print(f'赤が{r}、青が{b}、白が{w}で勝ち')\n",
    "else:\n",
    "    print(f'赤が{r}、青が{b}、白が{w}で負け')"
   ],
   "outputs": [],
   "metadata": {}
  },
  {
   "cell_type": "code",
   "execution_count": null,
   "source": [
    "#Excercise61\n",
    "mail = input('メール >>')\n",
    "at = mail.find('@')\n",
    "if at != -1:\n",
    "    check = mail[at:]\n",
    "    if not '.' in check:\n",
    "        print('無効なメールアドレス')\n",
    "    else:\n",
    "        print('有効なメールアドレス')\n",
    "else:\n",
    "    print('無効なメールアドレス')"
   ],
   "outputs": [],
   "metadata": {}
  },
  {
   "cell_type": "code",
   "execution_count": null,
   "source": [
    "#Excercise62\n",
    "tate, yoko = input('行列数 >>').split(',')\n",
    "chrs = ''\n",
    "for i in range(int(tate)):\n",
    "    for j in range(int(yoko)):\n",
    "        chrs += '●'\n",
    "    print(chrs)\n",
    "    chrs = ''"
   ],
   "outputs": [],
   "metadata": {}
  },
  {
   "cell_type": "code",
   "execution_count": null,
   "source": [
    "#Excercise63-1\n",
    "n,star=5,''\n",
    "for i in range(n):\n",
    "    for j in range(i):\n",
    "        star += '*'\n",
    "    print(star)\n",
    "    star = ''\n",
    "\n",
    "for i in range(n,0,-1):\n",
    "    for j in range(i):\n",
    "        star += '*'\n",
    "    print(star)\n",
    "    star = ''"
   ],
   "outputs": [],
   "metadata": {}
  },
  {
   "cell_type": "code",
   "execution_count": null,
   "source": [
    "#Excercise63-2\n",
    "n=5\n",
    "for i in range(n):\n",
    "    for j in range(i):\n",
    "        print ('*', end=\"\")\n",
    "    print('')\n",
    "\n",
    "for i in range(n,0,-1):\n",
    "    for j in range(i):\n",
    "        print('*', end=\"\")\n",
    "    print('')"
   ],
   "outputs": [],
   "metadata": {}
  },
  {
   "cell_type": "code",
   "execution_count": null,
   "source": [
    "#Exercise64\n",
    "items = list(input('入力 >>').split(','))\n",
    "for num in items:\n",
    "    n = int(num)\n",
    "    output = ''\n",
    "    while n > 0:\n",
    "        output += '@'\n",
    "        n = n - 1\n",
    "    print(output)"
   ],
   "outputs": [],
   "metadata": {}
  },
  {
   "cell_type": "code",
   "execution_count": null,
   "source": [
    "#Excercise65\n",
    "QUESTION = [\n",
    "    \"桜の咲く季節は？\",\n",
    "    \"点を取ると大きくなる動物は？\",\n",
    "    \"パンでも固くて食べられないパンは？\"\n",
    "]\n",
    "ANS = [\"春\", \"犬\", \"フライパン\"]\n",
    "for i in range(3):\n",
    "    ans = input(QUESTION[i])\n",
    "    if ans == ANS[i]:\n",
    "        print(\"正解です\")\n",
    "    else:\n",
    "        print(\"不正解です\")"
   ],
   "outputs": [],
   "metadata": {}
  },
  {
   "cell_type": "code",
   "execution_count": null,
   "source": [
    "#Excercise66\n",
    "import random\n",
    "for i in range(20):\n",
    "    dice1 = random.randint(1,6)\n",
    "    dice2 = random.randint(1,6)\n",
    "    print(f'{i+1}回目：{dice1},{dice2}')\n",
    "    if dice1 == dice2:\n",
    "        if dice1 % 2 == 0:\n",
    "            print('大当たり')\n",
    "        else:\n",
    "            print('当たり')\n",
    "        break"
   ],
   "outputs": [],
   "metadata": {}
  },
  {
   "cell_type": "code",
   "execution_count": null,
   "source": [
    "#Excercise67\n",
    "import random\n",
    "alph = ['A','B', 'C', 'D', 'E', 'F', 'G', 'H', 'I', 'J']\n",
    "r = random.choice(alph)\n",
    "Q = ''\n",
    "for i in alph:\n",
    "    if i != r:\n",
    "        Q = Q + i\n",
    "print(Q)\n",
    "ans = input('抜けているアルファベットは？')\n",
    "if ans == r:\n",
    "    print('正解です')\n",
    "else:\n",
    "    print('間違いです')"
   ],
   "outputs": [],
   "metadata": {}
  },
  {
   "cell_type": "code",
   "execution_count": null,
   "source": [
    "#Excercise68\n",
    "#N, M, K, L = map(int,input('はじめの行>>').split())\n",
    "start = input('はじめの行>>').split()\n",
    "N, M, K, L = int(start[0]), int(start[1]), int(start[2]), int(start[3])\n",
    "for i in range(N):\n",
    "    pic_list = input(f'{i+1}行目>>').split()\n",
    "    for j in range(M):\n",
    "        if i == K-1 and j == L-1:\n",
    "            out = pic_list[j]\n",
    "\n",
    "print(f'{K}行{L}列目の整数：{out}')"
   ],
   "outputs": [],
   "metadata": {}
  },
  {
   "cell_type": "code",
   "execution_count": null,
   "source": [
    "#Excercise69-1\n",
    "base = list(input('入力 >>'))\n",
    "flag = False\n",
    "result = ''\n",
    "for i in base:\n",
    "    if i == '(':\n",
    "        result += i\n",
    "        flag = True\n",
    "        continue\n",
    "    if i == ')':\n",
    "        result += i\n",
    "        flag = False\n",
    "        continue\n",
    "    if flag:\n",
    "        result += 'x'\n",
    "    else:\n",
    "        result += i\n",
    "print(result)"
   ],
   "outputs": [],
   "metadata": {}
  },
  {
   "cell_type": "code",
   "execution_count": null,
   "source": [
    "#Excercise69-2\n",
    "base = input('入力 >>')\n",
    "result = ''\n",
    "start = base.find('(')\n",
    "while not start == -1:\n",
    "    end = base.find(')')\n",
    "    if end == -1:\n",
    "        break\n",
    "    result += base[:start+1]\n",
    "    result += 'x'*(end-start-1)+')'\n",
    "    base = base[end+1:]\n",
    "    start = base.find('(')\n",
    "result += base\n",
    "print(result)"
   ],
   "outputs": [],
   "metadata": {}
  },
  {
   "cell_type": "code",
   "execution_count": null,
   "source": [
    "#Excercise70\n",
    "import random\n",
    "\n",
    "cnt = 0\n",
    "res = []\n",
    "while (True):\n",
    "    num = random.randint(1, 20)\n",
    "    if num % 2 == 0 and str(num) not in res:\n",
    "        res.append(str(num))\n",
    "        cnt += 1\n",
    "        if cnt == 10:\n",
    "            break\n",
    "print(' '.join(res))\n",
    "#print(' '.join([str(n) for n in res]))"
   ],
   "outputs": [],
   "metadata": {}
  },
  {
   "cell_type": "code",
   "execution_count": null,
   "source": [
    "#Excercise71\n",
    "nums = [2,6,1,7,3,9,8,5,4,0]\n",
    "\n",
    "for i in range(len(nums)):\n",
    "    if i == 0:\n",
    "        key = nums[i]\n",
    "        print(key, end=' ')\n",
    "    else:\n",
    "        print(nums[key], end=' ')\n",
    "        key = nums[key]"
   ],
   "outputs": [],
   "metadata": {}
  },
  {
   "cell_type": "code",
   "execution_count": null,
   "source": [
    "#Excercise72\n",
    "nums = input('入力 >>').split()\n",
    "for i in range(1,11):\n",
    "    if not str(i) in nums:\n",
    "        ans = i\n",
    "        break\n",
    "print(ans)\n",
    "\n",
    "#nums = list(map(int, input('入力 >>').split()))\n",
    "#print(55-sum(nums))"
   ],
   "outputs": [],
   "metadata": {}
  },
  {
   "cell_type": "code",
   "execution_count": null,
   "source": [
    "#Excercise73\n",
    "s = input('入力 >>').split(',')\n",
    "dic = {}\n",
    "for n in s:\n",
    "    n = int(n)\n",
    "    m = n**2\n",
    "    if m % 3 == 0 or m % 5 == 0:\n",
    "        dic[n] = m\n",
    "\n",
    "print(dic)\n",
    "\n",
    "#d = {int(n):int(n)**2 for n in s if int(n)%3 == 0 or int(n)%5 == 0}\n",
    "#print(d)"
   ],
   "outputs": [],
   "metadata": {}
  },
  {
   "cell_type": "code",
   "execution_count": null,
   "source": [
    "#Excercise74\n",
    "row, col = input('行と列 >>').split(',')\n",
    "masu = [[0 for c in range(int(col))] for r in range(int(row))]\n",
    "print(masu)\n",
    "\n",
    "masu2 = []\n",
    "masu3 = []\n",
    "for r in range(int(row)):\n",
    "    for c in range(int(col)):\n",
    "        masu2.append(0)\n",
    "    masu3.append(masu2)\n",
    "    masu2 = []\n",
    "print(masu3)"
   ],
   "outputs": [],
   "metadata": {}
  },
  {
   "cell_type": "code",
   "execution_count": null,
   "source": [
    "#Excercise75\n",
    "n = int(input('行数 >>'))\n",
    "for row in range(1,n+1):\n",
    "    result = ''\n",
    "    for col in range(1,row+1):\n",
    "        result += str(col)\n",
    "    print(result)"
   ],
   "outputs": [],
   "metadata": {}
  },
  {
   "cell_type": "code",
   "execution_count": null,
   "source": [
    "#Excercise76\n",
    "s1 = input('文字列1 >>')\n",
    "s2 = input('文字列2 >>')\n",
    "flag = False\n",
    "for i in range(len(s1)):\n",
    "    if s1.count(s1[i]) != s2.count(s1[i]):\n",
    "        flag = True\n",
    "if flag:\n",
    "    print('No')\n",
    "else:\n",
    "    print('Yes')"
   ],
   "outputs": [],
   "metadata": {}
  },
  {
   "cell_type": "code",
   "execution_count": null,
   "source": [
    "#Excercise77\n",
    "s = input('入力 >>')\n",
    "total = 0\n",
    "for i in range(1,10):\n",
    "    total += i*s.count(str(i))\n",
    "print(total)"
   ],
   "outputs": [],
   "metadata": {}
  },
  {
   "cell_type": "code",
   "execution_count": null,
   "source": [
    "#Excercise78\n",
    "w1 = input('単語1 >>').split()\n",
    "w2 = input('単語2 >>').split()\n",
    "for i in range(len(w1)):\n",
    "    if w1[i] != w2[i]:\n",
    "        print(i+1)\n",
    "        print(w1[i])\n",
    "        print(w2[i])\n",
    "        break"
   ],
   "outputs": [],
   "metadata": {}
  },
  {
   "cell_type": "code",
   "execution_count": null,
   "source": [
    "#Excercise79\n",
    "w = input('入力 >>')\n",
    "#width, height = map(int, input('並び方 >>').split('x'))\n",
    "width, height = input('並び方 >>').split('x')\n",
    "width, height = int(width), int(height)\n",
    "if len(w) >= width*height:\n",
    "    for y in range(height):\n",
    "        print(w[:width])\n",
    "        w = w[width:]\n",
    "else:\n",
    "    print('Cannot Output')"
   ],
   "outputs": [],
   "metadata": {}
  },
  {
   "cell_type": "code",
   "execution_count": null,
   "source": [
    "#Excercise80\n",
    "src = input('入力：')\n",
    "dst = ''\n",
    "for i in range(len(src)-1,-1,-1):\n",
    "    if src[i] == '>':\n",
    "        dst += '<'\n",
    "    else:\n",
    "        dst += '>'\n",
    "print(src)\n",
    "print(dst)"
   ],
   "outputs": [],
   "metadata": {}
  },
  {
   "cell_type": "code",
   "execution_count": null,
   "source": [
    "#Excercise81\n",
    "#width,height = map(int, input('横幅と縦幅：').split(','))\n",
    "nums = input('横幅と縦幅：').split(',')\n",
    "width,height = int(nums[0]),int(nums[1])\n",
    "color = ['o', 'x']\n",
    "order = 1\n",
    "for i in range(height):\n",
    "    moji = ''\n",
    "    order = 1 - order\n",
    "    for j in range(width):\n",
    "        if j % 2 == 0:\n",
    "            moji += color[order]\n",
    "        else:\n",
    "            moji += color[1 - order];\n",
    "    print(moji)"
   ],
   "outputs": [],
   "metadata": {}
  }
 ],
 "metadata": {
  "interpreter": {
   "hash": "852551a099bcd4103935b167f0506d01d7ded54002d00169929d9de4d04cfb6a"
  },
  "kernelspec": {
   "name": "python3",
   "display_name": "Python 3.8.5 64-bit ('anaconda3-2020.11': pyenv)"
  },
  "language_info": {
   "codemirror_mode": {
    "name": "ipython",
    "version": 3
   },
   "file_extension": ".py",
   "mimetype": "text/x-python",
   "name": "python",
   "nbconvert_exporter": "python",
   "pygments_lexer": "ipython3",
   "version": "3.8.5"
  },
  "orig_nbformat": 2
 },
 "nbformat": 4,
 "nbformat_minor": 2
}