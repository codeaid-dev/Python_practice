{
 "cells": [
  {
   "cell_type": "code",
   "execution_count": null,
   "metadata": {},
   "outputs": [],
   "source": [
    "#Q\n",
    "age = int(input('年齢は？ >>'))\n",
    "if age >= 20:\n",
    "    print('成人です')\n",
    "else:\n",
    "    print('未成年です')"
   ]
  },
  {
   "cell_type": "code",
   "execution_count": null,
   "metadata": {},
   "outputs": [],
   "source": [
    "#Q\n",
    "age = int(input('年齢は？ >>'))\n",
    "if age >= 20:\n",
    "    if age >= 65:\n",
    "        print('高齢者です')\n",
    "    else:\n",
    "        print('成人です')\n",
    "else:\n",
    "    print('未成年です')"
   ]
  },
  {
   "cell_type": "code",
   "execution_count": 6,
   "metadata": {},
   "outputs": [
    {
     "name": "stdout",
     "output_type": "stream",
     "text": [
      "高齢者です\n"
     ]
    }
   ],
   "source": [
    "#Q\n",
    "age = int(input('年齢は？ >>'))\n",
    "if age >= 20:\n",
    "    if age >= 65:\n",
    "        print('高齢者です')\n",
    "    else:\n",
    "        print('成人です')\n",
    "else:\n",
    "    if age > 5 and age < 16:\n",
    "        print('未成年(義務教育)です')\n",
    "    else:\n",
    "        print('未成年です')"
   ]
  },
  {
   "cell_type": "code",
   "execution_count": null,
   "metadata": {},
   "outputs": [],
   "source": [
    "#Q\n",
    "for n in range(1,10):\n",
    "    print(f'1 x {n} = {1*n}')"
   ]
  },
  {
   "cell_type": "code",
   "execution_count": null,
   "metadata": {},
   "outputs": [],
   "source": [
    "#Q\n",
    "for n1 in range(1,10):\n",
    "    for n2 in range(1,10):\n",
    "        print(f'{n1} x {n2} = {n1*n2}')"
   ]
  },
  {
   "cell_type": "code",
   "execution_count": null,
   "metadata": {},
   "outputs": [],
   "source": [
    "#Q\n",
    "num = 0\n",
    "while num < 50:\n",
    "    num += int(input('入力 >>'))\n",
    "    print(num)"
   ]
  },
  {
   "cell_type": "code",
   "execution_count": null,
   "metadata": {},
   "outputs": [],
   "source": [
    "#Q\n",
    "num = 0\n",
    "while num < 50:\n",
    "    num += int(input('入力 >>'))\n",
    "    if num % 15 == 0:\n",
    "        print(f'{num}は15で割り切れた')\n",
    "        break\n",
    "    print(num)"
   ]
  }
 ],
 "metadata": {
  "kernelspec": {
   "display_name": "Python 3.9.2 64-bit ('3.9.2': pyenv)",
   "name": "python392jvsc74a57bd0e175e2d1a69ec44a53513b33867561d513a585d5b2228589977b3e28bb8f7a45"
  },
  "language_info": {
   "codemirror_mode": {
    "name": "ipython",
    "version": 3
   },
   "file_extension": ".py",
   "mimetype": "text/x-python",
   "name": "python",
   "nbconvert_exporter": "python",
   "pygments_lexer": "ipython3",
   "version": "3.9.2"
  },
  "orig_nbformat": 2
 },
 "nbformat": 4,
 "nbformat_minor": 2
}