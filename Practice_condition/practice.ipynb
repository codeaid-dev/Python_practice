{
 "cells": [
  {
   "cell_type": "code",
   "execution_count": null,
   "metadata": {},
   "outputs": [],
   "source": [
    "#Q1\n",
    "nums = '123456789'\n",
    "odd,even='',''\n",
    "for n in nums:\n",
    "    if int(n) % 2 == 0:\n",
    "        even += n\n",
    "    else:\n",
    "        odd += n\n",
    "\n",
    "print(odd)\n",
    "print(even)"
   ]
  },
  {
   "cell_type": "code",
   "execution_count": null,
   "metadata": {},
   "outputs": [],
   "source": [
    "#Q2\n",
    "s= ''\n",
    "for y in range(5):\n",
    "    for x in range(5):\n",
    "        s += '▲'\n",
    "    s += '\\n'\n",
    "print(s)\n",
    "\n",
    "#another answer\n",
    "for y in range(5):\n",
    "    for x in range(5):\n",
    "        print('▲', end='')\n",
    "    print()\n"
   ]
  },
  {
   "cell_type": "code",
   "execution_count": null,
   "metadata": {},
   "outputs": [],
   "source": [
    "#Q3\n",
    "for i in range(10):\n",
    "    if i == 2 or i == 7:\n",
    "        continue\n",
    "    print(i,end='')\n",
    "\n",
    "#another answer\n",
    "s = ''\n",
    "for i in range(10):\n",
    "    if i == 2 or i == 7:\n",
    "        continue\n",
    "    s += str(i)\n",
    "print(s)"
   ]
  },
  {
   "cell_type": "code",
   "execution_count": null,
   "metadata": {},
   "outputs": [],
   "source": [
    "#Q4\n",
    "n = int(input('入力 >>'))\n",
    "for i in range(1,30,3):\n",
    "    print(f'{n}x{i}=',n*i)"
   ]
  },
  {
   "cell_type": "code",
   "execution_count": null,
   "metadata": {},
   "outputs": [],
   "source": [
    "#Q5\n",
    "alph = 'abcdefghijklmnopqrstuvwxyz'\n",
    "words = input('入力 >>')\n",
    "c1=0\n",
    "c2=0\n",
    "for s in words:\n",
    "    if s in alph:\n",
    "        c1+=1\n",
    "    else:\n",
    "        c2+=1\n",
    "print(f'Lowercase count: {c1}')\n",
    "print(f'Other count: {c2}')"
   ]
  },
  {
   "cell_type": "code",
   "execution_count": null,
   "metadata": {},
   "outputs": [],
   "source": [
    "#Q6\n",
    "count = 0\n",
    "while True:\n",
    "    num = input('入力 >>')\n",
    "    if num == 'end':\n",
    "        break\n",
    "    count += int(num)\n",
    "    print(count)\n"
   ]
  },
  {
   "cell_type": "code",
   "execution_count": null,
   "metadata": {},
   "outputs": [],
   "source": [
    "#Q7\n",
    "#文字で市松模様を描く\n",
    "s = input('>> ')\n",
    "for y in range(10):\n",
    "    for x in range(10):\n",
    "        if y%2==0 and x%2==1:\n",
    "            print(s, end='')\n",
    "        elif y%2==1 and x%2==0:\n",
    "            print(s, end='')\n",
    "        else:\n",
    "            print(' ', end='')\n",
    "    print()\n",
    "#another answer\n",
    "print()\n",
    "s = input('>> ')\n",
    "out=''\n",
    "for y in range(10):\n",
    "    for x in range(10):\n",
    "        if y%2==0 and x%2==1:\n",
    "            out += s\n",
    "        elif y%2==1 and x%2==0:\n",
    "            out +=s\n",
    "        else:\n",
    "            out += ' '\n",
    "    out += '\\n'\n",
    "print(out)"
   ]
  },
  {
   "cell_type": "code",
   "execution_count": null,
   "metadata": {},
   "outputs": [],
   "source": [
    "#Q8\n",
    "result=''\n",
    "for row in range(5):\n",
    "    for column in range(5):\n",
    "        if row == 0 or row == 4 or row+column == 4:\n",
    "            result+='*'\n",
    "        else:\n",
    "            result+=' '\n",
    "    result+='\\n'\n",
    "print(result)"
   ]
  },
  {
   "cell_type": "code",
   "execution_count": null,
   "metadata": {},
   "outputs": [],
   "source": [
    "#Q9\n",
    "s = input('入力 >>')\n",
    "s = s.lower()\n",
    "vowel = 'aiueo'\n",
    "if s in vowel:\n",
    "    print(f'{s}は母音である')\n",
    "elif s == 'y':\n",
    "    print(f'{s}は母音でも子音でもある')\n",
    "else:\n",
    "    print(f'{s}は子音である')"
   ]
  },
  {
   "cell_type": "code",
   "execution_count": null,
   "metadata": {},
   "outputs": [],
   "source": [
    "#Q10\n",
    "s = input('入力 >>')\n",
    "nums = '0123456789'\n",
    "for n in s:\n",
    "    if n not in nums:\n",
    "        print('数値以外が含まれている')\n",
    "        break\n",
    "else:\n",
    "    print('文字列は数値のみ')\n",
    "\n",
    "#another answer\n",
    "#all()関数はすべての値が条件に当てはまっているとTrueを返す\n",
    "if all(n in nums for n in s):\n",
    "    print('文字列は数値のみ')\n",
    "else:\n",
    "    print('数値以外が含まれている')"
   ]
  },
  {
   "cell_type": "code",
   "execution_count": null,
   "metadata": {},
   "outputs": [],
   "source": [
    "#Q11\n",
    "#a,b,c = map(int, input('入力 >>').split(','))\n",
    "a,b,c = input('入力 >>').split(',')\n",
    "a = int(a)\n",
    "b = int(b)\n",
    "c = int(c)\n",
    "if a > b:\n",
    "    if a < c:\n",
    "        median = a\n",
    "    elif b > c:\n",
    "        median = b\n",
    "    else:\n",
    "        median = c\n",
    "else:\n",
    "    if a > c:\n",
    "        median = a\n",
    "    elif b < c:\n",
    "        median = b\n",
    "    else:\n",
    "        median = c\n",
    "print(f'3つの値の中央値：{median}')"
   ]
  },
  {
   "cell_type": "code",
   "execution_count": null,
   "metadata": {},
   "outputs": [],
   "source": [
    "#Q12\n",
    "#year,month,day = map(int, input('年月日 >>').split(','))\n",
    "year,month,day = input('年月日 >>').split(',')\n",
    "year = int(year)\n",
    "month = int(month)\n",
    "day = int(day)\n",
    "if year % 400 == 0:\n",
    "    leap_year = True\n",
    "elif year % 100 == 0:\n",
    "    leap_year = False\n",
    "elif year % 4 == 0:\n",
    "    leap_year = True\n",
    "else:\n",
    "    leap_year = False\n",
    "\n",
    "if month == 4 or month == 6 or month == 9 or month == 11:\n",
    "    month_length = 30\n",
    "elif month == 2:\n",
    "    if leap_year:\n",
    "        month_length = 29\n",
    "    else:\n",
    "        month_length = 28\n",
    "else:\n",
    "    month_length = 31\n",
    "\n",
    "if day < month_length:\n",
    "    day += 1\n",
    "else:\n",
    "    day = 1\n",
    "    if month == 12:\n",
    "        month = 1\n",
    "        year += 1\n",
    "    else:\n",
    "        month += 1\n",
    "\n",
    "print(f'次の日は「{year}年{month}月{day}日」')"
   ]
  }
 ],
 "metadata": {
  "kernelspec": {
   "display_name": "Python 3.10.3 64-bit ('3.10.3')",
   "language": "python",
   "name": "python3"
  },
  "language_info": {
   "codemirror_mode": {
    "name": "ipython",
    "version": 3
   },
   "file_extension": ".py",
   "mimetype": "text/x-python",
   "name": "python",
   "nbconvert_exporter": "python",
   "pygments_lexer": "ipython3",
   "version": "3.10.3"
  },
  "orig_nbformat": 2,
  "vscode": {
   "interpreter": {
    "hash": "ab64589ac9d6bd956e857448da5e411ff91b136249a71239f0da316d67e65b64"
   }
  }
 },
 "nbformat": 4,
 "nbformat_minor": 2
}
