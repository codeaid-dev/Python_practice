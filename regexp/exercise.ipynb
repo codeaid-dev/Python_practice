{
    "cells": [
        {
            "cell_type": "code",
            "execution_count": null,
            "metadata": {},
            "outputs": [],
            "source": [
                "import re\n",
                "source = input()\n",
                "print(re.search('\\w*z\\w*', source))"
            ]
        },
        {
            "cell_type": "code",
            "execution_count": null,
            "metadata": {},
            "outputs": [],
            "source": [
                "#Exercise1\n",
                "import re\n",
                "import string\n",
                "printable = string.printable\n",
                "s = re.search('[A-Z]+',printable)\n",
                "print(s.group())"
            ]
        },
        {
            "cell_type": "code",
            "execution_count": null,
            "metadata": {},
            "outputs": [],
            "source": [
                "#Exercise2\n",
                "import re\n",
                "source = '<p>Thank you!</p>'\n",
                "print(re.search('<.+>', source))\n",
                "print(re.search('<.*>', source))"
            ]
        },
        {
            "cell_type": "code",
            "execution_count": null,
            "metadata": {},
            "outputs": [],
            "source": [
                "#Exercise3\n",
                "import re\n",
                "source = '<p>Thank you!</p>'\n",
                "print(re.search('<.+?>', source))\n",
                "print(re.search('<.*?>', source))"
            ]
        },
        {
            "cell_type": "code",
            "execution_count": null,
            "metadata": {},
            "outputs": [],
            "source": [
                "import re\n",
                "html = '<h1>見出し</h1><div><p>ブロック段落</p></div>'\n",
                "print(re.findall('<.+>', html))"
            ]
        },
        {
            "cell_type": "code",
            "execution_count": null,
            "metadata": {},
            "outputs": [],
            "source": [
                "#Exercise4\n",
                "import re\n",
                "source = input()\n",
                "print(re.search('n.?', source))"
            ]
        },
        {
            "cell_type": "code",
            "execution_count": null,
            "metadata": {},
            "outputs": [],
            "source": [
                "#Exercise5\n",
                "import re\n",
                "source = '12345abbbbbccccc'\n",
                "print(re.search('ab{3}', source))"
            ]
        },
        {
            "cell_type": "code",
            "execution_count": null,
            "metadata": {},
            "outputs": [],
            "source": [
                "#Exercise6\n",
                "import re\n",
                "source = input()\n",
                "print(re.search('ab{2,3}', source))"
            ]
        },
        {
            "cell_type": "code",
            "execution_count": null,
            "metadata": {},
            "outputs": [],
            "source": [
                "#Exercise7\n",
                "import re\n",
                "source = input()\n",
                "print(re.search('^[a-z]+-[a-z]+$', source))"
            ]
        },
        {
            "cell_type": "code",
            "execution_count": null,
            "metadata": {},
            "outputs": [],
            "source": [
                "#Exercise8\n",
                "import re\n",
                "source = input()\n",
                "print(re.search('^[A-Z]+[a-z]+$', source))"
            ]
        },
        {
            "cell_type": "code",
            "execution_count": null,
            "metadata": {},
            "outputs": [],
            "source": [
                "#Exercise9\n",
                "import re\n",
                "source = input()\n",
                "print(re.search('a.+?b', source))"
            ]
        },
        {
            "cell_type": "code",
            "execution_count": null,
            "metadata": {},
            "outputs": [],
            "source": [
                "#Exercise10\n",
                "import re\n",
                "source = input()\n",
                "print(re.search('\\w*z\\w*', source))\n",
                "#print(re.search('[a-zA-Z0-9_]*z[a-zA-Z0-9_]*', source))"
            ]
        },
        {
            "cell_type": "code",
            "execution_count": null,
            "metadata": {},
            "outputs": [],
            "source": [
                "#Exercise11\n",
                "import re\n",
                "source = input()\n",
                "print(re.search('^[a-zA-Z0-9_]+$', source))\n",
                "#print(re.search('^[\\w]+$', source))\n"
            ]
        },
        {
            "cell_type": "code",
            "execution_count": null,
            "metadata": {},
            "outputs": [],
            "source": [
                "#Exercise12\n",
                "import re\n",
                "pattern = 'hit*'\n",
                "strs = ['hit', 'hat', 'hitter', 'hatter', 'hithatter', 'cleanhitter', 'hick', '']\n",
                "match = []\n",
                "for s in strs:\n",
                "    m = re.search(pattern, s)\n",
                "    if m is not None:\n",
                "        match.append(m.group())\n",
                "    else:\n",
                "        match.append(None)\n",
                "print(match)"
            ]
        },
        {
            "cell_type": "code",
            "execution_count": null,
            "metadata": {},
            "outputs": [],
            "source": [
                "#Exercise13\n",
                "import re\n",
                "def sum_nums(string):\n",
                "    num = re.compile('[0-9]')\n",
                "    nums = map(int, re.findall(num, string))\n",
                "    return sum(nums)\n",
                "\n",
                "print(sum_nums('hoge12abcd34foobar5w6w7w8'))"
            ]
        },
        {
            "cell_type": "code",
            "execution_count": null,
            "metadata": {},
            "outputs": [],
            "source": [
                "#Exercise14\n",
                "import re\n",
                "adds = '''\n",
                "〒550-0014 大阪市西区北堀江2-4-6 tel:0120-121-807\n",
                "〒134-0088 東京都江戸川区西葛西5丁目3-1 tel:0120-532-303\n",
                "〒604-8165 京都府京都市中京区烏帽子屋町502 tel:0120-109-525\n",
                "'''\n",
                "zipcode = re.compile('[0-9]{3}-[0-9]{4}')\n",
                "#zipcode = re.compile('\\d{3}-\\d{4}')\n",
                "f = re.findall(zipcode,adds)\n",
                "print(f)\n",
                "tel = re.compile('\\d{4}-\\d{3}-\\d{3}')\n",
                "f = re.findall(tel,adds)\n",
                "print(f)\n"
            ]
        },
        {
            "cell_type": "code",
            "execution_count": null,
            "metadata": {},
            "outputs": [],
            "source": [
                "#Exercise15\n",
                "import re\n",
                "source = input()\n",
                "mail = re.compile('[\\w\\-.]+@[\\w\\-.]+\\.[a-zA-Z]+')\n",
                "m = re.match(mail,source)\n",
                "if m != None:\n",
                "    print(f'{source}はメールアドアレスです')\n",
                "else:\n",
                "    print(f'{source}はメールアドレスではありません')"
            ]
        },
        {
            "cell_type": "code",
            "execution_count": null,
            "metadata": {},
            "outputs": [],
            "source": [
                "import re\n",
                "cpus = '''101 11600K    Intel-Core-i5\n",
                "102 11700K    Intel-Core-i7\n",
                "103 11900K    Intel-Core-i9\n",
                "201 5600X     AMD-Ryzen-5\n",
                "202 6800X     AMD-Ryzen-7\n",
                "203 5900X     AMD-Ryzen-9\n",
                "'''\n",
                "\n",
                "re.findall('([0-9]+) +([0-9A-Z]+X) +(.*)', cpus)"
            ]
        },
        {
            "cell_type": "code",
            "execution_count": null,
            "metadata": {},
            "outputs": [],
            "source": [
                "import re\n",
                "def check_pass(wd):\n",
                "    if len(wd) < 8 or len(wd) > 32:\n",
                "        print('8文字以上32文字以下を指定してください')\n",
                "        return\n",
                "    lower = re.search(re.compile('[a-z]'), wd)\n",
                "    if lower == None:\n",
                "        print('英小文字を1文字以上含めてください')\n",
                "        return\n",
                "    upper = re.search(re.compile('[A-Z]'), wd)\n",
                "    if upper == None:\n",
                "        print('英大文字を1文字以上含めてください')\n",
                "        return\n",
                "    num = re.search(re.compile('[0-9]'), wd)\n",
                "    if num == None:\n",
                "        print('数字を1文字以上含めてください')\n",
                "        return\n",
                "    symbol = re.search(re.compile('[\\W_]'), wd)\n",
                "    if symbol == None:\n",
                "        print('記号を1文字以上含めてください')\n",
                "        return\n",
                "    print('有効なパスワードです')\n",
                "\n",
                "print('パスワードの強度をチェックします')\n",
                "password = input('>>')\n",
                "check_pass(password)"
            ]
        },
        {
            "cell_type": "code",
            "execution_count": null,
            "metadata": {},
            "outputs": [],
            "source": [
                "import re\n",
                "def check_pass2(wd):\n",
                "    pwd = re.search(re.compile('(?=.*[a-z])(?=.*[A-Z])(?=.*[0-9])(?=.*[\\W_])[\\w\\W]{8,32}$'), wd)\n",
                "    if pwd != None:\n",
                "        print('有効なパスワードです')\n",
                "    else:\n",
                "        print('条件に従ったパスワードを入力してください')\n",
                "\n",
                "print('パスワードの強度をチェックします')\n",
                "password = input('>>')\n",
                "check_pass2(password)"
            ]
        },
        {
            "cell_type": "code",
            "execution_count": null,
            "metadata": {},
            "outputs": [],
            "source": [
                "#Exercise16\n",
                "import re\n",
                "import random\n",
                "import string\n",
                "base = string.ascii_letters + string.digits + string.punctuation\n",
                "num = 0\n",
                "while num < 8 or num > 32:\n",
                "    num = int(input('パスワード桁数(8-32) >>'))\n",
                "pwd = ''\n",
                "while not pwd:\n",
                "    for i in range(num):\n",
                "        pwd += base[random.randint(0,len(base)-1)]\n",
                "    pwd = re.search(re.compile('(?=.*[a-z])(?=.*[A-Z])(?=.*[0-9])(?=.*[\\W_])[\\w\\W]{8,32}$'), pwd)\n",
                "    if pwd == None:\n",
                "        pwd = ''\n",
                "print(f'生成したパスワード：{pwd.group()}')"
            ]
        }
    ],
    "metadata": {
        "interpreter": {
            "hash": "852551a099bcd4103935b167f0506d01d7ded54002d00169929d9de4d04cfb6a"
        },
        "kernelspec": {
            "display_name": "Python 3.8.5 64-bit ('anaconda3-2020.11': pyenv)",
            "name": "python3"
        },
        "language_info": {
            "codemirror_mode": {
                "name": "ipython",
                "version": 3
            },
            "file_extension": ".py",
            "mimetype": "text/x-python",
            "name": "python",
            "nbconvert_exporter": "python",
            "pygments_lexer": "ipython3",
            "version": "3.9.7"
        },
        "orig_nbformat": 4
    },
    "nbformat": 4,
    "nbformat_minor": 2
}
