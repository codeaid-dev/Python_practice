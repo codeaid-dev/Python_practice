{
 "cells": [
  {
   "cell_type": "code",
   "execution_count": null,
   "metadata": {},
   "outputs": [],
   "source": [
    "#Exercise1\n",
    "pay = 10000\n",
    "point, month = 0, 0\n",
    "while point <= 20000:\n",
    "    month += 1\n",
    "    point += pay * 0.05\n",
    "print(f'ポイント金額が20000円を超えるのは{month}ヶ月後')"
   ]
  },
  {
   "cell_type": "code",
   "execution_count": null,
   "metadata": {},
   "outputs": [],
   "source": [
    "#Exercise2\n",
    "cnt = 0\n",
    "for n1 in range(128,257):\n",
    "    if n1 % 8 == 0:\n",
    "        print(n1, end=' ')\n",
    "        cnt += 1\n",
    "'''\n",
    "s = ''\n",
    "for n1 in range(128,257):\n",
    "    if n1 % 8 == 0:\n",
    "        s += str(n1) + ' '\n",
    "        cnt += 1\n",
    "print(s)\n",
    "'''\n",
    "\n",
    "print(f'\\n8の倍数は{cnt}個')"
   ]
  },
  {
   "cell_type": "code",
   "execution_count": null,
   "metadata": {},
   "outputs": [],
   "source": [
    "#Exercise3\n",
    "for i in range(1,9):\n",
    "    print(f'2の{i}乗={2**i}')"
   ]
  },
  {
   "cell_type": "code",
   "execution_count": null,
   "metadata": {},
   "outputs": [],
   "source": [
    "#Exercise4\n",
    "for i in range(10):\n",
    "    num = int(input('入力 >>'))\n",
    "    if i == 0:\n",
    "        max_num = num\n",
    "        min_num = num\n",
    "    else:\n",
    "        if num > max_num:\n",
    "            max_num = num\n",
    "        if num < min_num:\n",
    "            min_num = num\n",
    "print(f'最大値={max_num} 最小値={min_num}')"
   ]
  },
  {
   "cell_type": "code",
   "execution_count": null,
   "metadata": {},
   "outputs": [],
   "source": [
    "#Exercise5\n",
    "num = int(input('入力 >>'))\n",
    "for i in range(num):\n",
    "    print(f'{i % 10}', end='')\n",
    "\n",
    "\n",
    "#s = ''\n",
    "#for i in range(num):\n",
    "#    s += str(i%10)\n",
    "#print(s)\n"
   ]
  },
  {
   "cell_type": "code",
   "execution_count": null,
   "metadata": {},
   "outputs": [],
   "source": [
    "#Exercise6\n",
    "n = int(input('入力 >>'))\n",
    "for i in range(1,30,3):\n",
    "    print(f'{n}x{i}=',n*i)"
   ]
  },
  {
   "cell_type": "code",
   "execution_count": null,
   "metadata": {},
   "outputs": [],
   "source": [
    "#Exercise7\n",
    "num = int(input('入力 >>'))\n",
    "sum=0\n",
    "for i in range(1,num+1):\n",
    "    sum += i/(i+1)\n",
    "print(f'{sum:.2f}')"
   ]
  },
  {
   "cell_type": "code",
   "execution_count": null,
   "metadata": {},
   "outputs": [],
   "source": [
    "#Exercise8\n",
    "nums = '123456789'\n",
    "odd,even='',''\n",
    "for n in nums:\n",
    "    if int(n) % 2 == 0:\n",
    "        even += n\n",
    "    else:\n",
    "        odd += n\n",
    "\n",
    "print(odd)\n",
    "print(even)"
   ]
  },
  {
   "cell_type": "code",
   "execution_count": null,
   "metadata": {},
   "outputs": [],
   "source": [
    "#Exercise9\n",
    "for i in range(10):\n",
    "    if i == 2 or i == 7:\n",
    "        continue\n",
    "    print(i,end='')\n",
    "\n",
    "#another answer\n",
    "s = ''\n",
    "for i in range(10):\n",
    "    if i == 2 or i == 7:\n",
    "        continue\n",
    "    s += str(i)\n",
    "print(s)"
   ]
  },
  {
   "cell_type": "code",
   "execution_count": null,
   "metadata": {},
   "outputs": [],
   "source": [
    "#Exercise10\n",
    "result = ''\n",
    "for i in range(100, 301):\n",
    "    s = str(i)\n",
    "    if int(s[0])%2==0 and int(s[1])%2==0 and int(s[2])%2==0:\n",
    "        result += s + ','\n",
    "print(result)"
   ]
  },
  {
   "cell_type": "code",
   "execution_count": null,
   "metadata": {},
   "outputs": [],
   "source": [
    "#Exercise11\n",
    "num = input('入力 >>')\n",
    "digit = '0123456789'\n",
    "total = 0\n",
    "for n in num:\n",
    "    if n in digit:\n",
    "        total += int(n)\n",
    "print(f'合計は{total}')"
   ]
  },
  {
   "cell_type": "code",
   "execution_count": null,
   "metadata": {},
   "outputs": [],
   "source": [
    "#Exercise12\n",
    "heads = 35\n",
    "legs = 94\n",
    "\n",
    "for rabbits in range(heads+1):\n",
    "    chikens = heads-rabbits\n",
    "    if 2*chikens+4*rabbits == legs:\n",
    "        print(f'兎は{rabbits}匹、鶏は{chikens}羽')"
   ]
  },
  {
   "cell_type": "code",
   "execution_count": null,
   "metadata": {},
   "outputs": [],
   "source": [
    "#Exercise13\n",
    "alph = 'abcdefghijklmnopqrstuvwxyz'\n",
    "words = input('入力 >>')\n",
    "c1=0\n",
    "c2=0\n",
    "for s in words:\n",
    "    if s in alph:\n",
    "        c1+=1\n",
    "    else:\n",
    "        c2+=1\n",
    "print(f'小文字の数: {c1}')\n",
    "print(f'それ以外の数: {c2}')"
   ]
  },
  {
   "cell_type": "code",
   "execution_count": null,
   "metadata": {},
   "outputs": [],
   "source": [
    "#Exercise14\n",
    "s = input('入力 >>')\n",
    "#check = s # another ans\n",
    "check = s.lower()\n",
    "vowel = 'aiueo'\n",
    "#vowel = 'aiueoAIUEO' # another ans\n",
    "if check in vowel:\n",
    "    print(f'{s}は母音である')\n",
    "elif check == 'y':\n",
    "#elif check in 'yY': # another ans\n",
    "    print(f'{s}は母音でも子音でもある')\n",
    "else:\n",
    "    print(f'{s}は子音である')"
   ]
  },
  {
   "cell_type": "code",
   "execution_count": null,
   "metadata": {},
   "outputs": [],
   "source": [
    "#Exercise15\n",
    "s = input('表示する文字列 >>')\n",
    "n = int(input('1行の文字数 >>'))\n",
    "while 0 < len(s):\n",
    "    if len(s) > n:\n",
    "        print(s[:n])\n",
    "    else:\n",
    "        print(s)\n",
    "    s = s[n:]"
   ]
  },
  {
   "cell_type": "code",
   "execution_count": null,
   "metadata": {},
   "outputs": [],
   "source": [
    "#Exercise16\n",
    "s = input('入力 >>')\n",
    "result = ''\n",
    "index = 0\n",
    "end = len(s)\n",
    "while index < end:\n",
    "    if s[index] == ':':\n",
    "        result += s[index-1] * (int(s[index+1])-1)\n",
    "        index += 2\n",
    "    else:\n",
    "        result += s[index]\n",
    "        index += 1\n",
    "print(result)"
   ]
  },
  {
   "cell_type": "code",
   "execution_count": null,
   "metadata": {},
   "outputs": [],
   "source": [
    "#Exercise17\n",
    "size = int(input('入力 >>'))\n",
    "for y in range(size):\n",
    "    for x in range(size):\n",
    "        if y == x or (size - y - 1) == x:\n",
    "            print('X', end='')\n",
    "        else:\n",
    "            print(' ', end='')\n",
    "    print()"
   ]
  },
  {
   "cell_type": "code",
   "execution_count": null,
   "metadata": {},
   "outputs": [],
   "source": [
    "#Exercise18\n",
    "s = input('>> ')\n",
    "for y in range(10):\n",
    "    for x in range(10):\n",
    "        if y%2==0 and x%2==1:\n",
    "            print(s, end='')\n",
    "        elif y%2==1 and x%2==0:\n",
    "            print(s, end='')\n",
    "        else:\n",
    "            print(' ', end='')\n",
    "    print()\n",
    "#another answer\n",
    "print()\n",
    "s = input('>> ')\n",
    "out=''\n",
    "for y in range(10):\n",
    "    for x in range(10):\n",
    "        if y%2==0 and x%2==1:\n",
    "            out += s\n",
    "        elif y%2==1 and x%2==0:\n",
    "            out +=s\n",
    "        else:\n",
    "            out += ' '\n",
    "    out += '\\n'\n",
    "print(out)"
   ]
  },
  {
   "cell_type": "code",
   "execution_count": null,
   "metadata": {},
   "outputs": [],
   "source": [
    "#Exercise19\n",
    "result=''\n",
    "for row in range(5):\n",
    "    for column in range(5):\n",
    "        if row == 0 or row == 4 or row+column == 4:\n",
    "            result+='*'\n",
    "        else:\n",
    "            result+=' '\n",
    "    result+='\\n'\n",
    "print(result)"
   ]
  },
  {
   "cell_type": "code",
   "execution_count": null,
   "metadata": {},
   "outputs": [],
   "source": [
    "#Exercise20\n",
    "s = input('入力 >>')\n",
    "nums = '0123456789'\n",
    "for n in s:\n",
    "    if n not in nums:\n",
    "        print('数値以外が含まれている')\n",
    "        break\n",
    "else:\n",
    "    print('文字列は数値のみ')\n",
    "\n",
    "#another answer\n",
    "#all()関数はすべての値が条件に当てはまっているとTrueを返す\n",
    "if all(n in nums for n in s):\n",
    "    print('文字列は数値のみ')\n",
    "else:\n",
    "    print('数値以外が含まれている')"
   ]
  },
  {
   "cell_type": "code",
   "execution_count": null,
   "metadata": {},
   "outputs": [],
   "source": [
    "#Exercise21\n",
    "s = ''\n",
    "while True:\n",
    "    data = input('入力 >>')\n",
    "    if not data:\n",
    "        break\n",
    "    num, base = data.split(',')\n",
    "    if int(num, int(base)) % 5 == 0:\n",
    "        s += f'{num}({base}) '\n",
    "print(s)"
   ]
  },
  {
   "cell_type": "code",
   "execution_count": null,
   "metadata": {},
   "outputs": [],
   "source": [
    "#Exercise22\n",
    "import random\n",
    "\n",
    "win_you, win_com = 0, 0\n",
    "for i in range(1,6):\n",
    "    print(f'{i}回戦目')\n",
    "    you = int(input('1:グー,2:チョキ,3:パー >>'))\n",
    "    com = random.randint(1,3)\n",
    "    if (you == 1 and com == 2) or (you == 2 and com == 3) or (you == 3 and com == 1):\n",
    "        print(f'あなたの勝ち(コンピュータの手:{com})')\n",
    "        win_you += 1\n",
    "    elif (you == 1 and com == 3) or (you == 2 and com == 1) or (you == 3 and com == 2):\n",
    "        print(f'コンピュータの勝ち(コンピュータの手:{com})')\n",
    "        win_com += 1\n",
    "    else:\n",
    "        print(f'あいこ(コンピュータの手:{com})')\n",
    "print(f'あなたの勝率は{win_you}勝{win_com}敗です')"
   ]
  },
  {
   "cell_type": "code",
   "execution_count": null,
   "metadata": {},
   "outputs": [],
   "source": [
    "#Exercise23\n",
    "import random\n",
    "\n",
    "com = random.randint(1,20)\n",
    "count = 0\n",
    "while True:\n",
    "    you = int(input('入力 >>'))\n",
    "    count += 1\n",
    "    if com > you:\n",
    "        print('足りない')\n",
    "    elif you > com:\n",
    "        print('多い')\n",
    "    else:\n",
    "        print(f'{count}回目に当たり')\n",
    "        break\n",
    "    if count == 4:\n",
    "        print(f'4回ハズレなので終了:正解は{com}')\n",
    "        break"
   ]
  },
  {
   "cell_type": "code",
   "execution_count": null,
   "metadata": {},
   "outputs": [],
   "source": [
    "#Exercise24\n",
    "#a,b,c = map(int, input('入力 >>').split(','))\n",
    "a,b,c = input('入力 >>').split(',')\n",
    "a = int(a)\n",
    "b = int(b)\n",
    "c = int(c)\n",
    "if a > b:\n",
    "    if a < c:\n",
    "        median = a\n",
    "    elif b > c:\n",
    "        median = b\n",
    "    else:\n",
    "        median = c\n",
    "else:\n",
    "    if a > c:\n",
    "        median = a\n",
    "    elif b < c:\n",
    "        median = b\n",
    "    else:\n",
    "        median = c\n",
    "print(f'3つの値の中央値：{median}')"
   ]
  },
  {
   "cell_type": "code",
   "execution_count": null,
   "metadata": {},
   "outputs": [],
   "source": [
    "#Exercise25\n",
    "n = int(input('入力 >>'))\n",
    "for i in range(n+1):\n",
    "    for j in range(n-i, 0, -1):\n",
    "        print(j, end=' ')\n",
    "    print()"
   ]
  },
  {
   "cell_type": "code",
   "execution_count": null,
   "metadata": {},
   "outputs": [],
   "source": [
    "#Exercise26\n",
    "num = int(input('入力 >>'))\n",
    "total = 0\n",
    "digit = 2\n",
    "formula = ''\n",
    "for i in range(num):\n",
    "    formula += f'{digit} + '\n",
    "    total += digit\n",
    "    digit = digit * 10 + 2\n",
    "print(f'{formula[:-3]} = {total}')"
   ]
  },
  {
   "cell_type": "code",
   "execution_count": null,
   "metadata": {},
   "outputs": [],
   "source": [
    "#Exercise27\n",
    "num = int(input('入力 >>'))\n",
    "calc = ''\n",
    "while num != 1:\n",
    "    res = 0\n",
    "    for i in str(num):\n",
    "        res += int(i) ** 2\n",
    "#    print(res, end=' ')\n",
    "    if '<'+str(res)+'>' in calc:\n",
    "        print('ラッキーナンバーではありません')\n",
    "        break\n",
    "    num = res\n",
    "    calc += '<'+str(res)+'>'\n",
    "else:\n",
    "    print('ラッキーナンバーです')\n",
    "#print(calc)"
   ]
  },
  {
   "cell_type": "code",
   "execution_count": null,
   "metadata": {},
   "outputs": [],
   "source": [
    "#Exercise28\n",
    "x,y = 0,0\n",
    "while True:\n",
    "    step = input('入力 >>')\n",
    "    if not step:\n",
    "        break\n",
    "    dir, move = step.split(',')\n",
    "    move = int(move)\n",
    "    if dir == '上':\n",
    "        y += move\n",
    "    elif dir == '下':\n",
    "        y -= move\n",
    "    elif dir == '左':\n",
    "        x -= move\n",
    "    elif dir == '右':\n",
    "        x += move\n",
    "\n",
    "distance = (x**2+y**2)**0.5\n",
    "print(f'移動した距離は{distance:.2f}です')"
   ]
  },
  {
   "cell_type": "code",
   "execution_count": null,
   "metadata": {},
   "outputs": [],
   "source": [
    "#Exercise29\n",
    "u_case = 'ABCDEFGHIJKLMNOPQRSTUVWXYZ'\n",
    "l_case = 'abcdefghijklmnopqrstuvwxyz'\n",
    "nums = '0123456789'\n",
    "chars = '&#@'\n",
    "passwd = ''\n",
    "while len(passwd)<6 or len(passwd)>12:\n",
    "    passwd = input('入力(6~12文字) >>')\n",
    "\n",
    "uf, lf, nf, cf = False, False, False, False\n",
    "for c in passwd:\n",
    "    if c in u_case:\n",
    "        uf = True\n",
    "        continue\n",
    "    elif c in l_case:\n",
    "        lf = True\n",
    "        continue\n",
    "    elif c in nums:\n",
    "        nf = True\n",
    "        continue\n",
    "    elif c in chars:\n",
    "        cf = True\n",
    "        continue\n",
    "    else:\n",
    "        print('無効なパスワードです')\n",
    "        break\n",
    "else:\n",
    "    if uf and lf and nf and cf:\n",
    "        print(f'{passwd}は有効なパスワードです')\n",
    "    else:\n",
    "        print('無効なパスワードです')"
   ]
  },
  {
   "cell_type": "code",
   "execution_count": null,
   "metadata": {},
   "outputs": [],
   "source": [
    "#Exercise30\n",
    "#year,month,day = map(int, input('年月日 >>').split(','))\n",
    "year,month,day = input('年月日 >>').split(',')\n",
    "year = int(year)\n",
    "month = int(month)\n",
    "day = int(day)\n",
    "if year % 4 == 0 and (year % 100 != 0 or year % 400 == 0):\n",
    "    leap_year = True\n",
    "else:\n",
    "    leap_year = False\n",
    "\n",
    "if month == 4 or month == 6 or month == 9 or month == 11:\n",
    "    month_length = 30\n",
    "elif month == 2:\n",
    "    if leap_year:\n",
    "        month_length = 29\n",
    "    else:\n",
    "        month_length = 28\n",
    "else:\n",
    "    month_length = 31\n",
    "\n",
    "if day < month_length:\n",
    "    day += 1\n",
    "else:\n",
    "    day = 1\n",
    "    if month == 12:\n",
    "        month = 1\n",
    "        year += 1\n",
    "    else:\n",
    "        month += 1\n",
    "\n",
    "print(f'次の日は「{year}年{month}月{day}日」')"
   ]
  }
 ],
 "metadata": {
  "kernelspec": {
   "display_name": "Python 3.10.3 64-bit ('3.10.3')",
   "language": "python",
   "name": "python3"
  },
  "language_info": {
   "codemirror_mode": {
    "name": "ipython",
    "version": 3
   },
   "file_extension": ".py",
   "mimetype": "text/x-python",
   "name": "python",
   "nbconvert_exporter": "python",
   "pygments_lexer": "ipython3",
   "version": "3.10.3"
  },
  "orig_nbformat": 4,
  "vscode": {
   "interpreter": {
    "hash": "0cf5b81d25d04120a62c4400ea9fc808785ea683f7e81b240b1825587512b5f1"
   }
  }
 },
 "nbformat": 4,
 "nbformat_minor": 2
}
