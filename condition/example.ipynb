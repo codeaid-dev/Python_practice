{
 "cells": [
  {
   "cell_type": "code",
   "execution_count": null,
   "metadata": {},
   "outputs": [],
   "source": [
    "# 条件式（三項演算子）の基本パターン\n",
    "x = 101\n",
    "s = 'odd' if x % 2 else 'even'\n",
    "print(s)  # odd\n",
    "\n",
    "# 条件式のネスト\n",
    "s = 'positive' if x > 0 else 'negative' if x < 0 else 'zero'\n",
    "print(s)  # positive\n",
    "\n",
    "# 内包表記と条件式\n",
    "l1 = [3, 4, 6, 0, 1]\n",
    "l2 = ['odd' if x % 2 else 'even' for x in l1]\n",
    "print(l2)  # ['odd', 'even', 'even', 'even', 'odd']\n",
    "\n",
    "# ラムダ式と条件式\n",
    "l1 = [3, 4, 6, 0, 1]\n",
    "it = map(lambda x: 'odd' if x % 2 else 'even', l1)\n",
    "l2 = list(it)\n",
    "print(l2)  # ['odd', 'even', 'even', 'even', 'odd']"
   ]
  },
  {
   "cell_type": "code",
   "execution_count": null,
   "metadata": {},
   "outputs": [],
   "source": [
    "# 入力データを確認し整数変換かエラーを出力するコードを三項演算子で記述する\n",
    "s = input('input a number: ')\n",
    "if s.isdecimal():\n",
    "    x = int(s)\n",
    "else:\n",
    "    raise ValueError('not a number')\n",
    "\n",
    "# NG：x = int(s) if s.isdecimal() else raise ValueError('not a number')\n",
    "# OK：x = int(s) if s.isdecimal() else exec('raise ValueError(\"not a number\")')"
   ]
  }
 ],
 "metadata": {
  "kernelspec": {
   "display_name": "Python 3.10.3 64-bit ('3.10.3')",
   "language": "python",
   "name": "python3"
  },
  "language_info": {
   "codemirror_mode": {
    "name": "ipython",
    "version": 3
   },
   "file_extension": ".py",
   "mimetype": "text/x-python",
   "name": "python",
   "nbconvert_exporter": "python",
   "pygments_lexer": "ipython3",
   "version": "3.10.3"
  },
  "orig_nbformat": 4,
  "vscode": {
   "interpreter": {
    "hash": "ab64589ac9d6bd956e857448da5e411ff91b136249a71239f0da316d67e65b64"
   }
  }
 },
 "nbformat": 4,
 "nbformat_minor": 2
}
