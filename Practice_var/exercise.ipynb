{
 "cells": [
  {
   "cell_type": "code",
   "execution_count": null,
   "metadata": {},
   "outputs": [],
   "source": [
    "#Exercise1\n",
    "print(\"It's Python. \"+'The command \"py.exe\" is just for Windows.')\n",
    "print('It\\'s Python. The command \"py.exe\" is just for Windows.')"
   ]
  },
  {
   "cell_type": "code",
   "execution_count": null,
   "metadata": {},
   "outputs": [],
   "source": [
    "#Exercise2\n",
    "a=98\n",
    "b=25\n",
    "print('a+b=', a+b)\n",
    "print('a-b=', a-b)\n",
    "print('a*b=', a*b)\n",
    "print('a/b=', a/b)\n",
    "print('aの2乗', a**2)"
   ]
  },
  {
   "cell_type": "code",
   "execution_count": null,
   "metadata": {},
   "outputs": [],
   "source": [
    "#Exercise3\n",
    "a = 54\n",
    "b = 3.14\n",
    "c = 'Osaka'\n",
    "d = True\n",
    "print(f'aは{type(a)}、bは{type(b)}、cは{type(c)}、dは{type(d)}')"
   ]
  },
  {
   "cell_type": "code",
   "execution_count": null,
   "metadata": {},
   "outputs": [],
   "source": [
    "#Exercise4\n",
    "prefs = '世田谷杉並練馬品川足立西東京'\n",
    "kanas = 'あいうえおかきくけこさしすせそ'\n",
    "kind = 310\n",
    "ch = kanas[5] #chにkanasの'か'を代入\n",
    "num = 1234\n",
    "print(f'{prefs[7:9]} {kind} {ch} {num}')"
   ]
  },
  {
   "cell_type": "code",
   "execution_count": null,
   "metadata": {},
   "outputs": [],
   "source": [
    "#Exercise5\n",
    "var1 = 'アンケート'\n",
    "var2 = 'Python'\n",
    "var3 = 'Java'\n",
    "var4 = 20\n",
    "var5 = 13\n",
    "print(f'{var4}人に{var1}した結果{var2}と{var3}の\\\n",
    "どちらが好きかの質問で、{int(var5/var4*100)}%がPythonだった')"
   ]
  },
  {
   "cell_type": "code",
   "execution_count": null,
   "metadata": {},
   "outputs": [],
   "source": [
    "#Exercise6\n",
    "n = int(input('ルーレットの数 >>'))\n",
    "r = int(1/n*100)\n",
    "print(f'ゴールできる確率は{r}%です')"
   ]
  },
  {
   "cell_type": "code",
   "execution_count": null,
   "metadata": {},
   "outputs": [],
   "source": [
    "#Exercise7\n",
    "jp_price = 39980\n",
    "print(f'このゲーム機は日本円で{jp_price}円です。\\n米ドルでは${int(jp_price/108)}となります。')"
   ]
  },
  {
   "cell_type": "code",
   "execution_count": null,
   "metadata": {},
   "outputs": [],
   "source": [
    "#Exercise8\n",
    "print('Five'*5)"
   ]
  },
  {
   "cell_type": "code",
   "execution_count": null,
   "metadata": {},
   "outputs": [],
   "source": [
    "#Exercise9\n",
    "n = int(input('本数 >>'))\n",
    "print(f'{int(n*1.5)}本です')"
   ]
  },
  {
   "cell_type": "code",
   "execution_count": null,
   "metadata": {},
   "outputs": [],
   "source": [
    "#Exercise10\n",
    "radius = int(input('半径入力 >>'))\n",
    "print('半径{}cmの円の面積は{}平方cmです。'.format(radius, radius**2*3.14))\n",
    "print(f'半径{radius}cmの円の面積は{radius**2*3.14}平方cmです。')"
   ]
  },
  {
   "cell_type": "code",
   "execution_count": null,
   "metadata": {},
   "outputs": [],
   "source": [
    "#Exercise11\n",
    "base = int(input('底辺 >>'))\n",
    "height = int(input('高さ >>'))\n",
    "print('底辺{}cmで高さ{}cmの三角形の面積は{}平方cmです。'.format(base, height, base*height/2))\n",
    "print(f'底辺{base}cmで高さ{height}cmの三角形の面積は{base*height/2}平方cmです。')"
   ]
  },
  {
   "cell_type": "code",
   "execution_count": null,
   "metadata": {},
   "outputs": [],
   "source": [
    "#Exercise12\n",
    "up = int(input('上底 >>'))\n",
    "base = int(input('下底 >>'))\n",
    "height = int(input('高さ >>'))\n",
    "print('上底{}cmと下底{}cmで高さ{}cmの台形の面積は{}平方cmです。'.format(up, base, height, (up+base)*height/2))\n",
    "print(f'上底{up}cmと下底{base}cmで高さ{height}cmの台形の面積は{(up+base)*height/2}平方cmです。')"
   ]
  },
  {
   "cell_type": "code",
   "execution_count": null,
   "metadata": {},
   "outputs": [],
   "source": [
    "#Exercise13\n",
    "base = 35\n",
    "height = 30\n",
    "up = 20\n",
    "trap = (up+base)*height/2\n",
    "rect = base*height\n",
    "tri = base*height/2\n",
    "circle = (height/2)**2*3.14\n",
    "print(f'総面積は{int(trap+rect+tri+circle)}平方cmです。')"
   ]
  },
  {
   "cell_type": "code",
   "execution_count": null,
   "metadata": {},
   "outputs": [],
   "source": [
    "#Exercise14\n",
    "a = int(input('左辺入力 >>'))\n",
    "b = int(input('右辺入力 >>'))\n",
    "print(f'{a}割る{b}は、{a//b}余り{a%b}です')\n",
    "#c,d = divmod(a, b)\n",
    "#print(f'{a}割る{b}は、{c}余り{d}です')\n"
   ]
  },
  {
   "cell_type": "code",
   "execution_count": null,
   "metadata": {},
   "outputs": [],
   "source": [
    "#Exercise15\n",
    "e = int(input('英語 >>'))\n",
    "m = int(input('数学 >>'))\n",
    "print(f'英語{e}点、数学{m}点の平均点は{(e+m)/2}点です')"
   ]
  },
  {
   "cell_type": "code",
   "execution_count": null,
   "metadata": {},
   "outputs": [],
   "source": [
    "#Exercise16\n",
    "total = 1280\n",
    "A = total//3+total%3\n",
    "B = total//3\n",
    "C = total//3\n",
    "print(f'Aさんは{A}円、Bさんは{B}円、Cさんは{C}円支払いました')"
   ]
  },
  {
   "cell_type": "code",
   "execution_count": null,
   "metadata": {},
   "outputs": [],
   "source": [
    "#Exercise17\n",
    "str1 = 'Which one would you like, Coffee or Tea?'\n",
    "str2 = str1.replace('Coffee or Tea', 'Python or Java')\n",
    "print(str1+'\\n'+str2)"
   ]
  },
  {
   "cell_type": "code",
   "execution_count": null,
   "metadata": {},
   "outputs": [],
   "source": [
    "#Exercise18\n",
    "w1 = 'This is a ballpen. This ballpen is comfortable to write on.'\n",
    "print(w1)\n",
    "print(w1.replace('ball', ''))"
   ]
  },
  {
   "cell_type": "code",
   "execution_count": null,
   "metadata": {},
   "outputs": [],
   "source": [
    "#Exercise19\n",
    "s = input('入力 >>')\n",
    "n = int(input('オフセット >>'))\n",
    "print(s)\n",
    "print(s[n:])"
   ]
  },
  {
   "cell_type": "code",
   "execution_count": null,
   "metadata": {},
   "outputs": [],
   "source": [
    "#Exercise20\n",
    "words = 'しばらくすると信号機が赤に変わった'\n",
    "index = words.find('赤')\n",
    "print(words[:index]+'青'+words[index+1:])\n",
    "#print(words[0:index]+'青'+words[index+1:len(words)])"
   ]
  },
  {
   "cell_type": "code",
   "execution_count": null,
   "metadata": {},
   "outputs": [],
   "source": [
    "#Exercise21\n",
    "prefs = \"兵庫県京都府大阪府奈良県和歌山県\"\n",
    "towns = \"京都市和歌山市奈良市大阪市神戸市\"\n",
    "city = \"西区北堀江\"\n",
    "print(f\"{prefs[6:9]}{towns[10:13]}{city}\")"
   ]
  },
  {
   "cell_type": "code",
   "execution_count": null,
   "metadata": {},
   "outputs": [],
   "source": [
    "#Exercise22\n",
    "machines = 100\n",
    "base = '(大阪店)'\n",
    "base += 'ゲーム機の在庫：'\n",
    "base += str(machines)\n",
    "print(base)"
   ]
  },
  {
   "cell_type": "code",
   "execution_count": null,
   "metadata": {},
   "outputs": [],
   "source": [
    "#Exercise23\n",
    "word = '   Hello World!   '\n",
    "print(word.rstrip()+str(len(word.rstrip())))\n",
    "print(word.lstrip()+str(len(word.lstrip())))\n",
    "print(word.strip()+str(len(word.strip())))"
   ]
  },
  {
   "cell_type": "code",
   "execution_count": null,
   "metadata": {},
   "outputs": [],
   "source": [
    "#Exercise24\n",
    "sweets = 'cake,ice cream,french toast,fruits,coffee'\n",
    "items = sweets.split(',')\n",
    "print(f'I like {items[2]} and {items[4]}')"
   ]
  },
  {
   "cell_type": "code",
   "execution_count": null,
   "metadata": {},
   "outputs": [],
   "source": [
    "#Exercise25\n",
    "1var = 100\n",
    "var2 = 'そのゲームは面白いので'+1var+'回はやりました。'\n",
    "print(var2)"
   ]
  },
  {
   "cell_type": "code",
   "execution_count": null,
   "metadata": {},
   "outputs": [],
   "source": [
    "#Exercise26\n",
    "zen = '''The Zen of Python, by Tim Peters\n",
    "醜いより美しい方がいい\n",
    "暗黙より明示の方がいい\n",
    "複雑より単純の方がいい\n",
    "極端な複雑よりただの複雑の方がいい\n",
    "入れ子よりフラットの方がいい\n",
    "蜜よりも疎の方がいい\n",
    "読みやすさは大切だ'''\n",
    "print('この文章は'+str(zen.count(\"\\n\")+1)+'行あります。')"
   ]
  },
  {
   "cell_type": "code",
   "execution_count": null,
   "metadata": {},
   "outputs": [],
   "source": [
    "#Exercise27\n",
    "s = 113.04\n",
    "n = s/4/3.14\n",
    "print(f'表面積が113.04平方cmの球の半径は{n**0.5}cm')\n",
    "print(f'表面積が113.04平方cmの球の半径は{pow(n, 0.5)}cm')"
   ]
  },
  {
   "cell_type": "code",
   "execution_count": null,
   "metadata": {},
   "outputs": [],
   "source": [
    "#Exercise28\n",
    "turi = 1000 - 308\n",
    "print(f'500円玉は{int(turi/500)}枚')\n",
    "turi = turi % 500\n",
    "print(f'100円玉は{int(turi/100)}枚')\n",
    "turi = turi % 100\n",
    "print(f'50円玉は{int(turi/50)}枚')\n",
    "turi = turi % 50\n",
    "print(f'10円玉は{int(turi/10)}枚')\n",
    "turi = turi % 10\n",
    "print(f'5円玉は{int(turi/5)}枚')\n",
    "print(f'1円玉は{turi%5}枚')"
   ]
  },
  {
   "cell_type": "code",
   "execution_count": null,
   "metadata": {},
   "outputs": [],
   "source": [
    "#Exercise29\n",
    "price = int(input('金額 >>'))\n",
    "print(f'10000円札は{price//10000}枚')\n",
    "price = price % 10000\n",
    "print(f'5000円札は{price//5000}枚')\n",
    "price = price % 5000\n",
    "print(f'1000円札は{price//1000}枚')\n",
    "price = price % 1000\n",
    "print(f'500円玉は{price//500}枚')\n",
    "price = price % 500\n",
    "print(f'100円玉は{price//100}枚')\n",
    "price = price % 100\n",
    "print(f'50円玉は{price//50}枚')\n",
    "price = price % 50\n",
    "print(f'10円玉は{price//10}枚')\n",
    "price = price % 10\n",
    "print(f'5円玉は{price//5}枚')\n",
    "print(f'1円玉は{price%5}枚')"
   ]
  },
  {
   "cell_type": "code",
   "execution_count": null,
   "metadata": {},
   "outputs": [],
   "source": [
    "#Exercise30\n",
    "str1 = input('半角英字 >>')\n",
    "print(str1.title())"
   ]
  },
  {
   "cell_type": "code",
   "execution_count": null,
   "metadata": {},
   "outputs": [],
   "source": [
    "#Exercise31\n",
    "w1 = \"abc\"\n",
    "w2 = \"xyz\"\n",
    "new_w1 = w2[:2] + w1[2:]\n",
    "new_w2 = w1[:2] + w2[2:]\n",
    "print(new_w1 + ' ' + new_w2)"
   ]
  },
  {
   "cell_type": "code",
   "execution_count": null,
   "metadata": {},
   "outputs": [],
   "source": [
    "#Exercise32\n",
    "word = input('入力 >>')\n",
    "print(word[-2:] * 4)"
   ]
  },
  {
   "cell_type": "code",
   "execution_count": null,
   "metadata": {},
   "outputs": [],
   "source": [
    "#Exercise33\n",
    "w1 = input('入力 >>')\n",
    "w2 = input('数える文字列 >>')\n",
    "num = w1.count(w2)\n",
    "print(f'\"{w1}\"にある\"{w2}\"の数は、{num}個')"
   ]
  },
  {
   "cell_type": "code",
   "execution_count": null,
   "metadata": {},
   "outputs": [],
   "source": [
    "#Exercise34\n",
    "kao = input('入力 >>')\n",
    "print(kao)\n",
    "print(f'左向きは{kao.count(\"(^^*)\")}個、右向きは{kao.count(\"(*^^)\")}個')"
   ]
  },
  {
   "cell_type": "code",
   "execution_count": null,
   "metadata": {},
   "outputs": [],
   "source": [
    "#Exercise35\n",
    "kao = '(^^*)(^^*)(*^^)(^^*)(*^^)(*^^)(*^^)'\n",
    "new_kao = kao[0:10]+kao[15:20]+kao[10:15]+kao[20:35]\n",
    "print(new_kao)"
   ]
  },
  {
   "cell_type": "code",
   "execution_count": null,
   "metadata": {},
   "outputs": [],
   "source": [
    "#Exercise36\n",
    "eye = input('目 >>')\n",
    "mouth = input('口 >>')\n",
    "print(f'({eye}{mouth}{eye})/')"
   ]
  },
  {
   "cell_type": "code",
   "execution_count": null,
   "metadata": {},
   "outputs": [],
   "source": [
    "#Exercise37\n",
    "w = input('入力 >>')\n",
    "print(f'{w[:int(len(w)/2)]}')"
   ]
  },
  {
   "cell_type": "code",
   "execution_count": null,
   "metadata": {},
   "outputs": [],
   "source": [
    "#Exercise38\n",
    "word = input('入力 >>')\n",
    "num = int(input('文字数 >>'))\n",
    "print(word[:num].upper() + word[num:])"
   ]
  },
  {
   "cell_type": "code",
   "execution_count": null,
   "metadata": {},
   "outputs": [],
   "source": [
    "#Exercise39\n",
    "letters = 'abcdefghijklmnopqrstuvwxyz'\n",
    "print(letters[-5:]) #最後の5文字\n",
    "print(letters[10:-9]) #オフセット10から末尾より10文字まで\n",
    "print(letters[::6]) #先頭から6文字ごと\n",
    "print(letters[-7:-3]) #末尾の7文字手前から末尾の4文字手前まで\n",
    "print(letters[::-1]) #逆順となる"
   ]
  },
  {
   "cell_type": "code",
   "execution_count": null,
   "metadata": {},
   "outputs": [],
   "source": [
    "#Exercise40\n",
    "num = input('入力 >>')\n",
    "n1 = int(num[:int(len(num)/2)]) *2\n",
    "n2 = int(int(num[int(len(num)/2):]) / 2)\n",
    "print(f'{str(n1)} {str(n2)}')"
   ]
  },
  {
   "cell_type": "code",
   "execution_count": null,
   "metadata": {},
   "outputs": [],
   "source": [
    "#Exercise41\n",
    "N = int(input('入力1 >>'))\n",
    "M = int(input('入力2 >>'))\n",
    "print(f'{N}x{M}={N*M}の結果は{len(str(N*M))}桁')"
   ]
  },
  {
   "cell_type": "code",
   "execution_count": null,
   "metadata": {},
   "outputs": [],
   "source": [
    "#Exercise42\n",
    "s1,s2 = input('入力 >>').split(',')\n",
    "H = int(s1)\n",
    "M = int(s2)\n",
    "M += 5\n",
    "H += M // 60\n",
    "print(f'{H%24}時{M%60}分')\n",
    "#print(f'{H%24:02d}時{M%60:02d}分')"
   ]
  },
  {
   "cell_type": "code",
   "execution_count": null,
   "metadata": {},
   "outputs": [],
   "source": [
    "#Exercise43\n",
    "a = 36.24\n",
    "b = 36.354\n",
    "print('体温は{:.1f}です。'.format(a))\n",
    "print(f'体温は{a:.1f}です。')\n",
    "print('体温は{:.2f}です。'.format(b))\n",
    "print(f'体温は{b:.2f}です。')\n",
    "print('体温は{:.0f}です。'.format(a))\n",
    "print(f'体温は{a:.0f}です。')"
   ]
  },
  {
   "cell_type": "code",
   "execution_count": null,
   "metadata": {},
   "outputs": [],
   "source": [
    "#Exercise44\n",
    "print(0b1000 + 0b0111)\n",
    "print(0b1001 + 0b0110)\n",
    "print(0b1010 + 0b0101)\n",
    "print(0b1011 + 0b0100)\n",
    "print(0b1100 + 0b0011)\n",
    "print(0b1101 + 0b0010)\n",
    "print(0b1110 + 0b0001)\n",
    "print(0b1111 + 0b0000)\n",
    "print(0x80 * 2)"
   ]
  },
  {
   "cell_type": "code",
   "execution_count": null,
   "metadata": {},
   "outputs": [],
   "source": [
    "#Exercise45\n",
    "dist = int(input('距離 >>'))\n",
    "speed = int(input('時速 >>'))\n",
    "print(f'AからBへは{dist//speed}時間{int((dist%speed)/speed*60)}分必要です')"
   ]
  },
  {
   "cell_type": "code",
   "execution_count": null,
   "metadata": {},
   "outputs": [],
   "source": [
    "#Exercise46\n",
    "pen = 350\n",
    "note = 1250\n",
    "postit = 430\n",
    "print(f'合計は20%割引で{int((pen+note+postit)*0.8)}円となります')"
   ]
  },
  {
   "cell_type": "code",
   "execution_count": null,
   "metadata": {},
   "outputs": [],
   "source": [
    "#Exercise47\n",
    "num = input('入力 >>')\n",
    "n1 = int(num)\n",
    "n2 = int(num*2)\n",
    "n3 = int(num*3)\n",
    "print(n1,n2,n3)\n",
    "print(n1+n2+n3)"
   ]
  },
  {
   "cell_type": "code",
   "execution_count": null,
   "metadata": {},
   "outputs": [],
   "source": [
    "#Exercise48\n",
    "weight = int(input('体重 >>'))\n",
    "tall = int(input('身長 >>'))\n",
    "bmi = weight/((tall/100)**2)\n",
    "jst = ((tall/100)**2)*22\n",
    "print(f'体重は{weight}kgで身長が{tall}cmのBMIは{bmi}です。')\n",
    "print(f'身長が{tall}cmの適正体重は{jst}kgです。')"
   ]
  },
  {
   "cell_type": "code",
   "execution_count": null,
   "metadata": {},
   "outputs": [],
   "source": [
    "#Exercise49\n",
    "N = int(input('予算 >>'))\n",
    "M = int(input('人数 >>'))\n",
    "print(f'お年玉は{(N // (M*1000)) * 1000}円')"
   ]
  },
  {
   "cell_type": "code",
   "execution_count": null,
   "metadata": {},
   "outputs": [],
   "source": [
    "#Exercise50\n",
    "num = int(input('入力 >>'))\n",
    "H = num//3600\n",
    "M = num%3600//60\n",
    "S = num%60\n",
    "print(f'{H}時間{M}分{S}秒')"
   ]
  },
  {
   "cell_type": "code",
   "execution_count": null,
   "metadata": {},
   "outputs": [],
   "source": [
    "#Exercise51\n",
    "w1,w2 = input('入力 >>').split(',')\n",
    "middle = int(len(w1)/2)\n",
    "w3 = w1[:middle:]+w2+w1[middle:]\n",
    "print(w3)"
   ]
  },
  {
   "cell_type": "code",
   "execution_count": null,
   "metadata": {},
   "outputs": [],
   "source": [
    "#Exercise52\n",
    "n = int(input('入力 >>'))\n",
    "print(f'{n}番目の偶数は{n*2-2}')"
   ]
  },
  {
   "cell_type": "code",
   "execution_count": null,
   "metadata": {},
   "outputs": [],
   "source": [
    "#Exercise53\n",
    "string = input('入力 >>')\n",
    "print(string[:3]*3)"
   ]
  },
  {
   "cell_type": "code",
   "execution_count": null,
   "metadata": {},
   "outputs": [],
   "source": [
    "#Exercise54\n",
    "string = input('入力 >>')\n",
    "length = len(string)\n",
    "pos = length//3\n",
    "print(f'{string[pos:pos*2]}')"
   ]
  },
  {
   "cell_type": "code",
   "execution_count": null,
   "metadata": {},
   "outputs": [],
   "source": [
    "#Exercise55\n",
    "string,num = input('入力 >>').split(',')\n",
    "num = int(num)\n",
    "print(string[::num])"
   ]
  },
  {
   "cell_type": "code",
   "execution_count": null,
   "metadata": {},
   "outputs": [],
   "source": [
    "#Exercise56\n",
    "n1 = int(input('入力 >>'))\n",
    "n2 = int(str(n1)[::-1])\n",
    "print(f'{n1}+{n2}={n1+n2}')"
   ]
  },
  {
   "cell_type": "code",
   "execution_count": null,
   "metadata": {},
   "outputs": [],
   "source": [
    "#Exercise57\n",
    "n1 = int(input('入力 >>'))\n",
    "n2 = n1//3\n",
    "n3 = ((n1%3)//2)+n2\n",
    "n4 = ((n1%3)//2)+((n1%3)%2)+n2\n",
    "print(f'{n2}+{n3}+{n4}={n1}')"
   ]
  },
  {
   "cell_type": "code",
   "execution_count": null,
   "metadata": {},
   "outputs": [],
   "source": [
    "#Exercise58\n",
    "frame = int(input('時間 >>'))\n",
    "print(f'総フレーム数：{frame*60*60}')"
   ]
  },
  {
   "cell_type": "code",
   "execution_count": null,
   "metadata": {},
   "outputs": [],
   "source": [
    "#Exercise59\n",
    "n1 = (0.45+1.8)/0.3\n",
    "n2 = (0.45+1.8)/(0.3+0.035)\n",
    "print(f'計算上は{int(n1)}人、実際には{int(n2)}人')"
   ]
  },
  {
   "cell_type": "code",
   "execution_count": null,
   "metadata": {},
   "outputs": [],
   "source": [
    "#Exercise60\n",
    "D = int(input('巣穴の距離 >>'))\n",
    "L = int(input('大ジャンプの距離 >>'))\n",
    "print(f'必要回数：{D // L + D % L}')"
   ]
  }
 ],
 "metadata": {
  "kernelspec": {
   "display_name": "Python 3.10.3 64-bit ('3.10.3')",
   "language": "python",
   "name": "python3"
  },
  "language_info": {
   "codemirror_mode": {
    "name": "ipython",
    "version": 3
   },
   "file_extension": ".py",
   "mimetype": "text/x-python",
   "name": "python",
   "nbconvert_exporter": "python",
   "pygments_lexer": "ipython3",
   "version": "3.10.3"
  },
  "vscode": {
   "interpreter": {
    "hash": "ab64589ac9d6bd956e857448da5e411ff91b136249a71239f0da316d67e65b64"
   }
  }
 },
 "nbformat": 4,
 "nbformat_minor": 4
}
