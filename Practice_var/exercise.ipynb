{
 "metadata": {
  "language_info": {
   "codemirror_mode": {
    "name": "ipython",
    "version": 3
   },
   "file_extension": ".py",
   "mimetype": "text/x-python",
   "name": "python",
   "nbconvert_exporter": "python",
   "pygments_lexer": "ipython3",
   "version": "3.8.5"
  },
  "orig_nbformat": 2,
  "kernelspec": {
   "name": "python3",
   "display_name": "Python 3",
   "language": "python"
  }
 },
 "nbformat": 4,
 "nbformat_minor": 2,
 "cells": [
  {
   "cell_type": "code",
   "execution_count": 22,
   "metadata": {},
   "outputs": [
    {
     "output_type": "stream",
     "name": "stdout",
     "text": [
      "このゲーム機は日本円で39980円です。\n米ドルでは$370となります。\n"
     ]
    }
   ],
   "source": [
    "#Exercise1\n",
    "jp_price = 39980\n",
    "print(f'このゲーム機は日本円で{jp_price}円です。\\n米ドルでは${int(jp_price/108)}となります。')"
   ]
  },
  {
   "cell_type": "code",
   "execution_count": 23,
   "metadata": {},
   "outputs": [
    {
     "output_type": "stream",
     "name": "stdout",
     "text": [
      "FiveFiveFiveFiveFive\n"
     ]
    }
   ],
   "source": [
    "#Exercise2\n",
    "print('Five'*5)"
   ]
  },
  {
   "cell_type": "code",
   "execution_count": 6,
   "metadata": {},
   "outputs": [
    {
     "output_type": "stream",
     "name": "stdout",
     "text": [
      "半径30の円の面積は2826.0平方cmです。\n\n半径30の円の面積は2826.0平方cmです。\n"
     ]
    }
   ],
   "source": [
    "#Exercise3\n",
    "radius = int(input('半径入力 >>'))\n",
    "print('半径{}の円の面積は{}平方cmです。\\n'.format(radius, radius**2*3.14))\n",
    "print(f'半径{radius}の円の面積は{radius**2*3.14}平方cmです。')"
   ]
  },
  {
   "cell_type": "code",
   "execution_count": 1,
   "metadata": {},
   "outputs": [
    {
     "output_type": "stream",
     "name": "stdout",
     "text": [
      "7割る2は、3余り1です\n"
     ]
    }
   ],
   "source": [
    "#Exercise4\n",
    "a = int(input('左辺入力 >>'))\n",
    "b = int(input('右辺入力 >>'))\n",
    "print(f'{a}割る{b}は、{a//b}余り{a%b}です')"
   ]
  },
  {
   "cell_type": "code",
   "execution_count": 2,
   "metadata": {},
   "outputs": [
    {
     "output_type": "stream",
     "name": "stdout",
     "text": [
      "Which one would you like, Coffee or Tea?\nWhich one would you like, Python or Java?\n"
     ]
    }
   ],
   "source": [
    "#Exercise5\n",
    "str1 = 'Which one would you like, Coffee or Tea?'\n",
    "str2 = str1.replace('Coffee or Tea', 'Python or Java')\n",
    "print(str1+'\\n'+str2)"
   ]
  },
  {
   "cell_type": "code",
   "execution_count": 5,
   "metadata": {},
   "outputs": [
    {
     "output_type": "stream",
     "name": "stdout",
     "text": [
      "しばらくすると信号機が青に変わった\n"
     ]
    }
   ],
   "source": [
    "#Exercise6\n",
    "words = 'しばらくすると信号機が赤に変わった'\n",
    "index = words.find('赤')\n",
    "print(words[:index]+'青'+words[index+1:])\n",
    "#print(words[0:index]+'青'+words[index+1:len(words)])"
   ]
  },
  {
   "cell_type": "code",
   "execution_count": 6,
   "metadata": {},
   "outputs": [
    {
     "output_type": "stream",
     "name": "stdout",
     "text": [
      "大阪府大阪市西区北堀江\n"
     ]
    }
   ],
   "source": [
    "#Exercise7\n",
    "prefs = \"兵庫県京都府大阪府奈良県和歌山県\"\n",
    "towns = \"京都市和歌山市奈良市大阪市神戸市\"\n",
    "city = \"西区北堀江\"\n",
    "print(f\"{prefs[6:9]}{towns[10:13]}{city}\")"
   ]
  },
  {
   "cell_type": "code",
   "execution_count": 7,
   "metadata": {},
   "outputs": [
    {
     "output_type": "stream",
     "name": "stdout",
     "text": [
      "ゲーム機の在庫：100\n"
     ]
    }
   ],
   "source": [
    "#Exercise8\n",
    "machines = 100\n",
    "base = ''\n",
    "base += 'ゲーム機の在庫：'\n",
    "base += str(machines)\n",
    "print(base)"
   ]
  },
  {
   "cell_type": "code",
   "execution_count": 13,
   "metadata": {},
   "outputs": [
    {
     "output_type": "stream",
     "name": "stdout",
     "text": [
      "   Hello World!15\nHello World!   15\nHello World!12\n"
     ]
    }
   ],
   "source": [
    "#Exercise9\n",
    "word = '   Hello World!   '\n",
    "print(word.rstrip()+str(len(word.rstrip())))\n",
    "print(word.lstrip()+str(len(word.lstrip())))\n",
    "print(word.strip()+str(len(word.strip())))"
   ]
  },
  {
   "cell_type": "code",
   "execution_count": 1,
   "metadata": {},
   "outputs": [
    {
     "output_type": "stream",
     "name": "stdout",
     "text": [
      "I like french toast and coffee\n"
     ]
    }
   ],
   "source": [
    "#Exercise10\n",
    "sweets = 'cake,ice cream,french toast,fruits,coffee'\n",
    "items = sweets.split(',')\n",
    "print(f'I like {items[2]} and {items[4]}')"
   ]
  },
  {
   "cell_type": "code",
   "execution_count": 5,
   "metadata": {},
   "outputs": [
    {
     "output_type": "stream",
     "name": "stdout",
     "text": [
      "そのゲームは面白いので100回はやりました。\n"
     ]
    }
   ],
   "source": [
    "#Exercise11\n",
    "1var = 100\n",
    "var2 = 'そのゲームは面白いので'+1var+'回はやりました。'\n",
    "print(var2)"
   ]
  },
  {
   "cell_type": "code",
   "execution_count": 13,
   "metadata": {},
   "outputs": [
    {
     "output_type": "stream",
     "name": "stdout",
     "text": [
      "この文章は10行あります。\n"
     ]
    }
   ],
   "source": [
    "#Exercise12\n",
    "novel = '''雨ニモマケズ\n",
    "風ニモマケズ\n",
    "雪ニモ夏ノ暑サニモマケヌ\n",
    "丈夫ナカラダヲモチ\n",
    "慾ハナク\n",
    "決シテ瞋ラズ\n",
    "イツモシヅカニワラッテヰル\n",
    "(中略)\n",
    "サウイフモノニ\n",
    "ワタシハナリタイ'''\n",
    "print('この文章は'+str(novel.count(\"\\n\")+1)+'行あります。')"
   ]
  },
  {
   "cell_type": "code",
   "execution_count": 16,
   "metadata": {},
   "outputs": [
    {
     "output_type": "stream",
     "name": "stdout",
     "text": [
      "500円玉は1枚\n100円玉は1枚\n50円玉は1枚\n10円玉は4枚\n5円玉は0枚\n1円玉は2枚\n"
     ]
    }
   ],
   "source": [
    "#Exercise13\n",
    "turi = 1000 - 308\n",
    "print(f'500円玉は{int(turi/500)}枚')\n",
    "turi = turi % 500\n",
    "print(f'100円玉は{int(turi/100)}枚')\n",
    "turi = turi % 100\n",
    "print(f'50円玉は{int(turi/50)}枚')\n",
    "turi = turi % 50\n",
    "print(f'10円玉は{int(turi/10)}枚')\n",
    "turi = turi % 10\n",
    "print(f'5円玉は{int(turi/5)}枚')\n",
    "print(f'1円玉は{int(turi%5)}枚')"
   ]
  },
  {
   "cell_type": "code",
   "execution_count": 17,
   "metadata": {},
   "outputs": [
    {
     "output_type": "stream",
     "name": "stdout",
     "text": [
      "This Is A Pen.\n"
     ]
    }
   ],
   "source": [
    "#Exercise14\n",
    "str1 = input('半角英字入力 >>')\n",
    "print(str1.title())"
   ]
  },
  {
   "cell_type": "code",
   "execution_count": 25,
   "metadata": {},
   "outputs": [
    {
     "output_type": "stream",
     "name": "stdout",
     "text": [
      "体温は36.2です。\n体温は36.2です。\n体温は36.35です。\n体温は36.35です。\n"
     ]
    }
   ],
   "source": [
    "a = 36.24\n",
    "b = 36.354\n",
    "print('体温は{:.1f}です。'.format(a))\n",
    "print(f'体温は{a:.1f}です。')\n",
    "print('体温は{:.2f}です。'.format(b))\n",
    "print(f'体温は{b:.2f}です。')"
   ]
  },
  {
   "cell_type": "code",
   "execution_count": 20,
   "metadata": {},
   "outputs": [
    {
     "output_type": "stream",
     "name": "stdout",
     "text": [
      "体重は60kgで身長が170cmのBMIは20.76です。\n身長が170cmの適正体重は63.58kgです。\n"
     ]
    }
   ],
   "source": [
    "#Exercise15\n",
    "weight = int(input('体重は？'))\n",
    "tall = int(input('身長は？'))\n",
    "bmi = weight/((tall/100)**2)\n",
    "jst = ((tall/100)**2)*22\n",
    "print(f'体重は{weight}kgで身長が{tall}cmのBMIは{bmi:.2f}です。')\n",
    "print(f'身長が{tall}cmの適正体重は{jst:.2f}kgです。')"
   ]
  },
  {
   "cell_type": "code",
   "execution_count": 4,
   "metadata": {},
   "outputs": [
    {
     "output_type": "stream",
     "name": "stdout",
     "text": [
      "必要回数：4\n"
     ]
    }
   ],
   "source": [
    "#Exercise16\n",
    "param = input('距離 >>').split()\n",
    "D, L = int(param[0]), int(param[1])\n",
    "print(f'必要回数：{D // L + D % L}')"
   ]
  },
  {
   "cell_type": "code",
   "execution_count": null,
   "metadata": {},
   "outputs": [],
   "source": []
  }
 ]
}