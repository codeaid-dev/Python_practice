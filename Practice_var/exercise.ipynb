{
 "cells": [
  {
   "cell_type": "code",
   "execution_count": 2,
   "metadata": {},
   "outputs": [
    {
     "name": "stdout",
     "output_type": "stream",
     "text": [
      "It's Python. The command \"py.exe\" is just for Windows.\n",
      "It's Python. The command \"py.exe\" is just for Windows.\n"
     ]
    }
   ],
   "source": [
    "#Exercise1\n",
    "print(\"It's Python. \"+'The command \"py.exe\" is just for Windows.')\n",
    "print('It\\'s Python. The command \"py.exe\" is just for Windows.')"
   ]
  },
  {
   "cell_type": "code",
   "execution_count": 1,
   "metadata": {},
   "outputs": [
    {
     "name": "stdout",
     "output_type": "stream",
     "text": [
      "a+b= 123\n",
      "a-b= 73\n",
      "a*b= 2450\n",
      "a/b= 3.92\n",
      "aの2乗 9604\n"
     ]
    }
   ],
   "source": [
    "#Exercise2\n",
    "a=98\n",
    "b=25\n",
    "print(f'a+b=', a+b)\n",
    "print(f'a-b=', a-b)\n",
    "print(f'a*b=', a*b)\n",
    "print(f'a/b=', a/b)\n",
    "print(f'aの2乗', a**2)"
   ]
  },
  {
   "cell_type": "code",
   "execution_count": 1,
   "metadata": {},
   "outputs": [
    {
     "name": "stdout",
     "output_type": "stream",
     "text": [
      "品川 310 か 1234\n"
     ]
    }
   ],
   "source": [
    "#Exercise3\n",
    "prefs = '世田谷杉並練馬品川足立西東京'\n",
    "kanas = 'あいうえおかきくけこさしすせそ'\n",
    "kind = 310\n",
    "ch = kanas[5] #chに'か'を代入\n",
    "num = 1234\n",
    "print(f'{prefs[7:9]} {kind} {ch} {num}')"
   ]
  },
  {
   "cell_type": "code",
   "execution_count": 5,
   "metadata": {},
   "outputs": [
    {
     "name": "stdout",
     "output_type": "stream",
     "text": [
      "20人にアンケートした結果PythonとJavaのどちらが好きかの質問で、65%がPythonだった\n"
     ]
    }
   ],
   "source": [
    "#Exercise4\n",
    "var1 = 'アンケート'\n",
    "var2 = 'Python'\n",
    "var3 = 'Java'\n",
    "var4 = 20\n",
    "var5 = 13\n",
    "print(f'{var4}人に{var1}した結果{var2}と{var3}の\\\n",
    "どちらが好きかの質問で、{int(var5/var4*100)}%がPythonだった')"
   ]
  },
  {
   "cell_type": "code",
   "execution_count": 13,
   "metadata": {},
   "outputs": [
    {
     "name": "stdout",
     "output_type": "stream",
     "text": [
      "ゴールできる確率は16%です\n"
     ]
    }
   ],
   "source": [
    "#Exercise5\n",
    "n = int(input('ルーレットの数 >>'))\n",
    "r = int(1/n*100)\n",
    "print(f'ゴールできる確率は{r}%です')"
   ]
  },
  {
   "cell_type": "code",
   "execution_count": 22,
   "metadata": {},
   "outputs": [
    {
     "name": "stdout",
     "output_type": "stream",
     "text": [
      "このゲーム機は日本円で39980円です。\n",
      "米ドルでは$370となります。\n"
     ]
    }
   ],
   "source": [
    "#Exercise6\n",
    "jp_price = 39980\n",
    "print(f'このゲーム機は日本円で{jp_price}円です。\\n米ドルでは${int(jp_price/108)}となります。')"
   ]
  },
  {
   "cell_type": "code",
   "execution_count": 23,
   "metadata": {},
   "outputs": [
    {
     "name": "stdout",
     "output_type": "stream",
     "text": [
      "FiveFiveFiveFiveFive\n"
     ]
    }
   ],
   "source": [
    "#Exercise7\n",
    "print('Five'*5)"
   ]
  },
  {
   "cell_type": "code",
   "execution_count": null,
   "metadata": {},
   "outputs": [],
   "source": [
    "#Exercise8\n",
    "radius = int(input('半径入力 >>'))\n",
    "print('半径{}cmの円の面積は{}平方cmです。'.format(radius, radius**2*3.14))\n",
    "print(f'半径{radius}cmの円の面積は{radius**2*3.14}平方cmです。')"
   ]
  },
  {
   "cell_type": "code",
   "execution_count": 1,
   "metadata": {},
   "outputs": [
    {
     "name": "stdout",
     "output_type": "stream",
     "text": [
      "底辺50cmで高さ70cmの三角形の面積は1750.0平方cmです。\n",
      "底辺50cmで高さ70cmの三角形の面積は1750.0平方cmです。\n"
     ]
    }
   ],
   "source": [
    "#Exercise9\n",
    "bottom = int(input('底辺 >>'))\n",
    "height = int(input('高さ >>'))\n",
    "print('底辺{}cmで高さ{}cmの三角形の面積は{}平方cmです。'.format(bottom, height, bottom*height/2))\n",
    "print(f'底辺{bottom}cmで高さ{height}cmの三角形の面積は{bottom*height/2}平方cmです。')"
   ]
  },
  {
   "cell_type": "code",
   "execution_count": 2,
   "metadata": {},
   "outputs": [
    {
     "name": "stdout",
     "output_type": "stream",
     "text": [
      "上底20cmと下底30cmで高さ50cmの台形の面積は1250.0平方cmです。\n",
      "上底20cmと下底30cmで高さ50cmの台形の面積は1250.0平方cmです。\n"
     ]
    }
   ],
   "source": [
    "#Exercise10\n",
    "up = int(input('上底 >>'))\n",
    "bottom = int(input('下底 >>'))\n",
    "height = int(input('高さ >>'))\n",
    "print('上底{}cmと下底{}cmで高さ{}cmの台形の面積は{}平方cmです。'.format(up, bottom, height, (up+bottom)*height/2))\n",
    "print(f'上底{up}cmと下底{bottom}cmで高さ{height}cmの台形の面積は{(up+bottom)*height/2}平方cmです。')"
   ]
  },
  {
   "cell_type": "code",
   "execution_count": 1,
   "metadata": {},
   "outputs": [
    {
     "name": "stdout",
     "output_type": "stream",
     "text": [
      "7割る2は、3余り1です\n"
     ]
    }
   ],
   "source": [
    "#Exercise11\n",
    "a = int(input('左辺入力 >>'))\n",
    "b = int(input('右辺入力 >>'))\n",
    "print(f'{a}割る{b}は、{a//b}余り{a%b}です')"
   ]
  },
  {
   "cell_type": "code",
   "execution_count": 3,
   "metadata": {},
   "outputs": [
    {
     "name": "stdout",
     "output_type": "stream",
     "text": [
      "英語60点、数学73点の平均点は66.5点です\n"
     ]
    }
   ],
   "source": [
    "#Exercise12\n",
    "e = int(input('英語 >>'))\n",
    "m = int(input('英語 >>'))\n",
    "print(f'英語{e}点、数学{m}点の平均点は{(e+m)/2}点です')"
   ]
  },
  {
   "cell_type": "code",
   "execution_count": 2,
   "metadata": {},
   "outputs": [
    {
     "name": "stdout",
     "output_type": "stream",
     "text": [
      "Which one would you like, Coffee or Tea?\n",
      "Which one would you like, Python or Java?\n"
     ]
    }
   ],
   "source": [
    "#Exercise13\n",
    "str1 = 'Which one would you like, Coffee or Tea?'\n",
    "str2 = str1.replace('Coffee or Tea', 'Python or Java')\n",
    "print(str1+'\\n'+str2)"
   ]
  },
  {
   "cell_type": "code",
   "execution_count": 14,
   "metadata": {},
   "outputs": [
    {
     "name": "stdout",
     "output_type": "stream",
     "text": [
      "This is a ballpen. This ballpen is comfortable to write on.\n",
      "This is a pen. This pen is comfortable to write on.\n"
     ]
    }
   ],
   "source": [
    "#Exercise14\n",
    "w1 = 'This is a ballpen. This ballpen is comfortable to write on.'\n",
    "print(w1)\n",
    "print(w1.replace('ball', ''))"
   ]
  },
  {
   "cell_type": "code",
   "execution_count": 1,
   "metadata": {},
   "outputs": [
    {
     "name": "stdout",
     "output_type": "stream",
     "text": [
      "abcdefg\n",
      "defg\n"
     ]
    }
   ],
   "source": [
    "#Exercise15\n",
    "s = input('入力 >>')\n",
    "n = int(input('オフセット >>'))\n",
    "print(s)\n",
    "print(s[n:])"
   ]
  },
  {
   "cell_type": "code",
   "execution_count": 5,
   "metadata": {},
   "outputs": [
    {
     "name": "stdout",
     "output_type": "stream",
     "text": [
      "しばらくすると信号機が青に変わった\n"
     ]
    }
   ],
   "source": [
    "#Exercise16\n",
    "words = 'しばらくすると信号機が赤に変わった'\n",
    "index = words.find('赤')\n",
    "print(words[:index]+'青'+words[index+1:])\n",
    "#print(words[0:index]+'青'+words[index+1:len(words)])"
   ]
  },
  {
   "cell_type": "code",
   "execution_count": 6,
   "metadata": {},
   "outputs": [
    {
     "name": "stdout",
     "output_type": "stream",
     "text": [
      "大阪府大阪市西区北堀江\n"
     ]
    }
   ],
   "source": [
    "#Exercise17\n",
    "prefs = \"兵庫県京都府大阪府奈良県和歌山県\"\n",
    "towns = \"京都市和歌山市奈良市大阪市神戸市\"\n",
    "city = \"西区北堀江\"\n",
    "print(f\"{prefs[6:9]}{towns[10:13]}{city}\")"
   ]
  },
  {
   "cell_type": "code",
   "execution_count": 7,
   "metadata": {},
   "outputs": [
    {
     "name": "stdout",
     "output_type": "stream",
     "text": [
      "ゲーム機の在庫：100\n"
     ]
    }
   ],
   "source": [
    "#Exercise18\n",
    "machines = 100\n",
    "base = ''\n",
    "base += 'ゲーム機の在庫：'\n",
    "base += str(machines)\n",
    "print(base)"
   ]
  },
  {
   "cell_type": "code",
   "execution_count": 13,
   "metadata": {},
   "outputs": [
    {
     "name": "stdout",
     "output_type": "stream",
     "text": [
      "   Hello World!15\n",
      "Hello World!   15\n",
      "Hello World!12\n"
     ]
    }
   ],
   "source": [
    "#Exercise19\n",
    "word = '   Hello World!   '\n",
    "print(word.rstrip()+str(len(word.rstrip())))\n",
    "print(word.lstrip()+str(len(word.lstrip())))\n",
    "print(word.strip()+str(len(word.strip())))"
   ]
  },
  {
   "cell_type": "code",
   "execution_count": 1,
   "metadata": {},
   "outputs": [
    {
     "name": "stdout",
     "output_type": "stream",
     "text": [
      "I like french toast and coffee\n"
     ]
    }
   ],
   "source": [
    "#Exercise20\n",
    "sweets = 'cake,ice cream,french toast,fruits,coffee'\n",
    "items = sweets.split(',')\n",
    "print(f'I like {items[2]} and {items[4]}')"
   ]
  },
  {
   "cell_type": "code",
   "execution_count": 5,
   "metadata": {},
   "outputs": [
    {
     "name": "stdout",
     "output_type": "stream",
     "text": [
      "そのゲームは面白いので100回はやりました。\n"
     ]
    }
   ],
   "source": [
    "#Exercise21\n",
    "1var = 100\n",
    "var2 = 'そのゲームは面白いので'+1var+'回はやりました。'\n",
    "print(var2)"
   ]
  },
  {
   "cell_type": "code",
   "execution_count": 13,
   "metadata": {},
   "outputs": [
    {
     "name": "stdout",
     "output_type": "stream",
     "text": [
      "この文章は10行あります。\n"
     ]
    }
   ],
   "source": [
    "#Exercise22\n",
    "novel = '''雨ニモマケズ\n",
    "風ニモマケズ\n",
    "雪ニモ夏ノ暑サニモマケヌ\n",
    "丈夫ナカラダヲモチ\n",
    "慾ハナク\n",
    "決シテ瞋ラズ\n",
    "イツモシヅカニワラッテヰル\n",
    "(中略)\n",
    "サウイフモノニ\n",
    "ワタシハナリタイ'''\n",
    "print('この文章は'+str(novel.count(\"\\n\")+1)+'行あります。')"
   ]
  },
  {
   "cell_type": "code",
   "execution_count": null,
   "metadata": {},
   "outputs": [],
   "source": [
    "#Exercise23\n",
    "turi = 1000 - 308\n",
    "print(f'500円玉は{int(turi/500)}枚')\n",
    "turi = turi % 500\n",
    "print(f'100円玉は{int(turi/100)}枚')\n",
    "turi = turi % 100\n",
    "print(f'50円玉は{int(turi/50)}枚')\n",
    "turi = turi % 50\n",
    "print(f'10円玉は{int(turi/10)}枚')\n",
    "turi = turi % 10\n",
    "print(f'5円玉は{int(turi/5)}枚')\n",
    "print(f'1円玉は{turi%5}枚')"
   ]
  },
  {
   "cell_type": "code",
   "execution_count": null,
   "metadata": {},
   "outputs": [],
   "source": [
    "#Exercise24\n",
    "price = int(input('金額 >>'))\n",
    "print(f'10000円札は{price//10000}枚')\n",
    "price = price % 10000\n",
    "print(f'5000円札は{price//5000}枚')\n",
    "price = price % 5000\n",
    "print(f'1000円札は{price//1000}枚')\n",
    "price = price % 1000\n",
    "print(f'500円玉は{price//500}枚')\n",
    "price = price % 500\n",
    "print(f'100円玉は{price//100}枚')\n",
    "price = price % 100\n",
    "print(f'50円玉は{price//50}枚')\n",
    "price = price % 50\n",
    "print(f'10円玉は{price//10}枚')\n",
    "price = price % 10\n",
    "print(f'5円玉は{price//5}枚')\n",
    "print(f'1円玉は{price%5}枚')"
   ]
  },
  {
   "cell_type": "code",
   "execution_count": 17,
   "metadata": {},
   "outputs": [
    {
     "name": "stdout",
     "output_type": "stream",
     "text": [
      "This Is A Pen.\n"
     ]
    }
   ],
   "source": [
    "#Exercise25\n",
    "str1 = input('半角英字 >>')\n",
    "print(str1.title())"
   ]
  },
  {
   "cell_type": "code",
   "execution_count": 1,
   "metadata": {},
   "outputs": [
    {
     "name": "stdout",
     "output_type": "stream",
     "text": [
      "xyc abz\n"
     ]
    }
   ],
   "source": [
    "#Exercise26\n",
    "w1 = \"abc\"\n",
    "w2 = \"xyz\"\n",
    "new_w1 = w2[:2] + w1[2:]\n",
    "new_w2 = w1[:2] + w2[2:]\n",
    "print(new_w1 + ' ' + new_w2)"
   ]
  },
  {
   "cell_type": "code",
   "execution_count": 2,
   "metadata": {},
   "outputs": [
    {
     "name": "stdout",
     "output_type": "stream",
     "text": [
      "onononon\n"
     ]
    }
   ],
   "source": [
    "#Exercise27\n",
    "word = input('入力 >>')\n",
    "print(word[-2:] * 4)"
   ]
  },
  {
   "cell_type": "code",
   "execution_count": 5,
   "metadata": {},
   "outputs": [
    {
     "name": "stdout",
     "output_type": "stream",
     "text": [
      "\"hogehogehogehogehogehogehoge\"にある\"o\"の数は、7個\n"
     ]
    }
   ],
   "source": [
    "#Exercise28\n",
    "w1 = input('入力 >>')\n",
    "w2 = input('数える文字列 >>')\n",
    "num = w1.count(w2)\n",
    "print(f'\"{w1}\"にある\"{w2}\"の数は、{num}個')"
   ]
  },
  {
   "cell_type": "code",
   "execution_count": 4,
   "metadata": {},
   "outputs": [
    {
     "name": "stdout",
     "output_type": "stream",
     "text": [
      "(^^*)(^^*)(*^^)(^^*)(*^^)(*^^)(*^^)\n",
      "左向きは3個、右向きは4個\n"
     ]
    }
   ],
   "source": [
    "#Exercise29\n",
    "kao = input('入力 >>')\n",
    "print(kao)\n",
    "print(f'左向きは{kao.count(\"(^^*)\")}個、右向きは{kao.count(\"(*^^)\")}個')"
   ]
  },
  {
   "cell_type": "code",
   "execution_count": 7,
   "metadata": {},
   "outputs": [
    {
     "name": "stdout",
     "output_type": "stream",
     "text": [
      "(*_*)/\n"
     ]
    }
   ],
   "source": [
    "eye = input('目 >>')\n",
    "mouth = input('口 >>')\n",
    "print(f'({eye}{mouth}{eye})/')"
   ]
  },
  {
   "cell_type": "code",
   "execution_count": 5,
   "metadata": {},
   "outputs": [
    {
     "name": "stdout",
     "output_type": "stream",
     "text": [
      "abcdefghijklm\n",
      "abcdef\n"
     ]
    }
   ],
   "source": [
    "#Exercise30\n",
    "w = input('入力 >>')\n",
    "print(f'{w[:int(len(w)/2)]}')"
   ]
  },
  {
   "cell_type": "code",
   "execution_count": 6,
   "metadata": {},
   "outputs": [
    {
     "name": "stdout",
     "output_type": "stream",
     "text": [
      "ABCDEfghijkl\n"
     ]
    }
   ],
   "source": [
    "#Exercise31\n",
    "word = input('入力 >>')\n",
    "num = int(input('文字数 >>'))\n",
    "print(word[:num].upper() + word[num:])"
   ]
  },
  {
   "cell_type": "code",
   "execution_count": 7,
   "metadata": {},
   "outputs": [
    {
     "name": "stdout",
     "output_type": "stream",
     "text": [
      "2時4分\n"
     ]
    }
   ],
   "source": [
    "#Exercise32\n",
    "H = int(input('何時？'))\n",
    "M = int(input('何分？'))\n",
    "M += 5\n",
    "H += M // 60\n",
    "print(f'{H%24}時{M%60}分')\n",
    "#print(f'{H%24:02d}時{M%60:02d}分')"
   ]
  },
  {
   "cell_type": "code",
   "execution_count": 4,
   "metadata": {},
   "outputs": [
    {
     "name": "stdout",
     "output_type": "stream",
     "text": [
      "vwxyz\n",
      "klmnopq\n",
      "agmsy\n",
      "tuvw\n",
      "zyxwvutsrqponmlkjihgfedcba\n"
     ]
    }
   ],
   "source": [
    "#Exercise33\n",
    "letters = 'abcdefghijklmnopqrstuvwxyz'\n",
    "print(letters[-5:]) #最後の5文字\n",
    "print(letters[10:-9]) #オフセット10から末尾より10文字まで\n",
    "print(letters[::6]) #先頭から6文字ごと\n",
    "print(letters[-7:-3]) #末尾の7文字手前から末尾の4文字手前まで\n",
    "print(letters[::-1]) #逆順となる"
   ]
  },
  {
   "cell_type": "code",
   "execution_count": 7,
   "metadata": {},
   "outputs": [
    {
     "name": "stdout",
     "output_type": "stream",
     "text": [
      "体温は36.2です。\n",
      "体温は36.2です。\n",
      "体温は36.35です。\n",
      "体温は36.35です。\n",
      "体温は36です。\n",
      "体温は36です。\n",
      "体温は36です。\n"
     ]
    }
   ],
   "source": [
    "#Exercise34\n",
    "a = 36.24\n",
    "b = 36.354\n",
    "print('体温は{:.1f}です。'.format(a))\n",
    "print(f'体温は{a:.1f}です。')\n",
    "print('体温は{:.2f}です。'.format(b))\n",
    "print(f'体温は{b:.2f}です。')\n",
    "print('体温は{:.0f}です。'.format(a))\n",
    "print(f'体温は{a:.0f}です。')\n",
    "print(f'体温は{int(a)}です。')"
   ]
  },
  {
   "cell_type": "code",
   "execution_count": null,
   "metadata": {},
   "outputs": [],
   "source": [
    "#Exercise35\n",
    "print(0b1000 + 0b0111)\n",
    "print(0b1001 + 0b0110)\n",
    "print(0b1010 + 0b0101)\n",
    "print(0b1011 + 0b0100)\n",
    "print(0b1100 + 0b0011)\n",
    "print(0b1101 + 0b0010)\n",
    "print(0b1110 + 0b0001)\n",
    "print(0b1111 + 0b0000)\n",
    "print(0x80 * 2)"
   ]
  },
  {
   "cell_type": "code",
   "execution_count": null,
   "metadata": {},
   "outputs": [],
   "source": [
    "#Exercise36\n",
    "dist = int(input('距離 >>'))\n",
    "speed = int(input('時速 >>'))\n",
    "print(f'AからBへは{dist//speed}時間{int((dist%speed)/speed*60)}分必要です')"
   ]
  },
  {
   "cell_type": "code",
   "execution_count": 30,
   "metadata": {},
   "outputs": [
    {
     "name": "stdout",
     "output_type": "stream",
     "text": [
      "合計は20%割引で1624円となります\n"
     ]
    }
   ],
   "source": [
    "#Exercise37\n",
    "pen = 350\n",
    "note = 1250\n",
    "postit = 430\n",
    "print(f'合計は20%割引で{int((pen+note+postit)*0.8)}円となります')"
   ]
  },
  {
   "cell_type": "code",
   "execution_count": 8,
   "metadata": {},
   "outputs": [
    {
     "name": "stdout",
     "output_type": "stream",
     "text": [
      "体重は60kgで身長が170cmのBMIは20.761245674740486です。\n",
      "身長が170cmの適正体重は63.57999999999999kgです。\n"
     ]
    }
   ],
   "source": [
    "#Exercise38\n",
    "weight = int(input('体重は？'))\n",
    "tall = int(input('身長は？'))\n",
    "bmi = weight/((tall/100)**2)\n",
    "jst = ((tall/100)**2)*22\n",
    "print(f'体重は{weight}kgで身長が{tall}cmのBMIは{bmi}です。')\n",
    "print(f'身長が{tall}cmの適正体重は{jst}kgです。')"
   ]
  }
 ],
 "metadata": {
  "kernelspec": {
   "display_name": "Python 3.9.2 64-bit ('3.9.2': pyenv)",
   "name": "python392jvsc74a57bd0e175e2d1a69ec44a53513b33867561d513a585d5b2228589977b3e28bb8f7a45"
  },
  "language_info": {
   "codemirror_mode": {
    "name": "ipython",
    "version": 3
   },
   "file_extension": ".py",
   "mimetype": "text/x-python",
   "name": "python",
   "nbconvert_exporter": "python",
   "pygments_lexer": "ipython3",
   "version": "3.9.2"
  }
 },
 "nbformat": 4,
 "nbformat_minor": 4
}