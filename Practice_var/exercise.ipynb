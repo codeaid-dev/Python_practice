{
 "cells": [
  {
   "cell_type": "code",
   "execution_count": 2,
   "metadata": {},
   "outputs": [
    {
     "name": "stdout",
     "output_type": "stream",
     "text": [
      "It's Python. The command \"py.exe\" is just for Windows.\n",
      "It's Python. The command \"py.exe\" is just for Windows.\n"
     ]
    }
   ],
   "source": [
    "#Exercise1\n",
    "print(\"It's Python. \"+'The command \"py.exe\" is just for Windows.')\n",
    "print('It\\'s Python. The command \"py.exe\" is just for Windows.')"
   ]
  },
  {
   "cell_type": "code",
   "execution_count": 1,
   "metadata": {},
   "outputs": [
    {
     "name": "stdout",
     "output_type": "stream",
     "text": [
      "a+b= 123\n",
      "a-b= 73\n",
      "a*b= 2450\n",
      "a/b= 3.92\n",
      "aの2乗 9604\n"
     ]
    }
   ],
   "source": [
    "#Exercise2\n",
    "a=98\n",
    "b=25\n",
    "print(f'a+b=', a+b)\n",
    "print(f'a-b=', a-b)\n",
    "print(f'a*b=', a*b)\n",
    "print(f'a/b=', a/b)\n",
    "print(f'aの2乗', a**2)"
   ]
  },
  {
   "cell_type": "code",
   "execution_count": 1,
   "metadata": {},
   "outputs": [
    {
     "name": "stdout",
     "output_type": "stream",
     "text": [
      "品川 310 か 1234\n"
     ]
    }
   ],
   "source": [
    "#Exercise3\n",
    "prefs = '世田谷杉並練馬品川足立西東京'\n",
    "kanas = 'あいうえおかきくけこさしすせそ'\n",
    "kind = 310\n",
    "ch = kanas[5] #chに'か'を代入\n",
    "num = 1234\n",
    "print(f'{prefs[7:9]} {kind} {ch} {num}')"
   ]
  },
  {
   "cell_type": "code",
   "execution_count": 5,
   "metadata": {},
   "outputs": [
    {
     "name": "stdout",
     "output_type": "stream",
     "text": [
      "20人にアンケートした結果PythonとJavaのどちらが好きかの質問で、65%がPythonだった\n"
     ]
    }
   ],
   "source": [
    "#Exercise4\n",
    "var1 = 'アンケート'\n",
    "var2 = 'Python'\n",
    "var3 = 'Java'\n",
    "var4 = 20\n",
    "var5 = 13\n",
    "print(f'{var4}人に{var1}した結果{var2}と{var3}の\\\n",
    "どちらが好きかの質問で、{int(var5/var4*100)}%がPythonだった')"
   ]
  },
  {
   "cell_type": "code",
   "execution_count": 13,
   "metadata": {},
   "outputs": [
    {
     "name": "stdout",
     "output_type": "stream",
     "text": [
      "ゴールできる確率は16%です\n"
     ]
    }
   ],
   "source": [
    "#Exercise5\n",
    "n = int(input('ルーレットの数 >>'))\n",
    "r = int(1/n*100)\n",
    "print(f'ゴールできる確率は{r}%です')"
   ]
  },
  {
   "cell_type": "code",
   "execution_count": 22,
   "metadata": {},
   "outputs": [
    {
     "name": "stdout",
     "output_type": "stream",
     "text": [
      "このゲーム機は日本円で39980円です。\n",
      "米ドルでは$370となります。\n"
     ]
    }
   ],
   "source": [
    "#Exercise6\n",
    "jp_price = 39980\n",
    "print(f'このゲーム機は日本円で{jp_price}円です。\\n米ドルでは${int(jp_price/108)}となります。')"
   ]
  },
  {
   "cell_type": "code",
   "execution_count": 23,
   "metadata": {},
   "outputs": [
    {
     "name": "stdout",
     "output_type": "stream",
     "text": [
      "FiveFiveFiveFiveFive\n"
     ]
    }
   ],
   "source": [
    "#Exercise7\n",
    "print('Five'*5)"
   ]
  },
  {
   "cell_type": "code",
   "execution_count": 6,
   "metadata": {},
   "outputs": [
    {
     "name": "stdout",
     "output_type": "stream",
     "text": [
      "半径30の円の面積は2826.0平方cmです。\n",
      "\n",
      "半径30の円の面積は2826.0平方cmです。\n"
     ]
    }
   ],
   "source": [
    "#Exercise8\n",
    "radius = int(input('半径入力 >>'))\n",
    "print('半径{}の円の面積は{}平方cmです。\\n'.format(radius, radius**2*3.14))\n",
    "print(f'半径{radius}の円の面積は{radius**2*3.14}平方cmです。')"
   ]
  },
  {
   "cell_type": "code",
   "execution_count": 1,
   "metadata": {},
   "outputs": [
    {
     "name": "stdout",
     "output_type": "stream",
     "text": [
      "7割る2は、3余り1です\n"
     ]
    }
   ],
   "source": [
    "#Exercise9\n",
    "a = int(input('左辺入力 >>'))\n",
    "b = int(input('右辺入力 >>'))\n",
    "print(f'{a}割る{b}は、{a//b}余り{a%b}です')"
   ]
  },
  {
   "cell_type": "code",
   "execution_count": 2,
   "metadata": {},
   "outputs": [
    {
     "name": "stdout",
     "output_type": "stream",
     "text": [
      "Which one would you like, Coffee or Tea?\n",
      "Which one would you like, Python or Java?\n"
     ]
    }
   ],
   "source": [
    "#Exercise10\n",
    "str1 = 'Which one would you like, Coffee or Tea?'\n",
    "str2 = str1.replace('Coffee or Tea', 'Python or Java')\n",
    "print(str1+'\\n'+str2)"
   ]
  },
  {
   "cell_type": "code",
   "execution_count": 14,
   "metadata": {},
   "outputs": [
    {
     "name": "stdout",
     "output_type": "stream",
     "text": [
      "This is a ballpen. This ballpen is comfortable to write on.\n",
      "This is a pen. This pen is comfortable to write on.\n"
     ]
    }
   ],
   "source": [
    "#Exercise11\n",
    "w1 = 'This is a ballpen. This ballpen is comfortable to write on.'\n",
    "print(w1)\n",
    "print(w1.replace('ball', ''))"
   ]
  },
  {
   "cell_type": "code",
   "execution_count": 5,
   "metadata": {},
   "outputs": [
    {
     "name": "stdout",
     "output_type": "stream",
     "text": [
      "しばらくすると信号機が青に変わった\n"
     ]
    }
   ],
   "source": [
    "#Exercise12\n",
    "words = 'しばらくすると信号機が赤に変わった'\n",
    "index = words.find('赤')\n",
    "print(words[:index]+'青'+words[index+1:])\n",
    "#print(words[0:index]+'青'+words[index+1:len(words)])"
   ]
  },
  {
   "cell_type": "code",
   "execution_count": 6,
   "metadata": {},
   "outputs": [
    {
     "name": "stdout",
     "output_type": "stream",
     "text": [
      "大阪府大阪市西区北堀江\n"
     ]
    }
   ],
   "source": [
    "#Exercise13\n",
    "prefs = \"兵庫県京都府大阪府奈良県和歌山県\"\n",
    "towns = \"京都市和歌山市奈良市大阪市神戸市\"\n",
    "city = \"西区北堀江\"\n",
    "print(f\"{prefs[6:9]}{towns[10:13]}{city}\")"
   ]
  },
  {
   "cell_type": "code",
   "execution_count": 7,
   "metadata": {},
   "outputs": [
    {
     "name": "stdout",
     "output_type": "stream",
     "text": [
      "ゲーム機の在庫：100\n"
     ]
    }
   ],
   "source": [
    "#Exercise14\n",
    "machines = 100\n",
    "base = ''\n",
    "base += 'ゲーム機の在庫：'\n",
    "base += str(machines)\n",
    "print(base)"
   ]
  },
  {
   "cell_type": "code",
   "execution_count": 13,
   "metadata": {},
   "outputs": [
    {
     "name": "stdout",
     "output_type": "stream",
     "text": [
      "   Hello World!15\n",
      "Hello World!   15\n",
      "Hello World!12\n"
     ]
    }
   ],
   "source": [
    "#Exercise15\n",
    "word = '   Hello World!   '\n",
    "print(word.rstrip()+str(len(word.rstrip())))\n",
    "print(word.lstrip()+str(len(word.lstrip())))\n",
    "print(word.strip()+str(len(word.strip())))"
   ]
  },
  {
   "cell_type": "code",
   "execution_count": 1,
   "metadata": {},
   "outputs": [
    {
     "name": "stdout",
     "output_type": "stream",
     "text": [
      "I like french toast and coffee\n"
     ]
    }
   ],
   "source": [
    "#Exercise16\n",
    "sweets = 'cake,ice cream,french toast,fruits,coffee'\n",
    "items = sweets.split(',')\n",
    "print(f'I like {items[2]} and {items[4]}')"
   ]
  },
  {
   "cell_type": "code",
   "execution_count": 5,
   "metadata": {},
   "outputs": [
    {
     "name": "stdout",
     "output_type": "stream",
     "text": [
      "そのゲームは面白いので100回はやりました。\n"
     ]
    }
   ],
   "source": [
    "#Exercise17\n",
    "1var = 100\n",
    "var2 = 'そのゲームは面白いので'+1var+'回はやりました。'\n",
    "print(var2)"
   ]
  },
  {
   "cell_type": "code",
   "execution_count": 13,
   "metadata": {},
   "outputs": [
    {
     "name": "stdout",
     "output_type": "stream",
     "text": [
      "この文章は10行あります。\n"
     ]
    }
   ],
   "source": [
    "#Exercise18\n",
    "novel = '''雨ニモマケズ\n",
    "風ニモマケズ\n",
    "雪ニモ夏ノ暑サニモマケヌ\n",
    "丈夫ナカラダヲモチ\n",
    "慾ハナク\n",
    "決シテ瞋ラズ\n",
    "イツモシヅカニワラッテヰル\n",
    "(中略)\n",
    "サウイフモノニ\n",
    "ワタシハナリタイ'''\n",
    "print('この文章は'+str(novel.count(\"\\n\")+1)+'行あります。')"
   ]
  },
  {
   "cell_type": "code",
   "execution_count": 16,
   "metadata": {},
   "outputs": [
    {
     "name": "stdout",
     "output_type": "stream",
     "text": [
      "500円玉は1枚\n",
      "100円玉は1枚\n",
      "50円玉は1枚\n",
      "10円玉は4枚\n",
      "5円玉は0枚\n",
      "1円玉は2枚\n"
     ]
    }
   ],
   "source": [
    "#Exercise19\n",
    "turi = 1000 - 308\n",
    "print(f'500円玉は{int(turi/500)}枚')\n",
    "turi = turi % 500\n",
    "print(f'100円玉は{int(turi/100)}枚')\n",
    "turi = turi % 100\n",
    "print(f'50円玉は{int(turi/50)}枚')\n",
    "turi = turi % 50\n",
    "print(f'10円玉は{int(turi/10)}枚')\n",
    "turi = turi % 10\n",
    "print(f'5円玉は{int(turi/5)}枚')\n",
    "print(f'1円玉は{int(turi%5)}枚')"
   ]
  },
  {
   "cell_type": "code",
   "execution_count": 17,
   "metadata": {},
   "outputs": [
    {
     "name": "stdout",
     "output_type": "stream",
     "text": [
      "This Is A Pen.\n"
     ]
    }
   ],
   "source": [
    "#Exercise20\n",
    "str1 = input('半角英字入力 >>')\n",
    "print(str1.title())"
   ]
  },
  {
   "cell_type": "code",
   "execution_count": 1,
   "metadata": {},
   "outputs": [
    {
     "name": "stdout",
     "output_type": "stream",
     "text": [
      "xyc abz\n"
     ]
    }
   ],
   "source": [
    "#Exercise21\n",
    "w1 = \"abc\"\n",
    "w2 = \"xyz\"\n",
    "new_w1 = w2[:2] + w1[2:]\n",
    "new_w2 = w1[:2] + w2[2:]\n",
    "print(new_w1 + ' ' + new_w2)"
   ]
  },
  {
   "cell_type": "code",
   "execution_count": 2,
   "metadata": {},
   "outputs": [
    {
     "name": "stdout",
     "output_type": "stream",
     "text": [
      "onononon\n"
     ]
    }
   ],
   "source": [
    "#Exercise22\n",
    "word = input('文字列入力 >>')\n",
    "print(word[-2:] * 4)"
   ]
  },
  {
   "cell_type": "code",
   "execution_count": 5,
   "metadata": {},
   "outputs": [
    {
     "name": "stdout",
     "output_type": "stream",
     "text": [
      "\"hogehogehogehogehogehogehoge\"にある\"o\"の数は、7個\n"
     ]
    }
   ],
   "source": [
    "#Exercise23\n",
    "w1 = input('文字列入力 >>')\n",
    "w2 = input('数える文字列 >>')\n",
    "num = w1.count(w2)\n",
    "print(f'\"{w1}\"にある\"{w2}\"の数は、{num}個')"
   ]
  },
  {
   "cell_type": "code",
   "execution_count": 6,
   "metadata": {},
   "outputs": [
    {
     "name": "stdout",
     "output_type": "stream",
     "text": [
      "ABCDEfghijkl\n"
     ]
    }
   ],
   "source": [
    "#Exercise24\n",
    "word = input('英字入力 >>')\n",
    "num = int(input('文字数入力 >>'))\n",
    "print(word[:num].upper() + word[num:])"
   ]
  },
  {
   "cell_type": "code",
   "execution_count": 7,
   "metadata": {},
   "outputs": [
    {
     "name": "stdout",
     "output_type": "stream",
     "text": [
      "2時4分\n"
     ]
    }
   ],
   "source": [
    "#Exercise25\n",
    "H = int(input('何時？'))\n",
    "M = int(input('何分？'))\n",
    "M += 5\n",
    "H += M // 60\n",
    "print(f'{H%24}時{M%60}分')\n",
    "#print(f'{H%24:02d}時{M%60:02d}分')"
   ]
  },
  {
   "cell_type": "code",
   "execution_count": 4,
   "metadata": {},
   "outputs": [
    {
     "name": "stdout",
     "output_type": "stream",
     "text": [
      "vwxyz\n",
      "klmnopq\n",
      "agmsy\n",
      "tuvw\n",
      "zyxwvutsrqponmlkjihgfedcba\n"
     ]
    }
   ],
   "source": [
    "#Exercise26\n",
    "letters = 'abcdefghijklmnopqrstuvwxyz'\n",
    "print(letters[-5:]) #最後の5文字\n",
    "print(letters[10:-9]) #オフセット10から末尾より10文字まで\n",
    "print(letters[::6]) #先頭から6文字ごと\n",
    "print(letters[-7:-3]) #末尾の7文字手前から末尾の4文字手前まで\n",
    "print(letters[::-1]) #逆順となる"
   ]
  },
  {
   "cell_type": "code",
   "execution_count": 7,
   "metadata": {},
   "outputs": [
    {
     "name": "stdout",
     "output_type": "stream",
     "text": [
      "体温は36.2です。\n",
      "体温は36.2です。\n",
      "体温は36.35です。\n",
      "体温は36.35です。\n",
      "体温は36です。\n",
      "体温は36です。\n",
      "体温は36です。\n"
     ]
    }
   ],
   "source": [
    "#Exercise27\n",
    "a = 36.24\n",
    "b = 36.354\n",
    "print('体温は{:.1f}です。'.format(a))\n",
    "print(f'体温は{a:.1f}です。')\n",
    "print('体温は{:.2f}です。'.format(b))\n",
    "print(f'体温は{b:.2f}です。')\n",
    "print('体温は{:.0f}です。'.format(a))\n",
    "print(f'体温は{a:.0f}です。')\n",
    "print(f'体温は{int(a)}です。')"
   ]
  },
  {
   "cell_type": "code",
   "execution_count": 1,
   "metadata": {},
   "outputs": [
    {
     "name": "stdout",
     "output_type": "stream",
     "text": [
      "「aaaaddddadadaadd」内の\"a\"は8個で、割合は50%です\n"
     ]
    }
   ],
   "source": [
    "#Exercise28\n",
    "word = input('入力 >>')\n",
    "ch = input('検索文字 >>')\n",
    "cnt = word.count(ch)\n",
    "length = len(word)\n",
    "rate = int(cnt/length*100)\n",
    "print(f'「{word}」内の\"{ch}\"は{cnt}個で、割合は{rate}%です')"
   ]
  },
  {
   "cell_type": "code",
   "execution_count": 8,
   "metadata": {},
   "outputs": [
    {
     "name": "stdout",
     "output_type": "stream",
     "text": [
      "体重は60kgで身長が170cmのBMIは20.761245674740486です。\n",
      "身長が170cmの適正体重は63.57999999999999kgです。\n"
     ]
    }
   ],
   "source": [
    "#Exercise29\n",
    "weight = int(input('体重は？'))\n",
    "tall = int(input('身長は？'))\n",
    "bmi = weight/((tall/100)**2)\n",
    "jst = ((tall/100)**2)*22\n",
    "print(f'体重は{weight}kgで身長が{tall}cmのBMIは{bmi}です。')\n",
    "print(f'身長が{tall}cmの適正体重は{jst}kgです。')"
   ]
  },
  {
   "cell_type": "code",
   "execution_count": 3,
   "metadata": {},
   "outputs": [
    {
     "name": "stdout",
     "output_type": "stream",
     "text": [
      "2人目の人が勝ちです\n"
     ]
    }
   ],
   "source": [
    "#Exercise30\n",
    "S = int(input('石の数 >>'))\n",
    "P = int(input('人数 >>'))\n",
    "print(f'{(S-1)%P+1}人目の人が勝ちです')"
   ]
  },
  {
   "cell_type": "code",
   "execution_count": 20,
   "metadata": {},
   "outputs": [
    {
     "name": "stdout",
     "output_type": "stream",
     "text": [
      "歩幅3cmで10cmの距離を歩くには、4歩必要です\n"
     ]
    }
   ],
   "source": [
    "#Exercise31\n",
    "h = int(input('歩幅 >>'))\n",
    "k = int(input('距離 >>'))\n",
    "print(f'歩幅{h}cmで{k}cmの距離を歩くには、{(k+h-1)//h}歩必要です')"
   ]
  },
  {
   "cell_type": "code",
   "execution_count": 1,
   "metadata": {},
   "outputs": [
    {
     "name": "stdout",
     "output_type": "stream",
     "text": [
      "必要回数：4\n"
     ]
    }
   ],
   "source": [
    "#Exercise32\n",
    "D = int(input('巣穴の距離 >>'))\n",
    "L = int(input('大ジャンプの距離 >>'))\n",
    "print(f'必要回数：{D // L + D % L}')"
   ]
  },
  {
   "cell_type": "code",
   "execution_count": 9,
   "metadata": {},
   "outputs": [
    {
     "name": "stdout",
     "output_type": "stream",
     "text": [
      "90\n"
     ]
    }
   ],
   "source": [
    "#Exercise33\n",
    "L = int(input('2人の距離 >>'))\n",
    "K = int(input('1歩の長さ >>'))\n",
    "hosuu = (L-1) // (K*2)\n",
    "print(hosuu * K)"
   ]
  },
  {
   "cell_type": "code",
   "execution_count": 10,
   "metadata": {},
   "outputs": [
    {
     "name": "stdout",
     "output_type": "stream",
     "text": [
      "お年玉は3000円\n"
     ]
    }
   ],
   "source": [
    "#Exercise34\n",
    "N = int(input('予算は？'))\n",
    "M = int(input('人数は？'))\n",
    "print(f'お年玉は{(N // (M*1000)) * 1000}円')"
   ]
  },
  {
   "cell_type": "code",
   "execution_count": 15,
   "metadata": {},
   "outputs": [
    {
     "name": "stdout",
     "output_type": "stream",
     "text": [
      "紫色のボールは3個\n",
      "紫色のボールは3個\n"
     ]
    }
   ],
   "source": [
    "#Exercise35\n",
    "r = int(input('赤色 >>'))\n",
    "b = int(input('青色 >>'))\n",
    "w = int(input('白色 >>'))\n",
    "\n",
    "t1 = abs(r-b)\n",
    "t2 = (w-t1)//2\n",
    "t3 = max(r,b)\n",
    "print(f'紫色のボールは{t2+t3}個')\n",
    "#print(f'紫色のボールは{min((r+b+w)//2,r+w,b+w)}個')"
   ]
  }
 ],
 "metadata": {
  "kernelspec": {
   "display_name": "Python 3.9.2 64-bit ('3.9.2': pyenv)",
   "name": "python392jvsc74a57bd0e175e2d1a69ec44a53513b33867561d513a585d5b2228589977b3e28bb8f7a45"
  },
  "language_info": {
   "codemirror_mode": {
    "name": "ipython",
    "version": 3
   },
   "file_extension": ".py",
   "mimetype": "text/x-python",
   "name": "python",
   "nbconvert_exporter": "python",
   "pygments_lexer": "ipython3",
   "version": "3.9.2"
  }
 },
 "nbformat": 4,
 "nbformat_minor": 4
}