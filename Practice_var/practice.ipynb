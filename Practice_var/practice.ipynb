{
 "cells": [
  {
   "cell_type": "code",
   "execution_count": 7,
   "metadata": {},
   "outputs": [
    {
     "name": "stdout",
     "output_type": "stream",
     "text": [
      "私の名前は山田太郎です。\n",
      "年齢は30歳です。\n",
      "身長は172.3cmです。\n"
     ]
    }
   ],
   "source": [
    "#Q13\n",
    "name,age,height = '山田太郎',30,172.3\n",
    "print('私の名前は{}です。\\n年齢は{}歳です。\\n身長は{}cmです。'.format(name, age, height))"
   ]
  },
  {
   "cell_type": "code",
   "execution_count": 6,
   "metadata": {},
   "outputs": [
    {
     "name": "stdout",
     "output_type": "stream",
     "text": [
      "底辺30cm、高さ20cmの三角形の面積は300.0平方cmです。\n"
     ]
    }
   ],
   "source": [
    "#Q14\n",
    "bottom = int(input('底辺(cm) >>'))\n",
    "height = int(input('高さ(cm) >>'))\n",
    "print(f'底辺{bottom}cm、高さ{height}cmの三角形の面積は{bottom*height/2}平方cmです。')"
   ]
  },
  {
   "cell_type": "code",
   "execution_count": 5,
   "metadata": {},
   "outputs": [
    {
     "name": "stdout",
     "output_type": "stream",
     "text": [
      "abcdefg\n"
     ]
    }
   ],
   "source": [
    "#Q15\n",
    "letters = 'aaabbbcccdddeeefffggg'\n",
    "print(letters[2::3])"
   ]
  },
  {
   "cell_type": "code",
   "execution_count": 4,
   "metadata": {},
   "outputs": [
    {
     "name": "stdout",
     "output_type": "stream",
     "text": [
      "I will be pythonista.\n"
     ]
    }
   ],
   "source": [
    "#Q16\n",
    "letters = '.atsinohtyp eb lliw I'\n",
    "print(letters[::-1])"
   ]
  },
  {
   "cell_type": "code",
   "execution_count": 9,
   "metadata": {},
   "outputs": [
    {
     "name": "stdout",
     "output_type": "stream",
     "text": [
      "カード番号：***6028\n"
     ]
    }
   ],
   "source": [
    "#Q17\n",
    "card = '4982-2975-6028'\n",
    "print('カード番号：***'+card[-4:])"
   ]
  },
  {
   "cell_type": "code",
   "execution_count": 1,
   "metadata": {},
   "outputs": [
    {
     "name": "stdout",
     "output_type": "stream",
     "text": [
      "7割る2は、3余り1です\n"
     ]
    }
   ],
   "source": [
    "#Q18\n",
    "a = int(input('左辺入力 >>'))\n",
    "b = int(input('右辺入力 >>'))\n",
    "print(f'{a}割る{b}は、{a//b}余り{a%b}です')"
   ]
  },
  {
   "cell_type": "code",
   "execution_count": 10,
   "metadata": {},
   "outputs": [
    {
     "name": "stdout",
     "output_type": "stream",
     "text": [
      "This Is A Pen\n"
     ]
    }
   ],
   "source": [
    "#Q19\n",
    "words = input('文字入力 >>')\n",
    "print(words.title())"
   ]
  },
  {
   "cell_type": "code",
   "execution_count": 11,
   "metadata": {},
   "outputs": [
    {
     "name": "stdout",
     "output_type": "stream",
     "text": [
      "abcdefg\n"
     ]
    }
   ],
   "source": [
    "#Q20\n",
    "words = input('文字入力 >>')\n",
    "print(words.replace(' ', ''))"
   ]
  }
 ],
 "metadata": {
  "kernelspec": {
   "display_name": "Python 3.8.5 64-bit ('anaconda3-2020.11': pyenv)",
   "name": "python385jvsc74a57bd0852551a099bcd4103935b167f0506d01d7ded54002d00169929d9de4d04cfb6a"
  },
  "language_info": {
   "codemirror_mode": {
    "name": "ipython",
    "version": 3
   },
   "file_extension": ".py",
   "mimetype": "text/x-python",
   "name": "python",
   "nbconvert_exporter": "python",
   "pygments_lexer": "ipython3",
   "version": "3.8.5"
  },
  "orig_nbformat": 2
 },
 "nbformat": 4,
 "nbformat_minor": 2
}