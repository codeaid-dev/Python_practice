{
 "cells": [
  {
   "cell_type": "code",
   "execution_count": 1,
   "metadata": {},
   "outputs": [
    {
     "name": "stdout",
     "output_type": "stream",
     "text": [
      "Beautiful is better than ugly.\n",
      "Explictit is better than implicit.\n",
      "Simple is better than complex.\n",
      "Complex is better than complicated.\n",
      "Flat is better than nested.\n",
      "Sparse is better than dense.\n"
     ]
    }
   ],
   "source": [
    "#Q1\n",
    "zen = '''Beautiful is better Than ugly.\n",
    "Explicit is better than implicit.\n",
    "Simple is better Than complex.\n",
    "Complex is better than complicated.\n",
    "Flat is better Than nested.\n",
    "Sparse is better Than dense.'''\n",
    "zen = zen.replace(' T', ' t')\n",
    "print(zen)"
   ]
  },
  {
   "cell_type": "code",
   "execution_count": 1,
   "metadata": {},
   "outputs": [
    {
     "name": "stdout",
     "output_type": "stream",
     "text": [
      "書名記号：932\n"
     ]
    }
   ],
   "source": [
    "#Q2\n",
    "isbn = 'ISBN978-4-87311-932-8'\n",
    "print(f'書名記号：{isbn[-5:-2]}')"
   ]
  },
  {
   "cell_type": "code",
   "execution_count": 2,
   "metadata": {},
   "outputs": [
    {
     "name": "stdout",
     "output_type": "stream",
     "text": [
      "tuvwxyz\n"
     ]
    }
   ],
   "source": [
    "#Q3\n",
    "letters = 'ttttuuuuvvvvwwwwxxxxyyyyzzzz'\n",
    "print(letters[3::4])"
   ]
  },
  {
   "cell_type": "code",
   "execution_count": 3,
   "metadata": {},
   "outputs": [
    {
     "name": "stdout",
     "output_type": "stream",
     "text": [
      "Hello, I'm Taro.\n"
     ]
    }
   ],
   "source": [
    "#Q4\n",
    "words = input('文字入力 >>')\n",
    "print(words.strip())"
   ]
  },
  {
   "cell_type": "code",
   "execution_count": 8,
   "metadata": {},
   "outputs": [
    {
     "name": "stdout",
     "output_type": "stream",
     "text": [
      "円の面積は452.2平方cmです\n",
      "円の面積は452.2平方cmです\n"
     ]
    }
   ],
   "source": [
    "#Q5\n",
    "radius = int(input('半径 >>'))\n",
    "area = radius**2*3.14\n",
    "print(f'円の面積は{area:.1f}平方cmです')\n",
    "#print('円の面積は{:.1f}平方cmです'.format(area))"
   ]
  },
  {
   "cell_type": "code",
   "execution_count": null,
   "metadata": {},
   "outputs": [],
   "source": [
    "#Q6\n",
    "n1 = int(input('入力 >>'))\n",
    "n2 = int(str(n1)[::-1])\n",
    "print(f'{n1}+{n2}={n1+n2}')"
   ]
  },
  {
   "cell_type": "code",
   "execution_count": 28,
   "metadata": {},
   "outputs": [
    {
     "name": "stdout",
     "output_type": "stream",
     "text": [
      "0009\n",
      "0099\n",
      "0999\n",
      "9999\n"
     ]
    }
   ],
   "source": [
    "#Q7\n",
    "num = 9\n",
    "print(f'000{num}')\n",
    "#print(f'{num:0>4}')\n",
    "#print(f'{num:04d}')\n",
    "print(f'00{str(num)*2}')\n",
    "#print(f'{str(num)*2:0>4}')\n",
    "#print(f'00{num}{num}')\n",
    "print(f'0{str(num)*3}')\n",
    "#print(f'{str(num)*3:0>4}')\n",
    "#print(f'0{num}{num}{num}')\n",
    "print(f'{str(num)*4}')\n",
    "#print(f'{num}{num}{num}{num}')\n"
   ]
  },
  {
   "cell_type": "code",
   "execution_count": 29,
   "metadata": {},
   "outputs": [
    {
     "name": "stdout",
     "output_type": "stream",
     "text": [
      "!!!!!attention!!!!!!\n"
     ]
    }
   ],
   "source": [
    "#Q8\n",
    "word = 'attention'\n",
    "print(f'{word:!^20}')"
   ]
  },
  {
   "cell_type": "code",
   "execution_count": null,
   "metadata": {},
   "outputs": [],
   "source": [
    "#Q7\n",
    "#1つずつ石を取って、最後に取るのは何人目かを出力\n",
    "S = int(input('石の数 >>'))\n",
    "P = int(input('人数 >>'))\n",
    "print(f'{(S-1)%P+1}人目の人が勝ちです')"
   ]
  },
  {
   "cell_type": "code",
   "execution_count": null,
   "metadata": {},
   "outputs": [],
   "source": [
    "#Q8\n",
    "#ゴールに到着する歩数を出力\n",
    "h = int(input('歩幅 >>'))\n",
    "k = int(input('距離 >>'))\n",
    "print(f'歩幅{h}cmで{k}cmの距離を歩くには、{(k+h-1)//h}歩必要です')\n",
    "import math\n",
    "print(f'歩幅{h}cmで{k}cmの距離を歩くには、{math.ceil(k/h)}歩必要です')"
   ]
  },
  {
   "cell_type": "code",
   "execution_count": null,
   "metadata": {},
   "outputs": [],
   "source": [
    "#Q9\n",
    "#向かい合ってぶるかるまで歩く距離を出力\n",
    "L = int(input('2人の距離 >>'))\n",
    "K = int(input('1歩の長さ >>'))\n",
    "hosuu = (L-1) // (K*2)\n",
    "print(hosuu * K)"
   ]
  },
  {
   "cell_type": "code",
   "execution_count": null,
   "metadata": {},
   "outputs": [],
   "source": [
    "#Q10\n",
    "#紫ボールの個数を出力\n",
    "r = int(input('赤色 >>'))\n",
    "b = int(input('青色 >>'))\n",
    "w = int(input('白色 >>'))\n",
    "\n",
    "t1 = abs(r-b)\n",
    "t2 = (w-t1)//2\n",
    "t3 = max(r,b)\n",
    "print(f'紫色のボールは{t2+t3}個')\n",
    "#print(f'紫色のボールは{min((r+b+w)//2,r+w,b+w)}個')"
   ]
  }
 ],
 "metadata": {
  "interpreter": {
   "hash": "aecfffebf68cef656bd08491b6a8d7a85c42907f9cff241c489b68f751e382bc"
  },
  "kernelspec": {
   "display_name": "Python 3.9.2 64-bit ('3.9.2': pyenv)",
   "language": "python",
   "name": "python3"
  },
  "language_info": {
   "codemirror_mode": {
    "name": "ipython",
    "version": 3
   },
   "file_extension": ".py",
   "mimetype": "text/x-python",
   "name": "python",
   "nbconvert_exporter": "python",
   "pygments_lexer": "ipython3",
   "version": "3.9.7"
  },
  "orig_nbformat": 2
 },
 "nbformat": 4,
 "nbformat_minor": 2
}
