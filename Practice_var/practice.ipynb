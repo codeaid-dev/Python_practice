{
 "cells": [
  {
   "cell_type": "code",
   "execution_count": null,
   "metadata": {},
   "outputs": [],
   "source": [
    "#Q1\n",
    "zen = '''Beautiful is better Than ugly.\n",
    "Explicit is better than implicit.\n",
    "Simple is better Than complex.\n",
    "Complex is better than complicated.\n",
    "Flat is better Than nested.\n",
    "Sparse is better Than dense.'''\n",
    "zen = zen.replace(' T', ' t')\n",
    "print(zen)"
   ]
  },
  {
   "cell_type": "code",
   "execution_count": null,
   "metadata": {},
   "outputs": [],
   "source": [
    "#Q2\n",
    "isbn = 'ISBN978-4-87311-932-8'\n",
    "print(f'書名記号：{isbn[-5:-2]}')"
   ]
  },
  {
   "cell_type": "code",
   "execution_count": null,
   "metadata": {},
   "outputs": [],
   "source": [
    "#Q3\n",
    "letters = 'ttttuuuuvvvvwwwwxxxxyyyyzzzz'\n",
    "print(letters[3::4])"
   ]
  },
  {
   "cell_type": "code",
   "execution_count": null,
   "metadata": {},
   "outputs": [],
   "source": [
    "#Q4\n",
    "alph = 'abcdefghijklmnopqrstuvwxyz'\n",
    "begin,end = input('入力 >>').split(',')\n",
    "print(alph[int(begin)-1:int(end)])"
   ]
  },
  {
   "cell_type": "code",
   "execution_count": null,
   "metadata": {},
   "outputs": [],
   "source": [
    "#Q5\n",
    "words = input('文字入力 >>')\n",
    "print(words.strip())"
   ]
  },
  {
   "cell_type": "code",
   "execution_count": null,
   "metadata": {},
   "outputs": [],
   "source": [
    "#Q6\n",
    "radius = int(input('半径 >>'))\n",
    "area = radius**2*3.14\n",
    "print(f'円の面積は{area:.1f}平方cmです')\n",
    "#print('円の面積は{:.1f}平方cmです'.format(area))"
   ]
  },
  {
   "cell_type": "code",
   "execution_count": null,
   "metadata": {},
   "outputs": [],
   "source": [
    "#Q7\n",
    "n1 = int(input('入力 >>'))\n",
    "n2 = int(str(n1)[::-1])\n",
    "print(f'{n1}+{n2}={n1+n2}')"
   ]
  },
  {
   "cell_type": "code",
   "execution_count": null,
   "metadata": {},
   "outputs": [],
   "source": [
    "#Q8\n",
    "num = 9\n",
    "print(f'000{num}')\n",
    "#print(f'{num:0>4}')\n",
    "#print(f'{num:04d}')\n",
    "print(f'00{str(num)*2}')\n",
    "#print(f'{str(num)*2:0>4}')\n",
    "#print(f'00{num}{num}')\n",
    "print(f'0{str(num)*3}')\n",
    "#print(f'{str(num)*3:0>4}')\n",
    "#print(f'0{num}{num}{num}')\n",
    "print(f'{str(num)*4}')\n",
    "#print(f'{num}{num}{num}{num}')\n"
   ]
  },
  {
   "cell_type": "code",
   "execution_count": null,
   "metadata": {},
   "outputs": [],
   "source": [
    "#Q9\n",
    "word = 'attention'\n",
    "print(f'{word:!^20}')"
   ]
  },
  {
   "cell_type": "code",
   "execution_count": null,
   "metadata": {},
   "outputs": [],
   "source": [
    "#Q10\n",
    "n = int(input('角数 >>'))\n",
    "print(f'{n}角形の内角の和は{(n-2)*180}度です')"
   ]
  },
  {
   "cell_type": "code",
   "execution_count": null,
   "metadata": {},
   "outputs": [],
   "source": [
    "#Q11\n",
    "a = int(input('角数 >>'))\n",
    "print(f'{int(360/a)}度に{a}回曲がる')"
   ]
  },
  {
   "cell_type": "code",
   "execution_count": null,
   "metadata": {},
   "outputs": [],
   "source": [
    "#Q12\n",
    "#1つずつ石を取って、最後に取るのは何人目かを出力\n",
    "S = int(input('石の数 >>'))\n",
    "P = int(input('人数 >>'))\n",
    "print(f'{(S-1)%P+1}人目の人が勝ちです')"
   ]
  },
  {
   "cell_type": "code",
   "execution_count": null,
   "metadata": {},
   "outputs": [],
   "source": [
    "#Q13\n",
    "#ゴールに到着する歩数を出力\n",
    "h = int(input('歩幅 >>'))\n",
    "k = int(input('距離 >>'))\n",
    "print(f'歩幅{h}cmで{k}cmの距離を歩くには、{(k+h-1)//h}歩必要です')\n",
    "\n",
    "import math\n",
    "print(f'歩幅{h}cmで{k}cmの距離を歩くには、{math.ceil(k/h)}歩必要です')"
   ]
  },
  {
   "cell_type": "code",
   "execution_count": null,
   "metadata": {},
   "outputs": [],
   "source": [
    "#Q14\n",
    "#向かい合ってぶつかるまで歩く距離を出力\n",
    "L = int(input('2人の距離 >>'))\n",
    "K = int(input('1歩の長さ >>'))\n",
    "hosuu = (L-1) // (K*2)\n",
    "print(hosuu * K)"
   ]
  },
  {
   "cell_type": "code",
   "execution_count": null,
   "metadata": {},
   "outputs": [],
   "source": [
    "#Q15\n",
    "#紫ボールの個数を出力\n",
    "r = int(input('赤色 >>'))\n",
    "b = int(input('青色 >>'))\n",
    "w = int(input('白色 >>'))\n",
    "\n",
    "t1 = abs(r-b)\n",
    "t2 = (w-t1)//2\n",
    "t3 = max(r,b)\n",
    "print(f'紫色のボールは{t2+t3}個')\n",
    "#print(f'紫色のボールは{min((r+b+w)//2,r+w,b+w)}個')"
   ]
  }
 ],
 "metadata": {
  "kernelspec": {
   "display_name": "Python 3.10.3 64-bit ('3.10.3')",
   "language": "python",
   "name": "python3"
  },
  "language_info": {
   "codemirror_mode": {
    "name": "ipython",
    "version": 3
   },
   "file_extension": ".py",
   "mimetype": "text/x-python",
   "name": "python",
   "nbconvert_exporter": "python",
   "pygments_lexer": "ipython3",
   "version": "3.10.3 (main, May  5 2022, 21:38:01) [Clang 13.1.6 (clang-1316.0.21.2.3)]"
  },
  "orig_nbformat": 2,
  "vscode": {
   "interpreter": {
    "hash": "ab64589ac9d6bd956e857448da5e411ff91b136249a71239f0da316d67e65b64"
   }
  }
 },
 "nbformat": 4,
 "nbformat_minor": 2
}
