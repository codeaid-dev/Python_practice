{
 "cells": [
  {
   "cell_type": "code",
   "execution_count": null,
   "metadata": {},
   "outputs": [],
   "source": [
    "#リストの複製\n",
    "nums = [1,2,3,4,5]\n",
    "#dup = nums\n",
    "#dup = nums.copy()\n",
    "#dup = nums[:]\n",
    "dup = list(nums)\n",
    "dup[0],dup[1],dup[2] = 'a','b','c'\n",
    "print(nums)\n",
    "print(dup)"
   ]
  },
  {
   "cell_type": "code",
   "execution_count": null,
   "metadata": {},
   "outputs": [],
   "source": [
    "#ディクショナリーの複製\n",
    "nums = {'one':1,'two':2,'three':3}\n",
    "#dup = nums\n",
    "#dup = nums.copy()\n",
    "dup = dict(nums)\n",
    "dup['one'],dup['two'],dup['three'] = 'a','b','c'\n",
    "print(nums)\n",
    "print(dup)"
   ]
  },
  {
   "cell_type": "code",
   "execution_count": 13,
   "metadata": {},
   "outputs": [
    {
     "name": "stdout",
     "output_type": "stream",
     "text": [
      "54321\n"
     ]
    }
   ],
   "source": [
    "#文字列のシフト\n",
    "string = input('入力>>')\n",
    "shift = int(input('シフト数>>'))\n",
    "if len(string) < shift:\n",
    "    print(string[::-1])\n",
    "else:\n",
    "    print(string[shift:]+string[:shift])\n"
   ]
  },
  {
   "cell_type": "code",
   "execution_count": null,
   "metadata": {},
   "outputs": [],
   "source": [
    "#偶数の山と奇数の山\n",
    "num = int(input('入力>>'))\n",
    "result = [num+2*i for i in range(num)]\n",
    "print(result)"
   ]
  },
  {
   "cell_type": "code",
   "execution_count": null,
   "metadata": {},
   "outputs": [],
   "source": [
    "#入力した文字の長さ\n",
    "strings = list(input('入力>>').split(','))\n",
    "print(strings)\n",
    "nums = [len(s) for s in strings]\n",
    "print(nums)"
   ]
  },
  {
   "cell_type": "code",
   "execution_count": null,
   "metadata": {},
   "outputs": [],
   "source": [
    "#整数の各桁を積算\n",
    "num = input('入力>>')\n",
    "result=1\n",
    "for n in num:\n",
    "    if int(n) % 2 == 1:\n",
    "        result *= int(n)\n",
    "print(result)"
   ]
  },
  {
   "cell_type": "code",
   "execution_count": null,
   "metadata": {},
   "outputs": [],
   "source": [
    "#数値の並びが回文になるもの\n",
    "n = int(input('入力>>'))\n",
    "result = []\n",
    "for i in range(0,n+1,2):\n",
    "    if str(i) == str(i)[::-1]:\n",
    "        result.append(i)\n",
    "print(result)"
   ]
  },
  {
   "cell_type": "code",
   "execution_count": null,
   "metadata": {},
   "outputs": [],
   "source": [
    "#整数の各桁の最大値\n",
    "nums = list(map(int, input('入力>>')))\n",
    "while True:\n",
    "    rank = int(input('上位の数>>'))\n",
    "    if rank <= len(nums):\n",
    "        break\n",
    "nums.sort(reverse=True)\n",
    "nums = nums[:rank]\n",
    "print(nums)\n",
    "print(f'上位の数：{rank}')"
   ]
  },
  {
   "cell_type": "code",
   "execution_count": null,
   "metadata": {},
   "outputs": [],
   "source": [
    "#数字の文字列を並べる\n",
    "nums = ['one','two','three','four','five','six','seven','enght','nine']\n",
    "strs = list(input('入力>>').split(','))\n",
    "result = []\n",
    "for n in nums:\n",
    "    if n in strs:\n",
    "        for i in range(strs.count(n)):\n",
    "            result.append(n)\n",
    "print(','.join(result))"
   ]
  },
  {
   "cell_type": "code",
   "execution_count": null,
   "metadata": {},
   "outputs": [],
   "source": [
    "#文字の種類が最も多い文字列\n",
    "strings = list(input('入力>>').split(','))\n",
    "maximum=len(set(strings[0].upper()))\n",
    "result=strings[0]\n",
    "for s in strings:\n",
    "    if maximum < len(set(s.upper())):\n",
    "        maximum = len(set(s.upper()))\n",
    "        result = s\n",
    "print(result)\n",
    "#別解\n",
    "res = max(strings, key=lambda x: len(set(x.upper())))\n",
    "print(res)"
   ]
  },
  {
   "cell_type": "code",
   "execution_count": null,
   "metadata": {},
   "outputs": [],
   "source": [
    "#母音の場所\n",
    "string = input('入力>>')\n",
    "vowels = 'AEIOU'\n",
    "result = []\n",
    "for i in range(len(string)):\n",
    "    if i%2==0 and string[i] in vowels:\n",
    "        result.append(i)\n",
    "print(result)"
   ]
  },
  {
   "cell_type": "code",
   "execution_count": null,
   "metadata": {},
   "outputs": [],
   "source": [
    "#ファイル種別を判定\n",
    "exts = ['jpg','jpeg','png','webp','gif','tiff','svg']\n",
    "files = ['abc.txt','windows.dll','tiger.png','rose.jpg','test.py','win32.exe','Sample.java','panda.webp','monkey.gif','packman.svg']\n",
    "result = []\n",
    "for f in files:\n",
    "    if f.split('.')[1] in exts:\n",
    "        result.append('Yes')\n",
    "    else:\n",
    "        result.append('No')\n",
    "print(result)"
   ]
  },
  {
   "cell_type": "code",
   "execution_count": null,
   "metadata": {},
   "outputs": [],
   "source": [
    "#偶数の中央の値\n",
    "import random\n",
    "m = random.randint(0,20)\n",
    "n = random.randint(30,50)\n",
    "result = []\n",
    "for i in range(m,n+1):\n",
    "    if i%2 == 0:\n",
    "        result.append(i)\n",
    "print(result)\n",
    "print(f'中央の値の偶数は、{result[len(result)//2]}')"
   ]
  },
  {
   "cell_type": "code",
   "execution_count": null,
   "metadata": {},
   "outputs": [],
   "source": [
    "#重複を取り除いたリスト\n",
    "import random\n",
    "nums = [random.randint(1,20) for i in range(7)]\n",
    "print(nums)\n",
    "result = []\n",
    "for n in nums:\n",
    "    if not n in result:\n",
    "        result.append(n)\n",
    "print(result)\n",
    "\n",
    "print(set(nums))\n",
    "\n",
    "print(list(dict.fromkeys(nums)))"
   ]
  },
  {
   "cell_type": "code",
   "execution_count": null,
   "metadata": {},
   "outputs": [],
   "source": [
    "#3桁の合計\n",
    "import random\n",
    "nums = [random.randint(1,200) for i in range(10)]\n",
    "total=0\n",
    "for n in nums:\n",
    "    if len(str(n)) > 2:\n",
    "        total += n\n",
    "print(nums)\n",
    "print(f'total: {total}')"
   ]
  },
  {
   "cell_type": "code",
   "execution_count": null,
   "metadata": {},
   "outputs": [],
   "source": [
    "#最初と最後の桁が奇数の整数\n",
    "import random\n",
    "nums = [random.randint(10,200) for i in range(7)]\n",
    "print(nums)\n",
    "result = []\n",
    "for n in nums:\n",
    "    if (n%10)%2 == 1 and int(str(n)[0])%2 == 1:\n",
    "        result.append(n)\n",
    "print(result)"
   ]
  },
  {
   "cell_type": "code",
   "execution_count": null,
   "metadata": {},
   "outputs": [],
   "source": [
    "#1の位を積算\n",
    "import random\n",
    "nums = [random.randint(1,200) for i in range(5)]\n",
    "total = 1\n",
    "result=[]\n",
    "for n in nums:\n",
    "    if n%10 != 0:\n",
    "        total *= n%10\n",
    "        result.append(str(n%10))\n",
    "\n",
    "print(nums)\n",
    "result = 'x'.join(result)\n",
    "print(result+'='+str(total))"
   ]
  },
  {
   "cell_type": "code",
   "execution_count": null,
   "metadata": {},
   "outputs": [],
   "source": [
    "#同じ数が最も多いのはどれ？\n",
    "import random\n",
    "nums = [random.randint(1,5) for i in range(10)]\n",
    "print(nums)\n",
    "maxnum, maxele=0, 0\n",
    "for n in nums:\n",
    "    if nums.count(n) > maxnum:\n",
    "        maxele = n\n",
    "        maxnum = nums.count(n)\n",
    "print(f'同じ数がもっとも多いのは：{maxele}の{maxnum}個')"
   ]
  },
  {
   "cell_type": "code",
   "execution_count": null,
   "metadata": {},
   "outputs": [],
   "source": [
    "#平仮名の母音を数える\n",
    "a = 'あぁかがさざただなはばぱまやゃらわゎ'\n",
    "i = 'いぃきぎしじちぢにひびぴみり'\n",
    "u = 'うぅくぐすずつづぬふぶぷむゆゅる'\n",
    "e = 'えぇけげせぜてでねへべぺめれ'\n",
    "o = 'おぉこごそぞとどのほぼぽもよょろを'\n",
    "y = 'ゃゅょゎぁぃぅぇぉ'\n",
    "cnt = [0]*5\n",
    "strings = input('入力>>')\n",
    "for n,s in enumerate(strings):\n",
    "    if n < len(strings)-1 and strings[n+1] in y:\n",
    "        continue\n",
    "    if s in a:\n",
    "        cnt[0] += 1\n",
    "    elif s in i:\n",
    "        cnt[1] +=1\n",
    "    elif s in u:\n",
    "        cnt[2] +=1\n",
    "    elif s in e:\n",
    "        cnt[3] +=1\n",
    "    elif s in o:\n",
    "        cnt[4] +=1\n",
    "print(f'あ段：{cnt[0]}個、い段：{cnt[1]}個、う段：{cnt[2]}個、え段：{cnt[3]}個、お段：{cnt[4]}個')"
   ]
  },
  {
   "cell_type": "code",
   "execution_count": null,
   "metadata": {},
   "outputs": [],
   "source": [
    "#最も近い数値はどれ？\n",
    "nums = list(map(float, input('入力>>').split(',')))\n",
    "closest_id = None\n",
    "closest_num = None\n",
    "for i in range(len(nums)):\n",
    "    for j in range(len(nums)):\n",
    "        if i != j:\n",
    "            if closest_num is None or abs(nums[i]-nums[j]) < closest_num:\n",
    "                closest_num = abs(nums[i]-nums[j])\n",
    "                closest_id = [i, j]\n",
    "print(nums)\n",
    "print(closest_id)"
   ]
  },
  {
   "cell_type": "code",
   "execution_count": null,
   "metadata": {},
   "outputs": [],
   "source": [
    "#最大と最小\n",
    "def chint(s):\n",
    "    try:\n",
    "        re = int(s)\n",
    "    except ValueError:\n",
    "        return False\n",
    "    return re\n",
    "def chfloat(s):\n",
    "    try:\n",
    "        re = float(s)\n",
    "    except ValueError:\n",
    "        return False\n",
    "    return re\n",
    "nums = list(input('入力>>').split(','))\n",
    "for i in range(len(nums)):\n",
    "    r = chint(nums[i])\n",
    "    if r:\n",
    "        nums[i] = r\n",
    "    else:\n",
    "        r = chfloat(nums[i])\n",
    "        if r:\n",
    "            nums[i] = r\n",
    "maximum,minimum=nums[0],nums[0]\n",
    "for n in nums:\n",
    "    if maximum <= n:\n",
    "        maximum = n\n",
    "    elif minimum >= n:\n",
    "        minimum = n\n",
    "print(maximum)\n",
    "print(minimum)"
   ]
  },
  {
   "cell_type": "code",
   "execution_count": null,
   "metadata": {},
   "outputs": [],
   "source": [
    "#増加しているのか減少しているのか\n",
    "nums = list(map(int, input('入力>>').split(',')))\n",
    "flag = None\n",
    "for i in range(len(nums)-1):\n",
    "    if nums[i] < nums[i+1] and (flag == None or flag == 1):\n",
    "        flag = 1\n",
    "    elif nums[i] > nums[i+1] and (flag == None or flag == 2):\n",
    "        flag = 2\n",
    "    else:\n",
    "        flag = 0\n",
    "if flag == 1:\n",
    "    print('増加している')\n",
    "elif flag == 2:\n",
    "    print('減少している')\n",
    "else:\n",
    "    print('どちらでもない')\n",
    "\n",
    "#別解\n",
    "if all(nums[i] < nums[i+1] for i in range(len(nums)-1)):\n",
    "    print('増加している')\n",
    "elif all(nums[i] > nums[i+1] for i in range(len(nums)-1)):\n",
    "    print('減少している')\n",
    "else:\n",
    "    print('どちらでもない')"
   ]
  },
  {
   "cell_type": "code",
   "execution_count": null,
   "metadata": {},
   "outputs": [],
   "source": [
    "#顔文字を描く\n",
    "result = ''\n",
    "for row in range(6):\n",
    "    for col in range(15):\n",
    "        if row in (0,6) and col in (2,12):\n",
    "            result += '*'\n",
    "        elif row == 1 and col in (1,13):\n",
    "            result += '*'\n",
    "        elif row == 2 and col in (0,3,4,5,9,10,11,14):\n",
    "            result += '*'\n",
    "        elif row == 3 and col in (0,14):\n",
    "            result += '*'\n",
    "        elif row == 4 and col in (1,5,6,7,8,9,13):\n",
    "            result += '*'\n",
    "        elif row == 5 and col in (2,12):\n",
    "            result += '*'\n",
    "        else:\n",
    "            result += ' '\n",
    "    result += '\\n'\n",
    "print(result)"
   ]
  },
  {
   "cell_type": "code",
   "execution_count": null,
   "metadata": {},
   "outputs": [],
   "source": [
    "#カッコの範囲\n",
    "while True:\n",
    "    kakko = input('入力>>')\n",
    "    kakko = kakko.replace(' ','')\n",
    "    cnt=0\n",
    "    for s in kakko:\n",
    "        if s == '(':\n",
    "            cnt += 1\n",
    "        elif s == ')':\n",
    "            cnt -= 1\n",
    "        if cnt < 0:\n",
    "            break\n",
    "    else:\n",
    "        if (kakko.count('(')==kakko.count(')')) and (len(kakko)==kakko.count('(')+kakko.count(')')):\n",
    "            break\n",
    "result = ''\n",
    "for s in kakko:\n",
    "    result += s\n",
    "    if result.count('(') == result.count(')'):\n",
    "        print(result)\n",
    "        result = ''\n"
   ]
  }
 ],
 "metadata": {
  "kernelspec": {
   "display_name": "Python 3.10.3 64-bit ('3.10.3')",
   "language": "python",
   "name": "python3"
  },
  "language_info": {
   "codemirror_mode": {
    "name": "ipython",
    "version": 3
   },
   "file_extension": ".py",
   "mimetype": "text/x-python",
   "name": "python",
   "nbconvert_exporter": "python",
   "pygments_lexer": "ipython3",
   "version": "3.10.3"
  },
  "orig_nbformat": 4,
  "vscode": {
   "interpreter": {
    "hash": "ab64589ac9d6bd956e857448da5e411ff91b136249a71239f0da316d67e65b64"
   }
  }
 },
 "nbformat": 4,
 "nbformat_minor": 2
}
