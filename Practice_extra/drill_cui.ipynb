{
 "cells": [
  {
   "cell_type": "code",
   "execution_count": null,
   "metadata": {},
   "outputs": [],
   "source": [
    "#1.部分文字列を抜き出す①\n",
    "isbn = 'ISBN978-4-87311-932-8'\n",
    "print(f'書名記号：{isbn[-5:-2]}')"
   ]
  },
  {
   "cell_type": "code",
   "execution_count": null,
   "metadata": {},
   "outputs": [],
   "source": [
    "#2.部分文字列を抜き出す②\n",
    "letters = 'ttttuuuuvvvvwwwwxxxxyyyyzzzz'\n",
    "print(letters[3::4])"
   ]
  },
  {
   "cell_type": "code",
   "execution_count": null,
   "metadata": {},
   "outputs": [],
   "source": [
    "#3.部分文字列を抜き出す③\n",
    "alph = 'abcdefghijklmnopqrstuvwxyz'\n",
    "begin,end = input('入力 >>').split(',')\n",
    "print(alph[int(begin)-1:int(begin)-1+int(end)])"
   ]
  },
  {
   "cell_type": "code",
   "execution_count": null,
   "metadata": {},
   "outputs": [],
   "source": [
    "#4.数値と文字列の操作①\n",
    "n1 = int(input('入力 >>'))\n",
    "n2 = int(str(n1)[::-1])\n",
    "print(f'{n1}+{n2}={n1+n2}')"
   ]
  },
  {
   "cell_type": "code",
   "execution_count": null,
   "metadata": {},
   "outputs": [],
   "source": [
    "#5.数値と文字列の操作②\n",
    "num = 9\n",
    "print(f'000{num}')\n",
    "#print(f'{num:0>4}')\n",
    "#print(f'{num:04d}')\n",
    "print(f'00{str(num)*2}')\n",
    "#print(f'{str(num)*2:0>4}')\n",
    "#print(f'00{num}{num}')\n",
    "print(f'0{str(num)*3}')\n",
    "#print(f'{str(num)*3:0>4}')\n",
    "#print(f'0{num}{num}{num}')\n",
    "print(f'{str(num)*4}')\n",
    "#print(f'{num}{num}{num}{num}')"
   ]
  },
  {
   "cell_type": "code",
   "execution_count": null,
   "metadata": {},
   "outputs": [],
   "source": [
    "#6.数値と文字列の操作③\n",
    "word = 'attention'\n",
    "print(f'{word:!^20}')"
   ]
  },
  {
   "cell_type": "code",
   "execution_count": null,
   "metadata": {},
   "outputs": [],
   "source": [
    "#7.内角の和\n",
    "n = int(input('角数 >>'))\n",
    "print(f'{n}角形の内角の和は{(n-2)*180}度です')"
   ]
  },
  {
   "cell_type": "code",
   "execution_count": null,
   "metadata": {},
   "outputs": [],
   "source": [
    "#8.曲がる角度\n",
    "a = int(input('角数 >>'))\n",
    "print(f'{int(360/a)}度に{a}回曲がる')"
   ]
  },
  {
   "cell_type": "code",
   "execution_count": null,
   "metadata": {},
   "outputs": [],
   "source": [
    "#9.HTMLタグの取得\n",
    "import re\n",
    "html = '''\n",
    "<body>\n",
    "  <h1>二段階認証</h1>\n",
    "  <p>認証アプリに表示されている認証コードを入力してください</p>\n",
    "  <form action=\"sample.html\" method=\"POST\">\n",
    "    <p><label>認証コード：<input type=\"text\"></label></p>\n",
    "    <p><button type=\"submit\">認証</button></p>\n",
    "  </form>\n",
    "  <p><a href=\"support.html\">認証コードが取得できない場合</a></p>\n",
    "</body>\n",
    "'''\n",
    "print(re.findall('<.+?>',html))"
   ]
  },
  {
   "cell_type": "code",
   "execution_count": null,
   "metadata": {},
   "outputs": [],
   "source": [
    "#10.10文字表示せよ\n",
    "words = \"\"\n",
    "while len(words) < 10:\n",
    "    words += input('半角英数字入力 >>')\n",
    "words = words[:10]\n",
    "print(words)"
   ]
  },
  {
   "cell_type": "code",
   "execution_count": null,
   "metadata": {},
   "outputs": [],
   "source": [
    "#11.郵便番号をチェック\n",
    "import re\n",
    "ch = input('入力>>')\n",
    "res = re.search('[0-9]{3}-[0-9]{4}',ch)\n",
    "if res:\n",
    "    print('郵便番号です')\n",
    "else:\n",
    "    print('郵便番号ではないです')"
   ]
  },
  {
   "cell_type": "code",
   "execution_count": null,
   "metadata": {},
   "outputs": [],
   "source": [
    "#12.AとBを並び替える\n",
    "w = input('入力 >>')\n",
    "a,b = \"\",\"\"\n",
    "for i in range(len(w)):\n",
    "    if w[i] == 'A':\n",
    "        a += w[i]\n",
    "    elif w[i] == 'B':\n",
    "        b += w[i]\n",
    "print(f'結果表示： {a}{b}')"
   ]
  },
  {
   "cell_type": "code",
   "execution_count": null,
   "metadata": {},
   "outputs": [],
   "source": [
    "#13.それぞれの合計\n",
    "cnt = 0\n",
    "for i in range(1,31):\n",
    "    cnt += i\n",
    "    if i == 10 or i == 20 or i == 30:\n",
    "        print(f'{i-9}から{i}の合計：{cnt}')\n",
    "        cnt = 0"
   ]
  },
  {
   "cell_type": "code",
   "execution_count": null,
   "metadata": {},
   "outputs": [],
   "source": [
    "#14.タプルから辞書データを作る\n",
    "l = [('red','#FF0000'),('green','#00FF00'),('blue','#0000FF')]\n",
    "print(dict(l))"
   ]
  },
  {
   "cell_type": "code",
   "execution_count": null,
   "metadata": {},
   "outputs": [],
   "source": [
    "#15.リストからデータを取得\n",
    "nums = [2,6,1,7,3,9,8,5,4,0]\n",
    "\n",
    "for i in range(len(nums)):\n",
    "    if i == 0:\n",
    "        key = nums[i]\n",
    "        print(key, end=' ')\n",
    "    else:\n",
    "        print(nums[key], end=' ')\n",
    "        key = nums[key]"
   ]
  },
  {
   "cell_type": "code",
   "execution_count": null,
   "metadata": {},
   "outputs": [],
   "source": [
    "#16.鏡写し\n",
    "src = input('入力：')\n",
    "dst = ''\n",
    "for i in range(len(src)-1,-1,-1):\n",
    "    if src[i] == '>':\n",
    "        dst += '<'\n",
    "    else:\n",
    "        dst += '>'\n",
    "print(src)\n",
    "print(dst)"
   ]
  },
  {
   "cell_type": "code",
   "execution_count": null,
   "metadata": {},
   "outputs": [],
   "source": [
    "#17.7月x日は何曜日？\n",
    "weeks = ['金曜日', '土曜日', '日曜日', '月曜日', '火曜日', '水曜日', '木曜日']\n",
    "D = int(input('7月何日？'))\n",
    "print(weeks[D%7])"
   ]
  },
  {
   "cell_type": "code",
   "execution_count": null,
   "metadata": {},
   "outputs": [],
   "source": [
    "#18.旅行の計画\n",
    "A = ['秋田県','山形県','山口県','宮崎県','高知県']\n",
    "B = ['山口県','高知県','長崎県','北海道','石川県']\n",
    "pref1 = set(A)\n",
    "pref2 = set(B)\n",
    "print(f'2人とも行ったことのある場所：{list(pref1 & pref2)}')\n",
    "print(f'1人しか行ったことのない場所：{list(pref1 ^ pref2)}')"
   ]
  },
  {
   "cell_type": "code",
   "execution_count": null,
   "metadata": {},
   "outputs": [],
   "source": [
    "#19.FizzBuzz問題\n",
    "for i in range(1, 31):\n",
    "  if i%3 == 0 and i%5 == 0:\n",
    "    print(\"FizzBuzz\", end=' ')\n",
    "  elif i%3 == 0:\n",
    "    print(\"Fizz\", end=' ')\n",
    "  elif i%5 == 0:\n",
    "    print(\"Buzz\", end=' ')\n",
    "  else:\n",
    "    print(i, end=' ')"
   ]
  },
  {
   "cell_type": "code",
   "execution_count": null,
   "metadata": {},
   "outputs": [],
   "source": [
    "#20.お金はいくら作れるか\n",
    "yen1,yen5 = map(int, input('1円玉,5円玉枚数>>').split(','))\n",
    "total = yen5 * 5 + yen1\n",
    "for i in range(1, total+1):\n",
    "    if i % 5 <= yen1:\n",
    "        print(str(i), end=' ')"
   ]
  },
  {
   "cell_type": "code",
   "execution_count": null,
   "metadata": {},
   "outputs": [],
   "source": [
    "#21.終了するまでの合計と平均値\n",
    "num = input('入力 >>')\n",
    "total, count = 0, 0\n",
    "while not 'quit' == num:\n",
    "    total += int(num)\n",
    "    count += 1\n",
    "    num = input('入力 >>')\n",
    "print(f'{count}回入力・合計{total}・平均{total/count}')"
   ]
  },
  {
   "cell_type": "code",
   "execution_count": null,
   "metadata": {},
   "outputs": [],
   "source": [
    "#22.華氏と摂氏\n",
    "f = -50\n",
    "while f <= 50:\n",
    "  c = (f - 32) * 5 / 9\n",
    "  print(f\"華氏{f}度 = 摂氏{c:.2f}度\")\n",
    "  f += 10\n",
    "print()\n",
    "for f in range(-50,51,10):\n",
    "  c = (f - 32) * 5 / 9\n",
    "  print(f\"華氏{f}度 = 摂氏{c:.2f}度\")\n"
   ]
  },
  {
   "cell_type": "code",
   "execution_count": null,
   "metadata": {},
   "outputs": [],
   "source": [
    "#23.掛け算の組み合わせ\n",
    "import random\n",
    "num = random.randint(1,20)\n",
    "result = ''\n",
    "for i in range(1,num+1):\n",
    "    if i > num/i:\n",
    "        break\n",
    "    if num % i == 0:\n",
    "        result += f'{i}x{int(num/i)}={num} '\n",
    "print(result)"
   ]
  },
  {
   "cell_type": "code",
   "execution_count": null,
   "metadata": {},
   "outputs": [],
   "source": [
    "#24.指定した数値を取り出す\n",
    "datas = [28, 50, None, 20, 78, 25, '22', 10, 'データ無し', 30]\n",
    "samples = list()\n",
    "for data in datas:\n",
    "#    if not isinstance(data, int):\n",
    "    if type(data) != int:\n",
    "        continue\n",
    "    if data < 20 or data >= 30:\n",
    "        continue\n",
    "    samples.append(data)\n",
    "print(samples)"
   ]
  },
  {
   "cell_type": "code",
   "execution_count": null,
   "metadata": {},
   "outputs": [],
   "source": [
    "#25.なかなか眠れない\n",
    "count = 0\n",
    "while True:\n",
    "    count += 1\n",
    "    print(f'ひつじが{count}匹…')\n",
    "    key = input('眠れそうですか？(y/n) >>')\n",
    "    if key == 'y':\n",
    "        break\n",
    "print('おやすみなさい…')"
   ]
  },
  {
   "cell_type": "code",
   "execution_count": null,
   "metadata": {},
   "outputs": [],
   "source": [
    "#26.学生の平均点\n",
    "student_num = int(input('学生の数を入力 >>'))\n",
    "score_list = list()\n",
    "for count in range(1,student_num+1):\n",
    "    score = int(input(f'{count}人目の試験の得点を入力 >>'))\n",
    "    score_list.append(score)\n",
    "print(score_list)\n",
    "total = sum(score_list)\n",
    "print(f'平均点は{total / student_num}点です')"
   ]
  },
  {
   "cell_type": "code",
   "execution_count": null,
   "metadata": {},
   "outputs": [],
   "source": [
    "#27.その本は買えるのか？\n",
    "m = int(input('所持金 >>'))\n",
    "f = int(input('借りられる金額 >>'))\n",
    "b = int(input('本の値段 >>'))\n",
    "if m+f < b:\n",
    "    print('購入できません')\n",
    "elif m >= b:\n",
    "    print('0円です')\n",
    "else:\n",
    "    print(f'{b-m}円です')"
   ]
  },
  {
   "cell_type": "code",
   "execution_count": null,
   "metadata": {},
   "outputs": [],
   "source": [
    "#28.文字の種類数を数える\n",
    "alph = 'abcdefghijklmnopqrstuvwxyz'\n",
    "words = input('入力 >>')\n",
    "c1=0\n",
    "c2=0\n",
    "for s in words:\n",
    "    if s in alph:\n",
    "        c1+=1\n",
    "    else:\n",
    "        c2+=1\n",
    "print(f'Lowercase count: {c1}')\n",
    "print(f'Other count: {c2}')"
   ]
  },
  {
   "cell_type": "code",
   "execution_count": null,
   "metadata": {},
   "outputs": [],
   "source": [
    "#29.紫色の最大数\n",
    "r = int(input('赤色 >>'))\n",
    "b = int(input('青色 >>'))\n",
    "w = int(input('白色 >>'))\n",
    "\n",
    "print(f'紫色のボールは{min((r+b+w)//2,r+w,b+w)}個')\n",
    "\n",
    "#t1 = abs(r-b)\n",
    "#t2 = (w-t1)//2\n",
    "#if t2 < 0:\n",
    "#    t2 = w\n",
    "#    t3 = min(r,b)\n",
    "#else:\n",
    "#  t3 = max(r,b)\n",
    "#print(f'紫色のボールは{t2+t3}個')\n"
   ]
  },
  {
   "cell_type": "code",
   "execution_count": null,
   "metadata": {},
   "outputs": [],
   "source": [
    "#30.辞書の結合\n",
    "d1 = {'a':[10,20], 'b':70}\n",
    "d2 = {'c':30, 'd':[40,60]}\n",
    "d3 = {'e':80, 'f':50}\n",
    "d4 = {}\n",
    "for d in (d1,d2,d3):\n",
    "    d4.update(d)\n",
    "print(d4)\n",
    "#別解\n",
    "d5 = {**d1,**d2,**d3}\n",
    "print(d5)"
   ]
  },
  {
   "cell_type": "code",
   "execution_count": null,
   "metadata": {},
   "outputs": [],
   "source": [
    "#31.リストと辞書の複製（浅いコピー）\n",
    "nums = [1,2,3,4,5]\n",
    "#dup = nums\n",
    "#dup = nums.copy()\n",
    "#dup = nums[:]\n",
    "dup = list(nums)\n",
    "dup[0],dup[1],dup[2] = 'a','b','c'\n",
    "print(nums)\n",
    "print(dup)\n",
    "\n",
    "nums = {'one':1,'two':2,'three':3}\n",
    "#dup = nums\n",
    "#dup = nums.copy()\n",
    "dup = dict(nums)\n",
    "dup['one'],dup['two'],dup['three'] = 'a','b','c'\n",
    "print(nums)\n",
    "print(dup)"
   ]
  },
  {
   "cell_type": "code",
   "execution_count": null,
   "metadata": {},
   "outputs": [],
   "source": [
    "#32.リストと辞書の複製（深いコピー）\n",
    "import copy\n",
    "nums = [1,2,3,[4,5]]\n",
    "#dup = list(nums)\n",
    "dup = copy.deepcopy(nums)\n",
    "dup[0], dup[3][0] = 'a','z'\n",
    "print(nums)\n",
    "print(dup)\n",
    "\n",
    "nums = {'one':1,'two':[10,55],'three':3}\n",
    "#dup = dict(nums)\n",
    "dup = copy.deepcopy(nums)\n",
    "dup['one'],dup['two'][0] = 'a',88\n",
    "print(nums)\n",
    "print(dup)"
   ]
  },
  {
   "cell_type": "code",
   "execution_count": null,
   "metadata": {},
   "outputs": [],
   "source": [
    "#33.文字の出現数\n",
    "s = input('入力 >>')\n",
    "d = {}\n",
    "for n in s:\n",
    "    keys = d.keys()\n",
    "    if n in keys:\n",
    "        d[n] += 1\n",
    "    else:\n",
    "        d[n] = 1\n",
    "print(d)"
   ]
  },
  {
   "cell_type": "code",
   "execution_count": null,
   "metadata": {},
   "outputs": [],
   "source": [
    "#34.リストから辞書を作る①\n",
    "keys = ['a','b','c']\n",
    "values = [1,2,3]\n",
    "dic = dict()\n",
    "for i in range(len(keys)):\n",
    "    dic[keys[i]] = values[i]\n",
    "print(dic)\n",
    "#別解1\n",
    "print(dict(zip(keys, values)))\n",
    "#別解2\n",
    "print({k: v for k, v in zip(keys, values)})"
   ]
  },
  {
   "cell_type": "code",
   "execution_count": null,
   "metadata": {},
   "outputs": [],
   "source": [
    "#35.リストから辞書を作る②\n",
    "info = [['red','#FF0000',20],['yellow','#FFFF00',80],['blue','#0000FF',50]]\n",
    "result = {}\n",
    "for color in info:\n",
    "    result[color[0]] = color[1:]\n",
    "print(result)\n",
    "#別解\n",
    "result = {color[0]: color[1:] for color in info}\n",
    "print(result)"
   ]
  },
  {
   "cell_type": "code",
   "execution_count": null,
   "metadata": {},
   "outputs": [],
   "source": [
    "#36.文字列の変換\n",
    "string = input('入力>>')\n",
    "string = string.replace('-','   ')\n",
    "string = string.replace('_',' ')\n",
    "print(string)"
   ]
  },
  {
   "cell_type": "code",
   "execution_count": null,
   "metadata": {},
   "outputs": [],
   "source": [
    "#37.要素の変換\n",
    "l1 = [i for i in range(1,21)]\n",
    "print(l1)\n",
    "l2 = [-1 if i%3==0 else i for i in l1]\n",
    "print(l2)"
   ]
  },
  {
   "cell_type": "code",
   "execution_count": null,
   "metadata": {},
   "outputs": [],
   "source": [
    "#38.文字列のシフト\n",
    "string = input('入力>>')\n",
    "shift = int(input('シフト数>>'))\n",
    "print(string[shift:]+string[:shift])\n",
    "if len(string) <= shift:\n",
    "    print(string[::-1])\n",
    "else:\n",
    "    print(string[shift:]+string[:shift])\n"
   ]
  },
  {
   "cell_type": "code",
   "execution_count": null,
   "metadata": {},
   "outputs": [],
   "source": [
    "#39.数値の判定\n",
    "score = float(input('スコア>>'))\n",
    "if score >= 5.0:\n",
    "    print(f'{score}:S')\n",
    "elif score >= 3.8:\n",
    "    print(f'{score}:A')\n",
    "elif score >= 2.6:\n",
    "    print(f'{score}:B')\n",
    "elif score >= 1.4:\n",
    "    print(f'{score}:C')\n",
    "else:\n",
    "    print(f'{score}:F')"
   ]
  },
  {
   "cell_type": "code",
   "execution_count": null,
   "metadata": {},
   "outputs": [],
   "source": [
    "#40.偶数の山と奇数の山\n",
    "num = int(input('入力>>'))\n",
    "result = [num+2*i for i in range(num)]\n",
    "print(result)"
   ]
  },
  {
   "cell_type": "code",
   "execution_count": null,
   "metadata": {},
   "outputs": [],
   "source": [
    "#41.入力した文字の長さ\n",
    "strings = list(input('入力>>').split(','))\n",
    "print(strings)\n",
    "nums = [len(s) for s in strings]\n",
    "print(nums)"
   ]
  },
  {
   "cell_type": "code",
   "execution_count": null,
   "metadata": {},
   "outputs": [],
   "source": [
    "#42.整数の各桁を積算\n",
    "num = input('入力>>')\n",
    "result=1\n",
    "for n in num:\n",
    "    if int(n) % 2 == 1:\n",
    "        result *= int(n)\n",
    "print(result)"
   ]
  },
  {
   "cell_type": "code",
   "execution_count": null,
   "metadata": {},
   "outputs": [],
   "source": [
    "#43.同じ文字が複数あるか\n",
    "s = input('入力 >>')\n",
    "\n",
    "for w in s:\n",
    "    if s.count(w) >= 2:\n",
    "        print('複数あります')\n",
    "        break\n",
    "else:\n",
    "    print('複数ありません')\n",
    "\n",
    "\n",
    "if len(s) > len(set(s)):\n",
    "    print('複数あります')\n",
    "else:\n",
    "    print('複数ありません')"
   ]
  },
  {
   "cell_type": "code",
   "execution_count": null,
   "metadata": {},
   "outputs": [],
   "source": [
    "#44.どちらにもある文字を抜き出す\n",
    "w1, w2 = input('入力 >>').split(',')\n",
    "w3 = set(w1) & set(w2)\n",
    "res = ''\n",
    "for ch in w1:\n",
    "    if ch in w3 and not ch in res:\n",
    "        res += ch\n",
    "print(res)\n",
    "#別解\n",
    "w3 = sorted(set(w1) & set(w2), key=w1.index)\n",
    "print(''.join(w3))"
   ]
  },
  {
   "cell_type": "code",
   "execution_count": null,
   "metadata": {},
   "outputs": [],
   "source": [
    "#45.メルアド判定\n",
    "mail = input('メール >>')\n",
    "at = mail.find('@')\n",
    "if at != -1:\n",
    "    check = mail[at:]\n",
    "    if not '.' in check:\n",
    "        print('無効なメールアドレス')\n",
    "    else:\n",
    "        print('有効なメールアドレス')\n",
    "else:\n",
    "    print('無効なメールアドレス')"
   ]
  },
  {
   "cell_type": "code",
   "execution_count": null,
   "metadata": {},
   "outputs": [],
   "source": [
    "#46.占い\n",
    "import random\n",
    "\n",
    "uranai = random.randint(1, 10)\n",
    "if uranai > 0 and uranai <= 1:\n",
    "    print('今日は最高！')\n",
    "elif uranai > 1 and uranai <= 4:\n",
    "    print('今日はそこそこです')\n",
    "elif uranai > 4 and uranai <= 8:\n",
    "    print('今日はまぁまぁ')\n",
    "else:\n",
    "    print('今日は最悪・・・')"
   ]
  },
  {
   "cell_type": "code",
   "execution_count": null,
   "metadata": {},
   "outputs": [],
   "source": [
    "#47.じゃんけん\n",
    "import random\n",
    "hand = ['グー','チョキ','パー']\n",
    "win = 0\n",
    "for i in range(5):\n",
    "    print(f'{i+1}回目')\n",
    "    you = int(input('1:グー,2:チョキ,3:パーどれ？>>'))\n",
    "    com = random.randint(1,3)\n",
    "    print(f'コンピューターの手：{hand[com-1]}')\n",
    "    if (you==1 and com==2) or (you==2 and com==3) or (you==3 and com==1):\n",
    "        print('あなたの勝ち')\n",
    "        win += 1\n",
    "    elif (you==1 and com==3) or (you==2 and com==1) or (you==3 and com==2):\n",
    "        print('コンピューターの勝ち')\n",
    "    else:\n",
    "        print('あいこ')\n",
    "print(f'あなたの勝率は5戦中{win}勝です。')"
   ]
  },
  {
   "cell_type": "code",
   "execution_count": null,
   "metadata": {},
   "outputs": [],
   "source": [
    "#48.サイコロを振る\n",
    "import random\n",
    "for i in range(20):\n",
    "    dice1 = random.randint(1,6)\n",
    "    dice2 = random.randint(1,6)\n",
    "    print(f'{i+1}回目：{dice1},{dice2}')\n",
    "    if dice1 == dice2:\n",
    "        if dice1 % 2 == 0:\n",
    "            print('大当たり')\n",
    "        else:\n",
    "            print('当たり')\n",
    "        break"
   ]
  },
  {
   "cell_type": "code",
   "execution_count": null,
   "metadata": {},
   "outputs": [],
   "source": [
    "#49.特定の情報で選別する\n",
    "computers = {\n",
    "    'PC1':{'Intel', 'NVIDIA', 'Crucial'},\n",
    "    'PC2':{'Intel', 'RADEON', 'Corsair'},\n",
    "    'PC3':{'AMD', 'RADEON', 'Micron'},\n",
    "    'PC4':{'Intel', 'NVIDIA', 'Corsair'},\n",
    "    'PC5':{'AMD', 'NVIDIA', 'Sillicon Power'}\n",
    "}\n",
    "for name, contents in computers.items():\n",
    "    if not ('Intel' in contents or 'Micron' in contents):\n",
    "        print(name)\n",
    "    if not 'Intel' in contents and not 'Micron' in contents:\n",
    "        print(name)\n",
    "    if not ({'Intel', 'Micron'} & contents):\n",
    "        print(name)"
   ]
  },
  {
   "cell_type": "code",
   "execution_count": null,
   "metadata": {},
   "outputs": [],
   "source": [
    "#50.クイズ\n",
    "QUESTION = [\n",
    "    \"桜の咲く季節は？\",\n",
    "    \"点を取ると大きくなる動物は？\",\n",
    "    \"パンでも固くて食べられないパンは？\"\n",
    "]\n",
    "ANS = [\"春\", \"犬\", \"フライパン\"]\n",
    "for i in range(3):\n",
    "    ans = input(QUESTION[i])\n",
    "    if ans == ANS[i]:\n",
    "        print(\"正解です\")\n",
    "    else:\n",
    "        print(\"不正解です\")"
   ]
  },
  {
   "cell_type": "code",
   "execution_count": null,
   "metadata": {},
   "outputs": [],
   "source": [
    "#51.行列1\n",
    "width,height = list(map(int, input('文字数と行数：').split(',')))\n",
    "words = ['o', 'x']\n",
    "order = 1\n",
    "for i in range(height):\n",
    "    moji = ''\n",
    "    order = 1 - order\n",
    "    for j in range(width):\n",
    "        if j % 2 == 0:\n",
    "            moji += words[order]\n",
    "        else:\n",
    "            moji += words[1 - order]\n",
    "    print(moji)"
   ]
  },
  {
   "cell_type": "code",
   "execution_count": null,
   "metadata": {},
   "outputs": [],
   "source": [
    "#52.行列2\n",
    "w = input('入力 >>')\n",
    "width, height = map(int, input('並び方 >>').split('x'))\n",
    "if len(w) >= width*height:\n",
    "    for y in range(height):\n",
    "        print(w[:width])\n",
    "        w = w[width:]\n",
    "else:\n",
    "    print('出力できません')"
   ]
  },
  {
   "cell_type": "code",
   "execution_count": null,
   "metadata": {},
   "outputs": [],
   "source": [
    "#53.偶数だけを選ぶ\n",
    "import random\n",
    "\n",
    "cnt = 0\n",
    "res = ''\n",
    "while (True):\n",
    "    num = random.randint(1, 100)\n",
    "    if num % 2 == 0 and (str(num) not in res):\n",
    "        res += str(num)+' '\n",
    "        cnt += 1\n",
    "        if cnt == 10:\n",
    "            break\n",
    "print(res)"
   ]
  },
  {
   "cell_type": "code",
   "execution_count": null,
   "metadata": {},
   "outputs": [],
   "source": [
    "#54.数値の並びが回文になるもの\n",
    "n = int(input('入力>>'))\n",
    "result = []\n",
    "for i in range(0,n+1,2):\n",
    "    if str(i) == str(i)[::-1]:\n",
    "        result.append(i)\n",
    "print(result)"
   ]
  },
  {
   "cell_type": "code",
   "execution_count": null,
   "metadata": {},
   "outputs": [],
   "source": [
    "#55.桁のどれかが5で15か9で割れる数値\n",
    "n = int(input('入力>>'))\n",
    "result = []\n",
    "for i in range(n):\n",
    "    if '5' in str(i) and (i%15==0 or i%9==0):\n",
    "        result.append(i)\n",
    "print(result)"
   ]
  },
  {
   "cell_type": "code",
   "execution_count": null,
   "metadata": {},
   "outputs": [],
   "source": [
    "#56.整数の各桁の最大値\n",
    "nums = list(map(int, input('入力>>')))\n",
    "while True:\n",
    "    rank = int(input('取り出す桁数>>'))\n",
    "    if rank <= len(nums):\n",
    "        break\n",
    "nums.sort(reverse=True)\n",
    "nums = nums[:rank]\n",
    "print(nums)"
   ]
  },
  {
   "cell_type": "code",
   "execution_count": null,
   "metadata": {},
   "outputs": [],
   "source": [
    "#57.色の組み合わせ\n",
    "import random\n",
    "r,b,w = 0,0,0\n",
    "for i in range(3):\n",
    "    num = random.randint(1,3)\n",
    "    if num == 1:\n",
    "        r += 1\n",
    "    elif num == 2:\n",
    "        b += 1\n",
    "    else:\n",
    "        w += 1\n",
    "if r == 3 or b == 3 or w == 3 or r == 1 and b == 1 and w == 1:\n",
    "    print(f'赤が{r}、青が{b}、白が{w}で勝ち')\n",
    "else:\n",
    "    print(f'赤が{r}、青が{b}、白が{w}で負け')"
   ]
  },
  {
   "cell_type": "code",
   "execution_count": null,
   "metadata": {},
   "outputs": [],
   "source": [
    "#58.市松模様\n",
    "s = input('>> ')\n",
    "for y in range(10):\n",
    "    for x in range(10):\n",
    "        if y%2==0 and x%2==1:\n",
    "            print(s, end='')\n",
    "        elif y%2==1 and x%2==0:\n",
    "            print(s, end='')\n",
    "        else:\n",
    "            print(' ', end='')\n",
    "    print()"
   ]
  },
  {
   "cell_type": "code",
   "execution_count": null,
   "metadata": {},
   "outputs": [],
   "source": [
    "#59.アスタリスクを並べる\n",
    "n=5\n",
    "for i in range(1,n):\n",
    "    for j in range(i):\n",
    "        print ('*', end=\"\")\n",
    "    print('')\n",
    "\n",
    "for i in range(n,0,-1):\n",
    "    for j in range(i):\n",
    "        print('*', end=\"\")\n",
    "    print('')"
   ]
  },
  {
   "cell_type": "code",
   "execution_count": null,
   "metadata": {},
   "outputs": [],
   "source": [
    "#60.三角形\n",
    "row = int(input('行数>>'))\n",
    "for y in range(row):\n",
    "    for x in range(row+y):\n",
    "        if x < row-y-1:\n",
    "            print(' ',end='')\n",
    "        else:\n",
    "            print('*',end='')\n",
    "    print('')"
   ]
  },
  {
   "cell_type": "code",
   "execution_count": null,
   "metadata": {},
   "outputs": [],
   "source": [
    "#61.入力した文字を並べる\n",
    "text = input('表示文字 >>')\n",
    "items = list(input('表示数 >>').split(','))\n",
    "for num in items:\n",
    "    n = int(num)\n",
    "    output = ''\n",
    "    while n > 0:\n",
    "        output += text\n",
    "        n = n - 1\n",
    "    print(output)"
   ]
  },
  {
   "cell_type": "code",
   "execution_count": null,
   "metadata": {},
   "outputs": [],
   "source": [
    "#62.違う単語を探す\n",
    "w1 = input('単語1 >>').split()\n",
    "w2 = input('単語2 >>').split()\n",
    "for i in range(len(w1)):\n",
    "    if w1[i] != w2[i]:\n",
    "        print(i+1)\n",
    "        print(w1[i])\n",
    "        print(w2[i])\n",
    "        break"
   ]
  },
  {
   "cell_type": "code",
   "execution_count": null,
   "metadata": {},
   "outputs": [],
   "source": [
    "#63.数字の文字列を並べる\n",
    "nums = ['one','two','three','four','five','six','seven','enght','nine']\n",
    "strs = list(input('入力>>').split(','))\n",
    "result = []\n",
    "for n in nums:\n",
    "    if n in strs:\n",
    "        for i in range(strs.count(n)):\n",
    "            result.append(n)\n",
    "print(','.join(result))"
   ]
  },
  {
   "cell_type": "code",
   "execution_count": null,
   "metadata": {},
   "outputs": [],
   "source": [
    "#64.文字の種類が最も多い文字列\n",
    "strings = list(input('入力>>').split(','))\n",
    "maximum=len(set(strings[0].upper()))\n",
    "result=strings[0]\n",
    "for s in strings:\n",
    "    if maximum < len(set(s.upper())):\n",
    "        maximum = len(set(s.upper()))\n",
    "        result = s\n",
    "print(result)\n",
    "#別解（この後の関数に関する問題でlambda式が登場する）\n",
    "res = max(strings, key=lambda x: len(set(x.upper())))\n",
    "print(res)"
   ]
  },
  {
   "cell_type": "code",
   "execution_count": null,
   "metadata": {},
   "outputs": [],
   "source": [
    "#65.母音の場所①\n",
    "string = input('入力>>')\n",
    "vowels = 'AEIOU'\n",
    "result = []\n",
    "for i in range(len(string)):\n",
    "    if i%2==0 and string[i] in vowels:\n",
    "        result.append(i)\n",
    "print(result)"
   ]
  },
  {
   "cell_type": "code",
   "execution_count": null,
   "metadata": {},
   "outputs": [],
   "source": [
    "#66.母音の場所②\n",
    "string = input('入力>>')\n",
    "vowels = 'aeiou'\n",
    "result = 'Nothing'\n",
    "for i in range(1,len(string)-1):\n",
    "    if string[i].lower() in vowels and not string[i-1].lower() in vowels and not string[i+1].lower() in vowels:\n",
    "        result = string[i-1:i+2]\n",
    "        break\n",
    "print(result)"
   ]
  },
  {
   "cell_type": "code",
   "execution_count": null,
   "metadata": {},
   "outputs": [],
   "source": [
    "#67.ファイル種別を判定\n",
    "exts = ['jpg','jpeg','png','webp','gif','tiff','svg']\n",
    "files = ['abc.txt','windows.dll','tiger.png','rose.jpg','test.py','win32.exe','Sample.java','panda.webp','monkey.gif','packman.svg']\n",
    "result = []\n",
    "for f in files:\n",
    "    if f.split('.')[1] in exts:\n",
    "        result.append('Yes')\n",
    "    else:\n",
    "        result.append('No')\n",
    "print(result)"
   ]
  },
  {
   "cell_type": "code",
   "execution_count": null,
   "metadata": {},
   "outputs": [],
   "source": [
    "#68.偶数の中央の値\n",
    "import random\n",
    "m = random.randint(0,20)\n",
    "n = random.randint(30,50)\n",
    "result = []\n",
    "for i in range(m,n+1):\n",
    "    if i%2 == 0:\n",
    "        result.append(i)\n",
    "print(result)\n",
    "print(f'中央の値の偶数は、{result[len(result)//2]}')"
   ]
  },
  {
   "cell_type": "code",
   "execution_count": null,
   "metadata": {},
   "outputs": [],
   "source": [
    "#69.リストの並び替え\n",
    "import random\n",
    "nums = [random.randint(1,9) for i in range(7)]\n",
    "print(nums)\n",
    "if (nums[0] + nums[-1]) % 2 == 0:\n",
    "    nums.sort()\n",
    "else:\n",
    "    nums.sort(reverse=True)\n",
    "print(nums)"
   ]
  },
  {
   "cell_type": "code",
   "execution_count": null,
   "metadata": {},
   "outputs": [],
   "source": [
    "#70.数字の文字列を並び替え\n",
    "import random\n",
    "digits = {1:'one',2:'two',3:'three',4:'four',5:'five',6:'six',7:'seven',8:'eight',9:'nine'}\n",
    "nums = [random.randint(1,9) for i in range(5)]\n",
    "nums = sorted(set(nums))\n",
    "print(nums)\n",
    "result = [digits[n] for n in nums]\n",
    "print(result)"
   ]
  },
  {
   "cell_type": "code",
   "execution_count": null,
   "metadata": {},
   "outputs": [],
   "source": [
    "#71.1の位で並び替え\n",
    "import random\n",
    "nums = [random.randint(1,30) for i in range(10)]\n",
    "print(nums)\n",
    "nums.sort(key=lambda x: x%10)\n",
    "print(nums)"
   ]
  },
  {
   "cell_type": "code",
   "execution_count": null,
   "metadata": {},
   "outputs": [],
   "source": [
    "#72.重複を取り除いたリスト\n",
    "import random\n",
    "nums = [random.randint(1,20) for i in range(7)]\n",
    "print(nums)\n",
    "result = []\n",
    "for n in nums:\n",
    "    if not n in result:\n",
    "        result.append(n)\n",
    "print(result)\n",
    "\n",
    "print(set(nums))\n",
    "\n",
    "print(list(dict.fromkeys(nums)))"
   ]
  },
  {
   "cell_type": "code",
   "execution_count": null,
   "metadata": {},
   "outputs": [],
   "source": [
    "#73.3桁の合計\n",
    "import random\n",
    "nums = [random.randint(1,200) for i in range(10)]\n",
    "total=0\n",
    "for n in nums:\n",
    "    if len(str(n)) > 2:\n",
    "        total += n\n",
    "print(nums)\n",
    "print(f'total: {total}')"
   ]
  },
  {
   "cell_type": "code",
   "execution_count": null,
   "metadata": {},
   "outputs": [],
   "source": [
    "#74.最初と最後の桁が奇数の整数\n",
    "import random\n",
    "nums = [random.randint(10,200) for i in range(7)]\n",
    "print(nums)\n",
    "result = []\n",
    "for n in nums:\n",
    "    if (n%10)%2 == 1 and int(str(n)[0])%2 == 1:\n",
    "        result.append(n)\n",
    "print(result)"
   ]
  },
  {
   "cell_type": "code",
   "execution_count": null,
   "metadata": {},
   "outputs": [],
   "source": [
    "#75.1の位を積算\n",
    "import random\n",
    "nums = [random.randint(1,200) for i in range(5)]\n",
    "total = 1\n",
    "result=[]\n",
    "for n in nums:\n",
    "    if n%10 != 0:\n",
    "        total *= n%10\n",
    "        result.append(str(n%10))\n",
    "\n",
    "print(nums)\n",
    "result = 'x'.join(result)\n",
    "print(result+'='+str(total))"
   ]
  },
  {
   "cell_type": "code",
   "execution_count": null,
   "metadata": {},
   "outputs": [],
   "source": [
    "#76.同じ数が最も多いのはどれ？\n",
    "import random\n",
    "nums = [random.randint(1,5) for i in range(10)]\n",
    "print(nums)\n",
    "maxnum, maxele=0, 0\n",
    "for n in nums:\n",
    "    if nums.count(n) > maxnum:\n",
    "        maxele = n\n",
    "        maxnum = nums.count(n)\n",
    "print(f'同じ数がもっとも多いのは：{maxele}の{maxnum}個')"
   ]
  },
  {
   "cell_type": "code",
   "execution_count": null,
   "metadata": {},
   "outputs": [],
   "source": [
    "#77.負数の数と正数の数\n",
    "import random\n",
    "nums = [random.randint(-20,20) for i in range(15)]\n",
    "print(nums)\n",
    "pos_min = None\n",
    "neg_max = None\n",
    "for n in nums:\n",
    "    if n > 0 and (pos_min is None or pos_min > n):\n",
    "        pos_min = n\n",
    "    elif n < 0 and (neg_max is None or neg_max < n):\n",
    "        neg_max = n\n",
    "print(f'負数の最大：{neg_max} 正数の最小：{pos_min}')"
   ]
  },
  {
   "cell_type": "code",
   "execution_count": null,
   "metadata": {},
   "outputs": [],
   "source": [
    "#78.平仮名の母音を数える\n",
    "a = 'あぁかがさざただなはばぱまやゃらわゎ'\n",
    "i = 'いぃきぎしじちぢにひびぴみり'\n",
    "u = 'うぅくぐすずつづぬふぶぷむゆゅる'\n",
    "e = 'えぇけげせぜてでねへべぺめれ'\n",
    "o = 'おぉこごそぞとどのほぼぽもよょろを'\n",
    "y = 'ゃゅょゎぁぃぅぇぉ'\n",
    "cnt = [0]*5\n",
    "strings = input('入力>>')\n",
    "for n,s in enumerate(strings):\n",
    "    if n < len(strings)-1 and strings[n+1] in y:\n",
    "        continue\n",
    "    if s in a:\n",
    "        cnt[0] += 1\n",
    "    elif s in i:\n",
    "        cnt[1] +=1\n",
    "    elif s in u:\n",
    "        cnt[2] +=1\n",
    "    elif s in e:\n",
    "        cnt[3] +=1\n",
    "    elif s in o:\n",
    "        cnt[4] +=1\n",
    "print(f'あ段：{cnt[0]}個、い段：{cnt[1]}個、う段：{cnt[2]}個、え段：{cnt[3]}個、お段：{cnt[4]}個')"
   ]
  },
  {
   "cell_type": "code",
   "execution_count": null,
   "metadata": {},
   "outputs": [],
   "source": [
    "#79.最も近い数値はどれ？\n",
    "nums = list(map(float, input('入力>>').split(',')))\n",
    "closest_id = None\n",
    "closest_num = None\n",
    "for i in range(len(nums)):\n",
    "    for j in range(len(nums)):\n",
    "        if i != j:\n",
    "            if closest_num is None or abs(nums[i]-nums[j]) < closest_num:\n",
    "                closest_num = abs(nums[i]-nums[j])\n",
    "                closest_id = [i, j]\n",
    "print(nums)\n",
    "print(closest_id)"
   ]
  },
  {
   "cell_type": "code",
   "execution_count": null,
   "metadata": {},
   "outputs": [],
   "source": [
    "#80.カッコの範囲\n",
    "while True:\n",
    "    kakko = input('入力>>')\n",
    "    kakko = kakko.replace(' ','')\n",
    "    cnt=0\n",
    "    for s in kakko:\n",
    "        if s == '(':\n",
    "            cnt += 1\n",
    "        elif s == ')':\n",
    "            cnt -= 1\n",
    "        if cnt < 0:\n",
    "            break\n",
    "    else:\n",
    "        if (kakko.count('(')==kakko.count(')')) and (len(kakko)==kakko.count('(')+kakko.count(')')):\n",
    "            break\n",
    "result = ''\n",
    "for s in kakko:\n",
    "    result += s\n",
    "    if result.count('(') == result.count(')'):\n",
    "        print(result)\n",
    "        result = ''\n"
   ]
  },
  {
   "cell_type": "code",
   "execution_count": null,
   "metadata": {},
   "outputs": [],
   "source": [
    "#81.次の日はいつ？\n",
    "year,month,day = list(map(int, input('年月日 >>').split(',')))\n",
    "if year % 4 == 0 and (year % 100 != 0 or year % 400 == 0):\n",
    "    leap_year = True\n",
    "else:\n",
    "    leap_year = False\n",
    "\n",
    "if month == 4 or month == 6 or month == 9 or month == 11:\n",
    "    month_length = 30\n",
    "elif month == 2:\n",
    "    if leap_year:\n",
    "        month_length = 29\n",
    "    else:\n",
    "        month_length = 28\n",
    "else:\n",
    "    month_length = 31\n",
    "\n",
    "if day < month_length:\n",
    "    day += 1\n",
    "else:\n",
    "    day = 1\n",
    "    if month == 12:\n",
    "        month = 1\n",
    "        year += 1\n",
    "    else:\n",
    "        month += 1\n",
    "\n",
    "print(f'次の日は「{year}年{month:02d}月{day:02d}日」')"
   ]
  },
  {
   "cell_type": "code",
   "execution_count": null,
   "metadata": {},
   "outputs": [],
   "source": [
    "#81.次の日はいつ？(別解)\n",
    "import datetime\n",
    "year,month,day = list(map(int, input('年月日 >>').split(',')))\n",
    "t = datetime.datetime(year, month, day)\n",
    "tomorrow = t + datetime.timedelta(days=1)\n",
    "print(tomorrow.strftime('次の日は「%Y年%m月%d日」'))"
   ]
  },
  {
   "cell_type": "code",
   "execution_count": null,
   "metadata": {},
   "outputs": [],
   "source": [
    "#82.タイピング\n",
    "import time\n",
    "\n",
    "st = time.time()\n",
    "words = ['あいうえお','ぴゃぴゅぴょ','うぉうぃうぇ','ちゃちゅちょ']\n",
    "for word in words:\n",
    "    while True:\n",
    "        s = input(f'「{word}」>>')\n",
    "        if s == word:\n",
    "            break\n",
    "et = int(time.time()-st)\n",
    "print(f'タイム：{et}秒')"
   ]
  },
  {
   "cell_type": "code",
   "execution_count": null,
   "metadata": {},
   "outputs": [],
   "source": [
    "#83.動物を選べ\n",
    "import random\n",
    "import time\n",
    "\n",
    "animals = ['ウシ','ウマ','イヌ','サル','ブタ','ネコ','ヘビ']\n",
    "\n",
    "print('===== スタート =====')\n",
    "st = time.time()\n",
    "hit=0\n",
    "for i in range(5):\n",
    "    ques = random.randint(0,6)\n",
    "    random.shuffle(animals)\n",
    "    disp = ''\n",
    "    for j in range(7):\n",
    "        disp += f'{j+1}.{animals[j]} '\n",
    "    print(disp)\n",
    "    ans = input(f'{animals[ques]}はどこ？')\n",
    "    if ans == str(ques+1):\n",
    "        print('[あたり!]')\n",
    "        hit+=1\n",
    "    else:\n",
    "        print('[はずれ..]')\n",
    "tt = int(time.time()-st)\n",
    "print('===== 終了 =====')\n",
    "print(f'かかった時間は{tt}秒')\n",
    "print(f'5回中で当てた数は{hit}個')\n",
    "print(f'スコアは{hit * (100 - tt)}点')"
   ]
  },
  {
   "cell_type": "code",
   "execution_count": null,
   "metadata": {},
   "outputs": [],
   "source": [
    "#84.数当てゲーム①\n",
    "import random\n",
    "\n",
    "com = random.randint(1,5)\n",
    "\n",
    "for i in range(3):\n",
    "    num = int(input('>>'))\n",
    "    if num == com:\n",
    "        print(f'あたり！！（コンピューター：{com}）')\n",
    "        break\n",
    "else:\n",
    "    print(f'3回ともあずれでした（コンピューター：{com}）')"
   ]
  },
  {
   "cell_type": "code",
   "execution_count": null,
   "metadata": {},
   "outputs": [],
   "source": [
    "#85.増加しているのか減少しているのか\n",
    "nums = list(map(int, input('入力>>').split(',')))\n",
    "flag = None\n",
    "for i in range(len(nums)-1):\n",
    "    if nums[i] < nums[i+1] and (flag == None or flag == 1):\n",
    "        flag = 1\n",
    "    elif nums[i] > nums[i+1] and (flag == None or flag == 2):\n",
    "        flag = 2\n",
    "    else:\n",
    "        flag = 0\n",
    "if flag == 1:\n",
    "    print('増加している')\n",
    "elif flag == 2:\n",
    "    print('減少している')\n",
    "else:\n",
    "    print('どちらでもない')\n",
    "\n",
    "#別解\n",
    "if all(nums[i] < nums[i+1] for i in range(len(nums)-1)):\n",
    "    print('増加している')\n",
    "elif all(nums[i] > nums[i+1] for i in range(len(nums)-1)):\n",
    "    print('減少している')\n",
    "else:\n",
    "    print('どちらでもない')"
   ]
  },
  {
   "cell_type": "code",
   "execution_count": null,
   "metadata": {},
   "outputs": [],
   "source": [
    "#86.ポーカーの役を表示せよ\n",
    "import random\n",
    "cards = []\n",
    "while True:\n",
    "    for i in range(5):\n",
    "        cards.append(random.randint(1,13))\n",
    "    if cards.count(cards[0]) != 5:\n",
    "        break\n",
    "    cards.clear()\n",
    "print(' '.join(str(n) for n in cards))\n",
    "\n",
    "hand = {}\n",
    "for n in cards:\n",
    "    if n not in hand.keys():\n",
    "        hand[n] = cards.count(n)\n",
    "\n",
    "val = list(hand.values())\n",
    "if 4 in val:\n",
    "    print('フォーカード')\n",
    "elif 2 in val and 3 in val:\n",
    "    print('フルハウス')\n",
    "elif 3 in val:\n",
    "    print('スリーカード')\n",
    "elif val.count(2) == 2:\n",
    "    print('ツーペア')\n",
    "elif val.count(2) == 1:\n",
    "    print('ワンペア')\n",
    "else:\n",
    "    print('ノーハンド')\n"
   ]
  },
  {
   "cell_type": "code",
   "execution_count": null,
   "metadata": {},
   "outputs": [],
   "source": [
    "#87.要素ごとに並び替え\n",
    "mixed = [19,'red',12,'green','blue', 5,'white','green',1]\n",
    "nums=[]\n",
    "for n in mixed:\n",
    "    if isinstance(n, int):\n",
    "        nums.append(n)\n",
    "nums.sort()\n",
    "#another answer\n",
    "#nums = sorted([n for n in mixed if isinstance(n, int)])\n",
    "#nums = sorted([n for n in mixed if type(n) is int])\n",
    "strs=[]\n",
    "for s in mixed:\n",
    "    if isinstance(s, str):\n",
    "        strs.append(s)\n",
    "strs.sort()\n",
    "#another answer\n",
    "#strs = sorted([s for s in mixed if isinstance(s, str)])\n",
    "#strs = sorted([s for s in mixed if type(s) is str])\n",
    "print(nums + strs)"
   ]
  },
  {
   "cell_type": "code",
   "execution_count": null,
   "metadata": {},
   "outputs": [],
   "source": [
    "#88.デジタルの最大数を表示\n",
    "N = int(input('入力 >>'))\n",
    "keta = N//2\n",
    "if N%2 == 1:\n",
    "    print('7'+'1'*(keta-1))\n",
    "else:\n",
    "    print('1'*keta)"
   ]
  },
  {
   "cell_type": "code",
   "execution_count": null,
   "metadata": {},
   "outputs": [],
   "source": [
    "#89.デジタルの最小数を表示\n",
    "N = int(input('入力 >>'))\n",
    "keta = N//6\n",
    "amari = N%6\n",
    "if amari == 1:\n",
    "    print('0'*(keta-1)+'8')\n",
    "elif amari == 2:\n",
    "    print('0'*(keta)+'1')\n",
    "elif amari == 3:\n",
    "    print('0'*(keta)+'7')\n",
    "elif amari == 4:\n",
    "    print('0'*(keta)+'4')\n",
    "elif amari == 5:\n",
    "    print('0'*(keta)+'2')\n",
    "else:\n",
    "    print('0'*(keta))"
   ]
  },
  {
   "cell_type": "code",
   "execution_count": null,
   "metadata": {},
   "outputs": [],
   "source": [
    "#90.受け入れた情報を辞書で返す関数\n",
    "def make_person(last_name, first_name, age=None):\n",
    "    person = {'last': last_name, 'first': first_name}\n",
    "    if age:\n",
    "        person['age'] = age\n",
    "    return person\n",
    "\n",
    "data = list(input('入力 >>').split(' '))\n",
    "if len(data) == 2:\n",
    "    print(make_person(data[0], data[1]))\n",
    "elif len(data) == 3:\n",
    "    print(make_person(data[0], data[1], int(data[2])))\n",
    "else:\n",
    "    print('Please input correctly')"
   ]
  },
  {
   "cell_type": "code",
   "execution_count": null,
   "metadata": {},
   "outputs": [],
   "source": [
    "#91.すべての引数を受け入れる関数\n",
    "def func_all(*args, **kwargs):\n",
    "    print(args)\n",
    "    print(kwargs)\n",
    "func_all(10,20,30,40,a=1,b=2,c=3,d=4)"
   ]
  },
  {
   "cell_type": "code",
   "execution_count": null,
   "metadata": {},
   "outputs": [],
   "source": [
    "#92.回文を判定する関数\n",
    "def is_palindrome(string):\n",
    "    palin = string[::-1]\n",
    "    if string == palin:\n",
    "        return True\n",
    "    return False\n",
    "\n",
    "print(is_palindrome('madam'))\n",
    "print(is_palindrome('しんぶんし'))\n",
    "print(is_palindrome('adam'))"
   ]
  },
  {
   "cell_type": "code",
   "execution_count": null,
   "metadata": {},
   "outputs": [],
   "source": [
    "#93.加工したリストを返却する関数\n",
    "def square(nums):\n",
    "    res = list(nums)\n",
    "    for i in range(len(res)):\n",
    "        res[i] = res[i]**2\n",
    "    return res\n",
    "\n",
    "origin = [1,2,3,4,5]\n",
    "result = square(origin)\n",
    "print(origin)\n",
    "print(result)"
   ]
  },
  {
   "cell_type": "code",
   "execution_count": null,
   "metadata": {},
   "outputs": [],
   "source": [
    "#94.受け入れたデータを表示する関数\n",
    "def func(first, second):\n",
    "    print(first, second)\n",
    "\n",
    "d = {'first':'One', 'second':'Two'}\n",
    "l = [3, 4]\n",
    "t = ('a', 'b')\n",
    "func(*d)\n",
    "func(**d)\n",
    "func(*l)\n",
    "func(*t)"
   ]
  },
  {
   "cell_type": "code",
   "execution_count": null,
   "metadata": {},
   "outputs": [],
   "source": [
    "#95.デコレーター\n",
    "def info(func):\n",
    "    def add_info(*args, **kwargs):\n",
    "        print('-- start --')\n",
    "        result = func(*args, **kwargs)\n",
    "        print('-- end --')\n",
    "        return result\n",
    "    return add_info\n",
    "\n",
    "@info\n",
    "def func(first, second):\n",
    "    print(first, second)\n",
    "\n",
    "func('Hello', 'World!')"
   ]
  },
  {
   "cell_type": "code",
   "execution_count": null,
   "metadata": {},
   "outputs": [],
   "source": [
    "#96.ジェネレーター\n",
    "def my_range():\n",
    "    number = 1\n",
    "    while number < 10:\n",
    "        yield number\n",
    "        number += 2\n",
    "\n",
    "l = [n for n in my_range()]\n",
    "print(l)"
   ]
  },
  {
   "cell_type": "code",
   "execution_count": null,
   "metadata": {},
   "outputs": [],
   "source": [
    "#97.ラムダ関数\n",
    "nums = [[2,3,1,0],[3,2,0,1],[1,0,3,2],[0,1,2,3]]\n",
    "nums.sort(key=lambda nums:nums[1])\n",
    "print(nums)"
   ]
  },
  {
   "cell_type": "code",
   "execution_count": null,
   "metadata": {},
   "outputs": [],
   "source": [
    "#98.docstring\n",
    "def make_dict(ite1, ite2):\n",
    "    '''\n",
    "    第1引数をキー、第2引数を値として辞書を作成する\n",
    "    処理内容：\n",
    "        1. 2つの引数のデータが同じ要素数かチェック\n",
    "        2. 真なら辞書を作成し返却\n",
    "    '''\n",
    "    if len(ite1) == len(ite2):\n",
    "        return dict(zip(ite1, ite2))\n",
    "\n",
    "print(make_dict(['a','b','c'], [1,2,3]))\n",
    "print(make_dict.__doc__)"
   ]
  },
  {
   "cell_type": "code",
   "execution_count": null,
   "metadata": {},
   "outputs": [],
   "source": [
    "#99.mapping関数\n",
    "def mapping(func, *args):\n",
    "    data = []\n",
    "    for x in args:\n",
    "        data.append(func(x))\n",
    "    return data\n",
    "\n",
    "l = mapping(int, '1','2','3','4')\n",
    "print(l)\n",
    "print(type(l[0]))"
   ]
  },
  {
   "cell_type": "code",
   "execution_count": null,
   "metadata": {},
   "outputs": [],
   "source": [
    "#100.filtering関数\n",
    "num_list = [1,2,3,4,5,6,7,8,9,10]\n",
    "def is_even(n):\n",
    "    return n%2==0\n",
    "\n",
    "def filtering(func, nums):\n",
    "    work = []\n",
    "    for n in nums:\n",
    "        if func(n):\n",
    "            work.append(n)\n",
    "    return work\n",
    "\n",
    "print(filtering(is_even, num_list))\n",
    "print(filtering(lambda n: n%2==0, num_list))"
   ]
  },
  {
   "cell_type": "code",
   "execution_count": null,
   "metadata": {},
   "outputs": [],
   "source": [
    "#101.最大と最小\n",
    "def chint(s):\n",
    "    try:\n",
    "        re = int(s)\n",
    "    except ValueError:\n",
    "        return False\n",
    "    return re\n",
    "def chfloat(s):\n",
    "    try:\n",
    "        re = float(s)\n",
    "    except ValueError:\n",
    "        return False\n",
    "    return re\n",
    "nums = list(input('入力>>').split(','))\n",
    "for i in range(len(nums)):\n",
    "    r = chint(nums[i])\n",
    "    if r:\n",
    "        nums[i] = r\n",
    "    else:\n",
    "        r = chfloat(nums[i])\n",
    "        if r:\n",
    "            nums[i] = r\n",
    "maximum,minimum=nums[0],nums[0]\n",
    "for n in nums:\n",
    "    if maximum <= n:\n",
    "        maximum = n\n",
    "    elif minimum >= n:\n",
    "        minimum = n\n",
    "print(maximum)\n",
    "print(minimum)"
   ]
  },
  {
   "cell_type": "code",
   "execution_count": null,
   "metadata": {},
   "outputs": [],
   "source": [
    "#102.スロットマシーン\n",
    "def slot():\n",
    "    import random\n",
    "    rool = ['●', '■', '▲']\n",
    "    result = {}\n",
    "    slot = []\n",
    "    for i in range(3):\n",
    "        w = random.randint(0, 2)\n",
    "        slot.append(rool[w])\n",
    "    print(' '.join(slot))\n",
    "\n",
    "    # 絵柄の数を数える\n",
    "    for i in range(len(rool)):\n",
    "        result[rool[i]] = slot.count(rool[i])\n",
    "\n",
    "    score = 0\n",
    "    for key, val in result.items():\n",
    "        if val == 3:\n",
    "            if key == rool[0]:\n",
    "                score = 100\n",
    "            elif key == rool[1]:\n",
    "                score = 200\n",
    "            else:\n",
    "                score = 300\n",
    "    print(score)\n",
    "    return score\n",
    "\n",
    "res = 0\n",
    "for i in range(3):\n",
    "    input(f'{i+1}回目：')\n",
    "    res += slot()\n",
    "print(f'合計：{res}')\n"
   ]
  },
  {
   "cell_type": "code",
   "execution_count": null,
   "metadata": {},
   "outputs": [],
   "source": [
    "#103.Cameraクラス\n",
    "class Camera:\n",
    "    pass\n",
    "\n",
    "cam1 = Camera()\n",
    "cam2 = Camera()\n",
    "cam1.maker = 'SONY'\n",
    "cam1.model = 'α7R IV'\n",
    "cam1.price = 438900\n",
    "cam2.maker = 'CANON'\n",
    "cam2.model = 'EOS R5'\n",
    "cam2.price = 506000\n",
    "print(f'メーカー：{cam1.maker}、モデル：{cam1.model}、価格：{cam1.price}円')\n",
    "print(f'メーカー：{cam2.maker}、モデル：{cam2.model}、価格：{cam2.price}円')\n"
   ]
  },
  {
   "cell_type": "code",
   "execution_count": null,
   "metadata": {},
   "outputs": [],
   "source": [
    "#104.Scoreクラス①\n",
    "class Score:\n",
    "    def __init__(self):\n",
    "        self.math = 0\n",
    "        self.english = 0\n",
    "        self.physics = 0\n",
    "    def get_average(self):\n",
    "        return (self.math+self.english+self.physics)/3\n",
    "student = Score()\n",
    "student.math = 65\n",
    "student.english = 70\n",
    "student.physics = 80\n",
    "print(f'math={student.math},english={student.english},physics={student.physics}')\n",
    "print(f'平均点は{int(student.get_average())}')"
   ]
  },
  {
   "cell_type": "code",
   "execution_count": null,
   "metadata": {},
   "outputs": [],
   "source": [
    "#105.Scoreクラス②\n",
    "class Score:\n",
    "    def __init__(self, math, english, physics):\n",
    "        self.math = math\n",
    "        self.english = english\n",
    "        self.physics = physics\n",
    "    def get_average(self):\n",
    "        return (self.math+self.english+self.physics)/3\n",
    "\n",
    "dic = {'math':50, 'english':80, 'physics':60}\n",
    "tap = (65,58,72)\n",
    "student1 = Score(**dic)\n",
    "print(f'平均点は{int(student1.get_average())}')\n",
    "student2 = Score(*tap)\n",
    "print(f'平均点は{int(student2.get_average())}')"
   ]
  },
  {
   "cell_type": "code",
   "execution_count": null,
   "metadata": {},
   "outputs": [],
   "source": [
    "#106.BMIを調べる\n",
    "class Person:\n",
    "    def __init__(self, name, weight, height):\n",
    "        self.name = name\n",
    "        self.weight = weight\n",
    "        self.height = height\n",
    "    def bmi(self):\n",
    "        return self.weight / ((self.height/100)**2)\n",
    "\n",
    "member = []\n",
    "for i in range(5):\n",
    "    name,weight,height = input('名前,体重(kg),身長(cm):').split(',')\n",
    "    p = Person(name, float(weight), float(height))\n",
    "    member.append(p)\n",
    "\n",
    "for m in member:\n",
    "    print(f'{m.name}さんのBMIは{m.bmi():.2f}です。')"
   ]
  },
  {
   "cell_type": "code",
   "execution_count": null,
   "metadata": {},
   "outputs": [],
   "source": [
    "#107.Userクラス\n",
    "class User():\n",
    "    def __init__(self, first_name, last_name, username, email, location):\n",
    "        self.first_name = first_name.title()\n",
    "        self.last_name = last_name.title()\n",
    "        self.username = username\n",
    "        self.email = email\n",
    "        self.location = location.title()\n",
    "\n",
    "    def describe_user(self):\n",
    "        print(f\"{self.first_name} {self.last_name}\")\n",
    "        print(f\"  ユーザー名: {self.username}\")\n",
    "        print(f\"  メールアドレス: {self.email}\")\n",
    "        print(f\"  場所: {self.location}\")\n",
    "\n",
    "taro = User('taro', 'yamada', 'yama', 'yama@example.com', 'osaka')\n",
    "jiro = User('次郎', '田中', 'taji', 'taji@example.com', '東京')\n",
    "taro.describe_user()\n",
    "jiro.describe_user()"
   ]
  },
  {
   "cell_type": "code",
   "execution_count": null,
   "metadata": {},
   "outputs": [],
   "source": [
    "#108.Adminクラス①\n",
    "class Admin(User):\n",
    "    def __init__(self, first_name, last_name, username, email, location):\n",
    "        super().__init__(first_name, last_name, username, email, location)\n",
    "        self.privileges = []\n",
    "\n",
    "    def show_privileges(self):\n",
    "        print(\"権限の一覧\")\n",
    "        for privilege in self.privileges:\n",
    "            print(f\"- {privilege}\")\n",
    "\n",
    "jiro = Admin('次郎', '田中', 'taji', 'taji@example.com', '東京')\n",
    "jiro.describe_user()\n",
    "jiro.privileges = [\"投稿を追加する\",\"投稿を削除する\",\"ユーザーを利用禁止にする\"]\n",
    "jiro.show_privileges()"
   ]
  },
  {
   "cell_type": "code",
   "execution_count": null,
   "metadata": {},
   "outputs": [],
   "source": [
    "#109.Admin②\n",
    "class Admin(User):\n",
    "    def __init__(self, first_name, last_name, username, email, location):\n",
    "        super().__init__(first_name, last_name, username, email, location)\n",
    "        self.privileges = []\n",
    "\n",
    "    def show_privileges(self):\n",
    "        print(\"権限の一覧\")\n",
    "        for privilege in self.privileges:\n",
    "            print(f\"- {privilege}\")\n",
    "\n",
    "    def describe_user(self):\n",
    "        super().describe_user()\n",
    "        print(f\"  ＜管理者＞\")\n",
    "\n",
    "jiro = Admin('次郎', '田中', 'taji', 'taji@example.com', '東京')\n",
    "jiro.describe_user()"
   ]
  },
  {
   "cell_type": "code",
   "execution_count": null,
   "metadata": {},
   "outputs": [],
   "source": [
    "#110.テキストファイルの入出力①\n",
    "fout = open('sample.txt', 'a')\n",
    "text = ''\n",
    "while True:\n",
    "    text = input('書き込む >>')\n",
    "    if text == 'q':\n",
    "        break\n",
    "    fout.write(text + '\\n')\n",
    "fout.close()"
   ]
  },
  {
   "cell_type": "code",
   "execution_count": null,
   "metadata": {},
   "outputs": [],
   "source": [
    "#111.テキストファイルの入出力②\n",
    "color = ['Red', 'Green', 'White', 'Black', 'Pink', 'Yellow']\n",
    "with open('color.txt', 'w') as fout:\n",
    "    for c in color:\n",
    "        fout.write(f\"{c}\\n\")"
   ]
  },
  {
   "cell_type": "code",
   "execution_count": null,
   "metadata": {},
   "outputs": [],
   "source": [
    "#112.テキストファイルの入出力③\n",
    "import string\n",
    "num = int(input('文字数 >>'))\n",
    "with open('words.txt', 'w') as fout:\n",
    "    alphabet = string.ascii_uppercase\n",
    "    for i in range(0, len(alphabet), num):\n",
    "        fout.write(alphabet[i:i+num]+'\\n')\n",
    "#    letters = [alphabet[i:i+num]+'\\n' for i in range(0, len(alphabet), num)]\n",
    "#    fout.writelines(letters)\n"
   ]
  },
  {
   "cell_type": "code",
   "execution_count": null,
   "metadata": {},
   "outputs": [],
   "source": [
    "#113.テキストファイルの入出力④\n",
    "with open('sample.txt', 'r') as fin:\n",
    "    cnt = 0\n",
    "    for line in fin:\n",
    "        cnt += 1\n",
    "        print(f'{cnt}:{line}',end='')\n",
    "\n",
    "#    while True:\n",
    "#        line = fin.readline()\n",
    "#        if not line:\n",
    "#            break\n",
    "#        cnt += 1\n",
    "#        print(f'{cnt}:{line}',end='')\n"
   ]
  },
  {
   "cell_type": "code",
   "execution_count": null,
   "metadata": {},
   "outputs": [],
   "source": [
    "#114.テキストファイルの入出力⑤\n",
    "num = int(input('行番号 >>'))\n",
    "#lines = []\n",
    "with open('sample.txt', 'r') as fin:\n",
    "    lines = fin.readlines()\n",
    "#   for line in fin:\n",
    "#        lines.append(line)\n",
    "if num > len(lines):\n",
    "    print('出力できる行はありません')\n",
    "else:\n",
    "    print(f'{num}:{lines[num-1]}', end='')"
   ]
  },
  {
   "cell_type": "code",
   "execution_count": null,
   "metadata": {},
   "outputs": [],
   "source": [
    "#115.テキストファイルの入出力⑥\n",
    "with open('sample.txt', 'r') as fin:\n",
    "    lines = fin.readlines()\n",
    "    new_list = [s.rstrip('\\n') for s in lines]\n",
    "print(new_list)"
   ]
  },
  {
   "cell_type": "code",
   "execution_count": null,
   "metadata": {},
   "outputs": [],
   "source": [
    "#116.CSVファイルの入出力①\n",
    "import csv\n",
    "with open('departments.csv', 'r') as csvfile:\n",
    "    data = csv.reader(csvfile)\n",
    "    oders = [row for row in data]\n",
    "for s in oders:\n",
    "    print(s)\n"
   ]
  },
  {
   "cell_type": "code",
   "execution_count": null,
   "metadata": {},
   "outputs": [],
   "source": [
    "#117.CSVファイルの入出力②\n",
    "import csv\n",
    "with open('departments.csv', 'r') as csvfile:\n",
    "    data1 = csv.reader(csvfile)\n",
    "    oders1 = [row for row in data1]\n",
    "with open('departments.csv', 'r') as csvfile:\n",
    "    data2 = csv.DictReader(csvfile)\n",
    "    oders2 = [row for row in data2]\n",
    "\n",
    "for s in oders1:\n",
    "    if '製品開発部' in s:\n",
    "        print(f'製品開発部ID:{s[0]}')\n",
    "\n",
    "for s in oders2:\n",
    "    if s['部門名'] == 'マーケティング部':\n",
    "        w = s['部門ID']\n",
    "        print(f'マーケティング部ID:{w}')\n"
   ]
  },
  {
   "cell_type": "code",
   "execution_count": null,
   "metadata": {},
   "outputs": [],
   "source": [
    "#118.CSVファイルの入出力③\n",
    "import csv\n",
    "with open('countries.csv', 'r') as csvfile:\n",
    "    data = csv.reader(csvfile, delimiter='|')\n",
    "    for row in data:\n",
    "        print(','.join(row))"
   ]
  },
  {
   "cell_type": "code",
   "execution_count": null,
   "metadata": {},
   "outputs": [],
   "source": [
    "#119.CSVファイルの入出力④\n",
    "import csv\n",
    "with open('countries2.csv', 'r') as csvfile:\n",
    "    data = csv.reader(csvfile, delimiter='|', skipinitialspace=True, quoting=csv.QUOTE_ALL)\n",
    "    for row in data:\n",
    "        print(','.join(row))"
   ]
  },
  {
   "cell_type": "code",
   "execution_count": null,
   "metadata": {},
   "outputs": [],
   "source": [
    "#120.CSVファイルの入出力⑤\n",
    "import csv\n",
    "oder = [\n",
    "    ['id','name','price'],\n",
    "    ['101','Wireless Mouse',3500],\n",
    "    ['102','4K Display',55000],\n",
    "    ['103','Intel Core i9 PC',120000]\n",
    "]\n",
    "with open('oder.csv', 'w', newline='') as csvfile:\n",
    "    csvout = csv.writer(csvfile)\n",
    "    csvout.writerows(oder)"
   ]
  },
  {
   "cell_type": "code",
   "execution_count": null,
   "metadata": {},
   "outputs": [],
   "source": [
    "#121.CSVファイルの入出力⑥\n",
    "import csv\n",
    "with open('oder.csv', 'r') as csvfile:\n",
    "    data = csv.DictReader(csvfile)\n",
    "    oders = [row for row in data]\n",
    "for item in oders:\n",
    "    if item['id'] == '103':\n",
    "        print(f\"Price{item['id']}: {item['price']}yen\")\n"
   ]
  },
  {
   "cell_type": "code",
   "execution_count": null,
   "metadata": {},
   "outputs": [],
   "source": [
    "#122.JSONファイルの入出力①\n",
    "import json\n",
    "\n",
    "dic = {'japanese': '日本語', 'english': '英語'}\n",
    "text = json.dumps(dic, sort_keys=True, ensure_ascii=False, indent=2)\n",
    "#text = json.dumps(dic)\n",
    "with open('sample.json', 'w', encoding='utf-8') as fh:\n",
    "    fh.write(text)\n",
    "\n",
    "#別解答\n",
    "#dic = {'japanese': '日本語', 'english': '英語'}\n",
    "#with open('sample.json', 'w', encoding='utf-8') as fh:\n",
    "#    json.dump(dic, fh, sort_keys=True, ensure_ascii=False, indent=2)"
   ]
  },
  {
   "cell_type": "code",
   "execution_count": null,
   "metadata": {},
   "outputs": [],
   "source": [
    "#123.JSONファイルの入出力②\n",
    "import json\n",
    "\n",
    "with open('sample.json', 'r', encoding='utf-8') as fh:\n",
    "#    js = json.load(fh)\n",
    "    js = json.loads(fh.read())\n",
    "    print(js)\n",
    "    print(js['japanese'])"
   ]
  },
  {
   "cell_type": "code",
   "execution_count": null,
   "metadata": {},
   "outputs": [],
   "source": [
    "#124.JSONファイルの入出力③\n",
    "import json\n",
    "\n",
    "books = {'book1':{'title':'Python3入門', '年':2020, 'page':567},\n",
    " 'book2':{'title':'Python Developers', '年':2021, 'page':650},\n",
    " 'book3':{'title':'Pythonゲーム入門', '年':2019, 'page':344},\n",
    " 'book4':{'title':'Pythonデータ分析', '年':2018, 'page':478},\n",
    " 'book5':{'title':'Python自動処理', '年':2020, 'page':352}}\n",
    "\n",
    "text = json.dumps(books, sort_keys=True, ensure_ascii=False, indent=2)\n",
    "with open('sample.json', 'w', encoding='utf-8') as fh:\n",
    "    fh.write(text)\n",
    "\n",
    "#with open('sample.json', 'w', encoding='utf-8') as fh:\n",
    "#    json.dump(books, fh, sort_keys=True, ensure_ascii=False, indent=2)"
   ]
  },
  {
   "cell_type": "code",
   "execution_count": null,
   "metadata": {},
   "outputs": [],
   "source": [
    "#125.JSONファイルの入出力④\n",
    "import json\n",
    "\n",
    "with open('sample.json', 'r', encoding='utf-8') as f:\n",
    "    json_dict = json.loads(f.read())\n",
    "#    json_dict = json.load(f)\n",
    "print(type(json_dict))\n",
    "print(f'book1のタイトル：{json_dict[\"book1\"][\"title\"]}')\n",
    "print(f'book3のページ数:{json_dict[\"book3\"][\"page\"]}')"
   ]
  },
  {
   "cell_type": "code",
   "execution_count": null,
   "metadata": {},
   "outputs": [],
   "source": [
    "#126.JSONファイルの入出力⑤\n",
    "import json\n",
    "\n",
    "class Person:\n",
    "    def __init__(self, name, age, city):\n",
    "        self.name = name\n",
    "        self.age = age\n",
    "        self.city = city\n",
    "\n",
    "persons = []\n",
    "persons.append(Person('Yamada',25,'Tokyo').__dict__)\n",
    "persons.append(Person('Tanaka',40,'Osaka').__dict__)\n",
    "with open('persons.json', 'w', encoding='utf-8') as f:\n",
    "    json.dump(persons, f, sort_keys=True, ensure_ascii=False, indent=2)"
   ]
  },
  {
   "cell_type": "code",
   "execution_count": null,
   "metadata": {},
   "outputs": [],
   "source": [
    "#127.ファイルとディレクトリ①\n",
    "import os\n",
    "\n",
    "if not os.path.exists('example'):\n",
    "    os.mkdir('example')\n",
    "text = input('>> ')\n",
    "with open('example/sample.txt', 'w') as fout:\n",
    "    fout.write(text+'\\n')\n",
    "    #print(text, file=fout)\n",
    "\n",
    "os.path.exists('example/sample.txt')\n"
   ]
  },
  {
   "cell_type": "code",
   "execution_count": null,
   "metadata": {},
   "outputs": [],
   "source": [
    "#128.ファイルとディレクトリ②\n",
    "import os\n",
    "from datetime import datetime\n",
    "\n",
    "dstr = datetime.now().strftime('%Y%m%d%H%M%S')\n",
    "if not os.path.exists('example'):\n",
    "    os.mkdir('example')\n",
    "text = input('>> ')\n",
    "fname = 'example/sample' + dstr + '.txt'\n",
    "with open(fname, 'w') as fout:\n",
    "    fout.write(text+'\\n')\n",
    "    #print(text, file=fout)\n",
    "\n",
    "os.path.exists(fname)"
   ]
  },
  {
   "cell_type": "code",
   "execution_count": null,
   "metadata": {},
   "outputs": [],
   "source": [
    "#129.ファイルとディレクトリ③\n",
    "import os\n",
    "\n",
    "flist = os.listdir('example')\n",
    "print(flist)\n",
    "full = [os.path.abspath(name) for name in flist]\n",
    "print(full)"
   ]
  },
  {
   "cell_type": "code",
   "execution_count": null,
   "metadata": {},
   "outputs": [],
   "source": [
    "#130.ファイルとディレクトリ④\n",
    "import os\n",
    "\n",
    "names = input('削除ファイル >>').split(',')\n",
    "for f in names:\n",
    "    os.remove('example/'+f)\n",
    "print(f'{names}を削除しました。')"
   ]
  },
  {
   "cell_type": "code",
   "execution_count": null,
   "metadata": {},
   "outputs": [],
   "source": [
    "#131.ファイルとディレクトリ⑤\n",
    "import os\n",
    "from datetime import datetime\n",
    "\n",
    "fname = input('ファイル名 >>')\n",
    "dstr = 'example/' + datetime.now().strftime('%Y%m%d')\n",
    "if not os.path.exists(dstr):\n",
    "    os.mkdir(dstr)\n",
    "with open(dstr+'/'+fname, 'wt') as fout:\n",
    "    fout.write('Hello World !!\\n')\n"
   ]
  },
  {
   "cell_type": "code",
   "execution_count": null,
   "metadata": {},
   "outputs": [],
   "source": [
    "#132.ファイルとディレクトリ⑥\n",
    "import os\n",
    "\n",
    "def delete(path):\n",
    "    for name in os.listdir(path):\n",
    "        rm = path + name\n",
    "        if os.path.isfile(rm):\n",
    "            os.remove(rm)\n",
    "        if os.path.isdir(rm):\n",
    "            delete(rm+'/')\n",
    "            os.rmdir(rm)\n",
    "\n",
    "delete('example/')\n"
   ]
  },
  {
   "cell_type": "code",
   "execution_count": null,
   "metadata": {},
   "outputs": [],
   "source": [
    "#133.ファイルとディレクトリ⑦\n",
    "import os\n",
    "\n",
    "path = input('>> ')\n",
    "dirs = []\n",
    "files = []\n",
    "for name in os.listdir(path):\n",
    "    w = os.path.join(path, name)\n",
    "    if os.path.isdir(w):\n",
    "        dirs.append(name)\n",
    "    elif os.path.isfile(w):\n",
    "        files.append(name)\n",
    "\n",
    "print('ディレクトリ一覧:')\n",
    "print(dirs)\n",
    "#print([ name for name in os.listdir(path) if os.path.isdir(os.path.join(path, name)) ])\n",
    "print('ファイル一覧:')\n",
    "print(files)\n",
    "#print([ name for name in os.listdir(path) if os.path.isfile(os.path.join(path, name)) ])\n"
   ]
  },
  {
   "cell_type": "code",
   "execution_count": null,
   "metadata": {},
   "outputs": [],
   "source": [
    "#134.ファイルとディレクトリ⑧\n",
    "import os\n",
    "\n",
    "path = input('>> ')\n",
    "with os.scandir(path) as it:\n",
    "    dirs = [entry.name for entry in it if entry.is_dir()]\n",
    "with os.scandir(path) as it:\n",
    "    files = [entry.name for entry in it if entry.is_file()]\n",
    "\n",
    "print('ディレクトリ一覧:')\n",
    "print(dirs)\n",
    "print('ファイル一覧:')\n",
    "print(files)"
   ]
  },
  {
   "cell_type": "code",
   "execution_count": null,
   "metadata": {},
   "outputs": [],
   "source": [
    "#135.ファイルとディレクトリ⑨\n",
    "import pathlib\n",
    "\n",
    "path = input('>> ')\n",
    "dirs, files = [],[]\n",
    "file_dir = pathlib.Path(path)\n",
    "for p in file_dir.iterdir():\n",
    "    if p.is_dir():\n",
    "        dirs.append(p.name)\n",
    "    elif p.is_file():\n",
    "        files.append(p.name)\n",
    "\n",
    "print('ディレクトリ一覧:')\n",
    "print(dirs)\n",
    "#print([p.name for p in pathlib.Path(path).iterdir() if p.is_dir()])\n",
    "print('ファイル一覧:')\n",
    "print(files)\n",
    "#print([p.name for p in pathlib.Path(path).iterdir() if p.is_file()])\n"
   ]
  },
  {
   "cell_type": "code",
   "execution_count": null,
   "metadata": {},
   "outputs": [],
   "source": [
    "#136.ファイルとディレクトリ⑩\n",
    "import os\n",
    "import glob\n",
    "\n",
    "path = input('>> ')\n",
    "print(glob.glob(os.path.join(path, '*.py')))\n"
   ]
  },
  {
   "cell_type": "code",
   "execution_count": null,
   "metadata": {},
   "outputs": [],
   "source": [
    "#137.ファイルとディレクトリ⑪\n",
    "import pathlib\n",
    "\n",
    "path = input('>> ')\n",
    "files = []\n",
    "path = pathlib.Path(path)\n",
    "for p in path.iterdir():\n",
    "    if p.match('*.py'):\n",
    "        files.append(p.name)\n",
    "\n",
    "print('Pythonプログラム一覧:')\n",
    "print(files)\n",
    "#print([p.name for p in pathlib.Path(path).iterdir() if p.match('*.py')])"
   ]
  }
 ],
 "metadata": {
  "kernelspec": {
   "display_name": "Python 3",
   "language": "python",
   "name": "python3"
  },
  "language_info": {
   "codemirror_mode": {
    "name": "ipython",
    "version": 3
   },
   "file_extension": ".py",
   "mimetype": "text/x-python",
   "name": "python",
   "nbconvert_exporter": "python",
   "pygments_lexer": "ipython3",
   "version": "3.10.11"
  },
  "orig_nbformat": 4,
  "vscode": {
   "interpreter": {
    "hash": "ab64589ac9d6bd956e857448da5e411ff91b136249a71239f0da316d67e65b64"
   }
  }
 },
 "nbformat": 4,
 "nbformat_minor": 2
}
