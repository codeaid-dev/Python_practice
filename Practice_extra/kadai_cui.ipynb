{
 "cells": [
  {
   "cell_type": "code",
   "execution_count": null,
   "metadata": {},
   "outputs": [],
   "source": [
    "#偶数の山と奇数の山\n",
    "num = int(input('入力>>'))\n",
    "result = [num+2*i for i in range(num)]\n",
    "print(result)"
   ]
  },
  {
   "cell_type": "code",
   "execution_count": null,
   "metadata": {},
   "outputs": [],
   "source": [
    "#入力した文字の長さ\n",
    "strings = list(input('入力>>').split(','))\n",
    "print(strings)\n",
    "nums = [len(s) for s in strings]\n",
    "print(nums)"
   ]
  },
  {
   "cell_type": "code",
   "execution_count": null,
   "metadata": {},
   "outputs": [],
   "source": [
    "#母音を数える\n",
    "a = 'あぁかがさざただなはばぱまやゃらわゎ'\n",
    "i = 'いぃきぎしじちぢにひびぴみり'\n",
    "u = 'うぅくぐすずつづぬふぶぷむゆゅる'\n",
    "e = 'えぇけげせぜてでねへべぺめれ'\n",
    "o = 'おぉこごそぞとどのほぼぽもよょろを'\n",
    "y = 'ゃゅょゎぁぃぅぇぉ'\n",
    "cnt = [0]*5\n",
    "strings = input('入力>>')\n",
    "for n,s in enumerate(strings):\n",
    "    if n < len(strings)-1 and strings[n+1] in y:\n",
    "        continue\n",
    "    if s in a:\n",
    "        cnt[0] += 1\n",
    "    elif s in i:\n",
    "        cnt[1] +=1\n",
    "    elif s in u:\n",
    "        cnt[2] +=1\n",
    "    elif s in e:\n",
    "        cnt[3] +=1\n",
    "    elif s in o:\n",
    "        cnt[4] +=1\n",
    "print(f'あ段：{cnt[0]}個、い段：{cnt[1]}個、う段：{cnt[2]}個、え段：{cnt[3]}個、お段：{cnt[4]}個')"
   ]
  },
  {
   "cell_type": "code",
   "execution_count": null,
   "metadata": {},
   "outputs": [],
   "source": [
    "#増加しているのか減少しているのか\n",
    "nums = list(map(int, input('入力>>').split(',')))\n",
    "flag = None\n",
    "for i in range(len(nums)-1):\n",
    "    if nums[i] < nums[i+1] and (flag == None or flag == 1):\n",
    "        flag = 1\n",
    "    elif nums[i] > nums[i+1] and (flag == None or flag == 2):\n",
    "        flag = 2\n",
    "    else:\n",
    "        flag = 0\n",
    "if flag == 1:\n",
    "    print('増加している')\n",
    "elif flag == 2:\n",
    "    print('減少している')\n",
    "else:\n",
    "    print('どちらでもない')\n",
    "\n",
    "#別解\n",
    "if all(nums[i] < nums[i+1] for i in range(len(nums)-1)):\n",
    "    print('増加している')\n",
    "elif all(nums[i] > nums[i+1] for i in range(len(nums)-1)):\n",
    "    print('減少している')\n",
    "else:\n",
    "    print('どちらでもない')"
   ]
  },
  {
   "cell_type": "code",
   "execution_count": null,
   "metadata": {},
   "outputs": [],
   "source": [
    "#顔文字を描く\n",
    "result = ''\n",
    "for row in range(6):\n",
    "    for col in range(15):\n",
    "        if row in (0,6) and col in (2,12):\n",
    "            result += '*'\n",
    "        elif row == 1 and col in (1,13):\n",
    "            result += '*'\n",
    "        elif row == 2 and col in (0,3,4,5,9,10,11,14):\n",
    "            result += '*'\n",
    "        elif row == 3 and col in (0,14):\n",
    "            result += '*'\n",
    "        elif row == 4 and col in (1,5,6,7,8,9,13):\n",
    "            result += '*'\n",
    "        elif row == 5 and col in (2,12):\n",
    "            result += '*'\n",
    "        else:\n",
    "            result += ' '\n",
    "    result += '\\n'\n",
    "print(result)"
   ]
  },
  {
   "cell_type": "code",
   "execution_count": null,
   "metadata": {},
   "outputs": [],
   "source": [
    "#カッコの範囲\n",
    "while True:\n",
    "    kakko = input('入力>>')\n",
    "    kakko = kakko.replace(' ','')\n",
    "    cnt=0\n",
    "    for s in kakko:\n",
    "        if s == '(':\n",
    "            cnt += 1\n",
    "        elif s == ')':\n",
    "            cnt -= 1\n",
    "        if cnt < 0:\n",
    "            break\n",
    "    else:\n",
    "        if (kakko.count('(')==kakko.count(')')) and (len(kakko)==kakko.count('(')+kakko.count(')')):\n",
    "            break\n",
    "result = ''\n",
    "for s in kakko:\n",
    "    result += s\n",
    "    if result.count('(') == result.count(')'):\n",
    "        print(result)\n",
    "        result = ''\n"
   ]
  }
 ],
 "metadata": {
  "kernelspec": {
   "display_name": "Python 3.10.3 64-bit ('3.10.3')",
   "language": "python",
   "name": "python3"
  },
  "language_info": {
   "codemirror_mode": {
    "name": "ipython",
    "version": 3
   },
   "file_extension": ".py",
   "mimetype": "text/x-python",
   "name": "python",
   "nbconvert_exporter": "python",
   "pygments_lexer": "ipython3",
   "version": "3.10.3"
  },
  "orig_nbformat": 4,
  "vscode": {
   "interpreter": {
    "hash": "ab64589ac9d6bd956e857448da5e411ff91b136249a71239f0da316d67e65b64"
   }
  }
 },
 "nbformat": 4,
 "nbformat_minor": 2
}
