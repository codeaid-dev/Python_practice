{
 "cells": [
  {
   "cell_type": "code",
   "execution_count": null,
   "metadata": {},
   "outputs": [],
   "source": [
    "#1\n",
    "a,b,c = 10,20,30\n",
    "print((a+b+c)/3)\n"
   ]
  },
  {
   "cell_type": "code",
   "execution_count": null,
   "metadata": {},
   "outputs": [],
   "source": [
    "#3\n",
    "a = 7.0 + 4\n",
    "b = 7.0 * 4\n",
    "c = 7 // 4\n",
    "d = 7 / 4\n",
    "e = 7 % 4\n",
    "f = '1' + '2'\n",
    "g = True"
   ]
  },
  {
   "cell_type": "code",
   "execution_count": null,
   "metadata": {},
   "outputs": [],
   "source": [
    "#4\n",
    "a = 2\n",
    "b = '2'\n",
    "c = 3\n",
    "d = 4\n",
    "print(b+str(d)+str(a*c))\n",
    "print(str(a*100+d*10+int(b)*3))"
   ]
  },
  {
   "cell_type": "code",
   "execution_count": null,
   "metadata": {},
   "outputs": [],
   "source": [
    "#5\n",
    "#2 * 5 = 10\n",
    "print(int(10/2))\n",
    "#30 / 15 = 2\n",
    "print(int(30/2))\n",
    "#3 * 5 / 10 = 1.5\n",
    "print(int(1.5*10/3))\n",
    "#(5 + 8) * 20 = 260\n",
    "print(int(260/20-5))\n",
    "#3 + 4 * 5 + 7 = 30\n",
    "print(int((30-10)/4))\n",
    "#2 * 9 / 3 + 5 = 11\n",
    "print(int((11-5)*3/2))\n",
    "#3 + 9 / 3 - 4 = 2\n",
    "print(int(3+9/3-2))"
   ]
  },
  {
   "cell_type": "code",
   "execution_count": null,
   "metadata": {},
   "outputs": [],
   "source": [
    "#6\n",
    "print(\"I'm Yamada. The \\\"Osaka\\\" is my home town.\")"
   ]
  },
  {
   "cell_type": "code",
   "execution_count": null,
   "metadata": {},
   "outputs": [],
   "source": [
    "#7\n",
    "name = '山田'\n",
    "sweets = 'ケーキ'\n",
    "kinds = 'モンブラン'\n",
    "print(f'{name}さんの好きな{sweets}は{kinds}です')"
   ]
  },
  {
   "cell_type": "code",
   "execution_count": null,
   "metadata": {},
   "outputs": [],
   "source": [
    "#8\n",
    "s = 'abcdefghijk'\n",
    "print(s[3])\n",
    "print(s[-1])\n",
    "print(s[-3])\n",
    "print(s[4:7])\n",
    "print(s[1::2])"
   ]
  },
  {
   "cell_type": "code",
   "execution_count": null,
   "metadata": {},
   "outputs": [],
   "source": [
    "#9\n",
    "prefs = 'なにわ和泉堺大阪神戸姫路'\n",
    "kanas = 'あいうえおかきくけこさしすせそ'\n",
    "kind = 310\n",
    "ch = kanas[12]\n",
    "num = 1234\n",
    "print(f'{prefs[6:8]} {kind} {ch} {num}')"
   ]
  },
  {
   "cell_type": "code",
   "execution_count": null,
   "metadata": {},
   "outputs": [],
   "source": [
    "#10\n",
    "word = input('入力 >>')\n",
    "print(word + word[-2:] * 3)"
   ]
  },
  {
   "cell_type": "code",
   "execution_count": null,
   "metadata": {},
   "outputs": [],
   "source": [
    "#11\n",
    "p = int(input('料金>>'))\n",
    "pay = p // 3\n",
    "pay_a = p%3+pay\n",
    "print(f'Aさん{pay_a}円、Bさん{pay}円、Cさん{pay}円')"
   ]
  },
  {
   "cell_type": "code",
   "execution_count": null,
   "metadata": {},
   "outputs": [],
   "source": [
    "#12\n",
    "up = int(input('上底 >>'))\n",
    "base = int(input('下底 >>'))\n",
    "height = int(input('高さ >>'))\n",
    "print('上底{}cmと下底{}cmで高さ{}cmの台形の面積は{}平方cmです。'.format(up, base, height, (up+base)*height/2))\n",
    "print(f'上底{up}cmと下底{base}cmで高さ{height}cmの台形の面積は{(up+base)*height/2}平方cmです。')"
   ]
  },
  {
   "cell_type": "code",
   "execution_count": null,
   "metadata": {},
   "outputs": [],
   "source": [
    "#13\n",
    "a = int(input('左辺入力 >>'))\n",
    "b = int(input('右辺入力 >>'))\n",
    "print(f'{a}割る{b}は、{a//b}余り{a%b}です')"
   ]
  },
  {
   "cell_type": "code",
   "execution_count": null,
   "metadata": {},
   "outputs": [],
   "source": [
    "#14\n",
    "str1 = 'コーヒーと紅茶のどちらがいいですか？'\n",
    "str2 = str1.replace('コーヒーと紅茶', 'アイスとケーキ')\n",
    "print(str1+'\\n'+str2)"
   ]
  },
  {
   "cell_type": "code",
   "execution_count": null,
   "metadata": {},
   "outputs": [],
   "source": [
    "#15\n",
    "words = 'しばらくすると天気が雨に変わった'\n",
    "index = words.find('雨')\n",
    "print(words[:index]+'晴れ'+words[index+1:])\n",
    "#print(words[0:index]+'晴れ'+words[index+1:len(words)])"
   ]
  },
  {
   "cell_type": "code",
   "execution_count": null,
   "metadata": {},
   "outputs": [],
   "source": [
    "#16\n",
    "zen = '''The Zen of Python, by Tim Peters\n",
    "醜いより美しい方がいい\n",
    "暗黙より明示の方がいい\n",
    "複雑より単純の方がいい\n",
    "極端な複雑よりただの複雑の方がいい\n",
    "入れ子よりフラットの方がいい\n",
    "蜜よりも疎の方がいい\n",
    "読みやすさは大切だ'''\n",
    "print('この文章は'+str(zen.count(\"\\n\")+1)+'行あります。')"
   ]
  },
  {
   "cell_type": "code",
   "execution_count": null,
   "metadata": {},
   "outputs": [],
   "source": [
    "#17\n",
    "turi = 1000 - 333\n",
    "print(f'500円玉は{int(turi/500)}枚')\n",
    "turi = turi % 500\n",
    "print(f'100円玉は{int(turi/100)}枚')\n",
    "turi = turi % 100\n",
    "print(f'50円玉は{int(turi/50)}枚')\n",
    "turi = turi % 50\n",
    "print(f'10円玉は{int(turi/10)}枚')\n",
    "turi = turi % 10\n",
    "print(f'5円玉は{int(turi/5)}枚')\n",
    "print(f'1円玉は{turi%5}枚')"
   ]
  },
  {
   "cell_type": "code",
   "execution_count": null,
   "metadata": {},
   "outputs": [],
   "source": [
    "#18\n",
    "w1 = \"5634\"\n",
    "w2 = \"1278\"\n",
    "new_w1 = w2[:2] + w1[2:]\n",
    "new_w2 = w1[:2] + w2[2:]\n",
    "print(new_w1 + ' ' + new_w2)"
   ]
  },
  {
   "cell_type": "code",
   "execution_count": null,
   "metadata": {},
   "outputs": [],
   "source": [
    "#19\n",
    "kao = input('入力 >>')\n",
    "print(kao)\n",
    "print(f'左向きは{kao.count(\"(^^*)\")}個、右向きは{kao.count(\"(*^^)\")}個')"
   ]
  },
  {
   "cell_type": "code",
   "execution_count": null,
   "metadata": {},
   "outputs": [],
   "source": [
    "#20\n",
    "w = input('入力 >>')\n",
    "print(f'{w[:int(len(w)/2)]}')"
   ]
  },
  {
   "cell_type": "code",
   "execution_count": null,
   "metadata": {},
   "outputs": [],
   "source": [
    "#21\n",
    "word = input('入力 >>')\n",
    "num = int(input('文字数 >>'))\n",
    "print(word[:num].upper() + word[num:])"
   ]
  },
  {
   "cell_type": "code",
   "execution_count": null,
   "metadata": {},
   "outputs": [],
   "source": [
    "#22\n",
    "letters = 'abcdefghijklmnopqrstuvwxyz'\n",
    "print(letters[-10:]) #最後の10文字\n",
    "print(letters[5:-9]) #オフセット5から末尾より10文字まで\n",
    "print(letters[::3]) #先頭から3文字ごと\n",
    "print(letters[-7:-3]) #末尾の7文字手前から末尾の4文字手前まで\n",
    "print(letters[::-1]) #逆順となる"
   ]
  },
  {
   "cell_type": "code",
   "execution_count": null,
   "metadata": {},
   "outputs": [],
   "source": [
    "#23\n",
    "N = int(input('入力1 >>'))\n",
    "M = int(input('入力2 >>'))\n",
    "print(f'{N}x{M}={N*M}の結果は{len(str(N*M))}桁')"
   ]
  },
  {
   "cell_type": "code",
   "execution_count": null,
   "metadata": {},
   "outputs": [],
   "source": [
    "#24\n",
    "dist = int(input('距離 >>'))\n",
    "speed = int(input('時速 >>'))\n",
    "print(f'AからBへは{dist//speed}時間{int((dist%speed)/speed*60)}分必要です')"
   ]
  },
  {
   "cell_type": "code",
   "execution_count": null,
   "metadata": {},
   "outputs": [],
   "source": [
    "#25\n",
    "num = input('入力 >>')\n",
    "n1 = int(num)\n",
    "n2 = int(num*2)\n",
    "n3 = int(num*3)\n",
    "print(n1,n2,n3)\n",
    "print(n1+n2+n3)"
   ]
  },
  {
   "cell_type": "code",
   "execution_count": null,
   "metadata": {},
   "outputs": [],
   "source": [
    "#26\n",
    "w1 = input('入力 >>')\n",
    "w2 = \"真ん中\"\n",
    "mid = int(len(w1)/2)\n",
    "w3 = w1[:mid:]+w2+w1[mid:]\n",
    "print(w3)"
   ]
  },
  {
   "cell_type": "code",
   "execution_count": null,
   "metadata": {},
   "outputs": [],
   "source": [
    "#27\n",
    "string = input('入力 >>')\n",
    "length = len(string)\n",
    "pos = length//3\n",
    "print(f'{string[pos:pos*2]}')"
   ]
  },
  {
   "cell_type": "code",
   "execution_count": null,
   "metadata": {},
   "outputs": [],
   "source": []
  },
  {
   "cell_type": "code",
   "execution_count": null,
   "metadata": {},
   "outputs": [],
   "source": [
    "nums = (1,2,3,4,5)\n",
    "print(nums)\n",
    "nums = list(nums)\n",
    "print(nums)\n",
    "nums = {'a':nums[0],'b':nums[1],'c':nums[2],'d':nums[3],'e':nums[4]}\n",
    "print(nums)"
   ]
  },
  {
   "cell_type": "code",
   "execution_count": null,
   "metadata": {},
   "outputs": [],
   "source": [
    "result = list(input('入力 >>').split(','))\n",
    "print(result)"
   ]
  },
  {
   "cell_type": "code",
   "execution_count": null,
   "metadata": {},
   "outputs": [],
   "source": [
    "work = [10,20,30,40,50,60,70,80]\n",
    "print(work[:4])\n",
    "print(work[2:6])\n",
    "print(work[::3])"
   ]
  },
  {
   "cell_type": "code",
   "execution_count": null,
   "metadata": {},
   "outputs": [],
   "source": [
    "work = ['one','two','three','eight','four']\n",
    "work.remove('eight')\n",
    "print(work)\n",
    "del work[-2:]\n",
    "print(work)"
   ]
  },
  {
   "cell_type": "code",
   "execution_count": null,
   "metadata": {},
   "outputs": [],
   "source": [
    "w1 = ['12','34','56','gh']\n",
    "w2 = ['ab','cd','ef','78']\n",
    "s = w1.pop()\n",
    "n = w2.pop()\n",
    "w1.append(n)\n",
    "w2.append(s)\n",
    "print(w1)\n",
    "print(w2)\n"
   ]
  },
  {
   "cell_type": "code",
   "execution_count": null,
   "metadata": {},
   "outputs": [],
   "source": [
    "nums = [\n",
    "    ['100', '101'],\n",
    "    ['102', '103'],\n",
    "    ['104', '105']\n",
    "]\n",
    "print(nums[0][0]+','+nums[2][1])"
   ]
  },
  {
   "cell_type": "code",
   "execution_count": null,
   "metadata": {},
   "outputs": [],
   "source": [
    "s = 'abcdef'\n",
    "w = list(s)\n",
    "w = w[1::2]\n",
    "print(w)"
   ]
  },
  {
   "cell_type": "code",
   "execution_count": null,
   "metadata": {},
   "outputs": [],
   "source": [
    "s = 'abcdef'\n",
    "w = list(s)\n",
    "w = w[1::2]\n",
    "w.insert(0,'a')\n",
    "w.insert(2,'c')\n",
    "w.insert(4,'e')\n",
    "print(w)"
   ]
  },
  {
   "cell_type": "code",
   "execution_count": null,
   "metadata": {},
   "outputs": [],
   "source": [
    "chrs = ['a', 'b', ['c', 'd', ['e', 'f'], 'h'], 'i', 'j']"
   ]
  }
 ],
 "metadata": {
  "interpreter": {
   "hash": "e175e2d1a69ec44a53513b33867561d513a585d5b2228589977b3e28bb8f7a45"
  },
  "kernelspec": {
   "display_name": "Python 3.9.2 64-bit ('3.9.2': pyenv)",
   "name": "python3"
  },
  "language_info": {
   "codemirror_mode": {
    "name": "ipython",
    "version": 3
   },
   "file_extension": ".py",
   "mimetype": "text/x-python",
   "name": "python",
   "nbconvert_exporter": "python",
   "pygments_lexer": "ipython3",
   "version": "3.9.2"
  }
 },
 "nbformat": 4,
 "nbformat_minor": 4
}