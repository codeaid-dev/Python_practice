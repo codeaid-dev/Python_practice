{
 "cells": [
  {
   "cell_type": "code",
   "execution_count": null,
   "source": [
    "#1\n",
    "a,b,c = 10,20,30\n",
    "print((a+b+c)/3)\n"
   ],
   "outputs": [],
   "metadata": {}
  },
  {
   "cell_type": "code",
   "execution_count": null,
   "source": [
    "#3\n",
    "a = 7.0 + 4\n",
    "b = 7.0 * 4\n",
    "c = 7 // 4\n",
    "d = 7 / 4\n",
    "e = 7 % 4\n",
    "f = '1' + '2'\n",
    "g = True"
   ],
   "outputs": [],
   "metadata": {}
  },
  {
   "cell_type": "code",
   "execution_count": null,
   "source": [
    "#4\n",
    "a = 2\n",
    "b = '2'\n",
    "c = 3\n",
    "d = 4\n",
    "print(b+str(d)+str(a*c))\n",
    "print(str(a*100+d*10+int(b)*3))"
   ],
   "outputs": [],
   "metadata": {}
  },
  {
   "cell_type": "code",
   "execution_count": null,
   "source": [
    "#5\n",
    "#2 * 5 = 10\n",
    "print(int(10/2))\n",
    "#30 / 15 = 2\n",
    "print(int(30/2))\n",
    "#3 * 5 / 10 = 1.5\n",
    "print(int(1.5*10/3))\n",
    "#(5 + 8) * 20 = 260\n",
    "print(int(260/20-5))\n",
    "#3 + 4 * 5 + 7 = 30\n",
    "print(int((30-10)/4))\n",
    "#2 * 9 / 3 + 5 = 11\n",
    "print(int((11-5)*3/2))\n",
    "#3 + 9 / 3 - 4 = 2\n",
    "print(int(3+9/3-2))"
   ],
   "outputs": [],
   "metadata": {}
  },
  {
   "cell_type": "code",
   "execution_count": null,
   "source": [
    "#6\n",
    "print(\"I'm Yamada. The \\\"Osaka\\\" is my home town.\")"
   ],
   "outputs": [],
   "metadata": {}
  },
  {
   "cell_type": "code",
   "execution_count": null,
   "source": [
    "#7\n",
    "name = '山田'\n",
    "sweets = 'ケーキ'\n",
    "kinds = 'モンブラン'\n",
    "print(f'{name}さんの好きな{sweets}は{kinds}です')"
   ],
   "outputs": [],
   "metadata": {}
  },
  {
   "cell_type": "code",
   "execution_count": null,
   "source": [
    "#8\n",
    "s = 'abcdefghijk'\n",
    "print(s[3])\n",
    "print(s[-1])\n",
    "print(s[-3])\n",
    "print(s[4:7])\n",
    "print(s[1::2])"
   ],
   "outputs": [],
   "metadata": {}
  },
  {
   "cell_type": "code",
   "execution_count": null,
   "source": [
    "#9\n",
    "prefs = 'なにわ和泉堺大阪神戸姫路'\n",
    "kanas = 'あいうえおかきくけこさしすせそ'\n",
    "kind = 310\n",
    "ch = kanas[12]\n",
    "num = 1234\n",
    "print(f'{prefs[6:8]} {kind} {ch} {num}')"
   ],
   "outputs": [],
   "metadata": {}
  },
  {
   "cell_type": "code",
   "execution_count": null,
   "source": [
    "#10\n",
    "word = input('入力 >>')\n",
    "print(word + word[-2:] * 3)"
   ],
   "outputs": [],
   "metadata": {}
  },
  {
   "cell_type": "code",
   "execution_count": null,
   "source": [
    "#11\n",
    "p = int(input('料金>>'))\n",
    "pay = p // 3\n",
    "pay_a = p%3+pay\n",
    "print(f'Aさん{pay_a}円、Bさん{pay}円、Cさん{pay}円')"
   ],
   "outputs": [],
   "metadata": {}
  },
  {
   "cell_type": "code",
   "execution_count": null,
   "source": [
    "#12\n",
    "up = int(input('上底 >>'))\n",
    "base = int(input('下底 >>'))\n",
    "height = int(input('高さ >>'))\n",
    "print('上底{}cmと下底{}cmで高さ{}cmの台形の面積は{}平方cmです。'.format(up, base, height, (up+base)*height/2))\n",
    "print(f'上底{up}cmと下底{base}cmで高さ{height}cmの台形の面積は{(up+base)*height/2}平方cmです。')"
   ],
   "outputs": [],
   "metadata": {}
  },
  {
   "cell_type": "code",
   "execution_count": null,
   "source": [
    "#13\n",
    "a = int(input('左辺入力 >>'))\n",
    "b = int(input('右辺入力 >>'))\n",
    "print(f'{a}割る{b}は、{a//b}余り{a%b}です')"
   ],
   "outputs": [],
   "metadata": {}
  },
  {
   "cell_type": "code",
   "execution_count": null,
   "source": [
    "#14\n",
    "str1 = 'コーヒーと紅茶のどちらがいいですか？'\n",
    "str2 = str1.replace('コーヒーと紅茶', 'アイスとケーキ')\n",
    "print(str1+'\\n'+str2)"
   ],
   "outputs": [],
   "metadata": {}
  },
  {
   "cell_type": "code",
   "execution_count": null,
   "source": [
    "#15\n",
    "words = 'しばらくすると天気が雨に変わった'\n",
    "index = words.find('雨')\n",
    "print(words[:index]+'晴れ'+words[index+1:])\n",
    "#print(words[0:index]+'晴れ'+words[index+1:len(words)])"
   ],
   "outputs": [],
   "metadata": {}
  },
  {
   "cell_type": "code",
   "execution_count": null,
   "source": [
    "#16\n",
    "zen = '''The Zen of Python, by Tim Peters\n",
    "醜いより美しい方がいい\n",
    "暗黙より明示の方がいい\n",
    "複雑より単純の方がいい\n",
    "極端な複雑よりただの複雑の方がいい\n",
    "入れ子よりフラットの方がいい\n",
    "蜜よりも疎の方がいい\n",
    "読みやすさは大切だ'''\n",
    "print('この文章は'+str(zen.count(\"\\n\")+1)+'行あります。')"
   ],
   "outputs": [],
   "metadata": {}
  },
  {
   "cell_type": "code",
   "execution_count": null,
   "source": [
    "#17\n",
    "turi = 1000 - 333\n",
    "print(f'500円玉は{int(turi/500)}枚')\n",
    "turi = turi % 500\n",
    "print(f'100円玉は{int(turi/100)}枚')\n",
    "turi = turi % 100\n",
    "print(f'50円玉は{int(turi/50)}枚')\n",
    "turi = turi % 50\n",
    "print(f'10円玉は{int(turi/10)}枚')\n",
    "turi = turi % 10\n",
    "print(f'5円玉は{int(turi/5)}枚')\n",
    "print(f'1円玉は{turi%5}枚')"
   ],
   "outputs": [],
   "metadata": {}
  },
  {
   "cell_type": "code",
   "execution_count": null,
   "source": [
    "#18\n",
    "w1 = \"5634\"\n",
    "w2 = \"1278\"\n",
    "new_w1 = w2[:2] + w1[2:]\n",
    "new_w2 = w1[:2] + w2[2:]\n",
    "print(new_w1 + ' ' + new_w2)"
   ],
   "outputs": [],
   "metadata": {}
  },
  {
   "cell_type": "code",
   "execution_count": null,
   "source": [
    "#19\n",
    "kao = input('入力 >>')\n",
    "print(kao)\n",
    "print(f'左向きは{kao.count(\"(^^*)\")}個、右向きは{kao.count(\"(*^^)\")}個')"
   ],
   "outputs": [],
   "metadata": {}
  },
  {
   "cell_type": "code",
   "execution_count": null,
   "source": [
    "#20\n",
    "w = input('入力 >>')\n",
    "print(f'{w[:int(len(w)/2)]}')"
   ],
   "outputs": [],
   "metadata": {}
  },
  {
   "cell_type": "code",
   "execution_count": null,
   "source": [
    "#21\n",
    "word = input('入力 >>')\n",
    "num = int(input('文字数 >>'))\n",
    "print(word[:num].upper() + word[num:])"
   ],
   "outputs": [],
   "metadata": {}
  },
  {
   "cell_type": "code",
   "execution_count": null,
   "source": [
    "#22\n",
    "letters = 'abcdefghijklmnopqrstuvwxyz'\n",
    "print(letters[-10:]) #最後の10文字\n",
    "print(letters[5:-9]) #オフセット5から末尾より10文字まで\n",
    "print(letters[::3]) #先頭から3文字ごと\n",
    "print(letters[-7:-3]) #末尾の7文字手前から末尾の4文字手前まで\n",
    "print(letters[::-1]) #逆順となる"
   ],
   "outputs": [],
   "metadata": {}
  },
  {
   "cell_type": "code",
   "execution_count": null,
   "source": [
    "#23\n",
    "N = int(input('入力1 >>'))\n",
    "M = int(input('入力2 >>'))\n",
    "print(f'{N}x{M}={N*M}の結果は{len(str(N*M))}桁')"
   ],
   "outputs": [],
   "metadata": {}
  },
  {
   "cell_type": "code",
   "execution_count": null,
   "source": [
    "#24\n",
    "dist = int(input('距離 >>'))\n",
    "speed = int(input('時速 >>'))\n",
    "print(f'AからBへは{dist//speed}時間{int((dist%speed)/speed*60)}分必要です')"
   ],
   "outputs": [],
   "metadata": {}
  },
  {
   "cell_type": "code",
   "execution_count": null,
   "source": [
    "#25\n",
    "num = input('入力 >>')\n",
    "n1 = int(num)\n",
    "n2 = int(num*2)\n",
    "n3 = int(num*3)\n",
    "print(n1,n2,n3)\n",
    "print(n1+n2+n3)"
   ],
   "outputs": [],
   "metadata": {}
  },
  {
   "cell_type": "code",
   "execution_count": null,
   "source": [
    "#26\n",
    "w1 = input('入力 >>')\n",
    "w2 = \"真ん中\"\n",
    "mid = int(len(w1)/2)\n",
    "w3 = w1[:mid:]+w2+w1[mid:]\n",
    "print(w3)"
   ],
   "outputs": [],
   "metadata": {}
  },
  {
   "cell_type": "code",
   "execution_count": null,
   "source": [
    "#27\n",
    "string = input('入力 >>')\n",
    "length = len(string)\n",
    "pos = length//3\n",
    "print(f'{string[pos:pos*2]}')"
   ],
   "outputs": [],
   "metadata": {}
  },
  {
   "cell_type": "code",
   "execution_count": null,
   "source": [],
   "outputs": [],
   "metadata": {}
  },
  {
   "cell_type": "code",
   "execution_count": null,
   "source": [
    "#コレクション1\n",
    "nums = (1,2,3,4,5)\n",
    "print(nums)\n",
    "#コレクション2\n",
    "nums = list(nums)\n",
    "print(nums)\n",
    "#コレクション3\n",
    "nums = {'a':nums[0],'b':nums[1],'c':nums[2],'d':nums[3],'e':nums[4]}\n",
    "print(nums)"
   ],
   "outputs": [],
   "metadata": {}
  },
  {
   "cell_type": "code",
   "execution_count": null,
   "source": [
    "#コレクション4\n",
    "result = list(input('入力 >>').split(','))\n",
    "print(result)"
   ],
   "outputs": [],
   "metadata": {}
  },
  {
   "cell_type": "code",
   "execution_count": null,
   "source": [
    "#コレクション5\n",
    "work = [10,20,30,40,50,60,70,80]\n",
    "print(work[:4])\n",
    "print(work[2:6])\n",
    "print(work[::3])"
   ],
   "outputs": [],
   "metadata": {}
  },
  {
   "cell_type": "code",
   "execution_count": null,
   "source": [
    "#コレクション6\n",
    "work = ['one','two','three','eight','four']\n",
    "work.remove('eight')\n",
    "print(work)\n",
    "del work[-2:]\n",
    "print(work)"
   ],
   "outputs": [],
   "metadata": {}
  },
  {
   "cell_type": "code",
   "execution_count": null,
   "source": [
    "#コレクション7\n",
    "w1 = ['12','34','56','gh']\n",
    "w2 = ['ab','cd','ef','78']\n",
    "s = w1.pop()\n",
    "n = w2.pop()\n",
    "w1.append(n)\n",
    "w2.append(s)\n",
    "print(w1)\n",
    "print(w2)\n"
   ],
   "outputs": [],
   "metadata": {}
  },
  {
   "cell_type": "code",
   "execution_count": null,
   "source": [
    "#コレクション8\n",
    "nums = [\n",
    "    ['100', '101'],\n",
    "    ['102', '103'],\n",
    "    ['104', '105']\n",
    "]\n",
    "print(nums[0][0]+','+nums[2][1])"
   ],
   "outputs": [],
   "metadata": {}
  },
  {
   "cell_type": "code",
   "execution_count": null,
   "source": [
    "#コレクション9\n",
    "s = 'abcdef'\n",
    "w = list(s)\n",
    "w = w[1::2]\n",
    "print(w)"
   ],
   "outputs": [],
   "metadata": {}
  },
  {
   "cell_type": "code",
   "execution_count": null,
   "source": [
    "#コレクション10\n",
    "s = 'abcdef'\n",
    "w = list(s)\n",
    "w = w[1::2]\n",
    "w.insert(0,'a')\n",
    "w.insert(2,'c')\n",
    "w.insert(4,'e')\n",
    "print(w)"
   ],
   "outputs": [],
   "metadata": {}
  },
  {
   "cell_type": "code",
   "execution_count": null,
   "source": [
    "#コレクション11\n",
    "chrs = ['a', 'b', ['c', 'd', ['e', 'f'], 'h'], 'i', 'j']\n",
    "chrs[2][2].append('g')\n",
    "print(chrs) "
   ],
   "outputs": [],
   "metadata": {}
  },
  {
   "cell_type": "code",
   "execution_count": null,
   "source": [
    "#条件分岐と繰り返し1\n",
    "num = int(input('入力>>'))\n",
    "if num % 2 == 0:\n",
    "    print('偶数です')\n",
    "else:\n",
    "    print('奇数です')"
   ],
   "outputs": [],
   "metadata": {}
  },
  {
   "cell_type": "code",
   "execution_count": null,
   "source": [
    "#条件分岐と繰り返し2\n",
    "s = input('入力>>')\n",
    "if s == '雨':\n",
    "    print('傘をさす')\n",
    "elif s == '晴れ':\n",
    "    print('帽子を被る')\n",
    "else:\n",
    "    print('何もしない')"
   ],
   "outputs": [],
   "metadata": {}
  },
  {
   "cell_type": "code",
   "execution_count": null,
   "source": [
    "#条件分岐と繰り返し3\n",
    "w1 = input('入力1 >>')\n",
    "w2 = input('入力2 >>')\n",
    "if w1.lower() == w2.lower():\n",
    "    print('同じです')\n",
    "else:\n",
    "    print('違います')"
   ],
   "outputs": [],
   "metadata": {}
  },
  {
   "cell_type": "code",
   "execution_count": null,
   "source": [
    "#条件分岐と繰り返し4\n",
    "age = int(input('年齢>>'))\n",
    "if age < 20:\n",
    "    if 1 <= age <= 6:\n",
    "        print('幼児')\n",
    "    elif 7 <= age <= 15:\n",
    "        print('未成年（義務教育対象）')\n",
    "    else:\n",
    "        print('未成年')\n",
    "elif age >= 65:\n",
    "    if age >= 75:\n",
    "        print('後期高齢者')\n",
    "    else:\n",
    "        print('高齢者')\n",
    "else:\n",
    "    print('成人')"
   ],
   "outputs": [],
   "metadata": {}
  },
  {
   "cell_type": "code",
   "execution_count": null,
   "source": [
    "#条件分岐と繰り返し5\n",
    "w1 = input('文字列入力 >>')\n",
    "\n",
    "w2 = ''\n",
    "while len(w2) != 1:\n",
    "    w2 = input('数える文字 >>')\n",
    "\n",
    "count = 0\n",
    "for i in range(len(w1)):\n",
    "    if w1 == w2:\n",
    "        count += 1\n",
    "print(f'\"{w1}\"にある\"{w2}\"の数は、{count}個')"
   ],
   "outputs": [],
   "metadata": {}
  },
  {
   "cell_type": "code",
   "execution_count": null,
   "source": [
    "#条件分岐と繰り返し6\n",
    "w1 = input('文字列入力 >>')\n",
    "\n",
    "w2 = ''\n",
    "while len(w2) == 0 or len(w2) > len(w1):\n",
    "    w2 = input('数える文字列 >>')\n",
    "\n",
    "count = 0\n",
    "for i in range(len(w1)):\n",
    "    if w1[i:i+len(w2)] == w2:\n",
    "        count += 1\n",
    "print(f'\"{w1}\"にある\"{w2}\"の数は、{count}個')"
   ],
   "outputs": [],
   "metadata": {}
  },
  {
   "cell_type": "code",
   "execution_count": null,
   "source": [
    "#条件分岐と繰り返し7\n",
    "s = ''\n",
    "for i in range(1, 31):\n",
    "  if i%3 == 0 and i%5 == 0:\n",
    "    s += \"FizzBuzz\"\n",
    "  elif i%3 == 0:\n",
    "    s += \"Fizz\"\n",
    "  elif i%5 == 0:\n",
    "    s += \"Buzz\"\n",
    "  else:\n",
    "    s += str(i)\n",
    "  s += ' '\n",
    "print(s)\n",
    "\n",
    "#for i in range(1, 31):\n",
    "#  if i%3 == 0 and i%5 == 0:\n",
    "#    print(\"FizzBuzz\", end=' ')\n",
    "#  elif i%3 == 0:\n",
    "#    print(\"Fizz\", end=' ')\n",
    "#  elif i%5 == 0:\n",
    "#    print(\"Buzz\", end=' ')\n",
    "#  else:\n",
    "#    print(i, end=' ')"
   ],
   "outputs": [],
   "metadata": {}
  },
  {
   "cell_type": "code",
   "execution_count": null,
   "source": [
    "#条件分岐と繰り返し8\n",
    "w1 = input('入力1 >>')\n",
    "w2 = input('入力2 >>')\n",
    "cnt = 0\n",
    "for i in range(len(w1)):\n",
    "    if w1[i] == w2[i]:\n",
    "        cnt += 1\n",
    "print(f'同じ文字は：{cnt}個')"
   ],
   "outputs": [],
   "metadata": {}
  },
  {
   "cell_type": "code",
   "execution_count": null,
   "source": [
    "#条件分岐と繰り返し9\n",
    "num = input('入力 >>')\n",
    "total, count = 0, 0\n",
    "while not 'end' == num:\n",
    "    total += int(num)\n",
    "    count += 1\n",
    "    num = input('入力 >>')\n",
    "print(f'{count}回入力・合計{total}・平均{total/count}')"
   ],
   "outputs": [],
   "metadata": {}
  },
  {
   "cell_type": "code",
   "execution_count": null,
   "source": [
    "#条件分岐と繰り返し10\n",
    "temp = {'日':None, '月':None, '火':None, '水':None, '木':None, '金':None, '土':None}\n",
    "for day in temp:\n",
    "    data = float(input(f'{day}曜日のデータを入力 >>'))\n",
    "    temp[day] = data\n",
    "print(temp)\n",
    "\n",
    "#temp = {'日':None, '月':None, '火':None, '水':None, '木':None, '金':None, '土':None}\n",
    "#for day in temp.keys():\n",
    "#    data = float(input(f'{day}曜日のデータを入力 >>'))\n",
    "#    temp[day] = data\n",
    "#print(temp)"
   ],
   "outputs": [],
   "metadata": {}
  },
  {
   "cell_type": "code",
   "execution_count": null,
   "source": [
    "#条件分岐と繰り返し11\n",
    "dic = {\"name\": \"Tanaka\",\n",
    "      \"age\":25, \n",
    "      \"salary\": 150000, \n",
    "      \"city\": \"Tokyo\"}\n",
    "keys = [\"name\", \"salary\"]\n",
    "\n",
    "new_dic = dict()\n",
    "for k in keys:\n",
    "   new_dic[k] = dic[k]\n",
    "print(new_dic)"
   ],
   "outputs": [],
   "metadata": {}
  },
  {
   "cell_type": "code",
   "execution_count": null,
   "source": [
    "#条件分岐と繰り返し12\n",
    "keys = ['a','b','c']\n",
    "values = [1,2,3]\n",
    "dic = dict()\n",
    "for i in range(len(keys)):\n",
    "    dic[keys[i]] = values[i]\n",
    "print(dic)\n",
    "#print(dict(zip(keys, values)))"
   ],
   "outputs": [],
   "metadata": {}
  },
  {
   "cell_type": "code",
   "execution_count": null,
   "source": [
    "#条件分岐と繰り返し13\n",
    "dic = {'c1': 'Red', 'c2': 'Green', 'c3':None, 'c4': 'Blue'}\n",
    "for key in list(dic.keys()):\n",
    "    if dic[key] == None:\n",
    "        del dic[key]\n",
    "print(dic)"
   ],
   "outputs": [],
   "metadata": {}
  },
  {
   "cell_type": "code",
   "execution_count": null,
   "source": [
    "#条件分岐と繰り返し14\n",
    "words = input('入力 >>')\n",
    "remain = input('残す文字 >>')\n",
    "res = ''\n",
    "for char in words:\n",
    "    if char == remain:\n",
    "        res += char\n",
    "print(res)"
   ],
   "outputs": [],
   "metadata": {}
  },
  {
   "cell_type": "code",
   "execution_count": null,
   "source": [
    "#条件分岐と繰り返し15\n",
    "s = input('入力 >>')\n",
    "for w in s:\n",
    "    if s.count(w) >= 2:\n",
    "        print('複数あります')\n",
    "        break\n",
    "else:\n",
    "    print('複数ありません')\n",
    "\n",
    "#if len(s) > len(set(s)):\n",
    "#    print('複数あります')\n",
    "#else:\n",
    "#    print('複数ありません')"
   ],
   "outputs": [],
   "metadata": {}
  },
  {
   "cell_type": "code",
   "execution_count": null,
   "source": [
    "#条件分岐と繰り返し16\n",
    "import random\n",
    "\n",
    "uranai = random.randint(1, 10)\n",
    "if uranai > 0 and uranai <= 1:\n",
    "    print('今日は最高！')\n",
    "elif uranai > 1 and uranai <= 4:\n",
    "    print('今日はそこそこです')\n",
    "elif uranai > 4 and uranai <= 8:\n",
    "    print('今日はまぁまぁ')\n",
    "else:\n",
    "    print('今日は最悪・・・')"
   ],
   "outputs": [],
   "metadata": {}
  },
  {
   "cell_type": "code",
   "execution_count": null,
   "source": [
    "#条件分岐と繰り返し17\n",
    "result = []\n",
    "for i in range(100, 301):\n",
    "    s = str(i)\n",
    "    if int(s[0])%2==0 and int(s[1])%2==0 and int(s[2])%2==0:\n",
    "        result.append(s)\n",
    "print(','.join(result))"
   ],
   "outputs": [],
   "metadata": {}
  },
  {
   "cell_type": "code",
   "execution_count": null,
   "source": [
    "#条件分岐と繰り返し18\n",
    "computers = {\n",
    "    'PC1':{'Intel', 'NVIDIA', 'Crucial'},\n",
    "    'PC2':{'Intel', 'RADEON', 'Corsair'},\n",
    "    'PC3':{'AMD', 'RADEON', 'Micron'},\n",
    "    'PC4':{'Intel', 'NVIDIA', 'Corsair'},\n",
    "    'PC5':{'AMD', 'NVIDIA', 'Sillicon Power'}\n",
    "}\n",
    "for name, contents in computers.items():\n",
    "    if 'NVIDIA' in contents:\n",
    "        print(name)"
   ],
   "outputs": [],
   "metadata": {}
  },
  {
   "cell_type": "code",
   "execution_count": null,
   "source": [
    "#条件分岐と繰り返し19\n",
    "mail = input('メール >>')\n",
    "at = mail.find('@')\n",
    "if at != -1:\n",
    "    check = mail[at:]\n",
    "    if not '.' in check:\n",
    "        print('無効なメールアドレス')\n",
    "    else:\n",
    "        print('有効なメールアドレス')\n",
    "else:\n",
    "    print('無効なメールアドレス')"
   ],
   "outputs": [],
   "metadata": {}
  },
  {
   "cell_type": "code",
   "execution_count": null,
   "source": [
    "#条件分岐と繰り返し20\n",
    "tate, yoko = input('行列数 >>').split(',')\n",
    "chrs = ''\n",
    "for i in range(int(tate)):\n",
    "    for j in range(int(yoko)):\n",
    "        chrs += '●'\n",
    "    print(chrs)\n",
    "    chrs = ''"
   ],
   "outputs": [],
   "metadata": {}
  }
 ],
 "metadata": {
  "interpreter": {
   "hash": "852551a099bcd4103935b167f0506d01d7ded54002d00169929d9de4d04cfb6a"
  },
  "kernelspec": {
   "name": "python3",
   "display_name": "Python 3.8.5 64-bit ('anaconda3-2020.11': pyenv)"
  },
  "language_info": {
   "codemirror_mode": {
    "name": "ipython",
    "version": 3
   },
   "file_extension": ".py",
   "mimetype": "text/x-python",
   "name": "python",
   "nbconvert_exporter": "python",
   "pygments_lexer": "ipython3",
   "version": "3.8.5"
  }
 },
 "nbformat": 4,
 "nbformat_minor": 4
}