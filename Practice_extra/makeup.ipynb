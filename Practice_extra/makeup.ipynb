{
 "cells": [
  {
   "cell_type": "code",
   "execution_count": null,
   "metadata": {},
   "outputs": [],
   "source": [
    "a,b,c = 10,20,30\n",
    "print((a+b+c)/3)\n",
    "\n",
    "a = 10\n",
    "b = 20\n",
    "a, b = b, a"
   ]
  },
  {
   "cell_type": "code",
   "execution_count": null,
   "metadata": {},
   "outputs": [],
   "source": [
    "a = 2\n",
    "b = '2'\n",
    "c = 3\n",
    "d = 4\n",
    "print(b+str(d)+str(a*c))\n",
    "print(str(a*100+d*10+int(b)*3))"
   ]
  },
  {
   "cell_type": "code",
   "execution_count": null,
   "metadata": {},
   "outputs": [],
   "source": [
    "#2 * 5 = 10\n",
    "print(int(10/2))\n",
    "#30 / 15 = 2\n",
    "print(int(30/2))\n",
    "#3 * 5 / 10 = 1.5\n",
    "print(int(1.5*10/3))\n",
    "#(5 + 8) * 20 = 260\n",
    "print(int(260/20-5))\n",
    "#3 + 4 * 5 + 7 = 30\n",
    "print(int((30-10)/4))\n",
    "#2 * 9 / 3 + 5 = 11\n",
    "print(int((11-5)*3/2))\n",
    "#3 + 9 / 3 - 4 = 2\n",
    "print(int(3+9/3-2))"
   ]
  },
  {
   "cell_type": "code",
   "execution_count": 3,
   "metadata": {},
   "outputs": [
    {
     "name": "stdout",
     "output_type": "stream",
     "text": [
      "d\n",
      "k\n",
      "i\n",
      "efg\n"
     ]
    }
   ],
   "source": [
    "s = 'abcdefghijk'\n",
    "print(s[3])\n",
    "print(s[-1])\n",
    "print(s[-3])\n",
    "print(s[4:7])"
   ]
  },
  {
   "cell_type": "code",
   "execution_count": 2,
   "metadata": {},
   "outputs": [
    {
     "name": "stdout",
     "output_type": "stream",
     "text": [
      "大阪 310 す 1234\n"
     ]
    }
   ],
   "source": [
    "prefs = 'なにわ和泉堺大阪神戸姫路'\n",
    "kanas = 'あいうえおかきくけこさしすせそ'\n",
    "kind = 310\n",
    "ch = kanas[12]\n",
    "num = 1234\n",
    "print(f'{prefs[6:8]} {kind} {ch} {num}')"
   ]
  },
  {
   "cell_type": "code",
   "execution_count": 2,
   "metadata": {},
   "outputs": [
    {
     "name": "stdout",
     "output_type": "stream",
     "text": [
      "Aさん1234円、Bさん1233円、Cさん1233円\n"
     ]
    }
   ],
   "source": [
    "p = int(input('料金>>'))\n",
    "pay = p // 3\n",
    "pay_a = p%3+pay\n",
    "print(f'Aさん{pay_a}円、Bさん{pay}円、Cさん{pay}円')"
   ]
  },
  {
   "cell_type": "code",
   "execution_count": null,
   "metadata": {},
   "outputs": [],
   "source": [
    "up = int(input('上底 >>'))\n",
    "base = int(input('下底 >>'))\n",
    "height = int(input('高さ >>'))\n",
    "print('上底{}cmと下底{}cmで高さ{}cmの台形の面積は{}平方cmです。'.format(up, base, height, (up+base)*height/2))\n",
    "print(f'上底{up}cmと下底{base}cmで高さ{height}cmの台形の面積は{(up+base)*height/2}平方cmです。')"
   ]
  }
 ],
 "metadata": {
  "interpreter": {
   "hash": "e175e2d1a69ec44a53513b33867561d513a585d5b2228589977b3e28bb8f7a45"
  },
  "kernelspec": {
   "display_name": "Python 3.9.2 64-bit ('3.9.2': pyenv)",
   "name": "python3"
  },
  "language_info": {
   "codemirror_mode": {
    "name": "ipython",
    "version": 3
   },
   "file_extension": ".py",
   "mimetype": "text/x-python",
   "name": "python",
   "nbconvert_exporter": "python",
   "pygments_lexer": "ipython3",
   "version": "3.9.2"
  }
 },
 "nbformat": 4,
 "nbformat_minor": 4
}