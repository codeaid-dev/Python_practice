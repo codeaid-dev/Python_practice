{
 "cells": [
  {
   "cell_type": "code",
   "execution_count": null,
   "metadata": {},
   "outputs": [],
   "source": [
    "#1つずつ石を取って、最後に取るのは何人目かを出力\n",
    "S = int(input('石の数 >>'))\n",
    "P = int(input('人数 >>'))\n",
    "print(f'{(S-1)%P+1}人目の人が勝ちです')"
   ]
  },
  {
   "cell_type": "code",
   "execution_count": null,
   "metadata": {},
   "outputs": [],
   "source": [
    "#ゴールに到着する歩数を出力\n",
    "h = int(input('歩幅 >>'))\n",
    "k = int(input('距離 >>'))\n",
    "print(f'歩幅{h}cmで{k}cmの距離を歩くには、{(k+h-1)//h}歩必要です')"
   ]
  },
  {
   "cell_type": "code",
   "execution_count": null,
   "metadata": {},
   "outputs": [],
   "source": [
    "#向かい合ってぶるかるまで歩く距離を出力\n",
    "L = int(input('2人の距離 >>'))\n",
    "K = int(input('1歩の長さ >>'))\n",
    "hosuu = (L-1) // (K*2)\n",
    "print(hosuu * K)"
   ]
  },
  {
   "cell_type": "code",
   "execution_count": null,
   "metadata": {},
   "outputs": [],
   "source": [
    "#お年玉の金額を出力\n",
    "N = int(input('予算は？'))\n",
    "M = int(input('人数は？'))\n",
    "print(f'お年玉は{(N // (M*1000)) * 1000}円')"
   ]
  },
  {
   "cell_type": "code",
   "execution_count": null,
   "metadata": {},
   "outputs": [],
   "source": [
    "#紫ボールの個数を出力\n",
    "r = int(input('赤色 >>'))\n",
    "b = int(input('青色 >>'))\n",
    "w = int(input('白色 >>'))\n",
    "\n",
    "t1 = abs(r-b)\n",
    "t2 = (w-t1)//2\n",
    "t3 = max(r,b)\n",
    "print(f'紫色のボールは{t2+t3}個')\n",
    "#print(f'紫色のボールは{min((r+b+w)//2,r+w,b+w)}個')"
   ]
  },
  {
   "cell_type": "code",
   "execution_count": null,
   "metadata": {},
   "outputs": [],
   "source": [
    "#2つ目の要素を基準にソートする\n",
    "nums = [[2,3,1,0],[3,2,0,1],[1,0,3,2],[0,1,2,3]]\n",
    "#def getnum(nums):\n",
    "#    return nums[1]\n",
    "#nums.sort(key=getnum)\n",
    "\n",
    "nums.sort(key=lambda nums:nums[1])\n",
    "print(nums)"
   ]
  },
  {
   "cell_type": "code",
   "execution_count": null,
   "metadata": {},
   "outputs": [],
   "source": [
    "#1~10の数字の中から1つ抜いて1つずつ空白を空けて入力し、抜けている数字を出力する\n",
    "nums = input('入力 >>').split()\n",
    "for i in range(1,11):\n",
    "    if not str(i) in nums:\n",
    "        ans = i\n",
    "        break\n",
    "print(ans)\n",
    "\n",
    "#nums = list(map(int, input('入力 >>').split()))\n",
    "#print(55-sum(nums))"
   ]
  },
  {
   "cell_type": "code",
   "execution_count": null,
   "metadata": {},
   "outputs": [],
   "source": [
    "#リスト最初の要素以降は要素をインデックスにして出力\n",
    "nums = [2,6,1,7,3,9,8,5,4,0]\n",
    "\n",
    "for i in range(len(nums)):\n",
    "    if i == 0:\n",
    "        key = nums[i]\n",
    "        print(key, end=' ')\n",
    "    else:\n",
    "        print(nums[key], end=' ')\n",
    "        key = nums[key]\n"
   ]
  },
  {
   "cell_type": "code",
   "execution_count": null,
   "metadata": {},
   "outputs": [],
   "source": [
    "#メルアドチェック\n",
    "mail = input('メール >>')\n",
    "at = mail.find('@')\n",
    "if at != -1:\n",
    "    check = mail[at:]\n",
    "    if not '.' in check:\n",
    "        print('無効なメールアドレス')\n",
    "    else:\n",
    "        print('有効なメールアドレス')\n",
    "else:\n",
    "    print('無効なメールアドレス')"
   ]
  },
  {
   "cell_type": "code",
   "execution_count": null,
   "metadata": {},
   "outputs": [],
   "source": [
    "#N:N*Nのディクショナリを3の倍数5の倍数だけで作成\n",
    "s = input('入力 >>').split(',')\n",
    "dic = {}\n",
    "for n in s:\n",
    "    n = int(n)\n",
    "    m = n**2\n",
    "    if m % 3 == 0 or m % 5 == 0:\n",
    "        dic[n] = m\n",
    "\n",
    "print(dic)"
   ]
  },
  {
   "cell_type": "code",
   "execution_count": null,
   "metadata": {},
   "outputs": [],
   "source": [
    "#行と列の数値から2次元リストの作成\n",
    "row, col = input('行と列 >>').split(',')\n",
    "masu = [[0 for c in range(int(col))] for r in range(int(row))]\n",
    "print(masu)\n",
    "\n",
    "masu2 = []\n",
    "masu3 = []\n",
    "for r in range(int(row)):\n",
    "    for c in range(int(col)):\n",
    "        masu2.append(0)\n",
    "    masu3.append(masu2)\n",
    "    masu2 = []\n",
    "print(masu3)"
   ]
  },
  {
   "cell_type": "code",
   "execution_count": null,
   "metadata": {},
   "outputs": [],
   "source": [
    "#顔文字を描く\n",
    "result = ''\n",
    "for row in range(6):\n",
    "    for col in range(25):\n",
    "        if row in (0,6) and col in (2,22):\n",
    "            result += '*'\n",
    "        elif row == 1 and col in (1,23):\n",
    "            result += '*'\n",
    "        elif row == 2 and col in (0,5,6,7,8,9,15,16,17,18,19,24):\n",
    "            result += '*'\n",
    "        elif row == 3 and col in (0,24):\n",
    "            result += '*'\n",
    "        elif row == 4 and col in (1,9,10,11,12,13,14,15,23):\n",
    "            result += '*'\n",
    "        elif row == 5 and col in (2,22):\n",
    "            result += '*'\n",
    "        else:\n",
    "            result += ' '\n",
    "    result += '\\n'\n",
    "print(result)"
   ]
  },
  {
   "cell_type": "code",
   "execution_count": null,
   "metadata": {},
   "outputs": [],
   "source": [
    "#入力した行数だけ各行に行数分の数字が並ぶ\n",
    "n = int(input('行数 >>'))\n",
    "for row in range(1,n+1):\n",
    "    result = ''\n",
    "    for col in range(1,row+1):\n",
    "        result += str(col)\n",
    "    print(result)"
   ]
  },
  {
   "cell_type": "code",
   "execution_count": null,
   "metadata": {},
   "outputs": [],
   "source": [
    "#2つの文字列を並べ替えて同じになるとTrue、そうでないならNo\n",
    "s1 = input('文字列1 >>')\n",
    "s2 = input('文字列2 >>')\n",
    "flag = False\n",
    "for i in range(len(s1)):\n",
    "    if s1.count(s1[i]) != s2.count(s1[i]):\n",
    "        flag = True\n",
    "if flag:\n",
    "    print('No')\n",
    "else:\n",
    "    print('Yes')"
   ]
  },
  {
   "cell_type": "code",
   "execution_count": null,
   "metadata": {},
   "outputs": [],
   "source": [
    "#文字列に含まれる数字を全て足す\n",
    "s = input('入力 >>')\n",
    "total = 0\n",
    "for i in range(1,10):\n",
    "    total += i*s.count(str(i))\n",
    "print(total)"
   ]
  },
  {
   "cell_type": "code",
   "execution_count": null,
   "metadata": {},
   "outputs": [],
   "source": [
    "#単語の入力数と単語を入力し、間違いの番号と単語を出力\n",
    "cnt = int(input('単語数 >>'))\n",
    "w1 = input('単語1 >>').split()\n",
    "w2 = input('単語2 >>').split()\n",
    "for i in range(cnt):\n",
    "    if w1[i] != w2[i]:\n",
    "        print(i+1)\n",
    "        print(w1[i])\n",
    "        print(w2[i])\n",
    "        break"
   ]
  },
  {
   "cell_type": "code",
   "execution_count": null,
   "metadata": {},
   "outputs": [],
   "source": [
    "#文字列を横x縦で出力\n",
    "w = input('入力 >>')\n",
    "width, height = map(int, input('並び方 >>').split('x'))\n",
    "if len(w) >= width*height:\n",
    "    for y in range(height):\n",
    "        print(w[:width])\n",
    "        w = w[width:]\n",
    "else:\n",
    "    print('Cannot Output')"
   ]
  },
  {
   "cell_type": "code",
   "execution_count": null,
   "metadata": {},
   "outputs": [],
   "source": [
    "#10進数を8桁の2進数に変換（256未満）\n",
    "binary = [0] * 8\n",
    "n = int(input('10進数 >>'))\n",
    "for k in range(7,-1,-1):\n",
    "    binary[k] = n % 2\n",
    "    n = n // 2\n",
    "print(''.join(str(i) for i in binary))"
   ]
  },
  {
   "cell_type": "code",
   "execution_count": null,
   "metadata": {},
   "outputs": [],
   "source": [
    "#10進数を2進数に変換\n",
    "def to_binary(num):\n",
    "    digit = []\n",
    "    while num > 0:\n",
    "        digit.append(str(num % 2))\n",
    "        num = num // 2\n",
    "    digit.reverse()\n",
    "    return ''.join(digit)\n",
    "\n",
    "print(to_binary(256))"
   ]
  },
  {
   "cell_type": "code",
   "execution_count": null,
   "metadata": {},
   "outputs": [],
   "source": [
    "#自己紹介関数\n",
    "def introduction(name, *args, **kwargs):\n",
    "    print(\"【\"+str(name)+\"さんのプロフィール】\")\n",
    "    for arg in args:\n",
    "        print(arg)\n",
    "    for kw in kwargs:\n",
    "        print(kw, \":\", kwargs[kw])\n",
    "\n",
    "introduction(\"佐藤\",\n",
    "    \"佐藤なんですが、甘いものは嫌いです。\",\n",
    "    \"大好物はもんじゃ焼きです。\",\n",
    "    hobby=\"映画鑑賞\",\n",
    "    country=\"日本、大阪\",\n",
    "    years=\"24歳\")"
   ]
  },
  {
   "cell_type": "code",
   "execution_count": null,
   "metadata": {},
   "outputs": [],
   "source": [
    "#パスカルの三角形\n",
    "def pascal_triangle(n):\n",
    "    row = [1]\n",
    "    col = [0]\n",
    "    for i in range(n):\n",
    "        print(row)\n",
    "        row=[l+r for l,r in zip(row+col, col+row)]\n",
    "    return\n",
    "\n",
    "pascal_triangle(6) "
   ]
  },
  {
   "cell_type": "code",
   "execution_count": null,
   "metadata": {},
   "outputs": [],
   "source": [
    "#最大公約数\n",
    "def gcd(x, y):\n",
    "    if y == 0:\n",
    "        return x\n",
    "    else:\n",
    "        return gcd(y, x%y)\n",
    "\n",
    "apple = int(input('リンゴ >>'))\n",
    "orange = int(input('オレンジ >>'))\n",
    "box = gcd(apple, orange)\n",
    "print(f'リンゴが{int(apple/box)}個、オレンジが{int(orange/box)}個入る箱が{box}個必要です')"
   ]
  },
  {
   "cell_type": "code",
   "execution_count": null,
   "metadata": {},
   "outputs": [],
   "source": [
    "#鏡写し\n",
    "src = input('入力：')\n",
    "dst = ''\n",
    "for i in range(len(src)-1,-1,-1):\n",
    "    if src[i] == '>':\n",
    "        dst += '<'\n",
    "    else:\n",
    "        dst += '>'\n",
    "print(src)\n",
    "print(dst)"
   ]
  },
  {
   "cell_type": "code",
   "execution_count": null,
   "metadata": {},
   "outputs": [],
   "source": [
    "#○と✕\n",
    "#width,height = map(int, input('横幅と縦幅：').split(','))\n",
    "nums = input('横幅と縦幅：').split(',')\n",
    "width,height = int(nums[0]),int(nums[1])\n",
    "color = ['o', 'x']\n",
    "order = 1\n",
    "for i in range(height):\n",
    "    moji = ''\n",
    "    order = 1 - order\n",
    "    for j in range(width):\n",
    "        if j % 2 == 0:\n",
    "            moji += color[order]\n",
    "        else:\n",
    "            moji += color[1 - order];\n",
    "    print(moji)"
   ]
  },
  {
   "cell_type": "code",
   "execution_count": null,
   "metadata": {},
   "outputs": [],
   "source": [
    "#slot machine\n",
    "def slot():\n",
    "    import random\n",
    "    rool = ['●', '■', '▲']\n",
    "    result = {}\n",
    "    slot = []\n",
    "    for i in range(3):\n",
    "        w = random.randint(0, 2)\n",
    "        slot.append(rool[w])\n",
    "    print(' '.join(slot))\n",
    "\n",
    "    # 絵柄の数を数える\n",
    "    for i in range(len(rool)):\n",
    "        result[rool[i]] = slot.count(rool[i])\n",
    "\n",
    "    score = 0\n",
    "    for key, val in result.items():\n",
    "        if val == 3:\n",
    "            if key == rool[0]:\n",
    "                score = 100\n",
    "            elif key == rool[1]:\n",
    "                score = 200\n",
    "            else:\n",
    "                score = 300\n",
    "    print(score)\n",
    "    return score\n",
    "\n",
    "res = 0\n",
    "for i in range(3):\n",
    "    print(f'{i+1}回目：')\n",
    "    input()\n",
    "    res += slot()\n",
    "print(f'合計：{res}')\n"
   ]
  },
  {
   "cell_type": "code",
   "execution_count": null,
   "metadata": {},
   "outputs": [],
   "source": [
    "#数当てゲーム\n",
    "import random\n",
    "small,large = 1,10\n",
    "comp = []\n",
    "for i in range(3):\n",
    "    comp.append(random.randint(small,large))\n",
    "\n",
    "for i in range(1,6):\n",
    "    while True:\n",
    "        nums = list(map(int, input('入力：').split(',')))\n",
    "        if len(nums) != 3:\n",
    "            continue\n",
    "        for x in nums:\n",
    "            if not x in range(small,large+1):\n",
    "                break\n",
    "        else:\n",
    "            break\n",
    "        #if all(x in range(small,large+1) for x in nums): #all関数はiterableの全ての要素がTrueのときTrueを返す(論理積)\n",
    "            #break\n",
    "\n",
    "    print(f'{i}回目：')\n",
    "    end = 0\n",
    "    result = []\n",
    "    for n in range(len(comp)):\n",
    "        if comp[n] == nums[n]:\n",
    "            result.append(str(nums[n]))\n",
    "            end += 1\n",
    "        else:\n",
    "            result.append('*')\n",
    "    print(' '.join(result))\n",
    "    if end == 3:\n",
    "        print('当たり！')\n",
    "        break\n",
    "\n",
    "print('コンピューター：'+' '.join(str(s) for s in comp))\n"
   ]
  }
 ],
 "metadata": {
  "interpreter": {
   "hash": "e175e2d1a69ec44a53513b33867561d513a585d5b2228589977b3e28bb8f7a45"
  },
  "kernelspec": {
   "display_name": "Python 3.9.2 64-bit ('3.9.2': pyenv)",
   "name": "python3"
  },
  "language_info": {
   "codemirror_mode": {
    "name": "ipython",
    "version": 3
   },
   "file_extension": ".py",
   "mimetype": "text/x-python",
   "name": "python",
   "nbconvert_exporter": "python",
   "pygments_lexer": "ipython3",
   "version": "3.9.2"
  },
  "orig_nbformat": 2
 },
 "nbformat": 4,
 "nbformat_minor": 2
}