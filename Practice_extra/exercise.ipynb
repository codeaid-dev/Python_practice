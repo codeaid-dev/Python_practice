{
 "cells": [
  {
   "cell_type": "code",
   "execution_count": null,
   "source": [
    "#1つずつ石を取って、最後に取るのは何人目かを出力\n",
    "S = int(input('石の数 >>'))\n",
    "P = int(input('人数 >>'))\n",
    "print(f'{(S-1)%P+1}人目の人が勝ちです')"
   ],
   "outputs": [],
   "metadata": {}
  },
  {
   "cell_type": "code",
   "execution_count": null,
   "source": [
    "#ゴールに到着する歩数を出力\n",
    "h = int(input('歩幅 >>'))\n",
    "k = int(input('距離 >>'))\n",
    "print(f'歩幅{h}cmで{k}cmの距離を歩くには、{(k+h-1)//h}歩必要です')\n",
    "import math\n",
    "print(f'歩幅{h}cmで{k}cmの距離を歩くには、{math.ceil(k/h)}歩必要です')"
   ],
   "outputs": [],
   "metadata": {}
  },
  {
   "cell_type": "code",
   "execution_count": null,
   "source": [
    "#向かい合ってぶるかるまで歩く距離を出力\n",
    "L = int(input('2人の距離 >>'))\n",
    "K = int(input('1歩の長さ >>'))\n",
    "hosuu = (L-1) // (K*2)\n",
    "print(hosuu * K)"
   ],
   "outputs": [],
   "metadata": {}
  },
  {
   "cell_type": "code",
   "execution_count": null,
   "source": [
    "#紫ボールの個数を出力\n",
    "r = int(input('赤色 >>'))\n",
    "b = int(input('青色 >>'))\n",
    "w = int(input('白色 >>'))\n",
    "\n",
    "t1 = abs(r-b)\n",
    "t2 = (w-t1)//2\n",
    "t3 = max(r,b)\n",
    "print(f'紫色のボールは{t2+t3}個')\n",
    "#print(f'紫色のボールは{min((r+b+w)//2,r+w,b+w)}個')"
   ],
   "outputs": [],
   "metadata": {}
  },
  {
   "cell_type": "code",
   "execution_count": null,
   "source": [
    "#顔文字を描く\n",
    "result = ''\n",
    "for row in range(6):\n",
    "    for col in range(25):\n",
    "        if row in (0,6) and col in (2,22):\n",
    "            result += '*'\n",
    "        elif row == 1 and col in (1,23):\n",
    "            result += '*'\n",
    "        elif row == 2 and col in (0,5,6,7,8,9,15,16,17,18,19,24):\n",
    "            result += '*'\n",
    "        elif row == 3 and col in (0,24):\n",
    "            result += '*'\n",
    "        elif row == 4 and col in (1,9,10,11,12,13,14,15,23):\n",
    "            result += '*'\n",
    "        elif row == 5 and col in (2,22):\n",
    "            result += '*'\n",
    "        else:\n",
    "            result += ' '\n",
    "    result += '\\n'\n",
    "print(result)"
   ],
   "outputs": [],
   "metadata": {}
  },
  {
   "cell_type": "code",
   "execution_count": null,
   "source": [
    "#10進数を8桁の2進数に変換（256未満）\n",
    "binary = [0] * 8\n",
    "n = int(input('10進数 >>'))\n",
    "for k in range(7,-1,-1):\n",
    "    binary[k] = n % 2\n",
    "    n = n // 2\n",
    "print(''.join(str(i) for i in binary))"
   ],
   "outputs": [],
   "metadata": {}
  },
  {
   "cell_type": "code",
   "execution_count": null,
   "source": [
    "#10進数を2進数に変換\n",
    "def to_binary(num):\n",
    "    digit = []\n",
    "    while num > 0:\n",
    "        digit.append(str(num % 2))\n",
    "        num = num // 2\n",
    "    digit.reverse()\n",
    "    return ''.join(digit)\n",
    "\n",
    "print(to_binary(256))"
   ],
   "outputs": [],
   "metadata": {}
  },
  {
   "cell_type": "code",
   "execution_count": null,
   "source": [
    "#自己紹介関数\n",
    "def introduction(name, *args, **kwargs):\n",
    "    print(\"【\"+str(name)+\"さんのプロフィール】\")\n",
    "    for arg in args:\n",
    "        print(arg)\n",
    "    for kw in kwargs:\n",
    "        print(kw, \":\", kwargs[kw])\n",
    "\n",
    "introduction(\"佐藤\",\n",
    "    \"佐藤なんですが、甘いものは嫌いです。\",\n",
    "    \"大好物はもんじゃ焼きです。\",\n",
    "    hobby=\"映画鑑賞\",\n",
    "    country=\"日本、大阪\",\n",
    "    years=\"24歳\")"
   ],
   "outputs": [],
   "metadata": {}
  },
  {
   "cell_type": "code",
   "execution_count": null,
   "source": [
    "#パスカルの三角形\n",
    "def pascal_triangle(n):\n",
    "    row = [1]\n",
    "    col = [0]\n",
    "    for i in range(n):\n",
    "        print(row)\n",
    "        row=[l+r for l,r in zip(row+col, col+row)]\n",
    "    return\n",
    "\n",
    "pascal_triangle(6) "
   ],
   "outputs": [],
   "metadata": {}
  },
  {
   "cell_type": "code",
   "execution_count": null,
   "source": [
    "#最大公約数\n",
    "def gcd(x, y):\n",
    "    if y == 0:\n",
    "        return x\n",
    "    else:\n",
    "        return gcd(y, x%y)\n",
    "\n",
    "apple = int(input('リンゴ >>'))\n",
    "orange = int(input('オレンジ >>'))\n",
    "box = gcd(apple, orange)\n",
    "print(f'リンゴが{int(apple/box)}個、オレンジが{int(orange/box)}個入る箱が{box}個必要です')"
   ],
   "outputs": [],
   "metadata": {}
  }
 ],
 "metadata": {
  "interpreter": {
   "hash": "e175e2d1a69ec44a53513b33867561d513a585d5b2228589977b3e28bb8f7a45"
  },
  "kernelspec": {
   "display_name": "Python 3.9.2 64-bit ('3.9.2': pyenv)",
   "name": "python3"
  },
  "language_info": {
   "codemirror_mode": {
    "name": "ipython",
    "version": 3
   },
   "file_extension": ".py",
   "mimetype": "text/x-python",
   "name": "python",
   "nbconvert_exporter": "python",
   "pygments_lexer": "ipython3",
   "version": "3.9.2"
  },
  "orig_nbformat": 2
 },
 "nbformat": 4,
 "nbformat_minor": 2
}