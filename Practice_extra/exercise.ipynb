{
 "cells": [
  {
   "cell_type": "code",
   "execution_count": null,
   "metadata": {},
   "outputs": [],
   "source": [
    "#文字検索とその割合\n",
    "word = input('入力 >>')\n",
    "ch = input('検索文字 >>')\n",
    "cnt = word.count(ch)\n",
    "length = len(word)\n",
    "rate = int(cnt/length*100)\n",
    "print(f'「{word}」内の\"{ch}\"は{cnt}個で、割合は{rate}%です')"
   ]
  },
  {
   "cell_type": "code",
   "execution_count": null,
   "metadata": {},
   "outputs": [],
   "source": [
    "#1つずつ石を取って、最後に取るのは何人目かを出力\n",
    "S = int(input('石の数 >>'))\n",
    "P = int(input('人数 >>'))\n",
    "print(f'{(S-1)%P+1}人目の人が勝ちです')"
   ]
  },
  {
   "cell_type": "code",
   "execution_count": null,
   "metadata": {},
   "outputs": [],
   "source": [
    "#ゴールに到着する歩数を出力\n",
    "h = int(input('歩幅 >>'))\n",
    "k = int(input('距離 >>'))\n",
    "print(f'歩幅{h}cmで{k}cmの距離を歩くには、{(k+h-1)//h}歩必要です')"
   ]
  },
  {
   "cell_type": "code",
   "execution_count": null,
   "metadata": {},
   "outputs": [],
   "source": [
    "#巣穴にちょうど到着するジャンプ回数を出力\n",
    "D = int(input('巣穴の距離 >>'))\n",
    "L = int(input('大ジャンプの距離 >>'))\n",
    "print(f'必要回数：{D // L + D % L}')"
   ]
  },
  {
   "cell_type": "code",
   "execution_count": null,
   "metadata": {},
   "outputs": [],
   "source": [
    "#向かい合ってぶるかるまで歩く距離を出力\n",
    "L = int(input('2人の距離 >>'))\n",
    "K = int(input('1歩の長さ >>'))\n",
    "hosuu = (L-1) // (K*2)\n",
    "print(hosuu * K)"
   ]
  },
  {
   "cell_type": "code",
   "execution_count": null,
   "metadata": {},
   "outputs": [],
   "source": [
    "#お年玉の金額を出力\n",
    "N = int(input('予算は？'))\n",
    "M = int(input('人数は？'))\n",
    "print(f'お年玉は{(N // (M*1000)) * 1000}円')"
   ]
  },
  {
   "cell_type": "code",
   "execution_count": null,
   "metadata": {},
   "outputs": [],
   "source": [
    "#紫ボールの個数を出力\n",
    "r = int(input('赤色 >>'))\n",
    "b = int(input('青色 >>'))\n",
    "w = int(input('白色 >>'))\n",
    "\n",
    "t1 = abs(r-b)\n",
    "t2 = (w-t1)//2\n",
    "t3 = max(r,b)\n",
    "print(f'紫色のボールは{t2+t3}個')\n",
    "#print(f'紫色のボールは{min((r+b+w)//2,r+w,b+w)}個')"
   ]
  },
  {
   "cell_type": "code",
   "execution_count": null,
   "metadata": {},
   "outputs": [],
   "source": [
    "#2つ目の要素を基準にソートする\n",
    "nums = [[2,3,1,0],[3,2,0,1],[1,0,3,2],[0,1,2,3]]\n",
    "#def getnum(nums):\n",
    "#    return nums[1]\n",
    "#nums.sort(key=getnum)\n",
    "\n",
    "nums.sort(key=lambda nums:nums[1])\n",
    "print(nums)"
   ]
  },
  {
   "cell_type": "code",
   "execution_count": 4,
   "metadata": {},
   "outputs": [
    {
     "name": "stdout",
     "output_type": "stream",
     "text": [
      "5\n"
     ]
    }
   ],
   "source": [
    "#1~10の数字の中から1つ抜いて1つずつ空白を空けて入力し、抜けている数字を出力する\n",
    "nums = list(map(int, input('入力 >>').split()))\n",
    "print(55-sum(nums))"
   ]
  },
  {
   "cell_type": "code",
   "execution_count": null,
   "metadata": {},
   "outputs": [],
   "source": [
    "#入力した行数だけ各行に行数分の数字が並ぶ\n",
    "n = int(input('行数 >>'))\n",
    "for row in range(1,n+1):\n",
    "    result = ''\n",
    "    for col in range(1,row+1):\n",
    "        result += str(col)\n",
    "    print(result)"
   ]
  },
  {
   "cell_type": "code",
   "execution_count": null,
   "metadata": {},
   "outputs": [],
   "source": [
    "#2つの文字列を並べ替えて同じになるとTrue、そうでないならNo\n",
    "s1 = input('文字列1 >>')\n",
    "s2 = input('文字列2 >>')\n",
    "flag = False\n",
    "for i in range(len(s1)):\n",
    "    if s1.count(s1[i]) != s2.count(s1[i]):\n",
    "        flag = True\n",
    "if flag:\n",
    "    print('No')\n",
    "else:\n",
    "    print('Yes')"
   ]
  },
  {
   "cell_type": "code",
   "execution_count": 5,
   "metadata": {},
   "outputs": [
    {
     "name": "stdout",
     "output_type": "stream",
     "text": [
      "55\n"
     ]
    }
   ],
   "source": [
    "#文字列に含まれる数字を全て足す\n",
    "s = input('入力 >>')\n",
    "total = 0\n",
    "for i in range(1,10):\n",
    "    total += i*s.count(str(i))\n",
    "print(total)"
   ]
  },
  {
   "cell_type": "code",
   "execution_count": null,
   "metadata": {},
   "outputs": [],
   "source": [
    "#単語の入力数と単語を入力し、間違いの番号と単語を出力\n",
    "cnt = int(input('単語数 >>'))\n",
    "w1 = input('単語1 >>').split()\n",
    "w2 = input('単語2 >>').split()\n",
    "for i in range(cnt):\n",
    "    if w1[i] != w2[i]:\n",
    "        print(i+1)\n",
    "        print(w1[i])\n",
    "        print(w2[i])\n",
    "        break"
   ]
  },
  {
   "cell_type": "code",
   "execution_count": null,
   "metadata": {},
   "outputs": [],
   "source": [
    "#10進数を8桁の2進数に変換（256未満）\n",
    "binary = [0] * 8\n",
    "n = int(input('10進数 >>'))\n",
    "for k in range(7,-1,-1):\n",
    "    binary[k] = n % 2\n",
    "    n = n // 2\n",
    "print(''.join([str(i) for i in binary]))"
   ]
  },
  {
   "cell_type": "code",
   "execution_count": null,
   "metadata": {},
   "outputs": [],
   "source": [
    "#10進数を2進数に変換\n",
    "def to_binary(num):\n",
    "    digit = []\n",
    "    while num > 0:\n",
    "        digit.append(str(num % 2))\n",
    "        num = num // 2\n",
    "    digit.reverse()\n",
    "    return ''.join(digit)\n",
    "\n",
    "print(to_binary(256))"
   ]
  },
  {
   "cell_type": "code",
   "execution_count": null,
   "metadata": {},
   "outputs": [],
   "source": [
    "#パスカルの三角形\n",
    "def pascal_triangle(n):\n",
    "    row = [1]\n",
    "    col = [0]\n",
    "    for i in range(n):\n",
    "        print(row)\n",
    "        row=[l+r for l,r in zip(row+col, col+row)]\n",
    "    return\n",
    "\n",
    "pascal_triangle(6) "
   ]
  },
  {
   "cell_type": "code",
   "execution_count": 7,
   "metadata": {},
   "outputs": [
    {
     "name": "stdout",
     "output_type": "stream",
     "text": [
      "リンゴが2個、オレンジが3個入る箱が6個必要です\n"
     ]
    }
   ],
   "source": [
    "def gcd(x, y):\n",
    "    if y == 0:\n",
    "        return x\n",
    "    else:\n",
    "        return gcd(y, x%y)\n",
    "\n",
    "apple = int(input('リンゴ >>'))\n",
    "orange = int(input('オレンジ >>'))\n",
    "box = gcd(apple, orange)\n",
    "print(f'リンゴが{int(apple/box)}個、オレンジが{int(orange/box)}個入る箱が{box}個必要です')"
   ]
  }
 ],
 "metadata": {
  "kernelspec": {
   "display_name": "Python 3.9.2 64-bit ('3.9.2': pyenv)",
   "name": "python392jvsc74a57bd0e175e2d1a69ec44a53513b33867561d513a585d5b2228589977b3e28bb8f7a45"
  },
  "language_info": {
   "codemirror_mode": {
    "name": "ipython",
    "version": 3
   },
   "file_extension": ".py",
   "mimetype": "text/x-python",
   "name": "python",
   "nbconvert_exporter": "python",
   "pygments_lexer": "ipython3",
   "version": "3.9.2"
  },
  "orig_nbformat": 2
 },
 "nbformat": 4,
 "nbformat_minor": 2
}