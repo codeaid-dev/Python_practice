{
 "cells": [
  {
   "cell_type": "code",
   "execution_count": null,
   "metadata": {},
   "outputs": [],
   "source": [
    "from datetime import datetime, timedelta\n",
    "import time\n",
    "now = datetime.now().strftime('%H%M%S')\n",
    "print(now)\n",
    "now2 = datetime.strptime(now,'%H%M%S')\n",
    "now3 = datetime.now()\n",
    "td = timedelta(seconds=123)\n",
    "now3 += td\n",
    "print(now2)\n",
    "print(now3-now2)\n",
    "res = now3-now2\n",
    "print(res.seconds)"
   ]
  },
  {
   "cell_type": "code",
   "execution_count": null,
   "metadata": {},
   "outputs": [],
   "source": [
    "from datetime import datetime\n",
    "import time\n",
    "now = str(datetime.now().timestamp())\n",
    "print(type(now),now)\n",
    "time.sleep(2)\n",
    "now2 = datetime.now().timestamp()\n",
    "res = now2 - float(now)\n",
    "print(res)"
   ]
  }
 ],
 "metadata": {
  "language_info": {
   "name": "python"
  },
  "orig_nbformat": 4
 },
 "nbformat": 4,
 "nbformat_minor": 2
}
