{
 "cells": [
  {
   "cell_type": "code",
   "execution_count": null,
   "id": "7a7ee291",
   "metadata": {},
   "outputs": [],
   "source": [
    "from datetime import date\n",
    "halloween = date(2025, 10, 31)\n",
    "print(halloween)\n",
    "print(halloween.day)\n",
    "print(halloween.month)\n",
    "print(halloween.year)"
   ]
  },
  {
   "cell_type": "code",
   "execution_count": null,
   "id": "05940979",
   "metadata": {},
   "outputs": [],
   "source": [
    "from datetime import date\n",
    "now = date.today()\n",
    "print(now)"
   ]
  },
  {
   "cell_type": "code",
   "execution_count": null,
   "id": "bef2046a",
   "metadata": {},
   "outputs": [],
   "source": [
    "from datetime import timedelta\n",
    "one_day = timedelta(days=1)\n",
    "tomorrow = now + one_day\n",
    "print(tomorrow)\n",
    "yesterday = now - one_day\n",
    "print(yesterday)\n",
    "after15 = now + 15 * one_day\n",
    "print(after15)"
   ]
  },
  {
   "cell_type": "code",
   "execution_count": null,
   "id": "62208d28",
   "metadata": {},
   "outputs": [],
   "source": [
    "from datetime import date\n",
    "print(date.min)\n",
    "print(date.max)"
   ]
  },
  {
   "cell_type": "code",
   "execution_count": null,
   "id": "a6ae1503",
   "metadata": {},
   "outputs": [],
   "source": [
    "from datetime import time\n",
    "noon = time(12, 0, 0)\n",
    "print(noon)\n",
    "print(noon.hour)\n",
    "print(noon.minute)\n",
    "print(noon.second)\n",
    "print(noon.microsecond)"
   ]
  },
  {
   "cell_type": "code",
   "execution_count": null,
   "id": "b8019ce3",
   "metadata": {},
   "outputs": [],
   "source": [
    "from datetime import datetime\n",
    "some_day = datetime(2025, 1, 2, 3, 4, 5, 6)\n",
    "print(some_day)\n",
    "now = datetime.now()\n",
    "print(now)"
   ]
  },
  {
   "cell_type": "code",
   "execution_count": null,
   "id": "37993f0b",
   "metadata": {},
   "outputs": [],
   "source": [
    "import time\n",
    "now = time.time()\n",
    "print(now)\n",
    "print(time.ctime(now))"
   ]
  },
  {
   "cell_type": "code",
   "execution_count": null,
   "id": "189b1bbd",
   "metadata": {},
   "outputs": [],
   "source": [
    "import time\n",
    "start = time.time()\n",
    "time.sleep(2)\n",
    "passed = time.time() - start\n",
    "print(passed)"
   ]
  },
  {
   "cell_type": "code",
   "execution_count": null,
   "id": "f3786126",
   "metadata": {},
   "outputs": [],
   "source": [
    "import time\n",
    "print(time.localtime(now))\n",
    "print(time.localtime(now).tm_year)\n",
    "print(time.localtime(now).tm_hour)\n",
    "print(time.localtime(now).tm_wday)\n",
    "print(time.localtime())"
   ]
  },
  {
   "cell_type": "code",
   "execution_count": null,
   "id": "8a1c152e",
   "metadata": {},
   "outputs": [],
   "source": [
    "import time\n",
    "now = time.localtime()\n",
    "print(list(now[i] for i in range(9)))"
   ]
  },
  {
   "cell_type": "code",
   "execution_count": null,
   "id": "11af8c1d",
   "metadata": {},
   "outputs": [],
   "source": [
    "import time\n",
    "fmt = \"%A, %B %d, %Y, local time %I:%M:%S%p\"\n",
    "t = time.localtime()\n",
    "print(time.strftime(fmt, t))"
   ]
  },
  {
   "cell_type": "code",
   "execution_count": null,
   "id": "e5f32417",
   "metadata": {},
   "outputs": [],
   "source": [
    "import time\n",
    "fmt = \"%Y年%m月%d日\"\n",
    "print(time.strptime(\"2025年4月9日\", fmt))\n",
    "fmt = \"%Y-%m-%d\"\n",
    "print(time.strptime(\"2025-7-21\", fmt))"
   ]
  },
  {
   "cell_type": "code",
   "execution_count": null,
   "id": "08ba3ccb",
   "metadata": {},
   "outputs": [],
   "source": [
    "# Exercise1\n",
    "from datetime import datetime\n",
    "now = datetime.now()\n",
    "print(now.strftime(\"日付：%Y年%m月%d日 時刻：%H:%M:%S\"))"
   ]
  },
  {
   "cell_type": "code",
   "execution_count": null,
   "id": "1bd08444",
   "metadata": {},
   "outputs": [],
   "source": [
    "# Exercise2\n",
    "from datetime import datetime\n",
    "date_str = input(\"日付を入力してください (例: 2025-04-09): \")\n",
    "date_obj = datetime.strptime(date_str, \"%Y-%m-%d\")\n",
    "\n",
    "weekdays = [\"月\", \"火\", \"水\", \"木\", \"金\", \"土\", \"日\"]\n",
    "weekday_jp = weekdays[date_obj.weekday()]  # 0 = 月曜日\n",
    "\n",
    "print(f\"{date_str} は {weekday_jp}曜日 です。\")"
   ]
  },
  {
   "cell_type": "code",
   "execution_count": null,
   "id": "848be171",
   "metadata": {},
   "outputs": [],
   "source": [
    "# Exercise3\n",
    "from datetime import datetime\n",
    "birth_str = input(\"生年月日を入力してください（例：1990-05-20）：\")\n",
    "birth_date = datetime.strptime(birth_str, \"%Y-%m-%d\")\n",
    "today = datetime.now()\n",
    "age = today.year - birth_date.year\n",
    "if today.month < birth_date.month:\n",
    "    age -= 1\n",
    "elif today.month == birth_date.month and today.day < birth_date.day:\n",
    "    age -= 1\n",
    "print(f\"あなたの年齢は{age}歳です。\")"
   ]
  },
  {
   "cell_type": "code",
   "execution_count": null,
   "id": "c53fddf3",
   "metadata": {},
   "outputs": [],
   "source": [
    "# Exercise4\n",
    "from datetime import datetime, timedelta\n",
    "\n",
    "n = int(input(\"何日後（または負の数で何日前）の日付を知りたいですか？: \"))\n",
    "target_date = datetime.now() + timedelta(days=n)\n",
    "if n < 0:\n",
    "    print(f\"{abs(n)}日前の日付は: {target_date.strftime('%Y年%m月%d日')}\")\n",
    "else:\n",
    "    print(f\"{n}日後の日付は: {target_date.strftime('%Y年%m月%d日')}\")"
   ]
  },
  {
   "cell_type": "code",
   "execution_count": null,
   "id": "29109de6",
   "metadata": {},
   "outputs": [],
   "source": [
    "# Exercise5\n",
    "import time\n",
    "\n",
    "input(\"スタートするにはEnterキーを押してください...\")\n",
    "start = time.time()\n",
    "\n",
    "input(\"ストップするにはEnterキーを押してください...\")\n",
    "passed = time.time() - start\n",
    "\n",
    "print(f\"経過時間: {passed:.2f}秒\")"
   ]
  },
  {
   "cell_type": "code",
   "execution_count": null,
   "id": "29c26aa7",
   "metadata": {},
   "outputs": [],
   "source": [
    "# Exercise6\n",
    "from datetime import datetime, timedelta\n",
    "\n",
    "year = int(input(\"年を入力してください（例: 2025）: \"))\n",
    "month = int(input(\"月を入力してください（1-12）: \"))\n",
    "\n",
    "# 月初と翌月初\n",
    "first_day = datetime(year, month, 1)\n",
    "if month == 12:\n",
    "    next_month = datetime(year + 1, 1, 1)\n",
    "else:\n",
    "    next_month = datetime(year, month + 1, 1)\n",
    "\n",
    "print(f\"\\n{year}年{month}月カレンダー\")\n",
    "print(\"月 火 水 木 金 土 日\")\n",
    "\n",
    "# 最初の曜日のインデックスを取得（0=月曜, 6=日曜）\n",
    "start_weekday = first_day.weekday()\n",
    "\n",
    "# 最初の空白（スペース）を表示\n",
    "print(\"   \" * start_weekday, end=\"\")\n",
    "\n",
    "# カレンダーを構築\n",
    "current_day = first_day\n",
    "while current_day < next_month:\n",
    "    print(f\"{current_day.day:2} \", end=\"\")\n",
    "    if current_day.weekday() == 6:  # 日曜で改行\n",
    "        print()\n",
    "    current_day += timedelta(days=1)\n",
    "\n",
    "print()  # 最後の改行"
   ]
  },
  {
   "cell_type": "code",
   "execution_count": null,
   "id": "d663a868",
   "metadata": {},
   "outputs": [],
   "source": [
    "import time\n",
    "\n",
    "time_str = input(\"カウントダウンする時間を '時:分:秒' 形式で入力してください（例: 0:2:30）: \")\n",
    "h, m, s = map(int, time_str.split(\":\"))\n",
    "total_seconds = h * 3600 + m * 60 + s\n",
    "\n",
    "print(\"タイマー開始！\")\n",
    "\n",
    "# カウントダウンループ\n",
    "for remaining in range(total_seconds, -1, -1):\n",
    "    hrs = remaining // 3600\n",
    "    mins = (remaining % 3600) // 60\n",
    "    secs = remaining % 60\n",
    "    print(f\"\\r残り時間: {hrs:02}:{mins:02}:{secs:02}\", end=\"\")\n",
    "    time.sleep(1)\n",
    "\n",
    "print(\"\\n時間になりました！\")"
   ]
  }
 ],
 "metadata": {
  "kernelspec": {
   "display_name": "Python 3",
   "language": "python",
   "name": "python3"
  },
  "language_info": {
   "codemirror_mode": {
    "name": "ipython",
    "version": 3
   },
   "file_extension": ".py",
   "mimetype": "text/x-python",
   "name": "python",
   "nbconvert_exporter": "python",
   "pygments_lexer": "ipython3",
   "version": "3.12.9"
  }
 },
 "nbformat": 4,
 "nbformat_minor": 5
}
