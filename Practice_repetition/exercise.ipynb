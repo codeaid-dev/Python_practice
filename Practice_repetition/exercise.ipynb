{
 "cells": [
  {
   "cell_type": "code",
   "execution_count": 9,
   "metadata": {},
   "outputs": [
    {
     "name": "stdout",
     "output_type": "stream",
     "text": [
      "2行1列目の整数：10\n"
     ]
    }
   ],
   "source": [
    "N, M, K, L = map(int,input('はじめの行>>').split())\n",
    "for i in range(N):\n",
    "    pic_list = input(f'{i+1}行目>>').split()\n",
    "    for j in range(M):\n",
    "        if i == K-1 and j == L-1:\n",
    "            out = pic_list[j]\n",
    "\n",
    "print(f'{K}行{L}列目の整数：{out}')"
   ]
  },
  {
   "cell_type": "code",
   "execution_count": null,
   "metadata": {},
   "outputs": [],
   "source": []
  }
 ],
 "metadata": {
  "kernelspec": {
   "display_name": "Python 3.8.5 64-bit ('anaconda3-2020.11': pyenv)",
   "name": "python385jvsc74a57bd0852551a099bcd4103935b167f0506d01d7ded54002d00169929d9de4d04cfb6a"
  },
  "language_info": {
   "name": "python",
   "version": ""
  },
  "orig_nbformat": 2
 },
 "nbformat": 4,
 "nbformat_minor": 2
}