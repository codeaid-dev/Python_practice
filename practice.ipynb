{
 "cells": [
  {
   "cell_type": "code",
   "execution_count": null,
   "metadata": {
    "tags": []
   },
   "outputs": [],
   "source": [
    "import calendar\n",
    "print(calendar.month(2021,12))\n",
    "print(calendar.isleap(2020))"
   ]
  },
  {
   "cell_type": "code",
   "execution_count": null,
   "metadata": {
    "tags": []
   },
   "outputs": [],
   "source": [
    "import datetime\n",
    "print(datetime.date.today())\n",
    "print(datetime.datetime.now())\n",
    "d = datetime.datetime.now()\n",
    "print(f'{d.hour}:{d.minute}:{d.second}')\n",
    "today = datetime.date.today()\n",
    "birth = datetime.date(2000,10,10)\n",
    "print(today-birth)"
   ]
  },
  {
   "cell_type": "code",
   "execution_count": null,
   "metadata": {
    "tags": []
   },
   "outputs": [],
   "source": [
    "import random\n",
    "r = random.random()\n",
    "print(r)\n",
    "i = random.randint(1,6)\n",
    "print(i)\n",
    "jan = random.choice([\"グー\",\"チョキ\",\"パー\"])\n",
    "print(jan)"
   ]
  },
  {
   "cell_type": "code",
   "execution_count": null,
   "metadata": {},
   "outputs": [],
   "source": [
    "%matplotlib inline\n",
    "import matplotlib.pyplot as plt\n",
    "import numpy as np\n",
    "x = np.linspace(0, 3*np.pi, 500)\n",
    "plt.plot(x, np.sin(x**2))"
   ]
  },
  {
   "cell_type": "code",
   "execution_count": null,
   "metadata": {
    "tags": []
   },
   "outputs": [],
   "source": [
    "import random\n",
    "cnt = 0\n",
    "while True:\n",
    "    r = random.randint(1,100)\n",
    "    print(r)\n",
    "    cnt = cnt + 1\n",
    "    if r == 77:\n",
    "        break\n",
    "print(str(cnt)+\"回目でレアキャラをゲット\")"
   ]
  },
  {
   "cell_type": "code",
   "execution_count": null,
   "metadata": {},
   "outputs": [],
   "source": [
    "i = 0\n",
    "if i in range(1,11):\n",
    "    print('IN')\n",
    "\n",
    "n = [1,2,10]\n",
    "print(all(x in range(1,11) for x in n))"
   ]
  }
 ],
 "metadata": {
  "interpreter": {
   "hash": "852551a099bcd4103935b167f0506d01d7ded54002d00169929d9de4d04cfb6a"
  },
  "kernelspec": {
   "display_name": "Python 3.8.5 64-bit ('anaconda3-2020.11': pyenv)",
   "name": "python3"
  },
  "language_info": {
   "codemirror_mode": {
    "name": "ipython",
    "version": 3
   },
   "file_extension": ".py",
   "mimetype": "text/x-python",
   "name": "python",
   "nbconvert_exporter": "python",
   "pygments_lexer": "ipython3",
   "version": "3.8.5"
  },
  "orig_nbformat": 2
 },
 "nbformat": 4,
 "nbformat_minor": 2
}
