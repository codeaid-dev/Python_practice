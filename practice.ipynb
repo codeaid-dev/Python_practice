{
 "metadata": {
  "language_info": {
   "codemirror_mode": {
    "name": "ipython",
    "version": 3
   },
   "file_extension": ".py",
   "mimetype": "text/x-python",
   "name": "python",
   "nbconvert_exporter": "python",
   "pygments_lexer": "ipython3",
   "version": "3.7.3-final"
  },
  "orig_nbformat": 2,
  "kernelspec": {
   "name": "python_defaultSpec_1599624159056",
   "display_name": "Python 3.7.3 64-bit ('base': conda)"
  }
 },
 "nbformat": 4,
 "nbformat_minor": 2,
 "cells": [
  {
   "cell_type": "code",
   "execution_count": 2,
   "metadata": {
    "tags": []
   },
   "outputs": [
    {
     "output_type": "stream",
     "name": "stdout",
     "text": "August 2020\nMo Tu We Th Fr Sa Su\n                1  2\n 3  4  5  6  7  8  9\n10 11 12 13 14 15 16\n17 18 19 20 21 22 23\n24 25 26 27 28 29 30\n31\n\nTrue\n"
    }
   ],
   "source": [
    "import calendar\n",
    "print(calendar.month(2020,8))\n",
    "print(calendar.isleap(2020))"
   ]
  },
  {
   "cell_type": "code",
   "execution_count": 6,
   "metadata": {
    "tags": []
   },
   "outputs": [
    {
     "output_type": "stream",
     "name": "stdout",
     "text": "2020-09-09\n2020-09-09 13:23:47.654531\n13\n23\n47\n19392 days, 0:00:00\n"
    }
   ],
   "source": [
    "import datetime\n",
    "print(datetime.date.today())\n",
    "print(datetime.datetime.now())\n",
    "d = datetime.datetime.now()\n",
    "print(d.hour)\n",
    "print(d.minute)\n",
    "print(d.second)\n",
    "today = datetime.date.today()\n",
    "birth = datetime.date(1967,8,7)\n",
    "print(today-birth)"
   ]
  },
  {
   "cell_type": "code",
   "execution_count": 31,
   "metadata": {
    "tags": []
   },
   "outputs": [
    {
     "output_type": "stream",
     "name": "stdout",
     "text": "0.06848836718124363\n3\nチョキ\n"
    }
   ],
   "source": [
    "import random\n",
    "r = random.random()\n",
    "print(r)\n",
    "i = random.randint(1,6)\n",
    "print(i)\n",
    "jan = random.choice([\"グー\",\"チョキ\",\"パー\"])\n",
    "print(jan)"
   ]
  },
  {
   "cell_type": "code",
   "execution_count": 35,
   "metadata": {
    "tags": []
   },
   "outputs": [
    {
     "output_type": "stream",
     "name": "stdout",
     "text": "2\n66\n26\n47\n9\n37\n55\n78\n27\n97\n74\n20\n93\n57\n43\n91\n47\n69\n14\n88\n50\n49\n31\n62\n94\n89\n8\n36\n60\n51\n21\n21\n88\n95\n91\n99\n41\n14\n86\n100\n9\n27\n40\n79\n88\n89\n47\n19\n42\n85\n87\n67\n58\n39\n7\n58\n33\n32\n27\n80\n78\n15\n96\n46\n4\n27\n18\n33\n69\n48\n97\n75\n24\n22\n27\n37\n24\n51\n33\n13\n23\n10\n93\n30\n57\n15\n76\n69\n50\n13\n51\n28\n14\n2\n77\n95回目でレアキャラをゲット\n"
    }
   ],
   "source": [
    "import random\n",
    "cnt = 0\n",
    "while True:\n",
    "    r = random.randint(1,100)\n",
    "    print(r)\n",
    "    cnt = cnt + 1\n",
    "    if r == 77:\n",
    "        break\n",
    "print(str(cnt)+\"回目でレアキャラをゲット\")"
   ]
  },
  {
   "cell_type": "code",
   "execution_count": null,
   "metadata": {},
   "outputs": [],
   "source": [
    "QUESTION = [\n",
    "    \"サザエさんの旦那さんの名前は？\",\n",
    "    \"カツオの妹の名前は？\",\n",
    "    \"タラちゃんはカツオからみてどんな関係？\"\n",
    "]\n",
    "R_ANS = [\"マスオ\", \"ワカメ\", \"甥\"]\n",
    "for i in range(3):\n",
    "    print(QUESTION[i])\n",
    "    ans = input()\n",
    "    if ans == R_ANS[i]:\n",
    "        print(\"正解です\")\n",
    "    else:\n",
    "        print(\"不正解です\")"
   ]
  }
 ]
}